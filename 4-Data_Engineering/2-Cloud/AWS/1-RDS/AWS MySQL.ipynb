{
 "cells": [
  {
   "cell_type": "markdown",
   "metadata": {},
   "source": [
    "# AWS - RDS MySQL\n",
    "### Paquetes requeridos\n",
    "Librería de Python necesaria para establecer conexión a una base de datos MySQL"
   ]
  },
  {
   "cell_type": "code",
   "execution_count": null,
   "metadata": {},
   "outputs": [],
   "source": [
    "#!pip install PyMySQL"
   ]
  },
  {
   "cell_type": "markdown",
   "metadata": {},
   "source": [
    "### Credenciales\n",
    "Para acceder a la BD necesitaremos tres datos:\n",
    "1. Endpoint/host: la dirección donde se encuentra el servidor\n",
    "2. Usuario\n",
    "3. Contraseña"
   ]
  },
  {
   "cell_type": "code",
   "execution_count": null,
   "metadata": {},
   "outputs": [],
   "source": [
    "#import configparser\n",
    "\n",
    "# Cargar el archivo de configuración\n",
    "#config = configparser.ConfigParser()\n",
    "#config.read('config.ini')\n",
    "\n",
    "# Acceder a las configuraciones\n",
    "#username = config['Credentials']['username']\n",
    "#password = config['Credentials']['password']\n",
    "#host = config['Credentials']['host']\n",
    "#port = config['Credentials']['username']"
   ]
  },
  {
   "cell_type": "code",
   "execution_count": 8,
   "metadata": {},
   "outputs": [],
   "source": [
    "#host = \"database-1.cxis8miowlr9.us-east-1.rds.amazonaws.com\"\n",
    "host = \"paises.cyf4ek682uns.us-east-1.rds.amazonaws.com\"\n",
    "port = 3306\n"
   ]
  },
  {
   "cell_type": "code",
   "execution_count": 9,
   "metadata": {},
   "outputs": [],
   "source": [
    "username = \"admin\"\n",
    "password = \"0123456789\""
   ]
  },
  {
   "cell_type": "code",
   "execution_count": null,
   "metadata": {},
   "outputs": [],
   "source": [
    "#!pip install pymysql"
   ]
  },
  {
   "cell_type": "markdown",
   "metadata": {},
   "source": [
    "### Conexion BD"
   ]
  },
  {
   "cell_type": "code",
   "execution_count": 10,
   "metadata": {},
   "outputs": [],
   "source": [
    "import pymysql"
   ]
  },
  {
   "cell_type": "code",
   "execution_count": null,
   "metadata": {},
   "outputs": [],
   "source": [
    "#!python -m pip install pymysql"
   ]
  },
  {
   "cell_type": "code",
   "execution_count": 11,
   "metadata": {},
   "outputs": [],
   "source": [
    "'''\n",
    "pymysql.cursors.DictCursor para que los resultados que devuelva sean diccionarios,\n",
    "por defecto devuelve tuplas. Asi podemos acceder por clave a las columnas.\n",
    "'''\n",
    "\n",
    "db = pymysql.connect(host = host,\n",
    "                     user = username,\n",
    "                     password = password,\n",
    "                   #  cursorclass = pymysql.cursors.DictCursor\n",
    ")\n",
    "\n",
    "# El objeto cursor es el que ejecutará las queries y devolverá los resultados\n",
    "\n",
    "cursor = db.cursor()"
   ]
  },
  {
   "cell_type": "markdown",
   "metadata": {},
   "source": [
    "### Version DB"
   ]
  },
  {
   "cell_type": "code",
   "execution_count": 12,
   "metadata": {},
   "outputs": [
    {
     "name": "stdout",
     "output_type": "stream",
     "text": [
      "MySQL version: ('8.0.41',)\n"
     ]
    }
   ],
   "source": [
    "'''\n",
    "Este es el engine version de la BD de AWS\n",
    "fechtone trae la primera linea de la consulta\n",
    "El execute() devuelve el numero de filas a las que ha afectado la query,\n",
    "en este caso, devuelve una unica fila.\n",
    "\n",
    "Execute se guarda en la conexion pero hasta que no hacemos commit\n",
    "no se ejecutan las queries\n",
    "de insert de datos y esas cosas...\n",
    "'''\n",
    "\n",
    "cursor.execute('SELECT VERSION()')\n",
    "version = cursor.fetchone()\n",
    "print(f'MySQL version: {version}')"
   ]
  },
  {
   "cell_type": "markdown",
   "metadata": {},
   "source": [
    "### Creación de DB"
   ]
  },
  {
   "cell_type": "code",
   "execution_count": null,
   "metadata": {},
   "outputs": [],
   "source": [
    "# Creamos una BD. Tenemos una instancia de MySQL, pero no una BD\n",
    "# Los comandos de SQL  se suelen poner en mayuscula\n",
    "create_db = '''CREATE DATABASE country_database'''\n",
    "cursor.execute(create_db)\n",
    "\n",
    "# Podemos eliminar la BD\n",
    "# drop_db = '''DROP DATABASE country_database'''\n",
    "# cursor.execute(drop_db)\n",
    "\n",
    "# La volvemos a crear\n",
    "# cursor.execute(create_db)\n",
    "# el output es el numero de filas afectadas"
   ]
  },
  {
   "cell_type": "code",
   "execution_count": 13,
   "metadata": {},
   "outputs": [
    {
     "data": {
      "text/plain": [
       "(('country_database',),\n",
       " ('information_schema',),\n",
       " ('mysql',),\n",
       " ('performance_schema',),\n",
       " ('sys',))"
      ]
     },
     "execution_count": 13,
     "metadata": {},
     "output_type": "execute_result"
    }
   ],
   "source": [
    "cursor.execute('SHOW DATABASES')\n",
    "cursor.fetchall()"
   ]
  },
  {
   "cell_type": "markdown",
   "metadata": {},
   "source": [
    "### Creación de tablas"
   ]
  },
  {
   "cell_type": "code",
   "execution_count": null,
   "metadata": {},
   "outputs": [],
   "source": [
    "'''\n",
    "Creamos una tabla\n",
    "Esto da error porque no le hemos dicho al servidor qué BD\n",
    "queremos usar\n",
    "\n",
    "'''\n",
    "\n",
    "# crear una tabla que se llame country\n",
    "\n",
    "create_table = '''\n",
    "CREATE TABLE country (\n",
    "    id INT NOT NULL auto_increment,\n",
    "    name TEXT,\n",
    "    continent TEXT,\n",
    "    population INT,\n",
    "    gdp DOUBLE,\n",
    "    primary key (id)\n",
    ")\n",
    "'''\n",
    "cursor.execute(create_table)"
   ]
  },
  {
   "cell_type": "markdown",
   "metadata": {},
   "source": [
    "### Seleccionar la BD"
   ]
  },
  {
   "cell_type": "code",
   "execution_count": null,
   "metadata": {},
   "outputs": [],
   "source": [
    "# Para usar la BD  recien creada\n",
    "\n",
    "cursor.connection.commit()\n",
    "use_db = '''USE performance_schema'''\n",
    "cursor.execute(use_db)"
   ]
  },
  {
   "cell_type": "code",
   "execution_count": 14,
   "metadata": {},
   "outputs": [
    {
     "data": {
      "text/plain": [
       "0"
      ]
     },
     "execution_count": 14,
     "metadata": {},
     "output_type": "execute_result"
    }
   ],
   "source": [
    "# Para usar la BD  recien creada\n",
    "\n",
    "cursor.connection.commit()\n",
    "use_db = '''USE country_database'''\n",
    "cursor.execute(use_db)"
   ]
  },
  {
   "cell_type": "code",
   "execution_count": 15,
   "metadata": {},
   "outputs": [
    {
     "data": {
      "text/plain": [
       "(('country',),)"
      ]
     },
     "execution_count": 15,
     "metadata": {},
     "output_type": "execute_result"
    }
   ],
   "source": [
    "# checkear todas las tablas que tiene mi db\n",
    "cursor.execute('SHOW TABLES')\n",
    "cursor.fetchall()"
   ]
  },
  {
   "cell_type": "code",
   "execution_count": null,
   "metadata": {},
   "outputs": [],
   "source": [
    "\n",
    "# drop_table = '''DROP TABLE country'''\n",
    "# cursor.execute(drop_table)\n"
   ]
  },
  {
   "cell_type": "code",
   "execution_count": null,
   "metadata": {},
   "outputs": [],
   "source": [
    "'''\n",
    "Creamos una tabla\n",
    "Esto da error porque no le hemos dicho al servidor qué BD\n",
    "queremos usar\n",
    "\n",
    "'''\n",
    "\n",
    "# crear una tabla que se llame country\n",
    "\n",
    "create_table = '''\n",
    "CREATE TABLE country (\n",
    "    id INT NOT NULL auto_increment,\n",
    "    name TEXT,\n",
    "    continent TEXT,\n",
    "    population INT,\n",
    "    gdp DOUBLE,\n",
    "    primary key (id)\n",
    ")\n",
    "'''\n",
    "cursor.execute(create_table)"
   ]
  },
  {
   "cell_type": "markdown",
   "metadata": {},
   "source": [
    "### Insertar datos"
   ]
  },
  {
   "cell_type": "code",
   "execution_count": 16,
   "metadata": {},
   "outputs": [
    {
     "data": {
      "text/plain": [
       "1"
      ]
     },
     "execution_count": 16,
     "metadata": {},
     "output_type": "execute_result"
    }
   ],
   "source": [
    "insert_data = '''\n",
    "INSERT INTO country (name, continent, population, gdp)\n",
    "VALUES ('Spain', 'Europe', 47, 1.74)\n",
    "'''\n",
    "cursor.execute(insert_data)"
   ]
  },
  {
   "cell_type": "code",
   "execution_count": 18,
   "metadata": {},
   "outputs": [],
   "source": [
    "name = 'France'\n",
    "continent = 'Europe'\n",
    "population = 54\n",
    "gdp = 2"
   ]
  },
  {
   "cell_type": "code",
   "execution_count": 19,
   "metadata": {},
   "outputs": [
    {
     "data": {
      "text/plain": [
       "1"
      ]
     },
     "execution_count": 19,
     "metadata": {},
     "output_type": "execute_result"
    }
   ],
   "source": [
    "insert_data = '''\n",
    "INSERT INTO country (name, continent, population, gdp)\n",
    "VALUES ('%s', '%s', '%s', '%s')\n",
    "''' % (name,continent,population,gdp)\n",
    "\n",
    "cursor.execute(insert_data)"
   ]
  },
  {
   "cell_type": "markdown",
   "metadata": {},
   "source": [
    "### Leer datos"
   ]
  },
  {
   "cell_type": "code",
   "execution_count": 20,
   "metadata": {},
   "outputs": [
    {
     "data": {
      "text/plain": [
       "2"
      ]
     },
     "execution_count": 20,
     "metadata": {},
     "output_type": "execute_result"
    }
   ],
   "source": [
    "sql = '''SELECT * FROM country'''\n",
    "cursor.execute(sql)"
   ]
  },
  {
   "cell_type": "code",
   "execution_count": 21,
   "metadata": {},
   "outputs": [
    {
     "data": {
      "text/plain": [
       "2"
      ]
     },
     "execution_count": 21,
     "metadata": {},
     "output_type": "execute_result"
    }
   ],
   "source": [
    "mi_lista = cursor.fetchall()\n",
    "len(mi_lista)"
   ]
  },
  {
   "cell_type": "code",
   "execution_count": 22,
   "metadata": {},
   "outputs": [
    {
     "data": {
      "text/plain": [
       "((1, 'Spain', 'Europe', 47, 1.74), (2, 'France', 'Europe', 54, 2.0))"
      ]
     },
     "execution_count": 22,
     "metadata": {},
     "output_type": "execute_result"
    }
   ],
   "source": [
    "mi_lista"
   ]
  },
  {
   "cell_type": "markdown",
   "metadata": {},
   "source": [
    "### Guardar los cambios\n",
    "Hay que ejecutar el commit antes de cerrar la sesión de la BD para que se guarden todos los cambios"
   ]
  },
  {
   "cell_type": "code",
   "execution_count": 24,
   "metadata": {},
   "outputs": [],
   "source": [
    "db.commit()"
   ]
  },
  {
   "cell_type": "markdown",
   "metadata": {},
   "source": [
    "### Excepciones\n",
    "Se recomienda rodear este tipo de sentencias con un try/except, ya que suele ser software productivo y tiene que saber manejar fallos"
   ]
  },
  {
   "cell_type": "code",
   "execution_count": 25,
   "metadata": {},
   "outputs": [
    {
     "name": "stdout",
     "output_type": "stream",
     "text": [
      "((1, 'Spain', 'Europe', 47, 1.74), (2, 'France', 'Europe', 54, 2.0))\n",
      "Proceso finalizado\n"
     ]
    }
   ],
   "source": [
    "sql = '''SELECT * FROM country'''\n",
    "cursor.execute(sql)\n",
    "print(cursor.fetchall())\n",
    "print('Proceso finalizado')"
   ]
  },
  {
   "cell_type": "code",
   "execution_count": 26,
   "metadata": {},
   "outputs": [
    {
     "name": "stdout",
     "output_type": "stream",
     "text": [
      "(1146, \"Table 'country_database.countryy' doesn't exist\")\n",
      "Proceso finalizado\n"
     ]
    }
   ],
   "source": [
    "try:\n",
    "    sql = '''SELECT * FROM countryy'''\n",
    "    cursor.execute(sql)\n",
    "    print(cursor.fetchall())\n",
    "except Exception as e:\n",
    "    print(e)\n",
    "\n",
    "print('Proceso finalizado')"
   ]
  }
 ],
 "metadata": {
  "kernelspec": {
   "display_name": "Python 3",
   "language": "python",
   "name": "python3"
  },
  "language_info": {
   "codemirror_mode": {
    "name": "ipython",
    "version": 3
   },
   "file_extension": ".py",
   "mimetype": "text/x-python",
   "name": "python",
   "nbconvert_exporter": "python",
   "pygments_lexer": "ipython3",
   "version": "3.11.9"
  }
 },
 "nbformat": 4,
 "nbformat_minor": 4
}
