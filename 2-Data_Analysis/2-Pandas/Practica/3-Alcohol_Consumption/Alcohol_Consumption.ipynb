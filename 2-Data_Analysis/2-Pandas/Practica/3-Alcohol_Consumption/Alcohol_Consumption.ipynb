{
 "cells": [
  {
   "attachments": {},
   "cell_type": "markdown",
   "metadata": {},
   "source": [
    "# Ex - GroupBy"
   ]
  },
  {
   "cell_type": "code",
   "execution_count": 2,
   "metadata": {},
   "outputs": [],
   "source": [
    "import pandas as pd\n",
    "import numpy as np"
   ]
  },
  {
   "attachments": {},
   "cell_type": "markdown",
   "metadata": {},
   "source": [
    "### Step 2. Import the dataset from this [address](https://raw.githubusercontent.com/justmarkham/DAT8/master/data/drinks.csv). "
   ]
  },
  {
   "attachments": {},
   "cell_type": "markdown",
   "metadata": {},
   "source": [
    "### Step 3. Assign it to a variable called drinks."
   ]
  },
  {
   "cell_type": "code",
   "execution_count": 3,
   "metadata": {},
   "outputs": [
    {
     "data": {
      "application/vnd.microsoft.datawrangler.viewer.v0+json": {
       "columns": [
        {
         "name": "index",
         "rawType": "int64",
         "type": "integer"
        },
        {
         "name": "country",
         "rawType": "object",
         "type": "string"
        },
        {
         "name": "beer_servings",
         "rawType": "int64",
         "type": "integer"
        },
        {
         "name": "spirit_servings",
         "rawType": "int64",
         "type": "integer"
        },
        {
         "name": "wine_servings",
         "rawType": "int64",
         "type": "integer"
        },
        {
         "name": "total_litres_of_pure_alcohol",
         "rawType": "float64",
         "type": "float"
        },
        {
         "name": "continent",
         "rawType": "object",
         "type": "unknown"
        }
       ],
       "conversionMethod": "pd.DataFrame",
       "ref": "511438b4-94df-4f14-8ebe-486038b2f977",
       "rows": [
        [
         "0",
         "Afghanistan",
         "0",
         "0",
         "0",
         "0.0",
         "AS"
        ],
        [
         "1",
         "Albania",
         "89",
         "132",
         "54",
         "4.9",
         "EU"
        ],
        [
         "2",
         "Algeria",
         "25",
         "0",
         "14",
         "0.7",
         "AF"
        ],
        [
         "3",
         "Andorra",
         "245",
         "138",
         "312",
         "12.4",
         "EU"
        ],
        [
         "4",
         "Angola",
         "217",
         "57",
         "45",
         "5.9",
         "AF"
        ],
        [
         "5",
         "Antigua & Barbuda",
         "102",
         "128",
         "45",
         "4.9",
         null
        ],
        [
         "6",
         "Argentina",
         "193",
         "25",
         "221",
         "8.3",
         "SA"
        ],
        [
         "7",
         "Armenia",
         "21",
         "179",
         "11",
         "3.8",
         "EU"
        ],
        [
         "8",
         "Australia",
         "261",
         "72",
         "212",
         "10.4",
         "OC"
        ],
        [
         "9",
         "Austria",
         "279",
         "75",
         "191",
         "9.7",
         "EU"
        ],
        [
         "10",
         "Azerbaijan",
         "21",
         "46",
         "5",
         "1.3",
         "EU"
        ],
        [
         "11",
         "Bahamas",
         "122",
         "176",
         "51",
         "6.3",
         null
        ],
        [
         "12",
         "Bahrain",
         "42",
         "63",
         "7",
         "2.0",
         "AS"
        ],
        [
         "13",
         "Bangladesh",
         "0",
         "0",
         "0",
         "0.0",
         "AS"
        ],
        [
         "14",
         "Barbados",
         "143",
         "173",
         "36",
         "6.3",
         null
        ],
        [
         "15",
         "Belarus",
         "142",
         "373",
         "42",
         "14.4",
         "EU"
        ],
        [
         "16",
         "Belgium",
         "295",
         "84",
         "212",
         "10.5",
         "EU"
        ],
        [
         "17",
         "Belize",
         "263",
         "114",
         "8",
         "6.8",
         null
        ],
        [
         "18",
         "Benin",
         "34",
         "4",
         "13",
         "1.1",
         "AF"
        ],
        [
         "19",
         "Bhutan",
         "23",
         "0",
         "0",
         "0.4",
         "AS"
        ],
        [
         "20",
         "Bolivia",
         "167",
         "41",
         "8",
         "3.8",
         "SA"
        ],
        [
         "21",
         "Bosnia-Herzegovina",
         "76",
         "173",
         "8",
         "4.6",
         "EU"
        ],
        [
         "22",
         "Botswana",
         "173",
         "35",
         "35",
         "5.4",
         "AF"
        ],
        [
         "23",
         "Brazil",
         "245",
         "145",
         "16",
         "7.2",
         "SA"
        ],
        [
         "24",
         "Brunei",
         "31",
         "2",
         "1",
         "0.6",
         "AS"
        ],
        [
         "25",
         "Bulgaria",
         "231",
         "252",
         "94",
         "10.3",
         "EU"
        ],
        [
         "26",
         "Burkina Faso",
         "25",
         "7",
         "7",
         "4.3",
         "AF"
        ],
        [
         "27",
         "Burundi",
         "88",
         "0",
         "0",
         "6.3",
         "AF"
        ],
        [
         "28",
         "Cote d'Ivoire",
         "37",
         "1",
         "7",
         "4.0",
         "AF"
        ],
        [
         "29",
         "Cabo Verde",
         "144",
         "56",
         "16",
         "4.0",
         "AF"
        ],
        [
         "30",
         "Cambodia",
         "57",
         "65",
         "1",
         "2.2",
         "AS"
        ],
        [
         "31",
         "Cameroon",
         "147",
         "1",
         "4",
         "5.8",
         "AF"
        ],
        [
         "32",
         "Canada",
         "240",
         "122",
         "100",
         "8.2",
         null
        ],
        [
         "33",
         "Central African Republic",
         "17",
         "2",
         "1",
         "1.8",
         "AF"
        ],
        [
         "34",
         "Chad",
         "15",
         "1",
         "1",
         "0.4",
         "AF"
        ],
        [
         "35",
         "Chile",
         "130",
         "124",
         "172",
         "7.6",
         "SA"
        ],
        [
         "36",
         "China",
         "79",
         "192",
         "8",
         "5.0",
         "AS"
        ],
        [
         "37",
         "Colombia",
         "159",
         "76",
         "3",
         "4.2",
         "SA"
        ],
        [
         "38",
         "Comoros",
         "1",
         "3",
         "1",
         "0.1",
         "AF"
        ],
        [
         "39",
         "Congo",
         "76",
         "1",
         "9",
         "1.7",
         "AF"
        ],
        [
         "40",
         "Cook Islands",
         "0",
         "254",
         "74",
         "5.9",
         "OC"
        ],
        [
         "41",
         "Costa Rica",
         "149",
         "87",
         "11",
         "4.4",
         null
        ],
        [
         "42",
         "Croatia",
         "230",
         "87",
         "254",
         "10.2",
         "EU"
        ],
        [
         "43",
         "Cuba",
         "93",
         "137",
         "5",
         "4.2",
         null
        ],
        [
         "44",
         "Cyprus",
         "192",
         "154",
         "113",
         "8.2",
         "EU"
        ],
        [
         "45",
         "Czech Republic",
         "361",
         "170",
         "134",
         "11.8",
         "EU"
        ],
        [
         "46",
         "North Korea",
         "0",
         "0",
         "0",
         "0.0",
         "AS"
        ],
        [
         "47",
         "DR Congo",
         "32",
         "3",
         "1",
         "2.3",
         "AF"
        ],
        [
         "48",
         "Denmark",
         "224",
         "81",
         "278",
         "10.4",
         "EU"
        ],
        [
         "49",
         "Djibouti",
         "15",
         "44",
         "3",
         "1.1",
         "AF"
        ]
       ],
       "shape": {
        "columns": 6,
        "rows": 193
       }
      },
      "text/html": [
       "<div>\n",
       "<style scoped>\n",
       "    .dataframe tbody tr th:only-of-type {\n",
       "        vertical-align: middle;\n",
       "    }\n",
       "\n",
       "    .dataframe tbody tr th {\n",
       "        vertical-align: top;\n",
       "    }\n",
       "\n",
       "    .dataframe thead th {\n",
       "        text-align: right;\n",
       "    }\n",
       "</style>\n",
       "<table border=\"1\" class=\"dataframe\">\n",
       "  <thead>\n",
       "    <tr style=\"text-align: right;\">\n",
       "      <th></th>\n",
       "      <th>country</th>\n",
       "      <th>beer_servings</th>\n",
       "      <th>spirit_servings</th>\n",
       "      <th>wine_servings</th>\n",
       "      <th>total_litres_of_pure_alcohol</th>\n",
       "      <th>continent</th>\n",
       "    </tr>\n",
       "  </thead>\n",
       "  <tbody>\n",
       "    <tr>\n",
       "      <th>0</th>\n",
       "      <td>Afghanistan</td>\n",
       "      <td>0</td>\n",
       "      <td>0</td>\n",
       "      <td>0</td>\n",
       "      <td>0.0</td>\n",
       "      <td>AS</td>\n",
       "    </tr>\n",
       "    <tr>\n",
       "      <th>1</th>\n",
       "      <td>Albania</td>\n",
       "      <td>89</td>\n",
       "      <td>132</td>\n",
       "      <td>54</td>\n",
       "      <td>4.9</td>\n",
       "      <td>EU</td>\n",
       "    </tr>\n",
       "    <tr>\n",
       "      <th>2</th>\n",
       "      <td>Algeria</td>\n",
       "      <td>25</td>\n",
       "      <td>0</td>\n",
       "      <td>14</td>\n",
       "      <td>0.7</td>\n",
       "      <td>AF</td>\n",
       "    </tr>\n",
       "    <tr>\n",
       "      <th>3</th>\n",
       "      <td>Andorra</td>\n",
       "      <td>245</td>\n",
       "      <td>138</td>\n",
       "      <td>312</td>\n",
       "      <td>12.4</td>\n",
       "      <td>EU</td>\n",
       "    </tr>\n",
       "    <tr>\n",
       "      <th>4</th>\n",
       "      <td>Angola</td>\n",
       "      <td>217</td>\n",
       "      <td>57</td>\n",
       "      <td>45</td>\n",
       "      <td>5.9</td>\n",
       "      <td>AF</td>\n",
       "    </tr>\n",
       "    <tr>\n",
       "      <th>...</th>\n",
       "      <td>...</td>\n",
       "      <td>...</td>\n",
       "      <td>...</td>\n",
       "      <td>...</td>\n",
       "      <td>...</td>\n",
       "      <td>...</td>\n",
       "    </tr>\n",
       "    <tr>\n",
       "      <th>188</th>\n",
       "      <td>Venezuela</td>\n",
       "      <td>333</td>\n",
       "      <td>100</td>\n",
       "      <td>3</td>\n",
       "      <td>7.7</td>\n",
       "      <td>SA</td>\n",
       "    </tr>\n",
       "    <tr>\n",
       "      <th>189</th>\n",
       "      <td>Vietnam</td>\n",
       "      <td>111</td>\n",
       "      <td>2</td>\n",
       "      <td>1</td>\n",
       "      <td>2.0</td>\n",
       "      <td>AS</td>\n",
       "    </tr>\n",
       "    <tr>\n",
       "      <th>190</th>\n",
       "      <td>Yemen</td>\n",
       "      <td>6</td>\n",
       "      <td>0</td>\n",
       "      <td>0</td>\n",
       "      <td>0.1</td>\n",
       "      <td>AS</td>\n",
       "    </tr>\n",
       "    <tr>\n",
       "      <th>191</th>\n",
       "      <td>Zambia</td>\n",
       "      <td>32</td>\n",
       "      <td>19</td>\n",
       "      <td>4</td>\n",
       "      <td>2.5</td>\n",
       "      <td>AF</td>\n",
       "    </tr>\n",
       "    <tr>\n",
       "      <th>192</th>\n",
       "      <td>Zimbabwe</td>\n",
       "      <td>64</td>\n",
       "      <td>18</td>\n",
       "      <td>4</td>\n",
       "      <td>4.7</td>\n",
       "      <td>AF</td>\n",
       "    </tr>\n",
       "  </tbody>\n",
       "</table>\n",
       "<p>193 rows × 6 columns</p>\n",
       "</div>"
      ],
      "text/plain": [
       "         country  beer_servings  spirit_servings  wine_servings  \\\n",
       "0    Afghanistan              0                0              0   \n",
       "1        Albania             89              132             54   \n",
       "2        Algeria             25                0             14   \n",
       "3        Andorra            245              138            312   \n",
       "4         Angola            217               57             45   \n",
       "..           ...            ...              ...            ...   \n",
       "188    Venezuela            333              100              3   \n",
       "189      Vietnam            111                2              1   \n",
       "190        Yemen              6                0              0   \n",
       "191       Zambia             32               19              4   \n",
       "192     Zimbabwe             64               18              4   \n",
       "\n",
       "     total_litres_of_pure_alcohol continent  \n",
       "0                             0.0        AS  \n",
       "1                             4.9        EU  \n",
       "2                             0.7        AF  \n",
       "3                            12.4        EU  \n",
       "4                             5.9        AF  \n",
       "..                            ...       ...  \n",
       "188                           7.7        SA  \n",
       "189                           2.0        AS  \n",
       "190                           0.1        AS  \n",
       "191                           2.5        AF  \n",
       "192                           4.7        AF  \n",
       "\n",
       "[193 rows x 6 columns]"
      ]
     },
     "execution_count": 3,
     "metadata": {},
     "output_type": "execute_result"
    }
   ],
   "source": [
    "url = \"https://raw.githubusercontent.com/justmarkham/DAT8/master/data/drinks.csv\"\n",
    "\n",
    "drinks = pd.read_csv(url)\n",
    "drinks"
   ]
  },
  {
   "attachments": {
    "image.png": {
     "image/png": "[encoded data removed]"
    }
   },
   "cell_type": "markdown",
   "metadata": {},
   "source": [
    "![image.png](attachment:image.png)"
   ]
  },
  {
   "attachments": {
    "image.png": {
     "image/png": "[encoded data removed]"
    }
   },
   "cell_type": "markdown",
   "metadata": {},
   "source": [
    "![image.png](attachment:image.png)"
   ]
  },
  {
   "cell_type": "code",
   "execution_count": 39,
   "metadata": {},
   "outputs": [
    {
     "name": "stdout",
     "output_type": "stream",
     "text": [
      "<class 'pandas.core.frame.DataFrame'>\n",
      "RangeIndex: 193 entries, 0 to 192\n",
      "Data columns (total 6 columns):\n",
      " #   Column                        Non-Null Count  Dtype  \n",
      "---  ------                        --------------  -----  \n",
      " 0   country                       193 non-null    object \n",
      " 1   beer_servings                 193 non-null    int64  \n",
      " 2   spirit_servings               193 non-null    int64  \n",
      " 3   wine_servings                 193 non-null    int64  \n",
      " 4   total_litres_of_pure_alcohol  193 non-null    float64\n",
      " 5   continent                     170 non-null    object \n",
      "dtypes: float64(1), int64(3), object(2)\n",
      "memory usage: 9.2+ KB\n"
     ]
    }
   ],
   "source": [
    "drinks.info()"
   ]
  },
  {
   "cell_type": "code",
   "execution_count": 40,
   "metadata": {},
   "outputs": [
    {
     "data": {
      "application/vnd.microsoft.datawrangler.viewer.v0+json": {
       "columns": [
        {
         "name": "index",
         "rawType": "object",
         "type": "string"
        },
        {
         "name": "country",
         "rawType": "object",
         "type": "unknown"
        },
        {
         "name": "beer_servings",
         "rawType": "float64",
         "type": "float"
        },
        {
         "name": "spirit_servings",
         "rawType": "float64",
         "type": "float"
        },
        {
         "name": "wine_servings",
         "rawType": "float64",
         "type": "float"
        },
        {
         "name": "total_litres_of_pure_alcohol",
         "rawType": "float64",
         "type": "float"
        },
        {
         "name": "continent",
         "rawType": "object",
         "type": "unknown"
        }
       ],
       "conversionMethod": "pd.DataFrame",
       "ref": "3bac23ef-8bcc-41a7-b542-251faa82566f",
       "rows": [
        [
         "count",
         "193",
         "193.0",
         "193.0",
         "193.0",
         "193.0",
         "170"
        ],
        [
         "unique",
         "193",
         null,
         null,
         null,
         null,
         "5"
        ],
        [
         "top",
         "Afghanistan",
         null,
         null,
         null,
         null,
         "AF"
        ],
        [
         "freq",
         "1",
         null,
         null,
         null,
         null,
         "53"
        ],
        [
         "mean",
         null,
         "106.16062176165804",
         "80.99481865284974",
         "49.45077720207254",
         "4.717098445595855",
         null
        ],
        [
         "std",
         null,
         "101.1431025393134",
         "88.2843121096862",
         "79.6975984576301",
         "3.7732981643560835",
         null
        ],
        [
         "min",
         null,
         "0.0",
         "0.0",
         "0.0",
         "0.0",
         null
        ],
        [
         "25%",
         null,
         "20.0",
         "4.0",
         "1.0",
         "1.3",
         null
        ],
        [
         "50%",
         null,
         "76.0",
         "56.0",
         "8.0",
         "4.2",
         null
        ],
        [
         "75%",
         null,
         "188.0",
         "128.0",
         "59.0",
         "7.2",
         null
        ],
        [
         "max",
         null,
         "376.0",
         "438.0",
         "370.0",
         "14.4",
         null
        ]
       ],
       "shape": {
        "columns": 6,
        "rows": 11
       }
      },
      "text/html": [
       "<div>\n",
       "<style scoped>\n",
       "    .dataframe tbody tr th:only-of-type {\n",
       "        vertical-align: middle;\n",
       "    }\n",
       "\n",
       "    .dataframe tbody tr th {\n",
       "        vertical-align: top;\n",
       "    }\n",
       "\n",
       "    .dataframe thead th {\n",
       "        text-align: right;\n",
       "    }\n",
       "</style>\n",
       "<table border=\"1\" class=\"dataframe\">\n",
       "  <thead>\n",
       "    <tr style=\"text-align: right;\">\n",
       "      <th></th>\n",
       "      <th>country</th>\n",
       "      <th>beer_servings</th>\n",
       "      <th>spirit_servings</th>\n",
       "      <th>wine_servings</th>\n",
       "      <th>total_litres_of_pure_alcohol</th>\n",
       "      <th>continent</th>\n",
       "    </tr>\n",
       "  </thead>\n",
       "  <tbody>\n",
       "    <tr>\n",
       "      <th>count</th>\n",
       "      <td>193</td>\n",
       "      <td>193.000000</td>\n",
       "      <td>193.000000</td>\n",
       "      <td>193.000000</td>\n",
       "      <td>193.000000</td>\n",
       "      <td>170</td>\n",
       "    </tr>\n",
       "    <tr>\n",
       "      <th>unique</th>\n",
       "      <td>193</td>\n",
       "      <td>NaN</td>\n",
       "      <td>NaN</td>\n",
       "      <td>NaN</td>\n",
       "      <td>NaN</td>\n",
       "      <td>5</td>\n",
       "    </tr>\n",
       "    <tr>\n",
       "      <th>top</th>\n",
       "      <td>Afghanistan</td>\n",
       "      <td>NaN</td>\n",
       "      <td>NaN</td>\n",
       "      <td>NaN</td>\n",
       "      <td>NaN</td>\n",
       "      <td>AF</td>\n",
       "    </tr>\n",
       "    <tr>\n",
       "      <th>freq</th>\n",
       "      <td>1</td>\n",
       "      <td>NaN</td>\n",
       "      <td>NaN</td>\n",
       "      <td>NaN</td>\n",
       "      <td>NaN</td>\n",
       "      <td>53</td>\n",
       "    </tr>\n",
       "    <tr>\n",
       "      <th>mean</th>\n",
       "      <td>NaN</td>\n",
       "      <td>106.160622</td>\n",
       "      <td>80.994819</td>\n",
       "      <td>49.450777</td>\n",
       "      <td>4.717098</td>\n",
       "      <td>NaN</td>\n",
       "    </tr>\n",
       "    <tr>\n",
       "      <th>std</th>\n",
       "      <td>NaN</td>\n",
       "      <td>101.143103</td>\n",
       "      <td>88.284312</td>\n",
       "      <td>79.697598</td>\n",
       "      <td>3.773298</td>\n",
       "      <td>NaN</td>\n",
       "    </tr>\n",
       "    <tr>\n",
       "      <th>min</th>\n",
       "      <td>NaN</td>\n",
       "      <td>0.000000</td>\n",
       "      <td>0.000000</td>\n",
       "      <td>0.000000</td>\n",
       "      <td>0.000000</td>\n",
       "      <td>NaN</td>\n",
       "    </tr>\n",
       "    <tr>\n",
       "      <th>25%</th>\n",
       "      <td>NaN</td>\n",
       "      <td>20.000000</td>\n",
       "      <td>4.000000</td>\n",
       "      <td>1.000000</td>\n",
       "      <td>1.300000</td>\n",
       "      <td>NaN</td>\n",
       "    </tr>\n",
       "    <tr>\n",
       "      <th>50%</th>\n",
       "      <td>NaN</td>\n",
       "      <td>76.000000</td>\n",
       "      <td>56.000000</td>\n",
       "      <td>8.000000</td>\n",
       "      <td>4.200000</td>\n",
       "      <td>NaN</td>\n",
       "    </tr>\n",
       "    <tr>\n",
       "      <th>75%</th>\n",
       "      <td>NaN</td>\n",
       "      <td>188.000000</td>\n",
       "      <td>128.000000</td>\n",
       "      <td>59.000000</td>\n",
       "      <td>7.200000</td>\n",
       "      <td>NaN</td>\n",
       "    </tr>\n",
       "    <tr>\n",
       "      <th>max</th>\n",
       "      <td>NaN</td>\n",
       "      <td>376.000000</td>\n",
       "      <td>438.000000</td>\n",
       "      <td>370.000000</td>\n",
       "      <td>14.400000</td>\n",
       "      <td>NaN</td>\n",
       "    </tr>\n",
       "  </tbody>\n",
       "</table>\n",
       "</div>"
      ],
      "text/plain": [
       "            country  beer_servings  spirit_servings  wine_servings  \\\n",
       "count           193     193.000000       193.000000     193.000000   \n",
       "unique          193            NaN              NaN            NaN   \n",
       "top     Afghanistan            NaN              NaN            NaN   \n",
       "freq              1            NaN              NaN            NaN   \n",
       "mean            NaN     106.160622        80.994819      49.450777   \n",
       "std             NaN     101.143103        88.284312      79.697598   \n",
       "min             NaN       0.000000         0.000000       0.000000   \n",
       "25%             NaN      20.000000         4.000000       1.000000   \n",
       "50%             NaN      76.000000        56.000000       8.000000   \n",
       "75%             NaN     188.000000       128.000000      59.000000   \n",
       "max             NaN     376.000000       438.000000     370.000000   \n",
       "\n",
       "        total_litres_of_pure_alcohol continent  \n",
       "count                     193.000000       170  \n",
       "unique                           NaN         5  \n",
       "top                              NaN        AF  \n",
       "freq                             NaN        53  \n",
       "mean                        4.717098       NaN  \n",
       "std                         3.773298       NaN  \n",
       "min                         0.000000       NaN  \n",
       "25%                         1.300000       NaN  \n",
       "50%                         4.200000       NaN  \n",
       "75%                         7.200000       NaN  \n",
       "max                        14.400000       NaN  "
      ]
     },
     "execution_count": 40,
     "metadata": {},
     "output_type": "execute_result"
    }
   ],
   "source": [
    "drinks.describe(include=\"all\")"
   ]
  },
  {
   "cell_type": "code",
   "execution_count": 4,
   "metadata": {},
   "outputs": [
    {
     "data": {
      "text/plain": [
       "5                 Antigua & Barbuda\n",
       "11                          Bahamas\n",
       "14                         Barbados\n",
       "17                           Belize\n",
       "32                           Canada\n",
       "41                       Costa Rica\n",
       "43                             Cuba\n",
       "50                         Dominica\n",
       "51               Dominican Republic\n",
       "54                      El Salvador\n",
       "68                          Grenada\n",
       "69                        Guatemala\n",
       "73                            Haiti\n",
       "74                         Honduras\n",
       "84                          Jamaica\n",
       "109                          Mexico\n",
       "122                       Nicaragua\n",
       "130                          Panama\n",
       "143               St. Kitts & Nevis\n",
       "144                       St. Lucia\n",
       "145    St. Vincent & the Grenadines\n",
       "174               Trinidad & Tobago\n",
       "184                             USA\n",
       "Name: country, dtype: object"
      ]
     },
     "execution_count": 4,
     "metadata": {},
     "output_type": "execute_result"
    }
   ],
   "source": [
    "drinks.loc[drinks[\"continent\"].isna(),\"country\"]"
   ]
  },
  {
   "cell_type": "code",
   "execution_count": 8,
   "metadata": {},
   "outputs": [],
   "source": [
    "drinks.loc[drinks[\"continent\"].isna(),\"country\"].fillna(\"NA\",inplace=True)"
   ]
  },
  {
   "cell_type": "code",
   "execution_count": 9,
   "metadata": {},
   "outputs": [
    {
     "name": "stdout",
     "output_type": "stream",
     "text": [
      "<class 'pandas.core.frame.DataFrame'>\n",
      "RangeIndex: 193 entries, 0 to 192\n",
      "Data columns (total 6 columns):\n",
      " #   Column                        Non-Null Count  Dtype  \n",
      "---  ------                        --------------  -----  \n",
      " 0   country                       193 non-null    object \n",
      " 1   beer_servings                 193 non-null    int64  \n",
      " 2   spirit_servings               193 non-null    int64  \n",
      " 3   wine_servings                 193 non-null    int64  \n",
      " 4   total_litres_of_pure_alcohol  193 non-null    float64\n",
      " 5   continent                     170 non-null    object \n",
      "dtypes: float64(1), int64(3), object(2)\n",
      "memory usage: 9.2+ KB\n"
     ]
    }
   ],
   "source": [
    "drinks.info()"
   ]
  },
  {
   "cell_type": "code",
   "execution_count": 10,
   "metadata": {},
   "outputs": [],
   "source": [
    "drinks[\"Columna Tonta\"] = \"NA\""
   ]
  },
  {
   "cell_type": "code",
   "execution_count": 11,
   "metadata": {},
   "outputs": [
    {
     "data": {
      "application/vnd.microsoft.datawrangler.viewer.v0+json": {
       "columns": [
        {
         "name": "index",
         "rawType": "int64",
         "type": "integer"
        },
        {
         "name": "country",
         "rawType": "object",
         "type": "string"
        },
        {
         "name": "beer_servings",
         "rawType": "int64",
         "type": "integer"
        },
        {
         "name": "spirit_servings",
         "rawType": "int64",
         "type": "integer"
        },
        {
         "name": "wine_servings",
         "rawType": "int64",
         "type": "integer"
        },
        {
         "name": "total_litres_of_pure_alcohol",
         "rawType": "float64",
         "type": "float"
        },
        {
         "name": "continent",
         "rawType": "object",
         "type": "unknown"
        },
        {
         "name": "Columna Tonta",
         "rawType": "object",
         "type": "string"
        }
       ],
       "conversionMethod": "pd.DataFrame",
       "ref": "478cf342-8329-4a79-a814-cb7234473b1d",
       "rows": [
        [
         "0",
         "Afghanistan",
         "0",
         "0",
         "0",
         "0.0",
         "AS",
         "NA"
        ],
        [
         "1",
         "Albania",
         "89",
         "132",
         "54",
         "4.9",
         "EU",
         "NA"
        ],
        [
         "2",
         "Algeria",
         "25",
         "0",
         "14",
         "0.7",
         "AF",
         "NA"
        ],
        [
         "3",
         "Andorra",
         "245",
         "138",
         "312",
         "12.4",
         "EU",
         "NA"
        ],
        [
         "4",
         "Angola",
         "217",
         "57",
         "45",
         "5.9",
         "AF",
         "NA"
        ],
        [
         "5",
         "NA",
         "102",
         "128",
         "45",
         "4.9",
         null,
         "NA"
        ],
        [
         "6",
         "Argentina",
         "193",
         "25",
         "221",
         "8.3",
         "SA",
         "NA"
        ],
        [
         "7",
         "Armenia",
         "21",
         "179",
         "11",
         "3.8",
         "EU",
         "NA"
        ],
        [
         "8",
         "Australia",
         "261",
         "72",
         "212",
         "10.4",
         "OC",
         "NA"
        ],
        [
         "9",
         "Austria",
         "279",
         "75",
         "191",
         "9.7",
         "EU",
         "NA"
        ],
        [
         "10",
         "Azerbaijan",
         "21",
         "46",
         "5",
         "1.3",
         "EU",
         "NA"
        ],
        [
         "11",
         "NA",
         "122",
         "176",
         "51",
         "6.3",
         null,
         "NA"
        ],
        [
         "12",
         "Bahrain",
         "42",
         "63",
         "7",
         "2.0",
         "AS",
         "NA"
        ],
        [
         "13",
         "Bangladesh",
         "0",
         "0",
         "0",
         "0.0",
         "AS",
         "NA"
        ],
        [
         "14",
         "NA",
         "143",
         "173",
         "36",
         "6.3",
         null,
         "NA"
        ],
        [
         "15",
         "Belarus",
         "142",
         "373",
         "42",
         "14.4",
         "EU",
         "NA"
        ],
        [
         "16",
         "Belgium",
         "295",
         "84",
         "212",
         "10.5",
         "EU",
         "NA"
        ],
        [
         "17",
         "NA",
         "263",
         "114",
         "8",
         "6.8",
         null,
         "NA"
        ],
        [
         "18",
         "Benin",
         "34",
         "4",
         "13",
         "1.1",
         "AF",
         "NA"
        ],
        [
         "19",
         "Bhutan",
         "23",
         "0",
         "0",
         "0.4",
         "AS",
         "NA"
        ],
        [
         "20",
         "Bolivia",
         "167",
         "41",
         "8",
         "3.8",
         "SA",
         "NA"
        ],
        [
         "21",
         "Bosnia-Herzegovina",
         "76",
         "173",
         "8",
         "4.6",
         "EU",
         "NA"
        ],
        [
         "22",
         "Botswana",
         "173",
         "35",
         "35",
         "5.4",
         "AF",
         "NA"
        ],
        [
         "23",
         "Brazil",
         "245",
         "145",
         "16",
         "7.2",
         "SA",
         "NA"
        ],
        [
         "24",
         "Brunei",
         "31",
         "2",
         "1",
         "0.6",
         "AS",
         "NA"
        ],
        [
         "25",
         "Bulgaria",
         "231",
         "252",
         "94",
         "10.3",
         "EU",
         "NA"
        ],
        [
         "26",
         "Burkina Faso",
         "25",
         "7",
         "7",
         "4.3",
         "AF",
         "NA"
        ],
        [
         "27",
         "Burundi",
         "88",
         "0",
         "0",
         "6.3",
         "AF",
         "NA"
        ],
        [
         "28",
         "Cote d'Ivoire",
         "37",
         "1",
         "7",
         "4.0",
         "AF",
         "NA"
        ],
        [
         "29",
         "Cabo Verde",
         "144",
         "56",
         "16",
         "4.0",
         "AF",
         "NA"
        ],
        [
         "30",
         "Cambodia",
         "57",
         "65",
         "1",
         "2.2",
         "AS",
         "NA"
        ],
        [
         "31",
         "Cameroon",
         "147",
         "1",
         "4",
         "5.8",
         "AF",
         "NA"
        ],
        [
         "32",
         "NA",
         "240",
         "122",
         "100",
         "8.2",
         null,
         "NA"
        ],
        [
         "33",
         "Central African Republic",
         "17",
         "2",
         "1",
         "1.8",
         "AF",
         "NA"
        ],
        [
         "34",
         "Chad",
         "15",
         "1",
         "1",
         "0.4",
         "AF",
         "NA"
        ],
        [
         "35",
         "Chile",
         "130",
         "124",
         "172",
         "7.6",
         "SA",
         "NA"
        ],
        [
         "36",
         "China",
         "79",
         "192",
         "8",
         "5.0",
         "AS",
         "NA"
        ],
        [
         "37",
         "Colombia",
         "159",
         "76",
         "3",
         "4.2",
         "SA",
         "NA"
        ],
        [
         "38",
         "Comoros",
         "1",
         "3",
         "1",
         "0.1",
         "AF",
         "NA"
        ],
        [
         "39",
         "Congo",
         "76",
         "1",
         "9",
         "1.7",
         "AF",
         "NA"
        ],
        [
         "40",
         "Cook Islands",
         "0",
         "254",
         "74",
         "5.9",
         "OC",
         "NA"
        ],
        [
         "41",
         "NA",
         "149",
         "87",
         "11",
         "4.4",
         null,
         "NA"
        ],
        [
         "42",
         "Croatia",
         "230",
         "87",
         "254",
         "10.2",
         "EU",
         "NA"
        ],
        [
         "43",
         "NA",
         "93",
         "137",
         "5",
         "4.2",
         null,
         "NA"
        ],
        [
         "44",
         "Cyprus",
         "192",
         "154",
         "113",
         "8.2",
         "EU",
         "NA"
        ],
        [
         "45",
         "Czech Republic",
         "361",
         "170",
         "134",
         "11.8",
         "EU",
         "NA"
        ],
        [
         "46",
         "North Korea",
         "0",
         "0",
         "0",
         "0.0",
         "AS",
         "NA"
        ],
        [
         "47",
         "DR Congo",
         "32",
         "3",
         "1",
         "2.3",
         "AF",
         "NA"
        ],
        [
         "48",
         "Denmark",
         "224",
         "81",
         "278",
         "10.4",
         "EU",
         "NA"
        ],
        [
         "49",
         "Djibouti",
         "15",
         "44",
         "3",
         "1.1",
         "AF",
         "NA"
        ]
       ],
       "shape": {
        "columns": 7,
        "rows": 193
       }
      },
      "text/html": [
       "<div>\n",
       "<style scoped>\n",
       "    .dataframe tbody tr th:only-of-type {\n",
       "        vertical-align: middle;\n",
       "    }\n",
       "\n",
       "    .dataframe tbody tr th {\n",
       "        vertical-align: top;\n",
       "    }\n",
       "\n",
       "    .dataframe thead th {\n",
       "        text-align: right;\n",
       "    }\n",
       "</style>\n",
       "<table border=\"1\" class=\"dataframe\">\n",
       "  <thead>\n",
       "    <tr style=\"text-align: right;\">\n",
       "      <th></th>\n",
       "      <th>country</th>\n",
       "      <th>beer_servings</th>\n",
       "      <th>spirit_servings</th>\n",
       "      <th>wine_servings</th>\n",
       "      <th>total_litres_of_pure_alcohol</th>\n",
       "      <th>continent</th>\n",
       "      <th>Columna Tonta</th>\n",
       "    </tr>\n",
       "  </thead>\n",
       "  <tbody>\n",
       "    <tr>\n",
       "      <th>0</th>\n",
       "      <td>Afghanistan</td>\n",
       "      <td>0</td>\n",
       "      <td>0</td>\n",
       "      <td>0</td>\n",
       "      <td>0.0</td>\n",
       "      <td>AS</td>\n",
       "      <td>NA</td>\n",
       "    </tr>\n",
       "    <tr>\n",
       "      <th>1</th>\n",
       "      <td>Albania</td>\n",
       "      <td>89</td>\n",
       "      <td>132</td>\n",
       "      <td>54</td>\n",
       "      <td>4.9</td>\n",
       "      <td>EU</td>\n",
       "      <td>NA</td>\n",
       "    </tr>\n",
       "    <tr>\n",
       "      <th>2</th>\n",
       "      <td>Algeria</td>\n",
       "      <td>25</td>\n",
       "      <td>0</td>\n",
       "      <td>14</td>\n",
       "      <td>0.7</td>\n",
       "      <td>AF</td>\n",
       "      <td>NA</td>\n",
       "    </tr>\n",
       "    <tr>\n",
       "      <th>3</th>\n",
       "      <td>Andorra</td>\n",
       "      <td>245</td>\n",
       "      <td>138</td>\n",
       "      <td>312</td>\n",
       "      <td>12.4</td>\n",
       "      <td>EU</td>\n",
       "      <td>NA</td>\n",
       "    </tr>\n",
       "    <tr>\n",
       "      <th>4</th>\n",
       "      <td>Angola</td>\n",
       "      <td>217</td>\n",
       "      <td>57</td>\n",
       "      <td>45</td>\n",
       "      <td>5.9</td>\n",
       "      <td>AF</td>\n",
       "      <td>NA</td>\n",
       "    </tr>\n",
       "    <tr>\n",
       "      <th>...</th>\n",
       "      <td>...</td>\n",
       "      <td>...</td>\n",
       "      <td>...</td>\n",
       "      <td>...</td>\n",
       "      <td>...</td>\n",
       "      <td>...</td>\n",
       "      <td>...</td>\n",
       "    </tr>\n",
       "    <tr>\n",
       "      <th>188</th>\n",
       "      <td>Venezuela</td>\n",
       "      <td>333</td>\n",
       "      <td>100</td>\n",
       "      <td>3</td>\n",
       "      <td>7.7</td>\n",
       "      <td>SA</td>\n",
       "      <td>NA</td>\n",
       "    </tr>\n",
       "    <tr>\n",
       "      <th>189</th>\n",
       "      <td>Vietnam</td>\n",
       "      <td>111</td>\n",
       "      <td>2</td>\n",
       "      <td>1</td>\n",
       "      <td>2.0</td>\n",
       "      <td>AS</td>\n",
       "      <td>NA</td>\n",
       "    </tr>\n",
       "    <tr>\n",
       "      <th>190</th>\n",
       "      <td>Yemen</td>\n",
       "      <td>6</td>\n",
       "      <td>0</td>\n",
       "      <td>0</td>\n",
       "      <td>0.1</td>\n",
       "      <td>AS</td>\n",
       "      <td>NA</td>\n",
       "    </tr>\n",
       "    <tr>\n",
       "      <th>191</th>\n",
       "      <td>Zambia</td>\n",
       "      <td>32</td>\n",
       "      <td>19</td>\n",
       "      <td>4</td>\n",
       "      <td>2.5</td>\n",
       "      <td>AF</td>\n",
       "      <td>NA</td>\n",
       "    </tr>\n",
       "    <tr>\n",
       "      <th>192</th>\n",
       "      <td>Zimbabwe</td>\n",
       "      <td>64</td>\n",
       "      <td>18</td>\n",
       "      <td>4</td>\n",
       "      <td>4.7</td>\n",
       "      <td>AF</td>\n",
       "      <td>NA</td>\n",
       "    </tr>\n",
       "  </tbody>\n",
       "</table>\n",
       "<p>193 rows × 7 columns</p>\n",
       "</div>"
      ],
      "text/plain": [
       "         country  beer_servings  spirit_servings  wine_servings  \\\n",
       "0    Afghanistan              0                0              0   \n",
       "1        Albania             89              132             54   \n",
       "2        Algeria             25                0             14   \n",
       "3        Andorra            245              138            312   \n",
       "4         Angola            217               57             45   \n",
       "..           ...            ...              ...            ...   \n",
       "188    Venezuela            333              100              3   \n",
       "189      Vietnam            111                2              1   \n",
       "190        Yemen              6                0              0   \n",
       "191       Zambia             32               19              4   \n",
       "192     Zimbabwe             64               18              4   \n",
       "\n",
       "     total_litres_of_pure_alcohol continent Columna Tonta  \n",
       "0                             0.0        AS            NA  \n",
       "1                             4.9        EU            NA  \n",
       "2                             0.7        AF            NA  \n",
       "3                            12.4        EU            NA  \n",
       "4                             5.9        AF            NA  \n",
       "..                            ...       ...           ...  \n",
       "188                           7.7        SA            NA  \n",
       "189                           2.0        AS            NA  \n",
       "190                           0.1        AS            NA  \n",
       "191                           2.5        AF            NA  \n",
       "192                           4.7        AF            NA  \n",
       "\n",
       "[193 rows x 7 columns]"
      ]
     },
     "execution_count": 11,
     "metadata": {},
     "output_type": "execute_result"
    }
   ],
   "source": [
    "drinks"
   ]
  },
  {
   "cell_type": "code",
   "execution_count": 14,
   "metadata": {},
   "outputs": [
    {
     "name": "stdout",
     "output_type": "stream",
     "text": [
      "<class 'pandas.core.frame.DataFrame'>\n",
      "RangeIndex: 193 entries, 0 to 192\n",
      "Data columns (total 7 columns):\n",
      " #   Column                        Non-Null Count  Dtype \n",
      "---  ------                        --------------  ----- \n",
      " 0   country                       193 non-null    object\n",
      " 1   beer_servings                 193 non-null    object\n",
      " 2   spirit_servings               193 non-null    object\n",
      " 3   wine_servings                 193 non-null    object\n",
      " 4   total_litres_of_pure_alcohol  193 non-null    object\n",
      " 5   continent                     193 non-null    object\n",
      " 6   Columna Tonta                 193 non-null    object\n",
      "dtypes: object(7)\n",
      "memory usage: 10.7+ KB\n"
     ]
    }
   ],
   "source": [
    "drinks.loc[drinks[\"continent\"].isna()] = \"NA\"\n",
    "drinks.info()"
   ]
  },
  {
   "cell_type": "code",
   "execution_count": 42,
   "metadata": {},
   "outputs": [],
   "source": [
    "continent_map = {\n",
    "    \"Antigua & Barbuda\": \"North America\",\n",
    "    \"Bahamas\": \"North America\",\n",
    "    \"Barbados\": \"North America\",\n",
    "    \"Belize\": \"North America\",\n",
    "    \"Canada\": \"North America\",\n",
    "    \"Costa Rica\": \"North America\",\n",
    "    \"Cuba\": \"North America\",\n",
    "    \"Dominica\": \"North America\",\n",
    "    \"Dominican Republic\": \"North America\",\n",
    "    \"El Salvador\": \"North America\",\n",
    "    \"Grenada\": \"North America\",\n",
    "    \"Guatemala\": \"North America\",\n",
    "    \"Haiti\": \"North America\",\n",
    "    \"Honduras\": \"North America\",\n",
    "    \"Jamaica\": \"North America\",\n",
    "    \"Mexico\": \"North America\",\n",
    "    \"Nicaragua\": \"North America\",\n",
    "    \"Panama\": \"North America\",\n",
    "    \"St. Kitts & Nevis\": \"North America\",\n",
    "    \"St. Lucia\": \"North America\",\n",
    "    \"St. Vincent & the Grenadines\": \"North America\",\n",
    "    \"Trinidad & Tobago\": \"North America\",\n",
    "    \"USA\": \"North America\"\n",
    "}"
   ]
  },
  {
   "cell_type": "code",
   "execution_count": 43,
   "metadata": {},
   "outputs": [
    {
     "name": "stdout",
     "output_type": "stream",
     "text": [
      "<class 'pandas.core.frame.DataFrame'>\n",
      "RangeIndex: 193 entries, 0 to 192\n",
      "Data columns (total 6 columns):\n",
      " #   Column                        Non-Null Count  Dtype  \n",
      "---  ------                        --------------  -----  \n",
      " 0   country                       193 non-null    object \n",
      " 1   beer_servings                 193 non-null    int64  \n",
      " 2   spirit_servings               193 non-null    int64  \n",
      " 3   wine_servings                 193 non-null    int64  \n",
      " 4   total_litres_of_pure_alcohol  193 non-null    float64\n",
      " 5   continent                     193 non-null    object \n",
      "dtypes: float64(1), int64(3), object(2)\n",
      "memory usage: 9.2+ KB\n"
     ]
    }
   ],
   "source": [
    "drinks[\"continent\"] = drinks[\"continent\"].fillna(drinks[\"country\"].map(continent_map))\n",
    "drinks.info()"
   ]
  },
  {
   "attachments": {},
   "cell_type": "markdown",
   "metadata": {},
   "source": [
    "### Step 4. Which continent drinks more beer on average?"
   ]
  },
  {
   "cell_type": "code",
   "execution_count": 44,
   "metadata": {},
   "outputs": [
    {
     "data": {
      "text/plain": [
       "'EU'"
      ]
     },
     "execution_count": 44,
     "metadata": {},
     "output_type": "execute_result"
    }
   ],
   "source": [
    "drinks.groupby(\"continent\")['beer_servings'].mean().idxmax()"
   ]
  },
  {
   "cell_type": "code",
   "execution_count": 46,
   "metadata": {},
   "outputs": [
    {
     "data": {
      "text/plain": [
       "continent\n",
       "AF                61.5\n",
       "AS                37.0\n",
       "EU               193.8\n",
       "North America    145.4\n",
       "OC                89.7\n",
       "SA               175.1\n",
       "Name: beer_servings, dtype: float64"
      ]
     },
     "execution_count": 46,
     "metadata": {},
     "output_type": "execute_result"
    }
   ],
   "source": [
    "drinks.groupby(\"continent\")['beer_servings'].mean().round(1)"
   ]
  },
  {
   "cell_type": "code",
   "execution_count": 47,
   "metadata": {},
   "outputs": [
    {
     "data": {
      "application/vnd.microsoft.datawrangler.viewer.v0+json": {
       "columns": [
        {
         "name": "index",
         "rawType": "int64",
         "type": "integer"
        },
        {
         "name": "country",
         "rawType": "object",
         "type": "string"
        },
        {
         "name": "beer_servings",
         "rawType": "int64",
         "type": "integer"
        },
        {
         "name": "spirit_servings",
         "rawType": "int64",
         "type": "integer"
        },
        {
         "name": "wine_servings",
         "rawType": "int64",
         "type": "integer"
        },
        {
         "name": "total_litres_of_pure_alcohol",
         "rawType": "float64",
         "type": "float"
        },
        {
         "name": "continent",
         "rawType": "object",
         "type": "string"
        }
       ],
       "conversionMethod": "pd.DataFrame",
       "ref": "29b38335-2cf1-40f3-9ff7-3d37a1fb9f1d",
       "rows": [],
       "shape": {
        "columns": 6,
        "rows": 0
       }
      },
      "text/html": [
       "<div>\n",
       "<style scoped>\n",
       "    .dataframe tbody tr th:only-of-type {\n",
       "        vertical-align: middle;\n",
       "    }\n",
       "\n",
       "    .dataframe tbody tr th {\n",
       "        vertical-align: top;\n",
       "    }\n",
       "\n",
       "    .dataframe thead th {\n",
       "        text-align: right;\n",
       "    }\n",
       "</style>\n",
       "<table border=\"1\" class=\"dataframe\">\n",
       "  <thead>\n",
       "    <tr style=\"text-align: right;\">\n",
       "      <th></th>\n",
       "      <th>country</th>\n",
       "      <th>beer_servings</th>\n",
       "      <th>spirit_servings</th>\n",
       "      <th>wine_servings</th>\n",
       "      <th>total_litres_of_pure_alcohol</th>\n",
       "      <th>continent</th>\n",
       "    </tr>\n",
       "  </thead>\n",
       "  <tbody>\n",
       "  </tbody>\n",
       "</table>\n",
       "</div>"
      ],
      "text/plain": [
       "Empty DataFrame\n",
       "Columns: [country, beer_servings, spirit_servings, wine_servings, total_litres_of_pure_alcohol, continent]\n",
       "Index: []"
      ]
     },
     "execution_count": 47,
     "metadata": {},
     "output_type": "execute_result"
    }
   ],
   "source": [
    "drinks[drinks['continent'].isnull()]"
   ]
  },
  {
   "cell_type": "code",
   "execution_count": 48,
   "metadata": {},
   "outputs": [
    {
     "data": {
      "text/plain": [
       "Index([], dtype='int64')"
      ]
     },
     "execution_count": 48,
     "metadata": {},
     "output_type": "execute_result"
    }
   ],
   "source": [
    "#drinks[drinks['continent'].isnull()]['continent'] = \"NCA\"\n",
    "drinks[drinks['continent'].isnull()].index"
   ]
  },
  {
   "cell_type": "code",
   "execution_count": 49,
   "metadata": {},
   "outputs": [],
   "source": [
    "drinks.loc[drinks[drinks['continent'].isnull()].index, 'continent'] = \"NCA\""
   ]
  },
  {
   "cell_type": "code",
   "execution_count": 8,
   "metadata": {},
   "outputs": [],
   "source": [
    "#drinks.loc[drinks[\"continent\"].isna()] = \"NCA\""
   ]
  },
  {
   "cell_type": "code",
   "execution_count": 21,
   "metadata": {},
   "outputs": [],
   "source": [
    "# drinks.fillna(\"NCA\", inplace=True)\n",
    "# drinks['continent'].fillna(\"NCA\", inplace=True)"
   ]
  },
  {
   "cell_type": "code",
   "execution_count": 50,
   "metadata": {},
   "outputs": [
    {
     "data": {
      "application/vnd.microsoft.datawrangler.viewer.v0+json": {
       "columns": [
        {
         "name": "index",
         "rawType": "int64",
         "type": "integer"
        },
        {
         "name": "country",
         "rawType": "object",
         "type": "string"
        },
        {
         "name": "beer_servings",
         "rawType": "int64",
         "type": "integer"
        },
        {
         "name": "spirit_servings",
         "rawType": "int64",
         "type": "integer"
        },
        {
         "name": "wine_servings",
         "rawType": "int64",
         "type": "integer"
        },
        {
         "name": "total_litres_of_pure_alcohol",
         "rawType": "float64",
         "type": "float"
        },
        {
         "name": "continent",
         "rawType": "object",
         "type": "string"
        }
       ],
       "conversionMethod": "pd.DataFrame",
       "ref": "bf0dca57-a334-485c-b79c-3db5b57e7a1a",
       "rows": [
        [
         "32",
         "Canada",
         "240",
         "122",
         "100",
         "8.2",
         "North America"
        ]
       ],
       "shape": {
        "columns": 6,
        "rows": 1
       }
      },
      "text/html": [
       "<div>\n",
       "<style scoped>\n",
       "    .dataframe tbody tr th:only-of-type {\n",
       "        vertical-align: middle;\n",
       "    }\n",
       "\n",
       "    .dataframe tbody tr th {\n",
       "        vertical-align: top;\n",
       "    }\n",
       "\n",
       "    .dataframe thead th {\n",
       "        text-align: right;\n",
       "    }\n",
       "</style>\n",
       "<table border=\"1\" class=\"dataframe\">\n",
       "  <thead>\n",
       "    <tr style=\"text-align: right;\">\n",
       "      <th></th>\n",
       "      <th>country</th>\n",
       "      <th>beer_servings</th>\n",
       "      <th>spirit_servings</th>\n",
       "      <th>wine_servings</th>\n",
       "      <th>total_litres_of_pure_alcohol</th>\n",
       "      <th>continent</th>\n",
       "    </tr>\n",
       "  </thead>\n",
       "  <tbody>\n",
       "    <tr>\n",
       "      <th>32</th>\n",
       "      <td>Canada</td>\n",
       "      <td>240</td>\n",
       "      <td>122</td>\n",
       "      <td>100</td>\n",
       "      <td>8.2</td>\n",
       "      <td>North America</td>\n",
       "    </tr>\n",
       "  </tbody>\n",
       "</table>\n",
       "</div>"
      ],
      "text/plain": [
       "   country  beer_servings  spirit_servings  wine_servings  \\\n",
       "32  Canada            240              122            100   \n",
       "\n",
       "    total_litres_of_pure_alcohol      continent  \n",
       "32                           8.2  North America  "
      ]
     },
     "execution_count": 50,
     "metadata": {},
     "output_type": "execute_result"
    }
   ],
   "source": [
    "# drinks[drinks['continent'].isnull()]\n",
    "drinks[drinks['country'] == \"Canada\"]"
   ]
  },
  {
   "cell_type": "code",
   "execution_count": 51,
   "metadata": {},
   "outputs": [
    {
     "name": "stdout",
     "output_type": "stream",
     "text": [
      "<class 'pandas.core.frame.DataFrame'>\n",
      "RangeIndex: 193 entries, 0 to 192\n",
      "Data columns (total 6 columns):\n",
      " #   Column                        Non-Null Count  Dtype  \n",
      "---  ------                        --------------  -----  \n",
      " 0   country                       193 non-null    object \n",
      " 1   beer_servings                 193 non-null    int64  \n",
      " 2   spirit_servings               193 non-null    int64  \n",
      " 3   wine_servings                 193 non-null    int64  \n",
      " 4   total_litres_of_pure_alcohol  193 non-null    float64\n",
      " 5   continent                     193 non-null    object \n",
      "dtypes: float64(1), int64(3), object(2)\n",
      "memory usage: 9.2+ KB\n"
     ]
    }
   ],
   "source": [
    "drinks.info()"
   ]
  },
  {
   "cell_type": "code",
   "execution_count": 52,
   "metadata": {},
   "outputs": [
    {
     "data": {
      "text/plain": [
       "continent\n",
       "AF                61.471698\n",
       "AS                37.045455\n",
       "EU               193.777778\n",
       "North America    145.434783\n",
       "OC                89.687500\n",
       "SA               175.083333\n",
       "Name: beer_servings, dtype: float64"
      ]
     },
     "execution_count": 52,
     "metadata": {},
     "output_type": "execute_result"
    }
   ],
   "source": [
    "drinks.groupby(\"continent\")['beer_servings'].mean()"
   ]
  },
  {
   "attachments": {},
   "cell_type": "markdown",
   "metadata": {},
   "source": [
    "### Step 5. For each continent print the statistics for wine consumption."
   ]
  },
  {
   "cell_type": "code",
   "execution_count": 55,
   "metadata": {},
   "outputs": [
    {
     "data": {
      "application/vnd.microsoft.datawrangler.viewer.v0+json": {
       "columns": [
        {
         "name": "continent",
         "rawType": "object",
         "type": "string"
        },
        {
         "name": "count",
         "rawType": "float64",
         "type": "float"
        },
        {
         "name": "mean",
         "rawType": "float64",
         "type": "float"
        },
        {
         "name": "std",
         "rawType": "float64",
         "type": "float"
        },
        {
         "name": "min",
         "rawType": "float64",
         "type": "float"
        },
        {
         "name": "25%",
         "rawType": "float64",
         "type": "float"
        },
        {
         "name": "50%",
         "rawType": "float64",
         "type": "float"
        },
        {
         "name": "75%",
         "rawType": "float64",
         "type": "float"
        },
        {
         "name": "max",
         "rawType": "float64",
         "type": "float"
        }
       ],
       "conversionMethod": "pd.DataFrame",
       "ref": "921d0d9c-0131-4356-bbbc-1a933c1d75d1",
       "rows": [
        [
         "AF",
         "53.0",
         "16.0",
         "39.0",
         "0.0",
         "1.0",
         "2.0",
         "13.0",
         "233.0"
        ],
        [
         "AS",
         "44.0",
         "9.0",
         "22.0",
         "0.0",
         "0.0",
         "1.0",
         "8.0",
         "123.0"
        ],
        [
         "EU",
         "45.0",
         "142.0",
         "97.0",
         "0.0",
         "59.0",
         "128.0",
         "195.0",
         "370.0"
        ],
        [
         "North America",
         "23.0",
         "25.0",
         "28.0",
         "1.0",
         "5.0",
         "11.0",
         "34.0",
         "100.0"
        ],
        [
         "OC",
         "16.0",
         "36.0",
         "65.0",
         "0.0",
         "1.0",
         "8.0",
         "23.0",
         "212.0"
        ],
        [
         "SA",
         "12.0",
         "62.0",
         "89.0",
         "1.0",
         "3.0",
         "12.0",
         "98.0",
         "221.0"
        ]
       ],
       "shape": {
        "columns": 8,
        "rows": 6
       }
      },
      "text/html": [
       "<div>\n",
       "<style scoped>\n",
       "    .dataframe tbody tr th:only-of-type {\n",
       "        vertical-align: middle;\n",
       "    }\n",
       "\n",
       "    .dataframe tbody tr th {\n",
       "        vertical-align: top;\n",
       "    }\n",
       "\n",
       "    .dataframe thead th {\n",
       "        text-align: right;\n",
       "    }\n",
       "</style>\n",
       "<table border=\"1\" class=\"dataframe\">\n",
       "  <thead>\n",
       "    <tr style=\"text-align: right;\">\n",
       "      <th></th>\n",
       "      <th>count</th>\n",
       "      <th>mean</th>\n",
       "      <th>std</th>\n",
       "      <th>min</th>\n",
       "      <th>25%</th>\n",
       "      <th>50%</th>\n",
       "      <th>75%</th>\n",
       "      <th>max</th>\n",
       "    </tr>\n",
       "    <tr>\n",
       "      <th>continent</th>\n",
       "      <th></th>\n",
       "      <th></th>\n",
       "      <th></th>\n",
       "      <th></th>\n",
       "      <th></th>\n",
       "      <th></th>\n",
       "      <th></th>\n",
       "      <th></th>\n",
       "    </tr>\n",
       "  </thead>\n",
       "  <tbody>\n",
       "    <tr>\n",
       "      <th>AF</th>\n",
       "      <td>53.0</td>\n",
       "      <td>16.0</td>\n",
       "      <td>39.0</td>\n",
       "      <td>0.0</td>\n",
       "      <td>1.0</td>\n",
       "      <td>2.0</td>\n",
       "      <td>13.0</td>\n",
       "      <td>233.0</td>\n",
       "    </tr>\n",
       "    <tr>\n",
       "      <th>AS</th>\n",
       "      <td>44.0</td>\n",
       "      <td>9.0</td>\n",
       "      <td>22.0</td>\n",
       "      <td>0.0</td>\n",
       "      <td>0.0</td>\n",
       "      <td>1.0</td>\n",
       "      <td>8.0</td>\n",
       "      <td>123.0</td>\n",
       "    </tr>\n",
       "    <tr>\n",
       "      <th>EU</th>\n",
       "      <td>45.0</td>\n",
       "      <td>142.0</td>\n",
       "      <td>97.0</td>\n",
       "      <td>0.0</td>\n",
       "      <td>59.0</td>\n",
       "      <td>128.0</td>\n",
       "      <td>195.0</td>\n",
       "      <td>370.0</td>\n",
       "    </tr>\n",
       "    <tr>\n",
       "      <th>North America</th>\n",
       "      <td>23.0</td>\n",
       "      <td>25.0</td>\n",
       "      <td>28.0</td>\n",
       "      <td>1.0</td>\n",
       "      <td>5.0</td>\n",
       "      <td>11.0</td>\n",
       "      <td>34.0</td>\n",
       "      <td>100.0</td>\n",
       "    </tr>\n",
       "    <tr>\n",
       "      <th>OC</th>\n",
       "      <td>16.0</td>\n",
       "      <td>36.0</td>\n",
       "      <td>65.0</td>\n",
       "      <td>0.0</td>\n",
       "      <td>1.0</td>\n",
       "      <td>8.0</td>\n",
       "      <td>23.0</td>\n",
       "      <td>212.0</td>\n",
       "    </tr>\n",
       "    <tr>\n",
       "      <th>SA</th>\n",
       "      <td>12.0</td>\n",
       "      <td>62.0</td>\n",
       "      <td>89.0</td>\n",
       "      <td>1.0</td>\n",
       "      <td>3.0</td>\n",
       "      <td>12.0</td>\n",
       "      <td>98.0</td>\n",
       "      <td>221.0</td>\n",
       "    </tr>\n",
       "  </tbody>\n",
       "</table>\n",
       "</div>"
      ],
      "text/plain": [
       "               count   mean   std  min   25%    50%    75%    max\n",
       "continent                                                        \n",
       "AF              53.0   16.0  39.0  0.0   1.0    2.0   13.0  233.0\n",
       "AS              44.0    9.0  22.0  0.0   0.0    1.0    8.0  123.0\n",
       "EU              45.0  142.0  97.0  0.0  59.0  128.0  195.0  370.0\n",
       "North America   23.0   25.0  28.0  1.0   5.0   11.0   34.0  100.0\n",
       "OC              16.0   36.0  65.0  0.0   1.0    8.0   23.0  212.0\n",
       "SA              12.0   62.0  89.0  1.0   3.0   12.0   98.0  221.0"
      ]
     },
     "execution_count": 55,
     "metadata": {},
     "output_type": "execute_result"
    }
   ],
   "source": [
    "drinks.groupby('continent')['wine_servings'].describe().round()"
   ]
  },
  {
   "attachments": {},
   "cell_type": "markdown",
   "metadata": {},
   "source": [
    "### Step 6. Print the mean alcohol consumption per continent for every column"
   ]
  },
  {
   "cell_type": "code",
   "execution_count": 56,
   "metadata": {},
   "outputs": [
    {
     "data": {
      "text/plain": [
       "Index(['beer_servings', 'spirit_servings', 'wine_servings',\n",
       "       'total_litres_of_pure_alcohol'],\n",
       "      dtype='object')"
      ]
     },
     "execution_count": 56,
     "metadata": {},
     "output_type": "execute_result"
    }
   ],
   "source": [
    "drinks.columns[1:-1]"
   ]
  },
  {
   "cell_type": "code",
   "execution_count": 57,
   "metadata": {},
   "outputs": [
    {
     "data": {
      "text/plain": [
       "Index(['country', 'beer_servings', 'spirit_servings', 'wine_servings',\n",
       "       'total_litres_of_pure_alcohol', 'continent'],\n",
       "      dtype='object')"
      ]
     },
     "execution_count": 57,
     "metadata": {},
     "output_type": "execute_result"
    }
   ],
   "source": [
    "drinks.columns"
   ]
  },
  {
   "cell_type": "code",
   "execution_count": 59,
   "metadata": {},
   "outputs": [
    {
     "data": {
      "application/vnd.microsoft.datawrangler.viewer.v0+json": {
       "columns": [
        {
         "name": "continent",
         "rawType": "object",
         "type": "string"
        },
        {
         "name": "beer_servings",
         "rawType": "float64",
         "type": "float"
        },
        {
         "name": "spirit_servings",
         "rawType": "float64",
         "type": "float"
        },
        {
         "name": "wine_servings",
         "rawType": "float64",
         "type": "float"
        },
        {
         "name": "total_litres_of_pure_alcohol",
         "rawType": "float64",
         "type": "float"
        }
       ],
       "conversionMethod": "pd.DataFrame",
       "ref": "69083ba3-da0b-4848-8d7b-7790567fca01",
       "rows": [
        [
         "AF",
         "61.0",
         "16.0",
         "16.0",
         "3.0"
        ],
        [
         "AS",
         "37.0",
         "61.0",
         "9.0",
         "2.0"
        ],
        [
         "EU",
         "194.0",
         "133.0",
         "142.0",
         "9.0"
        ],
        [
         "North America",
         "145.0",
         "166.0",
         "25.0",
         "6.0"
        ],
        [
         "OC",
         "90.0",
         "58.0",
         "36.0",
         "3.0"
        ],
        [
         "SA",
         "175.0",
         "115.0",
         "62.0",
         "6.0"
        ]
       ],
       "shape": {
        "columns": 4,
        "rows": 6
       }
      },
      "text/html": [
       "<div>\n",
       "<style scoped>\n",
       "    .dataframe tbody tr th:only-of-type {\n",
       "        vertical-align: middle;\n",
       "    }\n",
       "\n",
       "    .dataframe tbody tr th {\n",
       "        vertical-align: top;\n",
       "    }\n",
       "\n",
       "    .dataframe thead th {\n",
       "        text-align: right;\n",
       "    }\n",
       "</style>\n",
       "<table border=\"1\" class=\"dataframe\">\n",
       "  <thead>\n",
       "    <tr style=\"text-align: right;\">\n",
       "      <th></th>\n",
       "      <th>beer_servings</th>\n",
       "      <th>spirit_servings</th>\n",
       "      <th>wine_servings</th>\n",
       "      <th>total_litres_of_pure_alcohol</th>\n",
       "    </tr>\n",
       "    <tr>\n",
       "      <th>continent</th>\n",
       "      <th></th>\n",
       "      <th></th>\n",
       "      <th></th>\n",
       "      <th></th>\n",
       "    </tr>\n",
       "  </thead>\n",
       "  <tbody>\n",
       "    <tr>\n",
       "      <th>AF</th>\n",
       "      <td>61.0</td>\n",
       "      <td>16.0</td>\n",
       "      <td>16.0</td>\n",
       "      <td>3.0</td>\n",
       "    </tr>\n",
       "    <tr>\n",
       "      <th>AS</th>\n",
       "      <td>37.0</td>\n",
       "      <td>61.0</td>\n",
       "      <td>9.0</td>\n",
       "      <td>2.0</td>\n",
       "    </tr>\n",
       "    <tr>\n",
       "      <th>EU</th>\n",
       "      <td>194.0</td>\n",
       "      <td>133.0</td>\n",
       "      <td>142.0</td>\n",
       "      <td>9.0</td>\n",
       "    </tr>\n",
       "    <tr>\n",
       "      <th>North America</th>\n",
       "      <td>145.0</td>\n",
       "      <td>166.0</td>\n",
       "      <td>25.0</td>\n",
       "      <td>6.0</td>\n",
       "    </tr>\n",
       "    <tr>\n",
       "      <th>OC</th>\n",
       "      <td>90.0</td>\n",
       "      <td>58.0</td>\n",
       "      <td>36.0</td>\n",
       "      <td>3.0</td>\n",
       "    </tr>\n",
       "    <tr>\n",
       "      <th>SA</th>\n",
       "      <td>175.0</td>\n",
       "      <td>115.0</td>\n",
       "      <td>62.0</td>\n",
       "      <td>6.0</td>\n",
       "    </tr>\n",
       "  </tbody>\n",
       "</table>\n",
       "</div>"
      ],
      "text/plain": [
       "               beer_servings  spirit_servings  wine_servings  \\\n",
       "continent                                                      \n",
       "AF                      61.0             16.0           16.0   \n",
       "AS                      37.0             61.0            9.0   \n",
       "EU                     194.0            133.0          142.0   \n",
       "North America          145.0            166.0           25.0   \n",
       "OC                      90.0             58.0           36.0   \n",
       "SA                     175.0            115.0           62.0   \n",
       "\n",
       "               total_litres_of_pure_alcohol  \n",
       "continent                                    \n",
       "AF                                      3.0  \n",
       "AS                                      2.0  \n",
       "EU                                      9.0  \n",
       "North America                           6.0  \n",
       "OC                                      3.0  \n",
       "SA                                      6.0  "
      ]
     },
     "execution_count": 59,
     "metadata": {},
     "output_type": "execute_result"
    }
   ],
   "source": [
    "drinks.groupby(\"continent\")[drinks.columns[1:-1]].mean().round(0)"
   ]
  },
  {
   "cell_type": "code",
   "execution_count": 24,
   "metadata": {},
   "outputs": [
    {
     "data": {
      "application/vnd.microsoft.datawrangler.viewer.v0+json": {
       "columns": [
        {
         "name": "continent",
         "rawType": "object",
         "type": "string"
        },
        {
         "name": "beer_servings",
         "rawType": "float64",
         "type": "float"
        },
        {
         "name": "spirit_servings",
         "rawType": "float64",
         "type": "float"
        },
        {
         "name": "wine_servings",
         "rawType": "float64",
         "type": "float"
        },
        {
         "name": "total_litres_of_pure_alcohol",
         "rawType": "float64",
         "type": "float"
        }
       ],
       "conversionMethod": "pd.DataFrame",
       "ref": "ec3b3f66-21ba-4f78-82d4-a53e13470ec0",
       "rows": [
        [
         "AF",
         "61.0",
         "16.0",
         "16.0",
         "3.0"
        ],
        [
         "AS",
         "37.0",
         "61.0",
         "9.0",
         "2.0"
        ],
        [
         "EU",
         "194.0",
         "133.0",
         "142.0",
         "9.0"
        ],
        [
         "NCA",
         "145.0",
         "166.0",
         "25.0",
         "6.0"
        ],
        [
         "OC",
         "90.0",
         "58.0",
         "36.0",
         "3.0"
        ],
        [
         "SA",
         "175.0",
         "115.0",
         "62.0",
         "6.0"
        ]
       ],
       "shape": {
        "columns": 4,
        "rows": 6
       }
      },
      "text/html": [
       "<div>\n",
       "<style scoped>\n",
       "    .dataframe tbody tr th:only-of-type {\n",
       "        vertical-align: middle;\n",
       "    }\n",
       "\n",
       "    .dataframe tbody tr th {\n",
       "        vertical-align: top;\n",
       "    }\n",
       "\n",
       "    .dataframe thead th {\n",
       "        text-align: right;\n",
       "    }\n",
       "</style>\n",
       "<table border=\"1\" class=\"dataframe\">\n",
       "  <thead>\n",
       "    <tr style=\"text-align: right;\">\n",
       "      <th></th>\n",
       "      <th>beer_servings</th>\n",
       "      <th>spirit_servings</th>\n",
       "      <th>wine_servings</th>\n",
       "      <th>total_litres_of_pure_alcohol</th>\n",
       "    </tr>\n",
       "    <tr>\n",
       "      <th>continent</th>\n",
       "      <th></th>\n",
       "      <th></th>\n",
       "      <th></th>\n",
       "      <th></th>\n",
       "    </tr>\n",
       "  </thead>\n",
       "  <tbody>\n",
       "    <tr>\n",
       "      <th>AF</th>\n",
       "      <td>61.0</td>\n",
       "      <td>16.0</td>\n",
       "      <td>16.0</td>\n",
       "      <td>3.0</td>\n",
       "    </tr>\n",
       "    <tr>\n",
       "      <th>AS</th>\n",
       "      <td>37.0</td>\n",
       "      <td>61.0</td>\n",
       "      <td>9.0</td>\n",
       "      <td>2.0</td>\n",
       "    </tr>\n",
       "    <tr>\n",
       "      <th>EU</th>\n",
       "      <td>194.0</td>\n",
       "      <td>133.0</td>\n",
       "      <td>142.0</td>\n",
       "      <td>9.0</td>\n",
       "    </tr>\n",
       "    <tr>\n",
       "      <th>NCA</th>\n",
       "      <td>145.0</td>\n",
       "      <td>166.0</td>\n",
       "      <td>25.0</td>\n",
       "      <td>6.0</td>\n",
       "    </tr>\n",
       "    <tr>\n",
       "      <th>OC</th>\n",
       "      <td>90.0</td>\n",
       "      <td>58.0</td>\n",
       "      <td>36.0</td>\n",
       "      <td>3.0</td>\n",
       "    </tr>\n",
       "    <tr>\n",
       "      <th>SA</th>\n",
       "      <td>175.0</td>\n",
       "      <td>115.0</td>\n",
       "      <td>62.0</td>\n",
       "      <td>6.0</td>\n",
       "    </tr>\n",
       "  </tbody>\n",
       "</table>\n",
       "</div>"
      ],
      "text/plain": [
       "           beer_servings  spirit_servings  wine_servings  \\\n",
       "continent                                                  \n",
       "AF                  61.0             16.0           16.0   \n",
       "AS                  37.0             61.0            9.0   \n",
       "EU                 194.0            133.0          142.0   \n",
       "NCA                145.0            166.0           25.0   \n",
       "OC                  90.0             58.0           36.0   \n",
       "SA                 175.0            115.0           62.0   \n",
       "\n",
       "           total_litres_of_pure_alcohol  \n",
       "continent                                \n",
       "AF                                  3.0  \n",
       "AS                                  2.0  \n",
       "EU                                  9.0  \n",
       "NCA                                 6.0  \n",
       "OC                                  3.0  \n",
       "SA                                  6.0  "
      ]
     },
     "execution_count": 24,
     "metadata": {},
     "output_type": "execute_result"
    }
   ],
   "source": [
    "drinks.groupby(\"continent\")[drinks.columns[1:-1]].mean().round(0)"
   ]
  },
  {
   "attachments": {},
   "cell_type": "markdown",
   "metadata": {},
   "source": [
    "### Step 7. Print the median alcohol consumption per continent for every column"
   ]
  },
  {
   "cell_type": "code",
   "execution_count": 25,
   "metadata": {},
   "outputs": [
    {
     "data": {
      "application/vnd.microsoft.datawrangler.viewer.v0+json": {
       "columns": [
        {
         "name": "continent",
         "rawType": "object",
         "type": "string"
        },
        {
         "name": "beer_servings",
         "rawType": "float64",
         "type": "float"
        },
        {
         "name": "spirit_servings",
         "rawType": "float64",
         "type": "float"
        },
        {
         "name": "wine_servings",
         "rawType": "float64",
         "type": "float"
        },
        {
         "name": "total_litres_of_pure_alcohol",
         "rawType": "float64",
         "type": "float"
        }
       ],
       "conversionMethod": "pd.DataFrame",
       "ref": "3a895922-39ac-48c3-a978-78faa0b30d2f",
       "rows": [
        [
         "AF",
         "32.0",
         "3.0",
         "2.0",
         "2.3"
        ],
        [
         "AS",
         "17.5",
         "16.0",
         "1.0",
         "1.2"
        ],
        [
         "EU",
         "219.0",
         "122.0",
         "128.0",
         "10.0"
        ],
        [
         "NCA",
         "143.0",
         "137.0",
         "11.0",
         "6.3"
        ],
        [
         "OC",
         "52.5",
         "37.0",
         "8.5",
         "1.75"
        ],
        [
         "SA",
         "162.5",
         "108.5",
         "12.0",
         "6.85"
        ]
       ],
       "shape": {
        "columns": 4,
        "rows": 6
       }
      },
      "text/html": [
       "<div>\n",
       "<style scoped>\n",
       "    .dataframe tbody tr th:only-of-type {\n",
       "        vertical-align: middle;\n",
       "    }\n",
       "\n",
       "    .dataframe tbody tr th {\n",
       "        vertical-align: top;\n",
       "    }\n",
       "\n",
       "    .dataframe thead th {\n",
       "        text-align: right;\n",
       "    }\n",
       "</style>\n",
       "<table border=\"1\" class=\"dataframe\">\n",
       "  <thead>\n",
       "    <tr style=\"text-align: right;\">\n",
       "      <th></th>\n",
       "      <th>beer_servings</th>\n",
       "      <th>spirit_servings</th>\n",
       "      <th>wine_servings</th>\n",
       "      <th>total_litres_of_pure_alcohol</th>\n",
       "    </tr>\n",
       "    <tr>\n",
       "      <th>continent</th>\n",
       "      <th></th>\n",
       "      <th></th>\n",
       "      <th></th>\n",
       "      <th></th>\n",
       "    </tr>\n",
       "  </thead>\n",
       "  <tbody>\n",
       "    <tr>\n",
       "      <th>AF</th>\n",
       "      <td>32.0</td>\n",
       "      <td>3.0</td>\n",
       "      <td>2.0</td>\n",
       "      <td>2.30</td>\n",
       "    </tr>\n",
       "    <tr>\n",
       "      <th>AS</th>\n",
       "      <td>17.5</td>\n",
       "      <td>16.0</td>\n",
       "      <td>1.0</td>\n",
       "      <td>1.20</td>\n",
       "    </tr>\n",
       "    <tr>\n",
       "      <th>EU</th>\n",
       "      <td>219.0</td>\n",
       "      <td>122.0</td>\n",
       "      <td>128.0</td>\n",
       "      <td>10.00</td>\n",
       "    </tr>\n",
       "    <tr>\n",
       "      <th>NCA</th>\n",
       "      <td>143.0</td>\n",
       "      <td>137.0</td>\n",
       "      <td>11.0</td>\n",
       "      <td>6.30</td>\n",
       "    </tr>\n",
       "    <tr>\n",
       "      <th>OC</th>\n",
       "      <td>52.5</td>\n",
       "      <td>37.0</td>\n",
       "      <td>8.5</td>\n",
       "      <td>1.75</td>\n",
       "    </tr>\n",
       "    <tr>\n",
       "      <th>SA</th>\n",
       "      <td>162.5</td>\n",
       "      <td>108.5</td>\n",
       "      <td>12.0</td>\n",
       "      <td>6.85</td>\n",
       "    </tr>\n",
       "  </tbody>\n",
       "</table>\n",
       "</div>"
      ],
      "text/plain": [
       "           beer_servings  spirit_servings  wine_servings  \\\n",
       "continent                                                  \n",
       "AF                  32.0              3.0            2.0   \n",
       "AS                  17.5             16.0            1.0   \n",
       "EU                 219.0            122.0          128.0   \n",
       "NCA                143.0            137.0           11.0   \n",
       "OC                  52.5             37.0            8.5   \n",
       "SA                 162.5            108.5           12.0   \n",
       "\n",
       "           total_litres_of_pure_alcohol  \n",
       "continent                                \n",
       "AF                                 2.30  \n",
       "AS                                 1.20  \n",
       "EU                                10.00  \n",
       "NCA                                6.30  \n",
       "OC                                 1.75  \n",
       "SA                                 6.85  "
      ]
     },
     "execution_count": 25,
     "metadata": {},
     "output_type": "execute_result"
    }
   ],
   "source": [
    "drinks.groupby(\"continent\")[drinks.columns[1:-1]].median()"
   ]
  },
  {
   "attachments": {},
   "cell_type": "markdown",
   "metadata": {},
   "source": [
    "### Step 8. Print the mean, min and max values for spirit consumption per continent."
   ]
  },
  {
   "cell_type": "code",
   "execution_count": 28,
   "metadata": {},
   "outputs": [
    {
     "name": "stderr",
     "output_type": "stream",
     "text": [
      "C:\\Users\\hegoi\\AppData\\Local\\Temp\\ipykernel_16832\\141315091.py:1: FutureWarning: The provided callable <built-in function min> is currently using SeriesGroupBy.min. In a future version of pandas, the provided callable will be used directly. To keep current behavior pass the string \"min\" instead.\n",
      "  drinks.groupby(\"continent\")[\"spirit_servings\"].aggregate([min, \"max\", np.mean]).sort_values(\"max\", ascending=False)\n",
      "C:\\Users\\hegoi\\AppData\\Local\\Temp\\ipykernel_16832\\141315091.py:1: FutureWarning: The provided callable <function mean at 0x000001707EC2C180> is currently using SeriesGroupBy.mean. In a future version of pandas, the provided callable will be used directly. To keep current behavior pass the string \"mean\" instead.\n",
      "  drinks.groupby(\"continent\")[\"spirit_servings\"].aggregate([min, \"max\", np.mean]).sort_values(\"max\", ascending=False)\n"
     ]
    },
    {
     "data": {
      "application/vnd.microsoft.datawrangler.viewer.v0+json": {
       "columns": [
        {
         "name": "continent",
         "rawType": "object",
         "type": "string"
        },
        {
         "name": "min",
         "rawType": "int64",
         "type": "integer"
        },
        {
         "name": "max",
         "rawType": "int64",
         "type": "integer"
        },
        {
         "name": "mean",
         "rawType": "float64",
         "type": "float"
        }
       ],
       "conversionMethod": "pd.DataFrame",
       "ref": "e948543a-0bee-4f5d-9d10-c07eb303a1c3",
       "rows": [
        [
         "NCA",
         "68",
         "438",
         "165.7391304347826"
        ],
        [
         "EU",
         "0",
         "373",
         "132.55555555555554"
        ],
        [
         "AS",
         "0",
         "326",
         "60.84090909090909"
        ],
        [
         "SA",
         "25",
         "302",
         "114.75"
        ],
        [
         "OC",
         "0",
         "254",
         "58.4375"
        ],
        [
         "AF",
         "0",
         "152",
         "16.339622641509433"
        ]
       ],
       "shape": {
        "columns": 3,
        "rows": 6
       }
      },
      "text/html": [
       "<div>\n",
       "<style scoped>\n",
       "    .dataframe tbody tr th:only-of-type {\n",
       "        vertical-align: middle;\n",
       "    }\n",
       "\n",
       "    .dataframe tbody tr th {\n",
       "        vertical-align: top;\n",
       "    }\n",
       "\n",
       "    .dataframe thead th {\n",
       "        text-align: right;\n",
       "    }\n",
       "</style>\n",
       "<table border=\"1\" class=\"dataframe\">\n",
       "  <thead>\n",
       "    <tr style=\"text-align: right;\">\n",
       "      <th></th>\n",
       "      <th>min</th>\n",
       "      <th>max</th>\n",
       "      <th>mean</th>\n",
       "    </tr>\n",
       "    <tr>\n",
       "      <th>continent</th>\n",
       "      <th></th>\n",
       "      <th></th>\n",
       "      <th></th>\n",
       "    </tr>\n",
       "  </thead>\n",
       "  <tbody>\n",
       "    <tr>\n",
       "      <th>NCA</th>\n",
       "      <td>68</td>\n",
       "      <td>438</td>\n",
       "      <td>165.739130</td>\n",
       "    </tr>\n",
       "    <tr>\n",
       "      <th>EU</th>\n",
       "      <td>0</td>\n",
       "      <td>373</td>\n",
       "      <td>132.555556</td>\n",
       "    </tr>\n",
       "    <tr>\n",
       "      <th>AS</th>\n",
       "      <td>0</td>\n",
       "      <td>326</td>\n",
       "      <td>60.840909</td>\n",
       "    </tr>\n",
       "    <tr>\n",
       "      <th>SA</th>\n",
       "      <td>25</td>\n",
       "      <td>302</td>\n",
       "      <td>114.750000</td>\n",
       "    </tr>\n",
       "    <tr>\n",
       "      <th>OC</th>\n",
       "      <td>0</td>\n",
       "      <td>254</td>\n",
       "      <td>58.437500</td>\n",
       "    </tr>\n",
       "    <tr>\n",
       "      <th>AF</th>\n",
       "      <td>0</td>\n",
       "      <td>152</td>\n",
       "      <td>16.339623</td>\n",
       "    </tr>\n",
       "  </tbody>\n",
       "</table>\n",
       "</div>"
      ],
      "text/plain": [
       "           min  max        mean\n",
       "continent                      \n",
       "NCA         68  438  165.739130\n",
       "EU           0  373  132.555556\n",
       "AS           0  326   60.840909\n",
       "SA          25  302  114.750000\n",
       "OC           0  254   58.437500\n",
       "AF           0  152   16.339623"
      ]
     },
     "execution_count": 28,
     "metadata": {},
     "output_type": "execute_result"
    }
   ],
   "source": [
    "drinks.groupby(\"continent\")[\"spirit_servings\"].aggregate([min, \"max\", np.mean]).sort_values(\"max\", ascending=False)"
   ]
  },
  {
   "cell_type": "code",
   "execution_count": 29,
   "metadata": {},
   "outputs": [
    {
     "name": "stderr",
     "output_type": "stream",
     "text": [
      "C:\\Users\\hegoi\\AppData\\Local\\Temp\\ipykernel_16832\\1774797397.py:1: FutureWarning: The provided callable <function mean at 0x000001707EC2C180> is currently using SeriesGroupBy.mean. In a future version of pandas, the provided callable will be used directly. To keep current behavior pass the string \"mean\" instead.\n",
      "  drinks.groupby(\"continent\").agg({\"beer_servings\": [np.mean],\n",
      "C:\\Users\\hegoi\\AppData\\Local\\Temp\\ipykernel_16832\\1774797397.py:1: FutureWarning: The provided callable <built-in function min> is currently using SeriesGroupBy.min. In a future version of pandas, the provided callable will be used directly. To keep current behavior pass the string \"min\" instead.\n",
      "  drinks.groupby(\"continent\").agg({\"beer_servings\": [np.mean],\n",
      "C:\\Users\\hegoi\\AppData\\Local\\Temp\\ipykernel_16832\\1774797397.py:1: FutureWarning: The provided callable <function mean at 0x000001707EC2C180> is currently using SeriesGroupBy.mean. In a future version of pandas, the provided callable will be used directly. To keep current behavior pass the string \"mean\" instead.\n",
      "  drinks.groupby(\"continent\").agg({\"beer_servings\": [np.mean],\n"
     ]
    },
    {
     "data": {
      "application/vnd.microsoft.datawrangler.viewer.v0+json": {
       "columns": [
        {
         "name": "continent",
         "rawType": "object",
         "type": "string"
        },
        {
         "name": "('beer_servings', 'mean')",
         "rawType": "float64",
         "type": "float"
        },
        {
         "name": "('spirit_servings', 'min')",
         "rawType": "int64",
         "type": "integer"
        },
        {
         "name": "('spirit_servings', 'max')",
         "rawType": "int64",
         "type": "integer"
        },
        {
         "name": "('spirit_servings', 'mean')",
         "rawType": "float64",
         "type": "float"
        }
       ],
       "conversionMethod": "pd.DataFrame",
       "ref": "bfb0ea67-8093-44db-8ec1-257c6b33aa1c",
       "rows": [
        [
         "AF",
         "61.471698113207545",
         "0",
         "152",
         "16.339622641509433"
        ],
        [
         "AS",
         "37.04545454545455",
         "0",
         "326",
         "60.84090909090909"
        ],
        [
         "EU",
         "193.77777777777777",
         "0",
         "373",
         "132.55555555555554"
        ],
        [
         "NCA",
         "145.43478260869566",
         "68",
         "438",
         "165.7391304347826"
        ],
        [
         "OC",
         "89.6875",
         "0",
         "254",
         "58.4375"
        ],
        [
         "SA",
         "175.08333333333334",
         "25",
         "302",
         "114.75"
        ]
       ],
       "shape": {
        "columns": 4,
        "rows": 6
       }
      },
      "text/html": [
       "<div>\n",
       "<style scoped>\n",
       "    .dataframe tbody tr th:only-of-type {\n",
       "        vertical-align: middle;\n",
       "    }\n",
       "\n",
       "    .dataframe tbody tr th {\n",
       "        vertical-align: top;\n",
       "    }\n",
       "\n",
       "    .dataframe thead tr th {\n",
       "        text-align: left;\n",
       "    }\n",
       "\n",
       "    .dataframe thead tr:last-of-type th {\n",
       "        text-align: right;\n",
       "    }\n",
       "</style>\n",
       "<table border=\"1\" class=\"dataframe\">\n",
       "  <thead>\n",
       "    <tr>\n",
       "      <th></th>\n",
       "      <th>beer_servings</th>\n",
       "      <th colspan=\"3\" halign=\"left\">spirit_servings</th>\n",
       "    </tr>\n",
       "    <tr>\n",
       "      <th></th>\n",
       "      <th>mean</th>\n",
       "      <th>min</th>\n",
       "      <th>max</th>\n",
       "      <th>mean</th>\n",
       "    </tr>\n",
       "    <tr>\n",
       "      <th>continent</th>\n",
       "      <th></th>\n",
       "      <th></th>\n",
       "      <th></th>\n",
       "      <th></th>\n",
       "    </tr>\n",
       "  </thead>\n",
       "  <tbody>\n",
       "    <tr>\n",
       "      <th>AF</th>\n",
       "      <td>61.471698</td>\n",
       "      <td>0</td>\n",
       "      <td>152</td>\n",
       "      <td>16.339623</td>\n",
       "    </tr>\n",
       "    <tr>\n",
       "      <th>AS</th>\n",
       "      <td>37.045455</td>\n",
       "      <td>0</td>\n",
       "      <td>326</td>\n",
       "      <td>60.840909</td>\n",
       "    </tr>\n",
       "    <tr>\n",
       "      <th>EU</th>\n",
       "      <td>193.777778</td>\n",
       "      <td>0</td>\n",
       "      <td>373</td>\n",
       "      <td>132.555556</td>\n",
       "    </tr>\n",
       "    <tr>\n",
       "      <th>NCA</th>\n",
       "      <td>145.434783</td>\n",
       "      <td>68</td>\n",
       "      <td>438</td>\n",
       "      <td>165.739130</td>\n",
       "    </tr>\n",
       "    <tr>\n",
       "      <th>OC</th>\n",
       "      <td>89.687500</td>\n",
       "      <td>0</td>\n",
       "      <td>254</td>\n",
       "      <td>58.437500</td>\n",
       "    </tr>\n",
       "    <tr>\n",
       "      <th>SA</th>\n",
       "      <td>175.083333</td>\n",
       "      <td>25</td>\n",
       "      <td>302</td>\n",
       "      <td>114.750000</td>\n",
       "    </tr>\n",
       "  </tbody>\n",
       "</table>\n",
       "</div>"
      ],
      "text/plain": [
       "          beer_servings spirit_servings                 \n",
       "                   mean             min  max        mean\n",
       "continent                                               \n",
       "AF            61.471698               0  152   16.339623\n",
       "AS            37.045455               0  326   60.840909\n",
       "EU           193.777778               0  373  132.555556\n",
       "NCA          145.434783              68  438  165.739130\n",
       "OC            89.687500               0  254   58.437500\n",
       "SA           175.083333              25  302  114.750000"
      ]
     },
     "execution_count": 29,
     "metadata": {},
     "output_type": "execute_result"
    }
   ],
   "source": [
    "drinks.groupby(\"continent\").agg({\"beer_servings\": [np.mean],\n",
    "                                 \"spirit_servings\": [min, \"max\", np.mean]})"
   ]
  }
 ],
 "metadata": {
  "kernelspec": {
   "display_name": "Python 3",
   "language": "python",
   "name": "python3"
  },
  "language_info": {
   "codemirror_mode": {
    "name": "ipython",
    "version": 3
   },
   "file_extension": ".py",
   "mimetype": "text/x-python",
   "name": "python",
   "nbconvert_exporter": "python",
   "pygments_lexer": "ipython3",
   "version": "3.11.9"
  }
 },
 "nbformat": 4,
 "nbformat_minor": 4
}
