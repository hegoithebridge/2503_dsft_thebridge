{
 "cells": [
  {
   "attachments": {},
   "cell_type": "markdown",
   "metadata": {},
   "source": [
    "# Working with datetime in Pandas DataFrame"
   ]
  },
  {
   "cell_type": "code",
   "execution_count": 1,
   "metadata": {},
   "outputs": [],
   "source": [
    "import pandas as pd\n",
    "import numpy as np"
   ]
  },
  {
   "attachments": {},
   "cell_type": "markdown",
   "metadata": {},
   "source": [
    "### 1. Dates and Times in Python\n",
    "Python's basic objects for working with dates and times reside in the built-in ``datetime`` module.\n",
    "Along with the third-party ``dateutil`` module, you can use it to quickly perform a host of useful functionalities on dates and times.\n",
    "For example, you can manually build a date using the ``datetime`` type:"
   ]
  },
  {
   "cell_type": "code",
   "execution_count": 2,
   "metadata": {
    "colab": {},
    "colab_type": "code",
    "id": "P9iOKc-y_tc0",
    "outputId": "a35079fe-25fb-49ff-b3bf-2c614f6df36c",
    "tags": []
   },
   "outputs": [
    {
     "data": {
      "text/plain": [
       "datetime.datetime(2015, 7, 4, 0, 0)"
      ]
     },
     "execution_count": 2,
     "metadata": {},
     "output_type": "execute_result"
    }
   ],
   "source": [
    "from datetime import datetime\n",
    "datetime(year = 2015, month = 7, day = 4)"
   ]
  },
  {
   "attachments": {},
   "cell_type": "markdown",
   "metadata": {
    "colab_type": "text",
    "id": "Gq_hMa31_tc5"
   },
   "source": [
    "Or, using the ``dateutil`` module, you can parse dates from a variety of string formats:"
   ]
  },
  {
   "cell_type": "code",
   "execution_count": 4,
   "metadata": {
    "colab": {},
    "colab_type": "code",
    "collapsed": false,
    "id": "3iGEr-ov_tc6",
    "jupyter": {
     "outputs_hidden": false
    },
    "outputId": "4a7bfee1-23e8-49fb-8fcd-6620bc935fc9"
   },
   "outputs": [
    {
     "name": "stdout",
     "output_type": "stream",
     "text": [
      "2015-07-04 00:00:00\n",
      "2015-07-04 00:00:00\n",
      "2015-04-07 00:00:00\n"
     ]
    }
   ],
   "source": [
    "# https://dateutil.readthedocs.io/en/stable/parser.html#functions\n",
    "from dateutil import parser\n",
    "print(parser.parse(\"4th of July, 2015\"))\n",
    "print(parser.parse(\"07/04/2015\"))\n",
    "print(parser.parse(\"07/04/2015\", dayfirst=True))"
   ]
  },
  {
   "cell_type": "code",
   "execution_count": 5,
   "metadata": {},
   "outputs": [
    {
     "name": "stdout",
     "output_type": "stream",
     "text": [
      "2015-07-04 00:00:00\n",
      "2015-07-04 00:00:00\n",
      "2015-07-04 00:00:00\n"
     ]
    }
   ],
   "source": [
    "print(parser.parse(\"7/4/2015\"))\n",
    "print(parser.parse(\"07-04-2015\"))\n",
    "print(parser.parse(\"2015-07-04\"))"
   ]
  },
  {
   "attachments": {},
   "cell_type": "markdown",
   "metadata": {
    "colab_type": "text",
    "id": "tDzmAqGB_tc8"
   },
   "source": [
    "Once you have a ``datetime`` object, you can do things like printing the day of the week:"
   ]
  },
  {
   "cell_type": "code",
   "execution_count": 6,
   "metadata": {
    "colab": {},
    "colab_type": "code",
    "collapsed": false,
    "id": "ReivhqKW_tc9",
    "jupyter": {
     "outputs_hidden": false
    },
    "outputId": "d0ad4501-bc07-40f1-d981-f59b9061334f"
   },
   "outputs": [
    {
     "data": {
      "text/plain": [
       "'Saturday'"
      ]
     },
     "execution_count": 6,
     "metadata": {},
     "output_type": "execute_result"
    }
   ],
   "source": [
    "# https://docs.python.org/3/library/datetime.html#strftime-and-strptime-behavior\n",
    "datetime(year = 2015, month = 7, day = 4).strftime('%A')"
   ]
  },
  {
   "attachments": {},
   "cell_type": "markdown",
   "metadata": {},
   "source": [
    "### 2. Dates and Times in numpy"
   ]
  },
  {
   "cell_type": "code",
   "execution_count": 7,
   "metadata": {},
   "outputs": [
    {
     "data": {
      "text/plain": [
       "array('2015-07-04', dtype='datetime64[D]')"
      ]
     },
     "execution_count": 7,
     "metadata": {},
     "output_type": "execute_result"
    }
   ],
   "source": [
    "import numpy as np\n",
    "date = np.array('2015-07-04', dtype = np.datetime64)\n",
    "date"
   ]
  },
  {
   "cell_type": "code",
   "execution_count": 8,
   "metadata": {
    "collapsed": true,
    "jupyter": {
     "outputs_hidden": true
    },
    "tags": []
   },
   "outputs": [
    {
     "ename": "ValueError",
     "evalue": "Cannot create a NumPy datetime other than NaT with generic units",
     "output_type": "error",
     "traceback": [
      "\u001b[1;31m---------------------------------------------------------------------------\u001b[0m",
      "\u001b[1;31mValueError\u001b[0m                                Traceback (most recent call last)",
      "Cell \u001b[1;32mIn[8], line 1\u001b[0m\n\u001b[1;32m----> 1\u001b[0m \u001b[43mnp\u001b[49m\u001b[38;5;241;43m.\u001b[39;49m\u001b[43marray\u001b[49m\u001b[43m(\u001b[49m\u001b[38;5;124;43m'\u001b[39;49m\u001b[38;5;124;43m07-04-2015\u001b[39;49m\u001b[38;5;124;43m'\u001b[39;49m\u001b[43m,\u001b[49m\u001b[43m \u001b[49m\u001b[43mdtype\u001b[49m\u001b[43m \u001b[49m\u001b[38;5;241;43m=\u001b[39;49m\u001b[43m \u001b[49m\u001b[43mnp\u001b[49m\u001b[38;5;241;43m.\u001b[39;49m\u001b[43mdatetime64\u001b[49m\u001b[43m)\u001b[49m\n",
      "\u001b[1;31mValueError\u001b[0m: Cannot create a NumPy datetime other than NaT with generic units"
     ]
    }
   ],
   "source": [
    "np.array('07-04-2015', dtype = np.datetime64)"
   ]
  },
  {
   "attachments": {},
   "cell_type": "markdown",
   "metadata": {
    "colab_type": "text",
    "id": "hoSVu9OC_tdD"
   },
   "source": [
    "Once we have this date formatted, however, we can quickly do vectorized operations on it:"
   ]
  },
  {
   "cell_type": "code",
   "execution_count": 9,
   "metadata": {},
   "outputs": [
    {
     "data": {
      "text/plain": [
       "array('2015-07-04', dtype='datetime64[D]')"
      ]
     },
     "execution_count": 9,
     "metadata": {},
     "output_type": "execute_result"
    }
   ],
   "source": [
    "date"
   ]
  },
  {
   "cell_type": "code",
   "execution_count": 10,
   "metadata": {},
   "outputs": [
    {
     "data": {
      "text/plain": [
       "array([ 0,  1,  2,  3,  4,  5,  6,  7,  8,  9, 10, 11, 12, 13])"
      ]
     },
     "execution_count": 10,
     "metadata": {},
     "output_type": "execute_result"
    }
   ],
   "source": [
    "np.arange(14)"
   ]
  },
  {
   "cell_type": "code",
   "execution_count": 11,
   "metadata": {},
   "outputs": [
    {
     "data": {
      "text/plain": [
       "array('2015-07-04', dtype='datetime64[D]')"
      ]
     },
     "execution_count": 11,
     "metadata": {},
     "output_type": "execute_result"
    }
   ],
   "source": [
    "date"
   ]
  },
  {
   "cell_type": "code",
   "execution_count": 12,
   "metadata": {
    "colab": {},
    "colab_type": "code",
    "collapsed": false,
    "id": "acUKf6du_tdE",
    "jupyter": {
     "outputs_hidden": false
    },
    "outputId": "06504330-04bc-4d3e-e2ff-8ffc1fb491e7"
   },
   "outputs": [
    {
     "data": {
      "text/plain": [
       "array(['2015-07-04', '2015-07-05', '2015-07-06', '2015-07-07',\n",
       "       '2015-07-08', '2015-07-09', '2015-07-10', '2015-07-11',\n",
       "       '2015-07-12', '2015-07-13', '2015-07-14', '2015-07-15'],\n",
       "      dtype='datetime64[D]')"
      ]
     },
     "execution_count": 12,
     "metadata": {},
     "output_type": "execute_result"
    }
   ],
   "source": [
    "dates = date + np.arange(12)\n",
    "dates"
   ]
  },
  {
   "cell_type": "code",
   "execution_count": 13,
   "metadata": {},
   "outputs": [
    {
     "data": {
      "text/plain": [
       "np.datetime64('2015-07-04')"
      ]
     },
     "execution_count": 13,
     "metadata": {},
     "output_type": "execute_result"
    }
   ],
   "source": [
    "dates[0]"
   ]
  },
  {
   "attachments": {},
   "cell_type": "markdown",
   "metadata": {
    "colab_type": "text",
    "id": "9pu3289z_tdP"
   },
   "source": [
    "Here is a minute-based datetime:"
   ]
  },
  {
   "cell_type": "code",
   "execution_count": 14,
   "metadata": {
    "colab": {},
    "colab_type": "code",
    "collapsed": false,
    "id": "7ZwqzcvI_tdQ",
    "jupyter": {
     "outputs_hidden": false
    },
    "outputId": "544af26b-b6dc-4198-fe28-ee87f3a3a277"
   },
   "outputs": [
    {
     "data": {
      "text/plain": [
       "np.datetime64('2015-07-04T12:00:30')"
      ]
     },
     "execution_count": 14,
     "metadata": {},
     "output_type": "execute_result"
    }
   ],
   "source": [
    "np.datetime64('2015-07-04 12:00:30')"
   ]
  },
  {
   "attachments": {},
   "cell_type": "markdown",
   "metadata": {
    "colab_type": "text",
    "id": "Y5ftMJVh_tdX"
   },
   "source": [
    "Notice that the time zone is automatically set to the local time on the computer executing the code.\n",
    "You can force any desired fundamental unit using one of many format codes; for example, here we'll force a nanosecond-based time."
   ]
  },
  {
   "attachments": {},
   "cell_type": "markdown",
   "metadata": {
    "colab_type": "text",
    "id": "_rybFBQV_tdf"
   },
   "source": [
    "The following table, drawn from the [NumPy datetime64 documentation](http://docs.scipy.org/doc/numpy/reference/arrays.datetime.html), lists the available format codes along with the relative and absolute timespans that they can encode:"
   ]
  },
  {
   "attachments": {},
   "cell_type": "markdown",
   "metadata": {
    "colab_type": "text",
    "id": "5cu6JVco_tdf"
   },
   "source": [
    "|Code    | Meaning     | Time span (relative) | Time span (absolute)   |\n",
    "|--------|-------------|----------------------|------------------------|\n",
    "| ``Y``  | Year\t       | ± 9.2e18 years       | [9.2e18 BC, 9.2e18 AD] |\n",
    "| ``M``  | Month       | ± 7.6e17 years       | [7.6e17 BC, 7.6e17 AD] |\n",
    "| ``W``  | Week\t       | ± 1.7e17 years       | [1.7e17 BC, 1.7e17 AD] |\n",
    "| ``D``  | Day         | ± 2.5e16 years       | [2.5e16 BC, 2.5e16 AD] |\n",
    "| ``h``  | Hour        | ± 1.0e15 years       | [1.0e15 BC, 1.0e15 AD] |\n",
    "| ``m``  | Minute      | ± 1.7e13 years       | [1.7e13 BC, 1.7e13 AD] |\n",
    "| ``s``  | Second      | ± 2.9e12 years       | [ 2.9e9 BC, 2.9e9 AD]  |\n",
    "| ``ms`` | Millisecond | ± 2.9e9 years        | [ 2.9e6 BC, 2.9e6 AD]  |\n",
    "| ``us`` | Microsecond | ± 2.9e6 years        | [290301 BC, 294241 AD] |\n",
    "| ``ns`` | Nanosecond  | ± 292 years          | [ 1678 AD, 2262 AD]    |\n",
    "| ``ps`` | Picosecond  | ± 106 days           | [ 1969 AD, 1970 AD]    |\n",
    "| ``fs`` | Femtosecond | ± 2.6 hours          | [ 1969 AD, 1970 AD]    |\n",
    "| ``as`` | Attosecond  | ± 9.2 seconds        | [ 1969 AD, 1970 AD]    |"
   ]
  },
  {
   "attachments": {},
   "cell_type": "markdown",
   "metadata": {},
   "source": [
    "### 3. Dates and Times in Pandas"
   ]
  },
  {
   "attachments": {},
   "cell_type": "markdown",
   "metadata": {},
   "source": [
    "#### Default arguments"
   ]
  },
  {
   "cell_type": "code",
   "execution_count": 15,
   "metadata": {},
   "outputs": [
    {
     "data": {
      "application/vnd.microsoft.datawrangler.viewer.v0+json": {
       "columns": [
        {
         "name": "index",
         "rawType": "int64",
         "type": "integer"
        },
        {
         "name": "date",
         "rawType": "object",
         "type": "string"
        },
        {
         "name": "value",
         "rawType": "int64",
         "type": "integer"
        }
       ],
       "conversionMethod": "pd.DataFrame",
       "ref": "2432bf1f-a711-47c4-9843-257b2812aeaf",
       "rows": [
        [
         "0",
         "3/10/2000",
         "2"
        ],
        [
         "1",
         "3/11/2000",
         "3"
        ],
        [
         "2",
         "3/12/2000",
         "4"
        ]
       ],
       "shape": {
        "columns": 2,
        "rows": 3
       }
      },
      "text/html": [
       "<div>\n",
       "<style scoped>\n",
       "    .dataframe tbody tr th:only-of-type {\n",
       "        vertical-align: middle;\n",
       "    }\n",
       "\n",
       "    .dataframe tbody tr th {\n",
       "        vertical-align: top;\n",
       "    }\n",
       "\n",
       "    .dataframe thead th {\n",
       "        text-align: right;\n",
       "    }\n",
       "</style>\n",
       "<table border=\"1\" class=\"dataframe\">\n",
       "  <thead>\n",
       "    <tr style=\"text-align: right;\">\n",
       "      <th></th>\n",
       "      <th>date</th>\n",
       "      <th>value</th>\n",
       "    </tr>\n",
       "  </thead>\n",
       "  <tbody>\n",
       "    <tr>\n",
       "      <th>0</th>\n",
       "      <td>3/10/2000</td>\n",
       "      <td>2</td>\n",
       "    </tr>\n",
       "    <tr>\n",
       "      <th>1</th>\n",
       "      <td>3/11/2000</td>\n",
       "      <td>3</td>\n",
       "    </tr>\n",
       "    <tr>\n",
       "      <th>2</th>\n",
       "      <td>3/12/2000</td>\n",
       "      <td>4</td>\n",
       "    </tr>\n",
       "  </tbody>\n",
       "</table>\n",
       "</div>"
      ],
      "text/plain": [
       "        date  value\n",
       "0  3/10/2000      2\n",
       "1  3/11/2000      3\n",
       "2  3/12/2000      4"
      ]
     },
     "execution_count": 15,
     "metadata": {},
     "output_type": "execute_result"
    }
   ],
   "source": [
    "df = pd.DataFrame({'date': ['3/10/2000', '3/11/2000', '3/12/2000'],\n",
    "                   'value': [2, 3, 4]})\n",
    "df"
   ]
  },
  {
   "cell_type": "code",
   "execution_count": 16,
   "metadata": {},
   "outputs": [
    {
     "data": {
      "text/plain": [
       "date     object\n",
       "value     int64\n",
       "dtype: object"
      ]
     },
     "execution_count": 16,
     "metadata": {},
     "output_type": "execute_result"
    }
   ],
   "source": [
    "df.dtypes"
   ]
  },
  {
   "cell_type": "code",
   "execution_count": 17,
   "metadata": {},
   "outputs": [
    {
     "data": {
      "application/vnd.microsoft.datawrangler.viewer.v0+json": {
       "columns": [
        {
         "name": "index",
         "rawType": "int64",
         "type": "integer"
        },
        {
         "name": "date",
         "rawType": "datetime64[ns]",
         "type": "datetime"
        },
        {
         "name": "value",
         "rawType": "int64",
         "type": "integer"
        }
       ],
       "conversionMethod": "pd.DataFrame",
       "ref": "d1a3bd67-c99a-4312-a266-e1fde9aa7b5f",
       "rows": [
        [
         "0",
         "2000-03-10 00:00:00",
         "2"
        ],
        [
         "1",
         "2000-03-11 00:00:00",
         "3"
        ],
        [
         "2",
         "2000-03-12 00:00:00",
         "4"
        ]
       ],
       "shape": {
        "columns": 2,
        "rows": 3
       }
      },
      "text/html": [
       "<div>\n",
       "<style scoped>\n",
       "    .dataframe tbody tr th:only-of-type {\n",
       "        vertical-align: middle;\n",
       "    }\n",
       "\n",
       "    .dataframe tbody tr th {\n",
       "        vertical-align: top;\n",
       "    }\n",
       "\n",
       "    .dataframe thead th {\n",
       "        text-align: right;\n",
       "    }\n",
       "</style>\n",
       "<table border=\"1\" class=\"dataframe\">\n",
       "  <thead>\n",
       "    <tr style=\"text-align: right;\">\n",
       "      <th></th>\n",
       "      <th>date</th>\n",
       "      <th>value</th>\n",
       "    </tr>\n",
       "  </thead>\n",
       "  <tbody>\n",
       "    <tr>\n",
       "      <th>0</th>\n",
       "      <td>2000-03-10</td>\n",
       "      <td>2</td>\n",
       "    </tr>\n",
       "    <tr>\n",
       "      <th>1</th>\n",
       "      <td>2000-03-11</td>\n",
       "      <td>3</td>\n",
       "    </tr>\n",
       "    <tr>\n",
       "      <th>2</th>\n",
       "      <td>2000-03-12</td>\n",
       "      <td>4</td>\n",
       "    </tr>\n",
       "  </tbody>\n",
       "</table>\n",
       "</div>"
      ],
      "text/plain": [
       "        date  value\n",
       "0 2000-03-10      2\n",
       "1 2000-03-11      3\n",
       "2 2000-03-12      4"
      ]
     },
     "execution_count": 17,
     "metadata": {},
     "output_type": "execute_result"
    }
   ],
   "source": [
    "df['date'] = pd.to_datetime(df['date']) # dayfirst = False\n",
    "df"
   ]
  },
  {
   "cell_type": "code",
   "execution_count": 18,
   "metadata": {},
   "outputs": [
    {
     "data": {
      "text/plain": [
       "date     datetime64[ns]\n",
       "value             int64\n",
       "dtype: object"
      ]
     },
     "execution_count": 18,
     "metadata": {},
     "output_type": "execute_result"
    }
   ],
   "source": [
    "df.dtypes"
   ]
  },
  {
   "attachments": {},
   "cell_type": "markdown",
   "metadata": {},
   "source": [
    "#### Day first format"
   ]
  },
  {
   "cell_type": "code",
   "execution_count": 18,
   "metadata": {},
   "outputs": [
    {
     "data": {
      "application/vnd.microsoft.datawrangler.viewer.v0+json": {
       "columns": [
        {
         "name": "index",
         "rawType": "int64",
         "type": "integer"
        },
        {
         "name": "date",
         "rawType": "datetime64[ns]",
         "type": "datetime"
        },
        {
         "name": "value",
         "rawType": "int64",
         "type": "integer"
        }
       ],
       "conversionMethod": "pd.DataFrame",
       "ref": "0b671795-2b80-473e-8acf-6d1610352b4e",
       "rows": [
        [
         "0",
         "2000-10-03 00:00:00",
         "2"
        ],
        [
         "1",
         "2000-11-03 00:00:00",
         "3"
        ],
        [
         "2",
         "2000-12-03 00:00:00",
         "4"
        ]
       ],
       "shape": {
        "columns": 2,
        "rows": 3
       }
      },
      "text/html": [
       "<div>\n",
       "<style scoped>\n",
       "    .dataframe tbody tr th:only-of-type {\n",
       "        vertical-align: middle;\n",
       "    }\n",
       "\n",
       "    .dataframe tbody tr th {\n",
       "        vertical-align: top;\n",
       "    }\n",
       "\n",
       "    .dataframe thead th {\n",
       "        text-align: right;\n",
       "    }\n",
       "</style>\n",
       "<table border=\"1\" class=\"dataframe\">\n",
       "  <thead>\n",
       "    <tr style=\"text-align: right;\">\n",
       "      <th></th>\n",
       "      <th>date</th>\n",
       "      <th>value</th>\n",
       "    </tr>\n",
       "  </thead>\n",
       "  <tbody>\n",
       "    <tr>\n",
       "      <th>0</th>\n",
       "      <td>2000-10-03</td>\n",
       "      <td>2</td>\n",
       "    </tr>\n",
       "    <tr>\n",
       "      <th>1</th>\n",
       "      <td>2000-11-03</td>\n",
       "      <td>3</td>\n",
       "    </tr>\n",
       "    <tr>\n",
       "      <th>2</th>\n",
       "      <td>2000-12-03</td>\n",
       "      <td>4</td>\n",
       "    </tr>\n",
       "  </tbody>\n",
       "</table>\n",
       "</div>"
      ],
      "text/plain": [
       "        date  value\n",
       "0 2000-10-03      2\n",
       "1 2000-11-03      3\n",
       "2 2000-12-03      4"
      ]
     },
     "execution_count": 18,
     "metadata": {},
     "output_type": "execute_result"
    }
   ],
   "source": [
    "df = pd.DataFrame({'date': ['3/10/2000', '3/11/2000', '3/12/2000'],\n",
    "                   'value': [2, 3, 4]})\n",
    "\n",
    "df['date'] = pd.to_datetime(df['date'], dayfirst=True)\n",
    "df"
   ]
  },
  {
   "attachments": {},
   "cell_type": "markdown",
   "metadata": {},
   "source": [
    "#### Custom format "
   ]
  },
  {
   "cell_type": "code",
   "execution_count": 20,
   "metadata": {},
   "outputs": [
    {
     "data": {
      "application/vnd.microsoft.datawrangler.viewer.v0+json": {
       "columns": [
        {
         "name": "index",
         "rawType": "int64",
         "type": "integer"
        },
        {
         "name": "date",
         "rawType": "datetime64[ns]",
         "type": "datetime"
        },
        {
         "name": "value",
         "rawType": "int64",
         "type": "integer"
        }
       ],
       "conversionMethod": "pd.DataFrame",
       "ref": "2081795a-9375-4346-a5cc-6125681acdbd",
       "rows": [
        [
         "0",
         "2016-06-10 20:30:00",
         "2"
        ],
        [
         "1",
         "2016-07-01 19:45:30",
         "3"
        ],
        [
         "2",
         "2013-10-12 04:05:01",
         "4"
        ]
       ],
       "shape": {
        "columns": 2,
        "rows": 3
       }
      },
      "text/html": [
       "<div>\n",
       "<style scoped>\n",
       "    .dataframe tbody tr th:only-of-type {\n",
       "        vertical-align: middle;\n",
       "    }\n",
       "\n",
       "    .dataframe tbody tr th {\n",
       "        vertical-align: top;\n",
       "    }\n",
       "\n",
       "    .dataframe thead th {\n",
       "        text-align: right;\n",
       "    }\n",
       "</style>\n",
       "<table border=\"1\" class=\"dataframe\">\n",
       "  <thead>\n",
       "    <tr style=\"text-align: right;\">\n",
       "      <th></th>\n",
       "      <th>date</th>\n",
       "      <th>value</th>\n",
       "    </tr>\n",
       "  </thead>\n",
       "  <tbody>\n",
       "    <tr>\n",
       "      <th>0</th>\n",
       "      <td>2016-06-10 20:30:00</td>\n",
       "      <td>2</td>\n",
       "    </tr>\n",
       "    <tr>\n",
       "      <th>1</th>\n",
       "      <td>2016-07-01 19:45:30</td>\n",
       "      <td>3</td>\n",
       "    </tr>\n",
       "    <tr>\n",
       "      <th>2</th>\n",
       "      <td>2013-10-12 04:05:01</td>\n",
       "      <td>4</td>\n",
       "    </tr>\n",
       "  </tbody>\n",
       "</table>\n",
       "</div>"
      ],
      "text/plain": [
       "                 date  value\n",
       "0 2016-06-10 20:30:00      2\n",
       "1 2016-07-01 19:45:30      3\n",
       "2 2013-10-12 04:05:01      4"
      ]
     },
     "execution_count": 20,
     "metadata": {},
     "output_type": "execute_result"
    }
   ],
   "source": [
    "df = pd.DataFrame({'date': ['2016-6-10 20:30:0', \n",
    "                            '2016-7-1 19:45:30', \n",
    "                            '2013-10-12 4:5:1'],\n",
    "                   'value': [2, 3, 4]})\n",
    "\n",
    "df['date'] = pd.to_datetime(df['date'], format=\"%Y-%m-%d %H:%M:%S\")\n",
    "df"
   ]
  },
  {
   "attachments": {},
   "cell_type": "markdown",
   "metadata": {},
   "source": [
    "#### Handle parsing error"
   ]
  },
  {
   "cell_type": "code",
   "execution_count": 21,
   "metadata": {
    "collapsed": true,
    "jupyter": {
     "outputs_hidden": true
    },
    "tags": []
   },
   "outputs": [
    {
     "ename": "ValueError",
     "evalue": "time data \"a/11/2000\" doesn't match format \"%m/%d/%Y\", at position 1. You might want to try:\n    - passing `format` if your strings have a consistent format;\n    - passing `format='ISO8601'` if your strings are all ISO8601 but not necessarily in exactly the same format;\n    - passing `format='mixed'`, and the format will be inferred for each element individually. You might want to use `dayfirst` alongside this.",
     "output_type": "error",
     "traceback": [
      "\u001b[1;31m---------------------------------------------------------------------------\u001b[0m",
      "\u001b[1;31mValueError\u001b[0m                                Traceback (most recent call last)",
      "Cell \u001b[1;32mIn[21], line 4\u001b[0m\n\u001b[0;32m      1\u001b[0m df \u001b[38;5;241m=\u001b[39m pd\u001b[38;5;241m.\u001b[39mDataFrame({\u001b[38;5;124m'\u001b[39m\u001b[38;5;124mdate\u001b[39m\u001b[38;5;124m'\u001b[39m: [\u001b[38;5;124m'\u001b[39m\u001b[38;5;124m3/10/2000\u001b[39m\u001b[38;5;124m'\u001b[39m, \u001b[38;5;124m'\u001b[39m\u001b[38;5;124ma/11/2000\u001b[39m\u001b[38;5;124m'\u001b[39m, \u001b[38;5;124m'\u001b[39m\u001b[38;5;124m3/12/2000\u001b[39m\u001b[38;5;124m'\u001b[39m],\n\u001b[0;32m      2\u001b[0m                    \u001b[38;5;124m'\u001b[39m\u001b[38;5;124mvalue\u001b[39m\u001b[38;5;124m'\u001b[39m: [\u001b[38;5;241m2\u001b[39m, \u001b[38;5;241m3\u001b[39m, \u001b[38;5;241m4\u001b[39m]})\n\u001b[1;32m----> 4\u001b[0m df[\u001b[38;5;124m'\u001b[39m\u001b[38;5;124mdate\u001b[39m\u001b[38;5;124m'\u001b[39m] \u001b[38;5;241m=\u001b[39m \u001b[43mpd\u001b[49m\u001b[38;5;241;43m.\u001b[39;49m\u001b[43mto_datetime\u001b[49m\u001b[43m(\u001b[49m\u001b[43mdf\u001b[49m\u001b[43m[\u001b[49m\u001b[38;5;124;43m'\u001b[39;49m\u001b[38;5;124;43mdate\u001b[39;49m\u001b[38;5;124;43m'\u001b[39;49m\u001b[43m]\u001b[49m\u001b[43m)\u001b[49m\n",
      "File \u001b[1;32m~\\AppData\\Roaming\\Python\\Python311\\site-packages\\pandas\\core\\tools\\datetimes.py:1067\u001b[0m, in \u001b[0;36mto_datetime\u001b[1;34m(arg, errors, dayfirst, yearfirst, utc, format, exact, unit, infer_datetime_format, origin, cache)\u001b[0m\n\u001b[0;32m   1065\u001b[0m         result \u001b[38;5;241m=\u001b[39m arg\u001b[38;5;241m.\u001b[39mmap(cache_array)\n\u001b[0;32m   1066\u001b[0m     \u001b[38;5;28;01melse\u001b[39;00m:\n\u001b[1;32m-> 1067\u001b[0m         values \u001b[38;5;241m=\u001b[39m \u001b[43mconvert_listlike\u001b[49m\u001b[43m(\u001b[49m\u001b[43marg\u001b[49m\u001b[38;5;241;43m.\u001b[39;49m\u001b[43m_values\u001b[49m\u001b[43m,\u001b[49m\u001b[43m \u001b[49m\u001b[38;5;28;43mformat\u001b[39;49m\u001b[43m)\u001b[49m\n\u001b[0;32m   1068\u001b[0m         result \u001b[38;5;241m=\u001b[39m arg\u001b[38;5;241m.\u001b[39m_constructor(values, index\u001b[38;5;241m=\u001b[39marg\u001b[38;5;241m.\u001b[39mindex, name\u001b[38;5;241m=\u001b[39marg\u001b[38;5;241m.\u001b[39mname)\n\u001b[0;32m   1069\u001b[0m \u001b[38;5;28;01melif\u001b[39;00m \u001b[38;5;28misinstance\u001b[39m(arg, (ABCDataFrame, abc\u001b[38;5;241m.\u001b[39mMutableMapping)):\n",
      "File \u001b[1;32m~\\AppData\\Roaming\\Python\\Python311\\site-packages\\pandas\\core\\tools\\datetimes.py:433\u001b[0m, in \u001b[0;36m_convert_listlike_datetimes\u001b[1;34m(arg, format, name, utc, unit, errors, dayfirst, yearfirst, exact)\u001b[0m\n\u001b[0;32m    431\u001b[0m \u001b[38;5;66;03m# `format` could be inferred, or user didn't ask for mixed-format parsing.\u001b[39;00m\n\u001b[0;32m    432\u001b[0m \u001b[38;5;28;01mif\u001b[39;00m \u001b[38;5;28mformat\u001b[39m \u001b[38;5;129;01mis\u001b[39;00m \u001b[38;5;129;01mnot\u001b[39;00m \u001b[38;5;28;01mNone\u001b[39;00m \u001b[38;5;129;01mand\u001b[39;00m \u001b[38;5;28mformat\u001b[39m \u001b[38;5;241m!=\u001b[39m \u001b[38;5;124m\"\u001b[39m\u001b[38;5;124mmixed\u001b[39m\u001b[38;5;124m\"\u001b[39m:\n\u001b[1;32m--> 433\u001b[0m     \u001b[38;5;28;01mreturn\u001b[39;00m \u001b[43m_array_strptime_with_fallback\u001b[49m\u001b[43m(\u001b[49m\u001b[43marg\u001b[49m\u001b[43m,\u001b[49m\u001b[43m \u001b[49m\u001b[43mname\u001b[49m\u001b[43m,\u001b[49m\u001b[43m \u001b[49m\u001b[43mutc\u001b[49m\u001b[43m,\u001b[49m\u001b[43m \u001b[49m\u001b[38;5;28;43mformat\u001b[39;49m\u001b[43m,\u001b[49m\u001b[43m \u001b[49m\u001b[43mexact\u001b[49m\u001b[43m,\u001b[49m\u001b[43m \u001b[49m\u001b[43merrors\u001b[49m\u001b[43m)\u001b[49m\n\u001b[0;32m    435\u001b[0m result, tz_parsed \u001b[38;5;241m=\u001b[39m objects_to_datetime64(\n\u001b[0;32m    436\u001b[0m     arg,\n\u001b[0;32m    437\u001b[0m     dayfirst\u001b[38;5;241m=\u001b[39mdayfirst,\n\u001b[1;32m   (...)\u001b[0m\n\u001b[0;32m    441\u001b[0m     allow_object\u001b[38;5;241m=\u001b[39m\u001b[38;5;28;01mTrue\u001b[39;00m,\n\u001b[0;32m    442\u001b[0m )\n\u001b[0;32m    444\u001b[0m \u001b[38;5;28;01mif\u001b[39;00m tz_parsed \u001b[38;5;129;01mis\u001b[39;00m \u001b[38;5;129;01mnot\u001b[39;00m \u001b[38;5;28;01mNone\u001b[39;00m:\n\u001b[0;32m    445\u001b[0m     \u001b[38;5;66;03m# We can take a shortcut since the datetime64 numpy array\u001b[39;00m\n\u001b[0;32m    446\u001b[0m     \u001b[38;5;66;03m# is in UTC\u001b[39;00m\n",
      "File \u001b[1;32m~\\AppData\\Roaming\\Python\\Python311\\site-packages\\pandas\\core\\tools\\datetimes.py:467\u001b[0m, in \u001b[0;36m_array_strptime_with_fallback\u001b[1;34m(arg, name, utc, fmt, exact, errors)\u001b[0m\n\u001b[0;32m    456\u001b[0m \u001b[38;5;28;01mdef\u001b[39;00m\u001b[38;5;250m \u001b[39m\u001b[38;5;21m_array_strptime_with_fallback\u001b[39m(\n\u001b[0;32m    457\u001b[0m     arg,\n\u001b[0;32m    458\u001b[0m     name,\n\u001b[1;32m   (...)\u001b[0m\n\u001b[0;32m    462\u001b[0m     errors: \u001b[38;5;28mstr\u001b[39m,\n\u001b[0;32m    463\u001b[0m ) \u001b[38;5;241m-\u001b[39m\u001b[38;5;241m>\u001b[39m Index:\n\u001b[0;32m    464\u001b[0m \u001b[38;5;250m    \u001b[39m\u001b[38;5;124;03m\"\"\"\u001b[39;00m\n\u001b[0;32m    465\u001b[0m \u001b[38;5;124;03m    Call array_strptime, with fallback behavior depending on 'errors'.\u001b[39;00m\n\u001b[0;32m    466\u001b[0m \u001b[38;5;124;03m    \"\"\"\u001b[39;00m\n\u001b[1;32m--> 467\u001b[0m     result, tz_out \u001b[38;5;241m=\u001b[39m \u001b[43marray_strptime\u001b[49m\u001b[43m(\u001b[49m\u001b[43marg\u001b[49m\u001b[43m,\u001b[49m\u001b[43m \u001b[49m\u001b[43mfmt\u001b[49m\u001b[43m,\u001b[49m\u001b[43m \u001b[49m\u001b[43mexact\u001b[49m\u001b[38;5;241;43m=\u001b[39;49m\u001b[43mexact\u001b[49m\u001b[43m,\u001b[49m\u001b[43m \u001b[49m\u001b[43merrors\u001b[49m\u001b[38;5;241;43m=\u001b[39;49m\u001b[43merrors\u001b[49m\u001b[43m,\u001b[49m\u001b[43m \u001b[49m\u001b[43mutc\u001b[49m\u001b[38;5;241;43m=\u001b[39;49m\u001b[43mutc\u001b[49m\u001b[43m)\u001b[49m\n\u001b[0;32m    468\u001b[0m     \u001b[38;5;28;01mif\u001b[39;00m tz_out \u001b[38;5;129;01mis\u001b[39;00m \u001b[38;5;129;01mnot\u001b[39;00m \u001b[38;5;28;01mNone\u001b[39;00m:\n\u001b[0;32m    469\u001b[0m         unit \u001b[38;5;241m=\u001b[39m np\u001b[38;5;241m.\u001b[39mdatetime_data(result\u001b[38;5;241m.\u001b[39mdtype)[\u001b[38;5;241m0\u001b[39m]\n",
      "File \u001b[1;32mstrptime.pyx:501\u001b[0m, in \u001b[0;36mpandas._libs.tslibs.strptime.array_strptime\u001b[1;34m()\u001b[0m\n",
      "File \u001b[1;32mstrptime.pyx:451\u001b[0m, in \u001b[0;36mpandas._libs.tslibs.strptime.array_strptime\u001b[1;34m()\u001b[0m\n",
      "File \u001b[1;32mstrptime.pyx:583\u001b[0m, in \u001b[0;36mpandas._libs.tslibs.strptime._parse_with_format\u001b[1;34m()\u001b[0m\n",
      "\u001b[1;31mValueError\u001b[0m: time data \"a/11/2000\" doesn't match format \"%m/%d/%Y\", at position 1. You might want to try:\n    - passing `format` if your strings have a consistent format;\n    - passing `format='ISO8601'` if your strings are all ISO8601 but not necessarily in exactly the same format;\n    - passing `format='mixed'`, and the format will be inferred for each element individually. You might want to use `dayfirst` alongside this."
     ]
    }
   ],
   "source": [
    "df = pd.DataFrame({'date': ['3/10/2000', 'a/11/2000', '3/12/2000'],\n",
    "                   'value': [2, 3, 4]})\n",
    "\n",
    "df['date'] = pd.to_datetime(df['date'])"
   ]
  },
  {
   "cell_type": "code",
   "execution_count": null,
   "metadata": {},
   "outputs": [
    {
     "name": "stderr",
     "output_type": "stream",
     "text": [
      "C:\\Users\\hegoi\\AppData\\Local\\Temp\\ipykernel_18388\\1808340823.py:4: FutureWarning: errors='ignore' is deprecated and will raise in a future version. Use to_datetime without passing `errors` and catch exceptions explicitly instead\n",
      "  df['date'] = pd.to_datetime(df['date'], errors = 'ignore')\n"
     ]
    },
    {
     "data": {
      "text/html": [
       "<div>\n",
       "<style scoped>\n",
       "    .dataframe tbody tr th:only-of-type {\n",
       "        vertical-align: middle;\n",
       "    }\n",
       "\n",
       "    .dataframe tbody tr th {\n",
       "        vertical-align: top;\n",
       "    }\n",
       "\n",
       "    .dataframe thead th {\n",
       "        text-align: right;\n",
       "    }\n",
       "</style>\n",
       "<table border=\"1\" class=\"dataframe\">\n",
       "  <thead>\n",
       "    <tr style=\"text-align: right;\">\n",
       "      <th></th>\n",
       "      <th>date</th>\n",
       "      <th>value</th>\n",
       "    </tr>\n",
       "  </thead>\n",
       "  <tbody>\n",
       "    <tr>\n",
       "      <th>0</th>\n",
       "      <td>3/10/2000</td>\n",
       "      <td>2</td>\n",
       "    </tr>\n",
       "    <tr>\n",
       "      <th>1</th>\n",
       "      <td>a/11/2000</td>\n",
       "      <td>3</td>\n",
       "    </tr>\n",
       "    <tr>\n",
       "      <th>2</th>\n",
       "      <td>3/12/2000</td>\n",
       "      <td>4</td>\n",
       "    </tr>\n",
       "  </tbody>\n",
       "</table>\n",
       "</div>"
      ],
      "text/plain": [
       "        date  value\n",
       "0  3/10/2000      2\n",
       "1  a/11/2000      3\n",
       "2  3/12/2000      4"
      ]
     },
     "execution_count": 22,
     "metadata": {},
     "output_type": "execute_result"
    }
   ],
   "source": [
    "df = pd.DataFrame({'date': ['3/10/2000', 'a/11/2000', '3/12/2000'],\n",
    "                   'value': [2, 3, 4]})\n",
    "\n",
    "df['date'] = pd.to_datetime(df['date'], errors = 'ignore')\n",
    "df.dtypes\n",
    "df"
   ]
  },
  {
   "cell_type": "code",
   "execution_count": null,
   "metadata": {},
   "outputs": [
    {
     "data": {
      "text/html": [
       "<div>\n",
       "<style scoped>\n",
       "    .dataframe tbody tr th:only-of-type {\n",
       "        vertical-align: middle;\n",
       "    }\n",
       "\n",
       "    .dataframe tbody tr th {\n",
       "        vertical-align: top;\n",
       "    }\n",
       "\n",
       "    .dataframe thead th {\n",
       "        text-align: right;\n",
       "    }\n",
       "</style>\n",
       "<table border=\"1\" class=\"dataframe\">\n",
       "  <thead>\n",
       "    <tr style=\"text-align: right;\">\n",
       "      <th></th>\n",
       "      <th>date</th>\n",
       "      <th>value</th>\n",
       "    </tr>\n",
       "  </thead>\n",
       "  <tbody>\n",
       "    <tr>\n",
       "      <th>0</th>\n",
       "      <td>2000-03-10</td>\n",
       "      <td>2</td>\n",
       "    </tr>\n",
       "    <tr>\n",
       "      <th>1</th>\n",
       "      <td>NaT</td>\n",
       "      <td>3</td>\n",
       "    </tr>\n",
       "    <tr>\n",
       "      <th>2</th>\n",
       "      <td>2000-03-12</td>\n",
       "      <td>4</td>\n",
       "    </tr>\n",
       "  </tbody>\n",
       "</table>\n",
       "</div>"
      ],
      "text/plain": [
       "        date  value\n",
       "0 2000-03-10      2\n",
       "1        NaT      3\n",
       "2 2000-03-12      4"
      ]
     },
     "execution_count": 41,
     "metadata": {},
     "output_type": "execute_result"
    }
   ],
   "source": [
    "df = pd.DataFrame({'date': ['3/10/2000', 'a/11/2000', '3/12/2000'],\n",
    "                   'value': [2, 3, 4]})\n",
    "\n",
    "df['date'] = pd.to_datetime(df['date'], errors = 'coerce')\n",
    "df"
   ]
  },
  {
   "cell_type": "code",
   "execution_count": null,
   "metadata": {},
   "outputs": [
    {
     "data": {
      "text/html": [
       "<div>\n",
       "<style scoped>\n",
       "    .dataframe tbody tr th:only-of-type {\n",
       "        vertical-align: middle;\n",
       "    }\n",
       "\n",
       "    .dataframe tbody tr th {\n",
       "        vertical-align: top;\n",
       "    }\n",
       "\n",
       "    .dataframe thead th {\n",
       "        text-align: right;\n",
       "    }\n",
       "</style>\n",
       "<table border=\"1\" class=\"dataframe\">\n",
       "  <thead>\n",
       "    <tr style=\"text-align: right;\">\n",
       "      <th></th>\n",
       "      <th>date</th>\n",
       "      <th>value</th>\n",
       "    </tr>\n",
       "  </thead>\n",
       "  <tbody>\n",
       "    <tr>\n",
       "      <th>1</th>\n",
       "      <td>NaT</td>\n",
       "      <td>3</td>\n",
       "    </tr>\n",
       "  </tbody>\n",
       "</table>\n",
       "</div>"
      ],
      "text/plain": [
       "  date  value\n",
       "1  NaT      3"
      ]
     },
     "execution_count": 42,
     "metadata": {},
     "output_type": "execute_result"
    }
   ],
   "source": [
    "df[df['date'].isnull()]"
   ]
  },
  {
   "cell_type": "code",
   "execution_count": null,
   "metadata": {},
   "outputs": [
    {
     "data": {
      "text/plain": [
       "date     datetime64[ns]\n",
       "value             int64\n",
       "dtype: object"
      ]
     },
     "execution_count": 43,
     "metadata": {},
     "output_type": "execute_result"
    }
   ],
   "source": [
    "df.dtypes"
   ]
  },
  {
   "attachments": {},
   "cell_type": "markdown",
   "metadata": {},
   "source": [
    "### 4. Assemble a datetime from multiple columns"
   ]
  },
  {
   "cell_type": "code",
   "execution_count": 22,
   "metadata": {},
   "outputs": [
    {
     "data": {
      "application/vnd.microsoft.datawrangler.viewer.v0+json": {
       "columns": [
        {
         "name": "index",
         "rawType": "int64",
         "type": "integer"
        },
        {
         "name": "year",
         "rawType": "int64",
         "type": "integer"
        },
        {
         "name": "month",
         "rawType": "int64",
         "type": "integer"
        },
        {
         "name": "day",
         "rawType": "int64",
         "type": "integer"
        }
       ],
       "conversionMethod": "pd.DataFrame",
       "ref": "53a90e9e-9e47-4155-9de0-0995525b3810",
       "rows": [
        [
         "0",
         "2015",
         "2",
         "4"
        ],
        [
         "1",
         "2016",
         "3",
         "5"
        ]
       ],
       "shape": {
        "columns": 3,
        "rows": 2
       }
      },
      "text/html": [
       "<div>\n",
       "<style scoped>\n",
       "    .dataframe tbody tr th:only-of-type {\n",
       "        vertical-align: middle;\n",
       "    }\n",
       "\n",
       "    .dataframe tbody tr th {\n",
       "        vertical-align: top;\n",
       "    }\n",
       "\n",
       "    .dataframe thead th {\n",
       "        text-align: right;\n",
       "    }\n",
       "</style>\n",
       "<table border=\"1\" class=\"dataframe\">\n",
       "  <thead>\n",
       "    <tr style=\"text-align: right;\">\n",
       "      <th></th>\n",
       "      <th>year</th>\n",
       "      <th>month</th>\n",
       "      <th>day</th>\n",
       "    </tr>\n",
       "  </thead>\n",
       "  <tbody>\n",
       "    <tr>\n",
       "      <th>0</th>\n",
       "      <td>2015</td>\n",
       "      <td>2</td>\n",
       "      <td>4</td>\n",
       "    </tr>\n",
       "    <tr>\n",
       "      <th>1</th>\n",
       "      <td>2016</td>\n",
       "      <td>3</td>\n",
       "      <td>5</td>\n",
       "    </tr>\n",
       "  </tbody>\n",
       "</table>\n",
       "</div>"
      ],
      "text/plain": [
       "   year  month  day\n",
       "0  2015      2    4\n",
       "1  2016      3    5"
      ]
     },
     "execution_count": 22,
     "metadata": {},
     "output_type": "execute_result"
    }
   ],
   "source": [
    "df = pd.DataFrame({'year': [2015, 2016],\n",
    "                   'month': [2, 3],\n",
    "                   'day': [4, 5]})\n",
    "\n",
    "df"
   ]
  },
  {
   "cell_type": "code",
   "execution_count": 23,
   "metadata": {},
   "outputs": [
    {
     "data": {
      "text/plain": [
       "year     int64\n",
       "month    int64\n",
       "day      int64\n",
       "dtype: object"
      ]
     },
     "execution_count": 23,
     "metadata": {},
     "output_type": "execute_result"
    }
   ],
   "source": [
    "df.dtypes"
   ]
  },
  {
   "cell_type": "code",
   "execution_count": 24,
   "metadata": {},
   "outputs": [],
   "source": [
    "df['date'] = pd.to_datetime(df)"
   ]
  },
  {
   "cell_type": "code",
   "execution_count": 25,
   "metadata": {},
   "outputs": [
    {
     "data": {
      "application/vnd.microsoft.datawrangler.viewer.v0+json": {
       "columns": [
        {
         "name": "index",
         "rawType": "int64",
         "type": "integer"
        },
        {
         "name": "year",
         "rawType": "int64",
         "type": "integer"
        },
        {
         "name": "month",
         "rawType": "int64",
         "type": "integer"
        },
        {
         "name": "day",
         "rawType": "int64",
         "type": "integer"
        },
        {
         "name": "date",
         "rawType": "datetime64[ns]",
         "type": "datetime"
        }
       ],
       "conversionMethod": "pd.DataFrame",
       "ref": "6a7bb4df-85c9-41c8-a28a-64266c811b49",
       "rows": [
        [
         "0",
         "2015",
         "2",
         "4",
         "2015-02-04 00:00:00"
        ],
        [
         "1",
         "2016",
         "3",
         "5",
         "2016-03-05 00:00:00"
        ]
       ],
       "shape": {
        "columns": 4,
        "rows": 2
       }
      },
      "text/html": [
       "<div>\n",
       "<style scoped>\n",
       "    .dataframe tbody tr th:only-of-type {\n",
       "        vertical-align: middle;\n",
       "    }\n",
       "\n",
       "    .dataframe tbody tr th {\n",
       "        vertical-align: top;\n",
       "    }\n",
       "\n",
       "    .dataframe thead th {\n",
       "        text-align: right;\n",
       "    }\n",
       "</style>\n",
       "<table border=\"1\" class=\"dataframe\">\n",
       "  <thead>\n",
       "    <tr style=\"text-align: right;\">\n",
       "      <th></th>\n",
       "      <th>year</th>\n",
       "      <th>month</th>\n",
       "      <th>day</th>\n",
       "      <th>date</th>\n",
       "    </tr>\n",
       "  </thead>\n",
       "  <tbody>\n",
       "    <tr>\n",
       "      <th>0</th>\n",
       "      <td>2015</td>\n",
       "      <td>2</td>\n",
       "      <td>4</td>\n",
       "      <td>2015-02-04</td>\n",
       "    </tr>\n",
       "    <tr>\n",
       "      <th>1</th>\n",
       "      <td>2016</td>\n",
       "      <td>3</td>\n",
       "      <td>5</td>\n",
       "      <td>2016-03-05</td>\n",
       "    </tr>\n",
       "  </tbody>\n",
       "</table>\n",
       "</div>"
      ],
      "text/plain": [
       "   year  month  day       date\n",
       "0  2015      2    4 2015-02-04\n",
       "1  2016      3    5 2016-03-05"
      ]
     },
     "execution_count": 25,
     "metadata": {},
     "output_type": "execute_result"
    }
   ],
   "source": [
    "df"
   ]
  },
  {
   "cell_type": "code",
   "execution_count": 26,
   "metadata": {},
   "outputs": [
    {
     "data": {
      "text/plain": [
       "year              int64\n",
       "month             int64\n",
       "day               int64\n",
       "date     datetime64[ns]\n",
       "dtype: object"
      ]
     },
     "execution_count": 26,
     "metadata": {},
     "output_type": "execute_result"
    }
   ],
   "source": [
    "df.dtypes"
   ]
  },
  {
   "attachments": {},
   "cell_type": "markdown",
   "metadata": {},
   "source": [
    "### 5. Get year, month and day"
   ]
  },
  {
   "cell_type": "code",
   "execution_count": 27,
   "metadata": {},
   "outputs": [
    {
     "data": {
      "application/vnd.microsoft.datawrangler.viewer.v0+json": {
       "columns": [
        {
         "name": "index",
         "rawType": "int64",
         "type": "integer"
        },
        {
         "name": "name",
         "rawType": "object",
         "type": "string"
        },
        {
         "name": "DoB",
         "rawType": "datetime64[ns]",
         "type": "datetime"
        }
       ],
       "conversionMethod": "pd.DataFrame",
       "ref": "1b2f3cea-eb00-4461-a93a-d124cf927238",
       "rows": [
        [
         "0",
         "Tom",
         "1997-08-05 00:00:00"
        ],
        [
         "1",
         "Andy",
         "1996-04-28 00:00:00"
        ],
        [
         "2",
         "Lucas",
         "1995-12-16 00:00:00"
        ]
       ],
       "shape": {
        "columns": 2,
        "rows": 3
       }
      },
      "text/html": [
       "<div>\n",
       "<style scoped>\n",
       "    .dataframe tbody tr th:only-of-type {\n",
       "        vertical-align: middle;\n",
       "    }\n",
       "\n",
       "    .dataframe tbody tr th {\n",
       "        vertical-align: top;\n",
       "    }\n",
       "\n",
       "    .dataframe thead th {\n",
       "        text-align: right;\n",
       "    }\n",
       "</style>\n",
       "<table border=\"1\" class=\"dataframe\">\n",
       "  <thead>\n",
       "    <tr style=\"text-align: right;\">\n",
       "      <th></th>\n",
       "      <th>name</th>\n",
       "      <th>DoB</th>\n",
       "    </tr>\n",
       "  </thead>\n",
       "  <tbody>\n",
       "    <tr>\n",
       "      <th>0</th>\n",
       "      <td>Tom</td>\n",
       "      <td>1997-08-05</td>\n",
       "    </tr>\n",
       "    <tr>\n",
       "      <th>1</th>\n",
       "      <td>Andy</td>\n",
       "      <td>1996-04-28</td>\n",
       "    </tr>\n",
       "    <tr>\n",
       "      <th>2</th>\n",
       "      <td>Lucas</td>\n",
       "      <td>1995-12-16</td>\n",
       "    </tr>\n",
       "  </tbody>\n",
       "</table>\n",
       "</div>"
      ],
      "text/plain": [
       "    name        DoB\n",
       "0    Tom 1997-08-05\n",
       "1   Andy 1996-04-28\n",
       "2  Lucas 1995-12-16"
      ]
     },
     "execution_count": 27,
     "metadata": {},
     "output_type": "execute_result"
    }
   ],
   "source": [
    "df = pd.DataFrame({'name': ['Tom', 'Andy', 'Lucas'],\n",
    "                 'DoB': ['08-05-1997', '04-28-1996', '12-16-1995']})\n",
    "\n",
    "df['DoB'] = pd.to_datetime(df['DoB'])\n",
    "df"
   ]
  },
  {
   "cell_type": "code",
   "execution_count": 28,
   "metadata": {},
   "outputs": [
    {
     "data": {
      "text/plain": [
       "name            object\n",
       "DoB     datetime64[ns]\n",
       "dtype: object"
      ]
     },
     "execution_count": 28,
     "metadata": {},
     "output_type": "execute_result"
    }
   ],
   "source": [
    "df.dtypes"
   ]
  },
  {
   "cell_type": "code",
   "execution_count": 23,
   "metadata": {},
   "outputs": [
    {
     "data": {
      "application/vnd.microsoft.datawrangler.viewer.v0+json": {
       "columns": [
        {
         "name": "index",
         "rawType": "int64",
         "type": "integer"
        },
        {
         "name": "name",
         "rawType": "object",
         "type": "string"
        },
        {
         "name": "DoB",
         "rawType": "datetime64[ns]",
         "type": "datetime"
        },
        {
         "name": "year",
         "rawType": "int32",
         "type": "integer"
        },
        {
         "name": "month",
         "rawType": "int32",
         "type": "integer"
        },
        {
         "name": "day",
         "rawType": "int32",
         "type": "integer"
        }
       ],
       "conversionMethod": "pd.DataFrame",
       "ref": "7c4c3386-8ba8-40ff-a1f8-e977aefd9c29",
       "rows": [
        [
         "0",
         "Tom",
         "1997-08-05 00:00:00",
         "1997",
         "8",
         "5"
        ],
        [
         "1",
         "Andy",
         "1996-04-28 00:00:00",
         "1996",
         "4",
         "28"
        ],
        [
         "2",
         "Lucas",
         "1995-12-16 00:00:00",
         "1995",
         "12",
         "16"
        ]
       ],
       "shape": {
        "columns": 5,
        "rows": 3
       }
      },
      "text/html": [
       "<div>\n",
       "<style scoped>\n",
       "    .dataframe tbody tr th:only-of-type {\n",
       "        vertical-align: middle;\n",
       "    }\n",
       "\n",
       "    .dataframe tbody tr th {\n",
       "        vertical-align: top;\n",
       "    }\n",
       "\n",
       "    .dataframe thead th {\n",
       "        text-align: right;\n",
       "    }\n",
       "</style>\n",
       "<table border=\"1\" class=\"dataframe\">\n",
       "  <thead>\n",
       "    <tr style=\"text-align: right;\">\n",
       "      <th></th>\n",
       "      <th>name</th>\n",
       "      <th>DoB</th>\n",
       "      <th>year</th>\n",
       "      <th>month</th>\n",
       "      <th>day</th>\n",
       "    </tr>\n",
       "  </thead>\n",
       "  <tbody>\n",
       "    <tr>\n",
       "      <th>0</th>\n",
       "      <td>Tom</td>\n",
       "      <td>1997-08-05</td>\n",
       "      <td>1997</td>\n",
       "      <td>8</td>\n",
       "      <td>5</td>\n",
       "    </tr>\n",
       "    <tr>\n",
       "      <th>1</th>\n",
       "      <td>Andy</td>\n",
       "      <td>1996-04-28</td>\n",
       "      <td>1996</td>\n",
       "      <td>4</td>\n",
       "      <td>28</td>\n",
       "    </tr>\n",
       "    <tr>\n",
       "      <th>2</th>\n",
       "      <td>Lucas</td>\n",
       "      <td>1995-12-16</td>\n",
       "      <td>1995</td>\n",
       "      <td>12</td>\n",
       "      <td>16</td>\n",
       "    </tr>\n",
       "  </tbody>\n",
       "</table>\n",
       "</div>"
      ],
      "text/plain": [
       "    name        DoB  year  month  day\n",
       "0    Tom 1997-08-05  1997      8    5\n",
       "1   Andy 1996-04-28  1996      4   28\n",
       "2  Lucas 1995-12-16  1995     12   16"
      ]
     },
     "execution_count": 23,
     "metadata": {},
     "output_type": "execute_result"
    }
   ],
   "source": [
    "df['year'] = df['DoB'].dt.year\n",
    "df['month'] = df['DoB'].dt.month\n",
    "df['day'] = df['DoB'].dt.day\n",
    "df"
   ]
  },
  {
   "cell_type": "code",
   "execution_count": 24,
   "metadata": {},
   "outputs": [
    {
     "data": {
      "text/plain": [
       "name             object\n",
       "DoB      datetime64[ns]\n",
       "year              int32\n",
       "month             int32\n",
       "day               int32\n",
       "dtype: object"
      ]
     },
     "execution_count": 24,
     "metadata": {},
     "output_type": "execute_result"
    }
   ],
   "source": [
    "df.dtypes"
   ]
  },
  {
   "attachments": {},
   "cell_type": "markdown",
   "metadata": {},
   "source": [
    "### 6. Get the week of year, the day of week and leap year"
   ]
  },
  {
   "cell_type": "code",
   "execution_count": 29,
   "metadata": {},
   "outputs": [
    {
     "data": {
      "application/vnd.microsoft.datawrangler.viewer.v0+json": {
       "columns": [
        {
         "name": "index",
         "rawType": "int64",
         "type": "integer"
        },
        {
         "name": "name",
         "rawType": "object",
         "type": "string"
        },
        {
         "name": "DoB",
         "rawType": "datetime64[ns]",
         "type": "datetime"
        },
        {
         "name": "week_of_year",
         "rawType": "UInt32",
         "type": "integer"
        },
        {
         "name": "day_of_week",
         "rawType": "int32",
         "type": "integer"
        },
        {
         "name": "is_leap_year",
         "rawType": "bool",
         "type": "boolean"
        }
       ],
       "conversionMethod": "pd.DataFrame",
       "ref": "175ea93b-6422-4603-afc5-78574a106eb3",
       "rows": [
        [
         "0",
         "Tom",
         "1997-08-05 00:00:00",
         "32",
         "1",
         "False"
        ],
        [
         "1",
         "Andy",
         "1996-04-28 00:00:00",
         "17",
         "6",
         "True"
        ],
        [
         "2",
         "Lucas",
         "1995-12-16 00:00:00",
         "50",
         "5",
         "False"
        ]
       ],
       "shape": {
        "columns": 5,
        "rows": 3
       }
      },
      "text/html": [
       "<div>\n",
       "<style scoped>\n",
       "    .dataframe tbody tr th:only-of-type {\n",
       "        vertical-align: middle;\n",
       "    }\n",
       "\n",
       "    .dataframe tbody tr th {\n",
       "        vertical-align: top;\n",
       "    }\n",
       "\n",
       "    .dataframe thead th {\n",
       "        text-align: right;\n",
       "    }\n",
       "</style>\n",
       "<table border=\"1\" class=\"dataframe\">\n",
       "  <thead>\n",
       "    <tr style=\"text-align: right;\">\n",
       "      <th></th>\n",
       "      <th>name</th>\n",
       "      <th>DoB</th>\n",
       "      <th>week_of_year</th>\n",
       "      <th>day_of_week</th>\n",
       "      <th>is_leap_year</th>\n",
       "    </tr>\n",
       "  </thead>\n",
       "  <tbody>\n",
       "    <tr>\n",
       "      <th>0</th>\n",
       "      <td>Tom</td>\n",
       "      <td>1997-08-05</td>\n",
       "      <td>32</td>\n",
       "      <td>1</td>\n",
       "      <td>False</td>\n",
       "    </tr>\n",
       "    <tr>\n",
       "      <th>1</th>\n",
       "      <td>Andy</td>\n",
       "      <td>1996-04-28</td>\n",
       "      <td>17</td>\n",
       "      <td>6</td>\n",
       "      <td>True</td>\n",
       "    </tr>\n",
       "    <tr>\n",
       "      <th>2</th>\n",
       "      <td>Lucas</td>\n",
       "      <td>1995-12-16</td>\n",
       "      <td>50</td>\n",
       "      <td>5</td>\n",
       "      <td>False</td>\n",
       "    </tr>\n",
       "  </tbody>\n",
       "</table>\n",
       "</div>"
      ],
      "text/plain": [
       "    name        DoB  week_of_year  day_of_week  is_leap_year\n",
       "0    Tom 1997-08-05            32            1         False\n",
       "1   Andy 1996-04-28            17            6          True\n",
       "2  Lucas 1995-12-16            50            5         False"
      ]
     },
     "execution_count": 29,
     "metadata": {},
     "output_type": "execute_result"
    }
   ],
   "source": [
    "df['week_of_year'] = df['DoB'].dt.isocalendar().week\n",
    "df['day_of_week'] = df['DoB'].dt.dayofweek\n",
    "df['is_leap_year'] = df['DoB'].dt.is_leap_year\n",
    "df"
   ]
  },
  {
   "cell_type": "code",
   "execution_count": 27,
   "metadata": {},
   "outputs": [
    {
     "data": {
      "application/vnd.microsoft.datawrangler.viewer.v0+json": {
       "columns": [
        {
         "name": "index",
         "rawType": "int64",
         "type": "integer"
        },
        {
         "name": "name",
         "rawType": "object",
         "type": "string"
        },
        {
         "name": "DoB",
         "rawType": "datetime64[ns]",
         "type": "datetime"
        },
        {
         "name": "year",
         "rawType": "int32",
         "type": "integer"
        },
        {
         "name": "month",
         "rawType": "int32",
         "type": "integer"
        },
        {
         "name": "day",
         "rawType": "int32",
         "type": "integer"
        },
        {
         "name": "week_of_year",
         "rawType": "UInt32",
         "type": "integer"
        },
        {
         "name": "day_of_week",
         "rawType": "int32",
         "type": "integer"
        },
        {
         "name": "is_leap_year",
         "rawType": "bool",
         "type": "boolean"
        },
        {
         "name": "day_of_week_name",
         "rawType": "object",
         "type": "string"
        }
       ],
       "conversionMethod": "pd.DataFrame",
       "ref": "a26abf9f-c64f-4e1e-904a-24d03d9f3024",
       "rows": [
        [
         "0",
         "Tom",
         "1997-08-05 00:00:00",
         "1997",
         "8",
         "5",
         "32",
         "1",
         "False",
         "Tuesday"
        ],
        [
         "1",
         "Andy",
         "1996-04-28 00:00:00",
         "1996",
         "4",
         "28",
         "17",
         "6",
         "True",
         "Sunday"
        ],
        [
         "2",
         "Lucas",
         "1995-12-16 00:00:00",
         "1995",
         "12",
         "16",
         "50",
         "5",
         "False",
         "Saturday"
        ]
       ],
       "shape": {
        "columns": 9,
        "rows": 3
       }
      },
      "text/html": [
       "<div>\n",
       "<style scoped>\n",
       "    .dataframe tbody tr th:only-of-type {\n",
       "        vertical-align: middle;\n",
       "    }\n",
       "\n",
       "    .dataframe tbody tr th {\n",
       "        vertical-align: top;\n",
       "    }\n",
       "\n",
       "    .dataframe thead th {\n",
       "        text-align: right;\n",
       "    }\n",
       "</style>\n",
       "<table border=\"1\" class=\"dataframe\">\n",
       "  <thead>\n",
       "    <tr style=\"text-align: right;\">\n",
       "      <th></th>\n",
       "      <th>name</th>\n",
       "      <th>DoB</th>\n",
       "      <th>year</th>\n",
       "      <th>month</th>\n",
       "      <th>day</th>\n",
       "      <th>week_of_year</th>\n",
       "      <th>day_of_week</th>\n",
       "      <th>is_leap_year</th>\n",
       "      <th>day_of_week_name</th>\n",
       "    </tr>\n",
       "  </thead>\n",
       "  <tbody>\n",
       "    <tr>\n",
       "      <th>0</th>\n",
       "      <td>Tom</td>\n",
       "      <td>1997-08-05</td>\n",
       "      <td>1997</td>\n",
       "      <td>8</td>\n",
       "      <td>5</td>\n",
       "      <td>32</td>\n",
       "      <td>1</td>\n",
       "      <td>False</td>\n",
       "      <td>Tuesday</td>\n",
       "    </tr>\n",
       "    <tr>\n",
       "      <th>1</th>\n",
       "      <td>Andy</td>\n",
       "      <td>1996-04-28</td>\n",
       "      <td>1996</td>\n",
       "      <td>4</td>\n",
       "      <td>28</td>\n",
       "      <td>17</td>\n",
       "      <td>6</td>\n",
       "      <td>True</td>\n",
       "      <td>Sunday</td>\n",
       "    </tr>\n",
       "    <tr>\n",
       "      <th>2</th>\n",
       "      <td>Lucas</td>\n",
       "      <td>1995-12-16</td>\n",
       "      <td>1995</td>\n",
       "      <td>12</td>\n",
       "      <td>16</td>\n",
       "      <td>50</td>\n",
       "      <td>5</td>\n",
       "      <td>False</td>\n",
       "      <td>Saturday</td>\n",
       "    </tr>\n",
       "  </tbody>\n",
       "</table>\n",
       "</div>"
      ],
      "text/plain": [
       "    name        DoB  year  month  day  week_of_year  day_of_week  \\\n",
       "0    Tom 1997-08-05  1997      8    5            32            1   \n",
       "1   Andy 1996-04-28  1996      4   28            17            6   \n",
       "2  Lucas 1995-12-16  1995     12   16            50            5   \n",
       "\n",
       "   is_leap_year day_of_week_name  \n",
       "0         False          Tuesday  \n",
       "1          True           Sunday  \n",
       "2         False         Saturday  "
      ]
     },
     "execution_count": 27,
     "metadata": {},
     "output_type": "execute_result"
    }
   ],
   "source": [
    "dw_mapping={\n",
    "    0: 'Monday', \n",
    "    1: 'Tuesday', \n",
    "    2: 'Wednesday', \n",
    "    3: 'Thursday', \n",
    "    4: 'Friday',\n",
    "    5: 'Saturday', \n",
    "    6: 'Sunday'\n",
    "} \n",
    "df['day_of_week_name']=df['DoB'].dt.weekday.map(dw_mapping)\n",
    "df"
   ]
  },
  {
   "attachments": {},
   "cell_type": "markdown",
   "metadata": {},
   "source": [
    "### 7. Get the age from the date of birth"
   ]
  },
  {
   "cell_type": "code",
   "execution_count": 30,
   "metadata": {},
   "outputs": [
    {
     "data": {
      "text/plain": [
       "Timestamp('2025-03-28 09:18:27.332410')"
      ]
     },
     "execution_count": 30,
     "metadata": {},
     "output_type": "execute_result"
    }
   ],
   "source": [
    "pd.to_datetime('today')"
   ]
  },
  {
   "cell_type": "code",
   "execution_count": 31,
   "metadata": {},
   "outputs": [
    {
     "data": {
      "text/plain": [
       "datetime.datetime(2025, 3, 28, 9, 18, 45, 120301)"
      ]
     },
     "execution_count": 31,
     "metadata": {},
     "output_type": "execute_result"
    }
   ],
   "source": [
    "datetime.today()"
   ]
  },
  {
   "cell_type": "code",
   "execution_count": null,
   "metadata": {},
   "outputs": [],
   "source": []
  },
  {
   "cell_type": "code",
   "execution_count": 28,
   "metadata": {},
   "outputs": [
    {
     "data": {
      "application/vnd.microsoft.datawrangler.viewer.v0+json": {
       "columns": [
        {
         "name": "index",
         "rawType": "int64",
         "type": "integer"
        },
        {
         "name": "name",
         "rawType": "object",
         "type": "string"
        },
        {
         "name": "DoB",
         "rawType": "datetime64[ns]",
         "type": "datetime"
        },
        {
         "name": "year",
         "rawType": "int32",
         "type": "integer"
        },
        {
         "name": "month",
         "rawType": "int32",
         "type": "integer"
        },
        {
         "name": "day",
         "rawType": "int32",
         "type": "integer"
        },
        {
         "name": "week_of_year",
         "rawType": "UInt32",
         "type": "integer"
        },
        {
         "name": "day_of_week",
         "rawType": "int32",
         "type": "integer"
        },
        {
         "name": "is_leap_year",
         "rawType": "bool",
         "type": "boolean"
        },
        {
         "name": "day_of_week_name",
         "rawType": "object",
         "type": "string"
        },
        {
         "name": "age",
         "rawType": "float64",
         "type": "float"
        }
       ],
       "conversionMethod": "pd.DataFrame",
       "ref": "0f466493-9dc5-4645-ba5c-eddab8716c1c",
       "rows": [
        [
         "0",
         "Tom",
         "1997-08-05 00:00:00",
         "1997",
         "8",
         "5",
         "32",
         "1",
         "False",
         "Tuesday",
         "27.0"
        ],
        [
         "1",
         "Andy",
         "1996-04-28 00:00:00",
         "1996",
         "4",
         "28",
         "17",
         "6",
         "True",
         "Sunday",
         "28.0"
        ],
        [
         "2",
         "Lucas",
         "1995-12-16 00:00:00",
         "1995",
         "12",
         "16",
         "50",
         "5",
         "False",
         "Saturday",
         "29.0"
        ]
       ],
       "shape": {
        "columns": 10,
        "rows": 3
       }
      },
      "text/html": [
       "<div>\n",
       "<style scoped>\n",
       "    .dataframe tbody tr th:only-of-type {\n",
       "        vertical-align: middle;\n",
       "    }\n",
       "\n",
       "    .dataframe tbody tr th {\n",
       "        vertical-align: top;\n",
       "    }\n",
       "\n",
       "    .dataframe thead th {\n",
       "        text-align: right;\n",
       "    }\n",
       "</style>\n",
       "<table border=\"1\" class=\"dataframe\">\n",
       "  <thead>\n",
       "    <tr style=\"text-align: right;\">\n",
       "      <th></th>\n",
       "      <th>name</th>\n",
       "      <th>DoB</th>\n",
       "      <th>year</th>\n",
       "      <th>month</th>\n",
       "      <th>day</th>\n",
       "      <th>week_of_year</th>\n",
       "      <th>day_of_week</th>\n",
       "      <th>is_leap_year</th>\n",
       "      <th>day_of_week_name</th>\n",
       "      <th>age</th>\n",
       "    </tr>\n",
       "  </thead>\n",
       "  <tbody>\n",
       "    <tr>\n",
       "      <th>0</th>\n",
       "      <td>Tom</td>\n",
       "      <td>1997-08-05</td>\n",
       "      <td>1997</td>\n",
       "      <td>8</td>\n",
       "      <td>5</td>\n",
       "      <td>32</td>\n",
       "      <td>1</td>\n",
       "      <td>False</td>\n",
       "      <td>Tuesday</td>\n",
       "      <td>27.0</td>\n",
       "    </tr>\n",
       "    <tr>\n",
       "      <th>1</th>\n",
       "      <td>Andy</td>\n",
       "      <td>1996-04-28</td>\n",
       "      <td>1996</td>\n",
       "      <td>4</td>\n",
       "      <td>28</td>\n",
       "      <td>17</td>\n",
       "      <td>6</td>\n",
       "      <td>True</td>\n",
       "      <td>Sunday</td>\n",
       "      <td>28.0</td>\n",
       "    </tr>\n",
       "    <tr>\n",
       "      <th>2</th>\n",
       "      <td>Lucas</td>\n",
       "      <td>1995-12-16</td>\n",
       "      <td>1995</td>\n",
       "      <td>12</td>\n",
       "      <td>16</td>\n",
       "      <td>50</td>\n",
       "      <td>5</td>\n",
       "      <td>False</td>\n",
       "      <td>Saturday</td>\n",
       "      <td>29.0</td>\n",
       "    </tr>\n",
       "  </tbody>\n",
       "</table>\n",
       "</div>"
      ],
      "text/plain": [
       "    name        DoB  year  month  day  week_of_year  day_of_week  \\\n",
       "0    Tom 1997-08-05  1997      8    5            32            1   \n",
       "1   Andy 1996-04-28  1996      4   28            17            6   \n",
       "2  Lucas 1995-12-16  1995     12   16            50            5   \n",
       "\n",
       "   is_leap_year day_of_week_name   age  \n",
       "0         False          Tuesday  27.0  \n",
       "1          True           Sunday  28.0  \n",
       "2         False         Saturday  29.0  "
      ]
     },
     "execution_count": 28,
     "metadata": {},
     "output_type": "execute_result"
    }
   ],
   "source": [
    "today = pd.to_datetime('today')\n",
    "df['age'] = (today - df['DoB']).dt.days//365.25\n",
    "\n",
    "df"
   ]
  },
  {
   "attachments": {},
   "cell_type": "markdown",
   "metadata": {},
   "source": [
    "### 8. Improve performance by setting date column as the index "
   ]
  },
  {
   "cell_type": "code",
   "execution_count": 29,
   "metadata": {},
   "outputs": [
    {
     "data": {
      "application/vnd.microsoft.datawrangler.viewer.v0+json": {
       "columns": [
        {
         "name": "index",
         "rawType": "int64",
         "type": "integer"
        },
        {
         "name": "date",
         "rawType": "datetime64[ns]",
         "type": "datetime"
        },
        {
         "name": "num",
         "rawType": "int64",
         "type": "integer"
        },
        {
         "name": "city",
         "rawType": "object",
         "type": "string"
        }
       ],
       "conversionMethod": "pd.DataFrame",
       "ref": "c4c8c0f9-1043-4ff0-8862-aa36c60c631b",
       "rows": [
        [
         "0",
         "2015-01-01 09:00:00",
         "4",
         "London"
        ],
        [
         "1",
         "2015-01-01 09:01:00",
         "4",
         "London"
        ],
        [
         "2",
         "2015-01-01 09:02:00",
         "3",
         "London"
        ],
        [
         "3",
         "2015-01-01 09:03:00",
         "3",
         "London"
        ],
        [
         "4",
         "2015-01-01 09:04:00",
         "3",
         "London"
        ],
        [
         "5",
         "2015-01-01 09:05:00",
         "3",
         "London"
        ],
        [
         "6",
         "2015-01-01 09:06:00",
         "3",
         "London"
        ],
        [
         "7",
         "2015-01-01 09:07:00",
         "2",
         "London"
        ],
        [
         "8",
         "2015-01-01 09:08:00",
         "3",
         "London"
        ],
        [
         "9",
         "2015-01-01 09:09:00",
         "4",
         "London"
        ],
        [
         "10",
         "2015-01-01 09:10:00",
         "4",
         "London"
        ],
        [
         "11",
         "2015-01-01 09:11:00",
         "3",
         "London"
        ],
        [
         "12",
         "2015-01-01 09:12:00",
         "3",
         "London"
        ],
        [
         "13",
         "2015-01-01 09:13:00",
         "4",
         "London"
        ],
        [
         "14",
         "2015-01-01 09:14:00",
         "3",
         "London"
        ],
        [
         "15",
         "2015-01-01 09:15:00",
         "3",
         "London"
        ],
        [
         "16",
         "2015-01-01 09:16:00",
         "4",
         "London"
        ],
        [
         "17",
         "2015-01-01 09:17:00",
         "3",
         "London"
        ],
        [
         "18",
         "2015-01-01 09:18:00",
         "3",
         "London"
        ],
        [
         "19",
         "2015-01-01 09:19:00",
         "3",
         "London"
        ],
        [
         "20",
         "2015-01-01 09:20:00",
         "3",
         "London"
        ],
        [
         "21",
         "2015-01-01 09:21:00",
         "3",
         "London"
        ],
        [
         "22",
         "2015-01-01 09:22:00",
         "3",
         "London"
        ],
        [
         "23",
         "2015-01-01 09:23:00",
         "1",
         "London"
        ],
        [
         "24",
         "2015-01-01 09:24:00",
         "2",
         "London"
        ],
        [
         "25",
         "2015-01-01 09:25:00",
         "4",
         "London"
        ],
        [
         "26",
         "2015-01-01 09:26:00",
         "3",
         "London"
        ],
        [
         "27",
         "2015-01-01 09:27:00",
         "4",
         "London"
        ],
        [
         "28",
         "2015-01-01 09:28:00",
         "3",
         "London"
        ],
        [
         "29",
         "2015-01-01 09:29:00",
         "3",
         "London"
        ],
        [
         "30",
         "2015-01-01 09:30:00",
         "3",
         "London"
        ],
        [
         "31",
         "2015-01-01 09:31:00",
         "1",
         "London"
        ],
        [
         "32",
         "2015-01-01 09:32:00",
         "3",
         "London"
        ],
        [
         "33",
         "2015-01-01 09:33:00",
         "3",
         "London"
        ],
        [
         "34",
         "2015-01-01 09:34:00",
         "3",
         "London"
        ],
        [
         "35",
         "2015-01-01 09:35:00",
         "3",
         "London"
        ],
        [
         "36",
         "2015-01-01 09:36:00",
         "3",
         "London"
        ],
        [
         "37",
         "2015-01-01 09:37:00",
         "3",
         "London"
        ],
        [
         "38",
         "2015-01-01 09:38:00",
         "2",
         "London"
        ],
        [
         "39",
         "2015-01-01 09:39:00",
         "3",
         "London"
        ],
        [
         "40",
         "2015-01-01 09:40:00",
         "4",
         "London"
        ],
        [
         "41",
         "2015-01-01 09:41:00",
         "2",
         "London"
        ],
        [
         "42",
         "2015-01-01 09:42:00",
         "4",
         "London"
        ],
        [
         "43",
         "2015-01-01 09:43:00",
         "1",
         "London"
        ],
        [
         "44",
         "2015-01-01 09:44:00",
         "3",
         "London"
        ],
        [
         "45",
         "2015-01-01 09:45:00",
         "2",
         "London"
        ],
        [
         "46",
         "2015-01-01 09:46:00",
         "3",
         "London"
        ],
        [
         "47",
         "2015-01-01 09:47:00",
         "3",
         "London"
        ],
        [
         "48",
         "2015-01-01 09:48:00",
         "1",
         "London"
        ],
        [
         "49",
         "2015-01-01 09:49:00",
         "4",
         "London"
        ]
       ],
       "shape": {
        "columns": 3,
        "rows": 1795144
       }
      },
      "text/html": [
       "<div>\n",
       "<style scoped>\n",
       "    .dataframe tbody tr th:only-of-type {\n",
       "        vertical-align: middle;\n",
       "    }\n",
       "\n",
       "    .dataframe tbody tr th {\n",
       "        vertical-align: top;\n",
       "    }\n",
       "\n",
       "    .dataframe thead th {\n",
       "        text-align: right;\n",
       "    }\n",
       "</style>\n",
       "<table border=\"1\" class=\"dataframe\">\n",
       "  <thead>\n",
       "    <tr style=\"text-align: right;\">\n",
       "      <th></th>\n",
       "      <th>date</th>\n",
       "      <th>num</th>\n",
       "      <th>city</th>\n",
       "    </tr>\n",
       "  </thead>\n",
       "  <tbody>\n",
       "    <tr>\n",
       "      <th>0</th>\n",
       "      <td>2015-01-01 09:00:00</td>\n",
       "      <td>4</td>\n",
       "      <td>London</td>\n",
       "    </tr>\n",
       "    <tr>\n",
       "      <th>1</th>\n",
       "      <td>2015-01-01 09:01:00</td>\n",
       "      <td>4</td>\n",
       "      <td>London</td>\n",
       "    </tr>\n",
       "    <tr>\n",
       "      <th>2</th>\n",
       "      <td>2015-01-01 09:02:00</td>\n",
       "      <td>3</td>\n",
       "      <td>London</td>\n",
       "    </tr>\n",
       "    <tr>\n",
       "      <th>3</th>\n",
       "      <td>2015-01-01 09:03:00</td>\n",
       "      <td>3</td>\n",
       "      <td>London</td>\n",
       "    </tr>\n",
       "    <tr>\n",
       "      <th>4</th>\n",
       "      <td>2015-01-01 09:04:00</td>\n",
       "      <td>3</td>\n",
       "      <td>London</td>\n",
       "    </tr>\n",
       "    <tr>\n",
       "      <th>...</th>\n",
       "      <td>...</td>\n",
       "      <td>...</td>\n",
       "      <td>...</td>\n",
       "    </tr>\n",
       "    <tr>\n",
       "      <th>1795139</th>\n",
       "      <td>2019-01-31 15:56:00</td>\n",
       "      <td>3</td>\n",
       "      <td>Cambridge</td>\n",
       "    </tr>\n",
       "    <tr>\n",
       "      <th>1795140</th>\n",
       "      <td>2019-01-31 15:57:00</td>\n",
       "      <td>3</td>\n",
       "      <td>Cambridge</td>\n",
       "    </tr>\n",
       "    <tr>\n",
       "      <th>1795141</th>\n",
       "      <td>2019-01-31 15:58:00</td>\n",
       "      <td>3</td>\n",
       "      <td>Cambridge</td>\n",
       "    </tr>\n",
       "    <tr>\n",
       "      <th>1795142</th>\n",
       "      <td>2019-01-31 15:59:00</td>\n",
       "      <td>3</td>\n",
       "      <td>Cambridge</td>\n",
       "    </tr>\n",
       "    <tr>\n",
       "      <th>1795143</th>\n",
       "      <td>2019-01-31 16:00:00</td>\n",
       "      <td>2</td>\n",
       "      <td>Cambridge</td>\n",
       "    </tr>\n",
       "  </tbody>\n",
       "</table>\n",
       "<p>1795144 rows × 3 columns</p>\n",
       "</div>"
      ],
      "text/plain": [
       "                       date  num       city\n",
       "0       2015-01-01 09:00:00    4     London\n",
       "1       2015-01-01 09:01:00    4     London\n",
       "2       2015-01-01 09:02:00    3     London\n",
       "3       2015-01-01 09:03:00    3     London\n",
       "4       2015-01-01 09:04:00    3     London\n",
       "...                     ...  ...        ...\n",
       "1795139 2019-01-31 15:56:00    3  Cambridge\n",
       "1795140 2019-01-31 15:57:00    3  Cambridge\n",
       "1795141 2019-01-31 15:58:00    3  Cambridge\n",
       "1795142 2019-01-31 15:59:00    3  Cambridge\n",
       "1795143 2019-01-31 16:00:00    2  Cambridge\n",
       "\n",
       "[1795144 rows x 3 columns]"
      ]
     },
     "execution_count": 29,
     "metadata": {},
     "output_type": "execute_result"
    }
   ],
   "source": [
    "df = pd.read_csv('data/city_sales.csv', parse_dates = ['date'])\n",
    "df"
   ]
  },
  {
   "cell_type": "code",
   "execution_count": null,
   "metadata": {},
   "outputs": [
    {
     "name": "stdout",
     "output_type": "stream",
     "text": [
      "<class 'pandas.core.frame.DataFrame'>\n",
      "RangeIndex: 1795144 entries, 0 to 1795143\n",
      "Data columns (total 3 columns):\n",
      " #   Column  Dtype         \n",
      "---  ------  -----         \n",
      " 0   date    datetime64[ns]\n",
      " 1   num     int64         \n",
      " 2   city    object        \n",
      "dtypes: datetime64[ns](1), int64(1), object(1)\n",
      "memory usage: 41.1+ MB\n"
     ]
    }
   ],
   "source": [
    "df.info()"
   ]
  },
  {
   "cell_type": "code",
   "execution_count": 31,
   "metadata": {},
   "outputs": [
    {
     "data": {
      "application/vnd.microsoft.datawrangler.viewer.v0+json": {
       "columns": [
        {
         "name": "index",
         "rawType": "object",
         "type": "string"
        },
        {
         "name": "date",
         "rawType": "object",
         "type": "unknown"
        },
        {
         "name": "num",
         "rawType": "float64",
         "type": "float"
        },
        {
         "name": "city",
         "rawType": "object",
         "type": "unknown"
        }
       ],
       "conversionMethod": "pd.DataFrame",
       "ref": "4ec57bfa-3e19-4107-acd9-d5aab279887e",
       "rows": [
        [
         "count",
         "1795144",
         "1795144.0",
         "1795144"
        ],
        [
         "unique",
         null,
         null,
         "4"
        ],
        [
         "top",
         null,
         null,
         "London"
        ],
        [
         "freq",
         null,
         null,
         "448786"
        ],
        [
         "mean",
         "2017-01-16 10:05:27.579737344",
         "2.801503389143155",
         null
        ],
        [
         "min",
         "2015-01-01 09:00:00",
         "1.0",
         null
        ],
        [
         "25%",
         "2016-01-08 12:30:00",
         "2.0",
         null
        ],
        [
         "50%",
         "2017-01-17 00:30:00",
         "3.0",
         null
        ],
        [
         "75%",
         "2018-01-24 12:30:00",
         "3.0",
         null
        ],
        [
         "max",
         "2019-01-31 16:00:00",
         "4.0",
         null
        ],
        [
         "std",
         null,
         "0.8714650364839491",
         null
        ]
       ],
       "shape": {
        "columns": 3,
        "rows": 11
       }
      },
      "text/html": [
       "<div>\n",
       "<style scoped>\n",
       "    .dataframe tbody tr th:only-of-type {\n",
       "        vertical-align: middle;\n",
       "    }\n",
       "\n",
       "    .dataframe tbody tr th {\n",
       "        vertical-align: top;\n",
       "    }\n",
       "\n",
       "    .dataframe thead th {\n",
       "        text-align: right;\n",
       "    }\n",
       "</style>\n",
       "<table border=\"1\" class=\"dataframe\">\n",
       "  <thead>\n",
       "    <tr style=\"text-align: right;\">\n",
       "      <th></th>\n",
       "      <th>date</th>\n",
       "      <th>num</th>\n",
       "      <th>city</th>\n",
       "    </tr>\n",
       "  </thead>\n",
       "  <tbody>\n",
       "    <tr>\n",
       "      <th>count</th>\n",
       "      <td>1795144</td>\n",
       "      <td>1.795144e+06</td>\n",
       "      <td>1795144</td>\n",
       "    </tr>\n",
       "    <tr>\n",
       "      <th>unique</th>\n",
       "      <td>NaN</td>\n",
       "      <td>NaN</td>\n",
       "      <td>4</td>\n",
       "    </tr>\n",
       "    <tr>\n",
       "      <th>top</th>\n",
       "      <td>NaN</td>\n",
       "      <td>NaN</td>\n",
       "      <td>London</td>\n",
       "    </tr>\n",
       "    <tr>\n",
       "      <th>freq</th>\n",
       "      <td>NaN</td>\n",
       "      <td>NaN</td>\n",
       "      <td>448786</td>\n",
       "    </tr>\n",
       "    <tr>\n",
       "      <th>mean</th>\n",
       "      <td>2017-01-16 10:05:27.579737344</td>\n",
       "      <td>2.801503e+00</td>\n",
       "      <td>NaN</td>\n",
       "    </tr>\n",
       "    <tr>\n",
       "      <th>min</th>\n",
       "      <td>2015-01-01 09:00:00</td>\n",
       "      <td>1.000000e+00</td>\n",
       "      <td>NaN</td>\n",
       "    </tr>\n",
       "    <tr>\n",
       "      <th>25%</th>\n",
       "      <td>2016-01-08 12:30:00</td>\n",
       "      <td>2.000000e+00</td>\n",
       "      <td>NaN</td>\n",
       "    </tr>\n",
       "    <tr>\n",
       "      <th>50%</th>\n",
       "      <td>2017-01-17 00:30:00</td>\n",
       "      <td>3.000000e+00</td>\n",
       "      <td>NaN</td>\n",
       "    </tr>\n",
       "    <tr>\n",
       "      <th>75%</th>\n",
       "      <td>2018-01-24 12:30:00</td>\n",
       "      <td>3.000000e+00</td>\n",
       "      <td>NaN</td>\n",
       "    </tr>\n",
       "    <tr>\n",
       "      <th>max</th>\n",
       "      <td>2019-01-31 16:00:00</td>\n",
       "      <td>4.000000e+00</td>\n",
       "      <td>NaN</td>\n",
       "    </tr>\n",
       "    <tr>\n",
       "      <th>std</th>\n",
       "      <td>NaN</td>\n",
       "      <td>8.714650e-01</td>\n",
       "      <td>NaN</td>\n",
       "    </tr>\n",
       "  </tbody>\n",
       "</table>\n",
       "</div>"
      ],
      "text/plain": [
       "                                 date           num     city\n",
       "count                         1795144  1.795144e+06  1795144\n",
       "unique                            NaN           NaN        4\n",
       "top                               NaN           NaN   London\n",
       "freq                              NaN           NaN   448786\n",
       "mean    2017-01-16 10:05:27.579737344  2.801503e+00      NaN\n",
       "min               2015-01-01 09:00:00  1.000000e+00      NaN\n",
       "25%               2016-01-08 12:30:00  2.000000e+00      NaN\n",
       "50%               2017-01-17 00:30:00  3.000000e+00      NaN\n",
       "75%               2018-01-24 12:30:00  3.000000e+00      NaN\n",
       "max               2019-01-31 16:00:00  4.000000e+00      NaN\n",
       "std                               NaN  8.714650e-01      NaN"
      ]
     },
     "execution_count": 31,
     "metadata": {},
     "output_type": "execute_result"
    }
   ],
   "source": [
    "df.describe(include='all')"
   ]
  },
  {
   "cell_type": "code",
   "execution_count": 32,
   "metadata": {},
   "outputs": [
    {
     "data": {
      "text/plain": [
       "date    datetime64[ns]\n",
       "num              int64\n",
       "city            object\n",
       "dtype: object"
      ]
     },
     "execution_count": 32,
     "metadata": {},
     "output_type": "execute_result"
    }
   ],
   "source": [
    "df.dtypes"
   ]
  },
  {
   "cell_type": "code",
   "execution_count": 32,
   "metadata": {
    "collapsed": true,
    "jupyter": {
     "outputs_hidden": true
    },
    "tags": []
   },
   "outputs": [
    {
     "data": {
      "application/vnd.microsoft.datawrangler.viewer.v0+json": {
       "columns": [
        {
         "name": "date",
         "rawType": "datetime64[ns]",
         "type": "datetime"
        },
        {
         "name": "num",
         "rawType": "int64",
         "type": "integer"
        },
        {
         "name": "city",
         "rawType": "object",
         "type": "string"
        }
       ],
       "conversionMethod": "pd.DataFrame",
       "ref": "099fcd92-968a-4c33-a499-e67e4be233dd",
       "rows": [
        [
         "2015-01-01 09:00:00",
         "4",
         "London"
        ],
        [
         "2015-01-01 09:01:00",
         "4",
         "London"
        ],
        [
         "2015-01-01 09:02:00",
         "3",
         "London"
        ],
        [
         "2015-01-01 09:03:00",
         "3",
         "London"
        ],
        [
         "2015-01-01 09:04:00",
         "3",
         "London"
        ]
       ],
       "shape": {
        "columns": 2,
        "rows": 5
       }
      },
      "text/html": [
       "<div>\n",
       "<style scoped>\n",
       "    .dataframe tbody tr th:only-of-type {\n",
       "        vertical-align: middle;\n",
       "    }\n",
       "\n",
       "    .dataframe tbody tr th {\n",
       "        vertical-align: top;\n",
       "    }\n",
       "\n",
       "    .dataframe thead th {\n",
       "        text-align: right;\n",
       "    }\n",
       "</style>\n",
       "<table border=\"1\" class=\"dataframe\">\n",
       "  <thead>\n",
       "    <tr style=\"text-align: right;\">\n",
       "      <th></th>\n",
       "      <th>num</th>\n",
       "      <th>city</th>\n",
       "    </tr>\n",
       "    <tr>\n",
       "      <th>date</th>\n",
       "      <th></th>\n",
       "      <th></th>\n",
       "    </tr>\n",
       "  </thead>\n",
       "  <tbody>\n",
       "    <tr>\n",
       "      <th>2015-01-01 09:00:00</th>\n",
       "      <td>4</td>\n",
       "      <td>London</td>\n",
       "    </tr>\n",
       "    <tr>\n",
       "      <th>2015-01-01 09:01:00</th>\n",
       "      <td>4</td>\n",
       "      <td>London</td>\n",
       "    </tr>\n",
       "    <tr>\n",
       "      <th>2015-01-01 09:02:00</th>\n",
       "      <td>3</td>\n",
       "      <td>London</td>\n",
       "    </tr>\n",
       "    <tr>\n",
       "      <th>2015-01-01 09:03:00</th>\n",
       "      <td>3</td>\n",
       "      <td>London</td>\n",
       "    </tr>\n",
       "    <tr>\n",
       "      <th>2015-01-01 09:04:00</th>\n",
       "      <td>3</td>\n",
       "      <td>London</td>\n",
       "    </tr>\n",
       "  </tbody>\n",
       "</table>\n",
       "</div>"
      ],
      "text/plain": [
       "                     num    city\n",
       "date                            \n",
       "2015-01-01 09:00:00    4  London\n",
       "2015-01-01 09:01:00    4  London\n",
       "2015-01-01 09:02:00    3  London\n",
       "2015-01-01 09:03:00    3  London\n",
       "2015-01-01 09:04:00    3  London"
      ]
     },
     "execution_count": 32,
     "metadata": {},
     "output_type": "execute_result"
    }
   ],
   "source": [
    "df = pd.read_csv('data/city_sales.csv', parse_dates = ['date'])\n",
    "df.set_index(['date'], inplace=True)\n",
    "df.head()"
   ]
  },
  {
   "cell_type": "code",
   "execution_count": 33,
   "metadata": {},
   "outputs": [
    {
     "data": {
      "text/plain": [
       "DatetimeIndex(['2015-01-01 09:00:00', '2015-01-01 09:01:00',\n",
       "               '2015-01-01 09:02:00', '2015-01-01 09:03:00',\n",
       "               '2015-01-01 09:04:00', '2015-01-01 09:05:00',\n",
       "               '2015-01-01 09:06:00', '2015-01-01 09:07:00',\n",
       "               '2015-01-01 09:08:00', '2015-01-01 09:09:00',\n",
       "               ...\n",
       "               '2019-01-31 15:51:00', '2019-01-31 15:52:00',\n",
       "               '2019-01-31 15:53:00', '2019-01-31 15:54:00',\n",
       "               '2019-01-31 15:55:00', '2019-01-31 15:56:00',\n",
       "               '2019-01-31 15:57:00', '2019-01-31 15:58:00',\n",
       "               '2019-01-31 15:59:00', '2019-01-31 16:00:00'],\n",
       "              dtype='datetime64[ns]', name='date', length=1795144, freq=None)"
      ]
     },
     "execution_count": 33,
     "metadata": {},
     "output_type": "execute_result"
    }
   ],
   "source": [
    "df.index"
   ]
  },
  {
   "cell_type": "code",
   "execution_count": 34,
   "metadata": {
    "collapsed": true,
    "jupyter": {
     "outputs_hidden": true
    },
    "tags": []
   },
   "outputs": [
    {
     "data": {
      "application/vnd.microsoft.datawrangler.viewer.v0+json": {
       "columns": [
        {
         "name": "date",
         "rawType": "datetime64[ns]",
         "type": "datetime"
        },
        {
         "name": "num",
         "rawType": "int64",
         "type": "integer"
        },
        {
         "name": "city",
         "rawType": "object",
         "type": "string"
        }
       ],
       "conversionMethod": "pd.DataFrame",
       "ref": "bb37c30f-9ab9-4e77-9815-37f77f1da964",
       "rows": [
        [
         "2015-01-01 09:00:00",
         "4",
         "London"
        ],
        [
         "2015-01-01 09:01:00",
         "4",
         "London"
        ],
        [
         "2015-01-01 09:02:00",
         "3",
         "London"
        ],
        [
         "2015-01-01 09:03:00",
         "3",
         "London"
        ],
        [
         "2015-01-01 09:04:00",
         "3",
         "London"
        ]
       ],
       "shape": {
        "columns": 2,
        "rows": 5
       }
      },
      "text/html": [
       "<div>\n",
       "<style scoped>\n",
       "    .dataframe tbody tr th:only-of-type {\n",
       "        vertical-align: middle;\n",
       "    }\n",
       "\n",
       "    .dataframe tbody tr th {\n",
       "        vertical-align: top;\n",
       "    }\n",
       "\n",
       "    .dataframe thead th {\n",
       "        text-align: right;\n",
       "    }\n",
       "</style>\n",
       "<table border=\"1\" class=\"dataframe\">\n",
       "  <thead>\n",
       "    <tr style=\"text-align: right;\">\n",
       "      <th></th>\n",
       "      <th>num</th>\n",
       "      <th>city</th>\n",
       "    </tr>\n",
       "    <tr>\n",
       "      <th>date</th>\n",
       "      <th></th>\n",
       "      <th></th>\n",
       "    </tr>\n",
       "  </thead>\n",
       "  <tbody>\n",
       "    <tr>\n",
       "      <th>2015-01-01 09:00:00</th>\n",
       "      <td>4</td>\n",
       "      <td>London</td>\n",
       "    </tr>\n",
       "    <tr>\n",
       "      <th>2015-01-01 09:01:00</th>\n",
       "      <td>4</td>\n",
       "      <td>London</td>\n",
       "    </tr>\n",
       "    <tr>\n",
       "      <th>2015-01-01 09:02:00</th>\n",
       "      <td>3</td>\n",
       "      <td>London</td>\n",
       "    </tr>\n",
       "    <tr>\n",
       "      <th>2015-01-01 09:03:00</th>\n",
       "      <td>3</td>\n",
       "      <td>London</td>\n",
       "    </tr>\n",
       "    <tr>\n",
       "      <th>2015-01-01 09:04:00</th>\n",
       "      <td>3</td>\n",
       "      <td>London</td>\n",
       "    </tr>\n",
       "  </tbody>\n",
       "</table>\n",
       "</div>"
      ],
      "text/plain": [
       "                     num    city\n",
       "date                            \n",
       "2015-01-01 09:00:00    4  London\n",
       "2015-01-01 09:01:00    4  London\n",
       "2015-01-01 09:02:00    3  London\n",
       "2015-01-01 09:03:00    3  London\n",
       "2015-01-01 09:04:00    3  London"
      ]
     },
     "execution_count": 34,
     "metadata": {},
     "output_type": "execute_result"
    }
   ],
   "source": [
    "df = pd.read_csv('data/city_sales.csv', parse_dates = ['date'], index_col = 'date')\n",
    "df.head()"
   ]
  },
  {
   "cell_type": "code",
   "execution_count": 36,
   "metadata": {
    "collapsed": true,
    "jupyter": {
     "outputs_hidden": true
    },
    "tags": []
   },
   "outputs": [
    {
     "data": {
      "text/plain": [
       "DatetimeIndex(['2015-01-01 09:00:00', '2015-01-01 09:01:00',\n",
       "               '2015-01-01 09:02:00', '2015-01-01 09:03:00',\n",
       "               '2015-01-01 09:04:00', '2015-01-01 09:05:00',\n",
       "               '2015-01-01 09:06:00', '2015-01-01 09:07:00',\n",
       "               '2015-01-01 09:08:00', '2015-01-01 09:09:00',\n",
       "               ...\n",
       "               '2019-01-31 15:51:00', '2019-01-31 15:52:00',\n",
       "               '2019-01-31 15:53:00', '2019-01-31 15:54:00',\n",
       "               '2019-01-31 15:55:00', '2019-01-31 15:56:00',\n",
       "               '2019-01-31 15:57:00', '2019-01-31 15:58:00',\n",
       "               '2019-01-31 15:59:00', '2019-01-31 16:00:00'],\n",
       "              dtype='datetime64[ns]', name='date', length=1795144, freq=None)"
      ]
     },
     "execution_count": 36,
     "metadata": {},
     "output_type": "execute_result"
    }
   ],
   "source": [
    "# Tenemos un DateTimeIndex\n",
    "df.index"
   ]
  },
  {
   "cell_type": "code",
   "execution_count": 35,
   "metadata": {},
   "outputs": [
    {
     "data": {
      "text/plain": [
       "DatetimeIndex(['2015-07-03', '2015-07-04', '2015-07-06', '2015-07-07',\n",
       "               '2015-07-08'],\n",
       "              dtype='datetime64[ns]', freq=None)"
      ]
     },
     "execution_count": 35,
     "metadata": {},
     "output_type": "execute_result"
    }
   ],
   "source": [
    "from datetime import datetime\n",
    "dates = pd.to_datetime([datetime(2015, 7, 3), '4th of July, 2015',\n",
    "                       '2015-Jul-6', '07-07-2015', '20150708'])\n",
    "dates"
   ]
  },
  {
   "attachments": {},
   "cell_type": "markdown",
   "metadata": {},
   "source": [
    "### 9. Select data with a specific year and perform aggregation"
   ]
  },
  {
   "cell_type": "code",
   "execution_count": 36,
   "metadata": {
    "collapsed": true,
    "jupyter": {
     "outputs_hidden": true
    },
    "tags": []
   },
   "outputs": [
    {
     "data": {
      "application/vnd.microsoft.datawrangler.viewer.v0+json": {
       "columns": [
        {
         "name": "date",
         "rawType": "datetime64[ns]",
         "type": "datetime"
        },
        {
         "name": "num",
         "rawType": "int64",
         "type": "integer"
        },
        {
         "name": "city",
         "rawType": "object",
         "type": "string"
        }
       ],
       "conversionMethod": "pd.DataFrame",
       "ref": "a5efe8ce-408d-4b60-872b-95f6c84df4c4",
       "rows": [
        [
         "2018-01-01 09:00:00",
         "2",
         "London"
        ],
        [
         "2018-01-01 09:01:00",
         "1",
         "London"
        ],
        [
         "2018-01-01 09:02:00",
         "3",
         "London"
        ],
        [
         "2018-01-01 09:03:00",
         "3",
         "London"
        ],
        [
         "2018-01-01 09:04:00",
         "3",
         "London"
        ],
        [
         "2018-01-01 09:05:00",
         "3",
         "London"
        ],
        [
         "2018-01-01 09:06:00",
         "2",
         "London"
        ],
        [
         "2018-01-01 09:07:00",
         "1",
         "London"
        ],
        [
         "2018-01-01 09:08:00",
         "3",
         "London"
        ],
        [
         "2018-01-01 09:09:00",
         "2",
         "London"
        ],
        [
         "2018-01-01 09:10:00",
         "2",
         "London"
        ],
        [
         "2018-01-01 09:11:00",
         "3",
         "London"
        ],
        [
         "2018-01-01 09:12:00",
         "1",
         "London"
        ],
        [
         "2018-01-01 09:13:00",
         "3",
         "London"
        ],
        [
         "2018-01-01 09:14:00",
         "2",
         "London"
        ],
        [
         "2018-01-01 09:15:00",
         "4",
         "London"
        ],
        [
         "2018-01-01 09:16:00",
         "2",
         "London"
        ],
        [
         "2018-01-01 09:17:00",
         "3",
         "London"
        ],
        [
         "2018-01-01 09:18:00",
         "3",
         "London"
        ],
        [
         "2018-01-01 09:19:00",
         "4",
         "London"
        ],
        [
         "2018-01-01 09:20:00",
         "4",
         "London"
        ],
        [
         "2018-01-01 09:21:00",
         "4",
         "London"
        ],
        [
         "2018-01-01 09:22:00",
         "3",
         "London"
        ],
        [
         "2018-01-01 09:23:00",
         "2",
         "London"
        ],
        [
         "2018-01-01 09:24:00",
         "3",
         "London"
        ],
        [
         "2018-01-01 09:25:00",
         "3",
         "London"
        ],
        [
         "2018-01-01 09:26:00",
         "2",
         "London"
        ],
        [
         "2018-01-01 09:27:00",
         "3",
         "London"
        ],
        [
         "2018-01-01 09:28:00",
         "3",
         "London"
        ],
        [
         "2018-01-01 09:29:00",
         "3",
         "London"
        ],
        [
         "2018-01-01 09:30:00",
         "3",
         "London"
        ],
        [
         "2018-01-01 09:31:00",
         "3",
         "London"
        ],
        [
         "2018-01-01 09:32:00",
         "3",
         "London"
        ],
        [
         "2018-01-01 09:33:00",
         "2",
         "London"
        ],
        [
         "2018-01-01 09:34:00",
         "2",
         "London"
        ],
        [
         "2018-01-01 09:35:00",
         "4",
         "London"
        ],
        [
         "2018-01-01 09:36:00",
         "3",
         "London"
        ],
        [
         "2018-01-01 09:37:00",
         "4",
         "London"
        ],
        [
         "2018-01-01 09:38:00",
         "3",
         "London"
        ],
        [
         "2018-01-01 09:39:00",
         "3",
         "London"
        ],
        [
         "2018-01-01 09:40:00",
         "3",
         "London"
        ],
        [
         "2018-01-01 09:41:00",
         "4",
         "London"
        ],
        [
         "2018-01-01 09:42:00",
         "3",
         "London"
        ],
        [
         "2018-01-01 09:43:00",
         "3",
         "London"
        ],
        [
         "2018-01-01 09:44:00",
         "3",
         "London"
        ],
        [
         "2018-01-01 09:45:00",
         "1",
         "London"
        ],
        [
         "2018-01-01 09:46:00",
         "3",
         "London"
        ],
        [
         "2018-01-01 09:47:00",
         "4",
         "London"
        ],
        [
         "2018-01-01 09:48:00",
         "3",
         "London"
        ],
        [
         "2018-01-01 09:49:00",
         "1",
         "London"
        ]
       ],
       "shape": {
        "columns": 2,
        "rows": 439524
       }
      },
      "text/html": [
       "<div>\n",
       "<style scoped>\n",
       "    .dataframe tbody tr th:only-of-type {\n",
       "        vertical-align: middle;\n",
       "    }\n",
       "\n",
       "    .dataframe tbody tr th {\n",
       "        vertical-align: top;\n",
       "    }\n",
       "\n",
       "    .dataframe thead th {\n",
       "        text-align: right;\n",
       "    }\n",
       "</style>\n",
       "<table border=\"1\" class=\"dataframe\">\n",
       "  <thead>\n",
       "    <tr style=\"text-align: right;\">\n",
       "      <th></th>\n",
       "      <th>num</th>\n",
       "      <th>city</th>\n",
       "    </tr>\n",
       "    <tr>\n",
       "      <th>date</th>\n",
       "      <th></th>\n",
       "      <th></th>\n",
       "    </tr>\n",
       "  </thead>\n",
       "  <tbody>\n",
       "    <tr>\n",
       "      <th>2018-01-01 09:00:00</th>\n",
       "      <td>2</td>\n",
       "      <td>London</td>\n",
       "    </tr>\n",
       "    <tr>\n",
       "      <th>2018-01-01 09:01:00</th>\n",
       "      <td>1</td>\n",
       "      <td>London</td>\n",
       "    </tr>\n",
       "    <tr>\n",
       "      <th>2018-01-01 09:02:00</th>\n",
       "      <td>3</td>\n",
       "      <td>London</td>\n",
       "    </tr>\n",
       "    <tr>\n",
       "      <th>2018-01-01 09:03:00</th>\n",
       "      <td>3</td>\n",
       "      <td>London</td>\n",
       "    </tr>\n",
       "    <tr>\n",
       "      <th>2018-01-01 09:04:00</th>\n",
       "      <td>3</td>\n",
       "      <td>London</td>\n",
       "    </tr>\n",
       "    <tr>\n",
       "      <th>...</th>\n",
       "      <td>...</td>\n",
       "      <td>...</td>\n",
       "    </tr>\n",
       "    <tr>\n",
       "      <th>2018-12-31 15:56:00</th>\n",
       "      <td>4</td>\n",
       "      <td>Cambridge</td>\n",
       "    </tr>\n",
       "    <tr>\n",
       "      <th>2018-12-31 15:57:00</th>\n",
       "      <td>2</td>\n",
       "      <td>Cambridge</td>\n",
       "    </tr>\n",
       "    <tr>\n",
       "      <th>2018-12-31 15:58:00</th>\n",
       "      <td>3</td>\n",
       "      <td>Cambridge</td>\n",
       "    </tr>\n",
       "    <tr>\n",
       "      <th>2018-12-31 15:59:00</th>\n",
       "      <td>3</td>\n",
       "      <td>Cambridge</td>\n",
       "    </tr>\n",
       "    <tr>\n",
       "      <th>2018-12-31 16:00:00</th>\n",
       "      <td>2</td>\n",
       "      <td>Cambridge</td>\n",
       "    </tr>\n",
       "  </tbody>\n",
       "</table>\n",
       "<p>439524 rows × 2 columns</p>\n",
       "</div>"
      ],
      "text/plain": [
       "                     num       city\n",
       "date                               \n",
       "2018-01-01 09:00:00    2     London\n",
       "2018-01-01 09:01:00    1     London\n",
       "2018-01-01 09:02:00    3     London\n",
       "2018-01-01 09:03:00    3     London\n",
       "2018-01-01 09:04:00    3     London\n",
       "...                  ...        ...\n",
       "2018-12-31 15:56:00    4  Cambridge\n",
       "2018-12-31 15:57:00    2  Cambridge\n",
       "2018-12-31 15:58:00    3  Cambridge\n",
       "2018-12-31 15:59:00    3  Cambridge\n",
       "2018-12-31 16:00:00    2  Cambridge\n",
       "\n",
       "[439524 rows x 2 columns]"
      ]
     },
     "execution_count": 36,
     "metadata": {},
     "output_type": "execute_result"
    }
   ],
   "source": [
    "df.loc['2018']"
   ]
  },
  {
   "cell_type": "code",
   "execution_count": 39,
   "metadata": {},
   "outputs": [
    {
     "data": {
      "text/plain": [
       "date\n",
       "2018-01-01 09:00:00    2\n",
       "2018-01-01 09:01:00    1\n",
       "2018-01-01 09:02:00    3\n",
       "2018-01-01 09:03:00    3\n",
       "2018-01-01 09:04:00    3\n",
       "Name: num, dtype: int64"
      ]
     },
     "execution_count": 39,
     "metadata": {},
     "output_type": "execute_result"
    }
   ],
   "source": [
    "df.loc['2018', 'num'].head()"
   ]
  },
  {
   "cell_type": "code",
   "execution_count": 37,
   "metadata": {},
   "outputs": [
    {
     "data": {
      "application/vnd.microsoft.datawrangler.viewer.v0+json": {
       "columns": [
        {
         "name": "city",
         "rawType": "object",
         "type": "string"
        },
        {
         "name": "num",
         "rawType": "int64",
         "type": "integer"
        }
       ],
       "conversionMethod": "pd.DataFrame",
       "ref": "43464461-1063-44b7-83f1-9c020ca4d831",
       "rows": [
        [
         "Cambridge",
         "308428"
        ],
        [
         "Durham",
         "307965"
        ],
        [
         "London",
         "307431"
        ],
        [
         "Oxford",
         "307366"
        ]
       ],
       "shape": {
        "columns": 1,
        "rows": 4
       }
      },
      "text/html": [
       "<div>\n",
       "<style scoped>\n",
       "    .dataframe tbody tr th:only-of-type {\n",
       "        vertical-align: middle;\n",
       "    }\n",
       "\n",
       "    .dataframe tbody tr th {\n",
       "        vertical-align: top;\n",
       "    }\n",
       "\n",
       "    .dataframe thead th {\n",
       "        text-align: right;\n",
       "    }\n",
       "</style>\n",
       "<table border=\"1\" class=\"dataframe\">\n",
       "  <thead>\n",
       "    <tr style=\"text-align: right;\">\n",
       "      <th></th>\n",
       "      <th>num</th>\n",
       "    </tr>\n",
       "    <tr>\n",
       "      <th>city</th>\n",
       "      <th></th>\n",
       "    </tr>\n",
       "  </thead>\n",
       "  <tbody>\n",
       "    <tr>\n",
       "      <th>Cambridge</th>\n",
       "      <td>308428</td>\n",
       "    </tr>\n",
       "    <tr>\n",
       "      <th>Durham</th>\n",
       "      <td>307965</td>\n",
       "    </tr>\n",
       "    <tr>\n",
       "      <th>London</th>\n",
       "      <td>307431</td>\n",
       "    </tr>\n",
       "    <tr>\n",
       "      <th>Oxford</th>\n",
       "      <td>307366</td>\n",
       "    </tr>\n",
       "  </tbody>\n",
       "</table>\n",
       "</div>"
      ],
      "text/plain": [
       "              num\n",
       "city             \n",
       "Cambridge  308428\n",
       "Durham     307965\n",
       "London     307431\n",
       "Oxford     307366"
      ]
     },
     "execution_count": 37,
     "metadata": {},
     "output_type": "execute_result"
    }
   ],
   "source": [
    "df.loc['2018'].groupby('city').sum()"
   ]
  },
  {
   "attachments": {},
   "cell_type": "markdown",
   "metadata": {},
   "source": [
    "### 10. Select data with a specific month or a specific day of the month"
   ]
  },
  {
   "cell_type": "code",
   "execution_count": 38,
   "metadata": {
    "collapsed": true,
    "jupyter": {
     "outputs_hidden": true
    },
    "tags": []
   },
   "outputs": [
    {
     "data": {
      "application/vnd.microsoft.datawrangler.viewer.v0+json": {
       "columns": [
        {
         "name": "date",
         "rawType": "datetime64[ns]",
         "type": "datetime"
        },
        {
         "name": "num",
         "rawType": "int64",
         "type": "integer"
        },
        {
         "name": "city",
         "rawType": "object",
         "type": "string"
        }
       ],
       "conversionMethod": "pd.DataFrame",
       "ref": "a3c83c99-3465-4031-af8f-24e824d76bba",
       "rows": [
        [
         "2018-05-01 09:00:00",
         "1",
         "London"
        ],
        [
         "2018-05-01 09:01:00",
         "4",
         "London"
        ],
        [
         "2018-05-01 09:02:00",
         "3",
         "London"
        ],
        [
         "2018-05-01 09:03:00",
         "2",
         "London"
        ],
        [
         "2018-05-01 09:04:00",
         "3",
         "London"
        ]
       ],
       "shape": {
        "columns": 2,
        "rows": 5
       }
      },
      "text/html": [
       "<div>\n",
       "<style scoped>\n",
       "    .dataframe tbody tr th:only-of-type {\n",
       "        vertical-align: middle;\n",
       "    }\n",
       "\n",
       "    .dataframe tbody tr th {\n",
       "        vertical-align: top;\n",
       "    }\n",
       "\n",
       "    .dataframe thead th {\n",
       "        text-align: right;\n",
       "    }\n",
       "</style>\n",
       "<table border=\"1\" class=\"dataframe\">\n",
       "  <thead>\n",
       "    <tr style=\"text-align: right;\">\n",
       "      <th></th>\n",
       "      <th>num</th>\n",
       "      <th>city</th>\n",
       "    </tr>\n",
       "    <tr>\n",
       "      <th>date</th>\n",
       "      <th></th>\n",
       "      <th></th>\n",
       "    </tr>\n",
       "  </thead>\n",
       "  <tbody>\n",
       "    <tr>\n",
       "      <th>2018-05-01 09:00:00</th>\n",
       "      <td>1</td>\n",
       "      <td>London</td>\n",
       "    </tr>\n",
       "    <tr>\n",
       "      <th>2018-05-01 09:01:00</th>\n",
       "      <td>4</td>\n",
       "      <td>London</td>\n",
       "    </tr>\n",
       "    <tr>\n",
       "      <th>2018-05-01 09:02:00</th>\n",
       "      <td>3</td>\n",
       "      <td>London</td>\n",
       "    </tr>\n",
       "    <tr>\n",
       "      <th>2018-05-01 09:03:00</th>\n",
       "      <td>2</td>\n",
       "      <td>London</td>\n",
       "    </tr>\n",
       "    <tr>\n",
       "      <th>2018-05-01 09:04:00</th>\n",
       "      <td>3</td>\n",
       "      <td>London</td>\n",
       "    </tr>\n",
       "  </tbody>\n",
       "</table>\n",
       "</div>"
      ],
      "text/plain": [
       "                     num    city\n",
       "date                            \n",
       "2018-05-01 09:00:00    1  London\n",
       "2018-05-01 09:01:00    4  London\n",
       "2018-05-01 09:02:00    3  London\n",
       "2018-05-01 09:03:00    2  London\n",
       "2018-05-01 09:04:00    3  London"
      ]
     },
     "execution_count": 38,
     "metadata": {},
     "output_type": "execute_result"
    }
   ],
   "source": [
    "df.loc['2018-5'].head()"
   ]
  },
  {
   "cell_type": "code",
   "execution_count": 39,
   "metadata": {},
   "outputs": [
    {
     "data": {
      "application/vnd.microsoft.datawrangler.viewer.v0+json": {
       "columns": [
        {
         "name": "date",
         "rawType": "datetime64[ns]",
         "type": "datetime"
        },
        {
         "name": "num",
         "rawType": "int64",
         "type": "integer"
        },
        {
         "name": "city",
         "rawType": "object",
         "type": "string"
        }
       ],
       "conversionMethod": "pd.DataFrame",
       "ref": "a45b3026-1428-4369-9b00-607a655fa075",
       "rows": [
        [
         "2018-05-01 09:00:00",
         "1",
         "London"
        ],
        [
         "2018-05-01 09:01:00",
         "4",
         "London"
        ],
        [
         "2018-05-01 09:02:00",
         "3",
         "London"
        ],
        [
         "2018-05-01 09:03:00",
         "2",
         "London"
        ],
        [
         "2018-05-01 09:04:00",
         "3",
         "London"
        ]
       ],
       "shape": {
        "columns": 2,
        "rows": 5
       }
      },
      "text/html": [
       "<div>\n",
       "<style scoped>\n",
       "    .dataframe tbody tr th:only-of-type {\n",
       "        vertical-align: middle;\n",
       "    }\n",
       "\n",
       "    .dataframe tbody tr th {\n",
       "        vertical-align: top;\n",
       "    }\n",
       "\n",
       "    .dataframe thead th {\n",
       "        text-align: right;\n",
       "    }\n",
       "</style>\n",
       "<table border=\"1\" class=\"dataframe\">\n",
       "  <thead>\n",
       "    <tr style=\"text-align: right;\">\n",
       "      <th></th>\n",
       "      <th>num</th>\n",
       "      <th>city</th>\n",
       "    </tr>\n",
       "    <tr>\n",
       "      <th>date</th>\n",
       "      <th></th>\n",
       "      <th></th>\n",
       "    </tr>\n",
       "  </thead>\n",
       "  <tbody>\n",
       "    <tr>\n",
       "      <th>2018-05-01 09:00:00</th>\n",
       "      <td>1</td>\n",
       "      <td>London</td>\n",
       "    </tr>\n",
       "    <tr>\n",
       "      <th>2018-05-01 09:01:00</th>\n",
       "      <td>4</td>\n",
       "      <td>London</td>\n",
       "    </tr>\n",
       "    <tr>\n",
       "      <th>2018-05-01 09:02:00</th>\n",
       "      <td>3</td>\n",
       "      <td>London</td>\n",
       "    </tr>\n",
       "    <tr>\n",
       "      <th>2018-05-01 09:03:00</th>\n",
       "      <td>2</td>\n",
       "      <td>London</td>\n",
       "    </tr>\n",
       "    <tr>\n",
       "      <th>2018-05-01 09:04:00</th>\n",
       "      <td>3</td>\n",
       "      <td>London</td>\n",
       "    </tr>\n",
       "  </tbody>\n",
       "</table>\n",
       "</div>"
      ],
      "text/plain": [
       "                     num    city\n",
       "date                            \n",
       "2018-05-01 09:00:00    1  London\n",
       "2018-05-01 09:01:00    4  London\n",
       "2018-05-01 09:02:00    3  London\n",
       "2018-05-01 09:03:00    2  London\n",
       "2018-05-01 09:04:00    3  London"
      ]
     },
     "execution_count": 39,
     "metadata": {},
     "output_type": "execute_result"
    }
   ],
   "source": [
    "df.loc['2018-5-1'].head()"
   ]
  },
  {
   "cell_type": "code",
   "execution_count": 40,
   "metadata": {
    "collapsed": true,
    "jupyter": {
     "outputs_hidden": true
    },
    "tags": []
   },
   "outputs": [
    {
     "data": {
      "application/vnd.microsoft.datawrangler.viewer.v0+json": {
       "columns": [
        {
         "name": "date",
         "rawType": "datetime64[ns]",
         "type": "datetime"
        },
        {
         "name": "num",
         "rawType": "int64",
         "type": "integer"
        },
        {
         "name": "city",
         "rawType": "object",
         "type": "string"
        }
       ],
       "conversionMethod": "pd.DataFrame",
       "ref": "a647de18-ea0e-45c5-b5a1-05525ccebdb0",
       "rows": [
        [
         "2015-02-02 09:00:00",
         "4",
         "London"
        ],
        [
         "2015-02-02 09:01:00",
         "3",
         "London"
        ],
        [
         "2015-02-02 09:02:00",
         "3",
         "London"
        ],
        [
         "2015-02-02 09:03:00",
         "2",
         "London"
        ],
        [
         "2015-02-02 09:04:00",
         "1",
         "London"
        ]
       ],
       "shape": {
        "columns": 2,
        "rows": 5
       }
      },
      "text/html": [
       "<div>\n",
       "<style scoped>\n",
       "    .dataframe tbody tr th:only-of-type {\n",
       "        vertical-align: middle;\n",
       "    }\n",
       "\n",
       "    .dataframe tbody tr th {\n",
       "        vertical-align: top;\n",
       "    }\n",
       "\n",
       "    .dataframe thead th {\n",
       "        text-align: right;\n",
       "    }\n",
       "</style>\n",
       "<table border=\"1\" class=\"dataframe\">\n",
       "  <thead>\n",
       "    <tr style=\"text-align: right;\">\n",
       "      <th></th>\n",
       "      <th>num</th>\n",
       "      <th>city</th>\n",
       "    </tr>\n",
       "    <tr>\n",
       "      <th>date</th>\n",
       "      <th></th>\n",
       "      <th></th>\n",
       "    </tr>\n",
       "  </thead>\n",
       "  <tbody>\n",
       "    <tr>\n",
       "      <th>2015-02-02 09:00:00</th>\n",
       "      <td>4</td>\n",
       "      <td>London</td>\n",
       "    </tr>\n",
       "    <tr>\n",
       "      <th>2015-02-02 09:01:00</th>\n",
       "      <td>3</td>\n",
       "      <td>London</td>\n",
       "    </tr>\n",
       "    <tr>\n",
       "      <th>2015-02-02 09:02:00</th>\n",
       "      <td>3</td>\n",
       "      <td>London</td>\n",
       "    </tr>\n",
       "    <tr>\n",
       "      <th>2015-02-02 09:03:00</th>\n",
       "      <td>2</td>\n",
       "      <td>London</td>\n",
       "    </tr>\n",
       "    <tr>\n",
       "      <th>2015-02-02 09:04:00</th>\n",
       "      <td>1</td>\n",
       "      <td>London</td>\n",
       "    </tr>\n",
       "  </tbody>\n",
       "</table>\n",
       "</div>"
      ],
      "text/plain": [
       "                     num    city\n",
       "date                            \n",
       "2015-02-02 09:00:00    4  London\n",
       "2015-02-02 09:01:00    3  London\n",
       "2015-02-02 09:02:00    3  London\n",
       "2015-02-02 09:03:00    2  London\n",
       "2015-02-02 09:04:00    1  London"
      ]
     },
     "execution_count": 40,
     "metadata": {},
     "output_type": "execute_result"
    }
   ],
   "source": [
    "cond = df.index.month == 2\n",
    "df[cond].head()"
   ]
  },
  {
   "attachments": {},
   "cell_type": "markdown",
   "metadata": {},
   "source": [
    "### 11. Select data between two dates (deprecated)"
   ]
  },
  {
   "cell_type": "code",
   "execution_count": 41,
   "metadata": {},
   "outputs": [
    {
     "ename": "KeyError",
     "evalue": "'Value based partial slicing on non-monotonic DatetimeIndexes with non-existing keys is not allowed.'",
     "output_type": "error",
     "traceback": [
      "\u001b[1;31m---------------------------------------------------------------------------\u001b[0m",
      "\u001b[1;31mKeyError\u001b[0m                                  Traceback (most recent call last)",
      "Cell \u001b[1;32mIn[41], line 1\u001b[0m\n\u001b[1;32m----> 1\u001b[0m \u001b[43mdf\u001b[49m\u001b[43m[\u001b[49m\u001b[38;5;124;43m'\u001b[39;49m\u001b[38;5;124;43m2016\u001b[39;49m\u001b[38;5;124;43m'\u001b[39;49m\u001b[43m:\u001b[49m\u001b[38;5;124;43m'\u001b[39;49m\u001b[38;5;124;43m2018\u001b[39;49m\u001b[38;5;124;43m'\u001b[39;49m\u001b[43m]\u001b[49m\n",
      "File \u001b[1;32m~\\AppData\\Roaming\\Python\\Python311\\site-packages\\pandas\\core\\frame.py:4085\u001b[0m, in \u001b[0;36mDataFrame.__getitem__\u001b[1;34m(self, key)\u001b[0m\n\u001b[0;32m   4083\u001b[0m \u001b[38;5;66;03m# Do we have a slicer (on rows)?\u001b[39;00m\n\u001b[0;32m   4084\u001b[0m \u001b[38;5;28;01mif\u001b[39;00m \u001b[38;5;28misinstance\u001b[39m(key, \u001b[38;5;28mslice\u001b[39m):\n\u001b[1;32m-> 4085\u001b[0m     \u001b[38;5;28;01mreturn\u001b[39;00m \u001b[38;5;28;43mself\u001b[39;49m\u001b[38;5;241;43m.\u001b[39;49m\u001b[43m_getitem_slice\u001b[49m\u001b[43m(\u001b[49m\u001b[43mkey\u001b[49m\u001b[43m)\u001b[49m\n\u001b[0;32m   4087\u001b[0m \u001b[38;5;66;03m# Do we have a (boolean) DataFrame?\u001b[39;00m\n\u001b[0;32m   4088\u001b[0m \u001b[38;5;28;01mif\u001b[39;00m \u001b[38;5;28misinstance\u001b[39m(key, DataFrame):\n",
      "File \u001b[1;32m~\\AppData\\Roaming\\Python\\Python311\\site-packages\\pandas\\core\\generic.py:4349\u001b[0m, in \u001b[0;36mNDFrame._getitem_slice\u001b[1;34m(self, key)\u001b[0m\n\u001b[0;32m   4344\u001b[0m \u001b[38;5;250m\u001b[39m\u001b[38;5;124;03m\"\"\"\u001b[39;00m\n\u001b[0;32m   4345\u001b[0m \u001b[38;5;124;03m__getitem__ for the case where the key is a slice object.\u001b[39;00m\n\u001b[0;32m   4346\u001b[0m \u001b[38;5;124;03m\"\"\"\u001b[39;00m\n\u001b[0;32m   4347\u001b[0m \u001b[38;5;66;03m# _convert_slice_indexer to determine if this slice is positional\u001b[39;00m\n\u001b[0;32m   4348\u001b[0m \u001b[38;5;66;03m#  or label based, and if the latter, convert to positional\u001b[39;00m\n\u001b[1;32m-> 4349\u001b[0m slobj \u001b[38;5;241m=\u001b[39m \u001b[38;5;28;43mself\u001b[39;49m\u001b[38;5;241;43m.\u001b[39;49m\u001b[43mindex\u001b[49m\u001b[38;5;241;43m.\u001b[39;49m\u001b[43m_convert_slice_indexer\u001b[49m\u001b[43m(\u001b[49m\u001b[43mkey\u001b[49m\u001b[43m,\u001b[49m\u001b[43m \u001b[49m\u001b[43mkind\u001b[49m\u001b[38;5;241;43m=\u001b[39;49m\u001b[38;5;124;43m\"\u001b[39;49m\u001b[38;5;124;43mgetitem\u001b[39;49m\u001b[38;5;124;43m\"\u001b[39;49m\u001b[43m)\u001b[49m\n\u001b[0;32m   4350\u001b[0m \u001b[38;5;28;01mif\u001b[39;00m \u001b[38;5;28misinstance\u001b[39m(slobj, np\u001b[38;5;241m.\u001b[39mndarray):\n\u001b[0;32m   4351\u001b[0m     \u001b[38;5;66;03m# reachable with DatetimeIndex\u001b[39;00m\n\u001b[0;32m   4352\u001b[0m     indexer \u001b[38;5;241m=\u001b[39m lib\u001b[38;5;241m.\u001b[39mmaybe_indices_to_slice(\n\u001b[0;32m   4353\u001b[0m         slobj\u001b[38;5;241m.\u001b[39mastype(np\u001b[38;5;241m.\u001b[39mintp, copy\u001b[38;5;241m=\u001b[39m\u001b[38;5;28;01mFalse\u001b[39;00m), \u001b[38;5;28mlen\u001b[39m(\u001b[38;5;28mself\u001b[39m)\n\u001b[0;32m   4354\u001b[0m     )\n",
      "File \u001b[1;32m~\\AppData\\Roaming\\Python\\Python311\\site-packages\\pandas\\core\\indexes\\base.py:4281\u001b[0m, in \u001b[0;36mIndex._convert_slice_indexer\u001b[1;34m(self, key, kind)\u001b[0m\n\u001b[0;32m   4279\u001b[0m     indexer \u001b[38;5;241m=\u001b[39m key\n\u001b[0;32m   4280\u001b[0m \u001b[38;5;28;01melse\u001b[39;00m:\n\u001b[1;32m-> 4281\u001b[0m     indexer \u001b[38;5;241m=\u001b[39m \u001b[38;5;28;43mself\u001b[39;49m\u001b[38;5;241;43m.\u001b[39;49m\u001b[43mslice_indexer\u001b[49m\u001b[43m(\u001b[49m\u001b[43mstart\u001b[49m\u001b[43m,\u001b[49m\u001b[43m \u001b[49m\u001b[43mstop\u001b[49m\u001b[43m,\u001b[49m\u001b[43m \u001b[49m\u001b[43mstep\u001b[49m\u001b[43m)\u001b[49m\n\u001b[0;32m   4283\u001b[0m \u001b[38;5;28;01mreturn\u001b[39;00m indexer\n",
      "File \u001b[1;32m~\\AppData\\Roaming\\Python\\Python311\\site-packages\\pandas\\core\\indexes\\datetimes.py:697\u001b[0m, in \u001b[0;36mDatetimeIndex.slice_indexer\u001b[1;34m(self, start, end, step)\u001b[0m\n\u001b[0;32m    694\u001b[0m     in_index \u001b[38;5;241m&\u001b[39m\u001b[38;5;241m=\u001b[39m (end_casted \u001b[38;5;241m==\u001b[39m \u001b[38;5;28mself\u001b[39m)\u001b[38;5;241m.\u001b[39many()\n\u001b[0;32m    696\u001b[0m \u001b[38;5;28;01mif\u001b[39;00m \u001b[38;5;129;01mnot\u001b[39;00m in_index:\n\u001b[1;32m--> 697\u001b[0m     \u001b[38;5;28;01mraise\u001b[39;00m \u001b[38;5;167;01mKeyError\u001b[39;00m(\n\u001b[0;32m    698\u001b[0m         \u001b[38;5;124m\"\u001b[39m\u001b[38;5;124mValue based partial slicing on non-monotonic DatetimeIndexes \u001b[39m\u001b[38;5;124m\"\u001b[39m\n\u001b[0;32m    699\u001b[0m         \u001b[38;5;124m\"\u001b[39m\u001b[38;5;124mwith non-existing keys is not allowed.\u001b[39m\u001b[38;5;124m\"\u001b[39m,\n\u001b[0;32m    700\u001b[0m     )\n\u001b[0;32m    701\u001b[0m indexer \u001b[38;5;241m=\u001b[39m mask\u001b[38;5;241m.\u001b[39mnonzero()[\u001b[38;5;241m0\u001b[39m][::step]\n\u001b[0;32m    702\u001b[0m \u001b[38;5;28;01mif\u001b[39;00m \u001b[38;5;28mlen\u001b[39m(indexer) \u001b[38;5;241m==\u001b[39m \u001b[38;5;28mlen\u001b[39m(\u001b[38;5;28mself\u001b[39m):\n",
      "\u001b[1;31mKeyError\u001b[0m: 'Value based partial slicing on non-monotonic DatetimeIndexes with non-existing keys is not allowed.'"
     ]
    }
   ],
   "source": [
    "df['2016':'2018']"
   ]
  },
  {
   "cell_type": "code",
   "execution_count": 42,
   "metadata": {},
   "outputs": [],
   "source": [
    "df.sort_index(inplace=True)"
   ]
  },
  {
   "cell_type": "code",
   "execution_count": 43,
   "metadata": {
    "collapsed": true,
    "jupyter": {
     "outputs_hidden": true
    },
    "tags": []
   },
   "outputs": [
    {
     "data": {
      "application/vnd.microsoft.datawrangler.viewer.v0+json": {
       "columns": [
        {
         "name": "date",
         "rawType": "datetime64[ns]",
         "type": "datetime"
        },
        {
         "name": "num",
         "rawType": "int64",
         "type": "integer"
        },
        {
         "name": "city",
         "rawType": "object",
         "type": "string"
        }
       ],
       "conversionMethod": "pd.DataFrame",
       "ref": "3d2232f2-10ae-4c04-958e-a01e08dba212",
       "rows": [
        [
         "2016-01-01 09:00:00",
         "3",
         "Cambridge"
        ],
        [
         "2016-01-01 09:00:00",
         "4",
         "London"
        ],
        [
         "2016-01-01 09:00:00",
         "3",
         "Durham"
        ],
        [
         "2016-01-01 09:00:00",
         "3",
         "Oxford"
        ],
        [
         "2016-01-01 09:01:00",
         "2",
         "Oxford"
        ],
        [
         "2016-01-01 09:01:00",
         "3",
         "London"
        ],
        [
         "2016-01-01 09:01:00",
         "2",
         "Durham"
        ],
        [
         "2016-01-01 09:01:00",
         "4",
         "Cambridge"
        ],
        [
         "2016-01-01 09:02:00",
         "3",
         "Oxford"
        ],
        [
         "2016-01-01 09:02:00",
         "4",
         "London"
        ],
        [
         "2016-01-01 09:02:00",
         "4",
         "Durham"
        ],
        [
         "2016-01-01 09:02:00",
         "3",
         "Cambridge"
        ],
        [
         "2016-01-01 09:03:00",
         "4",
         "London"
        ],
        [
         "2016-01-01 09:03:00",
         "3",
         "Durham"
        ],
        [
         "2016-01-01 09:03:00",
         "4",
         "Oxford"
        ],
        [
         "2016-01-01 09:03:00",
         "4",
         "Cambridge"
        ],
        [
         "2016-01-01 09:04:00",
         "1",
         "Cambridge"
        ],
        [
         "2016-01-01 09:04:00",
         "2",
         "Oxford"
        ],
        [
         "2016-01-01 09:04:00",
         "3",
         "Durham"
        ],
        [
         "2016-01-01 09:04:00",
         "2",
         "London"
        ],
        [
         "2016-01-01 09:05:00",
         "1",
         "Durham"
        ],
        [
         "2016-01-01 09:05:00",
         "2",
         "London"
        ],
        [
         "2016-01-01 09:05:00",
         "3",
         "Cambridge"
        ],
        [
         "2016-01-01 09:05:00",
         "3",
         "Oxford"
        ],
        [
         "2016-01-01 09:06:00",
         "3",
         "London"
        ],
        [
         "2016-01-01 09:06:00",
         "3",
         "Cambridge"
        ],
        [
         "2016-01-01 09:06:00",
         "3",
         "Oxford"
        ],
        [
         "2016-01-01 09:06:00",
         "3",
         "Durham"
        ],
        [
         "2016-01-01 09:07:00",
         "3",
         "Oxford"
        ],
        [
         "2016-01-01 09:07:00",
         "4",
         "Durham"
        ],
        [
         "2016-01-01 09:07:00",
         "2",
         "Cambridge"
        ],
        [
         "2016-01-01 09:07:00",
         "4",
         "London"
        ],
        [
         "2016-01-01 09:08:00",
         "3",
         "Durham"
        ],
        [
         "2016-01-01 09:08:00",
         "3",
         "Oxford"
        ],
        [
         "2016-01-01 09:08:00",
         "2",
         "Cambridge"
        ],
        [
         "2016-01-01 09:08:00",
         "3",
         "London"
        ],
        [
         "2016-01-01 09:09:00",
         "3",
         "Cambridge"
        ],
        [
         "2016-01-01 09:09:00",
         "4",
         "Durham"
        ],
        [
         "2016-01-01 09:09:00",
         "4",
         "London"
        ],
        [
         "2016-01-01 09:09:00",
         "3",
         "Oxford"
        ],
        [
         "2016-01-01 09:10:00",
         "4",
         "Durham"
        ],
        [
         "2016-01-01 09:10:00",
         "3",
         "Cambridge"
        ],
        [
         "2016-01-01 09:10:00",
         "4",
         "London"
        ],
        [
         "2016-01-01 09:10:00",
         "1",
         "Oxford"
        ],
        [
         "2016-01-01 09:11:00",
         "1",
         "Durham"
        ],
        [
         "2016-01-01 09:11:00",
         "1",
         "London"
        ],
        [
         "2016-01-01 09:11:00",
         "1",
         "Cambridge"
        ],
        [
         "2016-01-01 09:11:00",
         "3",
         "Oxford"
        ],
        [
         "2016-01-01 09:12:00",
         "3",
         "Cambridge"
        ],
        [
         "2016-01-01 09:12:00",
         "2",
         "Durham"
        ]
       ],
       "shape": {
        "columns": 2,
        "rows": 1316888
       }
      },
      "text/html": [
       "<div>\n",
       "<style scoped>\n",
       "    .dataframe tbody tr th:only-of-type {\n",
       "        vertical-align: middle;\n",
       "    }\n",
       "\n",
       "    .dataframe tbody tr th {\n",
       "        vertical-align: top;\n",
       "    }\n",
       "\n",
       "    .dataframe thead th {\n",
       "        text-align: right;\n",
       "    }\n",
       "</style>\n",
       "<table border=\"1\" class=\"dataframe\">\n",
       "  <thead>\n",
       "    <tr style=\"text-align: right;\">\n",
       "      <th></th>\n",
       "      <th>num</th>\n",
       "      <th>city</th>\n",
       "    </tr>\n",
       "    <tr>\n",
       "      <th>date</th>\n",
       "      <th></th>\n",
       "      <th></th>\n",
       "    </tr>\n",
       "  </thead>\n",
       "  <tbody>\n",
       "    <tr>\n",
       "      <th>2016-01-01 09:00:00</th>\n",
       "      <td>3</td>\n",
       "      <td>Cambridge</td>\n",
       "    </tr>\n",
       "    <tr>\n",
       "      <th>2016-01-01 09:00:00</th>\n",
       "      <td>4</td>\n",
       "      <td>London</td>\n",
       "    </tr>\n",
       "    <tr>\n",
       "      <th>2016-01-01 09:00:00</th>\n",
       "      <td>3</td>\n",
       "      <td>Durham</td>\n",
       "    </tr>\n",
       "    <tr>\n",
       "      <th>2016-01-01 09:00:00</th>\n",
       "      <td>3</td>\n",
       "      <td>Oxford</td>\n",
       "    </tr>\n",
       "    <tr>\n",
       "      <th>2016-01-01 09:01:00</th>\n",
       "      <td>2</td>\n",
       "      <td>Oxford</td>\n",
       "    </tr>\n",
       "    <tr>\n",
       "      <th>...</th>\n",
       "      <td>...</td>\n",
       "      <td>...</td>\n",
       "    </tr>\n",
       "    <tr>\n",
       "      <th>2018-12-31 15:59:00</th>\n",
       "      <td>2</td>\n",
       "      <td>Oxford</td>\n",
       "    </tr>\n",
       "    <tr>\n",
       "      <th>2018-12-31 16:00:00</th>\n",
       "      <td>2</td>\n",
       "      <td>Durham</td>\n",
       "    </tr>\n",
       "    <tr>\n",
       "      <th>2018-12-31 16:00:00</th>\n",
       "      <td>3</td>\n",
       "      <td>Oxford</td>\n",
       "    </tr>\n",
       "    <tr>\n",
       "      <th>2018-12-31 16:00:00</th>\n",
       "      <td>2</td>\n",
       "      <td>Cambridge</td>\n",
       "    </tr>\n",
       "    <tr>\n",
       "      <th>2018-12-31 16:00:00</th>\n",
       "      <td>3</td>\n",
       "      <td>London</td>\n",
       "    </tr>\n",
       "  </tbody>\n",
       "</table>\n",
       "<p>1316888 rows × 2 columns</p>\n",
       "</div>"
      ],
      "text/plain": [
       "                     num       city\n",
       "date                               \n",
       "2016-01-01 09:00:00    3  Cambridge\n",
       "2016-01-01 09:00:00    4     London\n",
       "2016-01-01 09:00:00    3     Durham\n",
       "2016-01-01 09:00:00    3     Oxford\n",
       "2016-01-01 09:01:00    2     Oxford\n",
       "...                  ...        ...\n",
       "2018-12-31 15:59:00    2     Oxford\n",
       "2018-12-31 16:00:00    2     Durham\n",
       "2018-12-31 16:00:00    3     Oxford\n",
       "2018-12-31 16:00:00    2  Cambridge\n",
       "2018-12-31 16:00:00    3     London\n",
       "\n",
       "[1316888 rows x 2 columns]"
      ]
     },
     "execution_count": 43,
     "metadata": {},
     "output_type": "execute_result"
    }
   ],
   "source": [
    "df['2016':'2018']"
   ]
  },
  {
   "cell_type": "code",
   "execution_count": 44,
   "metadata": {},
   "outputs": [],
   "source": [
    "df_2016_2018 = df.loc['2016-01-01':'2018-12-31']"
   ]
  },
  {
   "cell_type": "code",
   "execution_count": 45,
   "metadata": {},
   "outputs": [
    {
     "data": {
      "application/vnd.microsoft.datawrangler.viewer.v0+json": {
       "columns": [
        {
         "name": "date",
         "rawType": "datetime64[ns]",
         "type": "datetime"
        },
        {
         "name": "num",
         "rawType": "int64",
         "type": "integer"
        },
        {
         "name": "city",
         "rawType": "object",
         "type": "string"
        }
       ],
       "conversionMethod": "pd.DataFrame",
       "ref": "8ca9ca09-956d-428b-b21a-ac75e5db4710",
       "rows": [
        [
         "2018-05-02 10:00:00",
         "3",
         "Cambridge"
        ],
        [
         "2018-05-02 10:00:00",
         "3",
         "Oxford"
        ],
        [
         "2018-05-02 10:00:00",
         "3",
         "Durham"
        ],
        [
         "2018-05-02 10:00:00",
         "2",
         "London"
        ],
        [
         "2018-05-02 10:01:00",
         "3",
         "London"
        ],
        [
         "2018-05-02 10:01:00",
         "4",
         "Oxford"
        ],
        [
         "2018-05-02 10:01:00",
         "3",
         "Cambridge"
        ],
        [
         "2018-05-02 10:01:00",
         "2",
         "Durham"
        ],
        [
         "2018-05-02 10:02:00",
         "4",
         "Oxford"
        ],
        [
         "2018-05-02 10:02:00",
         "4",
         "London"
        ],
        [
         "2018-05-02 10:02:00",
         "2",
         "Cambridge"
        ],
        [
         "2018-05-02 10:02:00",
         "2",
         "Durham"
        ],
        [
         "2018-05-02 10:03:00",
         "3",
         "Oxford"
        ],
        [
         "2018-05-02 10:03:00",
         "4",
         "London"
        ],
        [
         "2018-05-02 10:03:00",
         "2",
         "Durham"
        ],
        [
         "2018-05-02 10:03:00",
         "2",
         "Cambridge"
        ],
        [
         "2018-05-02 10:04:00",
         "4",
         "Durham"
        ],
        [
         "2018-05-02 10:04:00",
         "4",
         "London"
        ],
        [
         "2018-05-02 10:04:00",
         "3",
         "Cambridge"
        ],
        [
         "2018-05-02 10:04:00",
         "4",
         "Oxford"
        ],
        [
         "2018-05-02 10:05:00",
         "4",
         "Cambridge"
        ],
        [
         "2018-05-02 10:05:00",
         "1",
         "London"
        ],
        [
         "2018-05-02 10:05:00",
         "1",
         "Oxford"
        ],
        [
         "2018-05-02 10:05:00",
         "2",
         "Durham"
        ],
        [
         "2018-05-02 10:06:00",
         "4",
         "Cambridge"
        ],
        [
         "2018-05-02 10:06:00",
         "2",
         "London"
        ],
        [
         "2018-05-02 10:06:00",
         "3",
         "Oxford"
        ],
        [
         "2018-05-02 10:06:00",
         "1",
         "Durham"
        ],
        [
         "2018-05-02 10:07:00",
         "4",
         "Cambridge"
        ],
        [
         "2018-05-02 10:07:00",
         "4",
         "Oxford"
        ],
        [
         "2018-05-02 10:07:00",
         "4",
         "London"
        ],
        [
         "2018-05-02 10:07:00",
         "4",
         "Durham"
        ],
        [
         "2018-05-02 10:08:00",
         "3",
         "London"
        ],
        [
         "2018-05-02 10:08:00",
         "1",
         "Durham"
        ],
        [
         "2018-05-02 10:08:00",
         "1",
         "Oxford"
        ],
        [
         "2018-05-02 10:08:00",
         "3",
         "Cambridge"
        ],
        [
         "2018-05-02 10:09:00",
         "1",
         "Durham"
        ],
        [
         "2018-05-02 10:09:00",
         "4",
         "London"
        ],
        [
         "2018-05-02 10:09:00",
         "4",
         "Oxford"
        ],
        [
         "2018-05-02 10:09:00",
         "3",
         "Cambridge"
        ],
        [
         "2018-05-02 10:10:00",
         "2",
         "London"
        ],
        [
         "2018-05-02 10:10:00",
         "1",
         "Durham"
        ],
        [
         "2018-05-02 10:10:00",
         "2",
         "Cambridge"
        ],
        [
         "2018-05-02 10:10:00",
         "3",
         "Oxford"
        ],
        [
         "2018-05-02 10:11:00",
         "3",
         "Cambridge"
        ],
        [
         "2018-05-02 10:11:00",
         "4",
         "Durham"
        ],
        [
         "2018-05-02 10:11:00",
         "2",
         "London"
        ],
        [
         "2018-05-02 10:11:00",
         "3",
         "Oxford"
        ],
        [
         "2018-05-02 10:12:00",
         "4",
         "Durham"
        ],
        [
         "2018-05-02 10:12:00",
         "3",
         "Cambridge"
        ]
       ],
       "shape": {
        "columns": 2,
        "rows": 480
       }
      },
      "text/html": [
       "<div>\n",
       "<style scoped>\n",
       "    .dataframe tbody tr th:only-of-type {\n",
       "        vertical-align: middle;\n",
       "    }\n",
       "\n",
       "    .dataframe tbody tr th {\n",
       "        vertical-align: top;\n",
       "    }\n",
       "\n",
       "    .dataframe thead th {\n",
       "        text-align: right;\n",
       "    }\n",
       "</style>\n",
       "<table border=\"1\" class=\"dataframe\">\n",
       "  <thead>\n",
       "    <tr style=\"text-align: right;\">\n",
       "      <th></th>\n",
       "      <th>num</th>\n",
       "      <th>city</th>\n",
       "    </tr>\n",
       "    <tr>\n",
       "      <th>date</th>\n",
       "      <th></th>\n",
       "      <th></th>\n",
       "    </tr>\n",
       "  </thead>\n",
       "  <tbody>\n",
       "    <tr>\n",
       "      <th>2018-05-02 10:00:00</th>\n",
       "      <td>3</td>\n",
       "      <td>Cambridge</td>\n",
       "    </tr>\n",
       "    <tr>\n",
       "      <th>2018-05-02 10:00:00</th>\n",
       "      <td>3</td>\n",
       "      <td>Oxford</td>\n",
       "    </tr>\n",
       "    <tr>\n",
       "      <th>2018-05-02 10:00:00</th>\n",
       "      <td>3</td>\n",
       "      <td>Durham</td>\n",
       "    </tr>\n",
       "    <tr>\n",
       "      <th>2018-05-02 10:00:00</th>\n",
       "      <td>2</td>\n",
       "      <td>London</td>\n",
       "    </tr>\n",
       "    <tr>\n",
       "      <th>2018-05-02 10:01:00</th>\n",
       "      <td>3</td>\n",
       "      <td>London</td>\n",
       "    </tr>\n",
       "    <tr>\n",
       "      <th>...</th>\n",
       "      <td>...</td>\n",
       "      <td>...</td>\n",
       "    </tr>\n",
       "    <tr>\n",
       "      <th>2018-05-02 11:58:00</th>\n",
       "      <td>4</td>\n",
       "      <td>Cambridge</td>\n",
       "    </tr>\n",
       "    <tr>\n",
       "      <th>2018-05-02 11:59:00</th>\n",
       "      <td>3</td>\n",
       "      <td>Durham</td>\n",
       "    </tr>\n",
       "    <tr>\n",
       "      <th>2018-05-02 11:59:00</th>\n",
       "      <td>1</td>\n",
       "      <td>Cambridge</td>\n",
       "    </tr>\n",
       "    <tr>\n",
       "      <th>2018-05-02 11:59:00</th>\n",
       "      <td>4</td>\n",
       "      <td>London</td>\n",
       "    </tr>\n",
       "    <tr>\n",
       "      <th>2018-05-02 11:59:00</th>\n",
       "      <td>3</td>\n",
       "      <td>Oxford</td>\n",
       "    </tr>\n",
       "  </tbody>\n",
       "</table>\n",
       "<p>480 rows × 2 columns</p>\n",
       "</div>"
      ],
      "text/plain": [
       "                     num       city\n",
       "date                               \n",
       "2018-05-02 10:00:00    3  Cambridge\n",
       "2018-05-02 10:00:00    3     Oxford\n",
       "2018-05-02 10:00:00    3     Durham\n",
       "2018-05-02 10:00:00    2     London\n",
       "2018-05-02 10:01:00    3     London\n",
       "...                  ...        ...\n",
       "2018-05-02 11:58:00    4  Cambridge\n",
       "2018-05-02 11:59:00    3     Durham\n",
       "2018-05-02 11:59:00    1  Cambridge\n",
       "2018-05-02 11:59:00    4     London\n",
       "2018-05-02 11:59:00    3     Oxford\n",
       "\n",
       "[480 rows x 2 columns]"
      ]
     },
     "execution_count": 45,
     "metadata": {},
     "output_type": "execute_result"
    }
   ],
   "source": [
    "df.loc['2018-5-2 10' : '2018-5-2 11' ]"
   ]
  },
  {
   "cell_type": "code",
   "execution_count": 46,
   "metadata": {},
   "outputs": [
    {
     "data": {
      "application/vnd.microsoft.datawrangler.viewer.v0+json": {
       "columns": [
        {
         "name": "date",
         "rawType": "datetime64[ns]",
         "type": "datetime"
        },
        {
         "name": "num",
         "rawType": "int64",
         "type": "integer"
        },
        {
         "name": "city",
         "rawType": "object",
         "type": "string"
        }
       ],
       "conversionMethod": "pd.DataFrame",
       "ref": "00919737-7994-448c-abc8-6e21bf9a73fb",
       "rows": [
        [
         "2018-05-02 10:30:00",
         "3",
         "London"
        ],
        [
         "2018-05-02 10:30:00",
         "3",
         "Oxford"
        ],
        [
         "2018-05-02 10:30:00",
         "2",
         "Durham"
        ],
        [
         "2018-05-02 10:30:00",
         "3",
         "Cambridge"
        ],
        [
         "2018-05-02 10:31:00",
         "2",
         "Durham"
        ],
        [
         "2018-05-02 10:31:00",
         "3",
         "London"
        ],
        [
         "2018-05-02 10:31:00",
         "3",
         "Oxford"
        ],
        [
         "2018-05-02 10:31:00",
         "3",
         "Cambridge"
        ],
        [
         "2018-05-02 10:32:00",
         "4",
         "Durham"
        ],
        [
         "2018-05-02 10:32:00",
         "1",
         "London"
        ],
        [
         "2018-05-02 10:32:00",
         "4",
         "Cambridge"
        ],
        [
         "2018-05-02 10:32:00",
         "3",
         "Oxford"
        ],
        [
         "2018-05-02 10:33:00",
         "3",
         "London"
        ],
        [
         "2018-05-02 10:33:00",
         "4",
         "Durham"
        ],
        [
         "2018-05-02 10:33:00",
         "3",
         "Cambridge"
        ],
        [
         "2018-05-02 10:33:00",
         "2",
         "Oxford"
        ],
        [
         "2018-05-02 10:34:00",
         "2",
         "Durham"
        ],
        [
         "2018-05-02 10:34:00",
         "1",
         "Cambridge"
        ],
        [
         "2018-05-02 10:34:00",
         "3",
         "London"
        ],
        [
         "2018-05-02 10:34:00",
         "2",
         "Oxford"
        ],
        [
         "2018-05-02 10:35:00",
         "4",
         "Cambridge"
        ],
        [
         "2018-05-02 10:35:00",
         "4",
         "Durham"
        ],
        [
         "2018-05-02 10:35:00",
         "3",
         "London"
        ],
        [
         "2018-05-02 10:35:00",
         "2",
         "Oxford"
        ],
        [
         "2018-05-02 10:36:00",
         "3",
         "London"
        ],
        [
         "2018-05-02 10:36:00",
         "4",
         "Cambridge"
        ],
        [
         "2018-05-02 10:36:00",
         "3",
         "Durham"
        ],
        [
         "2018-05-02 10:36:00",
         "3",
         "Oxford"
        ],
        [
         "2018-05-02 10:37:00",
         "3",
         "Cambridge"
        ],
        [
         "2018-05-02 10:37:00",
         "2",
         "Oxford"
        ],
        [
         "2018-05-02 10:37:00",
         "3",
         "Durham"
        ],
        [
         "2018-05-02 10:37:00",
         "2",
         "London"
        ],
        [
         "2018-05-02 10:38:00",
         "4",
         "Oxford"
        ],
        [
         "2018-05-02 10:38:00",
         "3",
         "Durham"
        ],
        [
         "2018-05-02 10:38:00",
         "3",
         "London"
        ],
        [
         "2018-05-02 10:38:00",
         "3",
         "Cambridge"
        ],
        [
         "2018-05-02 10:39:00",
         "3",
         "London"
        ],
        [
         "2018-05-02 10:39:00",
         "3",
         "Oxford"
        ],
        [
         "2018-05-02 10:39:00",
         "2",
         "Cambridge"
        ],
        [
         "2018-05-02 10:39:00",
         "3",
         "Durham"
        ],
        [
         "2018-05-02 10:40:00",
         "3",
         "Cambridge"
        ],
        [
         "2018-05-02 10:40:00",
         "1",
         "Oxford"
        ],
        [
         "2018-05-02 10:40:00",
         "1",
         "Durham"
        ],
        [
         "2018-05-02 10:40:00",
         "2",
         "London"
        ],
        [
         "2018-05-02 10:41:00",
         "4",
         "London"
        ],
        [
         "2018-05-02 10:41:00",
         "3",
         "Durham"
        ],
        [
         "2018-05-02 10:41:00",
         "1",
         "Oxford"
        ],
        [
         "2018-05-02 10:41:00",
         "3",
         "Cambridge"
        ],
        [
         "2018-05-02 10:42:00",
         "3",
         "London"
        ],
        [
         "2018-05-02 10:42:00",
         "3",
         "Durham"
        ]
       ],
       "shape": {
        "columns": 2,
        "rows": 64
       }
      },
      "text/html": [
       "<div>\n",
       "<style scoped>\n",
       "    .dataframe tbody tr th:only-of-type {\n",
       "        vertical-align: middle;\n",
       "    }\n",
       "\n",
       "    .dataframe tbody tr th {\n",
       "        vertical-align: top;\n",
       "    }\n",
       "\n",
       "    .dataframe thead th {\n",
       "        text-align: right;\n",
       "    }\n",
       "</style>\n",
       "<table border=\"1\" class=\"dataframe\">\n",
       "  <thead>\n",
       "    <tr style=\"text-align: right;\">\n",
       "      <th></th>\n",
       "      <th>num</th>\n",
       "      <th>city</th>\n",
       "    </tr>\n",
       "    <tr>\n",
       "      <th>date</th>\n",
       "      <th></th>\n",
       "      <th></th>\n",
       "    </tr>\n",
       "  </thead>\n",
       "  <tbody>\n",
       "    <tr>\n",
       "      <th>2018-05-02 10:30:00</th>\n",
       "      <td>3</td>\n",
       "      <td>London</td>\n",
       "    </tr>\n",
       "    <tr>\n",
       "      <th>2018-05-02 10:30:00</th>\n",
       "      <td>3</td>\n",
       "      <td>Oxford</td>\n",
       "    </tr>\n",
       "    <tr>\n",
       "      <th>2018-05-02 10:30:00</th>\n",
       "      <td>2</td>\n",
       "      <td>Durham</td>\n",
       "    </tr>\n",
       "    <tr>\n",
       "      <th>2018-05-02 10:30:00</th>\n",
       "      <td>3</td>\n",
       "      <td>Cambridge</td>\n",
       "    </tr>\n",
       "    <tr>\n",
       "      <th>2018-05-02 10:31:00</th>\n",
       "      <td>2</td>\n",
       "      <td>Durham</td>\n",
       "    </tr>\n",
       "    <tr>\n",
       "      <th>...</th>\n",
       "      <td>...</td>\n",
       "      <td>...</td>\n",
       "    </tr>\n",
       "    <tr>\n",
       "      <th>2018-05-02 10:44:00</th>\n",
       "      <td>3</td>\n",
       "      <td>Cambridge</td>\n",
       "    </tr>\n",
       "    <tr>\n",
       "      <th>2018-05-02 10:45:00</th>\n",
       "      <td>4</td>\n",
       "      <td>London</td>\n",
       "    </tr>\n",
       "    <tr>\n",
       "      <th>2018-05-02 10:45:00</th>\n",
       "      <td>3</td>\n",
       "      <td>Durham</td>\n",
       "    </tr>\n",
       "    <tr>\n",
       "      <th>2018-05-02 10:45:00</th>\n",
       "      <td>3</td>\n",
       "      <td>Oxford</td>\n",
       "    </tr>\n",
       "    <tr>\n",
       "      <th>2018-05-02 10:45:00</th>\n",
       "      <td>1</td>\n",
       "      <td>Cambridge</td>\n",
       "    </tr>\n",
       "  </tbody>\n",
       "</table>\n",
       "<p>64 rows × 2 columns</p>\n",
       "</div>"
      ],
      "text/plain": [
       "                     num       city\n",
       "date                               \n",
       "2018-05-02 10:30:00    3     London\n",
       "2018-05-02 10:30:00    3     Oxford\n",
       "2018-05-02 10:30:00    2     Durham\n",
       "2018-05-02 10:30:00    3  Cambridge\n",
       "2018-05-02 10:31:00    2     Durham\n",
       "...                  ...        ...\n",
       "2018-05-02 10:44:00    3  Cambridge\n",
       "2018-05-02 10:45:00    4     London\n",
       "2018-05-02 10:45:00    3     Durham\n",
       "2018-05-02 10:45:00    3     Oxford\n",
       "2018-05-02 10:45:00    1  Cambridge\n",
       "\n",
       "[64 rows x 2 columns]"
      ]
     },
     "execution_count": 46,
     "metadata": {},
     "output_type": "execute_result"
    }
   ],
   "source": [
    "df.loc['2018-5-2 10:30' : '2018-5-2 10:45' ]"
   ]
  },
  {
   "cell_type": "code",
   "execution_count": 52,
   "metadata": {},
   "outputs": [
    {
     "data": {
      "application/vnd.microsoft.datawrangler.viewer.v0+json": {
       "columns": [
        {
         "name": "date",
         "rawType": "datetime64[ns]",
         "type": "datetime"
        },
        {
         "name": "num",
         "rawType": "int64",
         "type": "integer"
        },
        {
         "name": "city",
         "rawType": "object",
         "type": "string"
        }
       ],
       "conversionMethod": "pd.DataFrame",
       "ref": "9ace5ac2-99b3-4d2e-8fac-aa3fb97cbbc8",
       "rows": [
        [
         "2015-01-01 10:30:00",
         "4",
         "London"
        ],
        [
         "2015-01-01 10:30:00",
         "4",
         "Cambridge"
        ],
        [
         "2015-01-01 10:30:00",
         "4",
         "Oxford"
        ],
        [
         "2015-01-01 10:30:00",
         "2",
         "Durham"
        ],
        [
         "2015-01-01 10:31:00",
         "3",
         "London"
        ],
        [
         "2015-01-01 10:31:00",
         "2",
         "Cambridge"
        ],
        [
         "2015-01-01 10:31:00",
         "2",
         "Oxford"
        ],
        [
         "2015-01-01 10:31:00",
         "2",
         "Durham"
        ],
        [
         "2015-01-01 10:32:00",
         "1",
         "Oxford"
        ],
        [
         "2015-01-01 10:32:00",
         "1",
         "Durham"
        ],
        [
         "2015-01-01 10:32:00",
         "3",
         "London"
        ],
        [
         "2015-01-01 10:32:00",
         "1",
         "Cambridge"
        ],
        [
         "2015-01-01 10:33:00",
         "3",
         "Oxford"
        ],
        [
         "2015-01-01 10:33:00",
         "3",
         "Cambridge"
        ],
        [
         "2015-01-01 10:33:00",
         "3",
         "London"
        ],
        [
         "2015-01-01 10:33:00",
         "3",
         "Durham"
        ],
        [
         "2015-01-01 10:34:00",
         "4",
         "Oxford"
        ],
        [
         "2015-01-01 10:34:00",
         "4",
         "London"
        ],
        [
         "2015-01-01 10:34:00",
         "3",
         "Cambridge"
        ],
        [
         "2015-01-01 10:34:00",
         "3",
         "Durham"
        ],
        [
         "2015-01-01 10:35:00",
         "2",
         "Cambridge"
        ],
        [
         "2015-01-01 10:35:00",
         "2",
         "Oxford"
        ],
        [
         "2015-01-01 10:35:00",
         "3",
         "Durham"
        ],
        [
         "2015-01-01 10:35:00",
         "3",
         "London"
        ],
        [
         "2015-01-01 10:36:00",
         "4",
         "London"
        ],
        [
         "2015-01-01 10:36:00",
         "3",
         "Cambridge"
        ],
        [
         "2015-01-01 10:36:00",
         "2",
         "Oxford"
        ],
        [
         "2015-01-01 10:36:00",
         "3",
         "Durham"
        ],
        [
         "2015-01-01 10:37:00",
         "2",
         "Oxford"
        ],
        [
         "2015-01-01 10:37:00",
         "1",
         "London"
        ],
        [
         "2015-01-01 10:37:00",
         "2",
         "Durham"
        ],
        [
         "2015-01-01 10:37:00",
         "1",
         "Cambridge"
        ],
        [
         "2015-01-01 10:38:00",
         "1",
         "Oxford"
        ],
        [
         "2015-01-01 10:38:00",
         "3",
         "London"
        ],
        [
         "2015-01-01 10:38:00",
         "3",
         "Durham"
        ],
        [
         "2015-01-01 10:38:00",
         "4",
         "Cambridge"
        ],
        [
         "2015-01-01 10:39:00",
         "3",
         "Oxford"
        ],
        [
         "2015-01-01 10:39:00",
         "2",
         "London"
        ],
        [
         "2015-01-01 10:39:00",
         "4",
         "Durham"
        ],
        [
         "2015-01-01 10:39:00",
         "3",
         "Cambridge"
        ],
        [
         "2015-01-01 10:40:00",
         "3",
         "Oxford"
        ],
        [
         "2015-01-01 10:40:00",
         "2",
         "Cambridge"
        ],
        [
         "2015-01-01 10:40:00",
         "4",
         "London"
        ],
        [
         "2015-01-01 10:40:00",
         "3",
         "Durham"
        ],
        [
         "2015-01-01 10:41:00",
         "4",
         "Durham"
        ],
        [
         "2015-01-01 10:41:00",
         "3",
         "Oxford"
        ],
        [
         "2015-01-01 10:41:00",
         "1",
         "Cambridge"
        ],
        [
         "2015-01-01 10:41:00",
         "3",
         "London"
        ],
        [
         "2015-01-01 10:42:00",
         "4",
         "Oxford"
        ],
        [
         "2015-01-01 10:42:00",
         "4",
         "London"
        ]
       ],
       "shape": {
        "columns": 2,
        "rows": 68224
       }
      },
      "text/html": [
       "<div>\n",
       "<style scoped>\n",
       "    .dataframe tbody tr th:only-of-type {\n",
       "        vertical-align: middle;\n",
       "    }\n",
       "\n",
       "    .dataframe tbody tr th {\n",
       "        vertical-align: top;\n",
       "    }\n",
       "\n",
       "    .dataframe thead th {\n",
       "        text-align: right;\n",
       "    }\n",
       "</style>\n",
       "<table border=\"1\" class=\"dataframe\">\n",
       "  <thead>\n",
       "    <tr style=\"text-align: right;\">\n",
       "      <th></th>\n",
       "      <th>num</th>\n",
       "      <th>city</th>\n",
       "    </tr>\n",
       "    <tr>\n",
       "      <th>date</th>\n",
       "      <th></th>\n",
       "      <th></th>\n",
       "    </tr>\n",
       "  </thead>\n",
       "  <tbody>\n",
       "    <tr>\n",
       "      <th>2015-01-01 10:30:00</th>\n",
       "      <td>4</td>\n",
       "      <td>London</td>\n",
       "    </tr>\n",
       "    <tr>\n",
       "      <th>2015-01-01 10:30:00</th>\n",
       "      <td>4</td>\n",
       "      <td>Cambridge</td>\n",
       "    </tr>\n",
       "    <tr>\n",
       "      <th>2015-01-01 10:30:00</th>\n",
       "      <td>4</td>\n",
       "      <td>Oxford</td>\n",
       "    </tr>\n",
       "    <tr>\n",
       "      <th>2015-01-01 10:30:00</th>\n",
       "      <td>2</td>\n",
       "      <td>Durham</td>\n",
       "    </tr>\n",
       "    <tr>\n",
       "      <th>2015-01-01 10:31:00</th>\n",
       "      <td>3</td>\n",
       "      <td>London</td>\n",
       "    </tr>\n",
       "    <tr>\n",
       "      <th>...</th>\n",
       "      <td>...</td>\n",
       "      <td>...</td>\n",
       "    </tr>\n",
       "    <tr>\n",
       "      <th>2019-01-31 10:44:00</th>\n",
       "      <td>2</td>\n",
       "      <td>London</td>\n",
       "    </tr>\n",
       "    <tr>\n",
       "      <th>2019-01-31 10:45:00</th>\n",
       "      <td>4</td>\n",
       "      <td>London</td>\n",
       "    </tr>\n",
       "    <tr>\n",
       "      <th>2019-01-31 10:45:00</th>\n",
       "      <td>4</td>\n",
       "      <td>Cambridge</td>\n",
       "    </tr>\n",
       "    <tr>\n",
       "      <th>2019-01-31 10:45:00</th>\n",
       "      <td>3</td>\n",
       "      <td>Oxford</td>\n",
       "    </tr>\n",
       "    <tr>\n",
       "      <th>2019-01-31 10:45:00</th>\n",
       "      <td>2</td>\n",
       "      <td>Durham</td>\n",
       "    </tr>\n",
       "  </tbody>\n",
       "</table>\n",
       "<p>68224 rows × 2 columns</p>\n",
       "</div>"
      ],
      "text/plain": [
       "                     num       city\n",
       "date                               \n",
       "2015-01-01 10:30:00    4     London\n",
       "2015-01-01 10:30:00    4  Cambridge\n",
       "2015-01-01 10:30:00    4     Oxford\n",
       "2015-01-01 10:30:00    2     Durham\n",
       "2015-01-01 10:31:00    3     London\n",
       "...                  ...        ...\n",
       "2019-01-31 10:44:00    2     London\n",
       "2019-01-31 10:45:00    4     London\n",
       "2019-01-31 10:45:00    4  Cambridge\n",
       "2019-01-31 10:45:00    3     Oxford\n",
       "2019-01-31 10:45:00    2     Durham\n",
       "\n",
       "[68224 rows x 2 columns]"
      ]
     },
     "execution_count": 52,
     "metadata": {},
     "output_type": "execute_result"
    }
   ],
   "source": [
    "df.between_time('10:30','10:45')"
   ]
  },
  {
   "cell_type": "code",
   "execution_count": 53,
   "metadata": {},
   "outputs": [
    {
     "data": {
      "text/plain": [
       "(1795144, 2)"
      ]
     },
     "execution_count": 53,
     "metadata": {},
     "output_type": "execute_result"
    }
   ],
   "source": [
    "df.shape"
   ]
  },
  {
   "attachments": {},
   "cell_type": "markdown",
   "metadata": {},
   "source": [
    "### 12. Operations with dates"
   ]
  },
  {
   "cell_type": "code",
   "execution_count": 47,
   "metadata": {},
   "outputs": [
    {
     "data": {
      "application/vnd.microsoft.datawrangler.viewer.v0+json": {
       "columns": [
        {
         "name": "index",
         "rawType": "int64",
         "type": "integer"
        },
        {
         "name": "name",
         "rawType": "object",
         "type": "string"
        },
        {
         "name": "DoB",
         "rawType": "datetime64[ns]",
         "type": "datetime"
        }
       ],
       "conversionMethod": "pd.DataFrame",
       "ref": "5666e1e0-a394-467f-9fc0-3d63f7ccc575",
       "rows": [
        [
         "0",
         "Tom",
         "1997-08-05 00:00:00"
        ],
        [
         "1",
         "Andy",
         "1996-04-28 00:00:00"
        ],
        [
         "2",
         "Lucas",
         "1995-12-16 00:00:00"
        ]
       ],
       "shape": {
        "columns": 2,
        "rows": 3
       }
      },
      "text/html": [
       "<div>\n",
       "<style scoped>\n",
       "    .dataframe tbody tr th:only-of-type {\n",
       "        vertical-align: middle;\n",
       "    }\n",
       "\n",
       "    .dataframe tbody tr th {\n",
       "        vertical-align: top;\n",
       "    }\n",
       "\n",
       "    .dataframe thead th {\n",
       "        text-align: right;\n",
       "    }\n",
       "</style>\n",
       "<table border=\"1\" class=\"dataframe\">\n",
       "  <thead>\n",
       "    <tr style=\"text-align: right;\">\n",
       "      <th></th>\n",
       "      <th>name</th>\n",
       "      <th>DoB</th>\n",
       "    </tr>\n",
       "  </thead>\n",
       "  <tbody>\n",
       "    <tr>\n",
       "      <th>0</th>\n",
       "      <td>Tom</td>\n",
       "      <td>1997-08-05</td>\n",
       "    </tr>\n",
       "    <tr>\n",
       "      <th>1</th>\n",
       "      <td>Andy</td>\n",
       "      <td>1996-04-28</td>\n",
       "    </tr>\n",
       "    <tr>\n",
       "      <th>2</th>\n",
       "      <td>Lucas</td>\n",
       "      <td>1995-12-16</td>\n",
       "    </tr>\n",
       "  </tbody>\n",
       "</table>\n",
       "</div>"
      ],
      "text/plain": [
       "    name        DoB\n",
       "0    Tom 1997-08-05\n",
       "1   Andy 1996-04-28\n",
       "2  Lucas 1995-12-16"
      ]
     },
     "execution_count": 47,
     "metadata": {},
     "output_type": "execute_result"
    }
   ],
   "source": [
    "df = pd.DataFrame({'name': ['Tom', 'Andy', 'Lucas'],\n",
    "                 'DoB': ['08-05-1997', '04-28-1996', '12-16-1995']})\n",
    "\n",
    "df['DoB'] = pd.to_datetime(df['DoB'])\n",
    "df"
   ]
  },
  {
   "cell_type": "code",
   "execution_count": 48,
   "metadata": {},
   "outputs": [
    {
     "data": {
      "text/plain": [
       "name            object\n",
       "DoB     datetime64[ns]\n",
       "dtype: object"
      ]
     },
     "execution_count": 48,
     "metadata": {},
     "output_type": "execute_result"
    }
   ],
   "source": [
    "df.dtypes\n"
   ]
  },
  {
   "cell_type": "code",
   "execution_count": 50,
   "metadata": {},
   "outputs": [
    {
     "data": {
      "application/vnd.microsoft.datawrangler.viewer.v0+json": {
       "columns": [
        {
         "name": "index",
         "rawType": "int64",
         "type": "integer"
        },
        {
         "name": "name",
         "rawType": "object",
         "type": "string"
        },
        {
         "name": "DoB",
         "rawType": "datetime64[ns]",
         "type": "datetime"
        }
       ],
       "conversionMethod": "pd.DataFrame",
       "ref": "eb5250b8-00c5-43c7-8a89-8c85e8424f7e",
       "rows": [
        [
         "0",
         "Tom",
         "1997-08-05 00:00:00"
        ],
        [
         "1",
         "Andy",
         "1996-04-28 00:00:00"
        ],
        [
         "2",
         "Lucas",
         "1995-12-16 00:00:00"
        ]
       ],
       "shape": {
        "columns": 2,
        "rows": 3
       }
      },
      "text/html": [
       "<div>\n",
       "<style scoped>\n",
       "    .dataframe tbody tr th:only-of-type {\n",
       "        vertical-align: middle;\n",
       "    }\n",
       "\n",
       "    .dataframe tbody tr th {\n",
       "        vertical-align: top;\n",
       "    }\n",
       "\n",
       "    .dataframe thead th {\n",
       "        text-align: right;\n",
       "    }\n",
       "</style>\n",
       "<table border=\"1\" class=\"dataframe\">\n",
       "  <thead>\n",
       "    <tr style=\"text-align: right;\">\n",
       "      <th></th>\n",
       "      <th>name</th>\n",
       "      <th>DoB</th>\n",
       "    </tr>\n",
       "  </thead>\n",
       "  <tbody>\n",
       "    <tr>\n",
       "      <th>0</th>\n",
       "      <td>Tom</td>\n",
       "      <td>1997-08-05</td>\n",
       "    </tr>\n",
       "    <tr>\n",
       "      <th>1</th>\n",
       "      <td>Andy</td>\n",
       "      <td>1996-04-28</td>\n",
       "    </tr>\n",
       "    <tr>\n",
       "      <th>2</th>\n",
       "      <td>Lucas</td>\n",
       "      <td>1995-12-16</td>\n",
       "    </tr>\n",
       "  </tbody>\n",
       "</table>\n",
       "</div>"
      ],
      "text/plain": [
       "    name        DoB\n",
       "0    Tom 1997-08-05\n",
       "1   Andy 1996-04-28\n",
       "2  Lucas 1995-12-16"
      ]
     },
     "execution_count": 50,
     "metadata": {},
     "output_type": "execute_result"
    }
   ],
   "source": [
    "df"
   ]
  },
  {
   "cell_type": "code",
   "execution_count": 49,
   "metadata": {},
   "outputs": [
    {
     "name": "stdout",
     "output_type": "stream",
     "text": [
      "0   1997-08-10\n",
      "1   1996-05-03\n",
      "2   1995-12-21\n",
      "Name: DoB, dtype: datetime64[ns]\n",
      "\n",
      "0   1997-07-31\n",
      "1   1996-04-23\n",
      "2   1995-12-11\n",
      "Name: DoB, dtype: datetime64[ns]\n",
      "\n",
      "0   1998-01-05\n",
      "1   1996-09-28\n",
      "2   1996-05-16\n",
      "Name: DoB, dtype: datetime64[ns]\n"
     ]
    }
   ],
   "source": [
    "from pandas.tseries.offsets import DateOffset, BDay\n",
    "\n",
    "print(df['DoB'] + DateOffset(days = 5))\n",
    "print()\n",
    "print(df['DoB'] + DateOffset(days = -5))\n",
    "print()\n",
    "print(df['DoB'] + DateOffset(months = 5))"
   ]
  },
  {
   "cell_type": "code",
   "execution_count": 52,
   "metadata": {},
   "outputs": [
    {
     "data": {
      "text/plain": [
       "<10 * BusinessDays>"
      ]
     },
     "execution_count": 52,
     "metadata": {},
     "output_type": "execute_result"
    }
   ],
   "source": [
    "BDay(10)"
   ]
  },
  {
   "cell_type": "code",
   "execution_count": 53,
   "metadata": {},
   "outputs": [
    {
     "name": "stdout",
     "output_type": "stream",
     "text": [
      "0   1997-08-05\n",
      "1   1996-04-28\n",
      "2   1995-12-16\n",
      "Name: DoB, dtype: datetime64[ns]\n",
      "0   1997-08-19\n",
      "1   1996-05-10\n",
      "2   1995-12-29\n",
      "Name: DoB, dtype: datetime64[ns]\n"
     ]
    }
   ],
   "source": [
    "print(df['DoB'])\n",
    "print(df['DoB'] + BDay(10))"
   ]
  },
  {
   "cell_type": "code",
   "execution_count": 55,
   "metadata": {},
   "outputs": [
    {
     "data": {
      "application/vnd.microsoft.datawrangler.viewer.v0+json": {
       "columns": [
        {
         "name": "index",
         "rawType": "int64",
         "type": "integer"
        },
        {
         "name": "name",
         "rawType": "object",
         "type": "string"
        },
        {
         "name": "DoB",
         "rawType": "datetime64[ns]",
         "type": "datetime"
        },
        {
         "name": "DoB+10BD",
         "rawType": "datetime64[ns]",
         "type": "datetime"
        }
       ],
       "conversionMethod": "pd.DataFrame",
       "ref": "34a81838-11f0-481a-9395-5b0c24f6aaef",
       "rows": [
        [
         "0",
         "Tom",
         "1997-08-05 00:00:00",
         "1997-08-19 00:00:00"
        ],
        [
         "1",
         "Andy",
         "1996-04-28 00:00:00",
         "1996-05-10 00:00:00"
        ],
        [
         "2",
         "Lucas",
         "1995-12-16 00:00:00",
         "1995-12-29 00:00:00"
        ]
       ],
       "shape": {
        "columns": 3,
        "rows": 3
       }
      },
      "text/html": [
       "<div>\n",
       "<style scoped>\n",
       "    .dataframe tbody tr th:only-of-type {\n",
       "        vertical-align: middle;\n",
       "    }\n",
       "\n",
       "    .dataframe tbody tr th {\n",
       "        vertical-align: top;\n",
       "    }\n",
       "\n",
       "    .dataframe thead th {\n",
       "        text-align: right;\n",
       "    }\n",
       "</style>\n",
       "<table border=\"1\" class=\"dataframe\">\n",
       "  <thead>\n",
       "    <tr style=\"text-align: right;\">\n",
       "      <th></th>\n",
       "      <th>name</th>\n",
       "      <th>DoB</th>\n",
       "      <th>DoB+10BD</th>\n",
       "    </tr>\n",
       "  </thead>\n",
       "  <tbody>\n",
       "    <tr>\n",
       "      <th>0</th>\n",
       "      <td>Tom</td>\n",
       "      <td>1997-08-05</td>\n",
       "      <td>1997-08-19</td>\n",
       "    </tr>\n",
       "    <tr>\n",
       "      <th>1</th>\n",
       "      <td>Andy</td>\n",
       "      <td>1996-04-28</td>\n",
       "      <td>1996-05-10</td>\n",
       "    </tr>\n",
       "    <tr>\n",
       "      <th>2</th>\n",
       "      <td>Lucas</td>\n",
       "      <td>1995-12-16</td>\n",
       "      <td>1995-12-29</td>\n",
       "    </tr>\n",
       "  </tbody>\n",
       "</table>\n",
       "</div>"
      ],
      "text/plain": [
       "    name        DoB   DoB+10BD\n",
       "0    Tom 1997-08-05 1997-08-19\n",
       "1   Andy 1996-04-28 1996-05-10\n",
       "2  Lucas 1995-12-16 1995-12-29"
      ]
     },
     "execution_count": 55,
     "metadata": {},
     "output_type": "execute_result"
    }
   ],
   "source": [
    "df['DoB+10BD'] = df['DoB'] + BDay(10)\n",
    "df"
   ]
  },
  {
   "cell_type": "code",
   "execution_count": 57,
   "metadata": {},
   "outputs": [
    {
     "data": {
      "application/vnd.microsoft.datawrangler.viewer.v0+json": {
       "columns": [
        {
         "name": "index",
         "rawType": "int64",
         "type": "integer"
        },
        {
         "name": "name",
         "rawType": "object",
         "type": "string"
        },
        {
         "name": "DoB",
         "rawType": "datetime64[ns]",
         "type": "datetime"
        },
        {
         "name": "DoB+10BD",
         "rawType": "datetime64[ns]",
         "type": "datetime"
        },
        {
         "name": "date_diff",
         "rawType": "int64",
         "type": "integer"
        }
       ],
       "conversionMethod": "pd.DataFrame",
       "ref": "f1e8be12-f395-4079-b052-0374d4b87c77",
       "rows": [
        [
         "0",
         "Tom",
         "1997-08-05 00:00:00",
         "1997-08-19 00:00:00",
         "14"
        ],
        [
         "1",
         "Andy",
         "1996-04-28 00:00:00",
         "1996-05-10 00:00:00",
         "12"
        ],
        [
         "2",
         "Lucas",
         "1995-12-16 00:00:00",
         "1995-12-29 00:00:00",
         "13"
        ]
       ],
       "shape": {
        "columns": 4,
        "rows": 3
       }
      },
      "text/html": [
       "<div>\n",
       "<style scoped>\n",
       "    .dataframe tbody tr th:only-of-type {\n",
       "        vertical-align: middle;\n",
       "    }\n",
       "\n",
       "    .dataframe tbody tr th {\n",
       "        vertical-align: top;\n",
       "    }\n",
       "\n",
       "    .dataframe thead th {\n",
       "        text-align: right;\n",
       "    }\n",
       "</style>\n",
       "<table border=\"1\" class=\"dataframe\">\n",
       "  <thead>\n",
       "    <tr style=\"text-align: right;\">\n",
       "      <th></th>\n",
       "      <th>name</th>\n",
       "      <th>DoB</th>\n",
       "      <th>DoB+10BD</th>\n",
       "      <th>date_diff</th>\n",
       "    </tr>\n",
       "  </thead>\n",
       "  <tbody>\n",
       "    <tr>\n",
       "      <th>0</th>\n",
       "      <td>Tom</td>\n",
       "      <td>1997-08-05</td>\n",
       "      <td>1997-08-19</td>\n",
       "      <td>14</td>\n",
       "    </tr>\n",
       "    <tr>\n",
       "      <th>1</th>\n",
       "      <td>Andy</td>\n",
       "      <td>1996-04-28</td>\n",
       "      <td>1996-05-10</td>\n",
       "      <td>12</td>\n",
       "    </tr>\n",
       "    <tr>\n",
       "      <th>2</th>\n",
       "      <td>Lucas</td>\n",
       "      <td>1995-12-16</td>\n",
       "      <td>1995-12-29</td>\n",
       "      <td>13</td>\n",
       "    </tr>\n",
       "  </tbody>\n",
       "</table>\n",
       "</div>"
      ],
      "text/plain": [
       "    name        DoB   DoB+10BD  date_diff\n",
       "0    Tom 1997-08-05 1997-08-19         14\n",
       "1   Andy 1996-04-28 1996-05-10         12\n",
       "2  Lucas 1995-12-16 1995-12-29         13"
      ]
     },
     "execution_count": 57,
     "metadata": {},
     "output_type": "execute_result"
    }
   ],
   "source": [
    "df['date_diff'] = (df['DoB+10BD'] - df['DoB']).dt.days\n",
    "df"
   ]
  },
  {
   "cell_type": "code",
   "execution_count": 58,
   "metadata": {},
   "outputs": [
    {
     "data": {
      "text/plain": [
       "name                 object\n",
       "DoB          datetime64[ns]\n",
       "DoB+10BD     datetime64[ns]\n",
       "date_diff             int64\n",
       "dtype: object"
      ]
     },
     "execution_count": 58,
     "metadata": {},
     "output_type": "execute_result"
    }
   ],
   "source": [
    "df.dtypes"
   ]
  },
  {
   "attachments": {},
   "cell_type": "markdown",
   "metadata": {
    "colab_type": "text",
    "id": "OcZwYC_c_teO"
   },
   "source": [
    "### 13. Regular sequences: ``pd.date_range()``\n",
    "\n",
    "To make the creation of **regular date** sequences more convenient, Pandas offers a few functions for this purpose: ``pd.date_range()`` for timestamps, ``pd.period_range()`` for periods, and ``pd.timedelta_range()`` for time deltas.\n",
    "We've seen that **Python's ``range()`` and NumPy's ``np.arange()``** turn a startpoint, endpoint, and optional stepsize into a sequence.\n",
    "Similarly, ``pd.date_range()`` accepts a start date, an end date, and an optional frequency code to create a regular sequence of dates.\n",
    "By default, the frequency is one day:"
   ]
  },
  {
   "cell_type": "code",
   "execution_count": 59,
   "metadata": {
    "colab": {},
    "colab_type": "code",
    "collapsed": false,
    "id": "RpaIqXit_teP",
    "jupyter": {
     "outputs_hidden": false
    },
    "outputId": "25031a80-b2d8-41bd-f8f4-46266a76430c"
   },
   "outputs": [
    {
     "data": {
      "text/plain": [
       "DatetimeIndex(['2015-07-03', '2015-07-04', '2015-07-05', '2015-07-06',\n",
       "               '2015-07-07', '2015-07-08', '2015-07-09', '2015-07-10'],\n",
       "              dtype='datetime64[ns]', freq='D')"
      ]
     },
     "execution_count": 59,
     "metadata": {},
     "output_type": "execute_result"
    }
   ],
   "source": [
    "pd.date_range('2015-07-03', '2015-07-10')"
   ]
  },
  {
   "attachments": {},
   "cell_type": "markdown",
   "metadata": {
    "colab_type": "text",
    "id": "atA1NEsO_teS"
   },
   "source": [
    "Alternatively, the date range can be specified not with a start and endpoint, but with a startpoint and a number of periods:"
   ]
  },
  {
   "cell_type": "code",
   "execution_count": 60,
   "metadata": {
    "colab": {},
    "colab_type": "code",
    "collapsed": false,
    "id": "J3gfyEn4_teT",
    "jupyter": {
     "outputs_hidden": false
    },
    "outputId": "aa850e09-2d9c-4f39-9b16-8e694999c60b"
   },
   "outputs": [
    {
     "data": {
      "text/plain": [
       "DatetimeIndex(['2015-07-03', '2015-07-04', '2015-07-05', '2015-07-06',\n",
       "               '2015-07-07', '2015-07-08', '2015-07-09', '2015-07-10'],\n",
       "              dtype='datetime64[ns]', freq='D')"
      ]
     },
     "execution_count": 60,
     "metadata": {},
     "output_type": "execute_result"
    }
   ],
   "source": [
    "pd.date_range('2015-07-03', periods = 8)"
   ]
  },
  {
   "attachments": {},
   "cell_type": "markdown",
   "metadata": {
    "colab_type": "text",
    "id": "22UmLzgq_teV"
   },
   "source": [
    "The spacing can be modified by altering the ``freq`` argument, which defaults to ``D``.\n",
    "For example, here we will construct a range of hourly timestamps:"
   ]
  },
  {
   "cell_type": "code",
   "execution_count": 61,
   "metadata": {
    "colab": {},
    "colab_type": "code",
    "collapsed": false,
    "id": "dF8lsQwU_teW",
    "jupyter": {
     "outputs_hidden": false
    },
    "outputId": "ce0255bd-4283-4e66-9bcd-6c5d512ce407"
   },
   "outputs": [
    {
     "name": "stderr",
     "output_type": "stream",
     "text": [
      "C:\\Users\\hegoi\\AppData\\Local\\Temp\\ipykernel_10060\\4038462630.py:1: FutureWarning: 'M' is deprecated and will be removed in a future version, please use 'ME' instead.\n",
      "  pd.date_range('2015-01-01', periods = 12, freq='M')\n"
     ]
    },
    {
     "data": {
      "text/plain": [
       "DatetimeIndex(['2015-01-31', '2015-02-28', '2015-03-31', '2015-04-30',\n",
       "               '2015-05-31', '2015-06-30', '2015-07-31', '2015-08-31',\n",
       "               '2015-09-30', '2015-10-31', '2015-11-30', '2015-12-31'],\n",
       "              dtype='datetime64[ns]', freq='ME')"
      ]
     },
     "execution_count": 61,
     "metadata": {},
     "output_type": "execute_result"
    }
   ],
   "source": [
    "pd.date_range('2015-01-01', periods = 12, freq='M')"
   ]
  },
  {
   "attachments": {},
   "cell_type": "markdown",
   "metadata": {},
   "source": [
    "### 14. Handle missing values"
   ]
  },
  {
   "cell_type": "code",
   "execution_count": 62,
   "metadata": {},
   "outputs": [
    {
     "data": {
      "application/vnd.microsoft.datawrangler.viewer.v0+json": {
       "columns": [
        {
         "name": "date",
         "rawType": "datetime64[ns]",
         "type": "datetime"
        },
        {
         "name": "num",
         "rawType": "int64",
         "type": "integer"
        },
        {
         "name": "city",
         "rawType": "object",
         "type": "string"
        }
       ],
       "conversionMethod": "pd.DataFrame",
       "ref": "1acc934b-fd2d-44ae-8ff2-fbe767af3aaa",
       "rows": [
        [
         "2015-01-01 09:00:00",
         "4",
         "London"
        ],
        [
         "2015-01-01 09:01:00",
         "4",
         "London"
        ],
        [
         "2015-01-01 09:02:00",
         "3",
         "London"
        ],
        [
         "2015-01-01 09:03:00",
         "3",
         "London"
        ],
        [
         "2015-01-01 09:04:00",
         "3",
         "London"
        ],
        [
         "2015-01-01 09:05:00",
         "3",
         "London"
        ],
        [
         "2015-01-01 09:06:00",
         "3",
         "London"
        ],
        [
         "2015-01-01 09:07:00",
         "2",
         "London"
        ],
        [
         "2015-01-01 09:08:00",
         "3",
         "London"
        ],
        [
         "2015-01-01 09:09:00",
         "4",
         "London"
        ],
        [
         "2015-01-01 09:10:00",
         "4",
         "London"
        ],
        [
         "2015-01-01 09:11:00",
         "3",
         "London"
        ],
        [
         "2015-01-01 09:12:00",
         "3",
         "London"
        ],
        [
         "2015-01-01 09:13:00",
         "4",
         "London"
        ],
        [
         "2015-01-01 09:14:00",
         "3",
         "London"
        ],
        [
         "2015-01-01 09:15:00",
         "3",
         "London"
        ],
        [
         "2015-01-01 09:16:00",
         "4",
         "London"
        ],
        [
         "2015-01-01 09:17:00",
         "3",
         "London"
        ],
        [
         "2015-01-01 09:18:00",
         "3",
         "London"
        ],
        [
         "2015-01-01 09:19:00",
         "3",
         "London"
        ],
        [
         "2015-01-01 09:20:00",
         "3",
         "London"
        ],
        [
         "2015-01-01 09:21:00",
         "3",
         "London"
        ],
        [
         "2015-01-01 09:22:00",
         "3",
         "London"
        ],
        [
         "2015-01-01 09:23:00",
         "1",
         "London"
        ],
        [
         "2015-01-01 09:24:00",
         "2",
         "London"
        ],
        [
         "2015-01-01 09:25:00",
         "4",
         "London"
        ],
        [
         "2015-01-01 09:26:00",
         "3",
         "London"
        ],
        [
         "2015-01-01 09:27:00",
         "4",
         "London"
        ],
        [
         "2015-01-01 09:28:00",
         "3",
         "London"
        ],
        [
         "2015-01-01 09:29:00",
         "3",
         "London"
        ],
        [
         "2015-01-01 09:30:00",
         "3",
         "London"
        ],
        [
         "2015-01-01 09:31:00",
         "1",
         "London"
        ],
        [
         "2015-01-01 09:32:00",
         "3",
         "London"
        ],
        [
         "2015-01-01 09:33:00",
         "3",
         "London"
        ],
        [
         "2015-01-01 09:34:00",
         "3",
         "London"
        ],
        [
         "2015-01-01 09:35:00",
         "3",
         "London"
        ],
        [
         "2015-01-01 09:36:00",
         "3",
         "London"
        ],
        [
         "2015-01-01 09:37:00",
         "3",
         "London"
        ],
        [
         "2015-01-01 09:38:00",
         "2",
         "London"
        ],
        [
         "2015-01-01 09:39:00",
         "3",
         "London"
        ],
        [
         "2015-01-01 09:40:00",
         "4",
         "London"
        ],
        [
         "2015-01-01 09:41:00",
         "2",
         "London"
        ],
        [
         "2015-01-01 09:42:00",
         "4",
         "London"
        ],
        [
         "2015-01-01 09:43:00",
         "1",
         "London"
        ],
        [
         "2015-01-01 09:44:00",
         "3",
         "London"
        ],
        [
         "2015-01-01 09:45:00",
         "2",
         "London"
        ],
        [
         "2015-01-01 09:46:00",
         "3",
         "London"
        ],
        [
         "2015-01-01 09:47:00",
         "3",
         "London"
        ],
        [
         "2015-01-01 09:48:00",
         "1",
         "London"
        ],
        [
         "2015-01-01 09:49:00",
         "4",
         "London"
        ]
       ],
       "shape": {
        "columns": 2,
        "rows": 1795144
       }
      },
      "text/html": [
       "<div>\n",
       "<style scoped>\n",
       "    .dataframe tbody tr th:only-of-type {\n",
       "        vertical-align: middle;\n",
       "    }\n",
       "\n",
       "    .dataframe tbody tr th {\n",
       "        vertical-align: top;\n",
       "    }\n",
       "\n",
       "    .dataframe thead th {\n",
       "        text-align: right;\n",
       "    }\n",
       "</style>\n",
       "<table border=\"1\" class=\"dataframe\">\n",
       "  <thead>\n",
       "    <tr style=\"text-align: right;\">\n",
       "      <th></th>\n",
       "      <th>num</th>\n",
       "      <th>city</th>\n",
       "    </tr>\n",
       "    <tr>\n",
       "      <th>date</th>\n",
       "      <th></th>\n",
       "      <th></th>\n",
       "    </tr>\n",
       "  </thead>\n",
       "  <tbody>\n",
       "    <tr>\n",
       "      <th>2015-01-01 09:00:00</th>\n",
       "      <td>4</td>\n",
       "      <td>London</td>\n",
       "    </tr>\n",
       "    <tr>\n",
       "      <th>2015-01-01 09:01:00</th>\n",
       "      <td>4</td>\n",
       "      <td>London</td>\n",
       "    </tr>\n",
       "    <tr>\n",
       "      <th>2015-01-01 09:02:00</th>\n",
       "      <td>3</td>\n",
       "      <td>London</td>\n",
       "    </tr>\n",
       "    <tr>\n",
       "      <th>2015-01-01 09:03:00</th>\n",
       "      <td>3</td>\n",
       "      <td>London</td>\n",
       "    </tr>\n",
       "    <tr>\n",
       "      <th>2015-01-01 09:04:00</th>\n",
       "      <td>3</td>\n",
       "      <td>London</td>\n",
       "    </tr>\n",
       "    <tr>\n",
       "      <th>...</th>\n",
       "      <td>...</td>\n",
       "      <td>...</td>\n",
       "    </tr>\n",
       "    <tr>\n",
       "      <th>2019-01-31 15:56:00</th>\n",
       "      <td>3</td>\n",
       "      <td>Cambridge</td>\n",
       "    </tr>\n",
       "    <tr>\n",
       "      <th>2019-01-31 15:57:00</th>\n",
       "      <td>3</td>\n",
       "      <td>Cambridge</td>\n",
       "    </tr>\n",
       "    <tr>\n",
       "      <th>2019-01-31 15:58:00</th>\n",
       "      <td>3</td>\n",
       "      <td>Cambridge</td>\n",
       "    </tr>\n",
       "    <tr>\n",
       "      <th>2019-01-31 15:59:00</th>\n",
       "      <td>3</td>\n",
       "      <td>Cambridge</td>\n",
       "    </tr>\n",
       "    <tr>\n",
       "      <th>2019-01-31 16:00:00</th>\n",
       "      <td>2</td>\n",
       "      <td>Cambridge</td>\n",
       "    </tr>\n",
       "  </tbody>\n",
       "</table>\n",
       "<p>1795144 rows × 2 columns</p>\n",
       "</div>"
      ],
      "text/plain": [
       "                     num       city\n",
       "date                               \n",
       "2015-01-01 09:00:00    4     London\n",
       "2015-01-01 09:01:00    4     London\n",
       "2015-01-01 09:02:00    3     London\n",
       "2015-01-01 09:03:00    3     London\n",
       "2015-01-01 09:04:00    3     London\n",
       "...                  ...        ...\n",
       "2019-01-31 15:56:00    3  Cambridge\n",
       "2019-01-31 15:57:00    3  Cambridge\n",
       "2019-01-31 15:58:00    3  Cambridge\n",
       "2019-01-31 15:59:00    3  Cambridge\n",
       "2019-01-31 16:00:00    2  Cambridge\n",
       "\n",
       "[1795144 rows x 2 columns]"
      ]
     },
     "execution_count": 62,
     "metadata": {},
     "output_type": "execute_result"
    }
   ],
   "source": [
    "# Creamos algunos missings aposta con la rolling window\n",
    "df = pd.read_csv('data/city_sales.csv', parse_dates=['date'], index_col='date')\n",
    "df"
   ]
  },
  {
   "cell_type": "code",
   "execution_count": 63,
   "metadata": {},
   "outputs": [
    {
     "data": {
      "application/vnd.microsoft.datawrangler.viewer.v0+json": {
       "columns": [
        {
         "name": "date",
         "rawType": "datetime64[ns]",
         "type": "datetime"
        },
        {
         "name": "num",
         "rawType": "int64",
         "type": "integer"
        },
        {
         "name": "city",
         "rawType": "object",
         "type": "string"
        }
       ],
       "conversionMethod": "pd.DataFrame",
       "ref": "b291e692-bd03-48ad-afe3-0a3baaba6cc6",
       "rows": [
        [
         "2015-01-01 09:00:00",
         "4",
         "London"
        ],
        [
         "2015-01-01 09:01:00",
         "4",
         "London"
        ],
        [
         "2015-01-01 09:02:00",
         "3",
         "London"
        ],
        [
         "2015-01-01 09:03:00",
         "3",
         "London"
        ],
        [
         "2015-01-01 09:04:00",
         "3",
         "London"
        ]
       ],
       "shape": {
        "columns": 2,
        "rows": 5
       }
      },
      "text/html": [
       "<div>\n",
       "<style scoped>\n",
       "    .dataframe tbody tr th:only-of-type {\n",
       "        vertical-align: middle;\n",
       "    }\n",
       "\n",
       "    .dataframe tbody tr th {\n",
       "        vertical-align: top;\n",
       "    }\n",
       "\n",
       "    .dataframe thead th {\n",
       "        text-align: right;\n",
       "    }\n",
       "</style>\n",
       "<table border=\"1\" class=\"dataframe\">\n",
       "  <thead>\n",
       "    <tr style=\"text-align: right;\">\n",
       "      <th></th>\n",
       "      <th>num</th>\n",
       "      <th>city</th>\n",
       "    </tr>\n",
       "    <tr>\n",
       "      <th>date</th>\n",
       "      <th></th>\n",
       "      <th></th>\n",
       "    </tr>\n",
       "  </thead>\n",
       "  <tbody>\n",
       "    <tr>\n",
       "      <th>2015-01-01 09:00:00</th>\n",
       "      <td>4</td>\n",
       "      <td>London</td>\n",
       "    </tr>\n",
       "    <tr>\n",
       "      <th>2015-01-01 09:01:00</th>\n",
       "      <td>4</td>\n",
       "      <td>London</td>\n",
       "    </tr>\n",
       "    <tr>\n",
       "      <th>2015-01-01 09:02:00</th>\n",
       "      <td>3</td>\n",
       "      <td>London</td>\n",
       "    </tr>\n",
       "    <tr>\n",
       "      <th>2015-01-01 09:03:00</th>\n",
       "      <td>3</td>\n",
       "      <td>London</td>\n",
       "    </tr>\n",
       "    <tr>\n",
       "      <th>2015-01-01 09:04:00</th>\n",
       "      <td>3</td>\n",
       "      <td>London</td>\n",
       "    </tr>\n",
       "  </tbody>\n",
       "</table>\n",
       "</div>"
      ],
      "text/plain": [
       "                     num    city\n",
       "date                            \n",
       "2015-01-01 09:00:00    4  London\n",
       "2015-01-01 09:01:00    4  London\n",
       "2015-01-01 09:02:00    3  London\n",
       "2015-01-01 09:03:00    3  London\n",
       "2015-01-01 09:04:00    3  London"
      ]
     },
     "execution_count": 63,
     "metadata": {},
     "output_type": "execute_result"
    }
   ],
   "source": [
    "df.head()"
   ]
  },
  {
   "cell_type": "code",
   "execution_count": 67,
   "metadata": {},
   "outputs": [
    {
     "data": {
      "application/vnd.microsoft.datawrangler.viewer.v0+json": {
       "columns": [
        {
         "name": "date",
         "rawType": "datetime64[ns]",
         "type": "datetime"
        },
        {
         "name": "num",
         "rawType": "int64",
         "type": "integer"
        },
        {
         "name": "city",
         "rawType": "object",
         "type": "string"
        },
        {
         "name": "rolling_mean",
         "rawType": "float64",
         "type": "float"
        }
       ],
       "conversionMethod": "pd.DataFrame",
       "ref": "e8ff416f-8239-4a1d-a96e-81ee48f200a5",
       "rows": [
        [
         "2015-01-01 09:00:00",
         "4",
         "London",
         null
        ],
        [
         "2015-01-01 09:01:00",
         "4",
         "London",
         null
        ],
        [
         "2015-01-01 09:02:00",
         "3",
         "London",
         "3.6666666666666665"
        ],
        [
         "2015-01-01 09:03:00",
         "3",
         "London",
         "3.3333333333333335"
        ],
        [
         "2015-01-01 09:04:00",
         "3",
         "London",
         "3.0"
        ],
        [
         "2015-01-01 09:05:00",
         "3",
         "London",
         "3.0"
        ],
        [
         "2015-01-01 09:06:00",
         "3",
         "London",
         "3.0"
        ],
        [
         "2015-01-01 09:07:00",
         "2",
         "London",
         "2.6666666666666665"
        ],
        [
         "2015-01-01 09:08:00",
         "3",
         "London",
         "2.6666666666666665"
        ],
        [
         "2015-01-01 09:09:00",
         "4",
         "London",
         "3.0"
        ],
        [
         "2015-01-01 09:10:00",
         "4",
         "London",
         "3.6666666666666665"
        ],
        [
         "2015-01-01 09:11:00",
         "3",
         "London",
         "3.6666666666666665"
        ],
        [
         "2015-01-01 09:12:00",
         "3",
         "London",
         "3.3333333333333335"
        ],
        [
         "2015-01-01 09:13:00",
         "4",
         "London",
         "3.3333333333333335"
        ],
        [
         "2015-01-01 09:14:00",
         "3",
         "London",
         "3.3333333333333335"
        ],
        [
         "2015-01-01 09:15:00",
         "3",
         "London",
         "3.3333333333333335"
        ],
        [
         "2015-01-01 09:16:00",
         "4",
         "London",
         "3.3333333333333335"
        ],
        [
         "2015-01-01 09:17:00",
         "3",
         "London",
         "3.3333333333333335"
        ],
        [
         "2015-01-01 09:18:00",
         "3",
         "London",
         "3.3333333333333335"
        ],
        [
         "2015-01-01 09:19:00",
         "3",
         "London",
         "3.0"
        ],
        [
         "2015-01-01 09:20:00",
         "3",
         "London",
         "3.0"
        ],
        [
         "2015-01-01 09:21:00",
         "3",
         "London",
         "3.0"
        ],
        [
         "2015-01-01 09:22:00",
         "3",
         "London",
         "3.0"
        ],
        [
         "2015-01-01 09:23:00",
         "1",
         "London",
         "2.3333333333333335"
        ],
        [
         "2015-01-01 09:24:00",
         "2",
         "London",
         "2.0"
        ]
       ],
       "shape": {
        "columns": 3,
        "rows": 25
       }
      },
      "text/html": [
       "<div>\n",
       "<style scoped>\n",
       "    .dataframe tbody tr th:only-of-type {\n",
       "        vertical-align: middle;\n",
       "    }\n",
       "\n",
       "    .dataframe tbody tr th {\n",
       "        vertical-align: top;\n",
       "    }\n",
       "\n",
       "    .dataframe thead th {\n",
       "        text-align: right;\n",
       "    }\n",
       "</style>\n",
       "<table border=\"1\" class=\"dataframe\">\n",
       "  <thead>\n",
       "    <tr style=\"text-align: right;\">\n",
       "      <th></th>\n",
       "      <th>num</th>\n",
       "      <th>city</th>\n",
       "      <th>rolling_mean</th>\n",
       "    </tr>\n",
       "    <tr>\n",
       "      <th>date</th>\n",
       "      <th></th>\n",
       "      <th></th>\n",
       "      <th></th>\n",
       "    </tr>\n",
       "  </thead>\n",
       "  <tbody>\n",
       "    <tr>\n",
       "      <th>2015-01-01 09:00:00</th>\n",
       "      <td>4</td>\n",
       "      <td>London</td>\n",
       "      <td>NaN</td>\n",
       "    </tr>\n",
       "    <tr>\n",
       "      <th>2015-01-01 09:01:00</th>\n",
       "      <td>4</td>\n",
       "      <td>London</td>\n",
       "      <td>NaN</td>\n",
       "    </tr>\n",
       "    <tr>\n",
       "      <th>2015-01-01 09:02:00</th>\n",
       "      <td>3</td>\n",
       "      <td>London</td>\n",
       "      <td>3.666667</td>\n",
       "    </tr>\n",
       "    <tr>\n",
       "      <th>2015-01-01 09:03:00</th>\n",
       "      <td>3</td>\n",
       "      <td>London</td>\n",
       "      <td>3.333333</td>\n",
       "    </tr>\n",
       "    <tr>\n",
       "      <th>2015-01-01 09:04:00</th>\n",
       "      <td>3</td>\n",
       "      <td>London</td>\n",
       "      <td>3.000000</td>\n",
       "    </tr>\n",
       "    <tr>\n",
       "      <th>2015-01-01 09:05:00</th>\n",
       "      <td>3</td>\n",
       "      <td>London</td>\n",
       "      <td>3.000000</td>\n",
       "    </tr>\n",
       "    <tr>\n",
       "      <th>2015-01-01 09:06:00</th>\n",
       "      <td>3</td>\n",
       "      <td>London</td>\n",
       "      <td>3.000000</td>\n",
       "    </tr>\n",
       "    <tr>\n",
       "      <th>2015-01-01 09:07:00</th>\n",
       "      <td>2</td>\n",
       "      <td>London</td>\n",
       "      <td>2.666667</td>\n",
       "    </tr>\n",
       "    <tr>\n",
       "      <th>2015-01-01 09:08:00</th>\n",
       "      <td>3</td>\n",
       "      <td>London</td>\n",
       "      <td>2.666667</td>\n",
       "    </tr>\n",
       "    <tr>\n",
       "      <th>2015-01-01 09:09:00</th>\n",
       "      <td>4</td>\n",
       "      <td>London</td>\n",
       "      <td>3.000000</td>\n",
       "    </tr>\n",
       "    <tr>\n",
       "      <th>2015-01-01 09:10:00</th>\n",
       "      <td>4</td>\n",
       "      <td>London</td>\n",
       "      <td>3.666667</td>\n",
       "    </tr>\n",
       "    <tr>\n",
       "      <th>2015-01-01 09:11:00</th>\n",
       "      <td>3</td>\n",
       "      <td>London</td>\n",
       "      <td>3.666667</td>\n",
       "    </tr>\n",
       "    <tr>\n",
       "      <th>2015-01-01 09:12:00</th>\n",
       "      <td>3</td>\n",
       "      <td>London</td>\n",
       "      <td>3.333333</td>\n",
       "    </tr>\n",
       "    <tr>\n",
       "      <th>2015-01-01 09:13:00</th>\n",
       "      <td>4</td>\n",
       "      <td>London</td>\n",
       "      <td>3.333333</td>\n",
       "    </tr>\n",
       "    <tr>\n",
       "      <th>2015-01-01 09:14:00</th>\n",
       "      <td>3</td>\n",
       "      <td>London</td>\n",
       "      <td>3.333333</td>\n",
       "    </tr>\n",
       "    <tr>\n",
       "      <th>2015-01-01 09:15:00</th>\n",
       "      <td>3</td>\n",
       "      <td>London</td>\n",
       "      <td>3.333333</td>\n",
       "    </tr>\n",
       "    <tr>\n",
       "      <th>2015-01-01 09:16:00</th>\n",
       "      <td>4</td>\n",
       "      <td>London</td>\n",
       "      <td>3.333333</td>\n",
       "    </tr>\n",
       "    <tr>\n",
       "      <th>2015-01-01 09:17:00</th>\n",
       "      <td>3</td>\n",
       "      <td>London</td>\n",
       "      <td>3.333333</td>\n",
       "    </tr>\n",
       "    <tr>\n",
       "      <th>2015-01-01 09:18:00</th>\n",
       "      <td>3</td>\n",
       "      <td>London</td>\n",
       "      <td>3.333333</td>\n",
       "    </tr>\n",
       "    <tr>\n",
       "      <th>2015-01-01 09:19:00</th>\n",
       "      <td>3</td>\n",
       "      <td>London</td>\n",
       "      <td>3.000000</td>\n",
       "    </tr>\n",
       "    <tr>\n",
       "      <th>2015-01-01 09:20:00</th>\n",
       "      <td>3</td>\n",
       "      <td>London</td>\n",
       "      <td>3.000000</td>\n",
       "    </tr>\n",
       "    <tr>\n",
       "      <th>2015-01-01 09:21:00</th>\n",
       "      <td>3</td>\n",
       "      <td>London</td>\n",
       "      <td>3.000000</td>\n",
       "    </tr>\n",
       "    <tr>\n",
       "      <th>2015-01-01 09:22:00</th>\n",
       "      <td>3</td>\n",
       "      <td>London</td>\n",
       "      <td>3.000000</td>\n",
       "    </tr>\n",
       "    <tr>\n",
       "      <th>2015-01-01 09:23:00</th>\n",
       "      <td>1</td>\n",
       "      <td>London</td>\n",
       "      <td>2.333333</td>\n",
       "    </tr>\n",
       "    <tr>\n",
       "      <th>2015-01-01 09:24:00</th>\n",
       "      <td>2</td>\n",
       "      <td>London</td>\n",
       "      <td>2.000000</td>\n",
       "    </tr>\n",
       "  </tbody>\n",
       "</table>\n",
       "</div>"
      ],
      "text/plain": [
       "                     num    city  rolling_mean\n",
       "date                                          \n",
       "2015-01-01 09:00:00    4  London           NaN\n",
       "2015-01-01 09:01:00    4  London           NaN\n",
       "2015-01-01 09:02:00    3  London      3.666667\n",
       "2015-01-01 09:03:00    3  London      3.333333\n",
       "2015-01-01 09:04:00    3  London      3.000000\n",
       "2015-01-01 09:05:00    3  London      3.000000\n",
       "2015-01-01 09:06:00    3  London      3.000000\n",
       "2015-01-01 09:07:00    2  London      2.666667\n",
       "2015-01-01 09:08:00    3  London      2.666667\n",
       "2015-01-01 09:09:00    4  London      3.000000\n",
       "2015-01-01 09:10:00    4  London      3.666667\n",
       "2015-01-01 09:11:00    3  London      3.666667\n",
       "2015-01-01 09:12:00    3  London      3.333333\n",
       "2015-01-01 09:13:00    4  London      3.333333\n",
       "2015-01-01 09:14:00    3  London      3.333333\n",
       "2015-01-01 09:15:00    3  London      3.333333\n",
       "2015-01-01 09:16:00    4  London      3.333333\n",
       "2015-01-01 09:17:00    3  London      3.333333\n",
       "2015-01-01 09:18:00    3  London      3.333333\n",
       "2015-01-01 09:19:00    3  London      3.000000\n",
       "2015-01-01 09:20:00    3  London      3.000000\n",
       "2015-01-01 09:21:00    3  London      3.000000\n",
       "2015-01-01 09:22:00    3  London      3.000000\n",
       "2015-01-01 09:23:00    1  London      2.333333\n",
       "2015-01-01 09:24:00    2  London      2.000000"
      ]
     },
     "execution_count": 67,
     "metadata": {},
     "output_type": "execute_result"
    }
   ],
   "source": [
    "df['rolling_mean'] = df[\"num\"].rolling(3).mean()\n",
    "df.head(25)"
   ]
  },
  {
   "cell_type": "code",
   "execution_count": 69,
   "metadata": {},
   "outputs": [
    {
     "name": "stderr",
     "output_type": "stream",
     "text": [
      "C:\\Users\\hegoi\\AppData\\Local\\Temp\\ipykernel_10060\\150125841.py:1: FutureWarning: Series.fillna with 'method' is deprecated and will raise in a future version. Use obj.ffill() or obj.bfill() instead.\n",
      "  df['rolling_mean_back'] = df['rolling_mean'].fillna(method = 'backfill')\n"
     ]
    },
    {
     "data": {
      "application/vnd.microsoft.datawrangler.viewer.v0+json": {
       "columns": [
        {
         "name": "date",
         "rawType": "datetime64[ns]",
         "type": "datetime"
        },
        {
         "name": "num",
         "rawType": "int64",
         "type": "integer"
        },
        {
         "name": "city",
         "rawType": "object",
         "type": "string"
        },
        {
         "name": "rolling_mean",
         "rawType": "float64",
         "type": "float"
        },
        {
         "name": "rolling_mean_back",
         "rawType": "float64",
         "type": "float"
        }
       ],
       "conversionMethod": "pd.DataFrame",
       "ref": "0fd23237-c2f5-43f3-8000-131052081a27",
       "rows": [
        [
         "2015-01-01 09:00:00",
         "4",
         "London",
         null,
         "3.6666666666666665"
        ],
        [
         "2015-01-01 09:01:00",
         "4",
         "London",
         null,
         "3.6666666666666665"
        ],
        [
         "2015-01-01 09:02:00",
         "3",
         "London",
         "3.6666666666666665",
         "3.6666666666666665"
        ],
        [
         "2015-01-01 09:03:00",
         "3",
         "London",
         "3.3333333333333335",
         "3.3333333333333335"
        ],
        [
         "2015-01-01 09:04:00",
         "3",
         "London",
         "3.0",
         "3.0"
        ]
       ],
       "shape": {
        "columns": 4,
        "rows": 5
       }
      },
      "text/html": [
       "<div>\n",
       "<style scoped>\n",
       "    .dataframe tbody tr th:only-of-type {\n",
       "        vertical-align: middle;\n",
       "    }\n",
       "\n",
       "    .dataframe tbody tr th {\n",
       "        vertical-align: top;\n",
       "    }\n",
       "\n",
       "    .dataframe thead th {\n",
       "        text-align: right;\n",
       "    }\n",
       "</style>\n",
       "<table border=\"1\" class=\"dataframe\">\n",
       "  <thead>\n",
       "    <tr style=\"text-align: right;\">\n",
       "      <th></th>\n",
       "      <th>num</th>\n",
       "      <th>city</th>\n",
       "      <th>rolling_mean</th>\n",
       "      <th>rolling_mean_back</th>\n",
       "    </tr>\n",
       "    <tr>\n",
       "      <th>date</th>\n",
       "      <th></th>\n",
       "      <th></th>\n",
       "      <th></th>\n",
       "      <th></th>\n",
       "    </tr>\n",
       "  </thead>\n",
       "  <tbody>\n",
       "    <tr>\n",
       "      <th>2015-01-01 09:00:00</th>\n",
       "      <td>4</td>\n",
       "      <td>London</td>\n",
       "      <td>NaN</td>\n",
       "      <td>3.666667</td>\n",
       "    </tr>\n",
       "    <tr>\n",
       "      <th>2015-01-01 09:01:00</th>\n",
       "      <td>4</td>\n",
       "      <td>London</td>\n",
       "      <td>NaN</td>\n",
       "      <td>3.666667</td>\n",
       "    </tr>\n",
       "    <tr>\n",
       "      <th>2015-01-01 09:02:00</th>\n",
       "      <td>3</td>\n",
       "      <td>London</td>\n",
       "      <td>3.666667</td>\n",
       "      <td>3.666667</td>\n",
       "    </tr>\n",
       "    <tr>\n",
       "      <th>2015-01-01 09:03:00</th>\n",
       "      <td>3</td>\n",
       "      <td>London</td>\n",
       "      <td>3.333333</td>\n",
       "      <td>3.333333</td>\n",
       "    </tr>\n",
       "    <tr>\n",
       "      <th>2015-01-01 09:04:00</th>\n",
       "      <td>3</td>\n",
       "      <td>London</td>\n",
       "      <td>3.000000</td>\n",
       "      <td>3.000000</td>\n",
       "    </tr>\n",
       "  </tbody>\n",
       "</table>\n",
       "</div>"
      ],
      "text/plain": [
       "                     num    city  rolling_mean  rolling_mean_back\n",
       "date                                                             \n",
       "2015-01-01 09:00:00    4  London           NaN           3.666667\n",
       "2015-01-01 09:01:00    4  London           NaN           3.666667\n",
       "2015-01-01 09:02:00    3  London      3.666667           3.666667\n",
       "2015-01-01 09:03:00    3  London      3.333333           3.333333\n",
       "2015-01-01 09:04:00    3  London      3.000000           3.000000"
      ]
     },
     "execution_count": 69,
     "metadata": {},
     "output_type": "execute_result"
    }
   ],
   "source": [
    "df['rolling_mean_back'] = df['rolling_mean'].fillna(method = 'backfill')\n",
    "df.head()"
   ]
  },
  {
   "cell_type": "code",
   "execution_count": 70,
   "metadata": {},
   "outputs": [
    {
     "data": {
      "application/vnd.microsoft.datawrangler.viewer.v0+json": {
       "columns": [
        {
         "name": "index",
         "rawType": "int64",
         "type": "integer"
        },
        {
         "name": "A",
         "rawType": "float64",
         "type": "float"
        },
        {
         "name": "B",
         "rawType": "float64",
         "type": "float"
        },
        {
         "name": "C",
         "rawType": "float64",
         "type": "float"
        },
        {
         "name": "D",
         "rawType": "float64",
         "type": "float"
        }
       ],
       "conversionMethod": "pd.DataFrame",
       "ref": "5ec36528-ae73-4ff2-8abe-7ab3a2bdd5f0",
       "rows": [
        [
         "0",
         "12.0",
         null,
         "20.0",
         "14.0"
        ],
        [
         "1",
         "4.0",
         "2.0",
         "16.0",
         "3.0"
        ],
        [
         "2",
         "5.0",
         "54.0",
         null,
         null
        ],
        [
         "3",
         null,
         "3.0",
         "3.0",
         null
        ],
        [
         "4",
         "1.0",
         null,
         "8.0",
         "6.0"
        ]
       ],
       "shape": {
        "columns": 4,
        "rows": 5
       }
      },
      "text/html": [
       "<div>\n",
       "<style scoped>\n",
       "    .dataframe tbody tr th:only-of-type {\n",
       "        vertical-align: middle;\n",
       "    }\n",
       "\n",
       "    .dataframe tbody tr th {\n",
       "        vertical-align: top;\n",
       "    }\n",
       "\n",
       "    .dataframe thead th {\n",
       "        text-align: right;\n",
       "    }\n",
       "</style>\n",
       "<table border=\"1\" class=\"dataframe\">\n",
       "  <thead>\n",
       "    <tr style=\"text-align: right;\">\n",
       "      <th></th>\n",
       "      <th>A</th>\n",
       "      <th>B</th>\n",
       "      <th>C</th>\n",
       "      <th>D</th>\n",
       "    </tr>\n",
       "  </thead>\n",
       "  <tbody>\n",
       "    <tr>\n",
       "      <th>0</th>\n",
       "      <td>12.0</td>\n",
       "      <td>NaN</td>\n",
       "      <td>20.0</td>\n",
       "      <td>14.0</td>\n",
       "    </tr>\n",
       "    <tr>\n",
       "      <th>1</th>\n",
       "      <td>4.0</td>\n",
       "      <td>2.0</td>\n",
       "      <td>16.0</td>\n",
       "      <td>3.0</td>\n",
       "    </tr>\n",
       "    <tr>\n",
       "      <th>2</th>\n",
       "      <td>5.0</td>\n",
       "      <td>54.0</td>\n",
       "      <td>NaN</td>\n",
       "      <td>NaN</td>\n",
       "    </tr>\n",
       "    <tr>\n",
       "      <th>3</th>\n",
       "      <td>NaN</td>\n",
       "      <td>3.0</td>\n",
       "      <td>3.0</td>\n",
       "      <td>NaN</td>\n",
       "    </tr>\n",
       "    <tr>\n",
       "      <th>4</th>\n",
       "      <td>1.0</td>\n",
       "      <td>NaN</td>\n",
       "      <td>8.0</td>\n",
       "      <td>6.0</td>\n",
       "    </tr>\n",
       "  </tbody>\n",
       "</table>\n",
       "</div>"
      ],
      "text/plain": [
       "      A     B     C     D\n",
       "0  12.0   NaN  20.0  14.0\n",
       "1   4.0   2.0  16.0   3.0\n",
       "2   5.0  54.0   NaN   NaN\n",
       "3   NaN   3.0   3.0   NaN\n",
       "4   1.0   NaN   8.0   6.0"
      ]
     },
     "execution_count": 70,
     "metadata": {},
     "output_type": "execute_result"
    }
   ],
   "source": [
    "# Creating the dataframe \n",
    "df = pd.DataFrame({\"A\":[12, 4, 5, None, 1],\n",
    "                   \"B\":[None, 2, 54, 3, None],\n",
    "                   \"C\":[20, 16, None, 3, 8],\n",
    "                   \"D\":[14, 3, None, None, 6]})\n",
    "  \n",
    "# Print the dataframe\n",
    "df"
   ]
  },
  {
   "cell_type": "code",
   "execution_count": 69,
   "metadata": {},
   "outputs": [
    {
     "data": {
      "application/vnd.microsoft.datawrangler.viewer.v0+json": {
       "columns": [
        {
         "name": "index",
         "rawType": "int64",
         "type": "integer"
        },
        {
         "name": "A",
         "rawType": "float64",
         "type": "float"
        },
        {
         "name": "B",
         "rawType": "float64",
         "type": "float"
        },
        {
         "name": "C",
         "rawType": "float64",
         "type": "float"
        },
        {
         "name": "D",
         "rawType": "float64",
         "type": "float"
        }
       ],
       "conversionMethod": "pd.DataFrame",
       "ref": "466ea89c-ec63-473e-a021-32b914b09d5f",
       "rows": [
        [
         "0",
         "12.0",
         null,
         "20.0",
         "14.0"
        ],
        [
         "1",
         "4.0",
         "2.0",
         "16.0",
         "3.0"
        ],
        [
         "2",
         "5.0",
         "54.0",
         "9.5",
         "4.0"
        ],
        [
         "3",
         "3.0",
         "3.0",
         "3.0",
         "5.0"
        ],
        [
         "4",
         "1.0",
         "3.0",
         "8.0",
         "6.0"
        ]
       ],
       "shape": {
        "columns": 4,
        "rows": 5
       }
      },
      "text/html": [
       "<div>\n",
       "<style scoped>\n",
       "    .dataframe tbody tr th:only-of-type {\n",
       "        vertical-align: middle;\n",
       "    }\n",
       "\n",
       "    .dataframe tbody tr th {\n",
       "        vertical-align: top;\n",
       "    }\n",
       "\n",
       "    .dataframe thead th {\n",
       "        text-align: right;\n",
       "    }\n",
       "</style>\n",
       "<table border=\"1\" class=\"dataframe\">\n",
       "  <thead>\n",
       "    <tr style=\"text-align: right;\">\n",
       "      <th></th>\n",
       "      <th>A</th>\n",
       "      <th>B</th>\n",
       "      <th>C</th>\n",
       "      <th>D</th>\n",
       "    </tr>\n",
       "  </thead>\n",
       "  <tbody>\n",
       "    <tr>\n",
       "      <th>0</th>\n",
       "      <td>12.0</td>\n",
       "      <td>NaN</td>\n",
       "      <td>20.0</td>\n",
       "      <td>14.0</td>\n",
       "    </tr>\n",
       "    <tr>\n",
       "      <th>1</th>\n",
       "      <td>4.0</td>\n",
       "      <td>2.0</td>\n",
       "      <td>16.0</td>\n",
       "      <td>3.0</td>\n",
       "    </tr>\n",
       "    <tr>\n",
       "      <th>2</th>\n",
       "      <td>5.0</td>\n",
       "      <td>54.0</td>\n",
       "      <td>9.5</td>\n",
       "      <td>4.0</td>\n",
       "    </tr>\n",
       "    <tr>\n",
       "      <th>3</th>\n",
       "      <td>3.0</td>\n",
       "      <td>3.0</td>\n",
       "      <td>3.0</td>\n",
       "      <td>5.0</td>\n",
       "    </tr>\n",
       "    <tr>\n",
       "      <th>4</th>\n",
       "      <td>1.0</td>\n",
       "      <td>3.0</td>\n",
       "      <td>8.0</td>\n",
       "      <td>6.0</td>\n",
       "    </tr>\n",
       "  </tbody>\n",
       "</table>\n",
       "</div>"
      ],
      "text/plain": [
       "      A     B     C     D\n",
       "0  12.0   NaN  20.0  14.0\n",
       "1   4.0   2.0  16.0   3.0\n",
       "2   5.0  54.0   9.5   4.0\n",
       "3   3.0   3.0   3.0   5.0\n",
       "4   1.0   3.0   8.0   6.0"
      ]
     },
     "execution_count": 69,
     "metadata": {},
     "output_type": "execute_result"
    }
   ],
   "source": [
    "df.interpolate(method = 'linear')"
   ]
  },
  {
   "attachments": {},
   "cell_type": "markdown",
   "metadata": {},
   "source": [
    "### 15. Resampling, Windowing and Shifting"
   ]
  },
  {
   "cell_type": "code",
   "execution_count": 72,
   "metadata": {},
   "outputs": [
    {
     "data": {
      "application/vnd.microsoft.datawrangler.viewer.v0+json": {
       "columns": [
        {
         "name": "Date",
         "rawType": "datetime64[ns]",
         "type": "datetime"
        },
        {
         "name": "Open",
         "rawType": "float64",
         "type": "float"
        },
        {
         "name": "High",
         "rawType": "float64",
         "type": "float"
        },
        {
         "name": "Low",
         "rawType": "float64",
         "type": "float"
        },
        {
         "name": "Close",
         "rawType": "float64",
         "type": "float"
        },
        {
         "name": "Adj Close",
         "rawType": "float64",
         "type": "float"
        },
        {
         "name": "Volume",
         "rawType": "int64",
         "type": "integer"
        }
       ],
       "conversionMethod": "pd.DataFrame",
       "ref": "0366215e-5395-4e69-aa79-71b359df05a1",
       "rows": [
        [
         "2010-01-04 00:00:00",
         "312.304413",
         "313.57962",
         "310.954468",
         "312.204773",
         "312.204773",
         "3927000"
        ],
        [
         "2010-01-05 00:00:00",
         "312.418976",
         "312.747742",
         "309.609497",
         "310.829926",
         "310.829926",
         "6031900"
        ],
        [
         "2010-01-06 00:00:00",
         "311.761444",
         "311.761444",
         "302.047852",
         "302.994293",
         "302.994293",
         "7987100"
        ],
        [
         "2010-01-07 00:00:00",
         "303.562164",
         "303.861053",
         "295.218445",
         "295.940735",
         "295.940735",
         "12876600"
        ],
        [
         "2010-01-08 00:00:00",
         "294.894653",
         "300.498657",
         "293.455048",
         "299.885956",
         "299.885956",
         "9483900"
        ],
        [
         "2010-01-11 00:00:00",
         "301.10141",
         "301.10141",
         "295.910858",
         "299.432648",
         "299.432648",
         "14479800"
        ],
        [
         "2010-01-12 00:00:00",
         "297.709106",
         "297.963165",
         "292.90213",
         "294.137512",
         "294.137512",
         "9742900"
        ],
        [
         "2010-01-13 00:00:00",
         "287.16861",
         "293.091431",
         "285.878448",
         "292.448822",
         "292.448822",
         "13041800"
        ],
        [
         "2010-01-14 00:00:00",
         "290.859772",
         "295.99054",
         "290.316833",
         "293.823669",
         "293.823669",
         "8511900"
        ],
        [
         "2010-01-15 00:00:00",
         "295.562164",
         "295.671753",
         "287.940735",
         "288.917053",
         "288.917053",
         "10909600"
        ],
        [
         "2010-01-19 00:00:00",
         "289.514832",
         "294.107605",
         "287.069",
         "292.71283",
         "292.71283",
         "8665700"
        ],
        [
         "2010-01-20 00:00:00",
         "291.895905",
         "291.895905",
         "286.570862",
         "289.121307",
         "289.121307",
         "6525700"
        ],
        [
         "2010-01-21 00:00:00",
         "290.630646",
         "292.314331",
         "285.056549",
         "290.401489",
         "290.401489",
         "12662600"
        ],
        [
         "2010-01-22 00:00:00",
         "281.196014",
         "284.234619",
         "266.431335",
         "273.978058",
         "273.978058",
         "13651700"
        ],
        [
         "2010-01-25 00:00:00",
         "272.274445",
         "273.9133",
         "266.755127",
         "268.99176",
         "268.99176",
         "8872800"
        ],
        [
         "2010-01-26 00:00:00",
         "267.98053",
         "273.773834",
         "267.143677",
         "270.197235",
         "270.197235",
         "8743600"
        ],
        [
         "2010-01-27 00:00:00",
         "269.62439",
         "272.80246",
         "266.655518",
         "270.037842",
         "270.037842",
         "7958400"
        ],
        [
         "2010-01-28 00:00:00",
         "271.228363",
         "272.478668",
         "264.309296",
         "266.1474",
         "266.1474",
         "6482300"
        ],
        [
         "2010-01-29 00:00:00",
         "268.239563",
         "269.484894",
         "261.823608",
         "263.98053",
         "263.98053",
         "8311900"
        ],
        [
         "2010-02-01 00:00:00",
         "266.301849",
         "266.904572",
         "264.159851",
         "265.514771",
         "265.514771",
         "4518400"
        ],
        [
         "2010-02-02 00:00:00",
         "266.481171",
         "266.481171",
         "262.819885",
         "264.568329",
         "264.568329",
         "8223000"
        ],
        [
         "2010-02-03 00:00:00",
         "263.3479",
         "270.037842",
         "263.128723",
         "269.400208",
         "269.400208",
         "6020500"
        ],
        [
         "2010-02-04 00:00:00",
         "267.497345",
         "267.995483",
         "261.798706",
         "262.406433",
         "262.406433",
         "6780600"
        ],
        [
         "2010-02-05 00:00:00",
         "263.213409",
         "265.753876",
         "260.254517",
         "264.653015",
         "264.653015",
         "6335600"
        ],
        [
         "2010-02-08 00:00:00",
         "265.255768",
         "269.988007",
         "264.772552",
         "265.738953",
         "265.738953",
         "5408700"
        ],
        [
         "2010-02-09 00:00:00",
         "268.762604",
         "269.753906",
         "266.53595",
         "267.218414",
         "267.218414",
         "5660200"
        ],
        [
         "2010-02-10 00:00:00",
         "266.037811",
         "267.890869",
         "262.859741",
         "266.227112",
         "266.227112",
         "5369000"
        ],
        [
         "2010-02-11 00:00:00",
         "265.664215",
         "269.23584",
         "263.761353",
         "267.198486",
         "267.198486",
         "4838000"
        ],
        [
         "2010-02-12 00:00:00",
         "265.489868",
         "267.572083",
         "264.259491",
         "265.564606",
         "265.564606",
         "4576400"
        ],
        [
         "2010-02-16 00:00:00",
         "267.432587",
         "271.049042",
         "266.152405",
         "269.639313",
         "269.639313",
         "7336100"
        ],
        [
         "2010-02-17 00:00:00",
         "269.988007",
         "270.685394",
         "267.801208",
         "268.100098",
         "268.100098",
         "4074500"
        ],
        [
         "2010-02-18 00:00:00",
         "267.766357",
         "271.487396",
         "267.06897",
         "270.595734",
         "270.595734",
         "4691200"
        ],
        [
         "2010-02-19 00:00:00",
         "269.255768",
         "270.999237",
         "268.842316",
         "269.370331",
         "269.370331",
         "5125300"
        ],
        [
         "2010-02-22 00:00:00",
         "272.653015",
         "272.727753",
         "269.489899",
         "270.386536",
         "270.386536",
         "4305100"
        ],
        [
         "2010-02-23 00:00:00",
         "270.486145",
         "270.799988",
         "265.151154",
         "266.53595",
         "266.53595",
         "5766600"
        ],
        [
         "2010-02-24 00:00:00",
         "265.992981",
         "268.214661",
         "264.264465",
         "264.742676",
         "264.742676",
         "4670500"
        ],
        [
         "2010-02-25 00:00:00",
         "262.575806",
         "263.25824",
         "259.029083",
         "262.232086",
         "262.232086",
         "6643100"
        ],
        [
         "2010-02-26 00:00:00",
         "262.72525",
         "264.882172",
         "260.762604",
         "262.416412",
         "262.416412",
         "4113800"
        ],
        [
         "2010-03-01 00:00:00",
         "263.611908",
         "265.649292",
         "262.884644",
         "265.350403",
         "265.350403",
         "4492500"
        ],
        [
         "2010-03-02 00:00:00",
         "266.740204",
         "271.811188",
         "266.506073",
         "269.519775",
         "269.519775",
         "8746200"
        ],
        [
         "2010-03-03 00:00:00",
         "270.167358",
         "273.036591",
         "268.618164",
         "271.641815",
         "271.641815",
         "6201800"
        ],
        [
         "2010-03-04 00:00:00",
         "272.229614",
         "277.026642",
         "272.08017",
         "276.259521",
         "276.259521",
         "6391300"
        ],
        [
         "2010-03-05 00:00:00",
         "279.626892",
         "282.775085",
         "278.904602",
         "281.051544",
         "281.051544",
         "7853700"
        ],
        [
         "2010-03-08 00:00:00",
         "281.33548",
         "281.534729",
         "279.45752",
         "280.189789",
         "280.189789",
         "4790600"
        ],
        [
         "2010-03-09 00:00:00",
         "278.8797",
         "281.275696",
         "277.210938",
         "279.049042",
         "279.049042",
         "6376900"
        ],
        [
         "2010-03-10 00:00:00",
         "280.827393",
         "288.169861",
         "280.055298",
         "287.148682",
         "287.148682",
         "11352100"
        ],
        [
         "2010-03-11 00:00:00",
         "286.0578",
         "292.010468",
         "286.027893",
         "289.484924",
         "289.484924",
         "8498200"
        ],
        [
         "2010-03-12 00:00:00",
         "292.971863",
         "293.041595",
         "288.498627",
         "288.687927",
         "288.687927",
         "5527400"
        ],
        [
         "2010-03-15 00:00:00",
         "282.281952",
         "283.661774",
         "276.961884",
         "280.538483",
         "280.538483",
         "9342600"
        ],
        [
         "2010-03-16 00:00:00",
         "279.865997",
         "283.148682",
         "279.332977",
         "281.544708",
         "281.544708",
         "6888600"
        ]
       ],
       "shape": {
        "columns": 6,
        "rows": 2518
       }
      },
      "text/html": [
       "<div>\n",
       "<style scoped>\n",
       "    .dataframe tbody tr th:only-of-type {\n",
       "        vertical-align: middle;\n",
       "    }\n",
       "\n",
       "    .dataframe tbody tr th {\n",
       "        vertical-align: top;\n",
       "    }\n",
       "\n",
       "    .dataframe thead th {\n",
       "        text-align: right;\n",
       "    }\n",
       "</style>\n",
       "<table border=\"1\" class=\"dataframe\">\n",
       "  <thead>\n",
       "    <tr style=\"text-align: right;\">\n",
       "      <th></th>\n",
       "      <th>Open</th>\n",
       "      <th>High</th>\n",
       "      <th>Low</th>\n",
       "      <th>Close</th>\n",
       "      <th>Adj Close</th>\n",
       "      <th>Volume</th>\n",
       "    </tr>\n",
       "    <tr>\n",
       "      <th>Date</th>\n",
       "      <th></th>\n",
       "      <th></th>\n",
       "      <th></th>\n",
       "      <th></th>\n",
       "      <th></th>\n",
       "      <th></th>\n",
       "    </tr>\n",
       "  </thead>\n",
       "  <tbody>\n",
       "    <tr>\n",
       "      <th>2010-01-04</th>\n",
       "      <td>312.304413</td>\n",
       "      <td>313.579620</td>\n",
       "      <td>310.954468</td>\n",
       "      <td>312.204773</td>\n",
       "      <td>312.204773</td>\n",
       "      <td>3927000</td>\n",
       "    </tr>\n",
       "    <tr>\n",
       "      <th>2010-01-05</th>\n",
       "      <td>312.418976</td>\n",
       "      <td>312.747742</td>\n",
       "      <td>309.609497</td>\n",
       "      <td>310.829926</td>\n",
       "      <td>310.829926</td>\n",
       "      <td>6031900</td>\n",
       "    </tr>\n",
       "    <tr>\n",
       "      <th>2010-01-06</th>\n",
       "      <td>311.761444</td>\n",
       "      <td>311.761444</td>\n",
       "      <td>302.047852</td>\n",
       "      <td>302.994293</td>\n",
       "      <td>302.994293</td>\n",
       "      <td>7987100</td>\n",
       "    </tr>\n",
       "    <tr>\n",
       "      <th>2010-01-07</th>\n",
       "      <td>303.562164</td>\n",
       "      <td>303.861053</td>\n",
       "      <td>295.218445</td>\n",
       "      <td>295.940735</td>\n",
       "      <td>295.940735</td>\n",
       "      <td>12876600</td>\n",
       "    </tr>\n",
       "    <tr>\n",
       "      <th>2010-01-08</th>\n",
       "      <td>294.894653</td>\n",
       "      <td>300.498657</td>\n",
       "      <td>293.455048</td>\n",
       "      <td>299.885956</td>\n",
       "      <td>299.885956</td>\n",
       "      <td>9483900</td>\n",
       "    </tr>\n",
       "    <tr>\n",
       "      <th>...</th>\n",
       "      <td>...</td>\n",
       "      <td>...</td>\n",
       "      <td>...</td>\n",
       "      <td>...</td>\n",
       "      <td>...</td>\n",
       "      <td>...</td>\n",
       "    </tr>\n",
       "    <tr>\n",
       "      <th>2019-12-27</th>\n",
       "      <td>1362.989990</td>\n",
       "      <td>1364.530029</td>\n",
       "      <td>1349.310059</td>\n",
       "      <td>1351.890015</td>\n",
       "      <td>1351.890015</td>\n",
       "      <td>1038400</td>\n",
       "    </tr>\n",
       "    <tr>\n",
       "      <th>2019-12-30</th>\n",
       "      <td>1350.000000</td>\n",
       "      <td>1353.000000</td>\n",
       "      <td>1334.020020</td>\n",
       "      <td>1336.140015</td>\n",
       "      <td>1336.140015</td>\n",
       "      <td>1050900</td>\n",
       "    </tr>\n",
       "    <tr>\n",
       "      <th>2019-12-31</th>\n",
       "      <td>1330.109985</td>\n",
       "      <td>1338.000000</td>\n",
       "      <td>1329.084961</td>\n",
       "      <td>1337.020020</td>\n",
       "      <td>1337.020020</td>\n",
       "      <td>961800</td>\n",
       "    </tr>\n",
       "    <tr>\n",
       "      <th>2020-01-02</th>\n",
       "      <td>1341.550049</td>\n",
       "      <td>1368.140015</td>\n",
       "      <td>1341.550049</td>\n",
       "      <td>1367.369995</td>\n",
       "      <td>1367.369995</td>\n",
       "      <td>1406600</td>\n",
       "    </tr>\n",
       "    <tr>\n",
       "      <th>2020-01-03</th>\n",
       "      <td>1347.859985</td>\n",
       "      <td>1372.500000</td>\n",
       "      <td>1345.543945</td>\n",
       "      <td>1360.660034</td>\n",
       "      <td>1360.660034</td>\n",
       "      <td>1186400</td>\n",
       "    </tr>\n",
       "  </tbody>\n",
       "</table>\n",
       "<p>2518 rows × 6 columns</p>\n",
       "</div>"
      ],
      "text/plain": [
       "                   Open         High          Low        Close    Adj Close  \\\n",
       "Date                                                                          \n",
       "2010-01-04   312.304413   313.579620   310.954468   312.204773   312.204773   \n",
       "2010-01-05   312.418976   312.747742   309.609497   310.829926   310.829926   \n",
       "2010-01-06   311.761444   311.761444   302.047852   302.994293   302.994293   \n",
       "2010-01-07   303.562164   303.861053   295.218445   295.940735   295.940735   \n",
       "2010-01-08   294.894653   300.498657   293.455048   299.885956   299.885956   \n",
       "...                 ...          ...          ...          ...          ...   \n",
       "2019-12-27  1362.989990  1364.530029  1349.310059  1351.890015  1351.890015   \n",
       "2019-12-30  1350.000000  1353.000000  1334.020020  1336.140015  1336.140015   \n",
       "2019-12-31  1330.109985  1338.000000  1329.084961  1337.020020  1337.020020   \n",
       "2020-01-02  1341.550049  1368.140015  1341.550049  1367.369995  1367.369995   \n",
       "2020-01-03  1347.859985  1372.500000  1345.543945  1360.660034  1360.660034   \n",
       "\n",
       "              Volume  \n",
       "Date                  \n",
       "2010-01-04   3927000  \n",
       "2010-01-05   6031900  \n",
       "2010-01-06   7987100  \n",
       "2010-01-07  12876600  \n",
       "2010-01-08   9483900  \n",
       "...              ...  \n",
       "2019-12-27   1038400  \n",
       "2019-12-30   1050900  \n",
       "2019-12-31    961800  \n",
       "2020-01-02   1406600  \n",
       "2020-01-03   1186400  \n",
       "\n",
       "[2518 rows x 6 columns]"
      ]
     },
     "execution_count": 72,
     "metadata": {},
     "output_type": "execute_result"
    }
   ],
   "source": [
    "goog = pd.read_csv('data/GOOG.csv')\n",
    "goog['Date'] =  pd.to_datetime(goog['Date'])\n",
    "goog.set_index('Date', inplace=True)\n",
    "goog\n",
    "\n"
   ]
  },
  {
   "cell_type": "code",
   "execution_count": 73,
   "metadata": {},
   "outputs": [
    {
     "data": {
      "application/vnd.microsoft.datawrangler.viewer.v0+json": {
       "columns": [
        {
         "name": "Date",
         "rawType": "datetime64[ns]",
         "type": "datetime"
        },
        {
         "name": "Open",
         "rawType": "float64",
         "type": "float"
        },
        {
         "name": "High",
         "rawType": "float64",
         "type": "float"
        },
        {
         "name": "Low",
         "rawType": "float64",
         "type": "float"
        },
        {
         "name": "Close",
         "rawType": "float64",
         "type": "float"
        },
        {
         "name": "Adj Close",
         "rawType": "float64",
         "type": "float"
        },
        {
         "name": "Volume",
         "rawType": "int64",
         "type": "integer"
        }
       ],
       "conversionMethod": "pd.DataFrame",
       "ref": "1e713e84-32f7-4d91-9fa0-beaf76fd0d9e",
       "rows": [
        [
         "2010-01-04 00:00:00",
         "312.304413",
         "313.57962",
         "310.954468",
         "312.204773",
         "312.204773",
         "3927000"
        ],
        [
         "2010-01-05 00:00:00",
         "312.418976",
         "312.747742",
         "309.609497",
         "310.829926",
         "310.829926",
         "6031900"
        ],
        [
         "2010-01-06 00:00:00",
         "311.761444",
         "311.761444",
         "302.047852",
         "302.994293",
         "302.994293",
         "7987100"
        ],
        [
         "2010-01-07 00:00:00",
         "303.562164",
         "303.861053",
         "295.218445",
         "295.940735",
         "295.940735",
         "12876600"
        ],
        [
         "2010-01-08 00:00:00",
         "294.894653",
         "300.498657",
         "293.455048",
         "299.885956",
         "299.885956",
         "9483900"
        ],
        [
         "2010-01-11 00:00:00",
         "301.10141",
         "301.10141",
         "295.910858",
         "299.432648",
         "299.432648",
         "14479800"
        ],
        [
         "2010-01-12 00:00:00",
         "297.709106",
         "297.963165",
         "292.90213",
         "294.137512",
         "294.137512",
         "9742900"
        ],
        [
         "2010-01-13 00:00:00",
         "287.16861",
         "293.091431",
         "285.878448",
         "292.448822",
         "292.448822",
         "13041800"
        ],
        [
         "2010-01-14 00:00:00",
         "290.859772",
         "295.99054",
         "290.316833",
         "293.823669",
         "293.823669",
         "8511900"
        ],
        [
         "2010-01-15 00:00:00",
         "295.562164",
         "295.671753",
         "287.940735",
         "288.917053",
         "288.917053",
         "10909600"
        ]
       ],
       "shape": {
        "columns": 6,
        "rows": 10
       }
      },
      "text/html": [
       "<div>\n",
       "<style scoped>\n",
       "    .dataframe tbody tr th:only-of-type {\n",
       "        vertical-align: middle;\n",
       "    }\n",
       "\n",
       "    .dataframe tbody tr th {\n",
       "        vertical-align: top;\n",
       "    }\n",
       "\n",
       "    .dataframe thead th {\n",
       "        text-align: right;\n",
       "    }\n",
       "</style>\n",
       "<table border=\"1\" class=\"dataframe\">\n",
       "  <thead>\n",
       "    <tr style=\"text-align: right;\">\n",
       "      <th></th>\n",
       "      <th>Open</th>\n",
       "      <th>High</th>\n",
       "      <th>Low</th>\n",
       "      <th>Close</th>\n",
       "      <th>Adj Close</th>\n",
       "      <th>Volume</th>\n",
       "    </tr>\n",
       "    <tr>\n",
       "      <th>Date</th>\n",
       "      <th></th>\n",
       "      <th></th>\n",
       "      <th></th>\n",
       "      <th></th>\n",
       "      <th></th>\n",
       "      <th></th>\n",
       "    </tr>\n",
       "  </thead>\n",
       "  <tbody>\n",
       "    <tr>\n",
       "      <th>2010-01-04</th>\n",
       "      <td>312.304413</td>\n",
       "      <td>313.579620</td>\n",
       "      <td>310.954468</td>\n",
       "      <td>312.204773</td>\n",
       "      <td>312.204773</td>\n",
       "      <td>3927000</td>\n",
       "    </tr>\n",
       "    <tr>\n",
       "      <th>2010-01-05</th>\n",
       "      <td>312.418976</td>\n",
       "      <td>312.747742</td>\n",
       "      <td>309.609497</td>\n",
       "      <td>310.829926</td>\n",
       "      <td>310.829926</td>\n",
       "      <td>6031900</td>\n",
       "    </tr>\n",
       "    <tr>\n",
       "      <th>2010-01-06</th>\n",
       "      <td>311.761444</td>\n",
       "      <td>311.761444</td>\n",
       "      <td>302.047852</td>\n",
       "      <td>302.994293</td>\n",
       "      <td>302.994293</td>\n",
       "      <td>7987100</td>\n",
       "    </tr>\n",
       "    <tr>\n",
       "      <th>2010-01-07</th>\n",
       "      <td>303.562164</td>\n",
       "      <td>303.861053</td>\n",
       "      <td>295.218445</td>\n",
       "      <td>295.940735</td>\n",
       "      <td>295.940735</td>\n",
       "      <td>12876600</td>\n",
       "    </tr>\n",
       "    <tr>\n",
       "      <th>2010-01-08</th>\n",
       "      <td>294.894653</td>\n",
       "      <td>300.498657</td>\n",
       "      <td>293.455048</td>\n",
       "      <td>299.885956</td>\n",
       "      <td>299.885956</td>\n",
       "      <td>9483900</td>\n",
       "    </tr>\n",
       "    <tr>\n",
       "      <th>2010-01-11</th>\n",
       "      <td>301.101410</td>\n",
       "      <td>301.101410</td>\n",
       "      <td>295.910858</td>\n",
       "      <td>299.432648</td>\n",
       "      <td>299.432648</td>\n",
       "      <td>14479800</td>\n",
       "    </tr>\n",
       "    <tr>\n",
       "      <th>2010-01-12</th>\n",
       "      <td>297.709106</td>\n",
       "      <td>297.963165</td>\n",
       "      <td>292.902130</td>\n",
       "      <td>294.137512</td>\n",
       "      <td>294.137512</td>\n",
       "      <td>9742900</td>\n",
       "    </tr>\n",
       "    <tr>\n",
       "      <th>2010-01-13</th>\n",
       "      <td>287.168610</td>\n",
       "      <td>293.091431</td>\n",
       "      <td>285.878448</td>\n",
       "      <td>292.448822</td>\n",
       "      <td>292.448822</td>\n",
       "      <td>13041800</td>\n",
       "    </tr>\n",
       "    <tr>\n",
       "      <th>2010-01-14</th>\n",
       "      <td>290.859772</td>\n",
       "      <td>295.990540</td>\n",
       "      <td>290.316833</td>\n",
       "      <td>293.823669</td>\n",
       "      <td>293.823669</td>\n",
       "      <td>8511900</td>\n",
       "    </tr>\n",
       "    <tr>\n",
       "      <th>2010-01-15</th>\n",
       "      <td>295.562164</td>\n",
       "      <td>295.671753</td>\n",
       "      <td>287.940735</td>\n",
       "      <td>288.917053</td>\n",
       "      <td>288.917053</td>\n",
       "      <td>10909600</td>\n",
       "    </tr>\n",
       "  </tbody>\n",
       "</table>\n",
       "</div>"
      ],
      "text/plain": [
       "                  Open        High         Low       Close   Adj Close  \\\n",
       "Date                                                                     \n",
       "2010-01-04  312.304413  313.579620  310.954468  312.204773  312.204773   \n",
       "2010-01-05  312.418976  312.747742  309.609497  310.829926  310.829926   \n",
       "2010-01-06  311.761444  311.761444  302.047852  302.994293  302.994293   \n",
       "2010-01-07  303.562164  303.861053  295.218445  295.940735  295.940735   \n",
       "2010-01-08  294.894653  300.498657  293.455048  299.885956  299.885956   \n",
       "2010-01-11  301.101410  301.101410  295.910858  299.432648  299.432648   \n",
       "2010-01-12  297.709106  297.963165  292.902130  294.137512  294.137512   \n",
       "2010-01-13  287.168610  293.091431  285.878448  292.448822  292.448822   \n",
       "2010-01-14  290.859772  295.990540  290.316833  293.823669  293.823669   \n",
       "2010-01-15  295.562164  295.671753  287.940735  288.917053  288.917053   \n",
       "\n",
       "              Volume  \n",
       "Date                  \n",
       "2010-01-04   3927000  \n",
       "2010-01-05   6031900  \n",
       "2010-01-06   7987100  \n",
       "2010-01-07  12876600  \n",
       "2010-01-08   9483900  \n",
       "2010-01-11  14479800  \n",
       "2010-01-12   9742900  \n",
       "2010-01-13  13041800  \n",
       "2010-01-14   8511900  \n",
       "2010-01-15  10909600  "
      ]
     },
     "execution_count": 73,
     "metadata": {},
     "output_type": "execute_result"
    }
   ],
   "source": [
    "goog.head(10)"
   ]
  },
  {
   "cell_type": "code",
   "execution_count": 74,
   "metadata": {},
   "outputs": [
    {
     "name": "stdout",
     "output_type": "stream",
     "text": [
      "<class 'pandas.core.frame.DataFrame'>\n",
      "DatetimeIndex: 2518 entries, 2010-01-04 to 2020-01-03\n",
      "Data columns (total 6 columns):\n",
      " #   Column     Non-Null Count  Dtype  \n",
      "---  ------     --------------  -----  \n",
      " 0   Open       2518 non-null   float64\n",
      " 1   High       2518 non-null   float64\n",
      " 2   Low        2518 non-null   float64\n",
      " 3   Close      2518 non-null   float64\n",
      " 4   Adj Close  2518 non-null   float64\n",
      " 5   Volume     2518 non-null   int64  \n",
      "dtypes: float64(5), int64(1)\n",
      "memory usage: 137.7 KB\n"
     ]
    }
   ],
   "source": [
    "goog.info()"
   ]
  },
  {
   "cell_type": "code",
   "execution_count": 72,
   "metadata": {},
   "outputs": [
    {
     "name": "stderr",
     "output_type": "stream",
     "text": [
      "C:\\Users\\hegoi\\AppData\\Local\\Temp\\ipykernel_1664\\862946215.py:2: FutureWarning: DataFrame.fillna with 'method' is deprecated and will raise in a future version. Use obj.ffill() or obj.bfill() instead.\n",
      "  goog = goog.fillna(method='ffill')\n"
     ]
    },
    {
     "data": {
      "application/vnd.microsoft.datawrangler.viewer.v0+json": {
       "columns": [
        {
         "name": "Date",
         "rawType": "datetime64[ns]",
         "type": "datetime"
        },
        {
         "name": "Open",
         "rawType": "float64",
         "type": "float"
        },
        {
         "name": "High",
         "rawType": "float64",
         "type": "float"
        },
        {
         "name": "Low",
         "rawType": "float64",
         "type": "float"
        },
        {
         "name": "Close",
         "rawType": "float64",
         "type": "float"
        },
        {
         "name": "Adj Close",
         "rawType": "float64",
         "type": "float"
        },
        {
         "name": "Volume",
         "rawType": "int64",
         "type": "integer"
        }
       ],
       "conversionMethod": "pd.DataFrame",
       "ref": "8532ac53-45f5-423f-aba1-b2b697a5413e",
       "rows": [
        [
         "2010-01-04 00:00:00",
         "312.304413",
         "313.57962",
         "310.954468",
         "312.204773",
         "312.204773",
         "3927000"
        ],
        [
         "2010-01-05 00:00:00",
         "312.418976",
         "312.747742",
         "309.609497",
         "310.829926",
         "310.829926",
         "6031900"
        ],
        [
         "2010-01-06 00:00:00",
         "311.761444",
         "311.761444",
         "302.047852",
         "302.994293",
         "302.994293",
         "7987100"
        ],
        [
         "2010-01-07 00:00:00",
         "303.562164",
         "303.861053",
         "295.218445",
         "295.940735",
         "295.940735",
         "12876600"
        ],
        [
         "2010-01-08 00:00:00",
         "294.894653",
         "300.498657",
         "293.455048",
         "299.885956",
         "299.885956",
         "9483900"
        ],
        [
         "2010-01-11 00:00:00",
         "301.10141",
         "301.10141",
         "295.910858",
         "299.432648",
         "299.432648",
         "14479800"
        ],
        [
         "2010-01-12 00:00:00",
         "297.709106",
         "297.963165",
         "292.90213",
         "294.137512",
         "294.137512",
         "9742900"
        ],
        [
         "2010-01-13 00:00:00",
         "287.16861",
         "293.091431",
         "285.878448",
         "292.448822",
         "292.448822",
         "13041800"
        ],
        [
         "2010-01-14 00:00:00",
         "290.859772",
         "295.99054",
         "290.316833",
         "293.823669",
         "293.823669",
         "8511900"
        ],
        [
         "2010-01-15 00:00:00",
         "295.562164",
         "295.671753",
         "287.940735",
         "288.917053",
         "288.917053",
         "10909600"
        ],
        [
         "2010-01-19 00:00:00",
         "289.514832",
         "294.107605",
         "287.069",
         "292.71283",
         "292.71283",
         "8665700"
        ],
        [
         "2010-01-20 00:00:00",
         "291.895905",
         "291.895905",
         "286.570862",
         "289.121307",
         "289.121307",
         "6525700"
        ],
        [
         "2010-01-21 00:00:00",
         "290.630646",
         "292.314331",
         "285.056549",
         "290.401489",
         "290.401489",
         "12662600"
        ],
        [
         "2010-01-22 00:00:00",
         "281.196014",
         "284.234619",
         "266.431335",
         "273.978058",
         "273.978058",
         "13651700"
        ],
        [
         "2010-01-25 00:00:00",
         "272.274445",
         "273.9133",
         "266.755127",
         "268.99176",
         "268.99176",
         "8872800"
        ],
        [
         "2010-01-26 00:00:00",
         "267.98053",
         "273.773834",
         "267.143677",
         "270.197235",
         "270.197235",
         "8743600"
        ],
        [
         "2010-01-27 00:00:00",
         "269.62439",
         "272.80246",
         "266.655518",
         "270.037842",
         "270.037842",
         "7958400"
        ],
        [
         "2010-01-28 00:00:00",
         "271.228363",
         "272.478668",
         "264.309296",
         "266.1474",
         "266.1474",
         "6482300"
        ],
        [
         "2010-01-29 00:00:00",
         "268.239563",
         "269.484894",
         "261.823608",
         "263.98053",
         "263.98053",
         "8311900"
        ],
        [
         "2010-02-01 00:00:00",
         "266.301849",
         "266.904572",
         "264.159851",
         "265.514771",
         "265.514771",
         "4518400"
        ],
        [
         "2010-02-02 00:00:00",
         "266.481171",
         "266.481171",
         "262.819885",
         "264.568329",
         "264.568329",
         "8223000"
        ],
        [
         "2010-02-03 00:00:00",
         "263.3479",
         "270.037842",
         "263.128723",
         "269.400208",
         "269.400208",
         "6020500"
        ],
        [
         "2010-02-04 00:00:00",
         "267.497345",
         "267.995483",
         "261.798706",
         "262.406433",
         "262.406433",
         "6780600"
        ],
        [
         "2010-02-05 00:00:00",
         "263.213409",
         "265.753876",
         "260.254517",
         "264.653015",
         "264.653015",
         "6335600"
        ],
        [
         "2010-02-08 00:00:00",
         "265.255768",
         "269.988007",
         "264.772552",
         "265.738953",
         "265.738953",
         "5408700"
        ],
        [
         "2010-02-09 00:00:00",
         "268.762604",
         "269.753906",
         "266.53595",
         "267.218414",
         "267.218414",
         "5660200"
        ],
        [
         "2010-02-10 00:00:00",
         "266.037811",
         "267.890869",
         "262.859741",
         "266.227112",
         "266.227112",
         "5369000"
        ],
        [
         "2010-02-11 00:00:00",
         "265.664215",
         "269.23584",
         "263.761353",
         "267.198486",
         "267.198486",
         "4838000"
        ],
        [
         "2010-02-12 00:00:00",
         "265.489868",
         "267.572083",
         "264.259491",
         "265.564606",
         "265.564606",
         "4576400"
        ],
        [
         "2010-02-16 00:00:00",
         "267.432587",
         "271.049042",
         "266.152405",
         "269.639313",
         "269.639313",
         "7336100"
        ],
        [
         "2010-02-17 00:00:00",
         "269.988007",
         "270.685394",
         "267.801208",
         "268.100098",
         "268.100098",
         "4074500"
        ],
        [
         "2010-02-18 00:00:00",
         "267.766357",
         "271.487396",
         "267.06897",
         "270.595734",
         "270.595734",
         "4691200"
        ],
        [
         "2010-02-19 00:00:00",
         "269.255768",
         "270.999237",
         "268.842316",
         "269.370331",
         "269.370331",
         "5125300"
        ],
        [
         "2010-02-22 00:00:00",
         "272.653015",
         "272.727753",
         "269.489899",
         "270.386536",
         "270.386536",
         "4305100"
        ],
        [
         "2010-02-23 00:00:00",
         "270.486145",
         "270.799988",
         "265.151154",
         "266.53595",
         "266.53595",
         "5766600"
        ],
        [
         "2010-02-24 00:00:00",
         "265.992981",
         "268.214661",
         "264.264465",
         "264.742676",
         "264.742676",
         "4670500"
        ],
        [
         "2010-02-25 00:00:00",
         "262.575806",
         "263.25824",
         "259.029083",
         "262.232086",
         "262.232086",
         "6643100"
        ],
        [
         "2010-02-26 00:00:00",
         "262.72525",
         "264.882172",
         "260.762604",
         "262.416412",
         "262.416412",
         "4113800"
        ],
        [
         "2010-03-01 00:00:00",
         "263.611908",
         "265.649292",
         "262.884644",
         "265.350403",
         "265.350403",
         "4492500"
        ],
        [
         "2010-03-02 00:00:00",
         "266.740204",
         "271.811188",
         "266.506073",
         "269.519775",
         "269.519775",
         "8746200"
        ],
        [
         "2010-03-03 00:00:00",
         "270.167358",
         "273.036591",
         "268.618164",
         "271.641815",
         "271.641815",
         "6201800"
        ],
        [
         "2010-03-04 00:00:00",
         "272.229614",
         "277.026642",
         "272.08017",
         "276.259521",
         "276.259521",
         "6391300"
        ],
        [
         "2010-03-05 00:00:00",
         "279.626892",
         "282.775085",
         "278.904602",
         "281.051544",
         "281.051544",
         "7853700"
        ],
        [
         "2010-03-08 00:00:00",
         "281.33548",
         "281.534729",
         "279.45752",
         "280.189789",
         "280.189789",
         "4790600"
        ],
        [
         "2010-03-09 00:00:00",
         "278.8797",
         "281.275696",
         "277.210938",
         "279.049042",
         "279.049042",
         "6376900"
        ],
        [
         "2010-03-10 00:00:00",
         "280.827393",
         "288.169861",
         "280.055298",
         "287.148682",
         "287.148682",
         "11352100"
        ],
        [
         "2010-03-11 00:00:00",
         "286.0578",
         "292.010468",
         "286.027893",
         "289.484924",
         "289.484924",
         "8498200"
        ],
        [
         "2010-03-12 00:00:00",
         "292.971863",
         "293.041595",
         "288.498627",
         "288.687927",
         "288.687927",
         "5527400"
        ],
        [
         "2010-03-15 00:00:00",
         "282.281952",
         "283.661774",
         "276.961884",
         "280.538483",
         "280.538483",
         "9342600"
        ],
        [
         "2010-03-16 00:00:00",
         "279.865997",
         "283.148682",
         "279.332977",
         "281.544708",
         "281.544708",
         "6888600"
        ]
       ],
       "shape": {
        "columns": 6,
        "rows": 2518
       }
      },
      "text/html": [
       "<div>\n",
       "<style scoped>\n",
       "    .dataframe tbody tr th:only-of-type {\n",
       "        vertical-align: middle;\n",
       "    }\n",
       "\n",
       "    .dataframe tbody tr th {\n",
       "        vertical-align: top;\n",
       "    }\n",
       "\n",
       "    .dataframe thead th {\n",
       "        text-align: right;\n",
       "    }\n",
       "</style>\n",
       "<table border=\"1\" class=\"dataframe\">\n",
       "  <thead>\n",
       "    <tr style=\"text-align: right;\">\n",
       "      <th></th>\n",
       "      <th>Open</th>\n",
       "      <th>High</th>\n",
       "      <th>Low</th>\n",
       "      <th>Close</th>\n",
       "      <th>Adj Close</th>\n",
       "      <th>Volume</th>\n",
       "    </tr>\n",
       "    <tr>\n",
       "      <th>Date</th>\n",
       "      <th></th>\n",
       "      <th></th>\n",
       "      <th></th>\n",
       "      <th></th>\n",
       "      <th></th>\n",
       "      <th></th>\n",
       "    </tr>\n",
       "  </thead>\n",
       "  <tbody>\n",
       "    <tr>\n",
       "      <th>2010-01-04</th>\n",
       "      <td>312.304413</td>\n",
       "      <td>313.579620</td>\n",
       "      <td>310.954468</td>\n",
       "      <td>312.204773</td>\n",
       "      <td>312.204773</td>\n",
       "      <td>3927000</td>\n",
       "    </tr>\n",
       "    <tr>\n",
       "      <th>2010-01-05</th>\n",
       "      <td>312.418976</td>\n",
       "      <td>312.747742</td>\n",
       "      <td>309.609497</td>\n",
       "      <td>310.829926</td>\n",
       "      <td>310.829926</td>\n",
       "      <td>6031900</td>\n",
       "    </tr>\n",
       "    <tr>\n",
       "      <th>2010-01-06</th>\n",
       "      <td>311.761444</td>\n",
       "      <td>311.761444</td>\n",
       "      <td>302.047852</td>\n",
       "      <td>302.994293</td>\n",
       "      <td>302.994293</td>\n",
       "      <td>7987100</td>\n",
       "    </tr>\n",
       "    <tr>\n",
       "      <th>2010-01-07</th>\n",
       "      <td>303.562164</td>\n",
       "      <td>303.861053</td>\n",
       "      <td>295.218445</td>\n",
       "      <td>295.940735</td>\n",
       "      <td>295.940735</td>\n",
       "      <td>12876600</td>\n",
       "    </tr>\n",
       "    <tr>\n",
       "      <th>2010-01-08</th>\n",
       "      <td>294.894653</td>\n",
       "      <td>300.498657</td>\n",
       "      <td>293.455048</td>\n",
       "      <td>299.885956</td>\n",
       "      <td>299.885956</td>\n",
       "      <td>9483900</td>\n",
       "    </tr>\n",
       "    <tr>\n",
       "      <th>...</th>\n",
       "      <td>...</td>\n",
       "      <td>...</td>\n",
       "      <td>...</td>\n",
       "      <td>...</td>\n",
       "      <td>...</td>\n",
       "      <td>...</td>\n",
       "    </tr>\n",
       "    <tr>\n",
       "      <th>2019-12-27</th>\n",
       "      <td>1362.989990</td>\n",
       "      <td>1364.530029</td>\n",
       "      <td>1349.310059</td>\n",
       "      <td>1351.890015</td>\n",
       "      <td>1351.890015</td>\n",
       "      <td>1038400</td>\n",
       "    </tr>\n",
       "    <tr>\n",
       "      <th>2019-12-30</th>\n",
       "      <td>1350.000000</td>\n",
       "      <td>1353.000000</td>\n",
       "      <td>1334.020020</td>\n",
       "      <td>1336.140015</td>\n",
       "      <td>1336.140015</td>\n",
       "      <td>1050900</td>\n",
       "    </tr>\n",
       "    <tr>\n",
       "      <th>2019-12-31</th>\n",
       "      <td>1330.109985</td>\n",
       "      <td>1338.000000</td>\n",
       "      <td>1329.084961</td>\n",
       "      <td>1337.020020</td>\n",
       "      <td>1337.020020</td>\n",
       "      <td>961800</td>\n",
       "    </tr>\n",
       "    <tr>\n",
       "      <th>2020-01-02</th>\n",
       "      <td>1341.550049</td>\n",
       "      <td>1368.140015</td>\n",
       "      <td>1341.550049</td>\n",
       "      <td>1367.369995</td>\n",
       "      <td>1367.369995</td>\n",
       "      <td>1406600</td>\n",
       "    </tr>\n",
       "    <tr>\n",
       "      <th>2020-01-03</th>\n",
       "      <td>1347.859985</td>\n",
       "      <td>1372.500000</td>\n",
       "      <td>1345.543945</td>\n",
       "      <td>1360.660034</td>\n",
       "      <td>1360.660034</td>\n",
       "      <td>1186400</td>\n",
       "    </tr>\n",
       "  </tbody>\n",
       "</table>\n",
       "<p>2518 rows × 6 columns</p>\n",
       "</div>"
      ],
      "text/plain": [
       "                   Open         High          Low        Close    Adj Close  \\\n",
       "Date                                                                          \n",
       "2010-01-04   312.304413   313.579620   310.954468   312.204773   312.204773   \n",
       "2010-01-05   312.418976   312.747742   309.609497   310.829926   310.829926   \n",
       "2010-01-06   311.761444   311.761444   302.047852   302.994293   302.994293   \n",
       "2010-01-07   303.562164   303.861053   295.218445   295.940735   295.940735   \n",
       "2010-01-08   294.894653   300.498657   293.455048   299.885956   299.885956   \n",
       "...                 ...          ...          ...          ...          ...   \n",
       "2019-12-27  1362.989990  1364.530029  1349.310059  1351.890015  1351.890015   \n",
       "2019-12-30  1350.000000  1353.000000  1334.020020  1336.140015  1336.140015   \n",
       "2019-12-31  1330.109985  1338.000000  1329.084961  1337.020020  1337.020020   \n",
       "2020-01-02  1341.550049  1368.140015  1341.550049  1367.369995  1367.369995   \n",
       "2020-01-03  1347.859985  1372.500000  1345.543945  1360.660034  1360.660034   \n",
       "\n",
       "              Volume  \n",
       "Date                  \n",
       "2010-01-04   3927000  \n",
       "2010-01-05   6031900  \n",
       "2010-01-06   7987100  \n",
       "2010-01-07  12876600  \n",
       "2010-01-08   9483900  \n",
       "...              ...  \n",
       "2019-12-27   1038400  \n",
       "2019-12-30   1050900  \n",
       "2019-12-31    961800  \n",
       "2020-01-02   1406600  \n",
       "2020-01-03   1186400  \n",
       "\n",
       "[2518 rows x 6 columns]"
      ]
     },
     "execution_count": 72,
     "metadata": {},
     "output_type": "execute_result"
    }
   ],
   "source": [
    "# goog = goog['Close']\n",
    "goog = goog.fillna(method='ffill')\n",
    "goog"
   ]
  },
  {
   "cell_type": "code",
   "execution_count": 74,
   "metadata": {},
   "outputs": [
    {
     "data": {
      "image/png": "[encoded data removed]",
      "text/plain": [
       "<Figure size 640x480 with 1 Axes>"
      ]
     },
     "metadata": {},
     "output_type": "display_data"
    }
   ],
   "source": [
    "goog['Close'].plot();"
   ]
  },
  {
   "cell_type": "code",
   "execution_count": 75,
   "metadata": {},
   "outputs": [
    {
     "data": {
      "text/plain": [
       "DatetimeIndex(['2010-01-04', '2010-01-05', '2010-01-06', '2010-01-07',\n",
       "               '2010-01-08', '2010-01-11', '2010-01-12', '2010-01-13',\n",
       "               '2010-01-14', '2010-01-15',\n",
       "               ...\n",
       "               '2019-12-19', '2019-12-20', '2019-12-23', '2019-12-24',\n",
       "               '2019-12-26', '2019-12-27', '2019-12-30', '2019-12-31',\n",
       "               '2020-01-02', '2020-01-03'],\n",
       "              dtype='datetime64[ns]', name='Date', length=2518, freq=None)"
      ]
     },
     "execution_count": 75,
     "metadata": {},
     "output_type": "execute_result"
    }
   ],
   "source": [
    "goog.index"
   ]
  },
  {
   "cell_type": "markdown",
   "metadata": {},
   "source": [
    "### resample() y asfreq()\n",
    ".resample(): Groups data by the specified frequency and applies an aggregation function.\n",
    ".asfreq(): Changes the index frequency without grouping or aggregating, inserting NaN where data is missing."
   ]
  },
  {
   "cell_type": "code",
   "execution_count": 75,
   "metadata": {},
   "outputs": [
    {
     "data": {
      "application/vnd.microsoft.datawrangler.viewer.v0+json": {
       "columns": [
        {
         "name": "Date",
         "rawType": "datetime64[ns]",
         "type": "datetime"
        },
        {
         "name": "Open",
         "rawType": "float64",
         "type": "float"
        },
        {
         "name": "High",
         "rawType": "float64",
         "type": "float"
        },
        {
         "name": "Low",
         "rawType": "float64",
         "type": "float"
        },
        {
         "name": "Close",
         "rawType": "float64",
         "type": "float"
        },
        {
         "name": "Adj Close",
         "rawType": "float64",
         "type": "float"
        },
        {
         "name": "Volume",
         "rawType": "float64",
         "type": "float"
        }
       ],
       "conversionMethod": "pd.DataFrame",
       "ref": "ac10b9e4-ff9a-40b0-8f65-24c1df1557dd",
       "rows": [
        [
         "2010-12-31 00:00:00",
         "267.1546304563492",
         "269.46407025",
         "264.4029203373016",
         "266.81147212698414",
         "266.81147212698414",
         "6383553.174603174"
        ],
        [
         "2011-12-30 00:00:00",
         "283.52313874603175",
         "286.110425015873",
         "280.75183947619047",
         "283.4247375992063",
         "283.4247375992063",
         "6179411.904761905"
        ],
        [
         "2012-12-31 00:00:00",
         "320.19507092799995",
         "322.92784738",
         "317.288285664",
         "320.208021368",
         "320.208021368",
         "5228172.4"
        ],
        [
         "2013-12-31 00:00:00",
         "440.1602710515873",
         "443.4073065079365",
         "437.2174313055555",
         "440.47037798412697",
         "440.47037798412697",
         "4190345.634920635"
        ],
        [
         "2014-12-31 00:00:00",
         "560.7096449722222",
         "564.4952057380953",
         "555.1622548214286",
         "559.8032897579366",
         "559.8032897579366",
         "2487037.698412698"
        ],
        [
         "2015-12-31 00:00:00",
         "602.0573140714286",
         "607.4427647380952",
         "596.0906030753969",
         "602.0056810912698",
         "602.0056810912698",
         "2069434.126984127"
        ],
        [
         "2016-12-30 00:00:00",
         "743.7324594166666",
         "749.4216293531746",
         "737.5979052619048",
         "743.4867066984127",
         "743.4867066984127",
         "1832265.873015873"
        ],
        [
         "2017-12-29 00:00:00",
         "921.1211927250996",
         "926.8989632071713",
         "915.3314121633466",
         "921.780837310757",
         "921.780837310757",
         "1476514.342629482"
        ],
        [
         "2018-12-31 00:00:00",
         "1113.5541007370518",
         "1125.7776056573705",
         "1101.0016579243027",
         "1113.225134115538",
         "1113.225134115538",
         "1741965.3386454184"
        ],
        [
         "2019-12-31 00:00:00",
         "1187.0098210595238",
         "1196.7875991111111",
         "1178.5237344166667",
         "1188.393057484127",
         "1188.393057484127",
         "1414084.9206349207"
        ],
        [
         "2020-12-31 00:00:00",
         "1344.705017",
         "1370.3200075",
         "1343.546997",
         "1364.0150145",
         "1364.0150145",
         "1296500.0"
        ]
       ],
       "shape": {
        "columns": 6,
        "rows": 11
       }
      },
      "text/html": [
       "<div>\n",
       "<style scoped>\n",
       "    .dataframe tbody tr th:only-of-type {\n",
       "        vertical-align: middle;\n",
       "    }\n",
       "\n",
       "    .dataframe tbody tr th {\n",
       "        vertical-align: top;\n",
       "    }\n",
       "\n",
       "    .dataframe thead th {\n",
       "        text-align: right;\n",
       "    }\n",
       "</style>\n",
       "<table border=\"1\" class=\"dataframe\">\n",
       "  <thead>\n",
       "    <tr style=\"text-align: right;\">\n",
       "      <th></th>\n",
       "      <th>Open</th>\n",
       "      <th>High</th>\n",
       "      <th>Low</th>\n",
       "      <th>Close</th>\n",
       "      <th>Adj Close</th>\n",
       "      <th>Volume</th>\n",
       "    </tr>\n",
       "    <tr>\n",
       "      <th>Date</th>\n",
       "      <th></th>\n",
       "      <th></th>\n",
       "      <th></th>\n",
       "      <th></th>\n",
       "      <th></th>\n",
       "      <th></th>\n",
       "    </tr>\n",
       "  </thead>\n",
       "  <tbody>\n",
       "    <tr>\n",
       "      <th>2010-12-31</th>\n",
       "      <td>267.154630</td>\n",
       "      <td>269.464070</td>\n",
       "      <td>264.402920</td>\n",
       "      <td>266.811472</td>\n",
       "      <td>266.811472</td>\n",
       "      <td>6.383553e+06</td>\n",
       "    </tr>\n",
       "    <tr>\n",
       "      <th>2011-12-30</th>\n",
       "      <td>283.523139</td>\n",
       "      <td>286.110425</td>\n",
       "      <td>280.751839</td>\n",
       "      <td>283.424738</td>\n",
       "      <td>283.424738</td>\n",
       "      <td>6.179412e+06</td>\n",
       "    </tr>\n",
       "    <tr>\n",
       "      <th>2012-12-31</th>\n",
       "      <td>320.195071</td>\n",
       "      <td>322.927847</td>\n",
       "      <td>317.288286</td>\n",
       "      <td>320.208021</td>\n",
       "      <td>320.208021</td>\n",
       "      <td>5.228172e+06</td>\n",
       "    </tr>\n",
       "    <tr>\n",
       "      <th>2013-12-31</th>\n",
       "      <td>440.160271</td>\n",
       "      <td>443.407307</td>\n",
       "      <td>437.217431</td>\n",
       "      <td>440.470378</td>\n",
       "      <td>440.470378</td>\n",
       "      <td>4.190346e+06</td>\n",
       "    </tr>\n",
       "    <tr>\n",
       "      <th>2014-12-31</th>\n",
       "      <td>560.709645</td>\n",
       "      <td>564.495206</td>\n",
       "      <td>555.162255</td>\n",
       "      <td>559.803290</td>\n",
       "      <td>559.803290</td>\n",
       "      <td>2.487038e+06</td>\n",
       "    </tr>\n",
       "    <tr>\n",
       "      <th>2015-12-31</th>\n",
       "      <td>602.057314</td>\n",
       "      <td>607.442765</td>\n",
       "      <td>596.090603</td>\n",
       "      <td>602.005681</td>\n",
       "      <td>602.005681</td>\n",
       "      <td>2.069434e+06</td>\n",
       "    </tr>\n",
       "    <tr>\n",
       "      <th>2016-12-30</th>\n",
       "      <td>743.732459</td>\n",
       "      <td>749.421629</td>\n",
       "      <td>737.597905</td>\n",
       "      <td>743.486707</td>\n",
       "      <td>743.486707</td>\n",
       "      <td>1.832266e+06</td>\n",
       "    </tr>\n",
       "    <tr>\n",
       "      <th>2017-12-29</th>\n",
       "      <td>921.121193</td>\n",
       "      <td>926.898963</td>\n",
       "      <td>915.331412</td>\n",
       "      <td>921.780837</td>\n",
       "      <td>921.780837</td>\n",
       "      <td>1.476514e+06</td>\n",
       "    </tr>\n",
       "    <tr>\n",
       "      <th>2018-12-31</th>\n",
       "      <td>1113.554101</td>\n",
       "      <td>1125.777606</td>\n",
       "      <td>1101.001658</td>\n",
       "      <td>1113.225134</td>\n",
       "      <td>1113.225134</td>\n",
       "      <td>1.741965e+06</td>\n",
       "    </tr>\n",
       "    <tr>\n",
       "      <th>2019-12-31</th>\n",
       "      <td>1187.009821</td>\n",
       "      <td>1196.787599</td>\n",
       "      <td>1178.523734</td>\n",
       "      <td>1188.393057</td>\n",
       "      <td>1188.393057</td>\n",
       "      <td>1.414085e+06</td>\n",
       "    </tr>\n",
       "    <tr>\n",
       "      <th>2020-12-31</th>\n",
       "      <td>1344.705017</td>\n",
       "      <td>1370.320007</td>\n",
       "      <td>1343.546997</td>\n",
       "      <td>1364.015015</td>\n",
       "      <td>1364.015015</td>\n",
       "      <td>1.296500e+06</td>\n",
       "    </tr>\n",
       "  </tbody>\n",
       "</table>\n",
       "</div>"
      ],
      "text/plain": [
       "                   Open         High          Low        Close    Adj Close  \\\n",
       "Date                                                                          \n",
       "2010-12-31   267.154630   269.464070   264.402920   266.811472   266.811472   \n",
       "2011-12-30   283.523139   286.110425   280.751839   283.424738   283.424738   \n",
       "2012-12-31   320.195071   322.927847   317.288286   320.208021   320.208021   \n",
       "2013-12-31   440.160271   443.407307   437.217431   440.470378   440.470378   \n",
       "2014-12-31   560.709645   564.495206   555.162255   559.803290   559.803290   \n",
       "2015-12-31   602.057314   607.442765   596.090603   602.005681   602.005681   \n",
       "2016-12-30   743.732459   749.421629   737.597905   743.486707   743.486707   \n",
       "2017-12-29   921.121193   926.898963   915.331412   921.780837   921.780837   \n",
       "2018-12-31  1113.554101  1125.777606  1101.001658  1113.225134  1113.225134   \n",
       "2019-12-31  1187.009821  1196.787599  1178.523734  1188.393057  1188.393057   \n",
       "2020-12-31  1344.705017  1370.320007  1343.546997  1364.015015  1364.015015   \n",
       "\n",
       "                  Volume  \n",
       "Date                      \n",
       "2010-12-31  6.383553e+06  \n",
       "2011-12-30  6.179412e+06  \n",
       "2012-12-31  5.228172e+06  \n",
       "2013-12-31  4.190346e+06  \n",
       "2014-12-31  2.487038e+06  \n",
       "2015-12-31  2.069434e+06  \n",
       "2016-12-30  1.832266e+06  \n",
       "2017-12-29  1.476514e+06  \n",
       "2018-12-31  1.741965e+06  \n",
       "2019-12-31  1.414085e+06  \n",
       "2020-12-31  1.296500e+06  "
      ]
     },
     "execution_count": 75,
     "metadata": {},
     "output_type": "execute_result"
    }
   ],
   "source": [
    "goog.resample('BYE').mean() # BA: business year end"
   ]
  },
  {
   "cell_type": "code",
   "execution_count": 76,
   "metadata": {},
   "outputs": [
    {
     "data": {
      "text/plain": [
       "<Axes: xlabel='Date'>"
      ]
     },
     "execution_count": 76,
     "metadata": {},
     "output_type": "execute_result"
    },
    {
     "data": {
      "image/png": "[encoded data removed]",
      "text/plain": [
       "<Figure size 640x480 with 1 Axes>"
      ]
     },
     "metadata": {},
     "output_type": "display_data"
    }
   ],
   "source": [
    "goog.resample('BYE').mean()[\"Close\"].plot()"
   ]
  },
  {
   "cell_type": "code",
   "execution_count": 76,
   "metadata": {},
   "outputs": [
    {
     "data": {
      "application/vnd.microsoft.datawrangler.viewer.v0+json": {
       "columns": [
        {
         "name": "Date",
         "rawType": "datetime64[ns]",
         "type": "datetime"
        },
        {
         "name": "Open",
         "rawType": "float64",
         "type": "float"
        },
        {
         "name": "High",
         "rawType": "float64",
         "type": "float"
        },
        {
         "name": "Low",
         "rawType": "float64",
         "type": "float"
        },
        {
         "name": "Close",
         "rawType": "float64",
         "type": "float"
        },
        {
         "name": "Adj Close",
         "rawType": "float64",
         "type": "float"
        },
        {
         "name": "Volume",
         "rawType": "int64",
         "type": "integer"
        }
       ],
       "conversionMethod": "pd.DataFrame",
       "ref": "83ffd47c-f30e-423c-b9a5-139d2c1f947f",
       "rows": [
        [
         "2010-12-31 00:00:00",
         "297.255798",
         "298.092682",
         "294.909607",
         "295.875977",
         "295.875977",
         "3090000"
        ],
        [
         "2011-12-30 00:00:00",
         "319.811279",
         "322.172424",
         "319.811279",
         "321.744019",
         "321.744019",
         "3577800"
        ],
        [
         "2012-12-31 00:00:00",
         "348.693024",
         "353.958282",
         "346.70047",
         "352.369232",
         "352.369232",
         "4009600"
        ],
        [
         "2013-12-31 00:00:00",
         "554.043335",
         "558.406982",
         "551.064453",
         "558.262512",
         "558.262512",
         "2725900"
        ],
        [
         "2014-12-31 00:00:00",
         "529.795471",
         "531.141724",
         "524.360352",
         "524.95874",
         "524.95874",
         "1368200"
        ],
        [
         "2015-12-31 00:00:00",
         "769.5",
         "769.5",
         "758.340027",
         "758.880005",
         "758.880005",
         "1500900"
        ],
        [
         "2016-12-30 00:00:00",
         "782.75",
         "782.780029",
         "770.409973",
         "771.820007",
         "771.820007",
         "1770000"
        ],
        [
         "2017-12-29 00:00:00",
         "1046.719971",
         "1049.699951",
         "1044.900024",
         "1046.400024",
         "1046.400024",
         "887500"
        ],
        [
         "2018-12-31 00:00:00",
         "1050.959961",
         "1052.699951",
         "1023.590027",
         "1035.609985",
         "1035.609985",
         "1493300"
        ],
        [
         "2019-12-31 00:00:00",
         "1330.109985",
         "1338.0",
         "1329.084961",
         "1337.02002",
         "1337.02002",
         "961800"
        ]
       ],
       "shape": {
        "columns": 6,
        "rows": 10
       }
      },
      "text/html": [
       "<div>\n",
       "<style scoped>\n",
       "    .dataframe tbody tr th:only-of-type {\n",
       "        vertical-align: middle;\n",
       "    }\n",
       "\n",
       "    .dataframe tbody tr th {\n",
       "        vertical-align: top;\n",
       "    }\n",
       "\n",
       "    .dataframe thead th {\n",
       "        text-align: right;\n",
       "    }\n",
       "</style>\n",
       "<table border=\"1\" class=\"dataframe\">\n",
       "  <thead>\n",
       "    <tr style=\"text-align: right;\">\n",
       "      <th></th>\n",
       "      <th>Open</th>\n",
       "      <th>High</th>\n",
       "      <th>Low</th>\n",
       "      <th>Close</th>\n",
       "      <th>Adj Close</th>\n",
       "      <th>Volume</th>\n",
       "    </tr>\n",
       "    <tr>\n",
       "      <th>Date</th>\n",
       "      <th></th>\n",
       "      <th></th>\n",
       "      <th></th>\n",
       "      <th></th>\n",
       "      <th></th>\n",
       "      <th></th>\n",
       "    </tr>\n",
       "  </thead>\n",
       "  <tbody>\n",
       "    <tr>\n",
       "      <th>2010-12-31</th>\n",
       "      <td>297.255798</td>\n",
       "      <td>298.092682</td>\n",
       "      <td>294.909607</td>\n",
       "      <td>295.875977</td>\n",
       "      <td>295.875977</td>\n",
       "      <td>3090000</td>\n",
       "    </tr>\n",
       "    <tr>\n",
       "      <th>2011-12-30</th>\n",
       "      <td>319.811279</td>\n",
       "      <td>322.172424</td>\n",
       "      <td>319.811279</td>\n",
       "      <td>321.744019</td>\n",
       "      <td>321.744019</td>\n",
       "      <td>3577800</td>\n",
       "    </tr>\n",
       "    <tr>\n",
       "      <th>2012-12-31</th>\n",
       "      <td>348.693024</td>\n",
       "      <td>353.958282</td>\n",
       "      <td>346.700470</td>\n",
       "      <td>352.369232</td>\n",
       "      <td>352.369232</td>\n",
       "      <td>4009600</td>\n",
       "    </tr>\n",
       "    <tr>\n",
       "      <th>2013-12-31</th>\n",
       "      <td>554.043335</td>\n",
       "      <td>558.406982</td>\n",
       "      <td>551.064453</td>\n",
       "      <td>558.262512</td>\n",
       "      <td>558.262512</td>\n",
       "      <td>2725900</td>\n",
       "    </tr>\n",
       "    <tr>\n",
       "      <th>2014-12-31</th>\n",
       "      <td>529.795471</td>\n",
       "      <td>531.141724</td>\n",
       "      <td>524.360352</td>\n",
       "      <td>524.958740</td>\n",
       "      <td>524.958740</td>\n",
       "      <td>1368200</td>\n",
       "    </tr>\n",
       "    <tr>\n",
       "      <th>2015-12-31</th>\n",
       "      <td>769.500000</td>\n",
       "      <td>769.500000</td>\n",
       "      <td>758.340027</td>\n",
       "      <td>758.880005</td>\n",
       "      <td>758.880005</td>\n",
       "      <td>1500900</td>\n",
       "    </tr>\n",
       "    <tr>\n",
       "      <th>2016-12-30</th>\n",
       "      <td>782.750000</td>\n",
       "      <td>782.780029</td>\n",
       "      <td>770.409973</td>\n",
       "      <td>771.820007</td>\n",
       "      <td>771.820007</td>\n",
       "      <td>1770000</td>\n",
       "    </tr>\n",
       "    <tr>\n",
       "      <th>2017-12-29</th>\n",
       "      <td>1046.719971</td>\n",
       "      <td>1049.699951</td>\n",
       "      <td>1044.900024</td>\n",
       "      <td>1046.400024</td>\n",
       "      <td>1046.400024</td>\n",
       "      <td>887500</td>\n",
       "    </tr>\n",
       "    <tr>\n",
       "      <th>2018-12-31</th>\n",
       "      <td>1050.959961</td>\n",
       "      <td>1052.699951</td>\n",
       "      <td>1023.590027</td>\n",
       "      <td>1035.609985</td>\n",
       "      <td>1035.609985</td>\n",
       "      <td>1493300</td>\n",
       "    </tr>\n",
       "    <tr>\n",
       "      <th>2019-12-31</th>\n",
       "      <td>1330.109985</td>\n",
       "      <td>1338.000000</td>\n",
       "      <td>1329.084961</td>\n",
       "      <td>1337.020020</td>\n",
       "      <td>1337.020020</td>\n",
       "      <td>961800</td>\n",
       "    </tr>\n",
       "  </tbody>\n",
       "</table>\n",
       "</div>"
      ],
      "text/plain": [
       "                   Open         High          Low        Close    Adj Close  \\\n",
       "Date                                                                          \n",
       "2010-12-31   297.255798   298.092682   294.909607   295.875977   295.875977   \n",
       "2011-12-30   319.811279   322.172424   319.811279   321.744019   321.744019   \n",
       "2012-12-31   348.693024   353.958282   346.700470   352.369232   352.369232   \n",
       "2013-12-31   554.043335   558.406982   551.064453   558.262512   558.262512   \n",
       "2014-12-31   529.795471   531.141724   524.360352   524.958740   524.958740   \n",
       "2015-12-31   769.500000   769.500000   758.340027   758.880005   758.880005   \n",
       "2016-12-30   782.750000   782.780029   770.409973   771.820007   771.820007   \n",
       "2017-12-29  1046.719971  1049.699951  1044.900024  1046.400024  1046.400024   \n",
       "2018-12-31  1050.959961  1052.699951  1023.590027  1035.609985  1035.609985   \n",
       "2019-12-31  1330.109985  1338.000000  1329.084961  1337.020020  1337.020020   \n",
       "\n",
       "             Volume  \n",
       "Date                 \n",
       "2010-12-31  3090000  \n",
       "2011-12-30  3577800  \n",
       "2012-12-31  4009600  \n",
       "2013-12-31  2725900  \n",
       "2014-12-31  1368200  \n",
       "2015-12-31  1500900  \n",
       "2016-12-30  1770000  \n",
       "2017-12-29   887500  \n",
       "2018-12-31  1493300  \n",
       "2019-12-31   961800  "
      ]
     },
     "execution_count": 76,
     "metadata": {},
     "output_type": "execute_result"
    }
   ],
   "source": [
    "goog.asfreq('BYE')"
   ]
  },
  {
   "cell_type": "code",
   "execution_count": 77,
   "metadata": {},
   "outputs": [
    {
     "data": {
      "text/plain": [
       "<Axes: xlabel='Date'>"
      ]
     },
     "execution_count": 77,
     "metadata": {},
     "output_type": "execute_result"
    },
    {
     "data": {
      "image/png": "[encoded data removed]",
      "text/plain": [
       "<Figure size 640x480 with 1 Axes>"
      ]
     },
     "metadata": {},
     "output_type": "display_data"
    }
   ],
   "source": [
    "goog.asfreq('BYE')[\"Close\"].plot()"
   ]
  },
  {
   "cell_type": "code",
   "execution_count": 80,
   "metadata": {},
   "outputs": [
    {
     "data": {
      "text/plain": [
       "DatetimeIndex(['2010-12-31', '2011-12-30', '2012-12-31', '2013-12-31',\n",
       "               '2014-12-31', '2015-12-31', '2016-12-30', '2017-12-29',\n",
       "               '2018-12-31', '2019-12-31'],\n",
       "              dtype='datetime64[ns]', name='Date', freq='BYE-DEC')"
      ]
     },
     "execution_count": 80,
     "metadata": {},
     "output_type": "execute_result"
    }
   ],
   "source": [
    "goog.asfreq('BYE')[\"Close\"].index"
   ]
  },
  {
   "cell_type": "code",
   "execution_count": 78,
   "metadata": {},
   "outputs": [
    {
     "data": {
      "text/plain": [
       "Open         3.486930e+02\n",
       "High         3.539583e+02\n",
       "Low          3.467005e+02\n",
       "Close        3.523692e+02\n",
       "Adj Close    3.523692e+02\n",
       "Volume       4.009600e+06\n",
       "Name: 2012-12-31 00:00:00, dtype: float64"
      ]
     },
     "execution_count": 78,
     "metadata": {},
     "output_type": "execute_result"
    }
   ],
   "source": [
    "goog.loc['2012-12-31']"
   ]
  },
  {
   "cell_type": "code",
   "execution_count": 84,
   "metadata": {},
   "outputs": [
    {
     "data": {
      "image/png": "[encoded data removed]",
      "text/plain": [
       "<Figure size 1000x1000 with 1 Axes>"
      ]
     },
     "metadata": {},
     "output_type": "display_data"
    }
   ],
   "source": [
    "import matplotlib.pyplot as plt\n",
    "plt.figure(figsize=(10,10))\n",
    "goog['Close'].plot(alpha=0.5, style='-')\n",
    "goog['Close'].resample('BYE').mean().plot(style=':')\n",
    "goog['Close'].asfreq('BYE').plot(style='--');\n",
    "\n",
    "plt.legend(['input', 'resample', 'asfreq'],\n",
    "           loc='upper left');"
   ]
  },
  {
   "cell_type": "code",
   "execution_count": 85,
   "metadata": {
    "collapsed": true,
    "jupyter": {
     "outputs_hidden": true
    },
    "tags": []
   },
   "outputs": [
    {
     "data": {
      "application/vnd.microsoft.datawrangler.viewer.v0+json": {
       "columns": [
        {
         "name": "Date",
         "rawType": "datetime64[ns]",
         "type": "datetime"
        },
        {
         "name": "Open",
         "rawType": "float64",
         "type": "float"
        },
        {
         "name": "High",
         "rawType": "float64",
         "type": "float"
        },
        {
         "name": "Low",
         "rawType": "float64",
         "type": "float"
        },
        {
         "name": "Close",
         "rawType": "float64",
         "type": "float"
        },
        {
         "name": "Adj Close",
         "rawType": "float64",
         "type": "float"
        },
        {
         "name": "Volume",
         "rawType": "int64",
         "type": "integer"
        }
       ],
       "conversionMethod": "pd.DataFrame",
       "ref": "33d10c71-5b0a-4ec0-abe1-746fd4eefb94",
       "rows": [
        [
         "2010-12-31 00:00:00",
         "297.255798",
         "298.092682",
         "294.909607",
         "295.875977",
         "295.875977",
         "3090000"
        ],
        [
         "2011-12-30 00:00:00",
         "319.811279",
         "322.172424",
         "319.811279",
         "321.744019",
         "321.744019",
         "3577800"
        ],
        [
         "2012-12-31 00:00:00",
         "348.693024",
         "353.958282",
         "346.70047",
         "352.369232",
         "352.369232",
         "4009600"
        ],
        [
         "2013-12-31 00:00:00",
         "554.043335",
         "558.406982",
         "551.064453",
         "558.262512",
         "558.262512",
         "2725900"
        ],
        [
         "2014-12-31 00:00:00",
         "529.795471",
         "531.141724",
         "524.360352",
         "524.95874",
         "524.95874",
         "1368200"
        ],
        [
         "2015-12-31 00:00:00",
         "769.5",
         "769.5",
         "758.340027",
         "758.880005",
         "758.880005",
         "1500900"
        ],
        [
         "2016-12-30 00:00:00",
         "782.75",
         "782.780029",
         "770.409973",
         "771.820007",
         "771.820007",
         "1770000"
        ],
        [
         "2017-12-29 00:00:00",
         "1046.719971",
         "1049.699951",
         "1044.900024",
         "1046.400024",
         "1046.400024",
         "887500"
        ],
        [
         "2018-12-31 00:00:00",
         "1050.959961",
         "1052.699951",
         "1023.590027",
         "1035.609985",
         "1035.609985",
         "1493300"
        ],
        [
         "2019-12-31 00:00:00",
         "1330.109985",
         "1338.0",
         "1329.084961",
         "1337.02002",
         "1337.02002",
         "961800"
        ]
       ],
       "shape": {
        "columns": 6,
        "rows": 10
       }
      },
      "text/html": [
       "<div>\n",
       "<style scoped>\n",
       "    .dataframe tbody tr th:only-of-type {\n",
       "        vertical-align: middle;\n",
       "    }\n",
       "\n",
       "    .dataframe tbody tr th {\n",
       "        vertical-align: top;\n",
       "    }\n",
       "\n",
       "    .dataframe thead th {\n",
       "        text-align: right;\n",
       "    }\n",
       "</style>\n",
       "<table border=\"1\" class=\"dataframe\">\n",
       "  <thead>\n",
       "    <tr style=\"text-align: right;\">\n",
       "      <th></th>\n",
       "      <th>Open</th>\n",
       "      <th>High</th>\n",
       "      <th>Low</th>\n",
       "      <th>Close</th>\n",
       "      <th>Adj Close</th>\n",
       "      <th>Volume</th>\n",
       "    </tr>\n",
       "    <tr>\n",
       "      <th>Date</th>\n",
       "      <th></th>\n",
       "      <th></th>\n",
       "      <th></th>\n",
       "      <th></th>\n",
       "      <th></th>\n",
       "      <th></th>\n",
       "    </tr>\n",
       "  </thead>\n",
       "  <tbody>\n",
       "    <tr>\n",
       "      <th>2010-12-31</th>\n",
       "      <td>297.255798</td>\n",
       "      <td>298.092682</td>\n",
       "      <td>294.909607</td>\n",
       "      <td>295.875977</td>\n",
       "      <td>295.875977</td>\n",
       "      <td>3090000</td>\n",
       "    </tr>\n",
       "    <tr>\n",
       "      <th>2011-12-30</th>\n",
       "      <td>319.811279</td>\n",
       "      <td>322.172424</td>\n",
       "      <td>319.811279</td>\n",
       "      <td>321.744019</td>\n",
       "      <td>321.744019</td>\n",
       "      <td>3577800</td>\n",
       "    </tr>\n",
       "    <tr>\n",
       "      <th>2012-12-31</th>\n",
       "      <td>348.693024</td>\n",
       "      <td>353.958282</td>\n",
       "      <td>346.700470</td>\n",
       "      <td>352.369232</td>\n",
       "      <td>352.369232</td>\n",
       "      <td>4009600</td>\n",
       "    </tr>\n",
       "    <tr>\n",
       "      <th>2013-12-31</th>\n",
       "      <td>554.043335</td>\n",
       "      <td>558.406982</td>\n",
       "      <td>551.064453</td>\n",
       "      <td>558.262512</td>\n",
       "      <td>558.262512</td>\n",
       "      <td>2725900</td>\n",
       "    </tr>\n",
       "    <tr>\n",
       "      <th>2014-12-31</th>\n",
       "      <td>529.795471</td>\n",
       "      <td>531.141724</td>\n",
       "      <td>524.360352</td>\n",
       "      <td>524.958740</td>\n",
       "      <td>524.958740</td>\n",
       "      <td>1368200</td>\n",
       "    </tr>\n",
       "    <tr>\n",
       "      <th>2015-12-31</th>\n",
       "      <td>769.500000</td>\n",
       "      <td>769.500000</td>\n",
       "      <td>758.340027</td>\n",
       "      <td>758.880005</td>\n",
       "      <td>758.880005</td>\n",
       "      <td>1500900</td>\n",
       "    </tr>\n",
       "    <tr>\n",
       "      <th>2016-12-30</th>\n",
       "      <td>782.750000</td>\n",
       "      <td>782.780029</td>\n",
       "      <td>770.409973</td>\n",
       "      <td>771.820007</td>\n",
       "      <td>771.820007</td>\n",
       "      <td>1770000</td>\n",
       "    </tr>\n",
       "    <tr>\n",
       "      <th>2017-12-29</th>\n",
       "      <td>1046.719971</td>\n",
       "      <td>1049.699951</td>\n",
       "      <td>1044.900024</td>\n",
       "      <td>1046.400024</td>\n",
       "      <td>1046.400024</td>\n",
       "      <td>887500</td>\n",
       "    </tr>\n",
       "    <tr>\n",
       "      <th>2018-12-31</th>\n",
       "      <td>1050.959961</td>\n",
       "      <td>1052.699951</td>\n",
       "      <td>1023.590027</td>\n",
       "      <td>1035.609985</td>\n",
       "      <td>1035.609985</td>\n",
       "      <td>1493300</td>\n",
       "    </tr>\n",
       "    <tr>\n",
       "      <th>2019-12-31</th>\n",
       "      <td>1330.109985</td>\n",
       "      <td>1338.000000</td>\n",
       "      <td>1329.084961</td>\n",
       "      <td>1337.020020</td>\n",
       "      <td>1337.020020</td>\n",
       "      <td>961800</td>\n",
       "    </tr>\n",
       "  </tbody>\n",
       "</table>\n",
       "</div>"
      ],
      "text/plain": [
       "                   Open         High          Low        Close    Adj Close  \\\n",
       "Date                                                                          \n",
       "2010-12-31   297.255798   298.092682   294.909607   295.875977   295.875977   \n",
       "2011-12-30   319.811279   322.172424   319.811279   321.744019   321.744019   \n",
       "2012-12-31   348.693024   353.958282   346.700470   352.369232   352.369232   \n",
       "2013-12-31   554.043335   558.406982   551.064453   558.262512   558.262512   \n",
       "2014-12-31   529.795471   531.141724   524.360352   524.958740   524.958740   \n",
       "2015-12-31   769.500000   769.500000   758.340027   758.880005   758.880005   \n",
       "2016-12-30   782.750000   782.780029   770.409973   771.820007   771.820007   \n",
       "2017-12-29  1046.719971  1049.699951  1044.900024  1046.400024  1046.400024   \n",
       "2018-12-31  1050.959961  1052.699951  1023.590027  1035.609985  1035.609985   \n",
       "2019-12-31  1330.109985  1338.000000  1329.084961  1337.020020  1337.020020   \n",
       "\n",
       "             Volume  \n",
       "Date                 \n",
       "2010-12-31  3090000  \n",
       "2011-12-30  3577800  \n",
       "2012-12-31  4009600  \n",
       "2013-12-31  2725900  \n",
       "2014-12-31  1368200  \n",
       "2015-12-31  1500900  \n",
       "2016-12-30  1770000  \n",
       "2017-12-29   887500  \n",
       "2018-12-31  1493300  \n",
       "2019-12-31   961800  "
      ]
     },
     "execution_count": 85,
     "metadata": {},
     "output_type": "execute_result"
    }
   ],
   "source": [
    "goog.asfreq('BYE')"
   ]
  },
  {
   "attachments": {},
   "cell_type": "markdown",
   "metadata": {},
   "source": [
    "| Code   | Description         | Code   | Description          |\n",
    "|--------|---------------------|--------|----------------------|\n",
    "| ``D``  | Calendar day        | ``B``  | Business day         |\n",
    "| ``W``  | Weekly              |        |                      |\n",
    "| ``M``  | Month end           | ``BM`` | Business month end   |\n",
    "| ``Q``  | Quarter end         | ``BQ`` | Business quarter end |\n",
    "| ``A``  | Year end            | ``BA`` | Business year end    |\n",
    "| ``H``  | Hours               | ``BH`` | Business hours       |\n",
    "| ``T``  | Minutes             |        |                      |\n",
    "| ``S``  | Seconds             |        |                      |\n",
    "| ``L``  | Milliseonds         |        |                      |\n",
    "| ``U``  | Microseconds        |        |                      |\n",
    "| ``N``  | nanoseconds         |        |                      |"
   ]
  },
  {
   "cell_type": "code",
   "execution_count": 80,
   "metadata": {},
   "outputs": [],
   "source": [
    "goog = goog['Close']"
   ]
  },
  {
   "cell_type": "markdown",
   "metadata": {},
   "source": [
    "### shift() \n"
   ]
  },
  {
   "cell_type": "code",
   "execution_count": 81,
   "metadata": {
    "tags": []
   },
   "outputs": [],
   "source": [
    "goog_shift = pd.DataFrame({'Data': goog,\n",
    "             'Data-7': goog.shift(7),\n",
    "             'Diff': goog - goog.shift(7),\n",
    "             '%Crec': round(((goog - goog.shift(7))/goog)*100,2)})"
   ]
  },
  {
   "cell_type": "code",
   "execution_count": 82,
   "metadata": {},
   "outputs": [
    {
     "data": {
      "application/vnd.microsoft.datawrangler.viewer.v0+json": {
       "columns": [
        {
         "name": "Date",
         "rawType": "datetime64[ns]",
         "type": "datetime"
        },
        {
         "name": "Data",
         "rawType": "float64",
         "type": "float"
        },
        {
         "name": "Data-7",
         "rawType": "float64",
         "type": "float"
        },
        {
         "name": "Diff",
         "rawType": "float64",
         "type": "float"
        },
        {
         "name": "%Crec",
         "rawType": "float64",
         "type": "float"
        }
       ],
       "conversionMethod": "pd.DataFrame",
       "ref": "b70335f9-52d6-473e-9ecd-7d37b829836c",
       "rows": [
        [
         "2010-01-04 00:00:00",
         "312.204773",
         null,
         null,
         null
        ],
        [
         "2010-01-05 00:00:00",
         "310.829926",
         null,
         null,
         null
        ],
        [
         "2010-01-06 00:00:00",
         "302.994293",
         null,
         null,
         null
        ],
        [
         "2010-01-07 00:00:00",
         "295.940735",
         null,
         null,
         null
        ],
        [
         "2010-01-08 00:00:00",
         "299.885956",
         null,
         null,
         null
        ],
        [
         "2010-01-11 00:00:00",
         "299.432648",
         null,
         null,
         null
        ],
        [
         "2010-01-12 00:00:00",
         "294.137512",
         null,
         null,
         null
        ],
        [
         "2010-01-13 00:00:00",
         "292.448822",
         "312.204773",
         "-19.755950999999982",
         "-6.76"
        ],
        [
         "2010-01-14 00:00:00",
         "293.823669",
         "310.829926",
         "-17.006257000000005",
         "-5.79"
        ],
        [
         "2010-01-15 00:00:00",
         "288.917053",
         "302.994293",
         "-14.077240000000018",
         "-4.87"
        ],
        [
         "2010-01-19 00:00:00",
         "292.71283",
         "295.940735",
         "-3.227905000000021",
         "-1.1"
        ],
        [
         "2010-01-20 00:00:00",
         "289.121307",
         "299.885956",
         "-10.76464900000002",
         "-3.72"
        ],
        [
         "2010-01-21 00:00:00",
         "290.401489",
         "299.432648",
         "-9.031158999999946",
         "-3.11"
        ],
        [
         "2010-01-22 00:00:00",
         "273.978058",
         "294.137512",
         "-20.15945400000004",
         "-7.36"
        ],
        [
         "2010-01-25 00:00:00",
         "268.99176",
         "292.448822",
         "-23.457062000000008",
         "-8.72"
        ],
        [
         "2010-01-26 00:00:00",
         "270.197235",
         "293.823669",
         "-23.626434000000017",
         "-8.74"
        ],
        [
         "2010-01-27 00:00:00",
         "270.037842",
         "288.917053",
         "-18.879210999999998",
         "-6.99"
        ],
        [
         "2010-01-28 00:00:00",
         "266.1474",
         "292.71283",
         "-26.565429999999992",
         "-9.98"
        ],
        [
         "2010-01-29 00:00:00",
         "263.98053",
         "289.121307",
         "-25.140777000000014",
         "-9.52"
        ],
        [
         "2010-02-01 00:00:00",
         "265.514771",
         "290.401489",
         "-24.88671800000003",
         "-9.37"
        ]
       ],
       "shape": {
        "columns": 4,
        "rows": 20
       }
      },
      "text/html": [
       "<div>\n",
       "<style scoped>\n",
       "    .dataframe tbody tr th:only-of-type {\n",
       "        vertical-align: middle;\n",
       "    }\n",
       "\n",
       "    .dataframe tbody tr th {\n",
       "        vertical-align: top;\n",
       "    }\n",
       "\n",
       "    .dataframe thead th {\n",
       "        text-align: right;\n",
       "    }\n",
       "</style>\n",
       "<table border=\"1\" class=\"dataframe\">\n",
       "  <thead>\n",
       "    <tr style=\"text-align: right;\">\n",
       "      <th></th>\n",
       "      <th>Data</th>\n",
       "      <th>Data-7</th>\n",
       "      <th>Diff</th>\n",
       "      <th>%Crec</th>\n",
       "    </tr>\n",
       "    <tr>\n",
       "      <th>Date</th>\n",
       "      <th></th>\n",
       "      <th></th>\n",
       "      <th></th>\n",
       "      <th></th>\n",
       "    </tr>\n",
       "  </thead>\n",
       "  <tbody>\n",
       "    <tr>\n",
       "      <th>2010-01-04</th>\n",
       "      <td>312.204773</td>\n",
       "      <td>NaN</td>\n",
       "      <td>NaN</td>\n",
       "      <td>NaN</td>\n",
       "    </tr>\n",
       "    <tr>\n",
       "      <th>2010-01-05</th>\n",
       "      <td>310.829926</td>\n",
       "      <td>NaN</td>\n",
       "      <td>NaN</td>\n",
       "      <td>NaN</td>\n",
       "    </tr>\n",
       "    <tr>\n",
       "      <th>2010-01-06</th>\n",
       "      <td>302.994293</td>\n",
       "      <td>NaN</td>\n",
       "      <td>NaN</td>\n",
       "      <td>NaN</td>\n",
       "    </tr>\n",
       "    <tr>\n",
       "      <th>2010-01-07</th>\n",
       "      <td>295.940735</td>\n",
       "      <td>NaN</td>\n",
       "      <td>NaN</td>\n",
       "      <td>NaN</td>\n",
       "    </tr>\n",
       "    <tr>\n",
       "      <th>2010-01-08</th>\n",
       "      <td>299.885956</td>\n",
       "      <td>NaN</td>\n",
       "      <td>NaN</td>\n",
       "      <td>NaN</td>\n",
       "    </tr>\n",
       "    <tr>\n",
       "      <th>2010-01-11</th>\n",
       "      <td>299.432648</td>\n",
       "      <td>NaN</td>\n",
       "      <td>NaN</td>\n",
       "      <td>NaN</td>\n",
       "    </tr>\n",
       "    <tr>\n",
       "      <th>2010-01-12</th>\n",
       "      <td>294.137512</td>\n",
       "      <td>NaN</td>\n",
       "      <td>NaN</td>\n",
       "      <td>NaN</td>\n",
       "    </tr>\n",
       "    <tr>\n",
       "      <th>2010-01-13</th>\n",
       "      <td>292.448822</td>\n",
       "      <td>312.204773</td>\n",
       "      <td>-19.755951</td>\n",
       "      <td>-6.76</td>\n",
       "    </tr>\n",
       "    <tr>\n",
       "      <th>2010-01-14</th>\n",
       "      <td>293.823669</td>\n",
       "      <td>310.829926</td>\n",
       "      <td>-17.006257</td>\n",
       "      <td>-5.79</td>\n",
       "    </tr>\n",
       "    <tr>\n",
       "      <th>2010-01-15</th>\n",
       "      <td>288.917053</td>\n",
       "      <td>302.994293</td>\n",
       "      <td>-14.077240</td>\n",
       "      <td>-4.87</td>\n",
       "    </tr>\n",
       "    <tr>\n",
       "      <th>2010-01-19</th>\n",
       "      <td>292.712830</td>\n",
       "      <td>295.940735</td>\n",
       "      <td>-3.227905</td>\n",
       "      <td>-1.10</td>\n",
       "    </tr>\n",
       "    <tr>\n",
       "      <th>2010-01-20</th>\n",
       "      <td>289.121307</td>\n",
       "      <td>299.885956</td>\n",
       "      <td>-10.764649</td>\n",
       "      <td>-3.72</td>\n",
       "    </tr>\n",
       "    <tr>\n",
       "      <th>2010-01-21</th>\n",
       "      <td>290.401489</td>\n",
       "      <td>299.432648</td>\n",
       "      <td>-9.031159</td>\n",
       "      <td>-3.11</td>\n",
       "    </tr>\n",
       "    <tr>\n",
       "      <th>2010-01-22</th>\n",
       "      <td>273.978058</td>\n",
       "      <td>294.137512</td>\n",
       "      <td>-20.159454</td>\n",
       "      <td>-7.36</td>\n",
       "    </tr>\n",
       "    <tr>\n",
       "      <th>2010-01-25</th>\n",
       "      <td>268.991760</td>\n",
       "      <td>292.448822</td>\n",
       "      <td>-23.457062</td>\n",
       "      <td>-8.72</td>\n",
       "    </tr>\n",
       "    <tr>\n",
       "      <th>2010-01-26</th>\n",
       "      <td>270.197235</td>\n",
       "      <td>293.823669</td>\n",
       "      <td>-23.626434</td>\n",
       "      <td>-8.74</td>\n",
       "    </tr>\n",
       "    <tr>\n",
       "      <th>2010-01-27</th>\n",
       "      <td>270.037842</td>\n",
       "      <td>288.917053</td>\n",
       "      <td>-18.879211</td>\n",
       "      <td>-6.99</td>\n",
       "    </tr>\n",
       "    <tr>\n",
       "      <th>2010-01-28</th>\n",
       "      <td>266.147400</td>\n",
       "      <td>292.712830</td>\n",
       "      <td>-26.565430</td>\n",
       "      <td>-9.98</td>\n",
       "    </tr>\n",
       "    <tr>\n",
       "      <th>2010-01-29</th>\n",
       "      <td>263.980530</td>\n",
       "      <td>289.121307</td>\n",
       "      <td>-25.140777</td>\n",
       "      <td>-9.52</td>\n",
       "    </tr>\n",
       "    <tr>\n",
       "      <th>2010-02-01</th>\n",
       "      <td>265.514771</td>\n",
       "      <td>290.401489</td>\n",
       "      <td>-24.886718</td>\n",
       "      <td>-9.37</td>\n",
       "    </tr>\n",
       "  </tbody>\n",
       "</table>\n",
       "</div>"
      ],
      "text/plain": [
       "                  Data      Data-7       Diff  %Crec\n",
       "Date                                                \n",
       "2010-01-04  312.204773         NaN        NaN    NaN\n",
       "2010-01-05  310.829926         NaN        NaN    NaN\n",
       "2010-01-06  302.994293         NaN        NaN    NaN\n",
       "2010-01-07  295.940735         NaN        NaN    NaN\n",
       "2010-01-08  299.885956         NaN        NaN    NaN\n",
       "2010-01-11  299.432648         NaN        NaN    NaN\n",
       "2010-01-12  294.137512         NaN        NaN    NaN\n",
       "2010-01-13  292.448822  312.204773 -19.755951  -6.76\n",
       "2010-01-14  293.823669  310.829926 -17.006257  -5.79\n",
       "2010-01-15  288.917053  302.994293 -14.077240  -4.87\n",
       "2010-01-19  292.712830  295.940735  -3.227905  -1.10\n",
       "2010-01-20  289.121307  299.885956 -10.764649  -3.72\n",
       "2010-01-21  290.401489  299.432648  -9.031159  -3.11\n",
       "2010-01-22  273.978058  294.137512 -20.159454  -7.36\n",
       "2010-01-25  268.991760  292.448822 -23.457062  -8.72\n",
       "2010-01-26  270.197235  293.823669 -23.626434  -8.74\n",
       "2010-01-27  270.037842  288.917053 -18.879211  -6.99\n",
       "2010-01-28  266.147400  292.712830 -26.565430  -9.98\n",
       "2010-01-29  263.980530  289.121307 -25.140777  -9.52\n",
       "2010-02-01  265.514771  290.401489 -24.886718  -9.37"
      ]
     },
     "execution_count": 82,
     "metadata": {},
     "output_type": "execute_result"
    }
   ],
   "source": [
    "goog_shift.head(20)"
   ]
  },
  {
   "cell_type": "code",
   "execution_count": 84,
   "metadata": {},
   "outputs": [
    {
     "data": {
      "image/png": "[encoded data removed]",
      "text/plain": [
       "<Figure size 640x480 with 1 Axes>"
      ]
     },
     "metadata": {},
     "output_type": "display_data"
    }
   ],
   "source": [
    "# Calcular el ROI de la inversión\n",
    "import matplotlib.pyplot as plt\n",
    "ROI = 100 * (goog - goog.shift(261)) / goog.shift(261)\n",
    "ROI.plot()\n",
    "plt.ylabel('% Return on Investment');"
   ]
  },
  {
   "attachments": {},
   "cell_type": "markdown",
   "metadata": {},
   "source": [
    "### 16. Rolling window"
   ]
  },
  {
   "cell_type": "code",
   "execution_count": 85,
   "metadata": {},
   "outputs": [],
   "source": [
    "rolling = goog.rolling(261) # 365 - weekends (aprox(52*2))"
   ]
  },
  {
   "cell_type": "code",
   "execution_count": 86,
   "metadata": {},
   "outputs": [
    {
     "data": {
      "text/plain": [
       "261"
      ]
     },
     "execution_count": 86,
     "metadata": {},
     "output_type": "execute_result"
    }
   ],
   "source": [
    "365 - 52* 2"
   ]
  },
  {
   "cell_type": "code",
   "execution_count": 87,
   "metadata": {},
   "outputs": [
    {
     "data": {
      "text/plain": [
       "Rolling [window=261,center=False,axis=0,method=single]"
      ]
     },
     "execution_count": 87,
     "metadata": {},
     "output_type": "execute_result"
    }
   ],
   "source": [
    "rolling"
   ]
  },
  {
   "cell_type": "code",
   "execution_count": 89,
   "metadata": {},
   "outputs": [
    {
     "data": {
      "image/png": "[encoded data removed]",
      "text/plain": [
       "<Figure size 640x480 with 1 Axes>"
      ]
     },
     "metadata": {},
     "output_type": "display_data"
    }
   ],
   "source": [
    "rolling = goog.rolling(261,center=False)\n",
    "\n",
    "data = pd.DataFrame({'input': goog,\n",
    "                     'one-year rolling_mean': rolling.mean(),\n",
    "                     'one-year rolling_std': rolling.std()})\n",
    "\n",
    "ax = data.plot(style=['-', '--', ':'])\n",
    "ax.lines[0].set_alpha(0.3)"
   ]
  }
 ],
 "metadata": {
  "kernelspec": {
   "display_name": "Python 3",
   "language": "python",
   "name": "python3"
  },
  "language_info": {
   "codemirror_mode": {
    "name": "ipython",
    "version": 3
   },
   "file_extension": ".py",
   "mimetype": "text/x-python",
   "name": "python",
   "nbconvert_exporter": "python",
   "pygments_lexer": "ipython3",
   "version": "3.11.9"
  }
 },
 "nbformat": 4,
 "nbformat_minor": 4
}
