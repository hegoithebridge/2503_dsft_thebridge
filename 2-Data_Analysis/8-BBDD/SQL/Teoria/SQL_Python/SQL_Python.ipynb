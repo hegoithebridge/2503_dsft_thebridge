{
 "cells": [
  {
   "cell_type": "markdown",
   "metadata": {},
   "source": [
    "![imagen](./img/python.jpg)\n",
    "\n",
    "# SQL en Python\n",
    "Podrás atacar a una base de datos SQL desde muchas plataformas/lenguajes. Por supuesto, Python es uno de ellos. Para ello **utilizaremos el módulo `sqlite3`**, que viene incluido en la suite de paquetes de Anaconda.\n",
    "\n",
    "\n",
    "1. [Configuración del entorno](#1.-Configuración-del-entorno)\n",
    "2. [Modelo de datos](#2.-Modelo-de-datos)\n",
    "3. [Queries](#3.-Queries)\n",
    "\n",
    "    3.1 [Primera query](#3.1-Primera-query)\n",
    "    \n",
    "    3.2 [SELECT](#3.2-SELECT)\n",
    "    \n",
    "    3.3 [LIMIT](#3.3-LIMIT)\n",
    "    \n",
    "    3.4 [DISTINCT](#3.4-DISTINCT)\n",
    "    \n",
    "    3.5 [WHERE](#3.5-WHERE)\n",
    "    \n",
    "    3.6 [ORDER BY](#3.6-ORDER-BY)\n",
    "    \n",
    "    3.7 [Agregaciones](#3.7-Agregaciones)\n",
    "    \n",
    "    3.8 [GROUP BY](#3.8-GROUP-BY)\n",
    "    \n",
    "    3.9 [JOIN](#3.9-JOIN)\n",
    "    \n",
    "    3.10 [VIEW y DROP](#3.10-VIEW-y-DROP)\n",
    "    \n",
    "4. [Errores](#4.-Errores)\n",
    "\n",
    "5. [Resumen](#5.-Resumen)\n"
   ]
  },
  {
   "cell_type": "markdown",
   "metadata": {},
   "source": [
    "## 1. Configuración del entorno\n",
    "En este taller usaremos también *Pandas*, que es el módulo para tratamiento de datos tabular que más se usa en Python.\n",
    "\n",
    "Importamos ambos paquetes"
   ]
  },
  {
   "cell_type": "code",
   "execution_count": 135,
   "metadata": {},
   "outputs": [],
   "source": [
    "#!pip install sqlite3"
   ]
  },
  {
   "cell_type": "code",
   "execution_count": 136,
   "metadata": {},
   "outputs": [],
   "source": [
    "#!pip install pysqlite3"
   ]
  },
  {
   "cell_type": "code",
   "execution_count": 137,
   "metadata": {},
   "outputs": [],
   "source": [
    "import pandas as pd\n",
    "import sqlite3"
   ]
  },
  {
   "cell_type": "markdown",
   "metadata": {},
   "source": [
    "Lo primero que hacemos es **establecer conexión con la base de datos**. En este taller simplemente leeremos la base de datos de un archivo, pero lo normal es que tengamos que configurar la conexión a una base de datos de la empresa. Para ello existen otras librerías como `pyodbc` en el caso de un SQLServer o `cx_Oracle`, si el servidor es Oracle.\n",
    "\n",
    "**¡Asegurate que tienes el archivo chinook.db en la ruta donde se encuentra este Notebook!**"
   ]
  },
  {
   "cell_type": "code",
   "execution_count": 138,
   "metadata": {},
   "outputs": [
    {
     "data": {
      "text/plain": [
       "'c:\\\\Users\\\\hegoi\\\\TheBridge\\\\2503_dsft_thebridge\\\\2-Data_Analysis\\\\8-BBDD\\\\SQL\\\\Teoria\\\\SQL_Python'"
      ]
     },
     "execution_count": 138,
     "metadata": {},
     "output_type": "execute_result"
    }
   ],
   "source": [
    "import os\n",
    "os.getcwd()"
   ]
  },
  {
   "cell_type": "code",
   "execution_count": 139,
   "metadata": {},
   "outputs": [],
   "source": [
    "# Conectamos con la base de datos chinook.db\n",
    "connection = sqlite3.connect(\"data/chinook.db\")\n",
    "\n",
    "# Obtenemos un cursor que utilizaremos para hacer las queries\n",
    "crsr = connection.cursor()"
   ]
  },
  {
   "cell_type": "code",
   "execution_count": 140,
   "metadata": {},
   "outputs": [],
   "source": [
    "# Con esta función leemos los datos y lo pasamos a un DataFrame de Pandas\n",
    "def sql_query(query):\n",
    "\n",
    "    # Ejecuta la query\n",
    "    crsr.execute(query)\n",
    "\n",
    "    # Almacena los datos de la query \n",
    "    ans = crsr.fetchall()\n",
    "\n",
    "    # Obtenemos los nombres de las columnas de la tabla\n",
    "    names = [description[0] for description in crsr.description]\n",
    "\n",
    "    return pd.DataFrame(ans,columns=names)"
   ]
  },
  {
   "cell_type": "markdown",
   "metadata": {},
   "source": [
    "## 2. Modelo de datos\n",
    "Antes de empezar a atacar una base de datos, tendremos que saber qué hay dentro, y para ello lo mejor es ver cómo es su **modelo de datos**\n",
    "\n",
    "![imagen](./img/chinook_data_model.png)"
   ]
  },
  {
   "cell_type": "markdown",
   "metadata": {},
   "source": [
    "Puedes ver todas las tablas que hay en la base de datos con la siguiente sentencia"
   ]
  },
  {
   "cell_type": "code",
   "execution_count": 141,
   "metadata": {},
   "outputs": [
    {
     "name": "stdout",
     "output_type": "stream",
     "text": [
      "albums\n",
      "sqlite_sequence\n",
      "artists\n",
      "customers\n",
      "employees\n",
      "genres\n",
      "invoices\n",
      "invoice_items\n",
      "media_types\n",
      "playlists\n",
      "playlist_track\n",
      "tracks\n",
      "sqlite_stat1\n",
      "films\n"
     ]
    }
   ],
   "source": [
    "res = crsr.execute(\"SELECT name FROM sqlite_master WHERE type='table'\")\n",
    "for name in res:\n",
    "    print(name[0])"
   ]
  },
  {
   "cell_type": "markdown",
   "metadata": {},
   "source": [
    "## 3. Queries\n",
    "En las *queries* o consultas, escribiremos nuestra sentencia SQL para poder traernos datos de la base de datos. Las queries tienen esta pinta:\n",
    "\n",
    "```SQL\n",
    "SELECT campo1, campo2, campo3...\n",
    "FROM tabla\n",
    "WHERE condiciones\n",
    "```\n",
    "\n",
    "Por supuesto, hay más sentencias propias de SQL que iremos viendo a lo largo del Notebook. Fíjate que las **palabras reservadas en SQL se suelen poner en mayúsculas**, para diferenciarlas del resto. No da error si se pone de otra manera, ya que SQL **no es *case sensitive***, pero sí se suele hacer así."
   ]
  },
  {
   "cell_type": "markdown",
   "metadata": {},
   "source": [
    "### 3.1 Primera query"
   ]
  },
  {
   "cell_type": "code",
   "execution_count": 142,
   "metadata": {},
   "outputs": [
    {
     "data": {
      "application/vnd.microsoft.datawrangler.viewer.v0+json": {
       "columns": [
        {
         "name": "index",
         "rawType": "int64",
         "type": "integer"
        },
        {
         "name": "TrackId",
         "rawType": "int64",
         "type": "integer"
        },
        {
         "name": "Name",
         "rawType": "object",
         "type": "string"
        },
        {
         "name": "AlbumId",
         "rawType": "int64",
         "type": "integer"
        },
        {
         "name": "MediaTypeId",
         "rawType": "int64",
         "type": "integer"
        },
        {
         "name": "GenreId",
         "rawType": "int64",
         "type": "integer"
        },
        {
         "name": "Composer",
         "rawType": "object",
         "type": "unknown"
        },
        {
         "name": "Milliseconds",
         "rawType": "int64",
         "type": "integer"
        },
        {
         "name": "Bytes",
         "rawType": "int64",
         "type": "integer"
        },
        {
         "name": "UnitPrice",
         "rawType": "float64",
         "type": "float"
        }
       ],
       "conversionMethod": "pd.DataFrame",
       "ref": "c2a8b487-32e6-4e1a-885b-c4112885ab0a",
       "rows": [
        [
         "0",
         "1",
         "For Those About To Rock (We Salute You)",
         "1",
         "1",
         "1",
         "Angus Young, Malcolm Young, Brian Johnson",
         "343719",
         "11170334",
         "0.99"
        ],
        [
         "1",
         "2",
         "Balls to the Wall",
         "2",
         "2",
         "1",
         null,
         "342562",
         "5510424",
         "0.99"
        ],
        [
         "2",
         "3",
         "Fast As a Shark",
         "3",
         "2",
         "1",
         "F. Baltes, S. Kaufman, U. Dirkscneider & W. Hoffman",
         "230619",
         "3990994",
         "0.99"
        ],
        [
         "3",
         "4",
         "Restless and Wild",
         "3",
         "2",
         "1",
         "F. Baltes, R.A. Smith-Diesel, S. Kaufman, U. Dirkscneider & W. Hoffman",
         "252051",
         "4331779",
         "0.99"
        ],
        [
         "4",
         "5",
         "Princess of the Dawn",
         "3",
         "2",
         "1",
         "Deaffy & R.A. Smith-Diesel",
         "375418",
         "6290521",
         "0.99"
        ],
        [
         "5",
         "6",
         "Put The Finger On You",
         "1",
         "1",
         "1",
         "Angus Young, Malcolm Young, Brian Johnson",
         "205662",
         "6713451",
         "0.99"
        ],
        [
         "6",
         "7",
         "Let's Get It Up",
         "1",
         "1",
         "1",
         "Angus Young, Malcolm Young, Brian Johnson",
         "233926",
         "7636561",
         "0.99"
        ],
        [
         "7",
         "8",
         "Inject The Venom",
         "1",
         "1",
         "1",
         "Angus Young, Malcolm Young, Brian Johnson",
         "210834",
         "6852860",
         "0.99"
        ],
        [
         "8",
         "9",
         "Snowballed",
         "1",
         "1",
         "1",
         "Angus Young, Malcolm Young, Brian Johnson",
         "203102",
         "6599424",
         "0.99"
        ],
        [
         "9",
         "10",
         "Evil Walks",
         "1",
         "1",
         "1",
         "Angus Young, Malcolm Young, Brian Johnson",
         "263497",
         "8611245",
         "0.99"
        ],
        [
         "10",
         "11",
         "C.O.D.",
         "1",
         "1",
         "1",
         "Angus Young, Malcolm Young, Brian Johnson",
         "199836",
         "6566314",
         "0.99"
        ],
        [
         "11",
         "12",
         "Breaking The Rules",
         "1",
         "1",
         "1",
         "Angus Young, Malcolm Young, Brian Johnson",
         "263288",
         "8596840",
         "0.99"
        ],
        [
         "12",
         "13",
         "Night Of The Long Knives",
         "1",
         "1",
         "1",
         "Angus Young, Malcolm Young, Brian Johnson",
         "205688",
         "6706347",
         "0.99"
        ],
        [
         "13",
         "14",
         "Spellbound",
         "1",
         "1",
         "1",
         "Angus Young, Malcolm Young, Brian Johnson",
         "270863",
         "8817038",
         "0.99"
        ],
        [
         "14",
         "15",
         "Go Down",
         "4",
         "1",
         "1",
         "AC/DC",
         "331180",
         "10847611",
         "0.99"
        ],
        [
         "15",
         "16",
         "Dog Eat Dog",
         "4",
         "1",
         "1",
         "AC/DC",
         "215196",
         "7032162",
         "0.99"
        ],
        [
         "16",
         "17",
         "Let There Be Rock",
         "4",
         "1",
         "1",
         "AC/DC",
         "366654",
         "12021261",
         "0.99"
        ],
        [
         "17",
         "18",
         "Bad Boy Boogie",
         "4",
         "1",
         "1",
         "AC/DC",
         "267728",
         "8776140",
         "0.99"
        ],
        [
         "18",
         "19",
         "Problem Child",
         "4",
         "1",
         "1",
         "AC/DC",
         "325041",
         "10617116",
         "0.99"
        ],
        [
         "19",
         "20",
         "Overdose",
         "4",
         "1",
         "1",
         "AC/DC",
         "369319",
         "12066294",
         "0.99"
        ],
        [
         "20",
         "21",
         "Hell Ain't A Bad Place To Be",
         "4",
         "1",
         "1",
         "AC/DC",
         "254380",
         "8331286",
         "0.99"
        ],
        [
         "21",
         "22",
         "Whole Lotta Rosie",
         "4",
         "1",
         "1",
         "AC/DC",
         "323761",
         "10547154",
         "0.99"
        ],
        [
         "22",
         "23",
         "Walk On Water",
         "5",
         "1",
         "1",
         "Steven Tyler, Joe Perry, Jack Blades, Tommy Shaw",
         "295680",
         "9719579",
         "0.99"
        ],
        [
         "23",
         "24",
         "Love In An Elevator",
         "5",
         "1",
         "1",
         "Steven Tyler, Joe Perry",
         "321828",
         "10552051",
         "0.99"
        ],
        [
         "24",
         "25",
         "Rag Doll",
         "5",
         "1",
         "1",
         "Steven Tyler, Joe Perry, Jim Vallance, Holly Knight",
         "264698",
         "8675345",
         "0.99"
        ],
        [
         "25",
         "26",
         "What It Takes",
         "5",
         "1",
         "1",
         "Steven Tyler, Joe Perry, Desmond Child",
         "310622",
         "10144730",
         "0.99"
        ],
        [
         "26",
         "27",
         "Dude (Looks Like A Lady)",
         "5",
         "1",
         "1",
         "Steven Tyler, Joe Perry, Desmond Child",
         "264855",
         "8679940",
         "0.99"
        ],
        [
         "27",
         "28",
         "Janie's Got A Gun",
         "5",
         "1",
         "1",
         "Steven Tyler, Tom Hamilton",
         "330736",
         "10869391",
         "0.99"
        ],
        [
         "28",
         "29",
         "Cryin'",
         "5",
         "1",
         "1",
         "Steven Tyler, Joe Perry, Taylor Rhodes",
         "309263",
         "10056995",
         "0.99"
        ],
        [
         "29",
         "30",
         "Amazing",
         "5",
         "1",
         "1",
         "Steven Tyler, Richie Supa",
         "356519",
         "11616195",
         "0.99"
        ],
        [
         "30",
         "31",
         "Blind Man",
         "5",
         "1",
         "1",
         "Steven Tyler, Joe Perry, Taylor Rhodes",
         "240718",
         "7877453",
         "0.99"
        ],
        [
         "31",
         "32",
         "Deuces Are Wild",
         "5",
         "1",
         "1",
         "Steven Tyler, Jim Vallance",
         "215875",
         "7074167",
         "0.99"
        ],
        [
         "32",
         "33",
         "The Other Side",
         "5",
         "1",
         "1",
         "Steven Tyler, Jim Vallance",
         "244375",
         "7983270",
         "0.99"
        ],
        [
         "33",
         "34",
         "Crazy",
         "5",
         "1",
         "1",
         "Steven Tyler, Joe Perry, Desmond Child",
         "316656",
         "10402398",
         "0.99"
        ],
        [
         "34",
         "35",
         "Eat The Rich",
         "5",
         "1",
         "1",
         "Steven Tyler, Joe Perry, Jim Vallance",
         "251036",
         "8262039",
         "0.99"
        ],
        [
         "35",
         "36",
         "Angel",
         "5",
         "1",
         "1",
         "Steven Tyler, Desmond Child",
         "307617",
         "9989331",
         "0.99"
        ],
        [
         "36",
         "37",
         "Livin' On The Edge",
         "5",
         "1",
         "1",
         "Steven Tyler, Joe Perry, Mark Hudson",
         "381231",
         "12374569",
         "0.99"
        ],
        [
         "37",
         "38",
         "All I Really Want",
         "6",
         "1",
         "1",
         "Alanis Morissette & Glenn Ballard",
         "284891",
         "9375567",
         "0.99"
        ],
        [
         "38",
         "39",
         "You Oughta Know",
         "6",
         "1",
         "1",
         "Alanis Morissette & Glenn Ballard",
         "249234",
         "8196916",
         "0.99"
        ],
        [
         "39",
         "40",
         "Perfect",
         "6",
         "1",
         "1",
         "Alanis Morissette & Glenn Ballard",
         "188133",
         "6145404",
         "0.99"
        ],
        [
         "40",
         "41",
         "Hand In My Pocket",
         "6",
         "1",
         "1",
         "Alanis Morissette & Glenn Ballard",
         "221570",
         "7224246",
         "0.99"
        ],
        [
         "41",
         "42",
         "Right Through You",
         "6",
         "1",
         "1",
         "Alanis Morissette & Glenn Ballard",
         "176117",
         "5793082",
         "0.99"
        ],
        [
         "42",
         "43",
         "Forgiven",
         "6",
         "1",
         "1",
         "Alanis Morissette & Glenn Ballard",
         "300355",
         "9753256",
         "0.99"
        ],
        [
         "43",
         "44",
         "You Learn",
         "6",
         "1",
         "1",
         "Alanis Morissette & Glenn Ballard",
         "239699",
         "7824837",
         "0.99"
        ],
        [
         "44",
         "45",
         "Head Over Feet",
         "6",
         "1",
         "1",
         "Alanis Morissette & Glenn Ballard",
         "267493",
         "8758008",
         "0.99"
        ],
        [
         "45",
         "46",
         "Mary Jane",
         "6",
         "1",
         "1",
         "Alanis Morissette & Glenn Ballard",
         "280607",
         "9163588",
         "0.99"
        ],
        [
         "46",
         "47",
         "Ironic",
         "6",
         "1",
         "1",
         "Alanis Morissette & Glenn Ballard",
         "229825",
         "7598866",
         "0.99"
        ],
        [
         "47",
         "48",
         "Not The Doctor",
         "6",
         "1",
         "1",
         "Alanis Morissette & Glenn Ballard",
         "227631",
         "7604601",
         "0.99"
        ],
        [
         "48",
         "49",
         "Wake Up",
         "6",
         "1",
         "1",
         "Alanis Morissette & Glenn Ballard",
         "293485",
         "9703359",
         "0.99"
        ],
        [
         "49",
         "50",
         "You Oughta Know (Alternate)",
         "6",
         "1",
         "1",
         "Alanis Morissette & Glenn Ballard",
         "491885",
         "16008629",
         "0.99"
        ]
       ],
       "shape": {
        "columns": 9,
        "rows": 3503
       }
      },
      "text/html": [
       "<div>\n",
       "<style scoped>\n",
       "    .dataframe tbody tr th:only-of-type {\n",
       "        vertical-align: middle;\n",
       "    }\n",
       "\n",
       "    .dataframe tbody tr th {\n",
       "        vertical-align: top;\n",
       "    }\n",
       "\n",
       "    .dataframe thead th {\n",
       "        text-align: right;\n",
       "    }\n",
       "</style>\n",
       "<table border=\"1\" class=\"dataframe\">\n",
       "  <thead>\n",
       "    <tr style=\"text-align: right;\">\n",
       "      <th></th>\n",
       "      <th>TrackId</th>\n",
       "      <th>Name</th>\n",
       "      <th>AlbumId</th>\n",
       "      <th>MediaTypeId</th>\n",
       "      <th>GenreId</th>\n",
       "      <th>Composer</th>\n",
       "      <th>Milliseconds</th>\n",
       "      <th>Bytes</th>\n",
       "      <th>UnitPrice</th>\n",
       "    </tr>\n",
       "  </thead>\n",
       "  <tbody>\n",
       "    <tr>\n",
       "      <th>0</th>\n",
       "      <td>1</td>\n",
       "      <td>For Those About To Rock (We Salute You)</td>\n",
       "      <td>1</td>\n",
       "      <td>1</td>\n",
       "      <td>1</td>\n",
       "      <td>Angus Young, Malcolm Young, Brian Johnson</td>\n",
       "      <td>343719</td>\n",
       "      <td>11170334</td>\n",
       "      <td>0.99</td>\n",
       "    </tr>\n",
       "    <tr>\n",
       "      <th>1</th>\n",
       "      <td>2</td>\n",
       "      <td>Balls to the Wall</td>\n",
       "      <td>2</td>\n",
       "      <td>2</td>\n",
       "      <td>1</td>\n",
       "      <td>None</td>\n",
       "      <td>342562</td>\n",
       "      <td>5510424</td>\n",
       "      <td>0.99</td>\n",
       "    </tr>\n",
       "    <tr>\n",
       "      <th>2</th>\n",
       "      <td>3</td>\n",
       "      <td>Fast As a Shark</td>\n",
       "      <td>3</td>\n",
       "      <td>2</td>\n",
       "      <td>1</td>\n",
       "      <td>F. Baltes, S. Kaufman, U. Dirkscneider &amp; W. Ho...</td>\n",
       "      <td>230619</td>\n",
       "      <td>3990994</td>\n",
       "      <td>0.99</td>\n",
       "    </tr>\n",
       "    <tr>\n",
       "      <th>3</th>\n",
       "      <td>4</td>\n",
       "      <td>Restless and Wild</td>\n",
       "      <td>3</td>\n",
       "      <td>2</td>\n",
       "      <td>1</td>\n",
       "      <td>F. Baltes, R.A. Smith-Diesel, S. Kaufman, U. D...</td>\n",
       "      <td>252051</td>\n",
       "      <td>4331779</td>\n",
       "      <td>0.99</td>\n",
       "    </tr>\n",
       "    <tr>\n",
       "      <th>4</th>\n",
       "      <td>5</td>\n",
       "      <td>Princess of the Dawn</td>\n",
       "      <td>3</td>\n",
       "      <td>2</td>\n",
       "      <td>1</td>\n",
       "      <td>Deaffy &amp; R.A. Smith-Diesel</td>\n",
       "      <td>375418</td>\n",
       "      <td>6290521</td>\n",
       "      <td>0.99</td>\n",
       "    </tr>\n",
       "    <tr>\n",
       "      <th>...</th>\n",
       "      <td>...</td>\n",
       "      <td>...</td>\n",
       "      <td>...</td>\n",
       "      <td>...</td>\n",
       "      <td>...</td>\n",
       "      <td>...</td>\n",
       "      <td>...</td>\n",
       "      <td>...</td>\n",
       "      <td>...</td>\n",
       "    </tr>\n",
       "    <tr>\n",
       "      <th>3498</th>\n",
       "      <td>3499</td>\n",
       "      <td>Pini Di Roma (Pinien Von Rom) \\ I Pini Della V...</td>\n",
       "      <td>343</td>\n",
       "      <td>2</td>\n",
       "      <td>24</td>\n",
       "      <td>None</td>\n",
       "      <td>286741</td>\n",
       "      <td>4718950</td>\n",
       "      <td>0.99</td>\n",
       "    </tr>\n",
       "    <tr>\n",
       "      <th>3499</th>\n",
       "      <td>3500</td>\n",
       "      <td>String Quartet No. 12 in C Minor, D. 703 \"Quar...</td>\n",
       "      <td>344</td>\n",
       "      <td>2</td>\n",
       "      <td>24</td>\n",
       "      <td>Franz Schubert</td>\n",
       "      <td>139200</td>\n",
       "      <td>2283131</td>\n",
       "      <td>0.99</td>\n",
       "    </tr>\n",
       "    <tr>\n",
       "      <th>3500</th>\n",
       "      <td>3501</td>\n",
       "      <td>L'orfeo, Act 3, Sinfonia (Orchestra)</td>\n",
       "      <td>345</td>\n",
       "      <td>2</td>\n",
       "      <td>24</td>\n",
       "      <td>Claudio Monteverdi</td>\n",
       "      <td>66639</td>\n",
       "      <td>1189062</td>\n",
       "      <td>0.99</td>\n",
       "    </tr>\n",
       "    <tr>\n",
       "      <th>3501</th>\n",
       "      <td>3502</td>\n",
       "      <td>Quintet for Horn, Violin, 2 Violas, and Cello ...</td>\n",
       "      <td>346</td>\n",
       "      <td>2</td>\n",
       "      <td>24</td>\n",
       "      <td>Wolfgang Amadeus Mozart</td>\n",
       "      <td>221331</td>\n",
       "      <td>3665114</td>\n",
       "      <td>0.99</td>\n",
       "    </tr>\n",
       "    <tr>\n",
       "      <th>3502</th>\n",
       "      <td>3503</td>\n",
       "      <td>Koyaanisqatsi</td>\n",
       "      <td>347</td>\n",
       "      <td>2</td>\n",
       "      <td>10</td>\n",
       "      <td>Philip Glass</td>\n",
       "      <td>206005</td>\n",
       "      <td>3305164</td>\n",
       "      <td>0.99</td>\n",
       "    </tr>\n",
       "  </tbody>\n",
       "</table>\n",
       "<p>3503 rows × 9 columns</p>\n",
       "</div>"
      ],
      "text/plain": [
       "      TrackId                                               Name  AlbumId  \\\n",
       "0           1            For Those About To Rock (We Salute You)        1   \n",
       "1           2                                  Balls to the Wall        2   \n",
       "2           3                                    Fast As a Shark        3   \n",
       "3           4                                  Restless and Wild        3   \n",
       "4           5                               Princess of the Dawn        3   \n",
       "...       ...                                                ...      ...   \n",
       "3498     3499  Pini Di Roma (Pinien Von Rom) \\ I Pini Della V...      343   \n",
       "3499     3500  String Quartet No. 12 in C Minor, D. 703 \"Quar...      344   \n",
       "3500     3501               L'orfeo, Act 3, Sinfonia (Orchestra)      345   \n",
       "3501     3502  Quintet for Horn, Violin, 2 Violas, and Cello ...      346   \n",
       "3502     3503                                      Koyaanisqatsi      347   \n",
       "\n",
       "      MediaTypeId  GenreId                                           Composer  \\\n",
       "0               1        1          Angus Young, Malcolm Young, Brian Johnson   \n",
       "1               2        1                                               None   \n",
       "2               2        1  F. Baltes, S. Kaufman, U. Dirkscneider & W. Ho...   \n",
       "3               2        1  F. Baltes, R.A. Smith-Diesel, S. Kaufman, U. D...   \n",
       "4               2        1                         Deaffy & R.A. Smith-Diesel   \n",
       "...           ...      ...                                                ...   \n",
       "3498            2       24                                               None   \n",
       "3499            2       24                                     Franz Schubert   \n",
       "3500            2       24                                 Claudio Monteverdi   \n",
       "3501            2       24                            Wolfgang Amadeus Mozart   \n",
       "3502            2       10                                       Philip Glass   \n",
       "\n",
       "      Milliseconds     Bytes  UnitPrice  \n",
       "0           343719  11170334       0.99  \n",
       "1           342562   5510424       0.99  \n",
       "2           230619   3990994       0.99  \n",
       "3           252051   4331779       0.99  \n",
       "4           375418   6290521       0.99  \n",
       "...            ...       ...        ...  \n",
       "3498        286741   4718950       0.99  \n",
       "3499        139200   2283131       0.99  \n",
       "3500         66639   1189062       0.99  \n",
       "3501        221331   3665114       0.99  \n",
       "3502        206005   3305164       0.99  \n",
       "\n",
       "[3503 rows x 9 columns]"
      ]
     },
     "execution_count": 142,
     "metadata": {},
     "output_type": "execute_result"
    }
   ],
   "source": [
    "query = '''\n",
    "SELECT * \n",
    "FROM tracks\n",
    "'''\n",
    "\n",
    "df = sql_query(query)\n",
    "df"
   ]
  },
  {
   "cell_type": "code",
   "execution_count": 143,
   "metadata": {},
   "outputs": [
    {
     "data": {
      "application/vnd.microsoft.datawrangler.viewer.v0+json": {
       "columns": [
        {
         "name": "index",
         "rawType": "int64",
         "type": "integer"
        },
        {
         "name": "TrackId",
         "rawType": "int64",
         "type": "integer"
        },
        {
         "name": "Name",
         "rawType": "object",
         "type": "string"
        },
        {
         "name": "AlbumId",
         "rawType": "int64",
         "type": "integer"
        },
        {
         "name": "MediaTypeId",
         "rawType": "int64",
         "type": "integer"
        },
        {
         "name": "GenreId",
         "rawType": "int64",
         "type": "integer"
        },
        {
         "name": "Composer",
         "rawType": "object",
         "type": "unknown"
        },
        {
         "name": "Milliseconds",
         "rawType": "int64",
         "type": "integer"
        },
        {
         "name": "Bytes",
         "rawType": "int64",
         "type": "integer"
        },
        {
         "name": "UnitPrice",
         "rawType": "float64",
         "type": "float"
        }
       ],
       "conversionMethod": "pd.DataFrame",
       "ref": "b565abb3-27b2-47b9-bfa5-5cc5a7d5ff07",
       "rows": [
        [
         "0",
         "1",
         "For Those About To Rock (We Salute You)",
         "1",
         "1",
         "1",
         "Angus Young, Malcolm Young, Brian Johnson",
         "343719",
         "11170334",
         "0.99"
        ],
        [
         "1",
         "2",
         "Balls to the Wall",
         "2",
         "2",
         "1",
         null,
         "342562",
         "5510424",
         "0.99"
        ],
        [
         "2",
         "3",
         "Fast As a Shark",
         "3",
         "2",
         "1",
         "F. Baltes, S. Kaufman, U. Dirkscneider & W. Hoffman",
         "230619",
         "3990994",
         "0.99"
        ],
        [
         "3",
         "4",
         "Restless and Wild",
         "3",
         "2",
         "1",
         "F. Baltes, R.A. Smith-Diesel, S. Kaufman, U. Dirkscneider & W. Hoffman",
         "252051",
         "4331779",
         "0.99"
        ],
        [
         "4",
         "5",
         "Princess of the Dawn",
         "3",
         "2",
         "1",
         "Deaffy & R.A. Smith-Diesel",
         "375418",
         "6290521",
         "0.99"
        ],
        [
         "5",
         "6",
         "Put The Finger On You",
         "1",
         "1",
         "1",
         "Angus Young, Malcolm Young, Brian Johnson",
         "205662",
         "6713451",
         "0.99"
        ],
        [
         "6",
         "7",
         "Let's Get It Up",
         "1",
         "1",
         "1",
         "Angus Young, Malcolm Young, Brian Johnson",
         "233926",
         "7636561",
         "0.99"
        ],
        [
         "7",
         "8",
         "Inject The Venom",
         "1",
         "1",
         "1",
         "Angus Young, Malcolm Young, Brian Johnson",
         "210834",
         "6852860",
         "0.99"
        ],
        [
         "8",
         "9",
         "Snowballed",
         "1",
         "1",
         "1",
         "Angus Young, Malcolm Young, Brian Johnson",
         "203102",
         "6599424",
         "0.99"
        ],
        [
         "9",
         "10",
         "Evil Walks",
         "1",
         "1",
         "1",
         "Angus Young, Malcolm Young, Brian Johnson",
         "263497",
         "8611245",
         "0.99"
        ],
        [
         "10",
         "11",
         "C.O.D.",
         "1",
         "1",
         "1",
         "Angus Young, Malcolm Young, Brian Johnson",
         "199836",
         "6566314",
         "0.99"
        ],
        [
         "11",
         "12",
         "Breaking The Rules",
         "1",
         "1",
         "1",
         "Angus Young, Malcolm Young, Brian Johnson",
         "263288",
         "8596840",
         "0.99"
        ],
        [
         "12",
         "13",
         "Night Of The Long Knives",
         "1",
         "1",
         "1",
         "Angus Young, Malcolm Young, Brian Johnson",
         "205688",
         "6706347",
         "0.99"
        ],
        [
         "13",
         "14",
         "Spellbound",
         "1",
         "1",
         "1",
         "Angus Young, Malcolm Young, Brian Johnson",
         "270863",
         "8817038",
         "0.99"
        ],
        [
         "14",
         "15",
         "Go Down",
         "4",
         "1",
         "1",
         "AC/DC",
         "331180",
         "10847611",
         "0.99"
        ],
        [
         "15",
         "16",
         "Dog Eat Dog",
         "4",
         "1",
         "1",
         "AC/DC",
         "215196",
         "7032162",
         "0.99"
        ],
        [
         "16",
         "17",
         "Let There Be Rock",
         "4",
         "1",
         "1",
         "AC/DC",
         "366654",
         "12021261",
         "0.99"
        ],
        [
         "17",
         "18",
         "Bad Boy Boogie",
         "4",
         "1",
         "1",
         "AC/DC",
         "267728",
         "8776140",
         "0.99"
        ],
        [
         "18",
         "19",
         "Problem Child",
         "4",
         "1",
         "1",
         "AC/DC",
         "325041",
         "10617116",
         "0.99"
        ],
        [
         "19",
         "20",
         "Overdose",
         "4",
         "1",
         "1",
         "AC/DC",
         "369319",
         "12066294",
         "0.99"
        ],
        [
         "20",
         "21",
         "Hell Ain't A Bad Place To Be",
         "4",
         "1",
         "1",
         "AC/DC",
         "254380",
         "8331286",
         "0.99"
        ],
        [
         "21",
         "22",
         "Whole Lotta Rosie",
         "4",
         "1",
         "1",
         "AC/DC",
         "323761",
         "10547154",
         "0.99"
        ],
        [
         "22",
         "23",
         "Walk On Water",
         "5",
         "1",
         "1",
         "Steven Tyler, Joe Perry, Jack Blades, Tommy Shaw",
         "295680",
         "9719579",
         "0.99"
        ],
        [
         "23",
         "24",
         "Love In An Elevator",
         "5",
         "1",
         "1",
         "Steven Tyler, Joe Perry",
         "321828",
         "10552051",
         "0.99"
        ],
        [
         "24",
         "25",
         "Rag Doll",
         "5",
         "1",
         "1",
         "Steven Tyler, Joe Perry, Jim Vallance, Holly Knight",
         "264698",
         "8675345",
         "0.99"
        ],
        [
         "25",
         "26",
         "What It Takes",
         "5",
         "1",
         "1",
         "Steven Tyler, Joe Perry, Desmond Child",
         "310622",
         "10144730",
         "0.99"
        ],
        [
         "26",
         "27",
         "Dude (Looks Like A Lady)",
         "5",
         "1",
         "1",
         "Steven Tyler, Joe Perry, Desmond Child",
         "264855",
         "8679940",
         "0.99"
        ],
        [
         "27",
         "28",
         "Janie's Got A Gun",
         "5",
         "1",
         "1",
         "Steven Tyler, Tom Hamilton",
         "330736",
         "10869391",
         "0.99"
        ],
        [
         "28",
         "29",
         "Cryin'",
         "5",
         "1",
         "1",
         "Steven Tyler, Joe Perry, Taylor Rhodes",
         "309263",
         "10056995",
         "0.99"
        ],
        [
         "29",
         "30",
         "Amazing",
         "5",
         "1",
         "1",
         "Steven Tyler, Richie Supa",
         "356519",
         "11616195",
         "0.99"
        ],
        [
         "30",
         "31",
         "Blind Man",
         "5",
         "1",
         "1",
         "Steven Tyler, Joe Perry, Taylor Rhodes",
         "240718",
         "7877453",
         "0.99"
        ],
        [
         "31",
         "32",
         "Deuces Are Wild",
         "5",
         "1",
         "1",
         "Steven Tyler, Jim Vallance",
         "215875",
         "7074167",
         "0.99"
        ],
        [
         "32",
         "33",
         "The Other Side",
         "5",
         "1",
         "1",
         "Steven Tyler, Jim Vallance",
         "244375",
         "7983270",
         "0.99"
        ],
        [
         "33",
         "34",
         "Crazy",
         "5",
         "1",
         "1",
         "Steven Tyler, Joe Perry, Desmond Child",
         "316656",
         "10402398",
         "0.99"
        ],
        [
         "34",
         "35",
         "Eat The Rich",
         "5",
         "1",
         "1",
         "Steven Tyler, Joe Perry, Jim Vallance",
         "251036",
         "8262039",
         "0.99"
        ],
        [
         "35",
         "36",
         "Angel",
         "5",
         "1",
         "1",
         "Steven Tyler, Desmond Child",
         "307617",
         "9989331",
         "0.99"
        ],
        [
         "36",
         "37",
         "Livin' On The Edge",
         "5",
         "1",
         "1",
         "Steven Tyler, Joe Perry, Mark Hudson",
         "381231",
         "12374569",
         "0.99"
        ],
        [
         "37",
         "38",
         "All I Really Want",
         "6",
         "1",
         "1",
         "Alanis Morissette & Glenn Ballard",
         "284891",
         "9375567",
         "0.99"
        ],
        [
         "38",
         "39",
         "You Oughta Know",
         "6",
         "1",
         "1",
         "Alanis Morissette & Glenn Ballard",
         "249234",
         "8196916",
         "0.99"
        ],
        [
         "39",
         "40",
         "Perfect",
         "6",
         "1",
         "1",
         "Alanis Morissette & Glenn Ballard",
         "188133",
         "6145404",
         "0.99"
        ],
        [
         "40",
         "41",
         "Hand In My Pocket",
         "6",
         "1",
         "1",
         "Alanis Morissette & Glenn Ballard",
         "221570",
         "7224246",
         "0.99"
        ],
        [
         "41",
         "42",
         "Right Through You",
         "6",
         "1",
         "1",
         "Alanis Morissette & Glenn Ballard",
         "176117",
         "5793082",
         "0.99"
        ],
        [
         "42",
         "43",
         "Forgiven",
         "6",
         "1",
         "1",
         "Alanis Morissette & Glenn Ballard",
         "300355",
         "9753256",
         "0.99"
        ],
        [
         "43",
         "44",
         "You Learn",
         "6",
         "1",
         "1",
         "Alanis Morissette & Glenn Ballard",
         "239699",
         "7824837",
         "0.99"
        ],
        [
         "44",
         "45",
         "Head Over Feet",
         "6",
         "1",
         "1",
         "Alanis Morissette & Glenn Ballard",
         "267493",
         "8758008",
         "0.99"
        ],
        [
         "45",
         "46",
         "Mary Jane",
         "6",
         "1",
         "1",
         "Alanis Morissette & Glenn Ballard",
         "280607",
         "9163588",
         "0.99"
        ],
        [
         "46",
         "47",
         "Ironic",
         "6",
         "1",
         "1",
         "Alanis Morissette & Glenn Ballard",
         "229825",
         "7598866",
         "0.99"
        ],
        [
         "47",
         "48",
         "Not The Doctor",
         "6",
         "1",
         "1",
         "Alanis Morissette & Glenn Ballard",
         "227631",
         "7604601",
         "0.99"
        ],
        [
         "48",
         "49",
         "Wake Up",
         "6",
         "1",
         "1",
         "Alanis Morissette & Glenn Ballard",
         "293485",
         "9703359",
         "0.99"
        ],
        [
         "49",
         "50",
         "You Oughta Know (Alternate)",
         "6",
         "1",
         "1",
         "Alanis Morissette & Glenn Ballard",
         "491885",
         "16008629",
         "0.99"
        ]
       ],
       "shape": {
        "columns": 9,
        "rows": 3503
       }
      },
      "text/html": [
       "<div>\n",
       "<style scoped>\n",
       "    .dataframe tbody tr th:only-of-type {\n",
       "        vertical-align: middle;\n",
       "    }\n",
       "\n",
       "    .dataframe tbody tr th {\n",
       "        vertical-align: top;\n",
       "    }\n",
       "\n",
       "    .dataframe thead th {\n",
       "        text-align: right;\n",
       "    }\n",
       "</style>\n",
       "<table border=\"1\" class=\"dataframe\">\n",
       "  <thead>\n",
       "    <tr style=\"text-align: right;\">\n",
       "      <th></th>\n",
       "      <th>TrackId</th>\n",
       "      <th>Name</th>\n",
       "      <th>AlbumId</th>\n",
       "      <th>MediaTypeId</th>\n",
       "      <th>GenreId</th>\n",
       "      <th>Composer</th>\n",
       "      <th>Milliseconds</th>\n",
       "      <th>Bytes</th>\n",
       "      <th>UnitPrice</th>\n",
       "    </tr>\n",
       "  </thead>\n",
       "  <tbody>\n",
       "    <tr>\n",
       "      <th>0</th>\n",
       "      <td>1</td>\n",
       "      <td>For Those About To Rock (We Salute You)</td>\n",
       "      <td>1</td>\n",
       "      <td>1</td>\n",
       "      <td>1</td>\n",
       "      <td>Angus Young, Malcolm Young, Brian Johnson</td>\n",
       "      <td>343719</td>\n",
       "      <td>11170334</td>\n",
       "      <td>0.99</td>\n",
       "    </tr>\n",
       "    <tr>\n",
       "      <th>1</th>\n",
       "      <td>2</td>\n",
       "      <td>Balls to the Wall</td>\n",
       "      <td>2</td>\n",
       "      <td>2</td>\n",
       "      <td>1</td>\n",
       "      <td>None</td>\n",
       "      <td>342562</td>\n",
       "      <td>5510424</td>\n",
       "      <td>0.99</td>\n",
       "    </tr>\n",
       "    <tr>\n",
       "      <th>2</th>\n",
       "      <td>3</td>\n",
       "      <td>Fast As a Shark</td>\n",
       "      <td>3</td>\n",
       "      <td>2</td>\n",
       "      <td>1</td>\n",
       "      <td>F. Baltes, S. Kaufman, U. Dirkscneider &amp; W. Ho...</td>\n",
       "      <td>230619</td>\n",
       "      <td>3990994</td>\n",
       "      <td>0.99</td>\n",
       "    </tr>\n",
       "    <tr>\n",
       "      <th>3</th>\n",
       "      <td>4</td>\n",
       "      <td>Restless and Wild</td>\n",
       "      <td>3</td>\n",
       "      <td>2</td>\n",
       "      <td>1</td>\n",
       "      <td>F. Baltes, R.A. Smith-Diesel, S. Kaufman, U. D...</td>\n",
       "      <td>252051</td>\n",
       "      <td>4331779</td>\n",
       "      <td>0.99</td>\n",
       "    </tr>\n",
       "    <tr>\n",
       "      <th>4</th>\n",
       "      <td>5</td>\n",
       "      <td>Princess of the Dawn</td>\n",
       "      <td>3</td>\n",
       "      <td>2</td>\n",
       "      <td>1</td>\n",
       "      <td>Deaffy &amp; R.A. Smith-Diesel</td>\n",
       "      <td>375418</td>\n",
       "      <td>6290521</td>\n",
       "      <td>0.99</td>\n",
       "    </tr>\n",
       "    <tr>\n",
       "      <th>...</th>\n",
       "      <td>...</td>\n",
       "      <td>...</td>\n",
       "      <td>...</td>\n",
       "      <td>...</td>\n",
       "      <td>...</td>\n",
       "      <td>...</td>\n",
       "      <td>...</td>\n",
       "      <td>...</td>\n",
       "      <td>...</td>\n",
       "    </tr>\n",
       "    <tr>\n",
       "      <th>3498</th>\n",
       "      <td>3499</td>\n",
       "      <td>Pini Di Roma (Pinien Von Rom) \\ I Pini Della V...</td>\n",
       "      <td>343</td>\n",
       "      <td>2</td>\n",
       "      <td>24</td>\n",
       "      <td>None</td>\n",
       "      <td>286741</td>\n",
       "      <td>4718950</td>\n",
       "      <td>0.99</td>\n",
       "    </tr>\n",
       "    <tr>\n",
       "      <th>3499</th>\n",
       "      <td>3500</td>\n",
       "      <td>String Quartet No. 12 in C Minor, D. 703 \"Quar...</td>\n",
       "      <td>344</td>\n",
       "      <td>2</td>\n",
       "      <td>24</td>\n",
       "      <td>Franz Schubert</td>\n",
       "      <td>139200</td>\n",
       "      <td>2283131</td>\n",
       "      <td>0.99</td>\n",
       "    </tr>\n",
       "    <tr>\n",
       "      <th>3500</th>\n",
       "      <td>3501</td>\n",
       "      <td>L'orfeo, Act 3, Sinfonia (Orchestra)</td>\n",
       "      <td>345</td>\n",
       "      <td>2</td>\n",
       "      <td>24</td>\n",
       "      <td>Claudio Monteverdi</td>\n",
       "      <td>66639</td>\n",
       "      <td>1189062</td>\n",
       "      <td>0.99</td>\n",
       "    </tr>\n",
       "    <tr>\n",
       "      <th>3501</th>\n",
       "      <td>3502</td>\n",
       "      <td>Quintet for Horn, Violin, 2 Violas, and Cello ...</td>\n",
       "      <td>346</td>\n",
       "      <td>2</td>\n",
       "      <td>24</td>\n",
       "      <td>Wolfgang Amadeus Mozart</td>\n",
       "      <td>221331</td>\n",
       "      <td>3665114</td>\n",
       "      <td>0.99</td>\n",
       "    </tr>\n",
       "    <tr>\n",
       "      <th>3502</th>\n",
       "      <td>3503</td>\n",
       "      <td>Koyaanisqatsi</td>\n",
       "      <td>347</td>\n",
       "      <td>2</td>\n",
       "      <td>10</td>\n",
       "      <td>Philip Glass</td>\n",
       "      <td>206005</td>\n",
       "      <td>3305164</td>\n",
       "      <td>0.99</td>\n",
       "    </tr>\n",
       "  </tbody>\n",
       "</table>\n",
       "<p>3503 rows × 9 columns</p>\n",
       "</div>"
      ],
      "text/plain": [
       "      TrackId                                               Name  AlbumId  \\\n",
       "0           1            For Those About To Rock (We Salute You)        1   \n",
       "1           2                                  Balls to the Wall        2   \n",
       "2           3                                    Fast As a Shark        3   \n",
       "3           4                                  Restless and Wild        3   \n",
       "4           5                               Princess of the Dawn        3   \n",
       "...       ...                                                ...      ...   \n",
       "3498     3499  Pini Di Roma (Pinien Von Rom) \\ I Pini Della V...      343   \n",
       "3499     3500  String Quartet No. 12 in C Minor, D. 703 \"Quar...      344   \n",
       "3500     3501               L'orfeo, Act 3, Sinfonia (Orchestra)      345   \n",
       "3501     3502  Quintet for Horn, Violin, 2 Violas, and Cello ...      346   \n",
       "3502     3503                                      Koyaanisqatsi      347   \n",
       "\n",
       "      MediaTypeId  GenreId                                           Composer  \\\n",
       "0               1        1          Angus Young, Malcolm Young, Brian Johnson   \n",
       "1               2        1                                               None   \n",
       "2               2        1  F. Baltes, S. Kaufman, U. Dirkscneider & W. Ho...   \n",
       "3               2        1  F. Baltes, R.A. Smith-Diesel, S. Kaufman, U. D...   \n",
       "4               2        1                         Deaffy & R.A. Smith-Diesel   \n",
       "...           ...      ...                                                ...   \n",
       "3498            2       24                                               None   \n",
       "3499            2       24                                     Franz Schubert   \n",
       "3500            2       24                                 Claudio Monteverdi   \n",
       "3501            2       24                            Wolfgang Amadeus Mozart   \n",
       "3502            2       10                                       Philip Glass   \n",
       "\n",
       "      Milliseconds     Bytes  UnitPrice  \n",
       "0           343719  11170334       0.99  \n",
       "1           342562   5510424       0.99  \n",
       "2           230619   3990994       0.99  \n",
       "3           252051   4331779       0.99  \n",
       "4           375418   6290521       0.99  \n",
       "...            ...       ...        ...  \n",
       "3498        286741   4718950       0.99  \n",
       "3499        139200   2283131       0.99  \n",
       "3500         66639   1189062       0.99  \n",
       "3501        221331   3665114       0.99  \n",
       "3502        206005   3305164       0.99  \n",
       "\n",
       "[3503 rows x 9 columns]"
      ]
     },
     "execution_count": 143,
     "metadata": {},
     "output_type": "execute_result"
    }
   ],
   "source": [
    "query = open(\"queries/query_1.sql\", \"r\").read()\n",
    "\n",
    "df = sql_query(query)\n",
    "df"
   ]
  },
  {
   "cell_type": "markdown",
   "metadata": {},
   "source": [
    "1. Crea una carpeta llamada 'queries'\n",
    "2. Crea 3 queries de sql, almacenadas en la carpeta 'queries'\n",
    "3. Ejecuta las consultas de esas 3 queries y almacena los resultados en carpeta 'data'"
   ]
  },
  {
   "cell_type": "code",
   "execution_count": 144,
   "metadata": {},
   "outputs": [
    {
     "data": {
      "text/plain": [
       "'c:\\\\Users\\\\hegoi\\\\TheBridge\\\\2503_dsft_thebridge\\\\2-Data_Analysis\\\\8-BBDD\\\\SQL\\\\Teoria\\\\SQL_Python'"
      ]
     },
     "execution_count": 144,
     "metadata": {},
     "output_type": "execute_result"
    }
   ],
   "source": [
    "os.getcwd()"
   ]
  },
  {
   "cell_type": "code",
   "execution_count": 145,
   "metadata": {},
   "outputs": [
    {
     "data": {
      "text/plain": [
       "['chinook.sql',\n",
       " 'northwind_join_groupby_order.sql',\n",
       " 'query_1.sql',\n",
       " 'query_2.sql',\n",
       " 'query_3.sql',\n",
       " 'query_base.sql',\n",
       " 'subquery_between.sql']"
      ]
     },
     "execution_count": 145,
     "metadata": {},
     "output_type": "execute_result"
    }
   ],
   "source": [
    "os.listdir(os.getcwd() + \"\\\\queries\")"
   ]
  },
  {
   "cell_type": "markdown",
   "metadata": {},
   "source": [
    "### 3.2 SELECT\n",
    "**La sentencia `SELECT` se usa para filtrar columnas**. Podremos incluso renombrar algunas columnas dentro del propio `SELECT`. Dos opciones:\n",
    "* **SELECT * :** de esta forma lo que haremos es traer todos los campos de la tabla. NO es lo recomendable ya que hay tablas que pueden tener cientos de columnas y probablemente no necesitemos todas, por lo que afectará al rendimiento de la maquina y en definitiva al resto de usuarios. **Recuerda que las bases de datos son normalmente entornos compartidos por varios usuarios :)**\n",
    "* **SELECT campo1, campo2...:** sentencia para escoger los campos concretos que necesitamos.\n",
    "\n",
    "Además en la propia query podrás renombrar campos mediante la sintaxis `campo as nuevo_nombre`. **Si quieres poner espacios en el nombre del campo, tendrás que rodear el string con comillas dobles**\n",
    "\n",
    "SQL no es sensible a mayusculas y minusculas."
   ]
  },
  {
   "cell_type": "code",
   "execution_count": 146,
   "metadata": {},
   "outputs": [
    {
     "data": {
      "application/vnd.microsoft.datawrangler.viewer.v0+json": {
       "columns": [
        {
         "name": "index",
         "rawType": "int64",
         "type": "integer"
        },
        {
         "name": "Nombre Cancion",
         "rawType": "object",
         "type": "string"
        },
        {
         "name": "Compositor",
         "rawType": "object",
         "type": "unknown"
        }
       ],
       "conversionMethod": "pd.DataFrame",
       "ref": "280da2e2-e611-430f-96f8-7a8ce42aa09e",
       "rows": [
        [
         "0",
         "For Those About To Rock (We Salute You)",
         "Angus Young, Malcolm Young, Brian Johnson"
        ],
        [
         "1",
         "Balls to the Wall",
         null
        ],
        [
         "2",
         "Fast As a Shark",
         "F. Baltes, S. Kaufman, U. Dirkscneider & W. Hoffman"
        ],
        [
         "3",
         "Restless and Wild",
         "F. Baltes, R.A. Smith-Diesel, S. Kaufman, U. Dirkscneider & W. Hoffman"
        ],
        [
         "4",
         "Princess of the Dawn",
         "Deaffy & R.A. Smith-Diesel"
        ],
        [
         "5",
         "Put The Finger On You",
         "Angus Young, Malcolm Young, Brian Johnson"
        ],
        [
         "6",
         "Let's Get It Up",
         "Angus Young, Malcolm Young, Brian Johnson"
        ],
        [
         "7",
         "Inject The Venom",
         "Angus Young, Malcolm Young, Brian Johnson"
        ],
        [
         "8",
         "Snowballed",
         "Angus Young, Malcolm Young, Brian Johnson"
        ],
        [
         "9",
         "Evil Walks",
         "Angus Young, Malcolm Young, Brian Johnson"
        ],
        [
         "10",
         "C.O.D.",
         "Angus Young, Malcolm Young, Brian Johnson"
        ],
        [
         "11",
         "Breaking The Rules",
         "Angus Young, Malcolm Young, Brian Johnson"
        ],
        [
         "12",
         "Night Of The Long Knives",
         "Angus Young, Malcolm Young, Brian Johnson"
        ],
        [
         "13",
         "Spellbound",
         "Angus Young, Malcolm Young, Brian Johnson"
        ],
        [
         "14",
         "Go Down",
         "AC/DC"
        ],
        [
         "15",
         "Dog Eat Dog",
         "AC/DC"
        ],
        [
         "16",
         "Let There Be Rock",
         "AC/DC"
        ],
        [
         "17",
         "Bad Boy Boogie",
         "AC/DC"
        ],
        [
         "18",
         "Problem Child",
         "AC/DC"
        ],
        [
         "19",
         "Overdose",
         "AC/DC"
        ],
        [
         "20",
         "Hell Ain't A Bad Place To Be",
         "AC/DC"
        ],
        [
         "21",
         "Whole Lotta Rosie",
         "AC/DC"
        ],
        [
         "22",
         "Walk On Water",
         "Steven Tyler, Joe Perry, Jack Blades, Tommy Shaw"
        ],
        [
         "23",
         "Love In An Elevator",
         "Steven Tyler, Joe Perry"
        ],
        [
         "24",
         "Rag Doll",
         "Steven Tyler, Joe Perry, Jim Vallance, Holly Knight"
        ],
        [
         "25",
         "What It Takes",
         "Steven Tyler, Joe Perry, Desmond Child"
        ],
        [
         "26",
         "Dude (Looks Like A Lady)",
         "Steven Tyler, Joe Perry, Desmond Child"
        ],
        [
         "27",
         "Janie's Got A Gun",
         "Steven Tyler, Tom Hamilton"
        ],
        [
         "28",
         "Cryin'",
         "Steven Tyler, Joe Perry, Taylor Rhodes"
        ],
        [
         "29",
         "Amazing",
         "Steven Tyler, Richie Supa"
        ],
        [
         "30",
         "Blind Man",
         "Steven Tyler, Joe Perry, Taylor Rhodes"
        ],
        [
         "31",
         "Deuces Are Wild",
         "Steven Tyler, Jim Vallance"
        ],
        [
         "32",
         "The Other Side",
         "Steven Tyler, Jim Vallance"
        ],
        [
         "33",
         "Crazy",
         "Steven Tyler, Joe Perry, Desmond Child"
        ],
        [
         "34",
         "Eat The Rich",
         "Steven Tyler, Joe Perry, Jim Vallance"
        ],
        [
         "35",
         "Angel",
         "Steven Tyler, Desmond Child"
        ],
        [
         "36",
         "Livin' On The Edge",
         "Steven Tyler, Joe Perry, Mark Hudson"
        ],
        [
         "37",
         "All I Really Want",
         "Alanis Morissette & Glenn Ballard"
        ],
        [
         "38",
         "You Oughta Know",
         "Alanis Morissette & Glenn Ballard"
        ],
        [
         "39",
         "Perfect",
         "Alanis Morissette & Glenn Ballard"
        ],
        [
         "40",
         "Hand In My Pocket",
         "Alanis Morissette & Glenn Ballard"
        ],
        [
         "41",
         "Right Through You",
         "Alanis Morissette & Glenn Ballard"
        ],
        [
         "42",
         "Forgiven",
         "Alanis Morissette & Glenn Ballard"
        ],
        [
         "43",
         "You Learn",
         "Alanis Morissette & Glenn Ballard"
        ],
        [
         "44",
         "Head Over Feet",
         "Alanis Morissette & Glenn Ballard"
        ],
        [
         "45",
         "Mary Jane",
         "Alanis Morissette & Glenn Ballard"
        ],
        [
         "46",
         "Ironic",
         "Alanis Morissette & Glenn Ballard"
        ],
        [
         "47",
         "Not The Doctor",
         "Alanis Morissette & Glenn Ballard"
        ],
        [
         "48",
         "Wake Up",
         "Alanis Morissette & Glenn Ballard"
        ],
        [
         "49",
         "You Oughta Know (Alternate)",
         "Alanis Morissette & Glenn Ballard"
        ]
       ],
       "shape": {
        "columns": 2,
        "rows": 3503
       }
      },
      "text/html": [
       "<div>\n",
       "<style scoped>\n",
       "    .dataframe tbody tr th:only-of-type {\n",
       "        vertical-align: middle;\n",
       "    }\n",
       "\n",
       "    .dataframe tbody tr th {\n",
       "        vertical-align: top;\n",
       "    }\n",
       "\n",
       "    .dataframe thead th {\n",
       "        text-align: right;\n",
       "    }\n",
       "</style>\n",
       "<table border=\"1\" class=\"dataframe\">\n",
       "  <thead>\n",
       "    <tr style=\"text-align: right;\">\n",
       "      <th></th>\n",
       "      <th>Nombre Cancion</th>\n",
       "      <th>Compositor</th>\n",
       "    </tr>\n",
       "  </thead>\n",
       "  <tbody>\n",
       "    <tr>\n",
       "      <th>0</th>\n",
       "      <td>For Those About To Rock (We Salute You)</td>\n",
       "      <td>Angus Young, Malcolm Young, Brian Johnson</td>\n",
       "    </tr>\n",
       "    <tr>\n",
       "      <th>1</th>\n",
       "      <td>Balls to the Wall</td>\n",
       "      <td>None</td>\n",
       "    </tr>\n",
       "    <tr>\n",
       "      <th>2</th>\n",
       "      <td>Fast As a Shark</td>\n",
       "      <td>F. Baltes, S. Kaufman, U. Dirkscneider &amp; W. Ho...</td>\n",
       "    </tr>\n",
       "    <tr>\n",
       "      <th>3</th>\n",
       "      <td>Restless and Wild</td>\n",
       "      <td>F. Baltes, R.A. Smith-Diesel, S. Kaufman, U. D...</td>\n",
       "    </tr>\n",
       "    <tr>\n",
       "      <th>4</th>\n",
       "      <td>Princess of the Dawn</td>\n",
       "      <td>Deaffy &amp; R.A. Smith-Diesel</td>\n",
       "    </tr>\n",
       "    <tr>\n",
       "      <th>...</th>\n",
       "      <td>...</td>\n",
       "      <td>...</td>\n",
       "    </tr>\n",
       "    <tr>\n",
       "      <th>3498</th>\n",
       "      <td>Pini Di Roma (Pinien Von Rom) \\ I Pini Della V...</td>\n",
       "      <td>None</td>\n",
       "    </tr>\n",
       "    <tr>\n",
       "      <th>3499</th>\n",
       "      <td>String Quartet No. 12 in C Minor, D. 703 \"Quar...</td>\n",
       "      <td>Franz Schubert</td>\n",
       "    </tr>\n",
       "    <tr>\n",
       "      <th>3500</th>\n",
       "      <td>L'orfeo, Act 3, Sinfonia (Orchestra)</td>\n",
       "      <td>Claudio Monteverdi</td>\n",
       "    </tr>\n",
       "    <tr>\n",
       "      <th>3501</th>\n",
       "      <td>Quintet for Horn, Violin, 2 Violas, and Cello ...</td>\n",
       "      <td>Wolfgang Amadeus Mozart</td>\n",
       "    </tr>\n",
       "    <tr>\n",
       "      <th>3502</th>\n",
       "      <td>Koyaanisqatsi</td>\n",
       "      <td>Philip Glass</td>\n",
       "    </tr>\n",
       "  </tbody>\n",
       "</table>\n",
       "<p>3503 rows × 2 columns</p>\n",
       "</div>"
      ],
      "text/plain": [
       "                                         Nombre Cancion  \\\n",
       "0               For Those About To Rock (We Salute You)   \n",
       "1                                     Balls to the Wall   \n",
       "2                                       Fast As a Shark   \n",
       "3                                     Restless and Wild   \n",
       "4                                  Princess of the Dawn   \n",
       "...                                                 ...   \n",
       "3498  Pini Di Roma (Pinien Von Rom) \\ I Pini Della V...   \n",
       "3499  String Quartet No. 12 in C Minor, D. 703 \"Quar...   \n",
       "3500               L'orfeo, Act 3, Sinfonia (Orchestra)   \n",
       "3501  Quintet for Horn, Violin, 2 Violas, and Cello ...   \n",
       "3502                                      Koyaanisqatsi   \n",
       "\n",
       "                                             Compositor  \n",
       "0             Angus Young, Malcolm Young, Brian Johnson  \n",
       "1                                                  None  \n",
       "2     F. Baltes, S. Kaufman, U. Dirkscneider & W. Ho...  \n",
       "3     F. Baltes, R.A. Smith-Diesel, S. Kaufman, U. D...  \n",
       "4                            Deaffy & R.A. Smith-Diesel  \n",
       "...                                                 ...  \n",
       "3498                                               None  \n",
       "3499                                     Franz Schubert  \n",
       "3500                                 Claudio Monteverdi  \n",
       "3501                            Wolfgang Amadeus Mozart  \n",
       "3502                                       Philip Glass  \n",
       "\n",
       "[3503 rows x 2 columns]"
      ]
     },
     "execution_count": 146,
     "metadata": {},
     "output_type": "execute_result"
    }
   ],
   "source": [
    "query = '''\n",
    "SELECT Name as \"Nombre Cancion\", composer as \"Compositor\"\n",
    "FROM tracks\n",
    "'''\n",
    "\n",
    "sql_query(query)"
   ]
  },
  {
   "cell_type": "markdown",
   "metadata": {},
   "source": [
    "### 3.3 LIMIT\n",
    "Se usa para acotar el número de registros de la query. Va siempre al final. Por ejemplo `LIMIT 10`"
   ]
  },
  {
   "cell_type": "code",
   "execution_count": 147,
   "metadata": {},
   "outputs": [
    {
     "data": {
      "application/vnd.microsoft.datawrangler.viewer.v0+json": {
       "columns": [
        {
         "name": "index",
         "rawType": "int64",
         "type": "integer"
        },
        {
         "name": "Nombre Cancion",
         "rawType": "object",
         "type": "string"
        },
        {
         "name": "Composer",
         "rawType": "object",
         "type": "unknown"
        }
       ],
       "conversionMethod": "pd.DataFrame",
       "ref": "02f79713-d0c1-4bf8-bcfb-4b49f1a1aa13",
       "rows": [
        [
         "0",
         "For Those About To Rock (We Salute You)",
         "Angus Young, Malcolm Young, Brian Johnson"
        ],
        [
         "1",
         "Balls to the Wall",
         null
        ],
        [
         "2",
         "Fast As a Shark",
         "F. Baltes, S. Kaufman, U. Dirkscneider & W. Hoffman"
        ],
        [
         "3",
         "Restless and Wild",
         "F. Baltes, R.A. Smith-Diesel, S. Kaufman, U. Dirkscneider & W. Hoffman"
        ],
        [
         "4",
         "Princess of the Dawn",
         "Deaffy & R.A. Smith-Diesel"
        ],
        [
         "5",
         "Put The Finger On You",
         "Angus Young, Malcolm Young, Brian Johnson"
        ],
        [
         "6",
         "Let's Get It Up",
         "Angus Young, Malcolm Young, Brian Johnson"
        ],
        [
         "7",
         "Inject The Venom",
         "Angus Young, Malcolm Young, Brian Johnson"
        ],
        [
         "8",
         "Snowballed",
         "Angus Young, Malcolm Young, Brian Johnson"
        ],
        [
         "9",
         "Evil Walks",
         "Angus Young, Malcolm Young, Brian Johnson"
        ]
       ],
       "shape": {
        "columns": 2,
        "rows": 10
       }
      },
      "text/html": [
       "<div>\n",
       "<style scoped>\n",
       "    .dataframe tbody tr th:only-of-type {\n",
       "        vertical-align: middle;\n",
       "    }\n",
       "\n",
       "    .dataframe tbody tr th {\n",
       "        vertical-align: top;\n",
       "    }\n",
       "\n",
       "    .dataframe thead th {\n",
       "        text-align: right;\n",
       "    }\n",
       "</style>\n",
       "<table border=\"1\" class=\"dataframe\">\n",
       "  <thead>\n",
       "    <tr style=\"text-align: right;\">\n",
       "      <th></th>\n",
       "      <th>Nombre Cancion</th>\n",
       "      <th>Composer</th>\n",
       "    </tr>\n",
       "  </thead>\n",
       "  <tbody>\n",
       "    <tr>\n",
       "      <th>0</th>\n",
       "      <td>For Those About To Rock (We Salute You)</td>\n",
       "      <td>Angus Young, Malcolm Young, Brian Johnson</td>\n",
       "    </tr>\n",
       "    <tr>\n",
       "      <th>1</th>\n",
       "      <td>Balls to the Wall</td>\n",
       "      <td>None</td>\n",
       "    </tr>\n",
       "    <tr>\n",
       "      <th>2</th>\n",
       "      <td>Fast As a Shark</td>\n",
       "      <td>F. Baltes, S. Kaufman, U. Dirkscneider &amp; W. Ho...</td>\n",
       "    </tr>\n",
       "    <tr>\n",
       "      <th>3</th>\n",
       "      <td>Restless and Wild</td>\n",
       "      <td>F. Baltes, R.A. Smith-Diesel, S. Kaufman, U. D...</td>\n",
       "    </tr>\n",
       "    <tr>\n",
       "      <th>4</th>\n",
       "      <td>Princess of the Dawn</td>\n",
       "      <td>Deaffy &amp; R.A. Smith-Diesel</td>\n",
       "    </tr>\n",
       "    <tr>\n",
       "      <th>5</th>\n",
       "      <td>Put The Finger On You</td>\n",
       "      <td>Angus Young, Malcolm Young, Brian Johnson</td>\n",
       "    </tr>\n",
       "    <tr>\n",
       "      <th>6</th>\n",
       "      <td>Let's Get It Up</td>\n",
       "      <td>Angus Young, Malcolm Young, Brian Johnson</td>\n",
       "    </tr>\n",
       "    <tr>\n",
       "      <th>7</th>\n",
       "      <td>Inject The Venom</td>\n",
       "      <td>Angus Young, Malcolm Young, Brian Johnson</td>\n",
       "    </tr>\n",
       "    <tr>\n",
       "      <th>8</th>\n",
       "      <td>Snowballed</td>\n",
       "      <td>Angus Young, Malcolm Young, Brian Johnson</td>\n",
       "    </tr>\n",
       "    <tr>\n",
       "      <th>9</th>\n",
       "      <td>Evil Walks</td>\n",
       "      <td>Angus Young, Malcolm Young, Brian Johnson</td>\n",
       "    </tr>\n",
       "  </tbody>\n",
       "</table>\n",
       "</div>"
      ],
      "text/plain": [
       "                            Nombre Cancion  \\\n",
       "0  For Those About To Rock (We Salute You)   \n",
       "1                        Balls to the Wall   \n",
       "2                          Fast As a Shark   \n",
       "3                        Restless and Wild   \n",
       "4                     Princess of the Dawn   \n",
       "5                    Put The Finger On You   \n",
       "6                          Let's Get It Up   \n",
       "7                         Inject The Venom   \n",
       "8                               Snowballed   \n",
       "9                               Evil Walks   \n",
       "\n",
       "                                            Composer  \n",
       "0          Angus Young, Malcolm Young, Brian Johnson  \n",
       "1                                               None  \n",
       "2  F. Baltes, S. Kaufman, U. Dirkscneider & W. Ho...  \n",
       "3  F. Baltes, R.A. Smith-Diesel, S. Kaufman, U. D...  \n",
       "4                         Deaffy & R.A. Smith-Diesel  \n",
       "5          Angus Young, Malcolm Young, Brian Johnson  \n",
       "6          Angus Young, Malcolm Young, Brian Johnson  \n",
       "7          Angus Young, Malcolm Young, Brian Johnson  \n",
       "8          Angus Young, Malcolm Young, Brian Johnson  \n",
       "9          Angus Young, Malcolm Young, Brian Johnson  "
      ]
     },
     "execution_count": 147,
     "metadata": {},
     "output_type": "execute_result"
    }
   ],
   "source": [
    "query = '''\n",
    "SELECT Name as \"Nombre Cancion\", composer\n",
    "FROM tracks\n",
    "LIMIT 10\n",
    "'''\n",
    "\n",
    "sql_query(query)"
   ]
  },
  {
   "cell_type": "markdown",
   "metadata": {},
   "source": [
    "### 3.4 DISTINCT\n",
    "Se usa para obtener todos los registros únicos, es decir, sin duplicados. Muy útil tanto para eliminar dupicados, como para ver todas las casuísticas de un campo en concreto.\n",
    "\n",
    "**Mucho cuidado con esta sentencia ya que si la tabla tiene miles o millones de registros, puede ralentizar mucho la query.**"
   ]
  },
  {
   "cell_type": "code",
   "execution_count": 148,
   "metadata": {},
   "outputs": [
    {
     "data": {
      "application/vnd.microsoft.datawrangler.viewer.v0+json": {
       "columns": [
        {
         "name": "index",
         "rawType": "int64",
         "type": "integer"
        },
        {
         "name": "Composer",
         "rawType": "object",
         "type": "unknown"
        }
       ],
       "conversionMethod": "pd.DataFrame",
       "ref": "890c5892-275a-49fa-a097-4c84c8c9cbc7",
       "rows": [
        [
         "0",
         "Angus Young, Malcolm Young, Brian Johnson"
        ],
        [
         "1",
         null
        ],
        [
         "2",
         "F. Baltes, S. Kaufman, U. Dirkscneider & W. Hoffman"
        ],
        [
         "3",
         "F. Baltes, R.A. Smith-Diesel, S. Kaufman, U. Dirkscneider & W. Hoffman"
        ],
        [
         "4",
         "Deaffy & R.A. Smith-Diesel"
        ],
        [
         "5",
         "AC/DC"
        ],
        [
         "6",
         "Steven Tyler, Joe Perry, Jack Blades, Tommy Shaw"
        ],
        [
         "7",
         "Steven Tyler, Joe Perry"
        ],
        [
         "8",
         "Steven Tyler, Joe Perry, Jim Vallance, Holly Knight"
        ],
        [
         "9",
         "Steven Tyler, Joe Perry, Desmond Child"
        ],
        [
         "10",
         "Steven Tyler, Tom Hamilton"
        ],
        [
         "11",
         "Steven Tyler, Joe Perry, Taylor Rhodes"
        ],
        [
         "12",
         "Steven Tyler, Richie Supa"
        ],
        [
         "13",
         "Steven Tyler, Jim Vallance"
        ],
        [
         "14",
         "Steven Tyler, Joe Perry, Jim Vallance"
        ],
        [
         "15",
         "Steven Tyler, Desmond Child"
        ],
        [
         "16",
         "Steven Tyler, Joe Perry, Mark Hudson"
        ],
        [
         "17",
         "Alanis Morissette & Glenn Ballard"
        ],
        [
         "18",
         "Jerry Cantrell"
        ],
        [
         "19",
         "Jerry Cantrell, Layne Staley"
        ],
        [
         "20",
         "Jerry Cantrell, Michael Starr, Sean Kinney"
        ],
        [
         "21",
         "Jerry Cantrell, Michael Starr, Layne Staley"
        ],
        [
         "22",
         "Apocalyptica"
        ],
        [
         "23",
         "Audioslave/Chris Cornell"
        ],
        [
         "24",
         "Cornell, Commerford, Morello, Wilk"
        ],
        [
         "25",
         "Berry Gordy, Jr./Janie Bradford"
        ],
        [
         "26",
         "Enotris Johnson/Little Richard/Robert \"Bumps\" Blackwell"
        ],
        [
         "27",
         "Larry Williams"
        ],
        [
         "28",
         "Bert Russell/Phil Medley"
        ],
        [
         "29",
         "Brian Holland/Freddie Gorman/Georgia Dobbins/Robert Bateman/William Garrett"
        ],
        [
         "30",
         "Eddie Cochran/Jerry Capehart"
        ],
        [
         "31",
         "Chuck Berry"
        ],
        [
         "32",
         "Bo Diddley"
        ],
        [
         "33",
         "Little Richard"
        ],
        [
         "34",
         "Ned Fairchild"
        ],
        [
         "35",
         "Billy Cobham"
        ],
        [
         "36",
         "George Duke"
        ],
        [
         "37",
         "Tony Iommi, Bill Ward, Geezer Butler, Ozzy Osbourne"
        ],
        [
         "38",
         "Roy Z"
        ],
        [
         "39",
         "Adrian Smith"
        ],
        [
         "40",
         "Eddie Casillas/Roy Z"
        ],
        [
         "41",
         "Eurreal Montgomery"
        ],
        [
         "42",
         "Willie Dixon"
        ],
        [
         "43",
         "Buddy Guy"
        ],
        [
         "44",
         "Al Perkins/Willie Dixon"
        ],
        [
         "45",
         "Sonny Boy Williamson [I]"
        ],
        [
         "46",
         "Robert Geddins/Ron Badger/Sheldon Feinberg"
        ],
        [
         "47",
         "Amos Blakemore/Buddy Guy"
        ],
        [
         "48",
         "Jorge Ben"
        ],
        [
         "49",
         "Tradicional"
        ]
       ],
       "shape": {
        "columns": 1,
        "rows": 853
       }
      },
      "text/html": [
       "<div>\n",
       "<style scoped>\n",
       "    .dataframe tbody tr th:only-of-type {\n",
       "        vertical-align: middle;\n",
       "    }\n",
       "\n",
       "    .dataframe tbody tr th {\n",
       "        vertical-align: top;\n",
       "    }\n",
       "\n",
       "    .dataframe thead th {\n",
       "        text-align: right;\n",
       "    }\n",
       "</style>\n",
       "<table border=\"1\" class=\"dataframe\">\n",
       "  <thead>\n",
       "    <tr style=\"text-align: right;\">\n",
       "      <th></th>\n",
       "      <th>Composer</th>\n",
       "    </tr>\n",
       "  </thead>\n",
       "  <tbody>\n",
       "    <tr>\n",
       "      <th>0</th>\n",
       "      <td>Angus Young, Malcolm Young, Brian Johnson</td>\n",
       "    </tr>\n",
       "    <tr>\n",
       "      <th>1</th>\n",
       "      <td>None</td>\n",
       "    </tr>\n",
       "    <tr>\n",
       "      <th>2</th>\n",
       "      <td>F. Baltes, S. Kaufman, U. Dirkscneider &amp; W. Ho...</td>\n",
       "    </tr>\n",
       "    <tr>\n",
       "      <th>3</th>\n",
       "      <td>F. Baltes, R.A. Smith-Diesel, S. Kaufman, U. D...</td>\n",
       "    </tr>\n",
       "    <tr>\n",
       "      <th>4</th>\n",
       "      <td>Deaffy &amp; R.A. Smith-Diesel</td>\n",
       "    </tr>\n",
       "    <tr>\n",
       "      <th>...</th>\n",
       "      <td>...</td>\n",
       "    </tr>\n",
       "    <tr>\n",
       "      <th>848</th>\n",
       "      <td>Carl Nielsen</td>\n",
       "    </tr>\n",
       "    <tr>\n",
       "      <th>849</th>\n",
       "      <td>Niccolò Paganini</td>\n",
       "    </tr>\n",
       "    <tr>\n",
       "      <th>850</th>\n",
       "      <td>Pietro Antonio Locatelli</td>\n",
       "    </tr>\n",
       "    <tr>\n",
       "      <th>851</th>\n",
       "      <td>Claudio Monteverdi</td>\n",
       "    </tr>\n",
       "    <tr>\n",
       "      <th>852</th>\n",
       "      <td>Philip Glass</td>\n",
       "    </tr>\n",
       "  </tbody>\n",
       "</table>\n",
       "<p>853 rows × 1 columns</p>\n",
       "</div>"
      ],
      "text/plain": [
       "                                              Composer\n",
       "0            Angus Young, Malcolm Young, Brian Johnson\n",
       "1                                                 None\n",
       "2    F. Baltes, S. Kaufman, U. Dirkscneider & W. Ho...\n",
       "3    F. Baltes, R.A. Smith-Diesel, S. Kaufman, U. D...\n",
       "4                           Deaffy & R.A. Smith-Diesel\n",
       "..                                                 ...\n",
       "848                                       Carl Nielsen\n",
       "849                                   Niccolò Paganini\n",
       "850                           Pietro Antonio Locatelli\n",
       "851                                 Claudio Monteverdi\n",
       "852                                       Philip Glass\n",
       "\n",
       "[853 rows x 1 columns]"
      ]
     },
     "execution_count": 148,
     "metadata": {},
     "output_type": "execute_result"
    }
   ],
   "source": [
    "query = '''\n",
    "SELECT DISTINCT Composer\n",
    "FROM tracks\n",
    "'''\n",
    "\n",
    "sql_query(query)"
   ]
  },
  {
   "cell_type": "markdown",
   "metadata": {},
   "source": [
    "### 3.5 WHERE\n",
    "Se usa para filtrar filas. Ejemplos de uso:\n",
    "* **Un valor numérico**\n",
    "    * UnitPrice = 0.99\n",
    "    * UnitPrice >= 0.99\n",
    "    * UnitPrice < 0.99\n",
    "* **Un valor string**: Name = 'Restless and Wild'\n",
    "* **Varios valores**: GenreId in (1, 5, 12)\n",
    "* **string contenido**:\n",
    "    * strings que empiecen por 'A': Name like 'A%'\n",
    "    * strings que acaben en 'A': Name like '%A'\n",
    "    * strings que lleven 'A' en algun punto: Name like '%A%'\n",
    "* **Distinto de**: UnitPrice <> 0.99\n",
    "\n",
    "Probamos el `WHERE`"
   ]
  },
  {
   "cell_type": "code",
   "execution_count": 149,
   "metadata": {},
   "outputs": [
    {
     "data": {
      "application/vnd.microsoft.datawrangler.viewer.v0+json": {
       "columns": [
        {
         "name": "index",
         "rawType": "int64",
         "type": "integer"
        },
        {
         "name": "TrackId",
         "rawType": "int64",
         "type": "integer"
        },
        {
         "name": "Name",
         "rawType": "object",
         "type": "string"
        },
        {
         "name": "AlbumId",
         "rawType": "int64",
         "type": "integer"
        },
        {
         "name": "MediaTypeId",
         "rawType": "int64",
         "type": "integer"
        },
        {
         "name": "GenreId",
         "rawType": "int64",
         "type": "integer"
        },
        {
         "name": "Composer",
         "rawType": "object",
         "type": "unknown"
        },
        {
         "name": "Milliseconds",
         "rawType": "int64",
         "type": "integer"
        },
        {
         "name": "Bytes",
         "rawType": "int64",
         "type": "integer"
        },
        {
         "name": "UnitPrice",
         "rawType": "float64",
         "type": "float"
        }
       ],
       "conversionMethod": "pd.DataFrame",
       "ref": "a6c58bca-f6d9-4692-ae33-6a4d144fb954",
       "rows": [
        [
         "0",
         "2819",
         "Battlestar Galactica: The Story So Far",
         "226",
         "3",
         "18",
         null,
         "2622250",
         "490750393",
         "1.99"
        ],
        [
         "1",
         "2820",
         "Occupation / Precipice",
         "227",
         "3",
         "19",
         null,
         "5286953",
         "1054423946",
         "1.99"
        ],
        [
         "2",
         "2821",
         "Exodus, Pt. 1",
         "227",
         "3",
         "19",
         null,
         "2621708",
         "475079441",
         "1.99"
        ],
        [
         "3",
         "2822",
         "Exodus, Pt. 2",
         "227",
         "3",
         "19",
         null,
         "2618000",
         "466820021",
         "1.99"
        ],
        [
         "4",
         "2823",
         "Collaborators",
         "227",
         "3",
         "19",
         null,
         "2626626",
         "483484911",
         "1.99"
        ],
        [
         "5",
         "2824",
         "Torn",
         "227",
         "3",
         "19",
         null,
         "2631291",
         "495262585",
         "1.99"
        ],
        [
         "6",
         "2825",
         "A Measure of Salvation",
         "227",
         "3",
         "18",
         null,
         "2563938",
         "489715554",
         "1.99"
        ],
        [
         "7",
         "2826",
         "Hero",
         "227",
         "3",
         "18",
         null,
         "2713755",
         "506896959",
         "1.99"
        ],
        [
         "8",
         "2827",
         "Unfinished Business",
         "227",
         "3",
         "18",
         null,
         "2622038",
         "528499160",
         "1.99"
        ],
        [
         "9",
         "2828",
         "The Passage",
         "227",
         "3",
         "18",
         null,
         "2623875",
         "490375760",
         "1.99"
        ],
        [
         "10",
         "2829",
         "The Eye of Jupiter",
         "227",
         "3",
         "18",
         null,
         "2618750",
         "517909587",
         "1.99"
        ],
        [
         "11",
         "2830",
         "Rapture",
         "227",
         "3",
         "18",
         null,
         "2624541",
         "508406153",
         "1.99"
        ],
        [
         "12",
         "2831",
         "Taking a Break from All Your Worries",
         "227",
         "3",
         "18",
         null,
         "2624207",
         "492700163",
         "1.99"
        ],
        [
         "13",
         "2832",
         "The Woman King",
         "227",
         "3",
         "18",
         null,
         "2626376",
         "552893447",
         "1.99"
        ],
        [
         "14",
         "2833",
         "A Day In the Life",
         "227",
         "3",
         "18",
         null,
         "2620245",
         "462818231",
         "1.99"
        ],
        [
         "15",
         "2834",
         "Dirty Hands",
         "227",
         "3",
         "18",
         null,
         "2627961",
         "537648614",
         "1.99"
        ],
        [
         "16",
         "2835",
         "Maelstrom",
         "227",
         "3",
         "18",
         null,
         "2622372",
         "514154275",
         "1.99"
        ],
        [
         "17",
         "2836",
         "The Son Also Rises",
         "227",
         "3",
         "18",
         null,
         "2621830",
         "499258498",
         "1.99"
        ],
        [
         "18",
         "2837",
         "Crossroads, Pt. 1",
         "227",
         "3",
         "20",
         null,
         "2622622",
         "486233524",
         "1.99"
        ],
        [
         "19",
         "2838",
         "Crossroads, Pt. 2",
         "227",
         "3",
         "20",
         null,
         "2869953",
         "497335706",
         "1.99"
        ],
        [
         "20",
         "2839",
         "Genesis",
         "228",
         "3",
         "19",
         null,
         "2611986",
         "515671080",
         "1.99"
        ],
        [
         "21",
         "2840",
         "Don't Look Back",
         "228",
         "3",
         "21",
         null,
         "2571154",
         "493628775",
         "1.99"
        ],
        [
         "22",
         "2841",
         "One Giant Leap",
         "228",
         "3",
         "21",
         null,
         "2607649",
         "521616246",
         "1.99"
        ],
        [
         "23",
         "2842",
         "Collision",
         "228",
         "3",
         "21",
         null,
         "2605480",
         "526182322",
         "1.99"
        ],
        [
         "24",
         "2843",
         "Hiros",
         "228",
         "3",
         "21",
         null,
         "2533575",
         "488835454",
         "1.99"
        ],
        [
         "25",
         "2844",
         "Better Halves",
         "228",
         "3",
         "21",
         null,
         "2573031",
         "549353481",
         "1.99"
        ],
        [
         "26",
         "2845",
         "Nothing to Hide",
         "228",
         "3",
         "19",
         null,
         "2605647",
         "510058181",
         "1.99"
        ],
        [
         "27",
         "2846",
         "Seven Minutes to Midnight",
         "228",
         "3",
         "21",
         null,
         "2613988",
         "515590682",
         "1.99"
        ],
        [
         "28",
         "2847",
         "Homecoming",
         "228",
         "3",
         "21",
         null,
         "2601351",
         "516015339",
         "1.99"
        ],
        [
         "29",
         "2848",
         "Six Months Ago",
         "228",
         "3",
         "19",
         null,
         "2602852",
         "505133869",
         "1.99"
        ],
        [
         "30",
         "2849",
         "Fallout",
         "228",
         "3",
         "21",
         null,
         "2594761",
         "501145440",
         "1.99"
        ],
        [
         "31",
         "2850",
         "The Fix",
         "228",
         "3",
         "21",
         null,
         "2600266",
         "507026323",
         "1.99"
        ],
        [
         "32",
         "2851",
         "Distractions",
         "228",
         "3",
         "21",
         null,
         "2590382",
         "537111289",
         "1.99"
        ],
        [
         "33",
         "2852",
         "Run!",
         "228",
         "3",
         "21",
         null,
         "2602602",
         "542936677",
         "1.99"
        ],
        [
         "34",
         "2853",
         "Unexpected",
         "228",
         "3",
         "21",
         null,
         "2598139",
         "511777758",
         "1.99"
        ],
        [
         "35",
         "2854",
         "Company Man",
         "228",
         "3",
         "21",
         null,
         "2601226",
         "493168135",
         "1.99"
        ],
        [
         "36",
         "2855",
         "Company Man",
         "228",
         "3",
         "21",
         null,
         "2601101",
         "503786316",
         "1.99"
        ],
        [
         "37",
         "2856",
         "Parasite",
         "228",
         "3",
         "21",
         null,
         "2602727",
         "487461520",
         "1.99"
        ],
        [
         "38",
         "2857",
         "A Tale of Two Cities",
         "229",
         "3",
         "19",
         null,
         "2636970",
         "513691652",
         "1.99"
        ],
        [
         "39",
         "2858",
         "Lost (Pilot, Part 1) [Premiere]",
         "230",
         "3",
         "19",
         null,
         "2548875",
         "217124866",
         "1.99"
        ],
        [
         "40",
         "2859",
         "Man of Science, Man of Faith (Premiere)",
         "231",
         "3",
         "19",
         null,
         "2612250",
         "543342028",
         "1.99"
        ],
        [
         "41",
         "2860",
         "Adrift",
         "231",
         "3",
         "19",
         null,
         "2564958",
         "502663995",
         "1.99"
        ],
        [
         "42",
         "2861",
         "Lost (Pilot, Part 2)",
         "230",
         "3",
         "19",
         null,
         "2436583",
         "204995876",
         "1.99"
        ],
        [
         "43",
         "2862",
         "The Glass Ballerina",
         "229",
         "3",
         "21",
         null,
         "2637458",
         "535729216",
         "1.99"
        ],
        [
         "44",
         "2863",
         "Further Instructions",
         "229",
         "3",
         "19",
         null,
         "2563980",
         "502041019",
         "1.99"
        ],
        [
         "45",
         "2864",
         "Orientation",
         "231",
         "3",
         "19",
         null,
         "2609083",
         "500600434",
         "1.99"
        ],
        [
         "46",
         "2865",
         "Tabula Rasa",
         "230",
         "3",
         "19",
         null,
         "2627105",
         "210526410",
         "1.99"
        ],
        [
         "47",
         "2866",
         "Every Man for Himself",
         "229",
         "3",
         "21",
         null,
         "2637387",
         "513803546",
         "1.99"
        ],
        [
         "48",
         "2867",
         "Everybody Hates Hugo",
         "231",
         "3",
         "19",
         null,
         "2609192",
         "498163145",
         "1.99"
        ],
        [
         "49",
         "2868",
         "Walkabout",
         "230",
         "3",
         "19",
         null,
         "2587370",
         "207748198",
         "1.99"
        ]
       ],
       "shape": {
        "columns": 9,
        "rows": 213
       }
      },
      "text/html": [
       "<div>\n",
       "<style scoped>\n",
       "    .dataframe tbody tr th:only-of-type {\n",
       "        vertical-align: middle;\n",
       "    }\n",
       "\n",
       "    .dataframe tbody tr th {\n",
       "        vertical-align: top;\n",
       "    }\n",
       "\n",
       "    .dataframe thead th {\n",
       "        text-align: right;\n",
       "    }\n",
       "</style>\n",
       "<table border=\"1\" class=\"dataframe\">\n",
       "  <thead>\n",
       "    <tr style=\"text-align: right;\">\n",
       "      <th></th>\n",
       "      <th>TrackId</th>\n",
       "      <th>Name</th>\n",
       "      <th>AlbumId</th>\n",
       "      <th>MediaTypeId</th>\n",
       "      <th>GenreId</th>\n",
       "      <th>Composer</th>\n",
       "      <th>Milliseconds</th>\n",
       "      <th>Bytes</th>\n",
       "      <th>UnitPrice</th>\n",
       "    </tr>\n",
       "  </thead>\n",
       "  <tbody>\n",
       "    <tr>\n",
       "      <th>0</th>\n",
       "      <td>2819</td>\n",
       "      <td>Battlestar Galactica: The Story So Far</td>\n",
       "      <td>226</td>\n",
       "      <td>3</td>\n",
       "      <td>18</td>\n",
       "      <td>None</td>\n",
       "      <td>2622250</td>\n",
       "      <td>490750393</td>\n",
       "      <td>1.99</td>\n",
       "    </tr>\n",
       "    <tr>\n",
       "      <th>1</th>\n",
       "      <td>2820</td>\n",
       "      <td>Occupation / Precipice</td>\n",
       "      <td>227</td>\n",
       "      <td>3</td>\n",
       "      <td>19</td>\n",
       "      <td>None</td>\n",
       "      <td>5286953</td>\n",
       "      <td>1054423946</td>\n",
       "      <td>1.99</td>\n",
       "    </tr>\n",
       "    <tr>\n",
       "      <th>2</th>\n",
       "      <td>2821</td>\n",
       "      <td>Exodus, Pt. 1</td>\n",
       "      <td>227</td>\n",
       "      <td>3</td>\n",
       "      <td>19</td>\n",
       "      <td>None</td>\n",
       "      <td>2621708</td>\n",
       "      <td>475079441</td>\n",
       "      <td>1.99</td>\n",
       "    </tr>\n",
       "    <tr>\n",
       "      <th>3</th>\n",
       "      <td>2822</td>\n",
       "      <td>Exodus, Pt. 2</td>\n",
       "      <td>227</td>\n",
       "      <td>3</td>\n",
       "      <td>19</td>\n",
       "      <td>None</td>\n",
       "      <td>2618000</td>\n",
       "      <td>466820021</td>\n",
       "      <td>1.99</td>\n",
       "    </tr>\n",
       "    <tr>\n",
       "      <th>4</th>\n",
       "      <td>2823</td>\n",
       "      <td>Collaborators</td>\n",
       "      <td>227</td>\n",
       "      <td>3</td>\n",
       "      <td>19</td>\n",
       "      <td>None</td>\n",
       "      <td>2626626</td>\n",
       "      <td>483484911</td>\n",
       "      <td>1.99</td>\n",
       "    </tr>\n",
       "    <tr>\n",
       "      <th>...</th>\n",
       "      <td>...</td>\n",
       "      <td>...</td>\n",
       "      <td>...</td>\n",
       "      <td>...</td>\n",
       "      <td>...</td>\n",
       "      <td>...</td>\n",
       "      <td>...</td>\n",
       "      <td>...</td>\n",
       "      <td>...</td>\n",
       "    </tr>\n",
       "    <tr>\n",
       "      <th>208</th>\n",
       "      <td>3362</td>\n",
       "      <td>There's No Place Like Home, Pt. 1</td>\n",
       "      <td>261</td>\n",
       "      <td>3</td>\n",
       "      <td>21</td>\n",
       "      <td>None</td>\n",
       "      <td>2609526</td>\n",
       "      <td>522919189</td>\n",
       "      <td>1.99</td>\n",
       "    </tr>\n",
       "    <tr>\n",
       "      <th>209</th>\n",
       "      <td>3363</td>\n",
       "      <td>There's No Place Like Home, Pt. 2</td>\n",
       "      <td>261</td>\n",
       "      <td>3</td>\n",
       "      <td>21</td>\n",
       "      <td>None</td>\n",
       "      <td>2497956</td>\n",
       "      <td>523748920</td>\n",
       "      <td>1.99</td>\n",
       "    </tr>\n",
       "    <tr>\n",
       "      <th>210</th>\n",
       "      <td>3364</td>\n",
       "      <td>There's No Place Like Home, Pt. 3</td>\n",
       "      <td>261</td>\n",
       "      <td>3</td>\n",
       "      <td>21</td>\n",
       "      <td>None</td>\n",
       "      <td>2582957</td>\n",
       "      <td>486161766</td>\n",
       "      <td>1.99</td>\n",
       "    </tr>\n",
       "    <tr>\n",
       "      <th>211</th>\n",
       "      <td>3428</td>\n",
       "      <td>Branch Closing</td>\n",
       "      <td>251</td>\n",
       "      <td>3</td>\n",
       "      <td>22</td>\n",
       "      <td>None</td>\n",
       "      <td>1814855</td>\n",
       "      <td>360331351</td>\n",
       "      <td>1.99</td>\n",
       "    </tr>\n",
       "    <tr>\n",
       "      <th>212</th>\n",
       "      <td>3429</td>\n",
       "      <td>The Return</td>\n",
       "      <td>251</td>\n",
       "      <td>3</td>\n",
       "      <td>22</td>\n",
       "      <td>None</td>\n",
       "      <td>1705080</td>\n",
       "      <td>343877320</td>\n",
       "      <td>1.99</td>\n",
       "    </tr>\n",
       "  </tbody>\n",
       "</table>\n",
       "<p>213 rows × 9 columns</p>\n",
       "</div>"
      ],
      "text/plain": [
       "     TrackId                                    Name  AlbumId  MediaTypeId  \\\n",
       "0       2819  Battlestar Galactica: The Story So Far      226            3   \n",
       "1       2820                  Occupation / Precipice      227            3   \n",
       "2       2821                           Exodus, Pt. 1      227            3   \n",
       "3       2822                           Exodus, Pt. 2      227            3   \n",
       "4       2823                           Collaborators      227            3   \n",
       "..       ...                                     ...      ...          ...   \n",
       "208     3362       There's No Place Like Home, Pt. 1      261            3   \n",
       "209     3363       There's No Place Like Home, Pt. 2      261            3   \n",
       "210     3364       There's No Place Like Home, Pt. 3      261            3   \n",
       "211     3428                          Branch Closing      251            3   \n",
       "212     3429                              The Return      251            3   \n",
       "\n",
       "     GenreId Composer  Milliseconds       Bytes  UnitPrice  \n",
       "0         18     None       2622250   490750393       1.99  \n",
       "1         19     None       5286953  1054423946       1.99  \n",
       "2         19     None       2621708   475079441       1.99  \n",
       "3         19     None       2618000   466820021       1.99  \n",
       "4         19     None       2626626   483484911       1.99  \n",
       "..       ...      ...           ...         ...        ...  \n",
       "208       21     None       2609526   522919189       1.99  \n",
       "209       21     None       2497956   523748920       1.99  \n",
       "210       21     None       2582957   486161766       1.99  \n",
       "211       22     None       1814855   360331351       1.99  \n",
       "212       22     None       1705080   343877320       1.99  \n",
       "\n",
       "[213 rows x 9 columns]"
      ]
     },
     "execution_count": 149,
     "metadata": {},
     "output_type": "execute_result"
    }
   ],
   "source": [
    "query = '''\n",
    "SELECT * \n",
    "FROM tracks\n",
    "WHERE unitprice > 0.99\n",
    "'''\n",
    "\n",
    "sql_query(query)"
   ]
  },
  {
   "cell_type": "markdown",
   "metadata": {},
   "source": [
    "Veamos qué tal funciona el `LIKE`"
   ]
  },
  {
   "cell_type": "code",
   "execution_count": 150,
   "metadata": {},
   "outputs": [
    {
     "data": {
      "application/vnd.microsoft.datawrangler.viewer.v0+json": {
       "columns": [
        {
         "name": "index",
         "rawType": "int64",
         "type": "integer"
        },
        {
         "name": "TrackId",
         "rawType": "int64",
         "type": "integer"
        },
        {
         "name": "Name",
         "rawType": "object",
         "type": "string"
        },
        {
         "name": "AlbumId",
         "rawType": "int64",
         "type": "integer"
        },
        {
         "name": "MediaTypeId",
         "rawType": "int64",
         "type": "integer"
        },
        {
         "name": "GenreId",
         "rawType": "int64",
         "type": "integer"
        },
        {
         "name": "Composer",
         "rawType": "object",
         "type": "string"
        },
        {
         "name": "Milliseconds",
         "rawType": "int64",
         "type": "integer"
        },
        {
         "name": "Bytes",
         "rawType": "int64",
         "type": "integer"
        },
        {
         "name": "UnitPrice",
         "rawType": "float64",
         "type": "float"
        }
       ],
       "conversionMethod": "pd.DataFrame",
       "ref": "acd25e50-bc3c-40aa-9188-8690c221cb0c",
       "rows": [
        [
         "0",
         "1",
         "For Those About To Rock (We Salute You)",
         "1",
         "1",
         "1",
         "Angus Young, Malcolm Young, Brian Johnson",
         "343719",
         "11170334",
         "0.99"
        ],
        [
         "1",
         "6",
         "Put The Finger On You",
         "1",
         "1",
         "1",
         "Angus Young, Malcolm Young, Brian Johnson",
         "205662",
         "6713451",
         "0.99"
        ],
        [
         "2",
         "7",
         "Let's Get It Up",
         "1",
         "1",
         "1",
         "Angus Young, Malcolm Young, Brian Johnson",
         "233926",
         "7636561",
         "0.99"
        ],
        [
         "3",
         "8",
         "Inject The Venom",
         "1",
         "1",
         "1",
         "Angus Young, Malcolm Young, Brian Johnson",
         "210834",
         "6852860",
         "0.99"
        ],
        [
         "4",
         "9",
         "Snowballed",
         "1",
         "1",
         "1",
         "Angus Young, Malcolm Young, Brian Johnson",
         "203102",
         "6599424",
         "0.99"
        ],
        [
         "5",
         "10",
         "Evil Walks",
         "1",
         "1",
         "1",
         "Angus Young, Malcolm Young, Brian Johnson",
         "263497",
         "8611245",
         "0.99"
        ],
        [
         "6",
         "11",
         "C.O.D.",
         "1",
         "1",
         "1",
         "Angus Young, Malcolm Young, Brian Johnson",
         "199836",
         "6566314",
         "0.99"
        ],
        [
         "7",
         "12",
         "Breaking The Rules",
         "1",
         "1",
         "1",
         "Angus Young, Malcolm Young, Brian Johnson",
         "263288",
         "8596840",
         "0.99"
        ],
        [
         "8",
         "13",
         "Night Of The Long Knives",
         "1",
         "1",
         "1",
         "Angus Young, Malcolm Young, Brian Johnson",
         "205688",
         "6706347",
         "0.99"
        ],
        [
         "9",
         "14",
         "Spellbound",
         "1",
         "1",
         "1",
         "Angus Young, Malcolm Young, Brian Johnson",
         "270863",
         "8817038",
         "0.99"
        ]
       ],
       "shape": {
        "columns": 9,
        "rows": 10
       }
      },
      "text/html": [
       "<div>\n",
       "<style scoped>\n",
       "    .dataframe tbody tr th:only-of-type {\n",
       "        vertical-align: middle;\n",
       "    }\n",
       "\n",
       "    .dataframe tbody tr th {\n",
       "        vertical-align: top;\n",
       "    }\n",
       "\n",
       "    .dataframe thead th {\n",
       "        text-align: right;\n",
       "    }\n",
       "</style>\n",
       "<table border=\"1\" class=\"dataframe\">\n",
       "  <thead>\n",
       "    <tr style=\"text-align: right;\">\n",
       "      <th></th>\n",
       "      <th>TrackId</th>\n",
       "      <th>Name</th>\n",
       "      <th>AlbumId</th>\n",
       "      <th>MediaTypeId</th>\n",
       "      <th>GenreId</th>\n",
       "      <th>Composer</th>\n",
       "      <th>Milliseconds</th>\n",
       "      <th>Bytes</th>\n",
       "      <th>UnitPrice</th>\n",
       "    </tr>\n",
       "  </thead>\n",
       "  <tbody>\n",
       "    <tr>\n",
       "      <th>0</th>\n",
       "      <td>1</td>\n",
       "      <td>For Those About To Rock (We Salute You)</td>\n",
       "      <td>1</td>\n",
       "      <td>1</td>\n",
       "      <td>1</td>\n",
       "      <td>Angus Young, Malcolm Young, Brian Johnson</td>\n",
       "      <td>343719</td>\n",
       "      <td>11170334</td>\n",
       "      <td>0.99</td>\n",
       "    </tr>\n",
       "    <tr>\n",
       "      <th>1</th>\n",
       "      <td>6</td>\n",
       "      <td>Put The Finger On You</td>\n",
       "      <td>1</td>\n",
       "      <td>1</td>\n",
       "      <td>1</td>\n",
       "      <td>Angus Young, Malcolm Young, Brian Johnson</td>\n",
       "      <td>205662</td>\n",
       "      <td>6713451</td>\n",
       "      <td>0.99</td>\n",
       "    </tr>\n",
       "    <tr>\n",
       "      <th>2</th>\n",
       "      <td>7</td>\n",
       "      <td>Let's Get It Up</td>\n",
       "      <td>1</td>\n",
       "      <td>1</td>\n",
       "      <td>1</td>\n",
       "      <td>Angus Young, Malcolm Young, Brian Johnson</td>\n",
       "      <td>233926</td>\n",
       "      <td>7636561</td>\n",
       "      <td>0.99</td>\n",
       "    </tr>\n",
       "    <tr>\n",
       "      <th>3</th>\n",
       "      <td>8</td>\n",
       "      <td>Inject The Venom</td>\n",
       "      <td>1</td>\n",
       "      <td>1</td>\n",
       "      <td>1</td>\n",
       "      <td>Angus Young, Malcolm Young, Brian Johnson</td>\n",
       "      <td>210834</td>\n",
       "      <td>6852860</td>\n",
       "      <td>0.99</td>\n",
       "    </tr>\n",
       "    <tr>\n",
       "      <th>4</th>\n",
       "      <td>9</td>\n",
       "      <td>Snowballed</td>\n",
       "      <td>1</td>\n",
       "      <td>1</td>\n",
       "      <td>1</td>\n",
       "      <td>Angus Young, Malcolm Young, Brian Johnson</td>\n",
       "      <td>203102</td>\n",
       "      <td>6599424</td>\n",
       "      <td>0.99</td>\n",
       "    </tr>\n",
       "    <tr>\n",
       "      <th>5</th>\n",
       "      <td>10</td>\n",
       "      <td>Evil Walks</td>\n",
       "      <td>1</td>\n",
       "      <td>1</td>\n",
       "      <td>1</td>\n",
       "      <td>Angus Young, Malcolm Young, Brian Johnson</td>\n",
       "      <td>263497</td>\n",
       "      <td>8611245</td>\n",
       "      <td>0.99</td>\n",
       "    </tr>\n",
       "    <tr>\n",
       "      <th>6</th>\n",
       "      <td>11</td>\n",
       "      <td>C.O.D.</td>\n",
       "      <td>1</td>\n",
       "      <td>1</td>\n",
       "      <td>1</td>\n",
       "      <td>Angus Young, Malcolm Young, Brian Johnson</td>\n",
       "      <td>199836</td>\n",
       "      <td>6566314</td>\n",
       "      <td>0.99</td>\n",
       "    </tr>\n",
       "    <tr>\n",
       "      <th>7</th>\n",
       "      <td>12</td>\n",
       "      <td>Breaking The Rules</td>\n",
       "      <td>1</td>\n",
       "      <td>1</td>\n",
       "      <td>1</td>\n",
       "      <td>Angus Young, Malcolm Young, Brian Johnson</td>\n",
       "      <td>263288</td>\n",
       "      <td>8596840</td>\n",
       "      <td>0.99</td>\n",
       "    </tr>\n",
       "    <tr>\n",
       "      <th>8</th>\n",
       "      <td>13</td>\n",
       "      <td>Night Of The Long Knives</td>\n",
       "      <td>1</td>\n",
       "      <td>1</td>\n",
       "      <td>1</td>\n",
       "      <td>Angus Young, Malcolm Young, Brian Johnson</td>\n",
       "      <td>205688</td>\n",
       "      <td>6706347</td>\n",
       "      <td>0.99</td>\n",
       "    </tr>\n",
       "    <tr>\n",
       "      <th>9</th>\n",
       "      <td>14</td>\n",
       "      <td>Spellbound</td>\n",
       "      <td>1</td>\n",
       "      <td>1</td>\n",
       "      <td>1</td>\n",
       "      <td>Angus Young, Malcolm Young, Brian Johnson</td>\n",
       "      <td>270863</td>\n",
       "      <td>8817038</td>\n",
       "      <td>0.99</td>\n",
       "    </tr>\n",
       "  </tbody>\n",
       "</table>\n",
       "</div>"
      ],
      "text/plain": [
       "   TrackId                                     Name  AlbumId  MediaTypeId  \\\n",
       "0        1  For Those About To Rock (We Salute You)        1            1   \n",
       "1        6                    Put The Finger On You        1            1   \n",
       "2        7                          Let's Get It Up        1            1   \n",
       "3        8                         Inject The Venom        1            1   \n",
       "4        9                               Snowballed        1            1   \n",
       "5       10                               Evil Walks        1            1   \n",
       "6       11                                   C.O.D.        1            1   \n",
       "7       12                       Breaking The Rules        1            1   \n",
       "8       13                 Night Of The Long Knives        1            1   \n",
       "9       14                               Spellbound        1            1   \n",
       "\n",
       "   GenreId                                   Composer  Milliseconds     Bytes  \\\n",
       "0        1  Angus Young, Malcolm Young, Brian Johnson        343719  11170334   \n",
       "1        1  Angus Young, Malcolm Young, Brian Johnson        205662   6713451   \n",
       "2        1  Angus Young, Malcolm Young, Brian Johnson        233926   7636561   \n",
       "3        1  Angus Young, Malcolm Young, Brian Johnson        210834   6852860   \n",
       "4        1  Angus Young, Malcolm Young, Brian Johnson        203102   6599424   \n",
       "5        1  Angus Young, Malcolm Young, Brian Johnson        263497   8611245   \n",
       "6        1  Angus Young, Malcolm Young, Brian Johnson        199836   6566314   \n",
       "7        1  Angus Young, Malcolm Young, Brian Johnson        263288   8596840   \n",
       "8        1  Angus Young, Malcolm Young, Brian Johnson        205688   6706347   \n",
       "9        1  Angus Young, Malcolm Young, Brian Johnson        270863   8817038   \n",
       "\n",
       "   UnitPrice  \n",
       "0       0.99  \n",
       "1       0.99  \n",
       "2       0.99  \n",
       "3       0.99  \n",
       "4       0.99  \n",
       "5       0.99  \n",
       "6       0.99  \n",
       "7       0.99  \n",
       "8       0.99  \n",
       "9       0.99  "
      ]
     },
     "execution_count": 150,
     "metadata": {},
     "output_type": "execute_result"
    }
   ],
   "source": [
    "query = '''\n",
    "SELECT * \n",
    "FROM tracks\n",
    "WHERE composer LIKE '%Brian Johnson%'\n",
    "'''\n",
    "\n",
    "sql_query(query)"
   ]
  },
  {
   "cell_type": "markdown",
   "metadata": {},
   "source": [
    "Compliquemos un poco más el `WHERE`"
   ]
  },
  {
   "cell_type": "code",
   "execution_count": 151,
   "metadata": {},
   "outputs": [
    {
     "data": {
      "application/vnd.microsoft.datawrangler.viewer.v0+json": {
       "columns": [
        {
         "name": "index",
         "rawType": "int64",
         "type": "integer"
        },
        {
         "name": "TrackId",
         "rawType": "int64",
         "type": "integer"
        },
        {
         "name": "Name",
         "rawType": "object",
         "type": "string"
        },
        {
         "name": "AlbumId",
         "rawType": "int64",
         "type": "integer"
        },
        {
         "name": "MediaTypeId",
         "rawType": "int64",
         "type": "integer"
        },
        {
         "name": "GenreId",
         "rawType": "int64",
         "type": "integer"
        },
        {
         "name": "Composer",
         "rawType": "object",
         "type": "unknown"
        },
        {
         "name": "Milliseconds",
         "rawType": "int64",
         "type": "integer"
        },
        {
         "name": "Bytes",
         "rawType": "int64",
         "type": "integer"
        },
        {
         "name": "UnitPrice",
         "rawType": "float64",
         "type": "float"
        }
       ],
       "conversionMethod": "pd.DataFrame",
       "ref": "e26c7030-9c07-4f16-8fc8-30fd4304af58",
       "rows": [
        [
         "0",
         "2844",
         "Better Halves",
         "228",
         "3",
         "21",
         null,
         "2573031",
         "549353481",
         "1.99"
        ],
        [
         "1",
         "2849",
         "Fallout",
         "228",
         "3",
         "21",
         null,
         "2594761",
         "501145440",
         "1.99"
        ],
        [
         "2",
         "2862",
         "The Glass Ballerina",
         "229",
         "3",
         "21",
         null,
         "2637458",
         "535729216",
         "1.99"
        ],
        [
         "3",
         "2882",
         "Lost Survival Guide",
         "229",
         "3",
         "21",
         null,
         "2632590",
         "486675063",
         "1.99"
        ],
        [
         "4",
         "2899",
         "The Man from Tallahassee",
         "229",
         "3",
         "21",
         null,
         "2637637",
         "550893556",
         "1.99"
        ],
        [
         "5",
         "2922",
         "Live Together, Die Alone, Pt. 1",
         "231",
         "3",
         "21",
         null,
         "2478041",
         "457364940",
         "1.99"
        ],
        [
         "6",
         "3211",
         "Traveling Salesmen",
         "251",
         "3",
         "22",
         null,
         "1289039",
         "250822697",
         "1.99"
        ],
        [
         "7",
         "3219",
         "Product Recall",
         "251",
         "3",
         "22",
         null,
         "1268268",
         "251208610",
         "1.99"
        ]
       ],
       "shape": {
        "columns": 9,
        "rows": 8
       }
      },
      "text/html": [
       "<div>\n",
       "<style scoped>\n",
       "    .dataframe tbody tr th:only-of-type {\n",
       "        vertical-align: middle;\n",
       "    }\n",
       "\n",
       "    .dataframe tbody tr th {\n",
       "        vertical-align: top;\n",
       "    }\n",
       "\n",
       "    .dataframe thead th {\n",
       "        text-align: right;\n",
       "    }\n",
       "</style>\n",
       "<table border=\"1\" class=\"dataframe\">\n",
       "  <thead>\n",
       "    <tr style=\"text-align: right;\">\n",
       "      <th></th>\n",
       "      <th>TrackId</th>\n",
       "      <th>Name</th>\n",
       "      <th>AlbumId</th>\n",
       "      <th>MediaTypeId</th>\n",
       "      <th>GenreId</th>\n",
       "      <th>Composer</th>\n",
       "      <th>Milliseconds</th>\n",
       "      <th>Bytes</th>\n",
       "      <th>UnitPrice</th>\n",
       "    </tr>\n",
       "  </thead>\n",
       "  <tbody>\n",
       "    <tr>\n",
       "      <th>0</th>\n",
       "      <td>2844</td>\n",
       "      <td>Better Halves</td>\n",
       "      <td>228</td>\n",
       "      <td>3</td>\n",
       "      <td>21</td>\n",
       "      <td>None</td>\n",
       "      <td>2573031</td>\n",
       "      <td>549353481</td>\n",
       "      <td>1.99</td>\n",
       "    </tr>\n",
       "    <tr>\n",
       "      <th>1</th>\n",
       "      <td>2849</td>\n",
       "      <td>Fallout</td>\n",
       "      <td>228</td>\n",
       "      <td>3</td>\n",
       "      <td>21</td>\n",
       "      <td>None</td>\n",
       "      <td>2594761</td>\n",
       "      <td>501145440</td>\n",
       "      <td>1.99</td>\n",
       "    </tr>\n",
       "    <tr>\n",
       "      <th>2</th>\n",
       "      <td>2862</td>\n",
       "      <td>The Glass Ballerina</td>\n",
       "      <td>229</td>\n",
       "      <td>3</td>\n",
       "      <td>21</td>\n",
       "      <td>None</td>\n",
       "      <td>2637458</td>\n",
       "      <td>535729216</td>\n",
       "      <td>1.99</td>\n",
       "    </tr>\n",
       "    <tr>\n",
       "      <th>3</th>\n",
       "      <td>2882</td>\n",
       "      <td>Lost Survival Guide</td>\n",
       "      <td>229</td>\n",
       "      <td>3</td>\n",
       "      <td>21</td>\n",
       "      <td>None</td>\n",
       "      <td>2632590</td>\n",
       "      <td>486675063</td>\n",
       "      <td>1.99</td>\n",
       "    </tr>\n",
       "    <tr>\n",
       "      <th>4</th>\n",
       "      <td>2899</td>\n",
       "      <td>The Man from Tallahassee</td>\n",
       "      <td>229</td>\n",
       "      <td>3</td>\n",
       "      <td>21</td>\n",
       "      <td>None</td>\n",
       "      <td>2637637</td>\n",
       "      <td>550893556</td>\n",
       "      <td>1.99</td>\n",
       "    </tr>\n",
       "    <tr>\n",
       "      <th>5</th>\n",
       "      <td>2922</td>\n",
       "      <td>Live Together, Die Alone, Pt. 1</td>\n",
       "      <td>231</td>\n",
       "      <td>3</td>\n",
       "      <td>21</td>\n",
       "      <td>None</td>\n",
       "      <td>2478041</td>\n",
       "      <td>457364940</td>\n",
       "      <td>1.99</td>\n",
       "    </tr>\n",
       "    <tr>\n",
       "      <th>6</th>\n",
       "      <td>3211</td>\n",
       "      <td>Traveling Salesmen</td>\n",
       "      <td>251</td>\n",
       "      <td>3</td>\n",
       "      <td>22</td>\n",
       "      <td>None</td>\n",
       "      <td>1289039</td>\n",
       "      <td>250822697</td>\n",
       "      <td>1.99</td>\n",
       "    </tr>\n",
       "    <tr>\n",
       "      <th>7</th>\n",
       "      <td>3219</td>\n",
       "      <td>Product Recall</td>\n",
       "      <td>251</td>\n",
       "      <td>3</td>\n",
       "      <td>22</td>\n",
       "      <td>None</td>\n",
       "      <td>1268268</td>\n",
       "      <td>251208610</td>\n",
       "      <td>1.99</td>\n",
       "    </tr>\n",
       "  </tbody>\n",
       "</table>\n",
       "</div>"
      ],
      "text/plain": [
       "   TrackId                             Name  AlbumId  MediaTypeId  GenreId  \\\n",
       "0     2844                    Better Halves      228            3       21   \n",
       "1     2849                          Fallout      228            3       21   \n",
       "2     2862              The Glass Ballerina      229            3       21   \n",
       "3     2882              Lost Survival Guide      229            3       21   \n",
       "4     2899         The Man from Tallahassee      229            3       21   \n",
       "5     2922  Live Together, Die Alone, Pt. 1      231            3       21   \n",
       "6     3211               Traveling Salesmen      251            3       22   \n",
       "7     3219                   Product Recall      251            3       22   \n",
       "\n",
       "  Composer  Milliseconds      Bytes  UnitPrice  \n",
       "0     None       2573031  549353481       1.99  \n",
       "1     None       2594761  501145440       1.99  \n",
       "2     None       2637458  535729216       1.99  \n",
       "3     None       2632590  486675063       1.99  \n",
       "4     None       2637637  550893556       1.99  \n",
       "5     None       2478041  457364940       1.99  \n",
       "6     None       1289039  250822697       1.99  \n",
       "7     None       1268268  251208610       1.99  "
      ]
     },
     "execution_count": 151,
     "metadata": {},
     "output_type": "execute_result"
    }
   ],
   "source": [
    "query = '''\n",
    "SELECT * \n",
    "FROM tracks\n",
    "WHERE (unitprice > 0.99 or bytes > 100000000) and genreid in (21, 22, 23) and Name LIKE '%al%'\n",
    "'''\n",
    "\n",
    "df = sql_query(query)\n",
    "df"
   ]
  },
  {
   "cell_type": "markdown",
   "metadata": {},
   "source": [
    "### 3.6 ORDER BY\n",
    "Podemos **ordenar la tabla por el campo/s que queramos**. Por defecto ordena alfabéticamente los strings y de menor a mayor los tipos numéricos. Si quieres que ordene al revés, tienes que poner `DESC` de la forma `ORDER BY campo DESC`"
   ]
  },
  {
   "cell_type": "code",
   "execution_count": 152,
   "metadata": {},
   "outputs": [
    {
     "data": {
      "application/vnd.microsoft.datawrangler.viewer.v0+json": {
       "columns": [
        {
         "name": "index",
         "rawType": "int64",
         "type": "integer"
        },
        {
         "name": "TrackId",
         "rawType": "int64",
         "type": "integer"
        },
        {
         "name": "Name",
         "rawType": "object",
         "type": "string"
        },
        {
         "name": "AlbumId",
         "rawType": "int64",
         "type": "integer"
        },
        {
         "name": "MediaTypeId",
         "rawType": "int64",
         "type": "integer"
        },
        {
         "name": "GenreId",
         "rawType": "int64",
         "type": "integer"
        },
        {
         "name": "Composer",
         "rawType": "object",
         "type": "unknown"
        },
        {
         "name": "Milliseconds",
         "rawType": "int64",
         "type": "integer"
        },
        {
         "name": "Bytes",
         "rawType": "int64",
         "type": "integer"
        },
        {
         "name": "UnitPrice",
         "rawType": "float64",
         "type": "float"
        }
       ],
       "conversionMethod": "pd.DataFrame",
       "ref": "dbd6f443-52d6-4411-a68e-7afd3cc03c81",
       "rows": [
        [
         "0",
         "1077",
         "Último Pau-De-Arara",
         "85",
         "1",
         "10",
         "Corumbá/José Gumarães/Venancio",
         "200437",
         "6638563",
         "0.99"
        ],
        [
         "1",
         "1073",
         "Óia Eu Aqui De Novo",
         "85",
         "1",
         "10",
         null,
         "219454",
         "7469735",
         "0.99"
        ],
        [
         "2",
         "2078",
         "Óculos",
         "169",
         "1",
         "7",
         null,
         "219271",
         "7262419",
         "0.99"
        ],
        [
         "3",
         "3496",
         "Étude 1, In C Major - Preludio (Presto) - Liszt",
         "340",
         "4",
         "24",
         null,
         "51780",
         "2229617",
         "0.99"
        ],
        [
         "4",
         "333",
         "É que Nessa Encarnação Eu Nasci Manga",
         "29",
         "1",
         "9",
         "Lucina/Luli",
         "196519",
         "6568081",
         "0.99"
        ],
        [
         "5",
         "2461",
         "É Uma Partida De Futebol",
         "200",
         "1",
         "1",
         "Samuel Rosa",
         "1071",
         "38747",
         "0.99"
        ],
        [
         "6",
         "2817",
         "É Preciso Saber Viver",
         "225",
         "1",
         "4",
         "Erasmo Carlos/Roberto Carlos",
         "251115",
         "8271418",
         "0.99"
        ],
        [
         "7",
         "1963",
         "É Fogo",
         "161",
         "1",
         "16",
         "Mônica Marianno",
         "194873",
         "6501520",
         "0.99"
        ],
        [
         "8",
         "857",
         "Álibi",
         "69",
         "1",
         "7",
         null,
         "213237",
         "6928434",
         "0.99"
        ],
        [
         "9",
         "379",
         "Água de Beber",
         "33",
         "1",
         "7",
         "Antonio Carlos Jobim/Vinicius de Moraes",
         "146677",
         "4866476",
         "0.99"
        ],
        [
         "10",
         "2449",
         "Água E Fogo",
         "199",
         "1",
         "1",
         "Chico Amaral/Edgard Scandurra/Samuel Rosa",
         "278987",
         "9272272",
         "0.99"
        ],
        [
         "11",
         "2026",
         "Às Vezes",
         "165",
         "1",
         "1",
         null,
         "330292",
         "10706614",
         "0.99"
        ],
        [
         "12",
         "388",
         "À Vontade (Live Mix)",
         "33",
         "1",
         "7",
         "Bombom/Ed Motta",
         "180636",
         "5972430",
         "0.99"
        ],
        [
         "13",
         "314",
         "À Francesa",
         "28",
         "1",
         "7",
         null,
         "244532",
         "8150846",
         "0.99"
        ],
        [
         "14",
         "2505",
         "[Untitled]",
         "202",
         "1",
         "4",
         "Billy Corgan",
         "231784",
         "7689713",
         "0.99"
        ],
        [
         "15",
         "3273",
         "[Just Like] Starting Over",
         "255",
         "2",
         "9",
         null,
         "215549",
         "3506308",
         "0.99"
        ],
        [
         "16",
         "2463",
         "Zé Trindade",
         "200",
         "1",
         "1",
         "Samuel Rosa",
         "247954",
         "8331310",
         "0.99"
        ],
        [
         "17",
         "3028",
         "Zooropa",
         "240",
         "1",
         "1",
         "U2; Bono",
         "392359",
         "12807979",
         "0.99"
        ],
        [
         "18",
         "2926",
         "Zoo Station",
         "232",
         "1",
         "1",
         "U2",
         "276349",
         "9056902",
         "0.99"
        ],
        [
         "19",
         "968",
         "Zombie Eaters",
         "77",
         "1",
         "4",
         "Faith No More",
         "360881",
         "11835367",
         "0.99"
        ],
        [
         "20",
         "2306",
         "Zither",
         "189",
         "1",
         "1",
         "Bill Berry-Peter Buck-Mike Mills-Michael Stipe",
         "154148",
         "5032962",
         "0.99"
        ],
        [
         "21",
         "2238",
         "ZeroVinteUm",
         "184",
         "1",
         "17",
         null,
         "315637",
         "10426550",
         "0.99"
        ],
        [
         "22",
         "2497",
         "Zero",
         "202",
         "1",
         "4",
         "Billy Corgan",
         "161123",
         "5267176",
         "0.99"
        ],
        [
         "23",
         "981",
         "Zeca Violeiro",
         "78",
         "1",
         "7",
         null,
         "143673",
         "4781949",
         "0.99"
        ],
        [
         "24",
         "1062",
         "Zambação",
         "84",
         "1",
         "7",
         null,
         "301113",
         "10030604",
         "0.99"
        ],
        [
         "25",
         "1622",
         "Your Time Is Gonna Come",
         "132",
         "1",
         "1",
         "Jimmy Page/John Paul Jones",
         "274860",
         "9011653",
         "0.99"
        ],
        [
         "26",
         "3225",
         "Your Time Is Gonna Come",
         "252",
         "2",
         "1",
         "Page, Jones",
         "310774",
         "5126563",
         "0.99"
        ],
        [
         "27",
         "99",
         "Your Time Has Come",
         "11",
         "1",
         "4",
         "Cornell, Commerford, Morello, Wilk",
         "255529",
         "8273592",
         "0.99"
        ],
        [
         "28",
         "3384",
         "Your Soul Today",
         "270",
         "2",
         "23",
         "Chris Cornell",
         "205959",
         "3385722",
         "0.99"
        ],
        [
         "29",
         "3372",
         "Your Savior",
         "269",
         "2",
         "23",
         null,
         "244226",
         "4199626",
         "0.99"
        ],
        [
         "30",
         "2444",
         "Your Mirror",
         "141",
         "1",
         "1",
         "Mick Hucknall",
         "240666",
         "7893821",
         "0.99"
        ],
        [
         "31",
         "2127",
         "Your Blue Room",
         "176",
         "1",
         "10",
         "Brian Eno, Bono, Adam Clayton, The Edge & Larry Mullen Jnr.",
         "328228",
         "10867860",
         "0.99"
        ],
        [
         "32",
         "2439",
         "You've Got It",
         "141",
         "1",
         "1",
         "Mick Hucknall and Lamont Dozier",
         "235232",
         "7712845",
         "0.99"
        ],
        [
         "33",
         "1553",
         "You've Got Another Thing Comin'",
         "125",
         "1",
         "3",
         null,
         "305162",
         "9962558",
         "0.99"
        ],
        [
         "34",
         "1776",
         "You've Been A Long Time Coming",
         "146",
         "1",
         "14",
         "Brian Holland/Eddie Holland/Lamont Dozier",
         "137221",
         "4437949",
         "0.99"
        ],
        [
         "35",
         "1778",
         "You're What's Happening (In The World Today)",
         "146",
         "1",
         "14",
         "Allen Story/George Gordy/Robert Gordy",
         "142027",
         "4631104",
         "0.99"
        ],
        [
         "36",
         "2259",
         "You're My Best Friend",
         "185",
         "1",
         "1",
         "Deacon, John",
         "172225",
         "5602173",
         "0.99"
        ],
        [
         "37",
         "3141",
         "You're Gonna Break My Hart Again",
         "141",
         "1",
         "3",
         "Sykes",
         "250853",
         "8176847",
         "0.99"
        ],
        [
         "38",
         "1155",
         "You're Crazy",
         "90",
         "2",
         "1",
         null,
         "197135",
         "3301971",
         "0.99"
        ],
        [
         "39",
         "1787",
         "You Sure Love To Ball",
         "146",
         "1",
         "14",
         "Marvin Gaye",
         "218540",
         "7217872",
         "0.99"
        ],
        [
         "40",
         "349",
         "You Shook Me(2)",
         "30",
         "1",
         "1",
         "J B Lenoir/Willie Dixon",
         "619467",
         "20138673",
         "0.99"
        ],
        [
         "41",
         "337",
         "You Shook Me",
         "30",
         "1",
         "1",
         "J B Lenoir/Willie Dixon",
         "315951",
         "10249958",
         "0.99"
        ],
        [
         "42",
         "1620",
         "You Shook Me",
         "132",
         "1",
         "1",
         "J. B. Lenoir/Willie Dixon",
         "388179",
         "12643067",
         "0.99"
        ],
        [
         "43",
         "3468",
         "You Sent Me Flying / Cherry",
         "322",
         "2",
         "9",
         null,
         "409906",
         "6657517",
         "0.99"
        ],
        [
         "44",
         "3083",
         "You Really Got Me",
         "244",
         "1",
         "1",
         "Ray Davies",
         "158589",
         "5194092",
         "0.99"
        ],
        [
         "45",
         "50",
         "You Oughta Know (Alternate)",
         "6",
         "1",
         "1",
         "Alanis Morissette & Glenn Ballard",
         "491885",
         "16008629",
         "0.99"
        ],
        [
         "46",
         "39",
         "You Oughta Know",
         "6",
         "1",
         "1",
         "Alanis Morissette & Glenn Ballard",
         "249234",
         "8196916",
         "0.99"
        ],
        [
         "47",
         "44",
         "You Learn",
         "6",
         "1",
         "1",
         "Alanis Morissette & Glenn Ballard",
         "239699",
         "7824837",
         "0.99"
        ],
        [
         "48",
         "3388",
         "You Know My Name",
         "270",
         "2",
         "23",
         "Chris Cornell",
         "240255",
         "3940651",
         "0.99"
        ],
        [
         "49",
         "3465",
         "You Know I'm No Good (feat. Ghostface Killah)",
         "321",
         "2",
         "14",
         null,
         "202320",
         "3260658",
         "0.99"
        ]
       ],
       "shape": {
        "columns": 9,
        "rows": 3503
       }
      },
      "text/html": [
       "<div>\n",
       "<style scoped>\n",
       "    .dataframe tbody tr th:only-of-type {\n",
       "        vertical-align: middle;\n",
       "    }\n",
       "\n",
       "    .dataframe tbody tr th {\n",
       "        vertical-align: top;\n",
       "    }\n",
       "\n",
       "    .dataframe thead th {\n",
       "        text-align: right;\n",
       "    }\n",
       "</style>\n",
       "<table border=\"1\" class=\"dataframe\">\n",
       "  <thead>\n",
       "    <tr style=\"text-align: right;\">\n",
       "      <th></th>\n",
       "      <th>TrackId</th>\n",
       "      <th>Name</th>\n",
       "      <th>AlbumId</th>\n",
       "      <th>MediaTypeId</th>\n",
       "      <th>GenreId</th>\n",
       "      <th>Composer</th>\n",
       "      <th>Milliseconds</th>\n",
       "      <th>Bytes</th>\n",
       "      <th>UnitPrice</th>\n",
       "    </tr>\n",
       "  </thead>\n",
       "  <tbody>\n",
       "    <tr>\n",
       "      <th>0</th>\n",
       "      <td>1077</td>\n",
       "      <td>Último Pau-De-Arara</td>\n",
       "      <td>85</td>\n",
       "      <td>1</td>\n",
       "      <td>10</td>\n",
       "      <td>Corumbá/José Gumarães/Venancio</td>\n",
       "      <td>200437</td>\n",
       "      <td>6638563</td>\n",
       "      <td>0.99</td>\n",
       "    </tr>\n",
       "    <tr>\n",
       "      <th>1</th>\n",
       "      <td>1073</td>\n",
       "      <td>Óia Eu Aqui De Novo</td>\n",
       "      <td>85</td>\n",
       "      <td>1</td>\n",
       "      <td>10</td>\n",
       "      <td>None</td>\n",
       "      <td>219454</td>\n",
       "      <td>7469735</td>\n",
       "      <td>0.99</td>\n",
       "    </tr>\n",
       "    <tr>\n",
       "      <th>2</th>\n",
       "      <td>2078</td>\n",
       "      <td>Óculos</td>\n",
       "      <td>169</td>\n",
       "      <td>1</td>\n",
       "      <td>7</td>\n",
       "      <td>None</td>\n",
       "      <td>219271</td>\n",
       "      <td>7262419</td>\n",
       "      <td>0.99</td>\n",
       "    </tr>\n",
       "    <tr>\n",
       "      <th>3</th>\n",
       "      <td>3496</td>\n",
       "      <td>Étude 1, In C Major - Preludio (Presto) - Liszt</td>\n",
       "      <td>340</td>\n",
       "      <td>4</td>\n",
       "      <td>24</td>\n",
       "      <td>None</td>\n",
       "      <td>51780</td>\n",
       "      <td>2229617</td>\n",
       "      <td>0.99</td>\n",
       "    </tr>\n",
       "    <tr>\n",
       "      <th>4</th>\n",
       "      <td>333</td>\n",
       "      <td>É que Nessa Encarnação Eu Nasci Manga</td>\n",
       "      <td>29</td>\n",
       "      <td>1</td>\n",
       "      <td>9</td>\n",
       "      <td>Lucina/Luli</td>\n",
       "      <td>196519</td>\n",
       "      <td>6568081</td>\n",
       "      <td>0.99</td>\n",
       "    </tr>\n",
       "    <tr>\n",
       "      <th>...</th>\n",
       "      <td>...</td>\n",
       "      <td>...</td>\n",
       "      <td>...</td>\n",
       "      <td>...</td>\n",
       "      <td>...</td>\n",
       "      <td>...</td>\n",
       "      <td>...</td>\n",
       "      <td>...</td>\n",
       "      <td>...</td>\n",
       "    </tr>\n",
       "    <tr>\n",
       "      <th>3498</th>\n",
       "      <td>3254</td>\n",
       "      <td>#9 Dream</td>\n",
       "      <td>255</td>\n",
       "      <td>2</td>\n",
       "      <td>9</td>\n",
       "      <td>None</td>\n",
       "      <td>278312</td>\n",
       "      <td>4506425</td>\n",
       "      <td>0.99</td>\n",
       "    </tr>\n",
       "    <tr>\n",
       "      <th>3499</th>\n",
       "      <td>109</td>\n",
       "      <td>#1 Zero</td>\n",
       "      <td>11</td>\n",
       "      <td>1</td>\n",
       "      <td>4</td>\n",
       "      <td>Cornell, Commerford, Morello, Wilk</td>\n",
       "      <td>299102</td>\n",
       "      <td>9731988</td>\n",
       "      <td>0.99</td>\n",
       "    </tr>\n",
       "    <tr>\n",
       "      <th>3500</th>\n",
       "      <td>3412</td>\n",
       "      <td>\"Eine Kleine Nachtmusik\" Serenade In G, K. 525...</td>\n",
       "      <td>281</td>\n",
       "      <td>2</td>\n",
       "      <td>24</td>\n",
       "      <td>Wolfgang Amadeus Mozart</td>\n",
       "      <td>348971</td>\n",
       "      <td>5760129</td>\n",
       "      <td>0.99</td>\n",
       "    </tr>\n",
       "    <tr>\n",
       "      <th>3501</th>\n",
       "      <td>2918</td>\n",
       "      <td>\"?\"</td>\n",
       "      <td>231</td>\n",
       "      <td>3</td>\n",
       "      <td>19</td>\n",
       "      <td>None</td>\n",
       "      <td>2782333</td>\n",
       "      <td>528227089</td>\n",
       "      <td>1.99</td>\n",
       "    </tr>\n",
       "    <tr>\n",
       "      <th>3502</th>\n",
       "      <td>3027</td>\n",
       "      <td>\"40\"</td>\n",
       "      <td>239</td>\n",
       "      <td>1</td>\n",
       "      <td>1</td>\n",
       "      <td>U2</td>\n",
       "      <td>157962</td>\n",
       "      <td>5251767</td>\n",
       "      <td>0.99</td>\n",
       "    </tr>\n",
       "  </tbody>\n",
       "</table>\n",
       "<p>3503 rows × 9 columns</p>\n",
       "</div>"
      ],
      "text/plain": [
       "      TrackId                                               Name  AlbumId  \\\n",
       "0        1077                                Último Pau-De-Arara       85   \n",
       "1        1073                                Óia Eu Aqui De Novo       85   \n",
       "2        2078                                             Óculos      169   \n",
       "3        3496    Étude 1, In C Major - Preludio (Presto) - Liszt      340   \n",
       "4         333              É que Nessa Encarnação Eu Nasci Manga       29   \n",
       "...       ...                                                ...      ...   \n",
       "3498     3254                                           #9 Dream      255   \n",
       "3499      109                                            #1 Zero       11   \n",
       "3500     3412  \"Eine Kleine Nachtmusik\" Serenade In G, K. 525...      281   \n",
       "3501     2918                                                \"?\"      231   \n",
       "3502     3027                                               \"40\"      239   \n",
       "\n",
       "      MediaTypeId  GenreId                            Composer  Milliseconds  \\\n",
       "0               1       10      Corumbá/José Gumarães/Venancio        200437   \n",
       "1               1       10                                None        219454   \n",
       "2               1        7                                None        219271   \n",
       "3               4       24                                None         51780   \n",
       "4               1        9                         Lucina/Luli        196519   \n",
       "...           ...      ...                                 ...           ...   \n",
       "3498            2        9                                None        278312   \n",
       "3499            1        4  Cornell, Commerford, Morello, Wilk        299102   \n",
       "3500            2       24             Wolfgang Amadeus Mozart        348971   \n",
       "3501            3       19                                None       2782333   \n",
       "3502            1        1                                  U2        157962   \n",
       "\n",
       "          Bytes  UnitPrice  \n",
       "0       6638563       0.99  \n",
       "1       7469735       0.99  \n",
       "2       7262419       0.99  \n",
       "3       2229617       0.99  \n",
       "4       6568081       0.99  \n",
       "...         ...        ...  \n",
       "3498    4506425       0.99  \n",
       "3499    9731988       0.99  \n",
       "3500    5760129       0.99  \n",
       "3501  528227089       1.99  \n",
       "3502    5251767       0.99  \n",
       "\n",
       "[3503 rows x 9 columns]"
      ]
     },
     "execution_count": 152,
     "metadata": {},
     "output_type": "execute_result"
    }
   ],
   "source": [
    "query = '''\n",
    "SELECT * \n",
    "FROM tracks\n",
    "ORDER BY name DESC;\n",
    "'''\n",
    "\n",
    "sql_query(query)"
   ]
  },
  {
   "cell_type": "markdown",
   "metadata": {},
   "source": [
    "### 3.7 Agregaciones\n",
    "En ocasiones nos interesa obtener algún estadístico como el máximo de un campo, su desviación estándar o simplemente un conteo de registros no nulos. Para ello podemos usar funciones como `MAX`, `COUNT` o `AVG`. En [esta página](https://www.sqlservertutorial.net/sql-server-aggregate-functions/) encontrarás un resumen con las principales funciones."
   ]
  },
  {
   "cell_type": "code",
   "execution_count": 153,
   "metadata": {},
   "outputs": [
    {
     "data": {
      "application/vnd.microsoft.datawrangler.viewer.v0+json": {
       "columns": [
        {
         "name": "index",
         "rawType": "int64",
         "type": "integer"
        },
        {
         "name": "COUNT(*)",
         "rawType": "int64",
         "type": "integer"
        }
       ],
       "conversionMethod": "pd.DataFrame",
       "ref": "28e5a08b-f431-4116-9772-b8d142f013e4",
       "rows": [
        [
         "0",
         "199"
        ]
       ],
       "shape": {
        "columns": 1,
        "rows": 1
       }
      },
      "text/html": [
       "<div>\n",
       "<style scoped>\n",
       "    .dataframe tbody tr th:only-of-type {\n",
       "        vertical-align: middle;\n",
       "    }\n",
       "\n",
       "    .dataframe tbody tr th {\n",
       "        vertical-align: top;\n",
       "    }\n",
       "\n",
       "    .dataframe thead th {\n",
       "        text-align: right;\n",
       "    }\n",
       "</style>\n",
       "<table border=\"1\" class=\"dataframe\">\n",
       "  <thead>\n",
       "    <tr style=\"text-align: right;\">\n",
       "      <th></th>\n",
       "      <th>COUNT(*)</th>\n",
       "    </tr>\n",
       "  </thead>\n",
       "  <tbody>\n",
       "    <tr>\n",
       "      <th>0</th>\n",
       "      <td>199</td>\n",
       "    </tr>\n",
       "  </tbody>\n",
       "</table>\n",
       "</div>"
      ],
      "text/plain": [
       "   COUNT(*)\n",
       "0       199"
      ]
     },
     "execution_count": 153,
     "metadata": {},
     "output_type": "execute_result"
    }
   ],
   "source": [
    "# Aggregations\n",
    "query = '''\n",
    "SELECT COUNT(*)\n",
    "FROM tracks\n",
    "WHERE name LIKE 'a%';\n",
    "'''\n",
    "\n",
    "sql_query(query)"
   ]
  },
  {
   "cell_type": "code",
   "execution_count": 154,
   "metadata": {},
   "outputs": [
    {
     "data": {
      "application/vnd.microsoft.datawrangler.viewer.v0+json": {
       "columns": [
        {
         "name": "index",
         "rawType": "int64",
         "type": "integer"
        },
        {
         "name": "AVG(unitprice)",
         "rawType": "float64",
         "type": "float"
        }
       ],
       "conversionMethod": "pd.DataFrame",
       "ref": "8f70f884-4951-46ff-b72c-1df7f1a344cd",
       "rows": [
        [
         "0",
         "1.0395535714285713"
        ]
       ],
       "shape": {
        "columns": 1,
        "rows": 1
       }
      },
      "text/html": [
       "<div>\n",
       "<style scoped>\n",
       "    .dataframe tbody tr th:only-of-type {\n",
       "        vertical-align: middle;\n",
       "    }\n",
       "\n",
       "    .dataframe tbody tr th {\n",
       "        vertical-align: top;\n",
       "    }\n",
       "\n",
       "    .dataframe thead th {\n",
       "        text-align: right;\n",
       "    }\n",
       "</style>\n",
       "<table border=\"1\" class=\"dataframe\">\n",
       "  <thead>\n",
       "    <tr style=\"text-align: right;\">\n",
       "      <th></th>\n",
       "      <th>AVG(unitprice)</th>\n",
       "    </tr>\n",
       "  </thead>\n",
       "  <tbody>\n",
       "    <tr>\n",
       "      <th>0</th>\n",
       "      <td>1.039554</td>\n",
       "    </tr>\n",
       "  </tbody>\n",
       "</table>\n",
       "</div>"
      ],
      "text/plain": [
       "   AVG(unitprice)\n",
       "0        1.039554"
      ]
     },
     "execution_count": 154,
     "metadata": {},
     "output_type": "execute_result"
    }
   ],
   "source": [
    "query = '''\n",
    "SELECT AVG(unitprice)\n",
    "FROM invoice_items;\n",
    "'''\n",
    "\n",
    "sql_query(query)"
   ]
  },
  {
   "cell_type": "markdown",
   "metadata": {},
   "source": [
    "### 3.8 GROUP BY\n",
    "Es una sentencia muy útil para **calcular agregados en función de otro campo**. Por ejemplo, para calcular el total del precio unitario en función del género\n"
   ]
  },
  {
   "cell_type": "code",
   "execution_count": 155,
   "metadata": {},
   "outputs": [
    {
     "data": {
      "application/vnd.microsoft.datawrangler.viewer.v0+json": {
       "columns": [
        {
         "name": "index",
         "rawType": "int64",
         "type": "integer"
        },
        {
         "name": "GenreId",
         "rawType": "int64",
         "type": "integer"
        },
        {
         "name": "TOT_PRICE",
         "rawType": "float64",
         "type": "float"
        }
       ],
       "conversionMethod": "pd.DataFrame",
       "ref": "92f71bc0-e737-4578-b2a2-f63eaeb95879",
       "rows": [
        [
         "0",
         "1",
         "1284.03"
        ],
        [
         "1",
         "7",
         "573.21"
        ],
        [
         "2",
         "3",
         "370.26"
        ],
        [
         "3",
         "4",
         "328.68"
        ],
        [
         "4",
         "19",
         "185.07"
        ],
        [
         "5",
         "2",
         "128.7"
        ],
        [
         "6",
         "21",
         "127.36"
        ],
        [
         "7",
         "6",
         "80.19"
        ],
        [
         "8",
         "24",
         "73.26"
        ],
        [
         "9",
         "14",
         "60.39"
        ]
       ],
       "shape": {
        "columns": 2,
        "rows": 10
       }
      },
      "text/html": [
       "<div>\n",
       "<style scoped>\n",
       "    .dataframe tbody tr th:only-of-type {\n",
       "        vertical-align: middle;\n",
       "    }\n",
       "\n",
       "    .dataframe tbody tr th {\n",
       "        vertical-align: top;\n",
       "    }\n",
       "\n",
       "    .dataframe thead th {\n",
       "        text-align: right;\n",
       "    }\n",
       "</style>\n",
       "<table border=\"1\" class=\"dataframe\">\n",
       "  <thead>\n",
       "    <tr style=\"text-align: right;\">\n",
       "      <th></th>\n",
       "      <th>GenreId</th>\n",
       "      <th>TOT_PRICE</th>\n",
       "    </tr>\n",
       "  </thead>\n",
       "  <tbody>\n",
       "    <tr>\n",
       "      <th>0</th>\n",
       "      <td>1</td>\n",
       "      <td>1284.03</td>\n",
       "    </tr>\n",
       "    <tr>\n",
       "      <th>1</th>\n",
       "      <td>7</td>\n",
       "      <td>573.21</td>\n",
       "    </tr>\n",
       "    <tr>\n",
       "      <th>2</th>\n",
       "      <td>3</td>\n",
       "      <td>370.26</td>\n",
       "    </tr>\n",
       "    <tr>\n",
       "      <th>3</th>\n",
       "      <td>4</td>\n",
       "      <td>328.68</td>\n",
       "    </tr>\n",
       "    <tr>\n",
       "      <th>4</th>\n",
       "      <td>19</td>\n",
       "      <td>185.07</td>\n",
       "    </tr>\n",
       "    <tr>\n",
       "      <th>5</th>\n",
       "      <td>2</td>\n",
       "      <td>128.70</td>\n",
       "    </tr>\n",
       "    <tr>\n",
       "      <th>6</th>\n",
       "      <td>21</td>\n",
       "      <td>127.36</td>\n",
       "    </tr>\n",
       "    <tr>\n",
       "      <th>7</th>\n",
       "      <td>6</td>\n",
       "      <td>80.19</td>\n",
       "    </tr>\n",
       "    <tr>\n",
       "      <th>8</th>\n",
       "      <td>24</td>\n",
       "      <td>73.26</td>\n",
       "    </tr>\n",
       "    <tr>\n",
       "      <th>9</th>\n",
       "      <td>14</td>\n",
       "      <td>60.39</td>\n",
       "    </tr>\n",
       "  </tbody>\n",
       "</table>\n",
       "</div>"
      ],
      "text/plain": [
       "   GenreId  TOT_PRICE\n",
       "0        1    1284.03\n",
       "1        7     573.21\n",
       "2        3     370.26\n",
       "3        4     328.68\n",
       "4       19     185.07\n",
       "5        2     128.70\n",
       "6       21     127.36\n",
       "7        6      80.19\n",
       "8       24      73.26\n",
       "9       14      60.39"
      ]
     },
     "execution_count": 155,
     "metadata": {},
     "output_type": "execute_result"
    }
   ],
   "source": [
    "query = '''\n",
    "SELECT GenreId, SUM(unitprice) as TOT_PRICE\n",
    "FROM tracks\n",
    "GROUP BY GenreId\n",
    "ORDER BY TOT_PRICE DESC\n",
    "LIMIT 10;\n",
    "'''\n",
    "\n",
    "sql_query(query)"
   ]
  },
  {
   "cell_type": "code",
   "execution_count": 156,
   "metadata": {},
   "outputs": [
    {
     "data": {
      "application/vnd.microsoft.datawrangler.viewer.v0+json": {
       "columns": [
        {
         "name": "index",
         "rawType": "int64",
         "type": "integer"
        },
        {
         "name": "Name",
         "rawType": "object",
         "type": "string"
        },
        {
         "name": "TOT_PRICE",
         "rawType": "float64",
         "type": "float"
        }
       ],
       "conversionMethod": "pd.DataFrame",
       "ref": "54dc1520-a8e7-42e3-b29d-c1d719340c75",
       "rows": [
        [
         "0",
         "Rock",
         "1284.03"
        ],
        [
         "1",
         "Latin",
         "573.21"
        ],
        [
         "2",
         "Metal",
         "370.26"
        ],
        [
         "3",
         "Alternative & Punk",
         "328.68"
        ],
        [
         "4",
         "TV Shows",
         "185.07"
        ],
        [
         "5",
         "Jazz",
         "128.7"
        ],
        [
         "6",
         "Drama",
         "127.36"
        ],
        [
         "7",
         "Blues",
         "80.19"
        ],
        [
         "8",
         "Classical",
         "73.26"
        ],
        [
         "9",
         "R&B/Soul",
         "60.39"
        ]
       ],
       "shape": {
        "columns": 2,
        "rows": 10
       }
      },
      "text/html": [
       "<div>\n",
       "<style scoped>\n",
       "    .dataframe tbody tr th:only-of-type {\n",
       "        vertical-align: middle;\n",
       "    }\n",
       "\n",
       "    .dataframe tbody tr th {\n",
       "        vertical-align: top;\n",
       "    }\n",
       "\n",
       "    .dataframe thead th {\n",
       "        text-align: right;\n",
       "    }\n",
       "</style>\n",
       "<table border=\"1\" class=\"dataframe\">\n",
       "  <thead>\n",
       "    <tr style=\"text-align: right;\">\n",
       "      <th></th>\n",
       "      <th>Name</th>\n",
       "      <th>TOT_PRICE</th>\n",
       "    </tr>\n",
       "  </thead>\n",
       "  <tbody>\n",
       "    <tr>\n",
       "      <th>0</th>\n",
       "      <td>Rock</td>\n",
       "      <td>1284.03</td>\n",
       "    </tr>\n",
       "    <tr>\n",
       "      <th>1</th>\n",
       "      <td>Latin</td>\n",
       "      <td>573.21</td>\n",
       "    </tr>\n",
       "    <tr>\n",
       "      <th>2</th>\n",
       "      <td>Metal</td>\n",
       "      <td>370.26</td>\n",
       "    </tr>\n",
       "    <tr>\n",
       "      <th>3</th>\n",
       "      <td>Alternative &amp; Punk</td>\n",
       "      <td>328.68</td>\n",
       "    </tr>\n",
       "    <tr>\n",
       "      <th>4</th>\n",
       "      <td>TV Shows</td>\n",
       "      <td>185.07</td>\n",
       "    </tr>\n",
       "    <tr>\n",
       "      <th>5</th>\n",
       "      <td>Jazz</td>\n",
       "      <td>128.70</td>\n",
       "    </tr>\n",
       "    <tr>\n",
       "      <th>6</th>\n",
       "      <td>Drama</td>\n",
       "      <td>127.36</td>\n",
       "    </tr>\n",
       "    <tr>\n",
       "      <th>7</th>\n",
       "      <td>Blues</td>\n",
       "      <td>80.19</td>\n",
       "    </tr>\n",
       "    <tr>\n",
       "      <th>8</th>\n",
       "      <td>Classical</td>\n",
       "      <td>73.26</td>\n",
       "    </tr>\n",
       "    <tr>\n",
       "      <th>9</th>\n",
       "      <td>R&amp;B/Soul</td>\n",
       "      <td>60.39</td>\n",
       "    </tr>\n",
       "  </tbody>\n",
       "</table>\n",
       "</div>"
      ],
      "text/plain": [
       "                 Name  TOT_PRICE\n",
       "0                Rock    1284.03\n",
       "1               Latin     573.21\n",
       "2               Metal     370.26\n",
       "3  Alternative & Punk     328.68\n",
       "4            TV Shows     185.07\n",
       "5                Jazz     128.70\n",
       "6               Drama     127.36\n",
       "7               Blues      80.19\n",
       "8           Classical      73.26\n",
       "9            R&B/Soul      60.39"
      ]
     },
     "execution_count": 156,
     "metadata": {},
     "output_type": "execute_result"
    }
   ],
   "source": [
    "query = '''\n",
    "SELECT g.Name, SUM(t.unitprice) as TOT_PRICE\n",
    "FROM genres as g\n",
    "LEFT JOIN tracks as t ON g.GenreId = t.GenreId\n",
    "GROUP BY g.Name\n",
    "ORDER BY TOT_PRICE DESC\n",
    "LIMIT 10;\n",
    "'''\n",
    "\n",
    "sql_query(query)"
   ]
  },
  {
   "cell_type": "markdown",
   "metadata": {},
   "source": [
    "O calcular cuantas canciones hay por compositor"
   ]
  },
  {
   "cell_type": "code",
   "execution_count": 157,
   "metadata": {},
   "outputs": [
    {
     "data": {
      "application/vnd.microsoft.datawrangler.viewer.v0+json": {
       "columns": [
        {
         "name": "index",
         "rawType": "int64",
         "type": "integer"
        },
        {
         "name": "Composer",
         "rawType": "object",
         "type": "string"
        },
        {
         "name": "COUNT(trackid)",
         "rawType": "int64",
         "type": "integer"
        }
       ],
       "conversionMethod": "pd.DataFrame",
       "ref": "d4ab5572-2f7c-4fa6-a9e8-26c73717f55c",
       "rows": [
        [
         "0",
         "Steve Harris",
         "80"
        ],
        [
         "1",
         "U2",
         "44"
        ],
        [
         "2",
         "Jagger/Richards",
         "35"
        ],
        [
         "3",
         "Billy Corgan",
         "31"
        ],
        [
         "4",
         "Kurt Cobain",
         "26"
        ],
        [
         "5",
         "Bill Berry-Peter Buck-Mike Mills-Michael Stipe",
         "25"
        ],
        [
         "6",
         "The Tea Party",
         "24"
        ],
        [
         "7",
         "Miles Davis",
         "23"
        ],
        [
         "8",
         "Gilberto Gil",
         "23"
        ],
        [
         "9",
         "Chris Cornell",
         "23"
        ],
        [
         "10",
         "Chico Science",
         "23"
        ],
        [
         "11",
         "Titãs",
         "22"
        ],
        [
         "12",
         "Renato Russo",
         "20"
        ],
        [
         "13",
         "J.C. Fogerty",
         "20"
        ],
        [
         "14",
         "Billie Joe Armstrong -Words Green Day -Music",
         "20"
        ],
        [
         "15",
         "Herbert Vianna",
         "19"
        ],
        [
         "16",
         "Anthony Kiedis/Chad Smith/Flea/John Frusciante",
         "19"
        ],
        [
         "17",
         "Chris Robinson/Rich Robinson",
         "18"
        ],
        [
         "18",
         "Vários",
         "17"
        ],
        [
         "19",
         "J. C. Fogerty",
         "17"
        ],
        [
         "20",
         "R.E.M.",
         "16"
        ],
        [
         "21",
         "Jimi Hendrix",
         "16"
        ],
        [
         "22",
         "Anthony Kiedis, Flea, John Frusciante, and Chad Smith",
         "16"
        ],
        [
         "23",
         "Van Halen",
         "15"
        ],
        [
         "24",
         "Jimmy Page, Robert Plant",
         "15"
        ],
        [
         "25",
         "João Suplicy",
         "14"
        ],
        [
         "26",
         "Geddy Lee And Alex Lifeson/Geddy Lee And Neil Peart/Rush",
         "14"
        ],
        [
         "27",
         "G M Sumner",
         "14"
        ],
        [
         "28",
         "Brian Eno, Bono, Adam Clayton, The Edge & Larry Mullen Jnr.",
         "14"
        ],
        [
         "29",
         "Audioslave/Chris Cornell",
         "14"
        ],
        [
         "30",
         "Robert Plant",
         "13"
        ],
        [
         "31",
         "Pete Townshend",
         "13"
        ],
        [
         "32",
         "Clarke/Kilmister/Taylor",
         "13"
        ],
        [
         "33",
         "Alanis Morissette & Glenn Ballard",
         "13"
        ],
        [
         "34",
         "Red Hot Chili Peppers",
         "12"
        ],
        [
         "35",
         "Mônica Marianno",
         "12"
        ],
        [
         "36",
         "Jimmy Page/Robert Plant",
         "12"
        ],
        [
         "37",
         "Jimmy Page, Robert Plant, Charlie Jones, Michael Lee",
         "12"
        ],
        [
         "38",
         "Ian Gillan, Roger Glover, Jon Lord, Steve Morse, Ian Paice",
         "12"
        ],
        [
         "39",
         "Eddie Vedder",
         "12"
        ],
        [
         "40",
         "Djavan",
         "12"
        ],
        [
         "41",
         "Dave Kushner, Duff, Matt Sorum, Scott Weiland & Slash",
         "12"
        ],
        [
         "42",
         "Dave Abbruzzese/Eddie Vedder/Jeff Ament/Mike McCready/Stone Gossard",
         "12"
        ],
        [
         "43",
         "Cornell, Commerford, Morello, Wilk",
         "12"
        ],
        [
         "44",
         "Bono/Clayton, Adam/Mullen Jr., Larry/The Edge",
         "12"
        ],
        [
         "45",
         "Bono, The Edge, Adam Clayton, and Larry Mullen",
         "12"
        ],
        [
         "46",
         "Tony Iommi, Bill Ward, Geezer Butler, Ozzy Osbourne",
         "11"
        ],
        [
         "47",
         "Samuel Rosa",
         "11"
        ],
        [
         "48",
         "James Hetfield, Lars Ulrich",
         "11"
        ],
        [
         "49",
         "Foo Fighters",
         "11"
        ]
       ],
       "shape": {
        "columns": 2,
        "rows": 100
       }
      },
      "text/html": [
       "<div>\n",
       "<style scoped>\n",
       "    .dataframe tbody tr th:only-of-type {\n",
       "        vertical-align: middle;\n",
       "    }\n",
       "\n",
       "    .dataframe tbody tr th {\n",
       "        vertical-align: top;\n",
       "    }\n",
       "\n",
       "    .dataframe thead th {\n",
       "        text-align: right;\n",
       "    }\n",
       "</style>\n",
       "<table border=\"1\" class=\"dataframe\">\n",
       "  <thead>\n",
       "    <tr style=\"text-align: right;\">\n",
       "      <th></th>\n",
       "      <th>Composer</th>\n",
       "      <th>COUNT(trackid)</th>\n",
       "    </tr>\n",
       "  </thead>\n",
       "  <tbody>\n",
       "    <tr>\n",
       "      <th>0</th>\n",
       "      <td>Steve Harris</td>\n",
       "      <td>80</td>\n",
       "    </tr>\n",
       "    <tr>\n",
       "      <th>1</th>\n",
       "      <td>U2</td>\n",
       "      <td>44</td>\n",
       "    </tr>\n",
       "    <tr>\n",
       "      <th>2</th>\n",
       "      <td>Jagger/Richards</td>\n",
       "      <td>35</td>\n",
       "    </tr>\n",
       "    <tr>\n",
       "      <th>3</th>\n",
       "      <td>Billy Corgan</td>\n",
       "      <td>31</td>\n",
       "    </tr>\n",
       "    <tr>\n",
       "      <th>4</th>\n",
       "      <td>Kurt Cobain</td>\n",
       "      <td>26</td>\n",
       "    </tr>\n",
       "    <tr>\n",
       "      <th>...</th>\n",
       "      <td>...</td>\n",
       "      <td>...</td>\n",
       "    </tr>\n",
       "    <tr>\n",
       "      <th>95</th>\n",
       "      <td>James Hetfield, Lars Ulrich, Kirk Hammett</td>\n",
       "      <td>7</td>\n",
       "    </tr>\n",
       "    <tr>\n",
       "      <th>96</th>\n",
       "      <td>Ian Gillan/Ian Paice/Jon Lord/Ritchie Blckmore...</td>\n",
       "      <td>7</td>\n",
       "    </tr>\n",
       "    <tr>\n",
       "      <th>97</th>\n",
       "      <td>Harris</td>\n",
       "      <td>7</td>\n",
       "    </tr>\n",
       "    <tr>\n",
       "      <th>98</th>\n",
       "      <td>Green Day</td>\n",
       "      <td>7</td>\n",
       "    </tr>\n",
       "    <tr>\n",
       "      <th>99</th>\n",
       "      <td>Gene Simmons</td>\n",
       "      <td>7</td>\n",
       "    </tr>\n",
       "  </tbody>\n",
       "</table>\n",
       "<p>100 rows × 2 columns</p>\n",
       "</div>"
      ],
      "text/plain": [
       "                                             Composer  COUNT(trackid)\n",
       "0                                        Steve Harris              80\n",
       "1                                                  U2              44\n",
       "2                                     Jagger/Richards              35\n",
       "3                                        Billy Corgan              31\n",
       "4                                         Kurt Cobain              26\n",
       "..                                                ...             ...\n",
       "95          James Hetfield, Lars Ulrich, Kirk Hammett               7\n",
       "96  Ian Gillan/Ian Paice/Jon Lord/Ritchie Blckmore...               7\n",
       "97                                             Harris               7\n",
       "98                                          Green Day               7\n",
       "99                                       Gene Simmons               7\n",
       "\n",
       "[100 rows x 2 columns]"
      ]
     },
     "execution_count": 157,
     "metadata": {},
     "output_type": "execute_result"
    }
   ],
   "source": [
    "query = '''\n",
    "SELECT composer, COUNT(trackid)\n",
    "FROM tracks\n",
    "WHERE Composer IS NOT NULL\n",
    "GROUP BY composer\n",
    "ORDER BY 2 DESC\n",
    "LIMIT 100\n",
    ";\n",
    "'''\n",
    "\n",
    "sql_query(query)"
   ]
  },
  {
   "cell_type": "markdown",
   "metadata": {},
   "source": [
    "### 3.9 JOIN\n",
    "Hasta ahora hemos hecho queries sobre una única tabla, pero **¿y si queremos juntar datos de varias tablas?** Para eso están los `JOIN`s. Para ello **necesitas tener uno o varios campos comunes entre ambas tablas, que denominan CLAVES**.\n",
    "\n",
    "**¿Cuándo usarlos?** Por ejemplo, si tenemos una tabla con un conjunto de clientes y necesitamos añadirles campos nuevos, tendremos que acudir a otras tablas donde esté ese identificador de cliente y aplicar un `JOIN`. Es lo que se conoce como *pegar campos* a otra tabla.\n",
    "\n",
    "O imagina que tienes una tabla con todos tus pedidos, con muchos campos(ciudad, dirección, cliente...) y en otra tabla únicamente los números de pedido que no se llegaron a entregar. Si quieres filtrar dentro de tu tabla total de pedidos los que no se llegaron a entregar, podrías aplicar un `INNER JOIN` de manera que te quedes con lo común en ambas tablas, siendo tu clave el identificativo del pedido..\n",
    "\n",
    "Existen varios tipos de JOINs:\n",
    "\n",
    "![imagen](./img/joins.jpg)"
   ]
  },
  {
   "cell_type": "markdown",
   "metadata": {},
   "source": [
    "![imagen](./img/chinook_data_model.png)"
   ]
  },
  {
   "cell_type": "code",
   "execution_count": 158,
   "metadata": {},
   "outputs": [
    {
     "data": {
      "application/vnd.microsoft.datawrangler.viewer.v0+json": {
       "columns": [
        {
         "name": "index",
         "rawType": "int64",
         "type": "integer"
        },
        {
         "name": "track_name",
         "rawType": "object",
         "type": "string"
        },
        {
         "name": "Composer",
         "rawType": "object",
         "type": "unknown"
        },
        {
         "name": "genre_name",
         "rawType": "object",
         "type": "string"
        }
       ],
       "conversionMethod": "pd.DataFrame",
       "ref": "e4555c28-a5f3-4526-b424-f8adcd2b3184",
       "rows": [
        [
         "0",
         "For Those About To Rock (We Salute You)",
         "Angus Young, Malcolm Young, Brian Johnson",
         "Rock"
        ],
        [
         "1",
         "Balls to the Wall",
         null,
         "Rock"
        ],
        [
         "2",
         "Fast As a Shark",
         "F. Baltes, S. Kaufman, U. Dirkscneider & W. Hoffman",
         "Rock"
        ],
        [
         "3",
         "Restless and Wild",
         "F. Baltes, R.A. Smith-Diesel, S. Kaufman, U. Dirkscneider & W. Hoffman",
         "Rock"
        ],
        [
         "4",
         "Princess of the Dawn",
         "Deaffy & R.A. Smith-Diesel",
         "Rock"
        ],
        [
         "5",
         "Put The Finger On You",
         "Angus Young, Malcolm Young, Brian Johnson",
         "Rock"
        ],
        [
         "6",
         "Let's Get It Up",
         "Angus Young, Malcolm Young, Brian Johnson",
         "Rock"
        ],
        [
         "7",
         "Inject The Venom",
         "Angus Young, Malcolm Young, Brian Johnson",
         "Rock"
        ],
        [
         "8",
         "Snowballed",
         "Angus Young, Malcolm Young, Brian Johnson",
         "Rock"
        ],
        [
         "9",
         "Evil Walks",
         "Angus Young, Malcolm Young, Brian Johnson",
         "Rock"
        ],
        [
         "10",
         "C.O.D.",
         "Angus Young, Malcolm Young, Brian Johnson",
         "Rock"
        ],
        [
         "11",
         "Breaking The Rules",
         "Angus Young, Malcolm Young, Brian Johnson",
         "Rock"
        ],
        [
         "12",
         "Night Of The Long Knives",
         "Angus Young, Malcolm Young, Brian Johnson",
         "Rock"
        ],
        [
         "13",
         "Spellbound",
         "Angus Young, Malcolm Young, Brian Johnson",
         "Rock"
        ],
        [
         "14",
         "Go Down",
         "AC/DC",
         "Rock"
        ],
        [
         "15",
         "Dog Eat Dog",
         "AC/DC",
         "Rock"
        ],
        [
         "16",
         "Let There Be Rock",
         "AC/DC",
         "Rock"
        ],
        [
         "17",
         "Bad Boy Boogie",
         "AC/DC",
         "Rock"
        ],
        [
         "18",
         "Problem Child",
         "AC/DC",
         "Rock"
        ],
        [
         "19",
         "Overdose",
         "AC/DC",
         "Rock"
        ],
        [
         "20",
         "Hell Ain't A Bad Place To Be",
         "AC/DC",
         "Rock"
        ],
        [
         "21",
         "Whole Lotta Rosie",
         "AC/DC",
         "Rock"
        ],
        [
         "22",
         "Walk On Water",
         "Steven Tyler, Joe Perry, Jack Blades, Tommy Shaw",
         "Rock"
        ],
        [
         "23",
         "Love In An Elevator",
         "Steven Tyler, Joe Perry",
         "Rock"
        ],
        [
         "24",
         "Rag Doll",
         "Steven Tyler, Joe Perry, Jim Vallance, Holly Knight",
         "Rock"
        ],
        [
         "25",
         "What It Takes",
         "Steven Tyler, Joe Perry, Desmond Child",
         "Rock"
        ],
        [
         "26",
         "Dude (Looks Like A Lady)",
         "Steven Tyler, Joe Perry, Desmond Child",
         "Rock"
        ],
        [
         "27",
         "Janie's Got A Gun",
         "Steven Tyler, Tom Hamilton",
         "Rock"
        ],
        [
         "28",
         "Cryin'",
         "Steven Tyler, Joe Perry, Taylor Rhodes",
         "Rock"
        ],
        [
         "29",
         "Amazing",
         "Steven Tyler, Richie Supa",
         "Rock"
        ],
        [
         "30",
         "Blind Man",
         "Steven Tyler, Joe Perry, Taylor Rhodes",
         "Rock"
        ],
        [
         "31",
         "Deuces Are Wild",
         "Steven Tyler, Jim Vallance",
         "Rock"
        ],
        [
         "32",
         "The Other Side",
         "Steven Tyler, Jim Vallance",
         "Rock"
        ],
        [
         "33",
         "Crazy",
         "Steven Tyler, Joe Perry, Desmond Child",
         "Rock"
        ],
        [
         "34",
         "Eat The Rich",
         "Steven Tyler, Joe Perry, Jim Vallance",
         "Rock"
        ],
        [
         "35",
         "Angel",
         "Steven Tyler, Desmond Child",
         "Rock"
        ],
        [
         "36",
         "Livin' On The Edge",
         "Steven Tyler, Joe Perry, Mark Hudson",
         "Rock"
        ],
        [
         "37",
         "All I Really Want",
         "Alanis Morissette & Glenn Ballard",
         "Rock"
        ],
        [
         "38",
         "You Oughta Know",
         "Alanis Morissette & Glenn Ballard",
         "Rock"
        ],
        [
         "39",
         "Perfect",
         "Alanis Morissette & Glenn Ballard",
         "Rock"
        ],
        [
         "40",
         "Hand In My Pocket",
         "Alanis Morissette & Glenn Ballard",
         "Rock"
        ],
        [
         "41",
         "Right Through You",
         "Alanis Morissette & Glenn Ballard",
         "Rock"
        ],
        [
         "42",
         "Forgiven",
         "Alanis Morissette & Glenn Ballard",
         "Rock"
        ],
        [
         "43",
         "You Learn",
         "Alanis Morissette & Glenn Ballard",
         "Rock"
        ],
        [
         "44",
         "Head Over Feet",
         "Alanis Morissette & Glenn Ballard",
         "Rock"
        ],
        [
         "45",
         "Mary Jane",
         "Alanis Morissette & Glenn Ballard",
         "Rock"
        ],
        [
         "46",
         "Ironic",
         "Alanis Morissette & Glenn Ballard",
         "Rock"
        ],
        [
         "47",
         "Not The Doctor",
         "Alanis Morissette & Glenn Ballard",
         "Rock"
        ],
        [
         "48",
         "Wake Up",
         "Alanis Morissette & Glenn Ballard",
         "Rock"
        ],
        [
         "49",
         "You Oughta Know (Alternate)",
         "Alanis Morissette & Glenn Ballard",
         "Rock"
        ]
       ],
       "shape": {
        "columns": 3,
        "rows": 3503
       }
      },
      "text/html": [
       "<div>\n",
       "<style scoped>\n",
       "    .dataframe tbody tr th:only-of-type {\n",
       "        vertical-align: middle;\n",
       "    }\n",
       "\n",
       "    .dataframe tbody tr th {\n",
       "        vertical-align: top;\n",
       "    }\n",
       "\n",
       "    .dataframe thead th {\n",
       "        text-align: right;\n",
       "    }\n",
       "</style>\n",
       "<table border=\"1\" class=\"dataframe\">\n",
       "  <thead>\n",
       "    <tr style=\"text-align: right;\">\n",
       "      <th></th>\n",
       "      <th>track_name</th>\n",
       "      <th>Composer</th>\n",
       "      <th>genre_name</th>\n",
       "    </tr>\n",
       "  </thead>\n",
       "  <tbody>\n",
       "    <tr>\n",
       "      <th>0</th>\n",
       "      <td>For Those About To Rock (We Salute You)</td>\n",
       "      <td>Angus Young, Malcolm Young, Brian Johnson</td>\n",
       "      <td>Rock</td>\n",
       "    </tr>\n",
       "    <tr>\n",
       "      <th>1</th>\n",
       "      <td>Balls to the Wall</td>\n",
       "      <td>None</td>\n",
       "      <td>Rock</td>\n",
       "    </tr>\n",
       "    <tr>\n",
       "      <th>2</th>\n",
       "      <td>Fast As a Shark</td>\n",
       "      <td>F. Baltes, S. Kaufman, U. Dirkscneider &amp; W. Ho...</td>\n",
       "      <td>Rock</td>\n",
       "    </tr>\n",
       "    <tr>\n",
       "      <th>3</th>\n",
       "      <td>Restless and Wild</td>\n",
       "      <td>F. Baltes, R.A. Smith-Diesel, S. Kaufman, U. D...</td>\n",
       "      <td>Rock</td>\n",
       "    </tr>\n",
       "    <tr>\n",
       "      <th>4</th>\n",
       "      <td>Princess of the Dawn</td>\n",
       "      <td>Deaffy &amp; R.A. Smith-Diesel</td>\n",
       "      <td>Rock</td>\n",
       "    </tr>\n",
       "    <tr>\n",
       "      <th>...</th>\n",
       "      <td>...</td>\n",
       "      <td>...</td>\n",
       "      <td>...</td>\n",
       "    </tr>\n",
       "    <tr>\n",
       "      <th>3498</th>\n",
       "      <td>Pini Di Roma (Pinien Von Rom) \\ I Pini Della V...</td>\n",
       "      <td>None</td>\n",
       "      <td>Classical</td>\n",
       "    </tr>\n",
       "    <tr>\n",
       "      <th>3499</th>\n",
       "      <td>String Quartet No. 12 in C Minor, D. 703 \"Quar...</td>\n",
       "      <td>Franz Schubert</td>\n",
       "      <td>Classical</td>\n",
       "    </tr>\n",
       "    <tr>\n",
       "      <th>3500</th>\n",
       "      <td>L'orfeo, Act 3, Sinfonia (Orchestra)</td>\n",
       "      <td>Claudio Monteverdi</td>\n",
       "      <td>Classical</td>\n",
       "    </tr>\n",
       "    <tr>\n",
       "      <th>3501</th>\n",
       "      <td>Quintet for Horn, Violin, 2 Violas, and Cello ...</td>\n",
       "      <td>Wolfgang Amadeus Mozart</td>\n",
       "      <td>Classical</td>\n",
       "    </tr>\n",
       "    <tr>\n",
       "      <th>3502</th>\n",
       "      <td>Die Zauberflöte, K.620: \"Der Hölle Rache Kocht...</td>\n",
       "      <td>Wolfgang Amadeus Mozart</td>\n",
       "      <td>Opera</td>\n",
       "    </tr>\n",
       "  </tbody>\n",
       "</table>\n",
       "<p>3503 rows × 3 columns</p>\n",
       "</div>"
      ],
      "text/plain": [
       "                                             track_name  \\\n",
       "0               For Those About To Rock (We Salute You)   \n",
       "1                                     Balls to the Wall   \n",
       "2                                       Fast As a Shark   \n",
       "3                                     Restless and Wild   \n",
       "4                                  Princess of the Dawn   \n",
       "...                                                 ...   \n",
       "3498  Pini Di Roma (Pinien Von Rom) \\ I Pini Della V...   \n",
       "3499  String Quartet No. 12 in C Minor, D. 703 \"Quar...   \n",
       "3500               L'orfeo, Act 3, Sinfonia (Orchestra)   \n",
       "3501  Quintet for Horn, Violin, 2 Violas, and Cello ...   \n",
       "3502  Die Zauberflöte, K.620: \"Der Hölle Rache Kocht...   \n",
       "\n",
       "                                               Composer genre_name  \n",
       "0             Angus Young, Malcolm Young, Brian Johnson       Rock  \n",
       "1                                                  None       Rock  \n",
       "2     F. Baltes, S. Kaufman, U. Dirkscneider & W. Ho...       Rock  \n",
       "3     F. Baltes, R.A. Smith-Diesel, S. Kaufman, U. D...       Rock  \n",
       "4                            Deaffy & R.A. Smith-Diesel       Rock  \n",
       "...                                                 ...        ...  \n",
       "3498                                               None  Classical  \n",
       "3499                                     Franz Schubert  Classical  \n",
       "3500                                 Claudio Monteverdi  Classical  \n",
       "3501                            Wolfgang Amadeus Mozart  Classical  \n",
       "3502                            Wolfgang Amadeus Mozart      Opera  \n",
       "\n",
       "[3503 rows x 3 columns]"
      ]
     },
     "execution_count": 158,
     "metadata": {},
     "output_type": "execute_result"
    }
   ],
   "source": [
    "#INNER JOIN\n",
    "query = '''\n",
    "SELECT a.name as track_name, a.composer, b.name as genre_name\n",
    "FROM tracks AS a\n",
    "INNER JOIN genres AS b\n",
    "ON a.genreid = b.genreid\n",
    ";\n",
    "'''\n",
    "\n",
    "sql_query(query)"
   ]
  },
  {
   "cell_type": "code",
   "execution_count": 159,
   "metadata": {},
   "outputs": [
    {
     "data": {
      "application/vnd.microsoft.datawrangler.viewer.v0+json": {
       "columns": [
        {
         "name": "index",
         "rawType": "int64",
         "type": "integer"
        },
        {
         "name": "genre_name",
         "rawType": "object",
         "type": "string"
        },
        {
         "name": "TOT_PRICE",
         "rawType": "float64",
         "type": "float"
        }
       ],
       "conversionMethod": "pd.DataFrame",
       "ref": "70b36770-e500-422c-9bab-27d98d066deb",
       "rows": [
        [
         "0",
         "Rock",
         "1284.03"
        ],
        [
         "1",
         "Latin",
         "573.21"
        ],
        [
         "2",
         "Metal",
         "370.26"
        ],
        [
         "3",
         "Alternative & Punk",
         "328.68"
        ],
        [
         "4",
         "TV Shows",
         "185.07"
        ],
        [
         "5",
         "Jazz",
         "128.7"
        ],
        [
         "6",
         "Drama",
         "127.36"
        ],
        [
         "7",
         "Blues",
         "80.19"
        ],
        [
         "8",
         "Classical",
         "73.26"
        ],
        [
         "9",
         "R&B/Soul",
         "60.39"
        ]
       ],
       "shape": {
        "columns": 2,
        "rows": 10
       }
      },
      "text/html": [
       "<div>\n",
       "<style scoped>\n",
       "    .dataframe tbody tr th:only-of-type {\n",
       "        vertical-align: middle;\n",
       "    }\n",
       "\n",
       "    .dataframe tbody tr th {\n",
       "        vertical-align: top;\n",
       "    }\n",
       "\n",
       "    .dataframe thead th {\n",
       "        text-align: right;\n",
       "    }\n",
       "</style>\n",
       "<table border=\"1\" class=\"dataframe\">\n",
       "  <thead>\n",
       "    <tr style=\"text-align: right;\">\n",
       "      <th></th>\n",
       "      <th>genre_name</th>\n",
       "      <th>TOT_PRICE</th>\n",
       "    </tr>\n",
       "  </thead>\n",
       "  <tbody>\n",
       "    <tr>\n",
       "      <th>0</th>\n",
       "      <td>Rock</td>\n",
       "      <td>1284.03</td>\n",
       "    </tr>\n",
       "    <tr>\n",
       "      <th>1</th>\n",
       "      <td>Latin</td>\n",
       "      <td>573.21</td>\n",
       "    </tr>\n",
       "    <tr>\n",
       "      <th>2</th>\n",
       "      <td>Metal</td>\n",
       "      <td>370.26</td>\n",
       "    </tr>\n",
       "    <tr>\n",
       "      <th>3</th>\n",
       "      <td>Alternative &amp; Punk</td>\n",
       "      <td>328.68</td>\n",
       "    </tr>\n",
       "    <tr>\n",
       "      <th>4</th>\n",
       "      <td>TV Shows</td>\n",
       "      <td>185.07</td>\n",
       "    </tr>\n",
       "    <tr>\n",
       "      <th>5</th>\n",
       "      <td>Jazz</td>\n",
       "      <td>128.70</td>\n",
       "    </tr>\n",
       "    <tr>\n",
       "      <th>6</th>\n",
       "      <td>Drama</td>\n",
       "      <td>127.36</td>\n",
       "    </tr>\n",
       "    <tr>\n",
       "      <th>7</th>\n",
       "      <td>Blues</td>\n",
       "      <td>80.19</td>\n",
       "    </tr>\n",
       "    <tr>\n",
       "      <th>8</th>\n",
       "      <td>Classical</td>\n",
       "      <td>73.26</td>\n",
       "    </tr>\n",
       "    <tr>\n",
       "      <th>9</th>\n",
       "      <td>R&amp;B/Soul</td>\n",
       "      <td>60.39</td>\n",
       "    </tr>\n",
       "  </tbody>\n",
       "</table>\n",
       "</div>"
      ],
      "text/plain": [
       "           genre_name  TOT_PRICE\n",
       "0                Rock    1284.03\n",
       "1               Latin     573.21\n",
       "2               Metal     370.26\n",
       "3  Alternative & Punk     328.68\n",
       "4            TV Shows     185.07\n",
       "5                Jazz     128.70\n",
       "6               Drama     127.36\n",
       "7               Blues      80.19\n",
       "8           Classical      73.26\n",
       "9            R&B/Soul      60.39"
      ]
     },
     "execution_count": 159,
     "metadata": {},
     "output_type": "execute_result"
    }
   ],
   "source": [
    "query = '''\n",
    "SELECT b.name as genre_name, SUM(a.unitprice) as TOT_PRICE\n",
    "FROM tracks as a\n",
    "INNER JOIN genres as b\n",
    "on a.GenreId=b.GenreId\n",
    "GROUP BY b.name\n",
    "ORDER BY TOT_PRICE DESC\n",
    "LIMIT 10;\n",
    "'''\n",
    "\n",
    "sql_query(query)"
   ]
  },
  {
   "cell_type": "markdown",
   "metadata": {},
   "source": [
    "![imagen](./img/chinook_data_model.png)"
   ]
  },
  {
   "cell_type": "code",
   "execution_count": 160,
   "metadata": {},
   "outputs": [
    {
     "data": {
      "application/vnd.microsoft.datawrangler.viewer.v0+json": {
       "columns": [
        {
         "name": "index",
         "rawType": "int64",
         "type": "integer"
        },
        {
         "name": "TrackId",
         "rawType": "int64",
         "type": "integer"
        },
        {
         "name": "Name",
         "rawType": "object",
         "type": "string"
        },
        {
         "name": "Composer",
         "rawType": "object",
         "type": "unknown"
        },
        {
         "name": "InvoiceId",
         "rawType": "int64",
         "type": "integer"
        }
       ],
       "conversionMethod": "pd.DataFrame",
       "ref": "c0a9dbfd-6df5-427a-961c-5a1fbcc30941",
       "rows": [
        [
         "0",
         "2",
         "Balls to the Wall",
         null,
         "1"
        ],
        [
         "1",
         "4",
         "Restless and Wild",
         "F. Baltes, R.A. Smith-Diesel, S. Kaufman, U. Dirkscneider & W. Hoffman",
         "1"
        ],
        [
         "2",
         "6",
         "Put The Finger On You",
         "Angus Young, Malcolm Young, Brian Johnson",
         "2"
        ],
        [
         "3",
         "8",
         "Inject The Venom",
         "Angus Young, Malcolm Young, Brian Johnson",
         "2"
        ],
        [
         "4",
         "10",
         "Evil Walks",
         "Angus Young, Malcolm Young, Brian Johnson",
         "2"
        ],
        [
         "5",
         "12",
         "Breaking The Rules",
         "Angus Young, Malcolm Young, Brian Johnson",
         "2"
        ],
        [
         "6",
         "16",
         "Dog Eat Dog",
         "AC/DC",
         "3"
        ],
        [
         "7",
         "20",
         "Overdose",
         "AC/DC",
         "3"
        ],
        [
         "8",
         "24",
         "Love In An Elevator",
         "Steven Tyler, Joe Perry",
         "3"
        ],
        [
         "9",
         "28",
         "Janie's Got A Gun",
         "Steven Tyler, Tom Hamilton",
         "3"
        ],
        [
         "10",
         "32",
         "Deuces Are Wild",
         "Steven Tyler, Jim Vallance",
         "3"
        ],
        [
         "11",
         "36",
         "Angel",
         "Steven Tyler, Desmond Child",
         "3"
        ],
        [
         "12",
         "42",
         "Right Through You",
         "Alanis Morissette & Glenn Ballard",
         "4"
        ],
        [
         "13",
         "48",
         "Not The Doctor",
         "Alanis Morissette & Glenn Ballard",
         "4"
        ],
        [
         "14",
         "54",
         "Bleed The Freak",
         "Jerry Cantrell",
         "4"
        ],
        [
         "15",
         "60",
         "Confusion",
         "Jerry Cantrell, Michael Starr, Layne Staley",
         "4"
        ],
        [
         "16",
         "66",
         "Por Causa De Você",
         null,
         "4"
        ],
        [
         "17",
         "72",
         "Angela",
         null,
         "4"
        ],
        [
         "18",
         "78",
         "Master Of Puppets",
         "Apocalyptica",
         "4"
        ],
        [
         "19",
         "84",
         "Welcome Home (Sanitarium)",
         "Apocalyptica",
         "4"
        ],
        [
         "20",
         "90",
         "Set It Off",
         "Audioslave/Chris Cornell",
         "4"
        ],
        [
         "21",
         "99",
         "Your Time Has Come",
         "Cornell, Commerford, Morello, Wilk",
         "5"
        ],
        [
         "22",
         "108",
         "Dandelion",
         "Cornell, Commerford, Morello, Wilk",
         "5"
        ],
        [
         "23",
         "117",
         "Rock 'N' Roll Music",
         "Chuck Berry",
         "5"
        ],
        [
         "24",
         "126",
         "Moon germs",
         "Billy Cobham",
         "5"
        ],
        [
         "25",
         "135",
         "Super Terrorizer",
         null,
         "5"
        ],
        [
         "26",
         "144",
         "Heart Of Gold",
         null,
         "5"
        ],
        [
         "27",
         "153",
         "Evil Woman",
         null,
         "5"
        ],
        [
         "28",
         "162",
         "Cornucopia",
         "Tony Iommi, Bill Ward, Geezer Butler, Ozzy Osbourne",
         "5"
        ],
        [
         "29",
         "171",
         "Bowels Of The Devil",
         null,
         "5"
        ],
        [
         "30",
         "180",
         "Body Count Anthem",
         null,
         "5"
        ],
        [
         "31",
         "189",
         "Jerusalem",
         "Roy Z",
         "5"
        ],
        [
         "32",
         "198",
         "When My Left Eye Jumps",
         "Al Perkins/Willie Dixon",
         "5"
        ],
        [
         "33",
         "207",
         "Meditação",
         "Tom Jobim - Newton Mendoça",
         "5"
        ],
        [
         "34",
         "216",
         "Esse Cara",
         "Caetano Veloso",
         "5"
        ],
        [
         "35",
         "230",
         "Bye, Bye Brasil",
         null,
         "6"
        ],
        [
         "36",
         "231",
         "Atras Da Porta",
         null,
         "7"
        ],
        [
         "37",
         "232",
         "Tatuagem",
         null,
         "7"
        ],
        [
         "38",
         "234",
         "Morena De Angola",
         null,
         "8"
        ],
        [
         "39",
         "236",
         "A Banda",
         null,
         "8"
        ],
        [
         "40",
         "238",
         "Com Açúcar E Com Afeto",
         null,
         "9"
        ],
        [
         "41",
         "240",
         "Meu Caro Amigo",
         null,
         "9"
        ],
        [
         "42",
         "242",
         "Trocando Em Miúdos",
         null,
         "9"
        ],
        [
         "43",
         "244",
         "Gota D'água",
         null,
         "9"
        ],
        [
         "44",
         "248",
         "Etnia",
         "Chico Science",
         "10"
        ],
        [
         "45",
         "252",
         "Samba Do Lado",
         "Chico Science",
         "10"
        ],
        [
         "46",
         "256",
         "Sobremesa",
         "Chico Science",
         "10"
        ],
        [
         "47",
         "260",
         "Sangue De Bairro",
         "Chico Science",
         "10"
        ],
        [
         "48",
         "264",
         "Amor De Muito",
         "Chico Science",
         "10"
        ],
        [
         "49",
         "268",
         "Maracatu Atômico [Trip Hop]",
         "Chico Science",
         "10"
        ]
       ],
       "shape": {
        "columns": 4,
        "rows": 2240
       }
      },
      "text/html": [
       "<div>\n",
       "<style scoped>\n",
       "    .dataframe tbody tr th:only-of-type {\n",
       "        vertical-align: middle;\n",
       "    }\n",
       "\n",
       "    .dataframe tbody tr th {\n",
       "        vertical-align: top;\n",
       "    }\n",
       "\n",
       "    .dataframe thead th {\n",
       "        text-align: right;\n",
       "    }\n",
       "</style>\n",
       "<table border=\"1\" class=\"dataframe\">\n",
       "  <thead>\n",
       "    <tr style=\"text-align: right;\">\n",
       "      <th></th>\n",
       "      <th>TrackId</th>\n",
       "      <th>Name</th>\n",
       "      <th>Composer</th>\n",
       "      <th>InvoiceId</th>\n",
       "    </tr>\n",
       "  </thead>\n",
       "  <tbody>\n",
       "    <tr>\n",
       "      <th>0</th>\n",
       "      <td>2</td>\n",
       "      <td>Balls to the Wall</td>\n",
       "      <td>None</td>\n",
       "      <td>1</td>\n",
       "    </tr>\n",
       "    <tr>\n",
       "      <th>1</th>\n",
       "      <td>4</td>\n",
       "      <td>Restless and Wild</td>\n",
       "      <td>F. Baltes, R.A. Smith-Diesel, S. Kaufman, U. D...</td>\n",
       "      <td>1</td>\n",
       "    </tr>\n",
       "    <tr>\n",
       "      <th>2</th>\n",
       "      <td>6</td>\n",
       "      <td>Put The Finger On You</td>\n",
       "      <td>Angus Young, Malcolm Young, Brian Johnson</td>\n",
       "      <td>2</td>\n",
       "    </tr>\n",
       "    <tr>\n",
       "      <th>3</th>\n",
       "      <td>8</td>\n",
       "      <td>Inject The Venom</td>\n",
       "      <td>Angus Young, Malcolm Young, Brian Johnson</td>\n",
       "      <td>2</td>\n",
       "    </tr>\n",
       "    <tr>\n",
       "      <th>4</th>\n",
       "      <td>10</td>\n",
       "      <td>Evil Walks</td>\n",
       "      <td>Angus Young, Malcolm Young, Brian Johnson</td>\n",
       "      <td>2</td>\n",
       "    </tr>\n",
       "    <tr>\n",
       "      <th>...</th>\n",
       "      <td>...</td>\n",
       "      <td>...</td>\n",
       "      <td>...</td>\n",
       "      <td>...</td>\n",
       "    </tr>\n",
       "    <tr>\n",
       "      <th>2235</th>\n",
       "      <td>3136</td>\n",
       "      <td>Looking For Love</td>\n",
       "      <td>Sykes</td>\n",
       "      <td>411</td>\n",
       "    </tr>\n",
       "    <tr>\n",
       "      <th>2236</th>\n",
       "      <td>3145</td>\n",
       "      <td>Sweet Lady Luck</td>\n",
       "      <td>Vandenberg</td>\n",
       "      <td>411</td>\n",
       "    </tr>\n",
       "    <tr>\n",
       "      <th>2237</th>\n",
       "      <td>3154</td>\n",
       "      <td>Feirinha da Pavuna/Luz do Repente/Bagaço da La...</td>\n",
       "      <td>Arlindo Cruz/Franco/Marquinhos PQD/Negro, Jove...</td>\n",
       "      <td>411</td>\n",
       "    </tr>\n",
       "    <tr>\n",
       "      <th>2238</th>\n",
       "      <td>3163</td>\n",
       "      <td>Samba pras moças</td>\n",
       "      <td>Grazielle/Roque Ferreira</td>\n",
       "      <td>411</td>\n",
       "    </tr>\n",
       "    <tr>\n",
       "      <th>2239</th>\n",
       "      <td>3177</td>\n",
       "      <td>Hot Girl</td>\n",
       "      <td>None</td>\n",
       "      <td>412</td>\n",
       "    </tr>\n",
       "  </tbody>\n",
       "</table>\n",
       "<p>2240 rows × 4 columns</p>\n",
       "</div>"
      ],
      "text/plain": [
       "      TrackId                                               Name  \\\n",
       "0           2                                  Balls to the Wall   \n",
       "1           4                                  Restless and Wild   \n",
       "2           6                              Put The Finger On You   \n",
       "3           8                                   Inject The Venom   \n",
       "4          10                                         Evil Walks   \n",
       "...       ...                                                ...   \n",
       "2235     3136                                   Looking For Love   \n",
       "2236     3145                                    Sweet Lady Luck   \n",
       "2237     3154  Feirinha da Pavuna/Luz do Repente/Bagaço da La...   \n",
       "2238     3163                                   Samba pras moças   \n",
       "2239     3177                                           Hot Girl   \n",
       "\n",
       "                                               Composer  InvoiceId  \n",
       "0                                                  None          1  \n",
       "1     F. Baltes, R.A. Smith-Diesel, S. Kaufman, U. D...          1  \n",
       "2             Angus Young, Malcolm Young, Brian Johnson          2  \n",
       "3             Angus Young, Malcolm Young, Brian Johnson          2  \n",
       "4             Angus Young, Malcolm Young, Brian Johnson          2  \n",
       "...                                                 ...        ...  \n",
       "2235                                              Sykes        411  \n",
       "2236                                         Vandenberg        411  \n",
       "2237  Arlindo Cruz/Franco/Marquinhos PQD/Negro, Jove...        411  \n",
       "2238                           Grazielle/Roque Ferreira        411  \n",
       "2239                                               None        412  \n",
       "\n",
       "[2240 rows x 4 columns]"
      ]
     },
     "execution_count": 160,
     "metadata": {},
     "output_type": "execute_result"
    }
   ],
   "source": [
    "\n",
    "query = '''\n",
    "SELECT a.trackid, a.name, a.composer, b.invoiceid\n",
    "FROM tracks AS a\n",
    "INNER JOIN invoice_items AS b\n",
    "ON a.trackid = b.trackid\n",
    ";\n",
    "'''\n",
    "\n",
    "sql_query(query)"
   ]
  },
  {
   "cell_type": "code",
   "execution_count": 161,
   "metadata": {},
   "outputs": [
    {
     "data": {
      "application/vnd.microsoft.datawrangler.viewer.v0+json": {
       "columns": [
        {
         "name": "index",
         "rawType": "int64",
         "type": "integer"
        },
        {
         "name": "track_title",
         "rawType": "object",
         "type": "string"
        },
        {
         "name": "AlbumId",
         "rawType": "int64",
         "type": "integer"
        }
       ],
       "conversionMethod": "pd.DataFrame",
       "ref": "b22db58a-d787-4b91-aea1-47c365906d62",
       "rows": [
        [
         "0",
         "For Those About To Rock (We Salute You)",
         "1"
        ],
        [
         "1",
         "Balls to the Wall",
         "2"
        ],
        [
         "2",
         "Fast As a Shark",
         "3"
        ],
        [
         "3",
         "Restless and Wild",
         "3"
        ],
        [
         "4",
         "Princess of the Dawn",
         "3"
        ],
        [
         "5",
         "Put The Finger On You",
         "1"
        ],
        [
         "6",
         "Let's Get It Up",
         "1"
        ],
        [
         "7",
         "Inject The Venom",
         "1"
        ],
        [
         "8",
         "Snowballed",
         "1"
        ],
        [
         "9",
         "Evil Walks",
         "1"
        ],
        [
         "10",
         "C.O.D.",
         "1"
        ],
        [
         "11",
         "Breaking The Rules",
         "1"
        ],
        [
         "12",
         "Night Of The Long Knives",
         "1"
        ],
        [
         "13",
         "Spellbound",
         "1"
        ],
        [
         "14",
         "Go Down",
         "4"
        ],
        [
         "15",
         "Dog Eat Dog",
         "4"
        ],
        [
         "16",
         "Let There Be Rock",
         "4"
        ],
        [
         "17",
         "Bad Boy Boogie",
         "4"
        ],
        [
         "18",
         "Problem Child",
         "4"
        ],
        [
         "19",
         "Overdose",
         "4"
        ],
        [
         "20",
         "Hell Ain't A Bad Place To Be",
         "4"
        ],
        [
         "21",
         "Whole Lotta Rosie",
         "4"
        ],
        [
         "22",
         "Walk On Water",
         "5"
        ],
        [
         "23",
         "Love In An Elevator",
         "5"
        ],
        [
         "24",
         "Rag Doll",
         "5"
        ],
        [
         "25",
         "What It Takes",
         "5"
        ],
        [
         "26",
         "Dude (Looks Like A Lady)",
         "5"
        ],
        [
         "27",
         "Janie's Got A Gun",
         "5"
        ],
        [
         "28",
         "Cryin'",
         "5"
        ],
        [
         "29",
         "Amazing",
         "5"
        ],
        [
         "30",
         "Blind Man",
         "5"
        ],
        [
         "31",
         "Deuces Are Wild",
         "5"
        ],
        [
         "32",
         "The Other Side",
         "5"
        ],
        [
         "33",
         "Crazy",
         "5"
        ],
        [
         "34",
         "Eat The Rich",
         "5"
        ],
        [
         "35",
         "Angel",
         "5"
        ],
        [
         "36",
         "Livin' On The Edge",
         "5"
        ],
        [
         "37",
         "All I Really Want",
         "6"
        ],
        [
         "38",
         "You Oughta Know",
         "6"
        ],
        [
         "39",
         "Perfect",
         "6"
        ],
        [
         "40",
         "Hand In My Pocket",
         "6"
        ],
        [
         "41",
         "Right Through You",
         "6"
        ],
        [
         "42",
         "Forgiven",
         "6"
        ],
        [
         "43",
         "You Learn",
         "6"
        ],
        [
         "44",
         "Head Over Feet",
         "6"
        ],
        [
         "45",
         "Mary Jane",
         "6"
        ],
        [
         "46",
         "Ironic",
         "6"
        ],
        [
         "47",
         "Not The Doctor",
         "6"
        ],
        [
         "48",
         "Wake Up",
         "6"
        ],
        [
         "49",
         "You Oughta Know (Alternate)",
         "6"
        ]
       ],
       "shape": {
        "columns": 2,
        "rows": 3503
       }
      },
      "text/html": [
       "<div>\n",
       "<style scoped>\n",
       "    .dataframe tbody tr th:only-of-type {\n",
       "        vertical-align: middle;\n",
       "    }\n",
       "\n",
       "    .dataframe tbody tr th {\n",
       "        vertical-align: top;\n",
       "    }\n",
       "\n",
       "    .dataframe thead th {\n",
       "        text-align: right;\n",
       "    }\n",
       "</style>\n",
       "<table border=\"1\" class=\"dataframe\">\n",
       "  <thead>\n",
       "    <tr style=\"text-align: right;\">\n",
       "      <th></th>\n",
       "      <th>track_title</th>\n",
       "      <th>AlbumId</th>\n",
       "    </tr>\n",
       "  </thead>\n",
       "  <tbody>\n",
       "    <tr>\n",
       "      <th>0</th>\n",
       "      <td>For Those About To Rock (We Salute You)</td>\n",
       "      <td>1</td>\n",
       "    </tr>\n",
       "    <tr>\n",
       "      <th>1</th>\n",
       "      <td>Balls to the Wall</td>\n",
       "      <td>2</td>\n",
       "    </tr>\n",
       "    <tr>\n",
       "      <th>2</th>\n",
       "      <td>Fast As a Shark</td>\n",
       "      <td>3</td>\n",
       "    </tr>\n",
       "    <tr>\n",
       "      <th>3</th>\n",
       "      <td>Restless and Wild</td>\n",
       "      <td>3</td>\n",
       "    </tr>\n",
       "    <tr>\n",
       "      <th>4</th>\n",
       "      <td>Princess of the Dawn</td>\n",
       "      <td>3</td>\n",
       "    </tr>\n",
       "    <tr>\n",
       "      <th>...</th>\n",
       "      <td>...</td>\n",
       "      <td>...</td>\n",
       "    </tr>\n",
       "    <tr>\n",
       "      <th>3498</th>\n",
       "      <td>Pini Di Roma (Pinien Von Rom) \\ I Pini Della V...</td>\n",
       "      <td>343</td>\n",
       "    </tr>\n",
       "    <tr>\n",
       "      <th>3499</th>\n",
       "      <td>String Quartet No. 12 in C Minor, D. 703 \"Quar...</td>\n",
       "      <td>344</td>\n",
       "    </tr>\n",
       "    <tr>\n",
       "      <th>3500</th>\n",
       "      <td>L'orfeo, Act 3, Sinfonia (Orchestra)</td>\n",
       "      <td>345</td>\n",
       "    </tr>\n",
       "    <tr>\n",
       "      <th>3501</th>\n",
       "      <td>Quintet for Horn, Violin, 2 Violas, and Cello ...</td>\n",
       "      <td>346</td>\n",
       "    </tr>\n",
       "    <tr>\n",
       "      <th>3502</th>\n",
       "      <td>Koyaanisqatsi</td>\n",
       "      <td>347</td>\n",
       "    </tr>\n",
       "  </tbody>\n",
       "</table>\n",
       "<p>3503 rows × 2 columns</p>\n",
       "</div>"
      ],
      "text/plain": [
       "                                            track_title  AlbumId\n",
       "0               For Those About To Rock (We Salute You)        1\n",
       "1                                     Balls to the Wall        2\n",
       "2                                       Fast As a Shark        3\n",
       "3                                     Restless and Wild        3\n",
       "4                                  Princess of the Dawn        3\n",
       "...                                                 ...      ...\n",
       "3498  Pini Di Roma (Pinien Von Rom) \\ I Pini Della V...      343\n",
       "3499  String Quartet No. 12 in C Minor, D. 703 \"Quar...      344\n",
       "3500               L'orfeo, Act 3, Sinfonia (Orchestra)      345\n",
       "3501  Quintet for Horn, Violin, 2 Violas, and Cello ...      346\n",
       "3502                                      Koyaanisqatsi      347\n",
       "\n",
       "[3503 rows x 2 columns]"
      ]
     },
     "execution_count": 161,
     "metadata": {},
     "output_type": "execute_result"
    }
   ],
   "source": [
    "\n",
    "query = '''\n",
    "SELECT name as track_title, albumid\n",
    "FROM tracks\n",
    ";\n",
    "'''\n",
    "\n",
    "sql_query(query)"
   ]
  },
  {
   "cell_type": "code",
   "execution_count": 162,
   "metadata": {},
   "outputs": [
    {
     "data": {
      "application/vnd.microsoft.datawrangler.viewer.v0+json": {
       "columns": [
        {
         "name": "index",
         "rawType": "int64",
         "type": "integer"
        },
        {
         "name": "TrackId",
         "rawType": "int64",
         "type": "integer"
        },
        {
         "name": "Name",
         "rawType": "object",
         "type": "string"
        },
        {
         "name": "AlbumId",
         "rawType": "int64",
         "type": "integer"
        },
        {
         "name": "MediaTypeId",
         "rawType": "int64",
         "type": "integer"
        },
        {
         "name": "GenreId",
         "rawType": "int64",
         "type": "integer"
        },
        {
         "name": "Composer",
         "rawType": "object",
         "type": "unknown"
        },
        {
         "name": "Milliseconds",
         "rawType": "int64",
         "type": "integer"
        },
        {
         "name": "Bytes",
         "rawType": "int64",
         "type": "integer"
        },
        {
         "name": "UnitPrice",
         "rawType": "float64",
         "type": "float"
        }
       ],
       "conversionMethod": "pd.DataFrame",
       "ref": "141b0990-bce6-4f43-86b7-4fef83c61225",
       "rows": [
        [
         "0",
         "2844",
         "Better Halves",
         "228",
         "3",
         "21",
         null,
         "2573031",
         "549353481",
         "1.99"
        ],
        [
         "1",
         "2849",
         "Fallout",
         "228",
         "3",
         "21",
         null,
         "2594761",
         "501145440",
         "1.99"
        ],
        [
         "2",
         "2862",
         "The Glass Ballerina",
         "229",
         "3",
         "21",
         null,
         "2637458",
         "535729216",
         "1.99"
        ],
        [
         "3",
         "2882",
         "Lost Survival Guide",
         "229",
         "3",
         "21",
         null,
         "2632590",
         "486675063",
         "1.99"
        ],
        [
         "4",
         "2899",
         "The Man from Tallahassee",
         "229",
         "3",
         "21",
         null,
         "2637637",
         "550893556",
         "1.99"
        ],
        [
         "5",
         "2922",
         "Live Together, Die Alone, Pt. 1",
         "231",
         "3",
         "21",
         null,
         "2478041",
         "457364940",
         "1.99"
        ],
        [
         "6",
         "3211",
         "Traveling Salesmen",
         "251",
         "3",
         "22",
         null,
         "1289039",
         "250822697",
         "1.99"
        ],
        [
         "7",
         "3219",
         "Product Recall",
         "251",
         "3",
         "22",
         null,
         "1268268",
         "251208610",
         "1.99"
        ]
       ],
       "shape": {
        "columns": 9,
        "rows": 8
       }
      },
      "text/html": [
       "<div>\n",
       "<style scoped>\n",
       "    .dataframe tbody tr th:only-of-type {\n",
       "        vertical-align: middle;\n",
       "    }\n",
       "\n",
       "    .dataframe tbody tr th {\n",
       "        vertical-align: top;\n",
       "    }\n",
       "\n",
       "    .dataframe thead th {\n",
       "        text-align: right;\n",
       "    }\n",
       "</style>\n",
       "<table border=\"1\" class=\"dataframe\">\n",
       "  <thead>\n",
       "    <tr style=\"text-align: right;\">\n",
       "      <th></th>\n",
       "      <th>TrackId</th>\n",
       "      <th>Name</th>\n",
       "      <th>AlbumId</th>\n",
       "      <th>MediaTypeId</th>\n",
       "      <th>GenreId</th>\n",
       "      <th>Composer</th>\n",
       "      <th>Milliseconds</th>\n",
       "      <th>Bytes</th>\n",
       "      <th>UnitPrice</th>\n",
       "    </tr>\n",
       "  </thead>\n",
       "  <tbody>\n",
       "    <tr>\n",
       "      <th>0</th>\n",
       "      <td>2844</td>\n",
       "      <td>Better Halves</td>\n",
       "      <td>228</td>\n",
       "      <td>3</td>\n",
       "      <td>21</td>\n",
       "      <td>None</td>\n",
       "      <td>2573031</td>\n",
       "      <td>549353481</td>\n",
       "      <td>1.99</td>\n",
       "    </tr>\n",
       "    <tr>\n",
       "      <th>1</th>\n",
       "      <td>2849</td>\n",
       "      <td>Fallout</td>\n",
       "      <td>228</td>\n",
       "      <td>3</td>\n",
       "      <td>21</td>\n",
       "      <td>None</td>\n",
       "      <td>2594761</td>\n",
       "      <td>501145440</td>\n",
       "      <td>1.99</td>\n",
       "    </tr>\n",
       "    <tr>\n",
       "      <th>2</th>\n",
       "      <td>2862</td>\n",
       "      <td>The Glass Ballerina</td>\n",
       "      <td>229</td>\n",
       "      <td>3</td>\n",
       "      <td>21</td>\n",
       "      <td>None</td>\n",
       "      <td>2637458</td>\n",
       "      <td>535729216</td>\n",
       "      <td>1.99</td>\n",
       "    </tr>\n",
       "    <tr>\n",
       "      <th>3</th>\n",
       "      <td>2882</td>\n",
       "      <td>Lost Survival Guide</td>\n",
       "      <td>229</td>\n",
       "      <td>3</td>\n",
       "      <td>21</td>\n",
       "      <td>None</td>\n",
       "      <td>2632590</td>\n",
       "      <td>486675063</td>\n",
       "      <td>1.99</td>\n",
       "    </tr>\n",
       "    <tr>\n",
       "      <th>4</th>\n",
       "      <td>2899</td>\n",
       "      <td>The Man from Tallahassee</td>\n",
       "      <td>229</td>\n",
       "      <td>3</td>\n",
       "      <td>21</td>\n",
       "      <td>None</td>\n",
       "      <td>2637637</td>\n",
       "      <td>550893556</td>\n",
       "      <td>1.99</td>\n",
       "    </tr>\n",
       "    <tr>\n",
       "      <th>5</th>\n",
       "      <td>2922</td>\n",
       "      <td>Live Together, Die Alone, Pt. 1</td>\n",
       "      <td>231</td>\n",
       "      <td>3</td>\n",
       "      <td>21</td>\n",
       "      <td>None</td>\n",
       "      <td>2478041</td>\n",
       "      <td>457364940</td>\n",
       "      <td>1.99</td>\n",
       "    </tr>\n",
       "    <tr>\n",
       "      <th>6</th>\n",
       "      <td>3211</td>\n",
       "      <td>Traveling Salesmen</td>\n",
       "      <td>251</td>\n",
       "      <td>3</td>\n",
       "      <td>22</td>\n",
       "      <td>None</td>\n",
       "      <td>1289039</td>\n",
       "      <td>250822697</td>\n",
       "      <td>1.99</td>\n",
       "    </tr>\n",
       "    <tr>\n",
       "      <th>7</th>\n",
       "      <td>3219</td>\n",
       "      <td>Product Recall</td>\n",
       "      <td>251</td>\n",
       "      <td>3</td>\n",
       "      <td>22</td>\n",
       "      <td>None</td>\n",
       "      <td>1268268</td>\n",
       "      <td>251208610</td>\n",
       "      <td>1.99</td>\n",
       "    </tr>\n",
       "  </tbody>\n",
       "</table>\n",
       "</div>"
      ],
      "text/plain": [
       "   TrackId                             Name  AlbumId  MediaTypeId  GenreId  \\\n",
       "0     2844                    Better Halves      228            3       21   \n",
       "1     2849                          Fallout      228            3       21   \n",
       "2     2862              The Glass Ballerina      229            3       21   \n",
       "3     2882              Lost Survival Guide      229            3       21   \n",
       "4     2899         The Man from Tallahassee      229            3       21   \n",
       "5     2922  Live Together, Die Alone, Pt. 1      231            3       21   \n",
       "6     3211               Traveling Salesmen      251            3       22   \n",
       "7     3219                   Product Recall      251            3       22   \n",
       "\n",
       "  Composer  Milliseconds      Bytes  UnitPrice  \n",
       "0     None       2573031  549353481       1.99  \n",
       "1     None       2594761  501145440       1.99  \n",
       "2     None       2637458  535729216       1.99  \n",
       "3     None       2632590  486675063       1.99  \n",
       "4     None       2637637  550893556       1.99  \n",
       "5     None       2478041  457364940       1.99  \n",
       "6     None       1289039  250822697       1.99  \n",
       "7     None       1268268  251208610       1.99  "
      ]
     },
     "execution_count": 162,
     "metadata": {},
     "output_type": "execute_result"
    }
   ],
   "source": [
    "#LEFT JOIN\n",
    "query = '''\n",
    "SELECT a.name as track_title , b.title as album_title\n",
    "FROM tracks AS a\n",
    "LEFT JOIN albums AS b\n",
    "ON a.albumid = b.albumid\n",
    "'''\n",
    "\n",
    "df_lj = sql_query(query)\n",
    "# df_lj[df_lj['album_title'].isna()]\n",
    "df"
   ]
  },
  {
   "cell_type": "code",
   "execution_count": 163,
   "metadata": {},
   "outputs": [
    {
     "data": {
      "application/vnd.microsoft.datawrangler.viewer.v0+json": {
       "columns": [
        {
         "name": "index",
         "rawType": "int64",
         "type": "integer"
        },
        {
         "name": "InvoiceLineId",
         "rawType": "int64",
         "type": "integer"
        },
        {
         "name": "InvoiceId",
         "rawType": "int64",
         "type": "integer"
        },
        {
         "name": "TrackId",
         "rawType": "int64",
         "type": "integer"
        },
        {
         "name": "UnitPrice",
         "rawType": "float64",
         "type": "float"
        },
        {
         "name": "Quantity",
         "rawType": "int64",
         "type": "integer"
        },
        {
         "name": "TrackId",
         "rawType": "int64",
         "type": "integer"
        },
        {
         "name": "Name",
         "rawType": "object",
         "type": "string"
        },
        {
         "name": "AlbumId",
         "rawType": "int64",
         "type": "integer"
        },
        {
         "name": "MediaTypeId",
         "rawType": "int64",
         "type": "integer"
        },
        {
         "name": "GenreId",
         "rawType": "int64",
         "type": "integer"
        },
        {
         "name": "Composer",
         "rawType": "object",
         "type": "unknown"
        },
        {
         "name": "Milliseconds",
         "rawType": "int64",
         "type": "integer"
        },
        {
         "name": "Bytes",
         "rawType": "int64",
         "type": "integer"
        },
        {
         "name": "UnitPrice",
         "rawType": "float64",
         "type": "float"
        }
       ],
       "conversionMethod": "pd.DataFrame",
       "ref": "47bde22e-090d-456c-829d-9cc3fd7467a9",
       "rows": [
        [
         "0",
         "1",
         "1",
         "2",
         "0.99",
         "1",
         "2",
         "Balls to the Wall",
         "2",
         "2",
         "1",
         null,
         "342562",
         "5510424",
         "0.99"
        ],
        [
         "1",
         "2",
         "1",
         "4",
         "0.99",
         "1",
         "4",
         "Restless and Wild",
         "3",
         "2",
         "1",
         "F. Baltes, R.A. Smith-Diesel, S. Kaufman, U. Dirkscneider & W. Hoffman",
         "252051",
         "4331779",
         "0.99"
        ],
        [
         "2",
         "3",
         "2",
         "6",
         "0.99",
         "1",
         "6",
         "Put The Finger On You",
         "1",
         "1",
         "1",
         "Angus Young, Malcolm Young, Brian Johnson",
         "205662",
         "6713451",
         "0.99"
        ],
        [
         "3",
         "4",
         "2",
         "8",
         "0.99",
         "1",
         "8",
         "Inject The Venom",
         "1",
         "1",
         "1",
         "Angus Young, Malcolm Young, Brian Johnson",
         "210834",
         "6852860",
         "0.99"
        ],
        [
         "4",
         "5",
         "2",
         "10",
         "0.99",
         "1",
         "10",
         "Evil Walks",
         "1",
         "1",
         "1",
         "Angus Young, Malcolm Young, Brian Johnson",
         "263497",
         "8611245",
         "0.99"
        ]
       ],
       "shape": {
        "columns": 14,
        "rows": 5
       }
      },
      "text/html": [
       "<div>\n",
       "<style scoped>\n",
       "    .dataframe tbody tr th:only-of-type {\n",
       "        vertical-align: middle;\n",
       "    }\n",
       "\n",
       "    .dataframe tbody tr th {\n",
       "        vertical-align: top;\n",
       "    }\n",
       "\n",
       "    .dataframe thead th {\n",
       "        text-align: right;\n",
       "    }\n",
       "</style>\n",
       "<table border=\"1\" class=\"dataframe\">\n",
       "  <thead>\n",
       "    <tr style=\"text-align: right;\">\n",
       "      <th></th>\n",
       "      <th>InvoiceLineId</th>\n",
       "      <th>InvoiceId</th>\n",
       "      <th>TrackId</th>\n",
       "      <th>UnitPrice</th>\n",
       "      <th>Quantity</th>\n",
       "      <th>TrackId</th>\n",
       "      <th>Name</th>\n",
       "      <th>AlbumId</th>\n",
       "      <th>MediaTypeId</th>\n",
       "      <th>GenreId</th>\n",
       "      <th>Composer</th>\n",
       "      <th>Milliseconds</th>\n",
       "      <th>Bytes</th>\n",
       "      <th>UnitPrice</th>\n",
       "    </tr>\n",
       "  </thead>\n",
       "  <tbody>\n",
       "    <tr>\n",
       "      <th>0</th>\n",
       "      <td>1</td>\n",
       "      <td>1</td>\n",
       "      <td>2</td>\n",
       "      <td>0.99</td>\n",
       "      <td>1</td>\n",
       "      <td>2</td>\n",
       "      <td>Balls to the Wall</td>\n",
       "      <td>2</td>\n",
       "      <td>2</td>\n",
       "      <td>1</td>\n",
       "      <td>None</td>\n",
       "      <td>342562</td>\n",
       "      <td>5510424</td>\n",
       "      <td>0.99</td>\n",
       "    </tr>\n",
       "    <tr>\n",
       "      <th>1</th>\n",
       "      <td>2</td>\n",
       "      <td>1</td>\n",
       "      <td>4</td>\n",
       "      <td>0.99</td>\n",
       "      <td>1</td>\n",
       "      <td>4</td>\n",
       "      <td>Restless and Wild</td>\n",
       "      <td>3</td>\n",
       "      <td>2</td>\n",
       "      <td>1</td>\n",
       "      <td>F. Baltes, R.A. Smith-Diesel, S. Kaufman, U. D...</td>\n",
       "      <td>252051</td>\n",
       "      <td>4331779</td>\n",
       "      <td>0.99</td>\n",
       "    </tr>\n",
       "    <tr>\n",
       "      <th>2</th>\n",
       "      <td>3</td>\n",
       "      <td>2</td>\n",
       "      <td>6</td>\n",
       "      <td>0.99</td>\n",
       "      <td>1</td>\n",
       "      <td>6</td>\n",
       "      <td>Put The Finger On You</td>\n",
       "      <td>1</td>\n",
       "      <td>1</td>\n",
       "      <td>1</td>\n",
       "      <td>Angus Young, Malcolm Young, Brian Johnson</td>\n",
       "      <td>205662</td>\n",
       "      <td>6713451</td>\n",
       "      <td>0.99</td>\n",
       "    </tr>\n",
       "    <tr>\n",
       "      <th>3</th>\n",
       "      <td>4</td>\n",
       "      <td>2</td>\n",
       "      <td>8</td>\n",
       "      <td>0.99</td>\n",
       "      <td>1</td>\n",
       "      <td>8</td>\n",
       "      <td>Inject The Venom</td>\n",
       "      <td>1</td>\n",
       "      <td>1</td>\n",
       "      <td>1</td>\n",
       "      <td>Angus Young, Malcolm Young, Brian Johnson</td>\n",
       "      <td>210834</td>\n",
       "      <td>6852860</td>\n",
       "      <td>0.99</td>\n",
       "    </tr>\n",
       "    <tr>\n",
       "      <th>4</th>\n",
       "      <td>5</td>\n",
       "      <td>2</td>\n",
       "      <td>10</td>\n",
       "      <td>0.99</td>\n",
       "      <td>1</td>\n",
       "      <td>10</td>\n",
       "      <td>Evil Walks</td>\n",
       "      <td>1</td>\n",
       "      <td>1</td>\n",
       "      <td>1</td>\n",
       "      <td>Angus Young, Malcolm Young, Brian Johnson</td>\n",
       "      <td>263497</td>\n",
       "      <td>8611245</td>\n",
       "      <td>0.99</td>\n",
       "    </tr>\n",
       "  </tbody>\n",
       "</table>\n",
       "</div>"
      ],
      "text/plain": [
       "   InvoiceLineId  InvoiceId  TrackId  UnitPrice  Quantity  TrackId  \\\n",
       "0              1          1        2       0.99         1        2   \n",
       "1              2          1        4       0.99         1        4   \n",
       "2              3          2        6       0.99         1        6   \n",
       "3              4          2        8       0.99         1        8   \n",
       "4              5          2       10       0.99         1       10   \n",
       "\n",
       "                    Name  AlbumId  MediaTypeId  GenreId  \\\n",
       "0      Balls to the Wall        2            2        1   \n",
       "1      Restless and Wild        3            2        1   \n",
       "2  Put The Finger On You        1            1        1   \n",
       "3       Inject The Venom        1            1        1   \n",
       "4             Evil Walks        1            1        1   \n",
       "\n",
       "                                            Composer  Milliseconds    Bytes  \\\n",
       "0                                               None        342562  5510424   \n",
       "1  F. Baltes, R.A. Smith-Diesel, S. Kaufman, U. D...        252051  4331779   \n",
       "2          Angus Young, Malcolm Young, Brian Johnson        205662  6713451   \n",
       "3          Angus Young, Malcolm Young, Brian Johnson        210834  6852860   \n",
       "4          Angus Young, Malcolm Young, Brian Johnson        263497  8611245   \n",
       "\n",
       "   UnitPrice  \n",
       "0       0.99  \n",
       "1       0.99  \n",
       "2       0.99  \n",
       "3       0.99  \n",
       "4       0.99  "
      ]
     },
     "execution_count": 163,
     "metadata": {},
     "output_type": "execute_result"
    }
   ],
   "source": [
    "query = '''\n",
    "SELECT * \n",
    "FROM invoice_items AS a\n",
    "LEFT JOIN tracks AS b\n",
    "ON a.trackid = b.trackid\n",
    "LIMIT 5;\n",
    "'''\n",
    "\n",
    "sql_query(query)"
   ]
  },
  {
   "cell_type": "code",
   "execution_count": 164,
   "metadata": {},
   "outputs": [
    {
     "data": {
      "application/vnd.microsoft.datawrangler.viewer.v0+json": {
       "columns": [
        {
         "name": "index",
         "rawType": "int64",
         "type": "integer"
        },
        {
         "name": "Country",
         "rawType": "object",
         "type": "string"
        },
        {
         "name": "tot",
         "rawType": "float64",
         "type": "float"
        }
       ],
       "conversionMethod": "pd.DataFrame",
       "ref": "72667d21-6127-458f-8019-69f9d4cf8c75",
       "rows": [
        [
         "0",
         "Argentina",
         "37.62"
        ],
        [
         "1",
         "Australia",
         "37.62"
        ],
        [
         "2",
         "Austria",
         "42.62"
        ],
        [
         "3",
         "Belgium",
         "37.62"
        ],
        [
         "4",
         "Brazil",
         "190.1"
        ],
        [
         "5",
         "Canada",
         "303.96"
        ],
        [
         "6",
         "Chile",
         "46.62"
        ],
        [
         "7",
         "Czech Republic",
         "90.24"
        ],
        [
         "8",
         "Denmark",
         "37.62"
        ],
        [
         "9",
         "Finland",
         "41.62"
        ],
        [
         "10",
         "France",
         "195.1"
        ],
        [
         "11",
         "Germany",
         "156.48"
        ],
        [
         "12",
         "Hungary",
         "45.62"
        ],
        [
         "13",
         "India",
         "75.26"
        ],
        [
         "14",
         "Ireland",
         "45.62"
        ],
        [
         "15",
         "Italy",
         "37.62"
        ],
        [
         "16",
         "Netherlands",
         "40.62"
        ],
        [
         "17",
         "Norway",
         "39.62"
        ],
        [
         "18",
         "Poland",
         "37.62"
        ],
        [
         "19",
         "Portugal",
         "77.24"
        ],
        [
         "20",
         "Spain",
         "37.62"
        ],
        [
         "21",
         "Sweden",
         "38.62"
        ],
        [
         "22",
         "USA",
         "523.06"
        ],
        [
         "23",
         "United Kingdom",
         "112.86"
        ]
       ],
       "shape": {
        "columns": 2,
        "rows": 24
       }
      },
      "text/html": [
       "<div>\n",
       "<style scoped>\n",
       "    .dataframe tbody tr th:only-of-type {\n",
       "        vertical-align: middle;\n",
       "    }\n",
       "\n",
       "    .dataframe tbody tr th {\n",
       "        vertical-align: top;\n",
       "    }\n",
       "\n",
       "    .dataframe thead th {\n",
       "        text-align: right;\n",
       "    }\n",
       "</style>\n",
       "<table border=\"1\" class=\"dataframe\">\n",
       "  <thead>\n",
       "    <tr style=\"text-align: right;\">\n",
       "      <th></th>\n",
       "      <th>Country</th>\n",
       "      <th>tot</th>\n",
       "    </tr>\n",
       "  </thead>\n",
       "  <tbody>\n",
       "    <tr>\n",
       "      <th>0</th>\n",
       "      <td>Argentina</td>\n",
       "      <td>37.62</td>\n",
       "    </tr>\n",
       "    <tr>\n",
       "      <th>1</th>\n",
       "      <td>Australia</td>\n",
       "      <td>37.62</td>\n",
       "    </tr>\n",
       "    <tr>\n",
       "      <th>2</th>\n",
       "      <td>Austria</td>\n",
       "      <td>42.62</td>\n",
       "    </tr>\n",
       "    <tr>\n",
       "      <th>3</th>\n",
       "      <td>Belgium</td>\n",
       "      <td>37.62</td>\n",
       "    </tr>\n",
       "    <tr>\n",
       "      <th>4</th>\n",
       "      <td>Brazil</td>\n",
       "      <td>190.10</td>\n",
       "    </tr>\n",
       "    <tr>\n",
       "      <th>5</th>\n",
       "      <td>Canada</td>\n",
       "      <td>303.96</td>\n",
       "    </tr>\n",
       "    <tr>\n",
       "      <th>6</th>\n",
       "      <td>Chile</td>\n",
       "      <td>46.62</td>\n",
       "    </tr>\n",
       "    <tr>\n",
       "      <th>7</th>\n",
       "      <td>Czech Republic</td>\n",
       "      <td>90.24</td>\n",
       "    </tr>\n",
       "    <tr>\n",
       "      <th>8</th>\n",
       "      <td>Denmark</td>\n",
       "      <td>37.62</td>\n",
       "    </tr>\n",
       "    <tr>\n",
       "      <th>9</th>\n",
       "      <td>Finland</td>\n",
       "      <td>41.62</td>\n",
       "    </tr>\n",
       "    <tr>\n",
       "      <th>10</th>\n",
       "      <td>France</td>\n",
       "      <td>195.10</td>\n",
       "    </tr>\n",
       "    <tr>\n",
       "      <th>11</th>\n",
       "      <td>Germany</td>\n",
       "      <td>156.48</td>\n",
       "    </tr>\n",
       "    <tr>\n",
       "      <th>12</th>\n",
       "      <td>Hungary</td>\n",
       "      <td>45.62</td>\n",
       "    </tr>\n",
       "    <tr>\n",
       "      <th>13</th>\n",
       "      <td>India</td>\n",
       "      <td>75.26</td>\n",
       "    </tr>\n",
       "    <tr>\n",
       "      <th>14</th>\n",
       "      <td>Ireland</td>\n",
       "      <td>45.62</td>\n",
       "    </tr>\n",
       "    <tr>\n",
       "      <th>15</th>\n",
       "      <td>Italy</td>\n",
       "      <td>37.62</td>\n",
       "    </tr>\n",
       "    <tr>\n",
       "      <th>16</th>\n",
       "      <td>Netherlands</td>\n",
       "      <td>40.62</td>\n",
       "    </tr>\n",
       "    <tr>\n",
       "      <th>17</th>\n",
       "      <td>Norway</td>\n",
       "      <td>39.62</td>\n",
       "    </tr>\n",
       "    <tr>\n",
       "      <th>18</th>\n",
       "      <td>Poland</td>\n",
       "      <td>37.62</td>\n",
       "    </tr>\n",
       "    <tr>\n",
       "      <th>19</th>\n",
       "      <td>Portugal</td>\n",
       "      <td>77.24</td>\n",
       "    </tr>\n",
       "    <tr>\n",
       "      <th>20</th>\n",
       "      <td>Spain</td>\n",
       "      <td>37.62</td>\n",
       "    </tr>\n",
       "    <tr>\n",
       "      <th>21</th>\n",
       "      <td>Sweden</td>\n",
       "      <td>38.62</td>\n",
       "    </tr>\n",
       "    <tr>\n",
       "      <th>22</th>\n",
       "      <td>USA</td>\n",
       "      <td>523.06</td>\n",
       "    </tr>\n",
       "    <tr>\n",
       "      <th>23</th>\n",
       "      <td>United Kingdom</td>\n",
       "      <td>112.86</td>\n",
       "    </tr>\n",
       "  </tbody>\n",
       "</table>\n",
       "</div>"
      ],
      "text/plain": [
       "           Country     tot\n",
       "0        Argentina   37.62\n",
       "1        Australia   37.62\n",
       "2          Austria   42.62\n",
       "3          Belgium   37.62\n",
       "4           Brazil  190.10\n",
       "5           Canada  303.96\n",
       "6            Chile   46.62\n",
       "7   Czech Republic   90.24\n",
       "8          Denmark   37.62\n",
       "9          Finland   41.62\n",
       "10          France  195.10\n",
       "11         Germany  156.48\n",
       "12         Hungary   45.62\n",
       "13           India   75.26\n",
       "14         Ireland   45.62\n",
       "15           Italy   37.62\n",
       "16     Netherlands   40.62\n",
       "17          Norway   39.62\n",
       "18          Poland   37.62\n",
       "19        Portugal   77.24\n",
       "20           Spain   37.62\n",
       "21          Sweden   38.62\n",
       "22             USA  523.06\n",
       "23  United Kingdom  112.86"
      ]
     },
     "execution_count": 164,
     "metadata": {},
     "output_type": "execute_result"
    }
   ],
   "source": [
    "query = '''\n",
    "SELECT c.Country, SUM(t.UnitPrice) as tot FROM customers as c\n",
    "LEFT JOIN Invoices as i\n",
    "ON c.CustomerId = i.CustomerId\n",
    "LEFT JOIN Invoice_Items as ii\n",
    "ON i.InvoiceId = ii.InvoiceId\n",
    "LEFT JOIN tracks as t\n",
    "ON ii.TrackId = t.TrackId\n",
    "GROUP BY c.Country;\n",
    "'''\n",
    "\n",
    "sql_query(query)"
   ]
  },
  {
   "cell_type": "markdown",
   "metadata": {},
   "source": [
    "<table align=\"left\">\n",
    " <tr><td width=\"80\"><img src=\"./img/error.png\" style=\"width:auto;height:auto\"></td>\n",
    "     <td style=\"text-align:left\">\n",
    "         <h3>ERRORES Acceso a base de datos que no existe</h3>\n",
    "         \n",
    " </td></tr>\n",
    "</table>"
   ]
  },
  {
   "cell_type": "markdown",
   "metadata": {},
   "source": [
    "¡Cuidado! No da error, sino que crea una base de datos vacía"
   ]
  },
  {
   "cell_type": "code",
   "execution_count": 173,
   "metadata": {},
   "outputs": [],
   "source": [
    "# Conectamos con la base de datos chinook.db\n",
    "connection = sqlite3.connect(\"chinook7.db\")\n",
    "\n",
    "crsr = connection.cursor()"
   ]
  },
  {
   "cell_type": "code",
   "execution_count": 174,
   "metadata": {},
   "outputs": [
    {
     "data": {
      "text/plain": [
       "<sqlite3.Cursor at 0x18d07b53c40>"
      ]
     },
     "execution_count": 174,
     "metadata": {},
     "output_type": "execute_result"
    }
   ],
   "source": [
    "query = '''\n",
    " CREATE TABLE Persons (\n",
    "     PersonID int,\n",
    "     LastName varchar(255),\n",
    "     FirstName varchar(255),\n",
    "     Address varchar(255),\n",
    "     City varchar(255)\n",
    " );\n",
    " '''\n",
    "crsr.execute(query)"
   ]
  },
  {
   "cell_type": "code",
   "execution_count": 175,
   "metadata": {},
   "outputs": [
    {
     "data": {
      "text/plain": [
       "[]"
      ]
     },
     "execution_count": 175,
     "metadata": {},
     "output_type": "execute_result"
    }
   ],
   "source": [
    "query = '''\n",
    " SELECT * FROM Persons\n",
    " '''\n",
    "crsr.execute(query).fetchall()"
   ]
  },
  {
   "cell_type": "code",
   "execution_count": 176,
   "metadata": {},
   "outputs": [
    {
     "data": {
      "text/plain": [
       "<sqlite3.Cursor at 0x18d07b53c40>"
      ]
     },
     "execution_count": 176,
     "metadata": {},
     "output_type": "execute_result"
    }
   ],
   "source": [
    "query = '''\n",
    " INSERT INTO Persons (PersonID, LastName, FirstName, Address, City)\n",
    " VALUES (1, \"N\", \"M\", \"Recoletos\", \"Madrid\");\n",
    "'''\n",
    "crsr.execute(query)"
   ]
  },
  {
   "cell_type": "code",
   "execution_count": 177,
   "metadata": {},
   "outputs": [],
   "source": [
    "connection.commit()\n",
    "connection.close()"
   ]
  },
  {
   "cell_type": "markdown",
   "metadata": {},
   "source": [
    "<table align=\"left\">\n",
    " <tr><td width=\"80\"><img src=\"./img/error.png\" style=\"width:auto;height:auto\"></td>\n",
    "     <td style=\"text-align:left\">\n",
    "         <h3>ERRORES en la query</h3>\n",
    "         \n",
    " </td></tr>\n",
    "</table>"
   ]
  },
  {
   "cell_type": "markdown",
   "metadata": {},
   "source": [
    "Los errores son todos del mismo tipo: `OperationalError`. Esto nos indica que lo da el propio SQL, no es un error del intérprete de Python como tal. Ahora bien, aunque lo de SQL, devuelve un descriptivo con el tipo de error, que está bastante bien para ver por donde van los tiros."
   ]
  },
  {
   "cell_type": "code",
   "execution_count": 178,
   "metadata": {},
   "outputs": [],
   "source": [
    "# Conectamos con la base de datos chinook.db\n",
    "connection = sqlite3.connect(\"chinook4.db\")\n",
    "\n",
    "crsr = connection.cursor()"
   ]
  },
  {
   "cell_type": "code",
   "execution_count": 179,
   "metadata": {},
   "outputs": [
    {
     "ename": "OperationalError",
     "evalue": "no such column: last_name",
     "output_type": "error",
     "traceback": [
      "\u001b[1;31m---------------------------------------------------------------------------\u001b[0m",
      "\u001b[1;31mOperationalError\u001b[0m                          Traceback (most recent call last)",
      "Cell \u001b[1;32mIn[179], line 6\u001b[0m\n\u001b[0;32m      1\u001b[0m query \u001b[38;5;241m=\u001b[39m \u001b[38;5;124m'''\u001b[39m\n\u001b[0;32m      2\u001b[0m \u001b[38;5;124mSELECT last_name \u001b[39m\n\u001b[0;32m      3\u001b[0m \u001b[38;5;124mFROM Persons\u001b[39m\n\u001b[0;32m      4\u001b[0m \u001b[38;5;124m'''\u001b[39m\n\u001b[1;32m----> 6\u001b[0m \u001b[43msql_query\u001b[49m\u001b[43m(\u001b[49m\u001b[43mquery\u001b[49m\u001b[43m)\u001b[49m\n",
      "Cell \u001b[1;32mIn[140], line 5\u001b[0m, in \u001b[0;36msql_query\u001b[1;34m(query)\u001b[0m\n\u001b[0;32m      2\u001b[0m \u001b[38;5;28;01mdef\u001b[39;00m\u001b[38;5;250m \u001b[39m\u001b[38;5;21msql_query\u001b[39m(query):\n\u001b[0;32m      3\u001b[0m \n\u001b[0;32m      4\u001b[0m     \u001b[38;5;66;03m# Ejecuta la query\u001b[39;00m\n\u001b[1;32m----> 5\u001b[0m     crsr\u001b[38;5;241m.\u001b[39mexecute(query)\n\u001b[0;32m      7\u001b[0m     \u001b[38;5;66;03m# Almacena los datos de la query \u001b[39;00m\n\u001b[0;32m      8\u001b[0m     ans \u001b[38;5;241m=\u001b[39m crsr\u001b[38;5;241m.\u001b[39mfetchall()\n",
      "\u001b[1;31mOperationalError\u001b[0m: no such column: last_name"
     ]
    }
   ],
   "source": [
    "query = '''\n",
    "SELECT last_name \n",
    "FROM Persons\n",
    "'''\n",
    "\n",
    "sql_query(query)"
   ]
  },
  {
   "cell_type": "code",
   "execution_count": 180,
   "metadata": {},
   "outputs": [
    {
     "ename": "OperationalError",
     "evalue": "no such table: tracks",
     "output_type": "error",
     "traceback": [
      "\u001b[1;31m---------------------------------------------------------------------------\u001b[0m",
      "\u001b[1;31mOperationalError\u001b[0m                          Traceback (most recent call last)",
      "Cell \u001b[1;32mIn[180], line 6\u001b[0m\n\u001b[0;32m      1\u001b[0m query \u001b[38;5;241m=\u001b[39m \u001b[38;5;124m'''\u001b[39m\n\u001b[0;32m      2\u001b[0m \u001b[38;5;124mSELECT * \u001b[39m\n\u001b[0;32m      3\u001b[0m \u001b[38;5;124mFROM tracks\u001b[39m\n\u001b[0;32m      4\u001b[0m \u001b[38;5;124m'''\u001b[39m\n\u001b[1;32m----> 6\u001b[0m \u001b[43msql_query\u001b[49m\u001b[43m(\u001b[49m\u001b[43mquery\u001b[49m\u001b[43m)\u001b[49m\n",
      "Cell \u001b[1;32mIn[140], line 5\u001b[0m, in \u001b[0;36msql_query\u001b[1;34m(query)\u001b[0m\n\u001b[0;32m      2\u001b[0m \u001b[38;5;28;01mdef\u001b[39;00m\u001b[38;5;250m \u001b[39m\u001b[38;5;21msql_query\u001b[39m(query):\n\u001b[0;32m      3\u001b[0m \n\u001b[0;32m      4\u001b[0m     \u001b[38;5;66;03m# Ejecuta la query\u001b[39;00m\n\u001b[1;32m----> 5\u001b[0m     crsr\u001b[38;5;241m.\u001b[39mexecute(query)\n\u001b[0;32m      7\u001b[0m     \u001b[38;5;66;03m# Almacena los datos de la query \u001b[39;00m\n\u001b[0;32m      8\u001b[0m     ans \u001b[38;5;241m=\u001b[39m crsr\u001b[38;5;241m.\u001b[39mfetchall()\n",
      "\u001b[1;31mOperationalError\u001b[0m: no such table: tracks"
     ]
    }
   ],
   "source": [
    "query = '''\n",
    "SELECT * \n",
    "FROM tracks\n",
    "'''\n",
    "\n",
    "sql_query(query)"
   ]
  },
  {
   "cell_type": "code",
   "execution_count": null,
   "metadata": {},
   "outputs": [
    {
     "ename": "OperationalError",
     "evalue": "no such table: tracksssss",
     "output_type": "error",
     "traceback": [
      "\u001b[1;31m---------------------------------------------------------------------------\u001b[0m",
      "\u001b[1;31mOperationalError\u001b[0m                          Traceback (most recent call last)",
      "Cell \u001b[1;32mIn[839], line 6\u001b[0m\n\u001b[0;32m      1\u001b[0m query \u001b[38;5;241m=\u001b[39m \u001b[38;5;124m'''\u001b[39m\n\u001b[0;32m      2\u001b[0m \u001b[38;5;124mSELECT * \u001b[39m\n\u001b[0;32m      3\u001b[0m \u001b[38;5;124mFROM tracksssss\u001b[39m\n\u001b[0;32m      4\u001b[0m \u001b[38;5;124m'''\u001b[39m\n\u001b[1;32m----> 6\u001b[0m \u001b[43msql_query\u001b[49m\u001b[43m(\u001b[49m\u001b[43mquery\u001b[49m\u001b[43m)\u001b[49m\n",
      "Cell \u001b[1;32mIn[803], line 5\u001b[0m, in \u001b[0;36msql_query\u001b[1;34m(query)\u001b[0m\n\u001b[0;32m      2\u001b[0m \u001b[38;5;28;01mdef\u001b[39;00m \u001b[38;5;21msql_query\u001b[39m(query):\n\u001b[0;32m      3\u001b[0m \n\u001b[0;32m      4\u001b[0m     \u001b[38;5;66;03m# Ejecuta la query\u001b[39;00m\n\u001b[1;32m----> 5\u001b[0m     \u001b[43mcrsr\u001b[49m\u001b[38;5;241;43m.\u001b[39;49m\u001b[43mexecute\u001b[49m\u001b[43m(\u001b[49m\u001b[43mquery\u001b[49m\u001b[43m)\u001b[49m\n\u001b[0;32m      7\u001b[0m     \u001b[38;5;66;03m# Almacena los datos de la query \u001b[39;00m\n\u001b[0;32m      8\u001b[0m     ans \u001b[38;5;241m=\u001b[39m crsr\u001b[38;5;241m.\u001b[39mfetchall()\n",
      "\u001b[1;31mOperationalError\u001b[0m: no such table: tracksssss"
     ]
    }
   ],
   "source": [
    "query = '''\n",
    "SELECT * \n",
    "FROM tracksssss\n",
    "'''\n",
    "\n",
    "sql_query(query)"
   ]
  },
  {
   "cell_type": "code",
   "execution_count": null,
   "metadata": {},
   "outputs": [
    {
     "ename": "OperationalError",
     "evalue": "no such table: tracks",
     "output_type": "error",
     "traceback": [
      "\u001b[1;31m---------------------------------------------------------------------------\u001b[0m",
      "\u001b[1;31mOperationalError\u001b[0m                          Traceback (most recent call last)",
      "Cell \u001b[1;32mIn[840], line 6\u001b[0m\n\u001b[0;32m      1\u001b[0m query \u001b[38;5;241m=\u001b[39m \u001b[38;5;124m'''\u001b[39m\n\u001b[0;32m      2\u001b[0m \u001b[38;5;124mSELECT campo1, campo2\u001b[39m\n\u001b[0;32m      3\u001b[0m \u001b[38;5;124mFROM tracks\u001b[39m\n\u001b[0;32m      4\u001b[0m \u001b[38;5;124m'''\u001b[39m\n\u001b[1;32m----> 6\u001b[0m \u001b[43msql_query\u001b[49m\u001b[43m(\u001b[49m\u001b[43mquery\u001b[49m\u001b[43m)\u001b[49m\n",
      "Cell \u001b[1;32mIn[803], line 5\u001b[0m, in \u001b[0;36msql_query\u001b[1;34m(query)\u001b[0m\n\u001b[0;32m      2\u001b[0m \u001b[38;5;28;01mdef\u001b[39;00m \u001b[38;5;21msql_query\u001b[39m(query):\n\u001b[0;32m      3\u001b[0m \n\u001b[0;32m      4\u001b[0m     \u001b[38;5;66;03m# Ejecuta la query\u001b[39;00m\n\u001b[1;32m----> 5\u001b[0m     \u001b[43mcrsr\u001b[49m\u001b[38;5;241;43m.\u001b[39;49m\u001b[43mexecute\u001b[49m\u001b[43m(\u001b[49m\u001b[43mquery\u001b[49m\u001b[43m)\u001b[49m\n\u001b[0;32m      7\u001b[0m     \u001b[38;5;66;03m# Almacena los datos de la query \u001b[39;00m\n\u001b[0;32m      8\u001b[0m     ans \u001b[38;5;241m=\u001b[39m crsr\u001b[38;5;241m.\u001b[39mfetchall()\n",
      "\u001b[1;31mOperationalError\u001b[0m: no such table: tracks"
     ]
    }
   ],
   "source": [
    "query = '''\n",
    "SELECT campo1, campo2\n",
    "FROM tracks\n",
    "'''\n",
    "\n",
    "sql_query(query)"
   ]
  },
  {
   "cell_type": "markdown",
   "metadata": {},
   "source": [
    "## 5. Resumen\n",
    "**SQL es el estándar que se utiliza en el acceso a las BBDD relacionales**, por lo que en prácticamente cualquier empresa te vas a encontrar una BD de este tipo. La sintaxis es:\n",
    "\n",
    "```SQL\n",
    "SELECT campo1, campo2, campo3...\n",
    "FROM tabla\n",
    "WHERE condicionales\n",
    "```\n",
    "\n",
    "Y podrás realizar las siguientes acciones:\n",
    "1. **Filtrar columnas**: mediante `SELECT`\n",
    "2. **Renombrar campos**: mediante `SELECT campo as nuevo_nombre`\n",
    "3. **Eliminar duplicados**: mediante `DISTINCT`\n",
    "4. **Limitar el número de registros**: `LIMIT`\n",
    "5. **Filtrar filas**: `WHERE`\n",
    "6. **Ordenar una tabla**: `ORDER BY campo1, campo2` y `DESC`\n",
    "7. **Agregar información**: sacar un KPI como un máximo o un conteo: `MAX`,`COUNT`,`AVG`...\n",
    "8. **Agregado a nivel grupo**: con `GROUP BY`. Se calculan las funciones de agregación para cada grupo de una columna.\n",
    "9. **Juntar datos**: mediante `JOIN`. Hay de varios tipos: `LEFT`, `RIGHT`, `FULL`, `INNER` y `OUTER`.\n",
    "10. **Tablas temporales**: con `VIEW`\n",
    "11. **Eliminar tablas o vistas**: con `DROP`\n",
    "\n",
    "Y si te manejas de maravilla con la librería pandas, **siempre puedes obtener tus datos mediante una query con sqlite3, y tratarlos posteriormente en Python, mediante las funciones de pandas.**"
   ]
  }
 ],
 "metadata": {
  "kernelspec": {
   "display_name": "Python 3",
   "language": "python",
   "name": "python3"
  },
  "language_info": {
   "codemirror_mode": {
    "name": "ipython",
    "version": 3
   },
   "file_extension": ".py",
   "mimetype": "text/x-python",
   "name": "python",
   "nbconvert_exporter": "python",
   "pygments_lexer": "ipython3",
   "version": "3.11.9"
  }
 },
 "nbformat": 4,
 "nbformat_minor": 4
}
