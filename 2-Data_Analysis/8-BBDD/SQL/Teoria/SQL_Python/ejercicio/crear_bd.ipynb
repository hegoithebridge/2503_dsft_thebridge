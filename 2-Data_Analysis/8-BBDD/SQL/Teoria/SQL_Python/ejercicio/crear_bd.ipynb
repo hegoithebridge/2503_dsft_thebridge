{
 "cells": [
  {
   "cell_type": "code",
   "execution_count": 1,
   "metadata": {},
   "outputs": [],
   "source": [
    "import pandas as pd\n",
    "import sqlite3"
   ]
  },
  {
   "cell_type": "code",
   "execution_count": null,
   "metadata": {},
   "outputs": [],
   "source": [
    "# Conectamos con la base de datos\n",
    "connection = sqlite3.connect(\"data/my_database_2503_v4.db\")\n",
    "\n",
    "# Obtenemos un cursor que utilizaremos para hacer las queries\n",
    "crsr = connection.cursor()"
   ]
  },
  {
   "cell_type": "code",
   "execution_count": 3,
   "metadata": {},
   "outputs": [],
   "source": [
    "res = crsr.execute(\"SELECT name FROM sqlite_master WHERE type='table'\")\n",
    "for name in res:\n",
    "    print(name[0])"
   ]
  },
  {
   "cell_type": "code",
   "execution_count": 4,
   "metadata": {},
   "outputs": [],
   "source": [
    "# Con esta función leemos los datos y lo pasamos a un DataFrame de Pandas\n",
    "def sql_query(query):\n",
    "\n",
    "    # Ejecuta la query\n",
    "    crsr.execute(query)\n",
    "\n",
    "    # Almacena los datos de la query \n",
    "    ans = crsr.fetchall()\n",
    "\n",
    "    # Obtenemos los nombres de las columnas de la tabla\n",
    "    names = [description[0] for description in crsr.description]\n",
    "\n",
    "    return pd.DataFrame(ans,columns=names)"
   ]
  },
  {
   "cell_type": "code",
   "execution_count": 5,
   "metadata": {},
   "outputs": [
    {
     "data": {
      "text/plain": [
       "<sqlite3.Cursor at 0x245941be340>"
      ]
     },
     "execution_count": 5,
     "metadata": {},
     "output_type": "execute_result"
    }
   ],
   "source": [
    "query = '''\n",
    "CREATE TABLE cervezas (\n",
    "    CodC VARCHAR(2),\n",
    "    Envase VARCHAR(32),\n",
    "    Capacidad FLOAT(2),\n",
    "    Stock INT(5),\n",
    "    PRIMARY KEY (CodC)\n",
    ")\n",
    "'''\n",
    "\n",
    "crsr.execute(query)"
   ]
  },
  {
   "cell_type": "code",
   "execution_count": 51,
   "metadata": {},
   "outputs": [
    {
     "ename": "ProgrammingError",
     "evalue": "Cannot operate on a closed database.",
     "output_type": "error",
     "traceback": [
      "\u001b[1;31m---------------------------------------------------------------------------\u001b[0m",
      "\u001b[1;31mProgrammingError\u001b[0m                          Traceback (most recent call last)",
      "Cell \u001b[1;32mIn[51], line 11\u001b[0m\n\u001b[0;32m      1\u001b[0m query \u001b[38;5;241m=\u001b[39m \u001b[38;5;124m'''\u001b[39m\n\u001b[0;32m      2\u001b[0m \u001b[38;5;124mCREATE TABLE cervezas (\u001b[39m\n\u001b[0;32m      3\u001b[0m \u001b[38;5;124m    CodC VARCHAR NOT NULL,\u001b[39m\n\u001b[1;32m   (...)\u001b[0m\n\u001b[0;32m      8\u001b[0m \u001b[38;5;124m)\u001b[39m\n\u001b[0;32m      9\u001b[0m \u001b[38;5;124m'''\u001b[39m\n\u001b[1;32m---> 11\u001b[0m \u001b[43mcrsr\u001b[49m\u001b[38;5;241;43m.\u001b[39;49m\u001b[43mexecute\u001b[49m\u001b[43m(\u001b[49m\u001b[43mquery\u001b[49m\u001b[43m)\u001b[49m\n",
      "\u001b[1;31mProgrammingError\u001b[0m: Cannot operate on a closed database."
     ]
    }
   ],
   "source": [
    "query = '''\n",
    "CREATE TABLE cervezas (\n",
    "    CodC VARCHAR NOT NULL,\n",
    "    Envase VARCHAR,\n",
    "    Capacidad FLOAT,\n",
    "    Stock INT,\n",
    "    PRIMARY KEY (CodC)\n",
    ")\n",
    "'''\n",
    "\n",
    "crsr.execute(query)"
   ]
  },
  {
   "cell_type": "code",
   "execution_count": 20,
   "metadata": {},
   "outputs": [
    {
     "name": "stdout",
     "output_type": "stream",
     "text": [
      "cervezas\n"
     ]
    }
   ],
   "source": [
    "res = crsr.execute(\"SELECT name FROM sqlite_master WHERE type='table'\")\n",
    "for name in res:\n",
    "    print(name[0])"
   ]
  },
  {
   "cell_type": "code",
   "execution_count": 52,
   "metadata": {},
   "outputs": [
    {
     "ename": "ProgrammingError",
     "evalue": "Cannot operate on a closed database.",
     "output_type": "error",
     "traceback": [
      "\u001b[1;31m---------------------------------------------------------------------------\u001b[0m",
      "\u001b[1;31mProgrammingError\u001b[0m                          Traceback (most recent call last)",
      "Cell \u001b[1;32mIn[52], line 4\u001b[0m\n\u001b[0;32m      1\u001b[0m query \u001b[38;5;241m=\u001b[39m \u001b[38;5;124m'''\u001b[39m\n\u001b[0;32m      2\u001b[0m \u001b[38;5;124mSELECT * FROM cervezas \u001b[39m\n\u001b[0;32m      3\u001b[0m \u001b[38;5;124m'''\u001b[39m\n\u001b[1;32m----> 4\u001b[0m \u001b[43msql_query\u001b[49m\u001b[43m(\u001b[49m\u001b[43mquery\u001b[49m\u001b[43m)\u001b[49m\n",
      "Cell \u001b[1;32mIn[4], line 5\u001b[0m, in \u001b[0;36msql_query\u001b[1;34m(query)\u001b[0m\n\u001b[0;32m      2\u001b[0m \u001b[38;5;28;01mdef\u001b[39;00m\u001b[38;5;250m \u001b[39m\u001b[38;5;21msql_query\u001b[39m(query):\n\u001b[0;32m      3\u001b[0m \n\u001b[0;32m      4\u001b[0m     \u001b[38;5;66;03m# Ejecuta la query\u001b[39;00m\n\u001b[1;32m----> 5\u001b[0m     crsr\u001b[38;5;241m.\u001b[39mexecute(query)\n\u001b[0;32m      7\u001b[0m     \u001b[38;5;66;03m# Almacena los datos de la query \u001b[39;00m\n\u001b[0;32m      8\u001b[0m     ans \u001b[38;5;241m=\u001b[39m crsr\u001b[38;5;241m.\u001b[39mfetchall()\n",
      "\u001b[1;31mProgrammingError\u001b[0m: Cannot operate on a closed database."
     ]
    }
   ],
   "source": [
    "query = '''\n",
    "SELECT * FROM cervezas \n",
    "'''\n",
    "sql_query(query)"
   ]
  },
  {
   "cell_type": "code",
   "execution_count": 16,
   "metadata": {},
   "outputs": [
    {
     "data": {
      "text/plain": [
       "<sqlite3.Cursor at 0x2144ff9cac0>"
      ]
     },
     "execution_count": 16,
     "metadata": {},
     "output_type": "execute_result"
    }
   ],
   "source": [
    "query = '''\n",
    "DROP TABLE cervezas \n",
    "'''\n",
    "crsr.execute(query)"
   ]
  },
  {
   "cell_type": "code",
   "execution_count": 21,
   "metadata": {},
   "outputs": [
    {
     "data": {
      "text/plain": [
       "<sqlite3.Cursor at 0x2144ff9cac0>"
      ]
     },
     "execution_count": 21,
     "metadata": {},
     "output_type": "execute_result"
    }
   ],
   "source": [
    "query = '''\n",
    "INSERT INTO Cervezas (CodC, Envase, Capacidad, Stock)\n",
    "VALUES ('01','Botella',0.2,3600)\n",
    "'''\n",
    "crsr.execute(query)"
   ]
  },
  {
   "cell_type": "code",
   "execution_count": 25,
   "metadata": {},
   "outputs": [
    {
     "data": {
      "application/vnd.microsoft.datawrangler.viewer.v0+json": {
       "columns": [
        {
         "name": "index",
         "rawType": "int64",
         "type": "integer"
        },
        {
         "name": "CodC",
         "rawType": "object",
         "type": "string"
        },
        {
         "name": "Envase",
         "rawType": "object",
         "type": "string"
        },
        {
         "name": "Capacidad",
         "rawType": "float64",
         "type": "float"
        },
        {
         "name": "Stock",
         "rawType": "int64",
         "type": "integer"
        }
       ],
       "conversionMethod": "pd.DataFrame",
       "ref": "aa54bfb9-73d3-4c1a-a266-11c4806617a8",
       "rows": [
        [
         "0",
         "01",
         "Botella",
         "0.2",
         "3600"
        ],
        [
         "1",
         "02",
         "Botella",
         "0.33",
         "1200"
        ]
       ],
       "shape": {
        "columns": 4,
        "rows": 2
       }
      },
      "text/html": [
       "<div>\n",
       "<style scoped>\n",
       "    .dataframe tbody tr th:only-of-type {\n",
       "        vertical-align: middle;\n",
       "    }\n",
       "\n",
       "    .dataframe tbody tr th {\n",
       "        vertical-align: top;\n",
       "    }\n",
       "\n",
       "    .dataframe thead th {\n",
       "        text-align: right;\n",
       "    }\n",
       "</style>\n",
       "<table border=\"1\" class=\"dataframe\">\n",
       "  <thead>\n",
       "    <tr style=\"text-align: right;\">\n",
       "      <th></th>\n",
       "      <th>CodC</th>\n",
       "      <th>Envase</th>\n",
       "      <th>Capacidad</th>\n",
       "      <th>Stock</th>\n",
       "    </tr>\n",
       "  </thead>\n",
       "  <tbody>\n",
       "    <tr>\n",
       "      <th>0</th>\n",
       "      <td>01</td>\n",
       "      <td>Botella</td>\n",
       "      <td>0.20</td>\n",
       "      <td>3600</td>\n",
       "    </tr>\n",
       "    <tr>\n",
       "      <th>1</th>\n",
       "      <td>02</td>\n",
       "      <td>Botella</td>\n",
       "      <td>0.33</td>\n",
       "      <td>1200</td>\n",
       "    </tr>\n",
       "  </tbody>\n",
       "</table>\n",
       "</div>"
      ],
      "text/plain": [
       "  CodC   Envase  Capacidad  Stock\n",
       "0   01  Botella       0.20   3600\n",
       "1   02  Botella       0.33   1200"
      ]
     },
     "execution_count": 25,
     "metadata": {},
     "output_type": "execute_result"
    }
   ],
   "source": [
    "query = '''\n",
    "SELECT * FROM cervezas \n",
    "'''\n",
    "sql_query(query)"
   ]
  },
  {
   "cell_type": "code",
   "execution_count": 23,
   "metadata": {},
   "outputs": [
    {
     "data": {
      "text/plain": [
       "<sqlite3.Cursor at 0x2144ff9cac0>"
      ]
     },
     "execution_count": 23,
     "metadata": {},
     "output_type": "execute_result"
    }
   ],
   "source": [
    "query = '''\n",
    "INSERT INTO Cervezas VALUES ('02','Botella',0.33,1200)\n",
    "'''\n",
    "crsr.execute(query)"
   ]
  },
  {
   "cell_type": "code",
   "execution_count": 26,
   "metadata": {},
   "outputs": [
    {
     "data": {
      "text/plain": [
       "<sqlite3.Cursor at 0x2144ff9cac0>"
      ]
     },
     "execution_count": 26,
     "metadata": {},
     "output_type": "execute_result"
    }
   ],
   "source": [
    "query = '''\n",
    "INSERT INTO Cervezas VALUES ('03','Lata',0.33,2400),\n",
    "('04','Botella',1,288),\n",
    "('05','Barril',60,30)\n",
    "'''\n",
    "crsr.execute(query)"
   ]
  },
  {
   "cell_type": "code",
   "execution_count": 31,
   "metadata": {},
   "outputs": [
    {
     "data": {
      "application/vnd.microsoft.datawrangler.viewer.v0+json": {
       "columns": [
        {
         "name": "index",
         "rawType": "int64",
         "type": "integer"
        },
        {
         "name": "CodC",
         "rawType": "object",
         "type": "string"
        },
        {
         "name": "Envase",
         "rawType": "object",
         "type": "string"
        },
        {
         "name": "Capacidad",
         "rawType": "float64",
         "type": "float"
        },
        {
         "name": "Stock",
         "rawType": "int64",
         "type": "integer"
        }
       ],
       "conversionMethod": "pd.DataFrame",
       "ref": "88ff8809-4212-4203-85a5-35d389217fde",
       "rows": [
        [
         "0",
         "01",
         "Botella",
         "0.2",
         "3600"
        ],
        [
         "1",
         "02",
         "Botella",
         "0.33",
         "1200"
        ],
        [
         "2",
         "03",
         "Lata",
         "0.33",
         "2400"
        ],
        [
         "3",
         "04",
         "Botella",
         "1.0",
         "288"
        ],
        [
         "4",
         "05",
         "Barril",
         "60.0",
         "30"
        ]
       ],
       "shape": {
        "columns": 4,
        "rows": 5
       }
      },
      "text/html": [
       "<div>\n",
       "<style scoped>\n",
       "    .dataframe tbody tr th:only-of-type {\n",
       "        vertical-align: middle;\n",
       "    }\n",
       "\n",
       "    .dataframe tbody tr th {\n",
       "        vertical-align: top;\n",
       "    }\n",
       "\n",
       "    .dataframe thead th {\n",
       "        text-align: right;\n",
       "    }\n",
       "</style>\n",
       "<table border=\"1\" class=\"dataframe\">\n",
       "  <thead>\n",
       "    <tr style=\"text-align: right;\">\n",
       "      <th></th>\n",
       "      <th>CodC</th>\n",
       "      <th>Envase</th>\n",
       "      <th>Capacidad</th>\n",
       "      <th>Stock</th>\n",
       "    </tr>\n",
       "  </thead>\n",
       "  <tbody>\n",
       "    <tr>\n",
       "      <th>0</th>\n",
       "      <td>01</td>\n",
       "      <td>Botella</td>\n",
       "      <td>0.20</td>\n",
       "      <td>3600</td>\n",
       "    </tr>\n",
       "    <tr>\n",
       "      <th>1</th>\n",
       "      <td>02</td>\n",
       "      <td>Botella</td>\n",
       "      <td>0.33</td>\n",
       "      <td>1200</td>\n",
       "    </tr>\n",
       "    <tr>\n",
       "      <th>2</th>\n",
       "      <td>03</td>\n",
       "      <td>Lata</td>\n",
       "      <td>0.33</td>\n",
       "      <td>2400</td>\n",
       "    </tr>\n",
       "    <tr>\n",
       "      <th>3</th>\n",
       "      <td>04</td>\n",
       "      <td>Botella</td>\n",
       "      <td>1.00</td>\n",
       "      <td>288</td>\n",
       "    </tr>\n",
       "    <tr>\n",
       "      <th>4</th>\n",
       "      <td>05</td>\n",
       "      <td>Barril</td>\n",
       "      <td>60.00</td>\n",
       "      <td>30</td>\n",
       "    </tr>\n",
       "  </tbody>\n",
       "</table>\n",
       "</div>"
      ],
      "text/plain": [
       "  CodC   Envase  Capacidad  Stock\n",
       "0   01  Botella       0.20   3600\n",
       "1   02  Botella       0.33   1200\n",
       "2   03     Lata       0.33   2400\n",
       "3   04  Botella       1.00    288\n",
       "4   05   Barril      60.00     30"
      ]
     },
     "execution_count": 31,
     "metadata": {},
     "output_type": "execute_result"
    }
   ],
   "source": [
    "query = '''\n",
    "SELECT * FROM cervezas \n",
    "'''\n",
    "sql_query(query)"
   ]
  },
  {
   "cell_type": "code",
   "execution_count": 28,
   "metadata": {},
   "outputs": [
    {
     "data": {
      "text/plain": [
       "<sqlite3.Cursor at 0x2144ff9cac0>"
      ]
     },
     "execution_count": 28,
     "metadata": {},
     "output_type": "execute_result"
    }
   ],
   "source": [
    "query = '''\n",
    "INSERT INTO Cervezas VALUES ('06','asas','asas','asas')\n",
    "'''\n",
    "crsr.execute(query)"
   ]
  },
  {
   "cell_type": "code",
   "execution_count": 30,
   "metadata": {},
   "outputs": [
    {
     "data": {
      "text/plain": [
       "<sqlite3.Cursor at 0x2144ff9cac0>"
      ]
     },
     "execution_count": 30,
     "metadata": {},
     "output_type": "execute_result"
    }
   ],
   "source": [
    "query = '''\n",
    "DELETE FROM Cervezas WHERE CodC=\"06\"\n",
    "'''\n",
    "crsr.execute(query)"
   ]
  },
  {
   "cell_type": "code",
   "execution_count": 17,
   "metadata": {},
   "outputs": [
    {
     "data": {
      "text/html": [
       "<div>\n",
       "<style scoped>\n",
       "    .dataframe tbody tr th:only-of-type {\n",
       "        vertical-align: middle;\n",
       "    }\n",
       "\n",
       "    .dataframe tbody tr th {\n",
       "        vertical-align: top;\n",
       "    }\n",
       "\n",
       "    .dataframe thead th {\n",
       "        text-align: right;\n",
       "    }\n",
       "</style>\n",
       "<table border=\"1\" class=\"dataframe\">\n",
       "  <thead>\n",
       "    <tr style=\"text-align: right;\">\n",
       "      <th></th>\n",
       "      <th>CodC</th>\n",
       "      <th>Envase</th>\n",
       "      <th>Capacidad</th>\n",
       "      <th>Stock</th>\n",
       "    </tr>\n",
       "  </thead>\n",
       "  <tbody>\n",
       "    <tr>\n",
       "      <th>0</th>\n",
       "      <td>01</td>\n",
       "      <td>Botella</td>\n",
       "      <td>0.20</td>\n",
       "      <td>3600</td>\n",
       "    </tr>\n",
       "    <tr>\n",
       "      <th>1</th>\n",
       "      <td>02</td>\n",
       "      <td>Botella</td>\n",
       "      <td>0.33</td>\n",
       "      <td>1200</td>\n",
       "    </tr>\n",
       "    <tr>\n",
       "      <th>2</th>\n",
       "      <td>03</td>\n",
       "      <td>Lata</td>\n",
       "      <td>0.33</td>\n",
       "      <td>2400</td>\n",
       "    </tr>\n",
       "    <tr>\n",
       "      <th>3</th>\n",
       "      <td>04</td>\n",
       "      <td>Botella</td>\n",
       "      <td>1.00</td>\n",
       "      <td>288</td>\n",
       "    </tr>\n",
       "    <tr>\n",
       "      <th>4</th>\n",
       "      <td>05</td>\n",
       "      <td>Barril</td>\n",
       "      <td>60.00</td>\n",
       "      <td>30</td>\n",
       "    </tr>\n",
       "  </tbody>\n",
       "</table>\n",
       "</div>"
      ],
      "text/plain": [
       "  CodC   Envase  Capacidad  Stock\n",
       "0   01  Botella       0.20   3600\n",
       "1   02  Botella       0.33   1200\n",
       "2   03     Lata       0.33   2400\n",
       "3   04  Botella       1.00    288\n",
       "4   05   Barril      60.00     30"
      ]
     },
     "execution_count": 17,
     "metadata": {},
     "output_type": "execute_result"
    }
   ],
   "source": [
    "query = '''\n",
    "SELECT * FROM cervezas \n",
    "'''\n",
    "sql_query(query)"
   ]
  },
  {
   "cell_type": "code",
   "execution_count": 32,
   "metadata": {},
   "outputs": [
    {
     "data": {
      "text/plain": [
       "<sqlite3.Cursor at 0x2144ff9cac0>"
      ]
     },
     "execution_count": 32,
     "metadata": {},
     "output_type": "execute_result"
    }
   ],
   "source": [
    "query = '''\n",
    "UPDATE cervezas\n",
    "SET Stock = 5000, Capacidad = 0.25\n",
    "WHERE CodC='02';\n",
    "'''\n",
    "crsr.execute(query)"
   ]
  },
  {
   "cell_type": "code",
   "execution_count": 33,
   "metadata": {},
   "outputs": [
    {
     "data": {
      "application/vnd.microsoft.datawrangler.viewer.v0+json": {
       "columns": [
        {
         "name": "index",
         "rawType": "int64",
         "type": "integer"
        },
        {
         "name": "CodC",
         "rawType": "object",
         "type": "string"
        },
        {
         "name": "Envase",
         "rawType": "object",
         "type": "string"
        },
        {
         "name": "Capacidad",
         "rawType": "float64",
         "type": "float"
        },
        {
         "name": "Stock",
         "rawType": "int64",
         "type": "integer"
        }
       ],
       "conversionMethod": "pd.DataFrame",
       "ref": "0cfa9ccc-db21-4502-a748-3028b9eac426",
       "rows": [
        [
         "0",
         "01",
         "Botella",
         "0.2",
         "3600"
        ],
        [
         "1",
         "02",
         "Botella",
         "0.25",
         "5000"
        ],
        [
         "2",
         "03",
         "Lata",
         "0.33",
         "2400"
        ],
        [
         "3",
         "04",
         "Botella",
         "1.0",
         "288"
        ],
        [
         "4",
         "05",
         "Barril",
         "60.0",
         "30"
        ]
       ],
       "shape": {
        "columns": 4,
        "rows": 5
       }
      },
      "text/html": [
       "<div>\n",
       "<style scoped>\n",
       "    .dataframe tbody tr th:only-of-type {\n",
       "        vertical-align: middle;\n",
       "    }\n",
       "\n",
       "    .dataframe tbody tr th {\n",
       "        vertical-align: top;\n",
       "    }\n",
       "\n",
       "    .dataframe thead th {\n",
       "        text-align: right;\n",
       "    }\n",
       "</style>\n",
       "<table border=\"1\" class=\"dataframe\">\n",
       "  <thead>\n",
       "    <tr style=\"text-align: right;\">\n",
       "      <th></th>\n",
       "      <th>CodC</th>\n",
       "      <th>Envase</th>\n",
       "      <th>Capacidad</th>\n",
       "      <th>Stock</th>\n",
       "    </tr>\n",
       "  </thead>\n",
       "  <tbody>\n",
       "    <tr>\n",
       "      <th>0</th>\n",
       "      <td>01</td>\n",
       "      <td>Botella</td>\n",
       "      <td>0.20</td>\n",
       "      <td>3600</td>\n",
       "    </tr>\n",
       "    <tr>\n",
       "      <th>1</th>\n",
       "      <td>02</td>\n",
       "      <td>Botella</td>\n",
       "      <td>0.25</td>\n",
       "      <td>5000</td>\n",
       "    </tr>\n",
       "    <tr>\n",
       "      <th>2</th>\n",
       "      <td>03</td>\n",
       "      <td>Lata</td>\n",
       "      <td>0.33</td>\n",
       "      <td>2400</td>\n",
       "    </tr>\n",
       "    <tr>\n",
       "      <th>3</th>\n",
       "      <td>04</td>\n",
       "      <td>Botella</td>\n",
       "      <td>1.00</td>\n",
       "      <td>288</td>\n",
       "    </tr>\n",
       "    <tr>\n",
       "      <th>4</th>\n",
       "      <td>05</td>\n",
       "      <td>Barril</td>\n",
       "      <td>60.00</td>\n",
       "      <td>30</td>\n",
       "    </tr>\n",
       "  </tbody>\n",
       "</table>\n",
       "</div>"
      ],
      "text/plain": [
       "  CodC   Envase  Capacidad  Stock\n",
       "0   01  Botella       0.20   3600\n",
       "1   02  Botella       0.25   5000\n",
       "2   03     Lata       0.33   2400\n",
       "3   04  Botella       1.00    288\n",
       "4   05   Barril      60.00     30"
      ]
     },
     "execution_count": 33,
     "metadata": {},
     "output_type": "execute_result"
    }
   ],
   "source": [
    "query = '''\n",
    "SELECT * FROM cervezas \n",
    "'''\n",
    "sql_query(query)"
   ]
  },
  {
   "cell_type": "code",
   "execution_count": 34,
   "metadata": {},
   "outputs": [
    {
     "data": {
      "text/plain": [
       "<sqlite3.Cursor at 0x2144ff9cac0>"
      ]
     },
     "execution_count": 34,
     "metadata": {},
     "output_type": "execute_result"
    }
   ],
   "source": [
    "query = '''\n",
    "DELETE FROM cervezas WHERE CodC='05';\n",
    "'''\n",
    "crsr.execute(query)"
   ]
  },
  {
   "cell_type": "code",
   "execution_count": 35,
   "metadata": {},
   "outputs": [
    {
     "data": {
      "application/vnd.microsoft.datawrangler.viewer.v0+json": {
       "columns": [
        {
         "name": "index",
         "rawType": "int64",
         "type": "integer"
        },
        {
         "name": "CodC",
         "rawType": "object",
         "type": "string"
        },
        {
         "name": "Envase",
         "rawType": "object",
         "type": "string"
        },
        {
         "name": "Capacidad",
         "rawType": "float64",
         "type": "float"
        },
        {
         "name": "Stock",
         "rawType": "int64",
         "type": "integer"
        }
       ],
       "conversionMethod": "pd.DataFrame",
       "ref": "a3654aab-d503-4f2b-b3c6-a6e373900a2f",
       "rows": [
        [
         "0",
         "01",
         "Botella",
         "0.2",
         "3600"
        ],
        [
         "1",
         "02",
         "Botella",
         "0.25",
         "5000"
        ],
        [
         "2",
         "03",
         "Lata",
         "0.33",
         "2400"
        ],
        [
         "3",
         "04",
         "Botella",
         "1.0",
         "288"
        ]
       ],
       "shape": {
        "columns": 4,
        "rows": 4
       }
      },
      "text/html": [
       "<div>\n",
       "<style scoped>\n",
       "    .dataframe tbody tr th:only-of-type {\n",
       "        vertical-align: middle;\n",
       "    }\n",
       "\n",
       "    .dataframe tbody tr th {\n",
       "        vertical-align: top;\n",
       "    }\n",
       "\n",
       "    .dataframe thead th {\n",
       "        text-align: right;\n",
       "    }\n",
       "</style>\n",
       "<table border=\"1\" class=\"dataframe\">\n",
       "  <thead>\n",
       "    <tr style=\"text-align: right;\">\n",
       "      <th></th>\n",
       "      <th>CodC</th>\n",
       "      <th>Envase</th>\n",
       "      <th>Capacidad</th>\n",
       "      <th>Stock</th>\n",
       "    </tr>\n",
       "  </thead>\n",
       "  <tbody>\n",
       "    <tr>\n",
       "      <th>0</th>\n",
       "      <td>01</td>\n",
       "      <td>Botella</td>\n",
       "      <td>0.20</td>\n",
       "      <td>3600</td>\n",
       "    </tr>\n",
       "    <tr>\n",
       "      <th>1</th>\n",
       "      <td>02</td>\n",
       "      <td>Botella</td>\n",
       "      <td>0.25</td>\n",
       "      <td>5000</td>\n",
       "    </tr>\n",
       "    <tr>\n",
       "      <th>2</th>\n",
       "      <td>03</td>\n",
       "      <td>Lata</td>\n",
       "      <td>0.33</td>\n",
       "      <td>2400</td>\n",
       "    </tr>\n",
       "    <tr>\n",
       "      <th>3</th>\n",
       "      <td>04</td>\n",
       "      <td>Botella</td>\n",
       "      <td>1.00</td>\n",
       "      <td>288</td>\n",
       "    </tr>\n",
       "  </tbody>\n",
       "</table>\n",
       "</div>"
      ],
      "text/plain": [
       "  CodC   Envase  Capacidad  Stock\n",
       "0   01  Botella       0.20   3600\n",
       "1   02  Botella       0.25   5000\n",
       "2   03     Lata       0.33   2400\n",
       "3   04  Botella       1.00    288"
      ]
     },
     "execution_count": 35,
     "metadata": {},
     "output_type": "execute_result"
    }
   ],
   "source": [
    "query = '''\n",
    "SELECT * FROM cervezas\n",
    "'''\n",
    "df = sql_query(query)\n",
    "df"
   ]
  },
  {
   "cell_type": "code",
   "execution_count": 50,
   "metadata": {},
   "outputs": [],
   "source": [
    "#df.to_sql(\"cervezas_v2\", connection, index=False)"
   ]
  },
  {
   "cell_type": "code",
   "execution_count": 51,
   "metadata": {},
   "outputs": [],
   "source": [
    "#query = '''\n",
    "#SELECT * FROM cervezas_v2\n",
    "#'''\n",
    "#df = sql_query(query)\n",
    "#df"
   ]
  },
  {
   "cell_type": "markdown",
   "metadata": {},
   "source": [
    "## SUBQUERIES"
   ]
  },
  {
   "cell_type": "code",
   "execution_count": 25,
   "metadata": {},
   "outputs": [
    {
     "data": {
      "text/html": [
       "<div>\n",
       "<style scoped>\n",
       "    .dataframe tbody tr th:only-of-type {\n",
       "        vertical-align: middle;\n",
       "    }\n",
       "\n",
       "    .dataframe tbody tr th {\n",
       "        vertical-align: top;\n",
       "    }\n",
       "\n",
       "    .dataframe thead th {\n",
       "        text-align: right;\n",
       "    }\n",
       "</style>\n",
       "<table border=\"1\" class=\"dataframe\">\n",
       "  <thead>\n",
       "    <tr style=\"text-align: right;\">\n",
       "      <th></th>\n",
       "      <th>CodC</th>\n",
       "      <th>Envase</th>\n",
       "      <th>Capacidad</th>\n",
       "      <th>Stock</th>\n",
       "    </tr>\n",
       "  </thead>\n",
       "  <tbody>\n",
       "    <tr>\n",
       "      <th>0</th>\n",
       "      <td>01</td>\n",
       "      <td>Botella</td>\n",
       "      <td>0.20</td>\n",
       "      <td>3600</td>\n",
       "    </tr>\n",
       "    <tr>\n",
       "      <th>1</th>\n",
       "      <td>02</td>\n",
       "      <td>Botella</td>\n",
       "      <td>0.25</td>\n",
       "      <td>5000</td>\n",
       "    </tr>\n",
       "    <tr>\n",
       "      <th>2</th>\n",
       "      <td>04</td>\n",
       "      <td>Botella</td>\n",
       "      <td>1.00</td>\n",
       "      <td>288</td>\n",
       "    </tr>\n",
       "  </tbody>\n",
       "</table>\n",
       "</div>"
      ],
      "text/plain": [
       "  CodC   Envase  Capacidad  Stock\n",
       "0   01  Botella       0.20   3600\n",
       "1   02  Botella       0.25   5000\n",
       "2   04  Botella       1.00    288"
      ]
     },
     "execution_count": 25,
     "metadata": {},
     "output_type": "execute_result"
    }
   ],
   "source": [
    "query = '''\n",
    "SELECT * FROM (SELECT * FROM Cervezas WHERE Envase=\"Botella\")\n",
    "'''\n",
    "sql_query(query)"
   ]
  },
  {
   "cell_type": "code",
   "execution_count": 36,
   "metadata": {},
   "outputs": [],
   "source": [
    "# ATENCIÓN! Al terminar hay que cerrar la conexión a la DB para que se guarden los cambios!!!!!!\n",
    "connection.commit()\n",
    "connection.close()"
   ]
  },
  {
   "cell_type": "markdown",
   "metadata": {},
   "source": [
    "# Resolución ejercicio"
   ]
  },
  {
   "cell_type": "code",
   "execution_count": 53,
   "metadata": {},
   "outputs": [],
   "source": [
    "# Conectamos con la base de datos\n",
    "connection = sqlite3.connect(\"data/my_database_2503_v5.db\")\n",
    "\n",
    "# Obtenemos un cursor que utilizaremos para hacer las queries\n",
    "crsr = connection.cursor()"
   ]
  },
  {
   "cell_type": "code",
   "execution_count": 54,
   "metadata": {},
   "outputs": [],
   "source": [
    "#query = '''\n",
    "#DROP TABLE cervezas_v2\n",
    "#'''\n",
    "#\n",
    "#crsr.execute(query)"
   ]
  },
  {
   "cell_type": "code",
   "execution_count": 41,
   "metadata": {},
   "outputs": [
    {
     "data": {
      "text/plain": [
       "<sqlite3.Cursor at 0x2145047fa40>"
      ]
     },
     "execution_count": 41,
     "metadata": {},
     "output_type": "execute_result"
    }
   ],
   "source": [
    "query = '''\n",
    "CREATE TABLE cervezas (\n",
    "    CodC VARCHAR NOT NULL,\n",
    "    Envase VARCHAR,\n",
    "    Capacidad FLOAT,\n",
    "    Stock INT,\n",
    "    PRIMARY KEY (CodC)\n",
    ")\n",
    "'''\n",
    "\n",
    "crsr.execute(query)"
   ]
  },
  {
   "cell_type": "code",
   "execution_count": 40,
   "metadata": {},
   "outputs": [
    {
     "data": {
      "text/plain": [
       "<sqlite3.Cursor at 0x2145047fa40>"
      ]
     },
     "execution_count": 40,
     "metadata": {},
     "output_type": "execute_result"
    }
   ],
   "source": [
    "#query = '''\n",
    "#CREATE TABLE cervezas2 (\n",
    "#    CodC VARCHAR(2),\n",
    "#    Envase VARCHAR(32),\n",
    "#    Capacidad FLOAT,\n",
    "#    Stock INT,\n",
    "#    PRIMARY KEY (CodC)\n",
    "#)\n",
    "#'''\n",
    "\n",
    "crsr.execute(\"DROP TABLE cervezas\")"
   ]
  },
  {
   "cell_type": "code",
   "execution_count": 42,
   "metadata": {},
   "outputs": [
    {
     "data": {
      "text/plain": [
       "<sqlite3.Cursor at 0x2145047fa40>"
      ]
     },
     "execution_count": 42,
     "metadata": {},
     "output_type": "execute_result"
    }
   ],
   "source": [
    "query = '''\n",
    "INSERT INTO cervezas VALUES ('01','Botella',0.2,3600),\n",
    "('02','Botella',0.33,1200),\n",
    "('03','Lata',0.33,2400),\n",
    "('04','Botella',1,288),\n",
    "('05','Barril',60,30)\n",
    "'''\n",
    "crsr.execute(query)"
   ]
  },
  {
   "cell_type": "code",
   "execution_count": 43,
   "metadata": {},
   "outputs": [
    {
     "data": {
      "text/plain": [
       "<sqlite3.Cursor at 0x2145047fa40>"
      ]
     },
     "execution_count": 43,
     "metadata": {},
     "output_type": "execute_result"
    }
   ],
   "source": [
    "query = '''\n",
    "CREATE TABLE bares (\n",
    "\tCodB VARCHAR NOT NULL,\n",
    "    Nombre VARCHAR,\n",
    "    Cif VARCHAR,\n",
    "\tLocalidad VARCHAR,\n",
    "\tPRIMARY KEY (CodB)\n",
    ");\n",
    "'''\n",
    "crsr.execute(query)"
   ]
  },
  {
   "cell_type": "code",
   "execution_count": 44,
   "metadata": {},
   "outputs": [
    {
     "data": {
      "text/plain": [
       "<sqlite3.Cursor at 0x2145047fa40>"
      ]
     },
     "execution_count": 44,
     "metadata": {},
     "output_type": "execute_result"
    }
   ],
   "source": [
    "query = '''\n",
    "INSERT INTO bares (CodB, Nombre, Cif, Localidad) \n",
    "VALUES  ('001','Stop','11111111X','Villa Botijo'),\n",
    "('002','Las Vegas','22222222Y','Villa Botijo'),\n",
    "('003','Club Social',NULL,'Las Ranas'),\n",
    "('004','Otra Ronda','33333333X','La Esponja')\n",
    ";\n",
    "'''\n",
    "crsr.execute(query)"
   ]
  },
  {
   "cell_type": "code",
   "execution_count": 45,
   "metadata": {},
   "outputs": [
    {
     "data": {
      "text/plain": [
       "<sqlite3.Cursor at 0x2145047fa40>"
      ]
     },
     "execution_count": 45,
     "metadata": {},
     "output_type": "execute_result"
    }
   ],
   "source": [
    "query = '''\n",
    "CREATE TABLE empleados (\n",
    "\tCodE INT NOT NULL,\n",
    "    Nombre VARCHAR,\n",
    "    Sueldo INT,\n",
    "\tPRIMARY KEY (CodE)\n",
    ");\n",
    "'''\n",
    "crsr.execute(query)"
   ]
  },
  {
   "cell_type": "code",
   "execution_count": 46,
   "metadata": {},
   "outputs": [
    {
     "data": {
      "text/plain": [
       "<sqlite3.Cursor at 0x2145047fa40>"
      ]
     },
     "execution_count": 46,
     "metadata": {},
     "output_type": "execute_result"
    }
   ],
   "source": [
    "query = '''\n",
    "INSERT INTO empleados (CodE, Nombre, Sueldo) \n",
    "VALUES  (1,'Prudencio Caminero', 120000),\n",
    "(2,'Vicente Merario', 110000),\n",
    "(3,'Valentin Siempre', 100000)\n",
    ";\n",
    "'''\n",
    "crsr.execute(query)"
   ]
  },
  {
   "cell_type": "code",
   "execution_count": 47,
   "metadata": {},
   "outputs": [
    {
     "data": {
      "text/plain": [
       "<sqlite3.Cursor at 0x2145047fa40>"
      ]
     },
     "execution_count": 47,
     "metadata": {},
     "output_type": "execute_result"
    }
   ],
   "source": [
    "query = '''\n",
    "CREATE TABLE reparto (\n",
    "\tCodE VARCHAR NOT NULL,\n",
    "\tCodB VARCHAR NOT NULL,\n",
    "\tCodC INT NOT NULL,\n",
    "\tFecha DATE NOT NULL,\n",
    "\tCantidad SMALLINT,\n",
    "\tPRIMARY KEY (CodE,CodB,CodC)\n",
    "\tFOREIGN KEY (CodC) REFERENCES cervezas(CodC)\n",
    "\tFOREIGN KEY (CodB) REFERENCES bares(CodB)\n",
    "\tFOREIGN KEY (CodE) REFERENCES empleados(CodE)\n",
    ");\n",
    "'''\n",
    "crsr.execute(query)"
   ]
  },
  {
   "cell_type": "code",
   "execution_count": 48,
   "metadata": {},
   "outputs": [
    {
     "data": {
      "text/plain": [
       "<sqlite3.Cursor at 0x2145047fa40>"
      ]
     },
     "execution_count": 48,
     "metadata": {},
     "output_type": "execute_result"
    }
   ],
   "source": [
    "query = '''\n",
    "INSERT INTO reparto (CodE, CodB, CodC, Fecha, Cantidad) \n",
    "VALUES  ('1','001','01','2005-10-21',240 ),\n",
    "( '1','001','02','2005-10-21',48 ),\n",
    "( '1','002','03','2005-10-22',60 ),\n",
    "( '1','004','05','2005-10-22',4 ),\n",
    "( '2','002','03','2005-10-22',48 ),\n",
    "( '2','002','05','2005-10-23',2 ),\n",
    "( '2','004','01','2005-10-23',480 ),\n",
    "( '2','004','02','2005-10-24',72 ),\n",
    "( '3','003','03','2005-10-24',48 ),\n",
    "( '3','003','04','2005-10-25',20 )\n",
    ";\n",
    "'''\n",
    "crsr.execute(query)"
   ]
  },
  {
   "cell_type": "code",
   "execution_count": 49,
   "metadata": {},
   "outputs": [
    {
     "data": {
      "application/vnd.microsoft.datawrangler.viewer.v0+json": {
       "columns": [
        {
         "name": "index",
         "rawType": "int64",
         "type": "integer"
        },
        {
         "name": "CodE",
         "rawType": "object",
         "type": "string"
        },
        {
         "name": "CodB",
         "rawType": "object",
         "type": "string"
        },
        {
         "name": "CodC",
         "rawType": "int64",
         "type": "integer"
        },
        {
         "name": "Fecha",
         "rawType": "object",
         "type": "string"
        },
        {
         "name": "Cantidad",
         "rawType": "int64",
         "type": "integer"
        }
       ],
       "conversionMethod": "pd.DataFrame",
       "ref": "9786b33b-bf40-4832-b232-93a0c7368e97",
       "rows": [
        [
         "0",
         "1",
         "001",
         "1",
         "2005-10-21",
         "240"
        ],
        [
         "1",
         "1",
         "001",
         "2",
         "2005-10-21",
         "48"
        ],
        [
         "2",
         "1",
         "002",
         "3",
         "2005-10-22",
         "60"
        ],
        [
         "3",
         "1",
         "004",
         "5",
         "2005-10-22",
         "4"
        ],
        [
         "4",
         "2",
         "002",
         "3",
         "2005-10-22",
         "48"
        ],
        [
         "5",
         "2",
         "002",
         "5",
         "2005-10-23",
         "2"
        ],
        [
         "6",
         "2",
         "004",
         "1",
         "2005-10-23",
         "480"
        ],
        [
         "7",
         "2",
         "004",
         "2",
         "2005-10-24",
         "72"
        ],
        [
         "8",
         "3",
         "003",
         "3",
         "2005-10-24",
         "48"
        ],
        [
         "9",
         "3",
         "003",
         "4",
         "2005-10-25",
         "20"
        ]
       ],
       "shape": {
        "columns": 5,
        "rows": 10
       }
      },
      "text/html": [
       "<div>\n",
       "<style scoped>\n",
       "    .dataframe tbody tr th:only-of-type {\n",
       "        vertical-align: middle;\n",
       "    }\n",
       "\n",
       "    .dataframe tbody tr th {\n",
       "        vertical-align: top;\n",
       "    }\n",
       "\n",
       "    .dataframe thead th {\n",
       "        text-align: right;\n",
       "    }\n",
       "</style>\n",
       "<table border=\"1\" class=\"dataframe\">\n",
       "  <thead>\n",
       "    <tr style=\"text-align: right;\">\n",
       "      <th></th>\n",
       "      <th>CodE</th>\n",
       "      <th>CodB</th>\n",
       "      <th>CodC</th>\n",
       "      <th>Fecha</th>\n",
       "      <th>Cantidad</th>\n",
       "    </tr>\n",
       "  </thead>\n",
       "  <tbody>\n",
       "    <tr>\n",
       "      <th>0</th>\n",
       "      <td>1</td>\n",
       "      <td>001</td>\n",
       "      <td>1</td>\n",
       "      <td>2005-10-21</td>\n",
       "      <td>240</td>\n",
       "    </tr>\n",
       "    <tr>\n",
       "      <th>1</th>\n",
       "      <td>1</td>\n",
       "      <td>001</td>\n",
       "      <td>2</td>\n",
       "      <td>2005-10-21</td>\n",
       "      <td>48</td>\n",
       "    </tr>\n",
       "    <tr>\n",
       "      <th>2</th>\n",
       "      <td>1</td>\n",
       "      <td>002</td>\n",
       "      <td>3</td>\n",
       "      <td>2005-10-22</td>\n",
       "      <td>60</td>\n",
       "    </tr>\n",
       "    <tr>\n",
       "      <th>3</th>\n",
       "      <td>1</td>\n",
       "      <td>004</td>\n",
       "      <td>5</td>\n",
       "      <td>2005-10-22</td>\n",
       "      <td>4</td>\n",
       "    </tr>\n",
       "    <tr>\n",
       "      <th>4</th>\n",
       "      <td>2</td>\n",
       "      <td>002</td>\n",
       "      <td>3</td>\n",
       "      <td>2005-10-22</td>\n",
       "      <td>48</td>\n",
       "    </tr>\n",
       "    <tr>\n",
       "      <th>5</th>\n",
       "      <td>2</td>\n",
       "      <td>002</td>\n",
       "      <td>5</td>\n",
       "      <td>2005-10-23</td>\n",
       "      <td>2</td>\n",
       "    </tr>\n",
       "    <tr>\n",
       "      <th>6</th>\n",
       "      <td>2</td>\n",
       "      <td>004</td>\n",
       "      <td>1</td>\n",
       "      <td>2005-10-23</td>\n",
       "      <td>480</td>\n",
       "    </tr>\n",
       "    <tr>\n",
       "      <th>7</th>\n",
       "      <td>2</td>\n",
       "      <td>004</td>\n",
       "      <td>2</td>\n",
       "      <td>2005-10-24</td>\n",
       "      <td>72</td>\n",
       "    </tr>\n",
       "    <tr>\n",
       "      <th>8</th>\n",
       "      <td>3</td>\n",
       "      <td>003</td>\n",
       "      <td>3</td>\n",
       "      <td>2005-10-24</td>\n",
       "      <td>48</td>\n",
       "    </tr>\n",
       "    <tr>\n",
       "      <th>9</th>\n",
       "      <td>3</td>\n",
       "      <td>003</td>\n",
       "      <td>4</td>\n",
       "      <td>2005-10-25</td>\n",
       "      <td>20</td>\n",
       "    </tr>\n",
       "  </tbody>\n",
       "</table>\n",
       "</div>"
      ],
      "text/plain": [
       "  CodE CodB  CodC       Fecha  Cantidad\n",
       "0    1  001     1  2005-10-21       240\n",
       "1    1  001     2  2005-10-21        48\n",
       "2    1  002     3  2005-10-22        60\n",
       "3    1  004     5  2005-10-22         4\n",
       "4    2  002     3  2005-10-22        48\n",
       "5    2  002     5  2005-10-23         2\n",
       "6    2  004     1  2005-10-23       480\n",
       "7    2  004     2  2005-10-24        72\n",
       "8    3  003     3  2005-10-24        48\n",
       "9    3  003     4  2005-10-25        20"
      ]
     },
     "execution_count": 49,
     "metadata": {},
     "output_type": "execute_result"
    }
   ],
   "source": [
    "query = '''\n",
    "SELECT * FROM reparto\n",
    ";\n",
    "'''\n",
    "df = sql_query(query)\n",
    "df"
   ]
  },
  {
   "cell_type": "code",
   "execution_count": 65,
   "metadata": {},
   "outputs": [],
   "source": [
    "#df.to_sql('repartos_bis', con=connection, if_exists=\"replace\", index=False)"
   ]
  },
  {
   "cell_type": "code",
   "execution_count": 66,
   "metadata": {},
   "outputs": [],
   "source": [
    "#query = '''\n",
    "#SELECT * FROM repartos_bis\n",
    "#;\n",
    "#'''\n",
    "#df = sql_query(query)\n",
    "#df"
   ]
  },
  {
   "cell_type": "code",
   "execution_count": null,
   "metadata": {},
   "outputs": [],
   "source": []
  },
  {
   "cell_type": "code",
   "execution_count": 67,
   "metadata": {},
   "outputs": [],
   "source": [
    "# query = '''\n",
    "# DROP TABLE cervezas \n",
    "# '''\n",
    "# crsr.execute(query)\n",
    "\n",
    "# query = '''\n",
    "# DROP TABLE bares \n",
    "# '''\n",
    "# crsr.execute(query)\n",
    "\n",
    "# query = '''\n",
    "# DROP TABLE empleados \n",
    "# '''\n",
    "# crsr.execute(query)\n",
    "\n",
    "# query = '''\n",
    "# DROP TABLE reparto \n",
    "# '''\n",
    "# crsr.execute(query)"
   ]
  },
  {
   "cell_type": "code",
   "execution_count": 50,
   "metadata": {},
   "outputs": [],
   "source": [
    "connection.commit()\n",
    "connection.close()"
   ]
  }
 ],
 "metadata": {
  "kernelspec": {
   "display_name": "Python 3",
   "language": "python",
   "name": "python3"
  },
  "language_info": {
   "codemirror_mode": {
    "name": "ipython",
    "version": 3
   },
   "file_extension": ".py",
   "mimetype": "text/x-python",
   "name": "python",
   "nbconvert_exporter": "python",
   "pygments_lexer": "ipython3",
   "version": "3.11.9"
  },
  "orig_nbformat": 4
 },
 "nbformat": 4,
 "nbformat_minor": 2
}
