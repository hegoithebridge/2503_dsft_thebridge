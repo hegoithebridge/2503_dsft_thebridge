{
 "cells": [
  {
   "cell_type": "markdown",
   "metadata": {},
   "source": [
    "# Twitter Sentiment Analysis\n",
    "En este notebook vas a ver un ejemplo de los procesos necesarios para realizar un análisis de sentimientos sobre Tweets. Para ello tendremos que seguir los siguientes pasos:\n",
    "1. Conseguir un Corpus: no es más que una base de datos de texto etiquetado\n",
    "2. Limpiar los datos\n",
    "3. Entrenar un modelo con el corpus\n",
    "4. Atacar a la API de Twitter\n",
    "5. Predecir los nuevos Tweets\n",
    "\n",
    "**Estos programas son muy útiles en campañas de marketing, para monitorizar el lanzamiento de un nuevo producto, realizar seguimiento en Twitter de eventos, o simplemente tener monitorizadas ciertas cuentas o hashtags para tener un programa de análisis real time.**"
   ]
  },
  {
   "cell_type": "markdown",
   "metadata": {},
   "source": [
    "## 1. Corpus\n",
    "Para conseguir el corpus tendremos que registrarnos en la [página del TASS](http://tass.sepln.org/tass_data/download.php), que se trata de una asociación de análisis semántico que encargada de recopilar texto y mantenerlo etiquetado. \n",
    "\n",
    "Para datasets en ingles lo tenemos más fácil ya que con librerías como [TextBlob](https://textblob.readthedocs.io/en/dev/) podemos predecir directamente la polaridad del Tweet, con modelos ya preentrenados. En el caso del castellano necesitamos acudir a un corpus etiquetado para entrenar nuestro modelo.\n",
    "\n",
    "Registrate en el TASS y accede a sus corpus a través de un link que te llegará al correo tras el registro.\n",
    "\n",
    "![imagen](img/tass_register.png)\n",
    "\n",
    "\n",
    "Una vez estes registrado, descárgate el corpus de tweets en español de entrenamiento. En este punto lo ideal es coger un corpus que se adapte lo máximo posible a los tipos de tweets que intentamos predecir, es decir, si queremos predecir tweets sobre política, procurar elegir un corpus que tenga vocabulario de política.\n",
    "\n",
    "En este notebook se va a elegir un corpus genérico con no demasiados registros para aligerar la limpieza y entrenamiento de los modelos.\n",
    "\n",
    "![imagen](img/download_train_spanish.png)"
   ]
  },
  {
   "cell_type": "markdown",
   "metadata": {},
   "source": [
    "### Importamos librerias"
   ]
  },
  {
   "cell_type": "code",
   "execution_count": 1,
   "metadata": {},
   "outputs": [],
   "source": [
    "import pandas as pd\n",
    "import xml.etree.ElementTree as ET\n",
    "import seaborn as sns\n",
    "\n",
    "from sklearn.svm import LinearSVC\n",
    "from sklearn.svm import SVC\n",
    "from sklearn.pipeline import Pipeline\n",
    "from sklearn.model_selection import GridSearchCV"
   ]
  },
  {
   "cell_type": "markdown",
   "metadata": {},
   "source": [
    "### Leemos el dataset"
   ]
  },
  {
   "cell_type": "code",
   "execution_count": 2,
   "metadata": {},
   "outputs": [],
   "source": [
    "tree = ET.parse('C:/Users/hegoi/Datasets/NLP/NLTK-CountVectorizer/data/general-train-tagged.xml')\n",
    "root = tree.getroot()"
   ]
  },
  {
   "cell_type": "code",
   "execution_count": 3,
   "metadata": {},
   "outputs": [
    {
     "name": "stdout",
     "output_type": "stream",
     "text": [
      "(7219, 6)\n"
     ]
    },
    {
     "data": {
      "application/vnd.microsoft.datawrangler.viewer.v0+json": {
       "columns": [
        {
         "name": "index",
         "rawType": "int64",
         "type": "integer"
        },
        {
         "name": "User",
         "rawType": "object",
         "type": "string"
        },
        {
         "name": "Content",
         "rawType": "object",
         "type": "string"
        },
        {
         "name": "Date",
         "rawType": "object",
         "type": "string"
        },
        {
         "name": "Lang",
         "rawType": "object",
         "type": "string"
        },
        {
         "name": "Polarity",
         "rawType": "object",
         "type": "string"
        },
        {
         "name": "Type",
         "rawType": "object",
         "type": "string"
        }
       ],
       "conversionMethod": "pd.DataFrame",
       "ref": "b1c82e7d-afb3-4e3c-952c-06719ba2dd8d",
       "rows": [
        [
         "0",
         "ccifuentes",
         "Salgo de #VeoTV , que día más largoooooo...",
         "2011-12-02T00:47:55",
         "es",
         "NONE",
         "AGREEMENT"
        ],
        [
         "1",
         "CarmendelRiego",
         "@PauladeLasHeras No te libraras de ayudar me/nos. Besos y gracias",
         "2011-12-02T00:49:40",
         "es",
         "NEU",
         "DISAGREEMENT"
        ],
        [
         "2",
         "CarmendelRiego",
         "@marodriguezb Gracias MAR",
         "2011-12-02T00:57:40",
         "es",
         "P",
         "AGREEMENT"
        ],
        [
         "3",
         "mgilguerrero",
         "Off pensando en el regalito Sinde, la que se va de la SGAE cuando se van sus corruptos. Intento no sacar conclusiones (lo intento)",
         "2011-12-02T02:33:37",
         "es",
         "N+",
         "AGREEMENT"
        ],
        [
         "4",
         "paurubio",
         "Conozco a alguien q es adicto al drama! Ja ja ja te suena d algo!",
         "2011-12-02T02:59:03",
         "es",
         "P+",
         "AGREEMENT"
        ]
       ],
       "shape": {
        "columns": 6,
        "rows": 5
       }
      },
      "text/html": [
       "<div>\n",
       "<style scoped>\n",
       "    .dataframe tbody tr th:only-of-type {\n",
       "        vertical-align: middle;\n",
       "    }\n",
       "\n",
       "    .dataframe tbody tr th {\n",
       "        vertical-align: top;\n",
       "    }\n",
       "\n",
       "    .dataframe thead th {\n",
       "        text-align: right;\n",
       "    }\n",
       "</style>\n",
       "<table border=\"1\" class=\"dataframe\">\n",
       "  <thead>\n",
       "    <tr style=\"text-align: right;\">\n",
       "      <th></th>\n",
       "      <th>User</th>\n",
       "      <th>Content</th>\n",
       "      <th>Date</th>\n",
       "      <th>Lang</th>\n",
       "      <th>Polarity</th>\n",
       "      <th>Type</th>\n",
       "    </tr>\n",
       "  </thead>\n",
       "  <tbody>\n",
       "    <tr>\n",
       "      <th>0</th>\n",
       "      <td>ccifuentes</td>\n",
       "      <td>Salgo de #VeoTV , que día más largoooooo...</td>\n",
       "      <td>2011-12-02T00:47:55</td>\n",
       "      <td>es</td>\n",
       "      <td>NONE</td>\n",
       "      <td>AGREEMENT</td>\n",
       "    </tr>\n",
       "    <tr>\n",
       "      <th>1</th>\n",
       "      <td>CarmendelRiego</td>\n",
       "      <td>@PauladeLasHeras No te libraras de ayudar me/n...</td>\n",
       "      <td>2011-12-02T00:49:40</td>\n",
       "      <td>es</td>\n",
       "      <td>NEU</td>\n",
       "      <td>DISAGREEMENT</td>\n",
       "    </tr>\n",
       "    <tr>\n",
       "      <th>2</th>\n",
       "      <td>CarmendelRiego</td>\n",
       "      <td>@marodriguezb Gracias MAR</td>\n",
       "      <td>2011-12-02T00:57:40</td>\n",
       "      <td>es</td>\n",
       "      <td>P</td>\n",
       "      <td>AGREEMENT</td>\n",
       "    </tr>\n",
       "    <tr>\n",
       "      <th>3</th>\n",
       "      <td>mgilguerrero</td>\n",
       "      <td>Off pensando en el regalito Sinde, la que se v...</td>\n",
       "      <td>2011-12-02T02:33:37</td>\n",
       "      <td>es</td>\n",
       "      <td>N+</td>\n",
       "      <td>AGREEMENT</td>\n",
       "    </tr>\n",
       "    <tr>\n",
       "      <th>4</th>\n",
       "      <td>paurubio</td>\n",
       "      <td>Conozco a alguien q es adicto al drama! Ja ja ...</td>\n",
       "      <td>2011-12-02T02:59:03</td>\n",
       "      <td>es</td>\n",
       "      <td>P+</td>\n",
       "      <td>AGREEMENT</td>\n",
       "    </tr>\n",
       "  </tbody>\n",
       "</table>\n",
       "</div>"
      ],
      "text/plain": [
       "             User                                            Content  \\\n",
       "0      ccifuentes        Salgo de #VeoTV , que día más largoooooo...   \n",
       "1  CarmendelRiego  @PauladeLasHeras No te libraras de ayudar me/n...   \n",
       "2  CarmendelRiego                          @marodriguezb Gracias MAR   \n",
       "3    mgilguerrero  Off pensando en el regalito Sinde, la que se v...   \n",
       "4        paurubio  Conozco a alguien q es adicto al drama! Ja ja ...   \n",
       "\n",
       "                  Date Lang Polarity          Type  \n",
       "0  2011-12-02T00:47:55   es     NONE     AGREEMENT  \n",
       "1  2011-12-02T00:49:40   es      NEU  DISAGREEMENT  \n",
       "2  2011-12-02T00:57:40   es        P     AGREEMENT  \n",
       "3  2011-12-02T02:33:37   es       N+     AGREEMENT  \n",
       "4  2011-12-02T02:59:03   es       P+     AGREEMENT  "
      ]
     },
     "execution_count": 3,
     "metadata": {},
     "output_type": "execute_result"
    }
   ],
   "source": [
    "raw_dict = {\n",
    "    'User': [],\n",
    "    'Content': [],\n",
    "    'Date': [],\n",
    "    'Lang': [],\n",
    "    'Polarity': [],\n",
    "    'Type': []\n",
    "}\n",
    "\n",
    "for i in root.iter('tweet'):\n",
    "    user = i.find('user').text\n",
    "    content = i.find('content').text\n",
    "    date = i.find('date').text\n",
    "    lang = i.find('lang').text\n",
    "    polarity = i.find('sentiments').find('polarity').find('value').text\n",
    "    tweet_type = i.find('sentiments').find('polarity').find('type').text\n",
    "    \n",
    "    raw_dict['User'].append(user)\n",
    "    raw_dict['Content'].append(content)\n",
    "    raw_dict['Date'].append(date)\n",
    "    raw_dict['Lang'].append(lang)\n",
    "    raw_dict['Polarity'].append(polarity)\n",
    "    raw_dict['Type'].append(tweet_type)\n",
    "    \n",
    "df = pd.DataFrame(raw_dict)\n",
    "print(df.shape)\n",
    "\n",
    "df.head()"
   ]
  },
  {
   "cell_type": "code",
   "execution_count": 4,
   "metadata": {},
   "outputs": [],
   "source": [
    "pd.set_option('max_colwidth', None)"
   ]
  },
  {
   "cell_type": "code",
   "execution_count": 5,
   "metadata": {},
   "outputs": [
    {
     "data": {
      "application/vnd.microsoft.datawrangler.viewer.v0+json": {
       "columns": [
        {
         "name": "index",
         "rawType": "int64",
         "type": "integer"
        },
        {
         "name": "User",
         "rawType": "object",
         "type": "string"
        },
        {
         "name": "Content",
         "rawType": "object",
         "type": "string"
        },
        {
         "name": "Date",
         "rawType": "object",
         "type": "string"
        },
        {
         "name": "Lang",
         "rawType": "object",
         "type": "string"
        },
        {
         "name": "Polarity",
         "rawType": "object",
         "type": "string"
        },
        {
         "name": "Type",
         "rawType": "object",
         "type": "string"
        }
       ],
       "conversionMethod": "pd.DataFrame",
       "ref": "43585421-66e0-4e4d-a188-f40f6bdf9ee5",
       "rows": [
        [
         "0",
         "ccifuentes",
         "Salgo de #VeoTV , que día más largoooooo...",
         "2011-12-02T00:47:55",
         "es",
         "NONE",
         "AGREEMENT"
        ],
        [
         "1",
         "CarmendelRiego",
         "@PauladeLasHeras No te libraras de ayudar me/nos. Besos y gracias",
         "2011-12-02T00:49:40",
         "es",
         "NEU",
         "DISAGREEMENT"
        ],
        [
         "2",
         "CarmendelRiego",
         "@marodriguezb Gracias MAR",
         "2011-12-02T00:57:40",
         "es",
         "P",
         "AGREEMENT"
        ],
        [
         "3",
         "mgilguerrero",
         "Off pensando en el regalito Sinde, la que se va de la SGAE cuando se van sus corruptos. Intento no sacar conclusiones (lo intento)",
         "2011-12-02T02:33:37",
         "es",
         "N+",
         "AGREEMENT"
        ],
        [
         "4",
         "paurubio",
         "Conozco a alguien q es adicto al drama! Ja ja ja te suena d algo!",
         "2011-12-02T02:59:03",
         "es",
         "P+",
         "AGREEMENT"
        ],
        [
         "5",
         "paurubio",
         "RT @FabHddzC: Si amas a alguien, déjalo libre. Si grita ese hombre es mío era @paurubio...",
         "2011-12-02T03:07:52",
         "es",
         "NONE",
         "AGREEMENT"
        ],
        [
         "6",
         "Carlos_Latre",
         "Toca @crackoviadeTV3 . Grabación dl especial Navideño...Mari crismas!",
         "2011-12-02T07:00:50",
         "es",
         "P+",
         "AGREEMENT"
        ],
        [
         "7",
         "Ignacos",
         "Hoy asisitiré en Madrid a un seminario sobre la Estrategia Española de Seguridad organizado por FAES.",
         "2011-12-02T07:41:15",
         "es",
         "NONE",
         "AGREEMENT"
        ],
        [
         "8",
         "nacho_uriarte",
         "Buen día todos! Lo primero mandar un abrazo grande a Miguel y a su familia @libertadmontes Hoy podría ser un día para la grandeza humana.",
         "2011-12-02T07:45:05",
         "es",
         "P+",
         "AGREEMENT"
        ],
        [
         "9",
         "JuanraLucas",
         "Desde el escaño. Todo listo para empezar #endiascomohoy en el Congreso http://t.co/Mu2yIgCb",
         "2011-12-02T07:54:19",
         "es",
         "P+",
         "AGREEMENT"
        ],
        [
         "10",
         "pedroj_ramirez",
         "Bdías. EM no se ira de puente. Si vosotros os vais no dejeis de llevar la tableta o el PC y desde luego Orbyt. De momento no digo más.",
         "2011-12-02T07:58:02",
         "es",
         "P+",
         "AGREEMENT"
        ],
        [
         "11",
         "sevillajordi",
         "Un sistema económico q recorta dinero para prestaciones sociales y refuerza con billón y medio d euros a los bancos, no necesita repensarse?",
         "2011-12-02T08:04:28",
         "es",
         "P+",
         "AGREEMENT"
        ],
        [
         "12",
         "Carlos_Latre",
         "#programascambiados caca d ajuste",
         "2011-12-02T08:26:38",
         "es",
         "N+",
         "AGREEMENT"
        ],
        [
         "13",
         "Lissavetzky_M",
         "Buen viernes",
         "2011-12-02T08:34:52",
         "es",
         "P",
         "AGREEMENT"
        ],
        [
         "14",
         "Carlos_Latre",
         "“@adri_22_22: #programascambiados es TT gracias a @Carlos_Latre” GRACIAS POR EL BUEN RATO AMIGOS!!;)",
         "2011-12-02T08:45:13",
         "es",
         "P+",
         "AGREEMENT"
        ],
        [
         "15",
         "PaulaVazquezTV",
         "Noooooos días! Me he dormidoooooo ya estoy en el taxi camino al aeropuerto, en 7 minutos vestida y maleta hecha. Que habré metido Dios mio!?",
         "2011-12-02T08:55:19",
         "es",
         "NONE",
         "AGREEMENT"
        ],
        [
         "16",
         "mariviromero",
         "Vamos a por el viernes (@ Ayuntamiento de Málaga) [pic]: http://t.co/lzDVsoCu",
         "2011-12-02T08:55:53",
         "es",
         "NONE",
         "AGREEMENT"
        ],
        [
         "17",
         "mariviromero",
         "La Universidad confía en De la Calle para encarar sus retos más ambiciosos http://t.co/7dzPPija",
         "2011-12-02T09:01:48",
         "es",
         "P+",
         "AGREEMENT"
        ],
        [
         "18",
         "iescolar",
         "¿Me ayudáis a que #indultoneiro sea TT? Por si Zapatero quiere alguna sugerencia para el último consejo de ministros http://t.co/Qao9uvsG",
         "2011-12-02T09:17:31",
         "es",
         "P",
         "AGREEMENT"
        ],
        [
         "19",
         "mariviromero",
         "abcdesevilla.es: Recio no tiene «indicios potentes» para denunciar a los responsables de los ERE http://t.co/wlDSs1yQ",
         "2011-12-02T09:30:33",
         "es",
         "N",
         "AGREEMENT"
        ]
       ],
       "shape": {
        "columns": 6,
        "rows": 20
       }
      },
      "text/html": [
       "<div>\n",
       "<style scoped>\n",
       "    .dataframe tbody tr th:only-of-type {\n",
       "        vertical-align: middle;\n",
       "    }\n",
       "\n",
       "    .dataframe tbody tr th {\n",
       "        vertical-align: top;\n",
       "    }\n",
       "\n",
       "    .dataframe thead th {\n",
       "        text-align: right;\n",
       "    }\n",
       "</style>\n",
       "<table border=\"1\" class=\"dataframe\">\n",
       "  <thead>\n",
       "    <tr style=\"text-align: right;\">\n",
       "      <th></th>\n",
       "      <th>User</th>\n",
       "      <th>Content</th>\n",
       "      <th>Date</th>\n",
       "      <th>Lang</th>\n",
       "      <th>Polarity</th>\n",
       "      <th>Type</th>\n",
       "    </tr>\n",
       "  </thead>\n",
       "  <tbody>\n",
       "    <tr>\n",
       "      <th>0</th>\n",
       "      <td>ccifuentes</td>\n",
       "      <td>Salgo de #VeoTV , que día más largoooooo...</td>\n",
       "      <td>2011-12-02T00:47:55</td>\n",
       "      <td>es</td>\n",
       "      <td>NONE</td>\n",
       "      <td>AGREEMENT</td>\n",
       "    </tr>\n",
       "    <tr>\n",
       "      <th>1</th>\n",
       "      <td>CarmendelRiego</td>\n",
       "      <td>@PauladeLasHeras No te libraras de ayudar me/nos. Besos y gracias</td>\n",
       "      <td>2011-12-02T00:49:40</td>\n",
       "      <td>es</td>\n",
       "      <td>NEU</td>\n",
       "      <td>DISAGREEMENT</td>\n",
       "    </tr>\n",
       "    <tr>\n",
       "      <th>2</th>\n",
       "      <td>CarmendelRiego</td>\n",
       "      <td>@marodriguezb Gracias MAR</td>\n",
       "      <td>2011-12-02T00:57:40</td>\n",
       "      <td>es</td>\n",
       "      <td>P</td>\n",
       "      <td>AGREEMENT</td>\n",
       "    </tr>\n",
       "    <tr>\n",
       "      <th>3</th>\n",
       "      <td>mgilguerrero</td>\n",
       "      <td>Off pensando en el regalito Sinde, la que se va de la SGAE cuando se van sus corruptos. Intento no sacar conclusiones (lo intento)</td>\n",
       "      <td>2011-12-02T02:33:37</td>\n",
       "      <td>es</td>\n",
       "      <td>N+</td>\n",
       "      <td>AGREEMENT</td>\n",
       "    </tr>\n",
       "    <tr>\n",
       "      <th>4</th>\n",
       "      <td>paurubio</td>\n",
       "      <td>Conozco a alguien q es adicto al drama! Ja ja ja te suena d algo!</td>\n",
       "      <td>2011-12-02T02:59:03</td>\n",
       "      <td>es</td>\n",
       "      <td>P+</td>\n",
       "      <td>AGREEMENT</td>\n",
       "    </tr>\n",
       "    <tr>\n",
       "      <th>5</th>\n",
       "      <td>paurubio</td>\n",
       "      <td>RT @FabHddzC: Si amas a alguien, déjalo libre. Si grita ese hombre es mío era @paurubio...</td>\n",
       "      <td>2011-12-02T03:07:52</td>\n",
       "      <td>es</td>\n",
       "      <td>NONE</td>\n",
       "      <td>AGREEMENT</td>\n",
       "    </tr>\n",
       "    <tr>\n",
       "      <th>6</th>\n",
       "      <td>Carlos_Latre</td>\n",
       "      <td>Toca @crackoviadeTV3 . Grabación dl especial Navideño...Mari crismas!</td>\n",
       "      <td>2011-12-02T07:00:50</td>\n",
       "      <td>es</td>\n",
       "      <td>P+</td>\n",
       "      <td>AGREEMENT</td>\n",
       "    </tr>\n",
       "    <tr>\n",
       "      <th>7</th>\n",
       "      <td>Ignacos</td>\n",
       "      <td>Hoy asisitiré en Madrid a un seminario sobre la Estrategia Española de Seguridad organizado por FAES.</td>\n",
       "      <td>2011-12-02T07:41:15</td>\n",
       "      <td>es</td>\n",
       "      <td>NONE</td>\n",
       "      <td>AGREEMENT</td>\n",
       "    </tr>\n",
       "    <tr>\n",
       "      <th>8</th>\n",
       "      <td>nacho_uriarte</td>\n",
       "      <td>Buen día todos! Lo primero mandar un abrazo grande a Miguel y a su familia @libertadmontes Hoy podría ser un día para la grandeza humana.</td>\n",
       "      <td>2011-12-02T07:45:05</td>\n",
       "      <td>es</td>\n",
       "      <td>P+</td>\n",
       "      <td>AGREEMENT</td>\n",
       "    </tr>\n",
       "    <tr>\n",
       "      <th>9</th>\n",
       "      <td>JuanraLucas</td>\n",
       "      <td>Desde el escaño. Todo listo para empezar #endiascomohoy en el Congreso http://t.co/Mu2yIgCb</td>\n",
       "      <td>2011-12-02T07:54:19</td>\n",
       "      <td>es</td>\n",
       "      <td>P+</td>\n",
       "      <td>AGREEMENT</td>\n",
       "    </tr>\n",
       "    <tr>\n",
       "      <th>10</th>\n",
       "      <td>pedroj_ramirez</td>\n",
       "      <td>Bdías. EM no se ira de puente. Si vosotros os vais no dejeis de llevar la tableta o el PC y desde luego Orbyt. De momento no digo más.</td>\n",
       "      <td>2011-12-02T07:58:02</td>\n",
       "      <td>es</td>\n",
       "      <td>P+</td>\n",
       "      <td>AGREEMENT</td>\n",
       "    </tr>\n",
       "    <tr>\n",
       "      <th>11</th>\n",
       "      <td>sevillajordi</td>\n",
       "      <td>Un sistema económico q recorta dinero para prestaciones sociales y refuerza con billón y medio d euros a los bancos, no necesita repensarse?</td>\n",
       "      <td>2011-12-02T08:04:28</td>\n",
       "      <td>es</td>\n",
       "      <td>P+</td>\n",
       "      <td>AGREEMENT</td>\n",
       "    </tr>\n",
       "    <tr>\n",
       "      <th>12</th>\n",
       "      <td>Carlos_Latre</td>\n",
       "      <td>#programascambiados caca d ajuste</td>\n",
       "      <td>2011-12-02T08:26:38</td>\n",
       "      <td>es</td>\n",
       "      <td>N+</td>\n",
       "      <td>AGREEMENT</td>\n",
       "    </tr>\n",
       "    <tr>\n",
       "      <th>13</th>\n",
       "      <td>Lissavetzky_M</td>\n",
       "      <td>Buen viernes</td>\n",
       "      <td>2011-12-02T08:34:52</td>\n",
       "      <td>es</td>\n",
       "      <td>P</td>\n",
       "      <td>AGREEMENT</td>\n",
       "    </tr>\n",
       "    <tr>\n",
       "      <th>14</th>\n",
       "      <td>Carlos_Latre</td>\n",
       "      <td>“@adri_22_22: #programascambiados es TT gracias a @Carlos_Latre” GRACIAS POR EL BUEN RATO AMIGOS!!;)</td>\n",
       "      <td>2011-12-02T08:45:13</td>\n",
       "      <td>es</td>\n",
       "      <td>P+</td>\n",
       "      <td>AGREEMENT</td>\n",
       "    </tr>\n",
       "    <tr>\n",
       "      <th>15</th>\n",
       "      <td>PaulaVazquezTV</td>\n",
       "      <td>Noooooos días! Me he dormidoooooo ya estoy en el taxi camino al aeropuerto, en 7 minutos vestida y maleta hecha. Que habré metido Dios mio!?</td>\n",
       "      <td>2011-12-02T08:55:19</td>\n",
       "      <td>es</td>\n",
       "      <td>NONE</td>\n",
       "      <td>AGREEMENT</td>\n",
       "    </tr>\n",
       "    <tr>\n",
       "      <th>16</th>\n",
       "      <td>mariviromero</td>\n",
       "      <td>Vamos a por el viernes (@ Ayuntamiento de Málaga) [pic]: http://t.co/lzDVsoCu</td>\n",
       "      <td>2011-12-02T08:55:53</td>\n",
       "      <td>es</td>\n",
       "      <td>NONE</td>\n",
       "      <td>AGREEMENT</td>\n",
       "    </tr>\n",
       "    <tr>\n",
       "      <th>17</th>\n",
       "      <td>mariviromero</td>\n",
       "      <td>La Universidad confía en De la Calle para encarar sus retos más ambiciosos http://t.co/7dzPPija</td>\n",
       "      <td>2011-12-02T09:01:48</td>\n",
       "      <td>es</td>\n",
       "      <td>P+</td>\n",
       "      <td>AGREEMENT</td>\n",
       "    </tr>\n",
       "    <tr>\n",
       "      <th>18</th>\n",
       "      <td>iescolar</td>\n",
       "      <td>¿Me ayudáis a que #indultoneiro sea TT? Por si Zapatero quiere alguna sugerencia para el último consejo de ministros http://t.co/Qao9uvsG</td>\n",
       "      <td>2011-12-02T09:17:31</td>\n",
       "      <td>es</td>\n",
       "      <td>P</td>\n",
       "      <td>AGREEMENT</td>\n",
       "    </tr>\n",
       "    <tr>\n",
       "      <th>19</th>\n",
       "      <td>mariviromero</td>\n",
       "      <td>abcdesevilla.es: Recio no tiene «indicios potentes» para denunciar a los responsables de los ERE http://t.co/wlDSs1yQ</td>\n",
       "      <td>2011-12-02T09:30:33</td>\n",
       "      <td>es</td>\n",
       "      <td>N</td>\n",
       "      <td>AGREEMENT</td>\n",
       "    </tr>\n",
       "  </tbody>\n",
       "</table>\n",
       "</div>"
      ],
      "text/plain": [
       "              User  \\\n",
       "0       ccifuentes   \n",
       "1   CarmendelRiego   \n",
       "2   CarmendelRiego   \n",
       "3     mgilguerrero   \n",
       "4         paurubio   \n",
       "5         paurubio   \n",
       "6     Carlos_Latre   \n",
       "7          Ignacos   \n",
       "8    nacho_uriarte   \n",
       "9      JuanraLucas   \n",
       "10  pedroj_ramirez   \n",
       "11    sevillajordi   \n",
       "12    Carlos_Latre   \n",
       "13   Lissavetzky_M   \n",
       "14    Carlos_Latre   \n",
       "15  PaulaVazquezTV   \n",
       "16    mariviromero   \n",
       "17    mariviromero   \n",
       "18        iescolar   \n",
       "19    mariviromero   \n",
       "\n",
       "                                                                                                                                         Content  \\\n",
       "0                                                                                                    Salgo de #VeoTV , que día más largoooooo...   \n",
       "1                                                                              @PauladeLasHeras No te libraras de ayudar me/nos. Besos y gracias   \n",
       "2                                                                                                                      @marodriguezb Gracias MAR   \n",
       "3             Off pensando en el regalito Sinde, la que se va de la SGAE cuando se van sus corruptos. Intento no sacar conclusiones (lo intento)   \n",
       "4                                                                              Conozco a alguien q es adicto al drama! Ja ja ja te suena d algo!   \n",
       "5                                                     RT @FabHddzC: Si amas a alguien, déjalo libre. Si grita ese hombre es mío era @paurubio...   \n",
       "6                                                                          Toca @crackoviadeTV3 . Grabación dl especial Navideño...Mari crismas!   \n",
       "7                                          Hoy asisitiré en Madrid a un seminario sobre la Estrategia Española de Seguridad organizado por FAES.   \n",
       "8      Buen día todos! Lo primero mandar un abrazo grande a Miguel y a su familia @libertadmontes Hoy podría ser un día para la grandeza humana.   \n",
       "9                                                    Desde el escaño. Todo listo para empezar #endiascomohoy en el Congreso http://t.co/Mu2yIgCb   \n",
       "10        Bdías. EM no se ira de puente. Si vosotros os vais no dejeis de llevar la tableta o el PC y desde luego Orbyt. De momento no digo más.   \n",
       "11  Un sistema económico q recorta dinero para prestaciones sociales y refuerza con billón y medio d euros a los bancos, no necesita repensarse?   \n",
       "12                                                                                                             #programascambiados caca d ajuste   \n",
       "13                                                                                                                                  Buen viernes   \n",
       "14                                          “@adri_22_22: #programascambiados es TT gracias a @Carlos_Latre” GRACIAS POR EL BUEN RATO AMIGOS!!;)   \n",
       "15  Noooooos días! Me he dormidoooooo ya estoy en el taxi camino al aeropuerto, en 7 minutos vestida y maleta hecha. Que habré metido Dios mio!?   \n",
       "16                                                                 Vamos a por el viernes (@ Ayuntamiento de Málaga) [pic]: http://t.co/lzDVsoCu   \n",
       "17                                               La Universidad confía en De la Calle para encarar sus retos más ambiciosos http://t.co/7dzPPija   \n",
       "18     ¿Me ayudáis a que #indultoneiro sea TT? Por si Zapatero quiere alguna sugerencia para el último consejo de ministros http://t.co/Qao9uvsG   \n",
       "19                         abcdesevilla.es: Recio no tiene «indicios potentes» para denunciar a los responsables de los ERE http://t.co/wlDSs1yQ   \n",
       "\n",
       "                   Date Lang Polarity          Type  \n",
       "0   2011-12-02T00:47:55   es     NONE     AGREEMENT  \n",
       "1   2011-12-02T00:49:40   es      NEU  DISAGREEMENT  \n",
       "2   2011-12-02T00:57:40   es        P     AGREEMENT  \n",
       "3   2011-12-02T02:33:37   es       N+     AGREEMENT  \n",
       "4   2011-12-02T02:59:03   es       P+     AGREEMENT  \n",
       "5   2011-12-02T03:07:52   es     NONE     AGREEMENT  \n",
       "6   2011-12-02T07:00:50   es       P+     AGREEMENT  \n",
       "7   2011-12-02T07:41:15   es     NONE     AGREEMENT  \n",
       "8   2011-12-02T07:45:05   es       P+     AGREEMENT  \n",
       "9   2011-12-02T07:54:19   es       P+     AGREEMENT  \n",
       "10  2011-12-02T07:58:02   es       P+     AGREEMENT  \n",
       "11  2011-12-02T08:04:28   es       P+     AGREEMENT  \n",
       "12  2011-12-02T08:26:38   es       N+     AGREEMENT  \n",
       "13  2011-12-02T08:34:52   es        P     AGREEMENT  \n",
       "14  2011-12-02T08:45:13   es       P+     AGREEMENT  \n",
       "15  2011-12-02T08:55:19   es     NONE     AGREEMENT  \n",
       "16  2011-12-02T08:55:53   es     NONE     AGREEMENT  \n",
       "17  2011-12-02T09:01:48   es       P+     AGREEMENT  \n",
       "18  2011-12-02T09:17:31   es        P     AGREEMENT  \n",
       "19  2011-12-02T09:30:33   es        N     AGREEMENT  "
      ]
     },
     "execution_count": 5,
     "metadata": {},
     "output_type": "execute_result"
    }
   ],
   "source": [
    "df.head(20)"
   ]
  },
  {
   "cell_type": "markdown",
   "metadata": {},
   "source": [
    "### Columna de polaridad"
   ]
  },
  {
   "cell_type": "code",
   "execution_count": 6,
   "metadata": {},
   "outputs": [
    {
     "data": {
      "text/plain": [
       "array(['NONE', 'NEU', 'P', 'N+', 'P+', 'N'], dtype=object)"
      ]
     },
     "execution_count": 6,
     "metadata": {},
     "output_type": "execute_result"
    }
   ],
   "source": [
    "# Vemos los valores unicos de la columna de polaridad\n",
    "df.Polarity.unique()"
   ]
  },
  {
   "cell_type": "code",
   "execution_count": 7,
   "metadata": {},
   "outputs": [
    {
     "data": {
      "image/png": "[encoded data removed]",
      "text/plain": [
       "<Figure size 640x480 with 1 Axes>"
      ]
     },
     "metadata": {},
     "output_type": "display_data"
    }
   ],
   "source": [
    "sns.countplot(x = 'Polarity', data=df);"
   ]
  },
  {
   "cell_type": "markdown",
   "metadata": {},
   "source": [
    "#### Columna de tipo"
   ]
  },
  {
   "cell_type": "code",
   "execution_count": 8,
   "metadata": {},
   "outputs": [
    {
     "data": {
      "image/png": "[encoded data removed]",
      "text/plain": [
       "<Figure size 640x480 with 1 Axes>"
      ]
     },
     "metadata": {},
     "output_type": "display_data"
    }
   ],
   "source": [
    "sns.countplot(x = 'Type', data=df);"
   ]
  },
  {
   "cell_type": "markdown",
   "metadata": {},
   "source": [
    "## 2. Limpieza de datos\n",
    "#### Polaridad\n",
    "Vamos a clasificar los Tweets como buenos o malos, por lo que haremos la siguiente agrupación de la polaridad"
   ]
  },
  {
   "cell_type": "code",
   "execution_count": 9,
   "metadata": {},
   "outputs": [],
   "source": [
    "def polaridad_fun(x):\n",
    "    if x in ('P', 'P+'):\n",
    "        return 0\n",
    "    elif x in ('N', 'N+'):\n",
    "        return 1"
   ]
  },
  {
   "cell_type": "code",
   "execution_count": 10,
   "metadata": {},
   "outputs": [
    {
     "data": {
      "text/plain": [
       "array(['P', 'N+', 'P+', 'N'], dtype=object)"
      ]
     },
     "execution_count": 10,
     "metadata": {},
     "output_type": "execute_result"
    }
   ],
   "source": [
    "# Nos cargamos los NONE y los neutros\n",
    "df = df[~df['Polarity'].isin(['NONE', 'NEU'])]\n",
    "df['Polarity'].unique()"
   ]
  },
  {
   "cell_type": "code",
   "execution_count": 11,
   "metadata": {},
   "outputs": [
    {
     "data": {
      "text/plain": [
       "array([0, 1])"
      ]
     },
     "execution_count": 11,
     "metadata": {},
     "output_type": "execute_result"
    }
   ],
   "source": [
    "# Pasamos la columna a 1s y 0s. Y el tipo\n",
    "df['Polarity'] = df['Polarity'].apply(polaridad_fun)\n",
    "df['Polarity'].unique()"
   ]
  },
  {
   "cell_type": "code",
   "execution_count": 12,
   "metadata": {},
   "outputs": [
    {
     "data": {
      "application/vnd.microsoft.datawrangler.viewer.v0+json": {
       "columns": [
        {
         "name": "index",
         "rawType": "int64",
         "type": "integer"
        },
        {
         "name": "User",
         "rawType": "object",
         "type": "string"
        },
        {
         "name": "Content",
         "rawType": "object",
         "type": "string"
        },
        {
         "name": "Date",
         "rawType": "object",
         "type": "string"
        },
        {
         "name": "Lang",
         "rawType": "object",
         "type": "string"
        },
        {
         "name": "Polarity",
         "rawType": "int64",
         "type": "integer"
        },
        {
         "name": "Type",
         "rawType": "object",
         "type": "string"
        }
       ],
       "conversionMethod": "pd.DataFrame",
       "ref": "c5bdde45-d8b0-482c-9439-8895e313dbe9",
       "rows": [
        [
         "2",
         "CarmendelRiego",
         "@marodriguezb Gracias MAR",
         "2011-12-02T00:57:40",
         "es",
         "0",
         "AGREEMENT"
        ],
        [
         "3",
         "mgilguerrero",
         "Off pensando en el regalito Sinde, la que se va de la SGAE cuando se van sus corruptos. Intento no sacar conclusiones (lo intento)",
         "2011-12-02T02:33:37",
         "es",
         "1",
         "AGREEMENT"
        ],
        [
         "4",
         "paurubio",
         "Conozco a alguien q es adicto al drama! Ja ja ja te suena d algo!",
         "2011-12-02T02:59:03",
         "es",
         "0",
         "AGREEMENT"
        ],
        [
         "6",
         "Carlos_Latre",
         "Toca @crackoviadeTV3 . Grabación dl especial Navideño...Mari crismas!",
         "2011-12-02T07:00:50",
         "es",
         "0",
         "AGREEMENT"
        ],
        [
         "8",
         "nacho_uriarte",
         "Buen día todos! Lo primero mandar un abrazo grande a Miguel y a su familia @libertadmontes Hoy podría ser un día para la grandeza humana.",
         "2011-12-02T07:45:05",
         "es",
         "0",
         "AGREEMENT"
        ],
        [
         "9",
         "JuanraLucas",
         "Desde el escaño. Todo listo para empezar #endiascomohoy en el Congreso http://t.co/Mu2yIgCb",
         "2011-12-02T07:54:19",
         "es",
         "0",
         "AGREEMENT"
        ],
        [
         "10",
         "pedroj_ramirez",
         "Bdías. EM no se ira de puente. Si vosotros os vais no dejeis de llevar la tableta o el PC y desde luego Orbyt. De momento no digo más.",
         "2011-12-02T07:58:02",
         "es",
         "0",
         "AGREEMENT"
        ],
        [
         "11",
         "sevillajordi",
         "Un sistema económico q recorta dinero para prestaciones sociales y refuerza con billón y medio d euros a los bancos, no necesita repensarse?",
         "2011-12-02T08:04:28",
         "es",
         "0",
         "AGREEMENT"
        ],
        [
         "12",
         "Carlos_Latre",
         "#programascambiados caca d ajuste",
         "2011-12-02T08:26:38",
         "es",
         "1",
         "AGREEMENT"
        ],
        [
         "13",
         "Lissavetzky_M",
         "Buen viernes",
         "2011-12-02T08:34:52",
         "es",
         "0",
         "AGREEMENT"
        ],
        [
         "14",
         "Carlos_Latre",
         "“@adri_22_22: #programascambiados es TT gracias a @Carlos_Latre” GRACIAS POR EL BUEN RATO AMIGOS!!;)",
         "2011-12-02T08:45:13",
         "es",
         "0",
         "AGREEMENT"
        ],
        [
         "17",
         "mariviromero",
         "La Universidad confía en De la Calle para encarar sus retos más ambiciosos http://t.co/7dzPPija",
         "2011-12-02T09:01:48",
         "es",
         "0",
         "AGREEMENT"
        ],
        [
         "18",
         "iescolar",
         "¿Me ayudáis a que #indultoneiro sea TT? Por si Zapatero quiere alguna sugerencia para el último consejo de ministros http://t.co/Qao9uvsG",
         "2011-12-02T09:17:31",
         "es",
         "0",
         "AGREEMENT"
        ],
        [
         "19",
         "mariviromero",
         "abcdesevilla.es: Recio no tiene «indicios potentes» para denunciar a los responsables de los ERE http://t.co/wlDSs1yQ",
         "2011-12-02T09:30:33",
         "es",
         "1",
         "AGREEMENT"
        ],
        [
         "20",
         "mariviromero",
         "abcdesevilla.es: Cuatro altos cargos de Empleo, denunciados por retirar la prejubilación a extrabajadores http://t.co/LWHxzbuB",
         "2011-12-02T09:31:28",
         "es",
         "1",
         "AGREEMENT"
        ],
        [
         "21",
         "sanchezcastejon",
         "La marcha atrás del PP en posponer devolución CCAA es un resbalón. Debería asumir fallo y no mentir diciendo que no conoce estado cuentas",
         "2011-12-02T09:31:40",
         "es",
         "1",
         "AGREEMENT"
        ],
        [
         "22",
         "ccifuentes",
         "Viernes negro: Aumenta el paro en Noviembre y disminuyen los afiliados a la Seguridad Social; esta es la triste #HerenciaPSOE",
         "2011-12-02T10:32:51",
         "es",
         "1",
         "AGREEMENT"
        ],
        [
         "23",
         "anabelenroy_tve",
         "Accidente en BUS-VAO A-6 km. 12. Motorista de 30 años herido menos grave. @SAMUR_PC traslada a Hospital Doce de Octubre vía @EmergenciasMad",
         "2011-12-02T10:44:38",
         "es",
         "1",
         "AGREEMENT"
        ],
        [
         "24",
         "jesusmarana",
         "\"La verdadera seriedad es cómica\". Niall Binns retrata a Nicanor Parra, premio Cervantes. http://t.co/AxYtQ1by",
         "2011-12-02T11:06:35",
         "es",
         "0",
         "AGREEMENT"
        ],
        [
         "25",
         "ristomejide",
         "#FF a ti, que deseas desesperadamente hacerme #FF, pero no lo haces por el qué dirán.",
         "2011-12-02T11:08:51",
         "es",
         "1",
         "AGREEMENT"
        ]
       ],
       "shape": {
        "columns": 6,
        "rows": 20
       }
      },
      "text/html": [
       "<div>\n",
       "<style scoped>\n",
       "    .dataframe tbody tr th:only-of-type {\n",
       "        vertical-align: middle;\n",
       "    }\n",
       "\n",
       "    .dataframe tbody tr th {\n",
       "        vertical-align: top;\n",
       "    }\n",
       "\n",
       "    .dataframe thead th {\n",
       "        text-align: right;\n",
       "    }\n",
       "</style>\n",
       "<table border=\"1\" class=\"dataframe\">\n",
       "  <thead>\n",
       "    <tr style=\"text-align: right;\">\n",
       "      <th></th>\n",
       "      <th>User</th>\n",
       "      <th>Content</th>\n",
       "      <th>Date</th>\n",
       "      <th>Lang</th>\n",
       "      <th>Polarity</th>\n",
       "      <th>Type</th>\n",
       "    </tr>\n",
       "  </thead>\n",
       "  <tbody>\n",
       "    <tr>\n",
       "      <th>2</th>\n",
       "      <td>CarmendelRiego</td>\n",
       "      <td>@marodriguezb Gracias MAR</td>\n",
       "      <td>2011-12-02T00:57:40</td>\n",
       "      <td>es</td>\n",
       "      <td>0</td>\n",
       "      <td>AGREEMENT</td>\n",
       "    </tr>\n",
       "    <tr>\n",
       "      <th>3</th>\n",
       "      <td>mgilguerrero</td>\n",
       "      <td>Off pensando en el regalito Sinde, la que se va de la SGAE cuando se van sus corruptos. Intento no sacar conclusiones (lo intento)</td>\n",
       "      <td>2011-12-02T02:33:37</td>\n",
       "      <td>es</td>\n",
       "      <td>1</td>\n",
       "      <td>AGREEMENT</td>\n",
       "    </tr>\n",
       "    <tr>\n",
       "      <th>4</th>\n",
       "      <td>paurubio</td>\n",
       "      <td>Conozco a alguien q es adicto al drama! Ja ja ja te suena d algo!</td>\n",
       "      <td>2011-12-02T02:59:03</td>\n",
       "      <td>es</td>\n",
       "      <td>0</td>\n",
       "      <td>AGREEMENT</td>\n",
       "    </tr>\n",
       "    <tr>\n",
       "      <th>6</th>\n",
       "      <td>Carlos_Latre</td>\n",
       "      <td>Toca @crackoviadeTV3 . Grabación dl especial Navideño...Mari crismas!</td>\n",
       "      <td>2011-12-02T07:00:50</td>\n",
       "      <td>es</td>\n",
       "      <td>0</td>\n",
       "      <td>AGREEMENT</td>\n",
       "    </tr>\n",
       "    <tr>\n",
       "      <th>8</th>\n",
       "      <td>nacho_uriarte</td>\n",
       "      <td>Buen día todos! Lo primero mandar un abrazo grande a Miguel y a su familia @libertadmontes Hoy podría ser un día para la grandeza humana.</td>\n",
       "      <td>2011-12-02T07:45:05</td>\n",
       "      <td>es</td>\n",
       "      <td>0</td>\n",
       "      <td>AGREEMENT</td>\n",
       "    </tr>\n",
       "    <tr>\n",
       "      <th>9</th>\n",
       "      <td>JuanraLucas</td>\n",
       "      <td>Desde el escaño. Todo listo para empezar #endiascomohoy en el Congreso http://t.co/Mu2yIgCb</td>\n",
       "      <td>2011-12-02T07:54:19</td>\n",
       "      <td>es</td>\n",
       "      <td>0</td>\n",
       "      <td>AGREEMENT</td>\n",
       "    </tr>\n",
       "    <tr>\n",
       "      <th>10</th>\n",
       "      <td>pedroj_ramirez</td>\n",
       "      <td>Bdías. EM no se ira de puente. Si vosotros os vais no dejeis de llevar la tableta o el PC y desde luego Orbyt. De momento no digo más.</td>\n",
       "      <td>2011-12-02T07:58:02</td>\n",
       "      <td>es</td>\n",
       "      <td>0</td>\n",
       "      <td>AGREEMENT</td>\n",
       "    </tr>\n",
       "    <tr>\n",
       "      <th>11</th>\n",
       "      <td>sevillajordi</td>\n",
       "      <td>Un sistema económico q recorta dinero para prestaciones sociales y refuerza con billón y medio d euros a los bancos, no necesita repensarse?</td>\n",
       "      <td>2011-12-02T08:04:28</td>\n",
       "      <td>es</td>\n",
       "      <td>0</td>\n",
       "      <td>AGREEMENT</td>\n",
       "    </tr>\n",
       "    <tr>\n",
       "      <th>12</th>\n",
       "      <td>Carlos_Latre</td>\n",
       "      <td>#programascambiados caca d ajuste</td>\n",
       "      <td>2011-12-02T08:26:38</td>\n",
       "      <td>es</td>\n",
       "      <td>1</td>\n",
       "      <td>AGREEMENT</td>\n",
       "    </tr>\n",
       "    <tr>\n",
       "      <th>13</th>\n",
       "      <td>Lissavetzky_M</td>\n",
       "      <td>Buen viernes</td>\n",
       "      <td>2011-12-02T08:34:52</td>\n",
       "      <td>es</td>\n",
       "      <td>0</td>\n",
       "      <td>AGREEMENT</td>\n",
       "    </tr>\n",
       "    <tr>\n",
       "      <th>14</th>\n",
       "      <td>Carlos_Latre</td>\n",
       "      <td>“@adri_22_22: #programascambiados es TT gracias a @Carlos_Latre” GRACIAS POR EL BUEN RATO AMIGOS!!;)</td>\n",
       "      <td>2011-12-02T08:45:13</td>\n",
       "      <td>es</td>\n",
       "      <td>0</td>\n",
       "      <td>AGREEMENT</td>\n",
       "    </tr>\n",
       "    <tr>\n",
       "      <th>17</th>\n",
       "      <td>mariviromero</td>\n",
       "      <td>La Universidad confía en De la Calle para encarar sus retos más ambiciosos http://t.co/7dzPPija</td>\n",
       "      <td>2011-12-02T09:01:48</td>\n",
       "      <td>es</td>\n",
       "      <td>0</td>\n",
       "      <td>AGREEMENT</td>\n",
       "    </tr>\n",
       "    <tr>\n",
       "      <th>18</th>\n",
       "      <td>iescolar</td>\n",
       "      <td>¿Me ayudáis a que #indultoneiro sea TT? Por si Zapatero quiere alguna sugerencia para el último consejo de ministros http://t.co/Qao9uvsG</td>\n",
       "      <td>2011-12-02T09:17:31</td>\n",
       "      <td>es</td>\n",
       "      <td>0</td>\n",
       "      <td>AGREEMENT</td>\n",
       "    </tr>\n",
       "    <tr>\n",
       "      <th>19</th>\n",
       "      <td>mariviromero</td>\n",
       "      <td>abcdesevilla.es: Recio no tiene «indicios potentes» para denunciar a los responsables de los ERE http://t.co/wlDSs1yQ</td>\n",
       "      <td>2011-12-02T09:30:33</td>\n",
       "      <td>es</td>\n",
       "      <td>1</td>\n",
       "      <td>AGREEMENT</td>\n",
       "    </tr>\n",
       "    <tr>\n",
       "      <th>20</th>\n",
       "      <td>mariviromero</td>\n",
       "      <td>abcdesevilla.es: Cuatro altos cargos de Empleo, denunciados por retirar la prejubilación a extrabajadores http://t.co/LWHxzbuB</td>\n",
       "      <td>2011-12-02T09:31:28</td>\n",
       "      <td>es</td>\n",
       "      <td>1</td>\n",
       "      <td>AGREEMENT</td>\n",
       "    </tr>\n",
       "    <tr>\n",
       "      <th>21</th>\n",
       "      <td>sanchezcastejon</td>\n",
       "      <td>La marcha atrás del PP en posponer devolución CCAA es un resbalón. Debería asumir fallo y no mentir diciendo que no conoce estado cuentas</td>\n",
       "      <td>2011-12-02T09:31:40</td>\n",
       "      <td>es</td>\n",
       "      <td>1</td>\n",
       "      <td>AGREEMENT</td>\n",
       "    </tr>\n",
       "    <tr>\n",
       "      <th>22</th>\n",
       "      <td>ccifuentes</td>\n",
       "      <td>Viernes negro: Aumenta el paro en Noviembre y disminuyen los afiliados a la Seguridad Social; esta es la triste #HerenciaPSOE</td>\n",
       "      <td>2011-12-02T10:32:51</td>\n",
       "      <td>es</td>\n",
       "      <td>1</td>\n",
       "      <td>AGREEMENT</td>\n",
       "    </tr>\n",
       "    <tr>\n",
       "      <th>23</th>\n",
       "      <td>anabelenroy_tve</td>\n",
       "      <td>Accidente en BUS-VAO A-6 km. 12. Motorista de 30 años herido menos grave. @SAMUR_PC traslada a Hospital Doce de Octubre vía @EmergenciasMad</td>\n",
       "      <td>2011-12-02T10:44:38</td>\n",
       "      <td>es</td>\n",
       "      <td>1</td>\n",
       "      <td>AGREEMENT</td>\n",
       "    </tr>\n",
       "    <tr>\n",
       "      <th>24</th>\n",
       "      <td>jesusmarana</td>\n",
       "      <td>\"La verdadera seriedad es cómica\". Niall Binns retrata a Nicanor Parra, premio Cervantes. http://t.co/AxYtQ1by</td>\n",
       "      <td>2011-12-02T11:06:35</td>\n",
       "      <td>es</td>\n",
       "      <td>0</td>\n",
       "      <td>AGREEMENT</td>\n",
       "    </tr>\n",
       "    <tr>\n",
       "      <th>25</th>\n",
       "      <td>ristomejide</td>\n",
       "      <td>#FF a ti, que deseas desesperadamente hacerme #FF, pero no lo haces por el qué dirán.</td>\n",
       "      <td>2011-12-02T11:08:51</td>\n",
       "      <td>es</td>\n",
       "      <td>1</td>\n",
       "      <td>AGREEMENT</td>\n",
       "    </tr>\n",
       "  </tbody>\n",
       "</table>\n",
       "</div>"
      ],
      "text/plain": [
       "               User  \\\n",
       "2    CarmendelRiego   \n",
       "3      mgilguerrero   \n",
       "4          paurubio   \n",
       "6      Carlos_Latre   \n",
       "8     nacho_uriarte   \n",
       "9       JuanraLucas   \n",
       "10   pedroj_ramirez   \n",
       "11     sevillajordi   \n",
       "12     Carlos_Latre   \n",
       "13    Lissavetzky_M   \n",
       "14     Carlos_Latre   \n",
       "17     mariviromero   \n",
       "18         iescolar   \n",
       "19     mariviromero   \n",
       "20     mariviromero   \n",
       "21  sanchezcastejon   \n",
       "22       ccifuentes   \n",
       "23  anabelenroy_tve   \n",
       "24      jesusmarana   \n",
       "25      ristomejide   \n",
       "\n",
       "                                                                                                                                         Content  \\\n",
       "2                                                                                                                      @marodriguezb Gracias MAR   \n",
       "3             Off pensando en el regalito Sinde, la que se va de la SGAE cuando se van sus corruptos. Intento no sacar conclusiones (lo intento)   \n",
       "4                                                                              Conozco a alguien q es adicto al drama! Ja ja ja te suena d algo!   \n",
       "6                                                                          Toca @crackoviadeTV3 . Grabación dl especial Navideño...Mari crismas!   \n",
       "8      Buen día todos! Lo primero mandar un abrazo grande a Miguel y a su familia @libertadmontes Hoy podría ser un día para la grandeza humana.   \n",
       "9                                                    Desde el escaño. Todo listo para empezar #endiascomohoy en el Congreso http://t.co/Mu2yIgCb   \n",
       "10        Bdías. EM no se ira de puente. Si vosotros os vais no dejeis de llevar la tableta o el PC y desde luego Orbyt. De momento no digo más.   \n",
       "11  Un sistema económico q recorta dinero para prestaciones sociales y refuerza con billón y medio d euros a los bancos, no necesita repensarse?   \n",
       "12                                                                                                             #programascambiados caca d ajuste   \n",
       "13                                                                                                                                  Buen viernes   \n",
       "14                                          “@adri_22_22: #programascambiados es TT gracias a @Carlos_Latre” GRACIAS POR EL BUEN RATO AMIGOS!!;)   \n",
       "17                                               La Universidad confía en De la Calle para encarar sus retos más ambiciosos http://t.co/7dzPPija   \n",
       "18     ¿Me ayudáis a que #indultoneiro sea TT? Por si Zapatero quiere alguna sugerencia para el último consejo de ministros http://t.co/Qao9uvsG   \n",
       "19                         abcdesevilla.es: Recio no tiene «indicios potentes» para denunciar a los responsables de los ERE http://t.co/wlDSs1yQ   \n",
       "20                abcdesevilla.es: Cuatro altos cargos de Empleo, denunciados por retirar la prejubilación a extrabajadores http://t.co/LWHxzbuB   \n",
       "21     La marcha atrás del PP en posponer devolución CCAA es un resbalón. Debería asumir fallo y no mentir diciendo que no conoce estado cuentas   \n",
       "22                 Viernes negro: Aumenta el paro en Noviembre y disminuyen los afiliados a la Seguridad Social; esta es la triste #HerenciaPSOE   \n",
       "23   Accidente en BUS-VAO A-6 km. 12. Motorista de 30 años herido menos grave. @SAMUR_PC traslada a Hospital Doce de Octubre vía @EmergenciasMad   \n",
       "24                                \"La verdadera seriedad es cómica\". Niall Binns retrata a Nicanor Parra, premio Cervantes. http://t.co/AxYtQ1by   \n",
       "25                                                         #FF a ti, que deseas desesperadamente hacerme #FF, pero no lo haces por el qué dirán.   \n",
       "\n",
       "                   Date Lang  Polarity       Type  \n",
       "2   2011-12-02T00:57:40   es         0  AGREEMENT  \n",
       "3   2011-12-02T02:33:37   es         1  AGREEMENT  \n",
       "4   2011-12-02T02:59:03   es         0  AGREEMENT  \n",
       "6   2011-12-02T07:00:50   es         0  AGREEMENT  \n",
       "8   2011-12-02T07:45:05   es         0  AGREEMENT  \n",
       "9   2011-12-02T07:54:19   es         0  AGREEMENT  \n",
       "10  2011-12-02T07:58:02   es         0  AGREEMENT  \n",
       "11  2011-12-02T08:04:28   es         0  AGREEMENT  \n",
       "12  2011-12-02T08:26:38   es         1  AGREEMENT  \n",
       "13  2011-12-02T08:34:52   es         0  AGREEMENT  \n",
       "14  2011-12-02T08:45:13   es         0  AGREEMENT  \n",
       "17  2011-12-02T09:01:48   es         0  AGREEMENT  \n",
       "18  2011-12-02T09:17:31   es         0  AGREEMENT  \n",
       "19  2011-12-02T09:30:33   es         1  AGREEMENT  \n",
       "20  2011-12-02T09:31:28   es         1  AGREEMENT  \n",
       "21  2011-12-02T09:31:40   es         1  AGREEMENT  \n",
       "22  2011-12-02T10:32:51   es         1  AGREEMENT  \n",
       "23  2011-12-02T10:44:38   es         1  AGREEMENT  \n",
       "24  2011-12-02T11:06:35   es         0  AGREEMENT  \n",
       "25  2011-12-02T11:08:51   es         1  AGREEMENT  "
      ]
     },
     "execution_count": 12,
     "metadata": {},
     "output_type": "execute_result"
    }
   ],
   "source": [
    "df.head(20)"
   ]
  },
  {
   "cell_type": "markdown",
   "metadata": {},
   "source": [
    "#### Idioma\n",
    "Nos quedamos con los tweets en español. Si no tuviésemos esa columna podríamos acudir a librerías como `langid` o `langdetect`."
   ]
  },
  {
   "cell_type": "code",
   "execution_count": 13,
   "metadata": {},
   "outputs": [],
   "source": [
    "# Filtramos los tweets en español\n",
    "df = df[df['Lang'] == 'es']"
   ]
  },
  {
   "cell_type": "code",
   "execution_count": 14,
   "metadata": {},
   "outputs": [
    {
     "data": {
      "text/plain": [
       "(5066, 6)"
      ]
     },
     "execution_count": 14,
     "metadata": {},
     "output_type": "execute_result"
    }
   ],
   "source": [
    "# Vemos con cuantos registros nos hemos quedado despues del filtrado\n",
    "df.shape"
   ]
  },
  {
   "cell_type": "markdown",
   "metadata": {},
   "source": [
    "#### Duplicados"
   ]
  },
  {
   "cell_type": "code",
   "execution_count": 15,
   "metadata": {},
   "outputs": [
    {
     "data": {
      "text/plain": [
       "(5052, 6)"
      ]
     },
     "execution_count": 15,
     "metadata": {},
     "output_type": "execute_result"
    }
   ],
   "source": [
    "# Eliminamos los duplicados\n",
    "df.drop_duplicates(subset = 'Content', inplace=True)\n",
    "df.shape"
   ]
  },
  {
   "cell_type": "markdown",
   "metadata": {},
   "source": [
    "#### Signos de puntuación\n",
    "Eliminamos signos de puntuación: puntos, comas, interrogaciones, paréntesis"
   ]
  },
  {
   "cell_type": "code",
   "execution_count": 16,
   "metadata": {},
   "outputs": [
    {
     "data": {
      "text/plain": [
       "2                                                                                                                    @marodriguezb Gracias MAR\n",
       "3           Off pensando en el regalito Sinde, la que se va de la SGAE cuando se van sus corruptos. Intento no sacar conclusiones (lo intento)\n",
       "4                                                                            Conozco a alguien q es adicto al drama! Ja ja ja te suena d algo!\n",
       "6                                                                        Toca @crackoviadeTV3 . Grabación dl especial Navideño...Mari crismas!\n",
       "8    Buen día todos! Lo primero mandar un abrazo grande a Miguel y a su familia @libertadmontes Hoy podría ser un día para la grandeza humana.\n",
       "Name: Content, dtype: object"
      ]
     },
     "execution_count": 16,
     "metadata": {},
     "output_type": "execute_result"
    }
   ],
   "source": [
    "df['Content'].head()"
   ]
  },
  {
   "cell_type": "code",
   "execution_count": 17,
   "metadata": {},
   "outputs": [],
   "source": [
    "import re\n",
    "signos = re.compile(\"(\\.)|(\\;)|(\\:)|(\\!)|(\\?)|(\\¿)|(\\@)|(\\,)|(\\\")|(\\()|(\\))|(\\[)|(\\])|(\\d+)\")"
   ]
  },
  {
   "cell_type": "code",
   "execution_count": 18,
   "metadata": {},
   "outputs": [
    {
     "data": {
      "text/plain": [
       "2                                                                                                                  marodriguezb gracias mar\n",
       "3            off pensando en el regalito sinde la que se va de la sgae cuando se van sus corruptos intento no sacar conclusiones lo intento\n",
       "4                                                                           conozco a alguien q es adicto al drama ja ja ja te suena d algo\n",
       "6                                                                            toca crackoviadetv  grabación dl especial navideñomari crismas\n",
       "8    buen día todos lo primero mandar un abrazo grande a miguel y a su familia libertadmontes hoy podría ser un día para la grandeza humana\n",
       "Name: Content, dtype: object"
      ]
     },
     "execution_count": 18,
     "metadata": {},
     "output_type": "execute_result"
    }
   ],
   "source": [
    "import re\n",
    "\n",
    "signos = re.compile(\"(\\.)|(\\;)|(\\:)|(\\!)|(\\?)|(\\¿)|(\\@)|(\\,)|(\\\")|(\\()|(\\))|(\\[)|(\\])|(\\d+)\")\n",
    "\n",
    "def signs_tweets(tweet):\n",
    "    return signos.sub('', tweet.lower())\n",
    "\n",
    "df['Content'] = df['Content'].apply(signs_tweets)\n",
    "df['Content'].head()"
   ]
  },
  {
   "cell_type": "markdown",
   "metadata": {},
   "source": [
    "#### Eliminamos links"
   ]
  },
  {
   "cell_type": "code",
   "execution_count": 19,
   "metadata": {},
   "outputs": [],
   "source": [
    "def remove_links(df):\n",
    "    return \" \".join(['{link}' if ('http') in word else word for word in df.split()])\n",
    "\n",
    "df['Content'] = df['Content'].apply(remove_links)"
   ]
  },
  {
   "cell_type": "markdown",
   "metadata": {},
   "source": [
    "#### Otros\n",
    "Podríamos hacer un preprocesado mucho más fino:\n",
    "1. Hashtags\n",
    "2. Menciones\n",
    "3. Abreviaturas\n",
    "4. Faltas de ortografía\n",
    "5. Risas"
   ]
  },
  {
   "cell_type": "markdown",
   "metadata": {},
   "source": [
    "## 3. Modelo\n",
    "Para montar el modelo tendremos que seguir los siguientes pasos\n",
    "1. Eliminamos las stopwords\n",
    "2. Aplicamos un stemmer, SnowBall por ejemplo"
   ]
  },
  {
   "cell_type": "markdown",
   "metadata": {},
   "source": [
    "#### Stopwords"
   ]
  },
  {
   "cell_type": "code",
   "execution_count": 20,
   "metadata": {},
   "outputs": [],
   "source": [
    "from nltk.corpus import stopwords\n",
    "\n",
    "spanish_stopwords = stopwords.words('spanish')"
   ]
  },
  {
   "cell_type": "code",
   "execution_count": 21,
   "metadata": {},
   "outputs": [],
   "source": [
    "def remove_stopwords(df):\n",
    "    return \" \".join([word for word in df.split() if word not in spanish_stopwords])"
   ]
  },
  {
   "cell_type": "code",
   "execution_count": 22,
   "metadata": {},
   "outputs": [
    {
     "data": {
      "application/vnd.microsoft.datawrangler.viewer.v0+json": {
       "columns": [
        {
         "name": "index",
         "rawType": "int64",
         "type": "integer"
        },
        {
         "name": "User",
         "rawType": "object",
         "type": "string"
        },
        {
         "name": "Content",
         "rawType": "object",
         "type": "string"
        },
        {
         "name": "Date",
         "rawType": "object",
         "type": "string"
        },
        {
         "name": "Lang",
         "rawType": "object",
         "type": "string"
        },
        {
         "name": "Polarity",
         "rawType": "int64",
         "type": "integer"
        },
        {
         "name": "Type",
         "rawType": "object",
         "type": "string"
        }
       ],
       "conversionMethod": "pd.DataFrame",
       "ref": "a1bddefa-dd34-4afe-a805-dc6e13311e76",
       "rows": [
        [
         "2",
         "CarmendelRiego",
         "marodriguezb gracias mar",
         "2011-12-02T00:57:40",
         "es",
         "0",
         "AGREEMENT"
        ],
        [
         "3",
         "mgilguerrero",
         "off pensando regalito sinde va sgae van corruptos intento sacar conclusiones intento",
         "2011-12-02T02:33:37",
         "es",
         "1",
         "AGREEMENT"
        ],
        [
         "4",
         "paurubio",
         "conozco alguien q adicto drama ja ja ja suena d",
         "2011-12-02T02:59:03",
         "es",
         "0",
         "AGREEMENT"
        ],
        [
         "6",
         "Carlos_Latre",
         "toca crackoviadetv grabación dl especial navideñomari crismas",
         "2011-12-02T07:00:50",
         "es",
         "0",
         "AGREEMENT"
        ],
        [
         "8",
         "nacho_uriarte",
         "buen día primero mandar abrazo grande miguel familia libertadmontes hoy podría ser día grandeza humana",
         "2011-12-02T07:45:05",
         "es",
         "0",
         "AGREEMENT"
        ]
       ],
       "shape": {
        "columns": 6,
        "rows": 5
       }
      },
      "text/html": [
       "<div>\n",
       "<style scoped>\n",
       "    .dataframe tbody tr th:only-of-type {\n",
       "        vertical-align: middle;\n",
       "    }\n",
       "\n",
       "    .dataframe tbody tr th {\n",
       "        vertical-align: top;\n",
       "    }\n",
       "\n",
       "    .dataframe thead th {\n",
       "        text-align: right;\n",
       "    }\n",
       "</style>\n",
       "<table border=\"1\" class=\"dataframe\">\n",
       "  <thead>\n",
       "    <tr style=\"text-align: right;\">\n",
       "      <th></th>\n",
       "      <th>User</th>\n",
       "      <th>Content</th>\n",
       "      <th>Date</th>\n",
       "      <th>Lang</th>\n",
       "      <th>Polarity</th>\n",
       "      <th>Type</th>\n",
       "    </tr>\n",
       "  </thead>\n",
       "  <tbody>\n",
       "    <tr>\n",
       "      <th>2</th>\n",
       "      <td>CarmendelRiego</td>\n",
       "      <td>marodriguezb gracias mar</td>\n",
       "      <td>2011-12-02T00:57:40</td>\n",
       "      <td>es</td>\n",
       "      <td>0</td>\n",
       "      <td>AGREEMENT</td>\n",
       "    </tr>\n",
       "    <tr>\n",
       "      <th>3</th>\n",
       "      <td>mgilguerrero</td>\n",
       "      <td>off pensando regalito sinde va sgae van corruptos intento sacar conclusiones intento</td>\n",
       "      <td>2011-12-02T02:33:37</td>\n",
       "      <td>es</td>\n",
       "      <td>1</td>\n",
       "      <td>AGREEMENT</td>\n",
       "    </tr>\n",
       "    <tr>\n",
       "      <th>4</th>\n",
       "      <td>paurubio</td>\n",
       "      <td>conozco alguien q adicto drama ja ja ja suena d</td>\n",
       "      <td>2011-12-02T02:59:03</td>\n",
       "      <td>es</td>\n",
       "      <td>0</td>\n",
       "      <td>AGREEMENT</td>\n",
       "    </tr>\n",
       "    <tr>\n",
       "      <th>6</th>\n",
       "      <td>Carlos_Latre</td>\n",
       "      <td>toca crackoviadetv grabación dl especial navideñomari crismas</td>\n",
       "      <td>2011-12-02T07:00:50</td>\n",
       "      <td>es</td>\n",
       "      <td>0</td>\n",
       "      <td>AGREEMENT</td>\n",
       "    </tr>\n",
       "    <tr>\n",
       "      <th>8</th>\n",
       "      <td>nacho_uriarte</td>\n",
       "      <td>buen día primero mandar abrazo grande miguel familia libertadmontes hoy podría ser día grandeza humana</td>\n",
       "      <td>2011-12-02T07:45:05</td>\n",
       "      <td>es</td>\n",
       "      <td>0</td>\n",
       "      <td>AGREEMENT</td>\n",
       "    </tr>\n",
       "  </tbody>\n",
       "</table>\n",
       "</div>"
      ],
      "text/plain": [
       "             User  \\\n",
       "2  CarmendelRiego   \n",
       "3    mgilguerrero   \n",
       "4        paurubio   \n",
       "6    Carlos_Latre   \n",
       "8   nacho_uriarte   \n",
       "\n",
       "                                                                                                  Content  \\\n",
       "2                                                                                marodriguezb gracias mar   \n",
       "3                    off pensando regalito sinde va sgae van corruptos intento sacar conclusiones intento   \n",
       "4                                                         conozco alguien q adicto drama ja ja ja suena d   \n",
       "6                                           toca crackoviadetv grabación dl especial navideñomari crismas   \n",
       "8  buen día primero mandar abrazo grande miguel familia libertadmontes hoy podría ser día grandeza humana   \n",
       "\n",
       "                  Date Lang  Polarity       Type  \n",
       "2  2011-12-02T00:57:40   es         0  AGREEMENT  \n",
       "3  2011-12-02T02:33:37   es         1  AGREEMENT  \n",
       "4  2011-12-02T02:59:03   es         0  AGREEMENT  \n",
       "6  2011-12-02T07:00:50   es         0  AGREEMENT  \n",
       "8  2011-12-02T07:45:05   es         0  AGREEMENT  "
      ]
     },
     "execution_count": 22,
     "metadata": {},
     "output_type": "execute_result"
    }
   ],
   "source": [
    "df['Content'] = df['Content'].apply(remove_stopwords)\n",
    "df.head()"
   ]
  },
  {
   "cell_type": "markdown",
   "metadata": {},
   "source": [
    "#### Stemmer"
   ]
  },
  {
   "cell_type": "code",
   "execution_count": 23,
   "metadata": {},
   "outputs": [
    {
     "data": {
      "text/plain": [
       "2                                                                        marodriguezb graci mar\n",
       "3                         off pens regalit sind va sga van corrupt intent sac conclusion intent\n",
       "4                                                     conozc algui q adict dram ja ja ja suen d\n",
       "6                                    toc crackoviadetv grabacion dl especial navideñomari crism\n",
       "8    buen dia primer mand abraz grand miguel famili libertadmont hoy podr ser dia grandez human\n",
       "Name: Content, dtype: object"
      ]
     },
     "execution_count": 23,
     "metadata": {},
     "output_type": "execute_result"
    }
   ],
   "source": [
    "from nltk.stem.snowball import SnowballStemmer\n",
    "\n",
    "def spanish_stemmer(x):\n",
    "    stemmer = SnowballStemmer('spanish')\n",
    "    return \" \".join([stemmer.stem(word) for word in x.split()])\n",
    "\n",
    "df['Content'] = df['Content'].apply(spanish_stemmer)\n",
    "df['Content'].head()"
   ]
  },
  {
   "cell_type": "markdown",
   "metadata": {},
   "source": [
    "#### Seleccionamos columnas\n",
    "Nos quedamos con las columnas que nos interesan para el modelo"
   ]
  },
  {
   "cell_type": "code",
   "execution_count": 24,
   "metadata": {},
   "outputs": [],
   "source": [
    "df = df[['Content', 'Polarity']]"
   ]
  },
  {
   "cell_type": "code",
   "execution_count": 25,
   "metadata": {},
   "outputs": [],
   "source": [
    "df.to_csv('data/output/data_processed.csv')"
   ]
  },
  {
   "cell_type": "markdown",
   "metadata": {},
   "source": [
    "#### Vectorizamos el dataset"
   ]
  },
  {
   "cell_type": "code",
   "execution_count": 26,
   "metadata": {},
   "outputs": [],
   "source": [
    "from sklearn.feature_extraction.text import CountVectorizer\n",
    "\n",
    "vectorizer = CountVectorizer(ngram_range=(1,2))"
   ]
  },
  {
   "cell_type": "markdown",
   "metadata": {},
   "source": [
    "#### Montamos Pipeline\n",
    "Modelos que suelen funcionar bien con pocas observaciones y muchas features son la Regresión logística el LinearSVC o Naive Bayes."
   ]
  },
  {
   "cell_type": "code",
   "execution_count": 27,
   "metadata": {},
   "outputs": [],
   "source": [
    "X = vectorizer.fit_transform(df['Content'])"
   ]
  },
  {
   "cell_type": "code",
   "execution_count": 28,
   "metadata": {},
   "outputs": [
    {
     "data": {
      "text/plain": [
       "(5052, 48865)"
      ]
     },
     "execution_count": 28,
     "metadata": {},
     "output_type": "execute_result"
    }
   ],
   "source": [
    "X.shape"
   ]
  },
  {
   "cell_type": "code",
   "execution_count": 29,
   "metadata": {},
   "outputs": [
    {
     "data": {
      "text/plain": [
       "<Compressed Sparse Row sparse matrix of dtype 'int64'\n",
       "\twith 89817 stored elements and shape (5052, 48865)>"
      ]
     },
     "execution_count": 29,
     "metadata": {},
     "output_type": "execute_result"
    }
   ],
   "source": [
    "X"
   ]
  },
  {
   "cell_type": "code",
   "execution_count": 30,
   "metadata": {},
   "outputs": [],
   "source": [
    "from sklearn.linear_model import LogisticRegression\n",
    "\n",
    "pipeline = Pipeline([\n",
    "    ('vect', vectorizer),\n",
    "    ('cls', LogisticRegression(max_iter=10000))\n",
    "])\n",
    "\n",
    "parameters = {\n",
    "    \"cls__penalty\": [\"l2\"], # Regularizaciones L1 y L2.\n",
    "    \"cls__C\": [0.1, 0.5, 1.0, 5.0] # Cuanta regularizacion queremos\n",
    "\n",
    "}\n",
    "\n",
    "grid_search = GridSearchCV(pipeline,\n",
    "                          parameters,\n",
    "                          cv = 5,\n",
    "                          n_jobs = -1,\n",
    "                          scoring = 'accuracy')"
   ]
  },
  {
   "cell_type": "markdown",
   "metadata": {},
   "source": [
    "#### Entrenamos"
   ]
  },
  {
   "cell_type": "code",
   "execution_count": 31,
   "metadata": {},
   "outputs": [
    {
     "data": {
      "text/html": [
       "<style>#sk-container-id-1 {\n",
       "  /* Definition of color scheme common for light and dark mode */\n",
       "  --sklearn-color-text: #000;\n",
       "  --sklearn-color-text-muted: #666;\n",
       "  --sklearn-color-line: gray;\n",
       "  /* Definition of color scheme for unfitted estimators */\n",
       "  --sklearn-color-unfitted-level-0: #fff5e6;\n",
       "  --sklearn-color-unfitted-level-1: #f6e4d2;\n",
       "  --sklearn-color-unfitted-level-2: #ffe0b3;\n",
       "  --sklearn-color-unfitted-level-3: chocolate;\n",
       "  /* Definition of color scheme for fitted estimators */\n",
       "  --sklearn-color-fitted-level-0: #f0f8ff;\n",
       "  --sklearn-color-fitted-level-1: #d4ebff;\n",
       "  --sklearn-color-fitted-level-2: #b3dbfd;\n",
       "  --sklearn-color-fitted-level-3: cornflowerblue;\n",
       "\n",
       "  /* Specific color for light theme */\n",
       "  --sklearn-color-text-on-default-background: var(--sg-text-color, var(--theme-code-foreground, var(--jp-content-font-color1, black)));\n",
       "  --sklearn-color-background: var(--sg-background-color, var(--theme-background, var(--jp-layout-color0, white)));\n",
       "  --sklearn-color-border-box: var(--sg-text-color, var(--theme-code-foreground, var(--jp-content-font-color1, black)));\n",
       "  --sklearn-color-icon: #696969;\n",
       "\n",
       "  @media (prefers-color-scheme: dark) {\n",
       "    /* Redefinition of color scheme for dark theme */\n",
       "    --sklearn-color-text-on-default-background: var(--sg-text-color, var(--theme-code-foreground, var(--jp-content-font-color1, white)));\n",
       "    --sklearn-color-background: var(--sg-background-color, var(--theme-background, var(--jp-layout-color0, #111)));\n",
       "    --sklearn-color-border-box: var(--sg-text-color, var(--theme-code-foreground, var(--jp-content-font-color1, white)));\n",
       "    --sklearn-color-icon: #878787;\n",
       "  }\n",
       "}\n",
       "\n",
       "#sk-container-id-1 {\n",
       "  color: var(--sklearn-color-text);\n",
       "}\n",
       "\n",
       "#sk-container-id-1 pre {\n",
       "  padding: 0;\n",
       "}\n",
       "\n",
       "#sk-container-id-1 input.sk-hidden--visually {\n",
       "  border: 0;\n",
       "  clip: rect(1px 1px 1px 1px);\n",
       "  clip: rect(1px, 1px, 1px, 1px);\n",
       "  height: 1px;\n",
       "  margin: -1px;\n",
       "  overflow: hidden;\n",
       "  padding: 0;\n",
       "  position: absolute;\n",
       "  width: 1px;\n",
       "}\n",
       "\n",
       "#sk-container-id-1 div.sk-dashed-wrapped {\n",
       "  border: 1px dashed var(--sklearn-color-line);\n",
       "  margin: 0 0.4em 0.5em 0.4em;\n",
       "  box-sizing: border-box;\n",
       "  padding-bottom: 0.4em;\n",
       "  background-color: var(--sklearn-color-background);\n",
       "}\n",
       "\n",
       "#sk-container-id-1 div.sk-container {\n",
       "  /* jupyter's `normalize.less` sets `[hidden] { display: none; }`\n",
       "     but bootstrap.min.css set `[hidden] { display: none !important; }`\n",
       "     so we also need the `!important` here to be able to override the\n",
       "     default hidden behavior on the sphinx rendered scikit-learn.org.\n",
       "     See: https://github.com/scikit-learn/scikit-learn/issues/21755 */\n",
       "  display: inline-block !important;\n",
       "  position: relative;\n",
       "}\n",
       "\n",
       "#sk-container-id-1 div.sk-text-repr-fallback {\n",
       "  display: none;\n",
       "}\n",
       "\n",
       "div.sk-parallel-item,\n",
       "div.sk-serial,\n",
       "div.sk-item {\n",
       "  /* draw centered vertical line to link estimators */\n",
       "  background-image: linear-gradient(var(--sklearn-color-text-on-default-background), var(--sklearn-color-text-on-default-background));\n",
       "  background-size: 2px 100%;\n",
       "  background-repeat: no-repeat;\n",
       "  background-position: center center;\n",
       "}\n",
       "\n",
       "/* Parallel-specific style estimator block */\n",
       "\n",
       "#sk-container-id-1 div.sk-parallel-item::after {\n",
       "  content: \"\";\n",
       "  width: 100%;\n",
       "  border-bottom: 2px solid var(--sklearn-color-text-on-default-background);\n",
       "  flex-grow: 1;\n",
       "}\n",
       "\n",
       "#sk-container-id-1 div.sk-parallel {\n",
       "  display: flex;\n",
       "  align-items: stretch;\n",
       "  justify-content: center;\n",
       "  background-color: var(--sklearn-color-background);\n",
       "  position: relative;\n",
       "}\n",
       "\n",
       "#sk-container-id-1 div.sk-parallel-item {\n",
       "  display: flex;\n",
       "  flex-direction: column;\n",
       "}\n",
       "\n",
       "#sk-container-id-1 div.sk-parallel-item:first-child::after {\n",
       "  align-self: flex-end;\n",
       "  width: 50%;\n",
       "}\n",
       "\n",
       "#sk-container-id-1 div.sk-parallel-item:last-child::after {\n",
       "  align-self: flex-start;\n",
       "  width: 50%;\n",
       "}\n",
       "\n",
       "#sk-container-id-1 div.sk-parallel-item:only-child::after {\n",
       "  width: 0;\n",
       "}\n",
       "\n",
       "/* Serial-specific style estimator block */\n",
       "\n",
       "#sk-container-id-1 div.sk-serial {\n",
       "  display: flex;\n",
       "  flex-direction: column;\n",
       "  align-items: center;\n",
       "  background-color: var(--sklearn-color-background);\n",
       "  padding-right: 1em;\n",
       "  padding-left: 1em;\n",
       "}\n",
       "\n",
       "\n",
       "/* Toggleable style: style used for estimator/Pipeline/ColumnTransformer box that is\n",
       "clickable and can be expanded/collapsed.\n",
       "- Pipeline and ColumnTransformer use this feature and define the default style\n",
       "- Estimators will overwrite some part of the style using the `sk-estimator` class\n",
       "*/\n",
       "\n",
       "/* Pipeline and ColumnTransformer style (default) */\n",
       "\n",
       "#sk-container-id-1 div.sk-toggleable {\n",
       "  /* Default theme specific background. It is overwritten whether we have a\n",
       "  specific estimator or a Pipeline/ColumnTransformer */\n",
       "  background-color: var(--sklearn-color-background);\n",
       "}\n",
       "\n",
       "/* Toggleable label */\n",
       "#sk-container-id-1 label.sk-toggleable__label {\n",
       "  cursor: pointer;\n",
       "  display: flex;\n",
       "  width: 100%;\n",
       "  margin-bottom: 0;\n",
       "  padding: 0.5em;\n",
       "  box-sizing: border-box;\n",
       "  text-align: center;\n",
       "  align-items: start;\n",
       "  justify-content: space-between;\n",
       "  gap: 0.5em;\n",
       "}\n",
       "\n",
       "#sk-container-id-1 label.sk-toggleable__label .caption {\n",
       "  font-size: 0.6rem;\n",
       "  font-weight: lighter;\n",
       "  color: var(--sklearn-color-text-muted);\n",
       "}\n",
       "\n",
       "#sk-container-id-1 label.sk-toggleable__label-arrow:before {\n",
       "  /* Arrow on the left of the label */\n",
       "  content: \"▸\";\n",
       "  float: left;\n",
       "  margin-right: 0.25em;\n",
       "  color: var(--sklearn-color-icon);\n",
       "}\n",
       "\n",
       "#sk-container-id-1 label.sk-toggleable__label-arrow:hover:before {\n",
       "  color: var(--sklearn-color-text);\n",
       "}\n",
       "\n",
       "/* Toggleable content - dropdown */\n",
       "\n",
       "#sk-container-id-1 div.sk-toggleable__content {\n",
       "  max-height: 0;\n",
       "  max-width: 0;\n",
       "  overflow: hidden;\n",
       "  text-align: left;\n",
       "  /* unfitted */\n",
       "  background-color: var(--sklearn-color-unfitted-level-0);\n",
       "}\n",
       "\n",
       "#sk-container-id-1 div.sk-toggleable__content.fitted {\n",
       "  /* fitted */\n",
       "  background-color: var(--sklearn-color-fitted-level-0);\n",
       "}\n",
       "\n",
       "#sk-container-id-1 div.sk-toggleable__content pre {\n",
       "  margin: 0.2em;\n",
       "  border-radius: 0.25em;\n",
       "  color: var(--sklearn-color-text);\n",
       "  /* unfitted */\n",
       "  background-color: var(--sklearn-color-unfitted-level-0);\n",
       "}\n",
       "\n",
       "#sk-container-id-1 div.sk-toggleable__content.fitted pre {\n",
       "  /* unfitted */\n",
       "  background-color: var(--sklearn-color-fitted-level-0);\n",
       "}\n",
       "\n",
       "#sk-container-id-1 input.sk-toggleable__control:checked~div.sk-toggleable__content {\n",
       "  /* Expand drop-down */\n",
       "  max-height: 200px;\n",
       "  max-width: 100%;\n",
       "  overflow: auto;\n",
       "}\n",
       "\n",
       "#sk-container-id-1 input.sk-toggleable__control:checked~label.sk-toggleable__label-arrow:before {\n",
       "  content: \"▾\";\n",
       "}\n",
       "\n",
       "/* Pipeline/ColumnTransformer-specific style */\n",
       "\n",
       "#sk-container-id-1 div.sk-label input.sk-toggleable__control:checked~label.sk-toggleable__label {\n",
       "  color: var(--sklearn-color-text);\n",
       "  background-color: var(--sklearn-color-unfitted-level-2);\n",
       "}\n",
       "\n",
       "#sk-container-id-1 div.sk-label.fitted input.sk-toggleable__control:checked~label.sk-toggleable__label {\n",
       "  background-color: var(--sklearn-color-fitted-level-2);\n",
       "}\n",
       "\n",
       "/* Estimator-specific style */\n",
       "\n",
       "/* Colorize estimator box */\n",
       "#sk-container-id-1 div.sk-estimator input.sk-toggleable__control:checked~label.sk-toggleable__label {\n",
       "  /* unfitted */\n",
       "  background-color: var(--sklearn-color-unfitted-level-2);\n",
       "}\n",
       "\n",
       "#sk-container-id-1 div.sk-estimator.fitted input.sk-toggleable__control:checked~label.sk-toggleable__label {\n",
       "  /* fitted */\n",
       "  background-color: var(--sklearn-color-fitted-level-2);\n",
       "}\n",
       "\n",
       "#sk-container-id-1 div.sk-label label.sk-toggleable__label,\n",
       "#sk-container-id-1 div.sk-label label {\n",
       "  /* The background is the default theme color */\n",
       "  color: var(--sklearn-color-text-on-default-background);\n",
       "}\n",
       "\n",
       "/* On hover, darken the color of the background */\n",
       "#sk-container-id-1 div.sk-label:hover label.sk-toggleable__label {\n",
       "  color: var(--sklearn-color-text);\n",
       "  background-color: var(--sklearn-color-unfitted-level-2);\n",
       "}\n",
       "\n",
       "/* Label box, darken color on hover, fitted */\n",
       "#sk-container-id-1 div.sk-label.fitted:hover label.sk-toggleable__label.fitted {\n",
       "  color: var(--sklearn-color-text);\n",
       "  background-color: var(--sklearn-color-fitted-level-2);\n",
       "}\n",
       "\n",
       "/* Estimator label */\n",
       "\n",
       "#sk-container-id-1 div.sk-label label {\n",
       "  font-family: monospace;\n",
       "  font-weight: bold;\n",
       "  display: inline-block;\n",
       "  line-height: 1.2em;\n",
       "}\n",
       "\n",
       "#sk-container-id-1 div.sk-label-container {\n",
       "  text-align: center;\n",
       "}\n",
       "\n",
       "/* Estimator-specific */\n",
       "#sk-container-id-1 div.sk-estimator {\n",
       "  font-family: monospace;\n",
       "  border: 1px dotted var(--sklearn-color-border-box);\n",
       "  border-radius: 0.25em;\n",
       "  box-sizing: border-box;\n",
       "  margin-bottom: 0.5em;\n",
       "  /* unfitted */\n",
       "  background-color: var(--sklearn-color-unfitted-level-0);\n",
       "}\n",
       "\n",
       "#sk-container-id-1 div.sk-estimator.fitted {\n",
       "  /* fitted */\n",
       "  background-color: var(--sklearn-color-fitted-level-0);\n",
       "}\n",
       "\n",
       "/* on hover */\n",
       "#sk-container-id-1 div.sk-estimator:hover {\n",
       "  /* unfitted */\n",
       "  background-color: var(--sklearn-color-unfitted-level-2);\n",
       "}\n",
       "\n",
       "#sk-container-id-1 div.sk-estimator.fitted:hover {\n",
       "  /* fitted */\n",
       "  background-color: var(--sklearn-color-fitted-level-2);\n",
       "}\n",
       "\n",
       "/* Specification for estimator info (e.g. \"i\" and \"?\") */\n",
       "\n",
       "/* Common style for \"i\" and \"?\" */\n",
       "\n",
       ".sk-estimator-doc-link,\n",
       "a:link.sk-estimator-doc-link,\n",
       "a:visited.sk-estimator-doc-link {\n",
       "  float: right;\n",
       "  font-size: smaller;\n",
       "  line-height: 1em;\n",
       "  font-family: monospace;\n",
       "  background-color: var(--sklearn-color-background);\n",
       "  border-radius: 1em;\n",
       "  height: 1em;\n",
       "  width: 1em;\n",
       "  text-decoration: none !important;\n",
       "  margin-left: 0.5em;\n",
       "  text-align: center;\n",
       "  /* unfitted */\n",
       "  border: var(--sklearn-color-unfitted-level-1) 1pt solid;\n",
       "  color: var(--sklearn-color-unfitted-level-1);\n",
       "}\n",
       "\n",
       ".sk-estimator-doc-link.fitted,\n",
       "a:link.sk-estimator-doc-link.fitted,\n",
       "a:visited.sk-estimator-doc-link.fitted {\n",
       "  /* fitted */\n",
       "  border: var(--sklearn-color-fitted-level-1) 1pt solid;\n",
       "  color: var(--sklearn-color-fitted-level-1);\n",
       "}\n",
       "\n",
       "/* On hover */\n",
       "div.sk-estimator:hover .sk-estimator-doc-link:hover,\n",
       ".sk-estimator-doc-link:hover,\n",
       "div.sk-label-container:hover .sk-estimator-doc-link:hover,\n",
       ".sk-estimator-doc-link:hover {\n",
       "  /* unfitted */\n",
       "  background-color: var(--sklearn-color-unfitted-level-3);\n",
       "  color: var(--sklearn-color-background);\n",
       "  text-decoration: none;\n",
       "}\n",
       "\n",
       "div.sk-estimator.fitted:hover .sk-estimator-doc-link.fitted:hover,\n",
       ".sk-estimator-doc-link.fitted:hover,\n",
       "div.sk-label-container:hover .sk-estimator-doc-link.fitted:hover,\n",
       ".sk-estimator-doc-link.fitted:hover {\n",
       "  /* fitted */\n",
       "  background-color: var(--sklearn-color-fitted-level-3);\n",
       "  color: var(--sklearn-color-background);\n",
       "  text-decoration: none;\n",
       "}\n",
       "\n",
       "/* Span, style for the box shown on hovering the info icon */\n",
       ".sk-estimator-doc-link span {\n",
       "  display: none;\n",
       "  z-index: 9999;\n",
       "  position: relative;\n",
       "  font-weight: normal;\n",
       "  right: .2ex;\n",
       "  padding: .5ex;\n",
       "  margin: .5ex;\n",
       "  width: min-content;\n",
       "  min-width: 20ex;\n",
       "  max-width: 50ex;\n",
       "  color: var(--sklearn-color-text);\n",
       "  box-shadow: 2pt 2pt 4pt #999;\n",
       "  /* unfitted */\n",
       "  background: var(--sklearn-color-unfitted-level-0);\n",
       "  border: .5pt solid var(--sklearn-color-unfitted-level-3);\n",
       "}\n",
       "\n",
       ".sk-estimator-doc-link.fitted span {\n",
       "  /* fitted */\n",
       "  background: var(--sklearn-color-fitted-level-0);\n",
       "  border: var(--sklearn-color-fitted-level-3);\n",
       "}\n",
       "\n",
       ".sk-estimator-doc-link:hover span {\n",
       "  display: block;\n",
       "}\n",
       "\n",
       "/* \"?\"-specific style due to the `<a>` HTML tag */\n",
       "\n",
       "#sk-container-id-1 a.estimator_doc_link {\n",
       "  float: right;\n",
       "  font-size: 1rem;\n",
       "  line-height: 1em;\n",
       "  font-family: monospace;\n",
       "  background-color: var(--sklearn-color-background);\n",
       "  border-radius: 1rem;\n",
       "  height: 1rem;\n",
       "  width: 1rem;\n",
       "  text-decoration: none;\n",
       "  /* unfitted */\n",
       "  color: var(--sklearn-color-unfitted-level-1);\n",
       "  border: var(--sklearn-color-unfitted-level-1) 1pt solid;\n",
       "}\n",
       "\n",
       "#sk-container-id-1 a.estimator_doc_link.fitted {\n",
       "  /* fitted */\n",
       "  border: var(--sklearn-color-fitted-level-1) 1pt solid;\n",
       "  color: var(--sklearn-color-fitted-level-1);\n",
       "}\n",
       "\n",
       "/* On hover */\n",
       "#sk-container-id-1 a.estimator_doc_link:hover {\n",
       "  /* unfitted */\n",
       "  background-color: var(--sklearn-color-unfitted-level-3);\n",
       "  color: var(--sklearn-color-background);\n",
       "  text-decoration: none;\n",
       "}\n",
       "\n",
       "#sk-container-id-1 a.estimator_doc_link.fitted:hover {\n",
       "  /* fitted */\n",
       "  background-color: var(--sklearn-color-fitted-level-3);\n",
       "}\n",
       "</style><div id=\"sk-container-id-1\" class=\"sk-top-container\"><div class=\"sk-text-repr-fallback\"><pre>GridSearchCV(cv=5,\n",
       "             estimator=Pipeline(steps=[(&#x27;vect&#x27;,\n",
       "                                        CountVectorizer(ngram_range=(1, 2))),\n",
       "                                       (&#x27;cls&#x27;,\n",
       "                                        LogisticRegression(max_iter=10000))]),\n",
       "             n_jobs=-1,\n",
       "             param_grid={&#x27;cls__C&#x27;: [0.1, 0.5, 1.0, 5.0],\n",
       "                         &#x27;cls__penalty&#x27;: [&#x27;l2&#x27;]},\n",
       "             scoring=&#x27;accuracy&#x27;)</pre><b>In a Jupyter environment, please rerun this cell to show the HTML representation or trust the notebook. <br />On GitHub, the HTML representation is unable to render, please try loading this page with nbviewer.org.</b></div><div class=\"sk-container\" hidden><div class=\"sk-item sk-dashed-wrapped\"><div class=\"sk-label-container\"><div class=\"sk-label fitted sk-toggleable\"><input class=\"sk-toggleable__control sk-hidden--visually\" id=\"sk-estimator-id-1\" type=\"checkbox\" ><label for=\"sk-estimator-id-1\" class=\"sk-toggleable__label fitted sk-toggleable__label-arrow\"><div><div>GridSearchCV</div></div><div><a class=\"sk-estimator-doc-link fitted\" rel=\"noreferrer\" target=\"_blank\" href=\"https://scikit-learn.org/1.6/modules/generated/sklearn.model_selection.GridSearchCV.html\">?<span>Documentation for GridSearchCV</span></a><span class=\"sk-estimator-doc-link fitted\">i<span>Fitted</span></span></div></label><div class=\"sk-toggleable__content fitted\"><pre>GridSearchCV(cv=5,\n",
       "             estimator=Pipeline(steps=[(&#x27;vect&#x27;,\n",
       "                                        CountVectorizer(ngram_range=(1, 2))),\n",
       "                                       (&#x27;cls&#x27;,\n",
       "                                        LogisticRegression(max_iter=10000))]),\n",
       "             n_jobs=-1,\n",
       "             param_grid={&#x27;cls__C&#x27;: [0.1, 0.5, 1.0, 5.0],\n",
       "                         &#x27;cls__penalty&#x27;: [&#x27;l2&#x27;]},\n",
       "             scoring=&#x27;accuracy&#x27;)</pre></div> </div></div><div class=\"sk-parallel\"><div class=\"sk-parallel-item\"><div class=\"sk-item\"><div class=\"sk-label-container\"><div class=\"sk-label fitted sk-toggleable\"><input class=\"sk-toggleable__control sk-hidden--visually\" id=\"sk-estimator-id-2\" type=\"checkbox\" ><label for=\"sk-estimator-id-2\" class=\"sk-toggleable__label fitted sk-toggleable__label-arrow\"><div><div>best_estimator_: Pipeline</div></div></label><div class=\"sk-toggleable__content fitted\"><pre>Pipeline(steps=[(&#x27;vect&#x27;, CountVectorizer(ngram_range=(1, 2))),\n",
       "                (&#x27;cls&#x27;, LogisticRegression(C=5.0, max_iter=10000))])</pre></div> </div></div><div class=\"sk-serial\"><div class=\"sk-item\"><div class=\"sk-serial\"><div class=\"sk-item\"><div class=\"sk-estimator fitted sk-toggleable\"><input class=\"sk-toggleable__control sk-hidden--visually\" id=\"sk-estimator-id-3\" type=\"checkbox\" ><label for=\"sk-estimator-id-3\" class=\"sk-toggleable__label fitted sk-toggleable__label-arrow\"><div><div>CountVectorizer</div></div><div><a class=\"sk-estimator-doc-link fitted\" rel=\"noreferrer\" target=\"_blank\" href=\"https://scikit-learn.org/1.6/modules/generated/sklearn.feature_extraction.text.CountVectorizer.html\">?<span>Documentation for CountVectorizer</span></a></div></label><div class=\"sk-toggleable__content fitted\"><pre>CountVectorizer(ngram_range=(1, 2))</pre></div> </div></div><div class=\"sk-item\"><div class=\"sk-estimator fitted sk-toggleable\"><input class=\"sk-toggleable__control sk-hidden--visually\" id=\"sk-estimator-id-4\" type=\"checkbox\" ><label for=\"sk-estimator-id-4\" class=\"sk-toggleable__label fitted sk-toggleable__label-arrow\"><div><div>LogisticRegression</div></div><div><a class=\"sk-estimator-doc-link fitted\" rel=\"noreferrer\" target=\"_blank\" href=\"https://scikit-learn.org/1.6/modules/generated/sklearn.linear_model.LogisticRegression.html\">?<span>Documentation for LogisticRegression</span></a></div></label><div class=\"sk-toggleable__content fitted\"><pre>LogisticRegression(C=5.0, max_iter=10000)</pre></div> </div></div></div></div></div></div></div></div></div></div></div>"
      ],
      "text/plain": [
       "GridSearchCV(cv=5,\n",
       "             estimator=Pipeline(steps=[('vect',\n",
       "                                        CountVectorizer(ngram_range=(1, 2))),\n",
       "                                       ('cls',\n",
       "                                        LogisticRegression(max_iter=10000))]),\n",
       "             n_jobs=-1,\n",
       "             param_grid={'cls__C': [0.1, 0.5, 1.0, 5.0],\n",
       "                         'cls__penalty': ['l2']},\n",
       "             scoring='accuracy')"
      ]
     },
     "execution_count": 31,
     "metadata": {},
     "output_type": "execute_result"
    }
   ],
   "source": [
    "grid_search.fit(df['Content'], df['Polarity'])"
   ]
  },
  {
   "cell_type": "code",
   "execution_count": 32,
   "metadata": {},
   "outputs": [
    {
     "name": "stdout",
     "output_type": "stream",
     "text": [
      "Best params: {'cls__C': 5.0, 'cls__penalty': 'l2'}\n",
      "Best acc: 0.7682132189480075\n",
      "Best model: Pipeline(steps=[('vect', CountVectorizer(ngram_range=(1, 2))),\n",
      "                ('cls', LogisticRegression(C=5.0, max_iter=10000))])\n"
     ]
    }
   ],
   "source": [
    "print(\"Best params:\", grid_search.best_params_)\n",
    "print(\"Best acc:\", grid_search.best_score_)\n",
    "print(\"Best model:\", grid_search.best_estimator_)"
   ]
  },
  {
   "cell_type": "markdown",
   "metadata": {},
   "source": [
    "#### Guardamos el modelo"
   ]
  },
  {
   "cell_type": "code",
   "execution_count": 33,
   "metadata": {},
   "outputs": [],
   "source": [
    "import pickle\n",
    "\n",
    "with open('data/output/finished_model.model', \"wb\") as archivo_salida:\n",
    "    pickle.dump(grid_search.best_estimator_, archivo_salida)"
   ]
  },
  {
   "cell_type": "markdown",
   "metadata": {},
   "source": [
    "## 4. Predicciones\n",
    "Realizar una predicción con un tweet que escojas"
   ]
  },
  {
   "cell_type": "code",
   "execution_count": 34,
   "metadata": {},
   "outputs": [],
   "source": [
    "import pickle"
   ]
  },
  {
   "cell_type": "code",
   "execution_count": 35,
   "metadata": {},
   "outputs": [],
   "source": [
    "with open('data/output/finished_model.model', \"rb\") as archivo_entrada:\n",
    "    pipeline_importada = pickle.load(archivo_entrada)"
   ]
  },
  {
   "cell_type": "code",
   "execution_count": 36,
   "metadata": {},
   "outputs": [
    {
     "data": {
      "text/html": [
       "<style>#sk-container-id-2 {\n",
       "  /* Definition of color scheme common for light and dark mode */\n",
       "  --sklearn-color-text: #000;\n",
       "  --sklearn-color-text-muted: #666;\n",
       "  --sklearn-color-line: gray;\n",
       "  /* Definition of color scheme for unfitted estimators */\n",
       "  --sklearn-color-unfitted-level-0: #fff5e6;\n",
       "  --sklearn-color-unfitted-level-1: #f6e4d2;\n",
       "  --sklearn-color-unfitted-level-2: #ffe0b3;\n",
       "  --sklearn-color-unfitted-level-3: chocolate;\n",
       "  /* Definition of color scheme for fitted estimators */\n",
       "  --sklearn-color-fitted-level-0: #f0f8ff;\n",
       "  --sklearn-color-fitted-level-1: #d4ebff;\n",
       "  --sklearn-color-fitted-level-2: #b3dbfd;\n",
       "  --sklearn-color-fitted-level-3: cornflowerblue;\n",
       "\n",
       "  /* Specific color for light theme */\n",
       "  --sklearn-color-text-on-default-background: var(--sg-text-color, var(--theme-code-foreground, var(--jp-content-font-color1, black)));\n",
       "  --sklearn-color-background: var(--sg-background-color, var(--theme-background, var(--jp-layout-color0, white)));\n",
       "  --sklearn-color-border-box: var(--sg-text-color, var(--theme-code-foreground, var(--jp-content-font-color1, black)));\n",
       "  --sklearn-color-icon: #696969;\n",
       "\n",
       "  @media (prefers-color-scheme: dark) {\n",
       "    /* Redefinition of color scheme for dark theme */\n",
       "    --sklearn-color-text-on-default-background: var(--sg-text-color, var(--theme-code-foreground, var(--jp-content-font-color1, white)));\n",
       "    --sklearn-color-background: var(--sg-background-color, var(--theme-background, var(--jp-layout-color0, #111)));\n",
       "    --sklearn-color-border-box: var(--sg-text-color, var(--theme-code-foreground, var(--jp-content-font-color1, white)));\n",
       "    --sklearn-color-icon: #878787;\n",
       "  }\n",
       "}\n",
       "\n",
       "#sk-container-id-2 {\n",
       "  color: var(--sklearn-color-text);\n",
       "}\n",
       "\n",
       "#sk-container-id-2 pre {\n",
       "  padding: 0;\n",
       "}\n",
       "\n",
       "#sk-container-id-2 input.sk-hidden--visually {\n",
       "  border: 0;\n",
       "  clip: rect(1px 1px 1px 1px);\n",
       "  clip: rect(1px, 1px, 1px, 1px);\n",
       "  height: 1px;\n",
       "  margin: -1px;\n",
       "  overflow: hidden;\n",
       "  padding: 0;\n",
       "  position: absolute;\n",
       "  width: 1px;\n",
       "}\n",
       "\n",
       "#sk-container-id-2 div.sk-dashed-wrapped {\n",
       "  border: 1px dashed var(--sklearn-color-line);\n",
       "  margin: 0 0.4em 0.5em 0.4em;\n",
       "  box-sizing: border-box;\n",
       "  padding-bottom: 0.4em;\n",
       "  background-color: var(--sklearn-color-background);\n",
       "}\n",
       "\n",
       "#sk-container-id-2 div.sk-container {\n",
       "  /* jupyter's `normalize.less` sets `[hidden] { display: none; }`\n",
       "     but bootstrap.min.css set `[hidden] { display: none !important; }`\n",
       "     so we also need the `!important` here to be able to override the\n",
       "     default hidden behavior on the sphinx rendered scikit-learn.org.\n",
       "     See: https://github.com/scikit-learn/scikit-learn/issues/21755 */\n",
       "  display: inline-block !important;\n",
       "  position: relative;\n",
       "}\n",
       "\n",
       "#sk-container-id-2 div.sk-text-repr-fallback {\n",
       "  display: none;\n",
       "}\n",
       "\n",
       "div.sk-parallel-item,\n",
       "div.sk-serial,\n",
       "div.sk-item {\n",
       "  /* draw centered vertical line to link estimators */\n",
       "  background-image: linear-gradient(var(--sklearn-color-text-on-default-background), var(--sklearn-color-text-on-default-background));\n",
       "  background-size: 2px 100%;\n",
       "  background-repeat: no-repeat;\n",
       "  background-position: center center;\n",
       "}\n",
       "\n",
       "/* Parallel-specific style estimator block */\n",
       "\n",
       "#sk-container-id-2 div.sk-parallel-item::after {\n",
       "  content: \"\";\n",
       "  width: 100%;\n",
       "  border-bottom: 2px solid var(--sklearn-color-text-on-default-background);\n",
       "  flex-grow: 1;\n",
       "}\n",
       "\n",
       "#sk-container-id-2 div.sk-parallel {\n",
       "  display: flex;\n",
       "  align-items: stretch;\n",
       "  justify-content: center;\n",
       "  background-color: var(--sklearn-color-background);\n",
       "  position: relative;\n",
       "}\n",
       "\n",
       "#sk-container-id-2 div.sk-parallel-item {\n",
       "  display: flex;\n",
       "  flex-direction: column;\n",
       "}\n",
       "\n",
       "#sk-container-id-2 div.sk-parallel-item:first-child::after {\n",
       "  align-self: flex-end;\n",
       "  width: 50%;\n",
       "}\n",
       "\n",
       "#sk-container-id-2 div.sk-parallel-item:last-child::after {\n",
       "  align-self: flex-start;\n",
       "  width: 50%;\n",
       "}\n",
       "\n",
       "#sk-container-id-2 div.sk-parallel-item:only-child::after {\n",
       "  width: 0;\n",
       "}\n",
       "\n",
       "/* Serial-specific style estimator block */\n",
       "\n",
       "#sk-container-id-2 div.sk-serial {\n",
       "  display: flex;\n",
       "  flex-direction: column;\n",
       "  align-items: center;\n",
       "  background-color: var(--sklearn-color-background);\n",
       "  padding-right: 1em;\n",
       "  padding-left: 1em;\n",
       "}\n",
       "\n",
       "\n",
       "/* Toggleable style: style used for estimator/Pipeline/ColumnTransformer box that is\n",
       "clickable and can be expanded/collapsed.\n",
       "- Pipeline and ColumnTransformer use this feature and define the default style\n",
       "- Estimators will overwrite some part of the style using the `sk-estimator` class\n",
       "*/\n",
       "\n",
       "/* Pipeline and ColumnTransformer style (default) */\n",
       "\n",
       "#sk-container-id-2 div.sk-toggleable {\n",
       "  /* Default theme specific background. It is overwritten whether we have a\n",
       "  specific estimator or a Pipeline/ColumnTransformer */\n",
       "  background-color: var(--sklearn-color-background);\n",
       "}\n",
       "\n",
       "/* Toggleable label */\n",
       "#sk-container-id-2 label.sk-toggleable__label {\n",
       "  cursor: pointer;\n",
       "  display: flex;\n",
       "  width: 100%;\n",
       "  margin-bottom: 0;\n",
       "  padding: 0.5em;\n",
       "  box-sizing: border-box;\n",
       "  text-align: center;\n",
       "  align-items: start;\n",
       "  justify-content: space-between;\n",
       "  gap: 0.5em;\n",
       "}\n",
       "\n",
       "#sk-container-id-2 label.sk-toggleable__label .caption {\n",
       "  font-size: 0.6rem;\n",
       "  font-weight: lighter;\n",
       "  color: var(--sklearn-color-text-muted);\n",
       "}\n",
       "\n",
       "#sk-container-id-2 label.sk-toggleable__label-arrow:before {\n",
       "  /* Arrow on the left of the label */\n",
       "  content: \"▸\";\n",
       "  float: left;\n",
       "  margin-right: 0.25em;\n",
       "  color: var(--sklearn-color-icon);\n",
       "}\n",
       "\n",
       "#sk-container-id-2 label.sk-toggleable__label-arrow:hover:before {\n",
       "  color: var(--sklearn-color-text);\n",
       "}\n",
       "\n",
       "/* Toggleable content - dropdown */\n",
       "\n",
       "#sk-container-id-2 div.sk-toggleable__content {\n",
       "  max-height: 0;\n",
       "  max-width: 0;\n",
       "  overflow: hidden;\n",
       "  text-align: left;\n",
       "  /* unfitted */\n",
       "  background-color: var(--sklearn-color-unfitted-level-0);\n",
       "}\n",
       "\n",
       "#sk-container-id-2 div.sk-toggleable__content.fitted {\n",
       "  /* fitted */\n",
       "  background-color: var(--sklearn-color-fitted-level-0);\n",
       "}\n",
       "\n",
       "#sk-container-id-2 div.sk-toggleable__content pre {\n",
       "  margin: 0.2em;\n",
       "  border-radius: 0.25em;\n",
       "  color: var(--sklearn-color-text);\n",
       "  /* unfitted */\n",
       "  background-color: var(--sklearn-color-unfitted-level-0);\n",
       "}\n",
       "\n",
       "#sk-container-id-2 div.sk-toggleable__content.fitted pre {\n",
       "  /* unfitted */\n",
       "  background-color: var(--sklearn-color-fitted-level-0);\n",
       "}\n",
       "\n",
       "#sk-container-id-2 input.sk-toggleable__control:checked~div.sk-toggleable__content {\n",
       "  /* Expand drop-down */\n",
       "  max-height: 200px;\n",
       "  max-width: 100%;\n",
       "  overflow: auto;\n",
       "}\n",
       "\n",
       "#sk-container-id-2 input.sk-toggleable__control:checked~label.sk-toggleable__label-arrow:before {\n",
       "  content: \"▾\";\n",
       "}\n",
       "\n",
       "/* Pipeline/ColumnTransformer-specific style */\n",
       "\n",
       "#sk-container-id-2 div.sk-label input.sk-toggleable__control:checked~label.sk-toggleable__label {\n",
       "  color: var(--sklearn-color-text);\n",
       "  background-color: var(--sklearn-color-unfitted-level-2);\n",
       "}\n",
       "\n",
       "#sk-container-id-2 div.sk-label.fitted input.sk-toggleable__control:checked~label.sk-toggleable__label {\n",
       "  background-color: var(--sklearn-color-fitted-level-2);\n",
       "}\n",
       "\n",
       "/* Estimator-specific style */\n",
       "\n",
       "/* Colorize estimator box */\n",
       "#sk-container-id-2 div.sk-estimator input.sk-toggleable__control:checked~label.sk-toggleable__label {\n",
       "  /* unfitted */\n",
       "  background-color: var(--sklearn-color-unfitted-level-2);\n",
       "}\n",
       "\n",
       "#sk-container-id-2 div.sk-estimator.fitted input.sk-toggleable__control:checked~label.sk-toggleable__label {\n",
       "  /* fitted */\n",
       "  background-color: var(--sklearn-color-fitted-level-2);\n",
       "}\n",
       "\n",
       "#sk-container-id-2 div.sk-label label.sk-toggleable__label,\n",
       "#sk-container-id-2 div.sk-label label {\n",
       "  /* The background is the default theme color */\n",
       "  color: var(--sklearn-color-text-on-default-background);\n",
       "}\n",
       "\n",
       "/* On hover, darken the color of the background */\n",
       "#sk-container-id-2 div.sk-label:hover label.sk-toggleable__label {\n",
       "  color: var(--sklearn-color-text);\n",
       "  background-color: var(--sklearn-color-unfitted-level-2);\n",
       "}\n",
       "\n",
       "/* Label box, darken color on hover, fitted */\n",
       "#sk-container-id-2 div.sk-label.fitted:hover label.sk-toggleable__label.fitted {\n",
       "  color: var(--sklearn-color-text);\n",
       "  background-color: var(--sklearn-color-fitted-level-2);\n",
       "}\n",
       "\n",
       "/* Estimator label */\n",
       "\n",
       "#sk-container-id-2 div.sk-label label {\n",
       "  font-family: monospace;\n",
       "  font-weight: bold;\n",
       "  display: inline-block;\n",
       "  line-height: 1.2em;\n",
       "}\n",
       "\n",
       "#sk-container-id-2 div.sk-label-container {\n",
       "  text-align: center;\n",
       "}\n",
       "\n",
       "/* Estimator-specific */\n",
       "#sk-container-id-2 div.sk-estimator {\n",
       "  font-family: monospace;\n",
       "  border: 1px dotted var(--sklearn-color-border-box);\n",
       "  border-radius: 0.25em;\n",
       "  box-sizing: border-box;\n",
       "  margin-bottom: 0.5em;\n",
       "  /* unfitted */\n",
       "  background-color: var(--sklearn-color-unfitted-level-0);\n",
       "}\n",
       "\n",
       "#sk-container-id-2 div.sk-estimator.fitted {\n",
       "  /* fitted */\n",
       "  background-color: var(--sklearn-color-fitted-level-0);\n",
       "}\n",
       "\n",
       "/* on hover */\n",
       "#sk-container-id-2 div.sk-estimator:hover {\n",
       "  /* unfitted */\n",
       "  background-color: var(--sklearn-color-unfitted-level-2);\n",
       "}\n",
       "\n",
       "#sk-container-id-2 div.sk-estimator.fitted:hover {\n",
       "  /* fitted */\n",
       "  background-color: var(--sklearn-color-fitted-level-2);\n",
       "}\n",
       "\n",
       "/* Specification for estimator info (e.g. \"i\" and \"?\") */\n",
       "\n",
       "/* Common style for \"i\" and \"?\" */\n",
       "\n",
       ".sk-estimator-doc-link,\n",
       "a:link.sk-estimator-doc-link,\n",
       "a:visited.sk-estimator-doc-link {\n",
       "  float: right;\n",
       "  font-size: smaller;\n",
       "  line-height: 1em;\n",
       "  font-family: monospace;\n",
       "  background-color: var(--sklearn-color-background);\n",
       "  border-radius: 1em;\n",
       "  height: 1em;\n",
       "  width: 1em;\n",
       "  text-decoration: none !important;\n",
       "  margin-left: 0.5em;\n",
       "  text-align: center;\n",
       "  /* unfitted */\n",
       "  border: var(--sklearn-color-unfitted-level-1) 1pt solid;\n",
       "  color: var(--sklearn-color-unfitted-level-1);\n",
       "}\n",
       "\n",
       ".sk-estimator-doc-link.fitted,\n",
       "a:link.sk-estimator-doc-link.fitted,\n",
       "a:visited.sk-estimator-doc-link.fitted {\n",
       "  /* fitted */\n",
       "  border: var(--sklearn-color-fitted-level-1) 1pt solid;\n",
       "  color: var(--sklearn-color-fitted-level-1);\n",
       "}\n",
       "\n",
       "/* On hover */\n",
       "div.sk-estimator:hover .sk-estimator-doc-link:hover,\n",
       ".sk-estimator-doc-link:hover,\n",
       "div.sk-label-container:hover .sk-estimator-doc-link:hover,\n",
       ".sk-estimator-doc-link:hover {\n",
       "  /* unfitted */\n",
       "  background-color: var(--sklearn-color-unfitted-level-3);\n",
       "  color: var(--sklearn-color-background);\n",
       "  text-decoration: none;\n",
       "}\n",
       "\n",
       "div.sk-estimator.fitted:hover .sk-estimator-doc-link.fitted:hover,\n",
       ".sk-estimator-doc-link.fitted:hover,\n",
       "div.sk-label-container:hover .sk-estimator-doc-link.fitted:hover,\n",
       ".sk-estimator-doc-link.fitted:hover {\n",
       "  /* fitted */\n",
       "  background-color: var(--sklearn-color-fitted-level-3);\n",
       "  color: var(--sklearn-color-background);\n",
       "  text-decoration: none;\n",
       "}\n",
       "\n",
       "/* Span, style for the box shown on hovering the info icon */\n",
       ".sk-estimator-doc-link span {\n",
       "  display: none;\n",
       "  z-index: 9999;\n",
       "  position: relative;\n",
       "  font-weight: normal;\n",
       "  right: .2ex;\n",
       "  padding: .5ex;\n",
       "  margin: .5ex;\n",
       "  width: min-content;\n",
       "  min-width: 20ex;\n",
       "  max-width: 50ex;\n",
       "  color: var(--sklearn-color-text);\n",
       "  box-shadow: 2pt 2pt 4pt #999;\n",
       "  /* unfitted */\n",
       "  background: var(--sklearn-color-unfitted-level-0);\n",
       "  border: .5pt solid var(--sklearn-color-unfitted-level-3);\n",
       "}\n",
       "\n",
       ".sk-estimator-doc-link.fitted span {\n",
       "  /* fitted */\n",
       "  background: var(--sklearn-color-fitted-level-0);\n",
       "  border: var(--sklearn-color-fitted-level-3);\n",
       "}\n",
       "\n",
       ".sk-estimator-doc-link:hover span {\n",
       "  display: block;\n",
       "}\n",
       "\n",
       "/* \"?\"-specific style due to the `<a>` HTML tag */\n",
       "\n",
       "#sk-container-id-2 a.estimator_doc_link {\n",
       "  float: right;\n",
       "  font-size: 1rem;\n",
       "  line-height: 1em;\n",
       "  font-family: monospace;\n",
       "  background-color: var(--sklearn-color-background);\n",
       "  border-radius: 1rem;\n",
       "  height: 1rem;\n",
       "  width: 1rem;\n",
       "  text-decoration: none;\n",
       "  /* unfitted */\n",
       "  color: var(--sklearn-color-unfitted-level-1);\n",
       "  border: var(--sklearn-color-unfitted-level-1) 1pt solid;\n",
       "}\n",
       "\n",
       "#sk-container-id-2 a.estimator_doc_link.fitted {\n",
       "  /* fitted */\n",
       "  border: var(--sklearn-color-fitted-level-1) 1pt solid;\n",
       "  color: var(--sklearn-color-fitted-level-1);\n",
       "}\n",
       "\n",
       "/* On hover */\n",
       "#sk-container-id-2 a.estimator_doc_link:hover {\n",
       "  /* unfitted */\n",
       "  background-color: var(--sklearn-color-unfitted-level-3);\n",
       "  color: var(--sklearn-color-background);\n",
       "  text-decoration: none;\n",
       "}\n",
       "\n",
       "#sk-container-id-2 a.estimator_doc_link.fitted:hover {\n",
       "  /* fitted */\n",
       "  background-color: var(--sklearn-color-fitted-level-3);\n",
       "}\n",
       "</style><div id=\"sk-container-id-2\" class=\"sk-top-container\"><div class=\"sk-text-repr-fallback\"><pre>Pipeline(steps=[(&#x27;vect&#x27;, CountVectorizer(ngram_range=(1, 2))),\n",
       "                (&#x27;cls&#x27;, LogisticRegression(C=5.0, max_iter=10000))])</pre><b>In a Jupyter environment, please rerun this cell to show the HTML representation or trust the notebook. <br />On GitHub, the HTML representation is unable to render, please try loading this page with nbviewer.org.</b></div><div class=\"sk-container\" hidden><div class=\"sk-item sk-dashed-wrapped\"><div class=\"sk-label-container\"><div class=\"sk-label fitted sk-toggleable\"><input class=\"sk-toggleable__control sk-hidden--visually\" id=\"sk-estimator-id-5\" type=\"checkbox\" ><label for=\"sk-estimator-id-5\" class=\"sk-toggleable__label fitted sk-toggleable__label-arrow\"><div><div>Pipeline</div></div><div><a class=\"sk-estimator-doc-link fitted\" rel=\"noreferrer\" target=\"_blank\" href=\"https://scikit-learn.org/1.6/modules/generated/sklearn.pipeline.Pipeline.html\">?<span>Documentation for Pipeline</span></a><span class=\"sk-estimator-doc-link fitted\">i<span>Fitted</span></span></div></label><div class=\"sk-toggleable__content fitted\"><pre>Pipeline(steps=[(&#x27;vect&#x27;, CountVectorizer(ngram_range=(1, 2))),\n",
       "                (&#x27;cls&#x27;, LogisticRegression(C=5.0, max_iter=10000))])</pre></div> </div></div><div class=\"sk-serial\"><div class=\"sk-item\"><div class=\"sk-estimator fitted sk-toggleable\"><input class=\"sk-toggleable__control sk-hidden--visually\" id=\"sk-estimator-id-6\" type=\"checkbox\" ><label for=\"sk-estimator-id-6\" class=\"sk-toggleable__label fitted sk-toggleable__label-arrow\"><div><div>CountVectorizer</div></div><div><a class=\"sk-estimator-doc-link fitted\" rel=\"noreferrer\" target=\"_blank\" href=\"https://scikit-learn.org/1.6/modules/generated/sklearn.feature_extraction.text.CountVectorizer.html\">?<span>Documentation for CountVectorizer</span></a></div></label><div class=\"sk-toggleable__content fitted\"><pre>CountVectorizer(ngram_range=(1, 2))</pre></div> </div></div><div class=\"sk-item\"><div class=\"sk-estimator fitted sk-toggleable\"><input class=\"sk-toggleable__control sk-hidden--visually\" id=\"sk-estimator-id-7\" type=\"checkbox\" ><label for=\"sk-estimator-id-7\" class=\"sk-toggleable__label fitted sk-toggleable__label-arrow\"><div><div>LogisticRegression</div></div><div><a class=\"sk-estimator-doc-link fitted\" rel=\"noreferrer\" target=\"_blank\" href=\"https://scikit-learn.org/1.6/modules/generated/sklearn.linear_model.LogisticRegression.html\">?<span>Documentation for LogisticRegression</span></a></div></label><div class=\"sk-toggleable__content fitted\"><pre>LogisticRegression(C=5.0, max_iter=10000)</pre></div> </div></div></div></div></div></div>"
      ],
      "text/plain": [
       "Pipeline(steps=[('vect', CountVectorizer(ngram_range=(1, 2))),\n",
       "                ('cls', LogisticRegression(C=5.0, max_iter=10000))])"
      ]
     },
     "execution_count": 36,
     "metadata": {},
     "output_type": "execute_result"
    }
   ],
   "source": [
    "pipeline_importada"
   ]
  },
  {
   "cell_type": "code",
   "execution_count": 37,
   "metadata": {},
   "outputs": [
    {
     "data": {
      "text/plain": [
       "re.compile(r'(\\.)|(\\;)|(\\:)|(\\!)|(\\?)|(\\¿)|(\\@)|(\\,)|(\")|(\\()|(\\))|(\\[)|(\\])|(\\d+)',\n",
       "           re.UNICODE)"
      ]
     },
     "execution_count": 37,
     "metadata": {},
     "output_type": "execute_result"
    }
   ],
   "source": [
    "signos"
   ]
  },
  {
   "cell_type": "code",
   "execution_count": 38,
   "metadata": {},
   "outputs": [],
   "source": [
    "def signs_tweets(tweet):\n",
    "    return signos.sub('', tweet.lower())\n",
    "\n",
    "def remove_links(df):\n",
    "    return \" \".join(['{link}' if ('http') in word else word for word in df.split()])\n",
    "\n",
    "def remove_stopwords(df):\n",
    "    return \" \".join([word for word in df.split() if word not in spanish_stopwords])\n",
    "\n",
    "from nltk.stem.snowball import SnowballStemmer\n",
    "\n",
    "def spanish_stemmer(x):\n",
    "    stemmer = SnowballStemmer('spanish')\n",
    "    return \" \".join([stemmer.stem(word) for word in x.split()])"
   ]
  },
  {
   "cell_type": "markdown",
   "metadata": {},
   "source": [
    "#### Leemos el pipeline con el modelo"
   ]
  },
  {
   "cell_type": "code",
   "execution_count": 39,
   "metadata": {},
   "outputs": [],
   "source": [
    "text = pd.Series('¡Qué basura! 👌. Un script con el que he descargado todos los audios de los vídeos de mi canal de Youtube, y donde estoy generando transcripciones con el Whisper acelerado de la API de Gladia, que no corre, peor aún!')\n",
    "test_clean = pd.DataFrame(text, columns=['content'])\n",
    "\n",
    "# Signos de puntuacion\n",
    "test_clean['content_clean'] = test_clean['content'].apply(signs_tweets)\n",
    "\n",
    "# Eliminamos links\n",
    "test_clean['content_clean'] = test_clean['content_clean'].apply(remove_links)\n",
    "\n",
    "# Nos cargamos stopwords\n",
    "test_clean['content_clean'] = test_clean['content_clean'].apply(remove_stopwords)\n",
    "\n",
    "# Aplicamos el Stemmer\n",
    "test_clean['content_clean'] = test_clean['content_clean'].apply(spanish_stemmer)"
   ]
  },
  {
   "cell_type": "code",
   "execution_count": 40,
   "metadata": {},
   "outputs": [
    {
     "data": {
      "application/vnd.microsoft.datawrangler.viewer.v0+json": {
       "columns": [
        {
         "name": "index",
         "rawType": "int64",
         "type": "integer"
        },
        {
         "name": "content",
         "rawType": "object",
         "type": "string"
        },
        {
         "name": "content_clean",
         "rawType": "object",
         "type": "string"
        }
       ],
       "conversionMethod": "pd.DataFrame",
       "ref": "f1f503e3-9ce7-47b5-8e31-60a8ea5dd604",
       "rows": [
        [
         "0",
         "¡Qué basura! 👌. Un script con el que he descargado todos los audios de los vídeos de mi canal de Youtube, y donde estoy generando transcripciones con el Whisper acelerado de la API de Gladia, que no corre, peor aún!",
         "¡qu basur 👌 script descarg audi vide canal youtub gener transcripcion whisp aceler api gladi corr peor aun"
        ]
       ],
       "shape": {
        "columns": 2,
        "rows": 1
       }
      },
      "text/html": [
       "<div>\n",
       "<style scoped>\n",
       "    .dataframe tbody tr th:only-of-type {\n",
       "        vertical-align: middle;\n",
       "    }\n",
       "\n",
       "    .dataframe tbody tr th {\n",
       "        vertical-align: top;\n",
       "    }\n",
       "\n",
       "    .dataframe thead th {\n",
       "        text-align: right;\n",
       "    }\n",
       "</style>\n",
       "<table border=\"1\" class=\"dataframe\">\n",
       "  <thead>\n",
       "    <tr style=\"text-align: right;\">\n",
       "      <th></th>\n",
       "      <th>content</th>\n",
       "      <th>content_clean</th>\n",
       "    </tr>\n",
       "  </thead>\n",
       "  <tbody>\n",
       "    <tr>\n",
       "      <th>0</th>\n",
       "      <td>¡Qué basura! 👌. Un script con el que he descargado todos los audios de los vídeos de mi canal de Youtube, y donde estoy generando transcripciones con el Whisper acelerado de la API de Gladia, que no corre, peor aún!</td>\n",
       "      <td>¡qu basur 👌 script descarg audi vide canal youtub gener transcripcion whisp aceler api gladi corr peor aun</td>\n",
       "    </tr>\n",
       "  </tbody>\n",
       "</table>\n",
       "</div>"
      ],
      "text/plain": [
       "                                                                                                                                                                                                                   content  \\\n",
       "0  ¡Qué basura! 👌. Un script con el que he descargado todos los audios de los vídeos de mi canal de Youtube, y donde estoy generando transcripciones con el Whisper acelerado de la API de Gladia, que no corre, peor aún!   \n",
       "\n",
       "                                                                                                content_clean  \n",
       "0  ¡qu basur 👌 script descarg audi vide canal youtub gener transcripcion whisp aceler api gladi corr peor aun  "
      ]
     },
     "execution_count": 40,
     "metadata": {},
     "output_type": "execute_result"
    }
   ],
   "source": [
    "test_clean"
   ]
  },
  {
   "cell_type": "markdown",
   "metadata": {},
   "source": [
    "#### Predicciones de test"
   ]
  },
  {
   "cell_type": "code",
   "execution_count": 41,
   "metadata": {},
   "outputs": [
    {
     "data": {
      "text/plain": [
       "0    ¡qu basur 👌 script descarg audi vide canal youtub gener transcripcion whisp aceler api gladi corr peor aun\n",
       "Name: content_clean, dtype: object"
      ]
     },
     "execution_count": 41,
     "metadata": {},
     "output_type": "execute_result"
    }
   ],
   "source": [
    "test_clean['content_clean']"
   ]
  },
  {
   "cell_type": "code",
   "execution_count": 42,
   "metadata": {},
   "outputs": [
    {
     "data": {
      "application/vnd.microsoft.datawrangler.viewer.v0+json": {
       "columns": [
        {
         "name": "index",
         "rawType": "int64",
         "type": "integer"
        },
        {
         "name": "content",
         "rawType": "object",
         "type": "string"
        },
        {
         "name": "content_clean",
         "rawType": "object",
         "type": "string"
        },
        {
         "name": "Polarity",
         "rawType": "int64",
         "type": "integer"
        }
       ],
       "conversionMethod": "pd.DataFrame",
       "ref": "0f206bea-4bd6-4d79-8707-1f3d9d7fe117",
       "rows": [
        [
         "0",
         "¡Qué basura! 👌. Un script con el que he descargado todos los audios de los vídeos de mi canal de Youtube, y donde estoy generando transcripciones con el Whisper acelerado de la API de Gladia, que no corre, peor aún!",
         "¡qu basur 👌 script descarg audi vide canal youtub gener transcripcion whisp aceler api gladi corr peor aun",
         "1"
        ]
       ],
       "shape": {
        "columns": 3,
        "rows": 1
       }
      },
      "text/html": [
       "<div>\n",
       "<style scoped>\n",
       "    .dataframe tbody tr th:only-of-type {\n",
       "        vertical-align: middle;\n",
       "    }\n",
       "\n",
       "    .dataframe tbody tr th {\n",
       "        vertical-align: top;\n",
       "    }\n",
       "\n",
       "    .dataframe thead th {\n",
       "        text-align: right;\n",
       "    }\n",
       "</style>\n",
       "<table border=\"1\" class=\"dataframe\">\n",
       "  <thead>\n",
       "    <tr style=\"text-align: right;\">\n",
       "      <th></th>\n",
       "      <th>content</th>\n",
       "      <th>content_clean</th>\n",
       "      <th>Polarity</th>\n",
       "    </tr>\n",
       "  </thead>\n",
       "  <tbody>\n",
       "    <tr>\n",
       "      <th>0</th>\n",
       "      <td>¡Qué basura! 👌. Un script con el que he descargado todos los audios de los vídeos de mi canal de Youtube, y donde estoy generando transcripciones con el Whisper acelerado de la API de Gladia, que no corre, peor aún!</td>\n",
       "      <td>¡qu basur 👌 script descarg audi vide canal youtub gener transcripcion whisp aceler api gladi corr peor aun</td>\n",
       "      <td>1</td>\n",
       "    </tr>\n",
       "  </tbody>\n",
       "</table>\n",
       "</div>"
      ],
      "text/plain": [
       "                                                                                                                                                                                                                   content  \\\n",
       "0  ¡Qué basura! 👌. Un script con el que he descargado todos los audios de los vídeos de mi canal de Youtube, y donde estoy generando transcripciones con el Whisper acelerado de la API de Gladia, que no corre, peor aún!   \n",
       "\n",
       "                                                                                                content_clean  \\\n",
       "0  ¡qu basur 👌 script descarg audi vide canal youtub gener transcripcion whisp aceler api gladi corr peor aun   \n",
       "\n",
       "   Polarity  \n",
       "0         1  "
      ]
     },
     "execution_count": 42,
     "metadata": {},
     "output_type": "execute_result"
    }
   ],
   "source": [
    "predictions = pipeline_importada.predict(test_clean['content_clean'])\n",
    "test_clean['Polarity'] = pd.Series(predictions)\n",
    "test_clean"
   ]
  },
  {
   "cell_type": "code",
   "execution_count": 43,
   "metadata": {},
   "outputs": [
    {
     "data": {
      "application/vnd.microsoft.datawrangler.viewer.v0+json": {
       "columns": [
        {
         "name": "index",
         "rawType": "int64",
         "type": "integer"
        },
        {
         "name": "content",
         "rawType": "object",
         "type": "string"
        },
        {
         "name": "content_clean",
         "rawType": "object",
         "type": "string"
        },
        {
         "name": "Polarity",
         "rawType": "int64",
         "type": "integer"
        },
        {
         "name": "Polarity_Pos",
         "rawType": "float64",
         "type": "float"
        },
        {
         "name": "Polarity_Neg",
         "rawType": "float64",
         "type": "float"
        }
       ],
       "conversionMethod": "pd.DataFrame",
       "ref": "a4d95f1e-f436-4278-8644-7bfa589ed034",
       "rows": [
        [
         "0",
         "¡Qué basura! 👌. Un script con el que he descargado todos los audios de los vídeos de mi canal de Youtube, y donde estoy generando transcripciones con el Whisper acelerado de la API de Gladia, que no corre, peor aún!",
         "¡qu basur 👌 script descarg audi vide canal youtub gener transcripcion whisp aceler api gladi corr peor aun",
         "1",
         "0.1166822495930726",
         "0.8833177504069274"
        ]
       ],
       "shape": {
        "columns": 5,
        "rows": 1
       }
      },
      "text/html": [
       "<div>\n",
       "<style scoped>\n",
       "    .dataframe tbody tr th:only-of-type {\n",
       "        vertical-align: middle;\n",
       "    }\n",
       "\n",
       "    .dataframe tbody tr th {\n",
       "        vertical-align: top;\n",
       "    }\n",
       "\n",
       "    .dataframe thead th {\n",
       "        text-align: right;\n",
       "    }\n",
       "</style>\n",
       "<table border=\"1\" class=\"dataframe\">\n",
       "  <thead>\n",
       "    <tr style=\"text-align: right;\">\n",
       "      <th></th>\n",
       "      <th>content</th>\n",
       "      <th>content_clean</th>\n",
       "      <th>Polarity</th>\n",
       "      <th>Polarity_Pos</th>\n",
       "      <th>Polarity_Neg</th>\n",
       "    </tr>\n",
       "  </thead>\n",
       "  <tbody>\n",
       "    <tr>\n",
       "      <th>0</th>\n",
       "      <td>¡Qué basura! 👌. Un script con el que he descargado todos los audios de los vídeos de mi canal de Youtube, y donde estoy generando transcripciones con el Whisper acelerado de la API de Gladia, que no corre, peor aún!</td>\n",
       "      <td>¡qu basur 👌 script descarg audi vide canal youtub gener transcripcion whisp aceler api gladi corr peor aun</td>\n",
       "      <td>1</td>\n",
       "      <td>0.116682</td>\n",
       "      <td>0.883318</td>\n",
       "    </tr>\n",
       "  </tbody>\n",
       "</table>\n",
       "</div>"
      ],
      "text/plain": [
       "                                                                                                                                                                                                                   content  \\\n",
       "0  ¡Qué basura! 👌. Un script con el que he descargado todos los audios de los vídeos de mi canal de Youtube, y donde estoy generando transcripciones con el Whisper acelerado de la API de Gladia, que no corre, peor aún!   \n",
       "\n",
       "                                                                                                content_clean  \\\n",
       "0  ¡qu basur 👌 script descarg audi vide canal youtub gener transcripcion whisp aceler api gladi corr peor aun   \n",
       "\n",
       "   Polarity  Polarity_Pos  Polarity_Neg  \n",
       "0         1      0.116682      0.883318  "
      ]
     },
     "execution_count": 43,
     "metadata": {},
     "output_type": "execute_result"
    }
   ],
   "source": [
    "predictions = pipeline_importada.predict_proba(test_clean['content_clean'])\n",
    "test_clean['Polarity_Pos'] = pd.Series(predictions[0][0])\n",
    "test_clean['Polarity_Neg'] = pd.Series(predictions[0][1])\n",
    "test_clean"
   ]
  },
  {
   "cell_type": "code",
   "execution_count": 44,
   "metadata": {},
   "outputs": [
    {
     "data": {
      "text/plain": [
       "0    ¡qu basur 👌 script descarg audi vide canal youtub gener transcripcion whisp aceler api gladi corr peor aun\n",
       "Name: content_clean, dtype: object"
      ]
     },
     "execution_count": 44,
     "metadata": {},
     "output_type": "execute_result"
    }
   ],
   "source": [
    "test_clean['content_clean']"
   ]
  },
  {
   "cell_type": "code",
   "execution_count": 45,
   "metadata": {},
   "outputs": [
    {
     "data": {
      "application/vnd.microsoft.datawrangler.viewer.v0+json": {
       "columns": [
        {
         "name": "index",
         "rawType": "int64",
         "type": "integer"
        },
        {
         "name": "content",
         "rawType": "object",
         "type": "string"
        },
        {
         "name": "content_clean",
         "rawType": "object",
         "type": "string"
        },
        {
         "name": "Polarity",
         "rawType": "int64",
         "type": "integer"
        },
        {
         "name": "Polarity_Pos",
         "rawType": "float64",
         "type": "float"
        },
        {
         "name": "Polarity_Neg",
         "rawType": "float64",
         "type": "float"
        }
       ],
       "conversionMethod": "pd.DataFrame",
       "ref": "1b0c3d14-692f-436c-95b4-1b56cf95c8c0",
       "rows": [
        [
         "0",
         "¡Qué basura! 👌. Un script con el que he descargado todos los audios de los vídeos de mi canal de Youtube, y donde estoy generando transcripciones con el Whisper acelerado de la API de Gladia, que no corre, peor aún!",
         "¡qu basur 👌 script descarg audi vide canal youtub gener transcripcion whisp aceler api gladi corr peor aun",
         "1",
         "0.1166822495930726",
         "0.8833177504069274"
        ]
       ],
       "shape": {
        "columns": 5,
        "rows": 1
       }
      },
      "text/html": [
       "<div>\n",
       "<style scoped>\n",
       "    .dataframe tbody tr th:only-of-type {\n",
       "        vertical-align: middle;\n",
       "    }\n",
       "\n",
       "    .dataframe tbody tr th {\n",
       "        vertical-align: top;\n",
       "    }\n",
       "\n",
       "    .dataframe thead th {\n",
       "        text-align: right;\n",
       "    }\n",
       "</style>\n",
       "<table border=\"1\" class=\"dataframe\">\n",
       "  <thead>\n",
       "    <tr style=\"text-align: right;\">\n",
       "      <th></th>\n",
       "      <th>content</th>\n",
       "      <th>content_clean</th>\n",
       "      <th>Polarity</th>\n",
       "      <th>Polarity_Pos</th>\n",
       "      <th>Polarity_Neg</th>\n",
       "    </tr>\n",
       "  </thead>\n",
       "  <tbody>\n",
       "    <tr>\n",
       "      <th>0</th>\n",
       "      <td>¡Qué basura! 👌. Un script con el que he descargado todos los audios de los vídeos de mi canal de Youtube, y donde estoy generando transcripciones con el Whisper acelerado de la API de Gladia, que no corre, peor aún!</td>\n",
       "      <td>¡qu basur 👌 script descarg audi vide canal youtub gener transcripcion whisp aceler api gladi corr peor aun</td>\n",
       "      <td>1</td>\n",
       "      <td>0.116682</td>\n",
       "      <td>0.883318</td>\n",
       "    </tr>\n",
       "  </tbody>\n",
       "</table>\n",
       "</div>"
      ],
      "text/plain": [
       "                                                                                                                                                                                                                   content  \\\n",
       "0  ¡Qué basura! 👌. Un script con el que he descargado todos los audios de los vídeos de mi canal de Youtube, y donde estoy generando transcripciones con el Whisper acelerado de la API de Gladia, que no corre, peor aún!   \n",
       "\n",
       "                                                                                                content_clean  \\\n",
       "0  ¡qu basur 👌 script descarg audi vide canal youtub gener transcripcion whisp aceler api gladi corr peor aun   \n",
       "\n",
       "   Polarity  Polarity_Pos  Polarity_Neg  \n",
       "0         1      0.116682      0.883318  "
      ]
     },
     "execution_count": 45,
     "metadata": {},
     "output_type": "execute_result"
    }
   ],
   "source": [
    "test_clean"
   ]
  },
  {
   "cell_type": "code",
   "execution_count": 46,
   "metadata": {},
   "outputs": [
    {
     "data": {
      "text/plain": [
       "array([1])"
      ]
     },
     "execution_count": 46,
     "metadata": {},
     "output_type": "execute_result"
    }
   ],
   "source": [
    "pipeline_importada.predict(('El bocadillo que me comi no era una basura pero me dio buenos recuerdos',))"
   ]
  },
  {
   "cell_type": "code",
   "execution_count": 47,
   "metadata": {},
   "outputs": [
    {
     "data": {
      "text/plain": [
       "array([[0.03556297, 0.96443703]])"
      ]
     },
     "execution_count": 47,
     "metadata": {},
     "output_type": "execute_result"
    }
   ],
   "source": [
    "pipeline_importada.predict_proba(('basur basur basur basur',))"
   ]
  }
 ],
 "metadata": {
  "kernelspec": {
   "display_name": "Python 3",
   "language": "python",
   "name": "python3"
  },
  "language_info": {
   "codemirror_mode": {
    "name": "ipython",
    "version": 3
   },
   "file_extension": ".py",
   "mimetype": "text/x-python",
   "name": "python",
   "nbconvert_exporter": "python",
   "pygments_lexer": "ipython3",
   "version": "3.11.9"
  }
 },
 "nbformat": 4,
 "nbformat_minor": 4
}
