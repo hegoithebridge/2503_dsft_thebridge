{
 "cells": [
  {
   "attachments": {},
   "cell_type": "markdown",
   "metadata": {},
   "source": [
    "# Clasificador paisajes\n",
    "Para este ejercicio vas a crear un clasificador automático de paisajes. Los datos los encontrarás en el Classroom como `seg_train.zip` y `seg_test.zip`. Se pide:\n",
    "1. Cargar las imágenes. Mira cómo están almacenados los datos. Tendrás que recorrer las carpetas, cargar las imágenes en memoria y etiquetarlas con los nombres de las carpetas. Realiza un reshape de cada imagen (comienza el ejercicio con 32x32, para ir más rápido en las ejecuciones).\n",
    "2. Investiga las imágenes, comprueba con algunas muestras que has cargado bien los datos.\n",
    "3. Normaliza\n",
    "4. Diseña la arquitectura de la red. Recuerda que es un algoritmo de clasificación. Ojo con las dimensiones de la entrada\n",
    "5. Reserva un 20% de los datos del entrenamiento para validar.\n",
    "6. Representa el objeto history\n",
    "7. Evalua el modelo con los datos de test\n",
    "8. Representa algunos de los paisajes donde el modelo comete errores\n",
    "9. Crea una matriz de confusión con los errores del modelo\n",
    "\n",
    "**NOTA apartado 1**: para el apartado 1 tendras que recorre las carpetas/imagenes con `os.listdir()`, e ir cargando todas las imagenes como arrays de numpy\n",
    "\n",
    "**NOTA apartado 4**: empieza con un par de capas Conv2D + MaxPooling2D con activación relu y después la fully connected layer. on softmax como ultima capa"
   ]
  },
  {
   "cell_type": "code",
   "execution_count": 55,
   "metadata": {},
   "outputs": [],
   "source": [
    "import numpy as np\n",
    "import pandas as pd\n",
    "import matplotlib.pyplot as plt\n",
    "import seaborn as sns\n",
    "\n",
    "import os\n",
    "import cv2\n",
    "from skimage.io import imread\n",
    "\n",
    "from tensorflow import keras\n",
    "from sklearn.metrics import confusion_matrix"
   ]
  },
  {
   "cell_type": "code",
   "execution_count": 56,
   "metadata": {},
   "outputs": [
    {
     "data": {
      "text/plain": [
       "{'buildings': 0,\n",
       " 'forest': 1,\n",
       " 'glacier': 2,\n",
       " 'mountain': 3,\n",
       " 'sea': 4,\n",
       " 'street': 5}"
      ]
     },
     "execution_count": 56,
     "metadata": {},
     "output_type": "execute_result"
    }
   ],
   "source": [
    "class_names = ['buildings', 'forest', 'glacier', 'mountain', 'sea', 'street']\n",
    "class_names_label = {class_name:i for i, class_name in enumerate(class_names)}\n",
    "class_names_label"
   ]
  },
  {
   "cell_type": "code",
   "execution_count": 57,
   "metadata": {},
   "outputs": [],
   "source": [
    "ROOTPATH = 'C:\\\\Users\\\\hegoi\\\\Datasets\\\\clasificador_paisajes'"
   ]
  },
  {
   "cell_type": "code",
   "execution_count": 58,
   "metadata": {},
   "outputs": [
    {
     "data": {
      "text/plain": [
       "['seg_test', 'seg_train']"
      ]
     },
     "execution_count": 58,
     "metadata": {},
     "output_type": "execute_result"
    }
   ],
   "source": [
    "os.listdir(ROOTPATH)"
   ]
  },
  {
   "cell_type": "code",
   "execution_count": 59,
   "metadata": {},
   "outputs": [],
   "source": [
    "IMAGE_SIZE = (32,32)\n",
    "TRAIN_PATH = ROOTPATH + \"\\\\seg_train\"\n",
    "TEST_PATH = ROOTPATH + \"\\\\seg_test\""
   ]
  },
  {
   "cell_type": "code",
   "execution_count": 60,
   "metadata": {},
   "outputs": [],
   "source": [
    "def read_data(path, im_size):\n",
    "    X = []\n",
    "    y = []\n",
    "\n",
    "    for folder in os.listdir(path):\n",
    "        label = class_names_label[folder]\n",
    "        folder_path = os.path.join(path, folder)\n",
    "\n",
    "        for file in os.listdir(folder_path):\n",
    "            image_path = os.path.join(folder_path, file)\n",
    "            try:\n",
    "                image = imread(image_path)\n",
    "                smallimage = cv2.resize(image, im_size)\n",
    "                X.append(smallimage)\n",
    "                y.append(label)\n",
    "            except:\n",
    "                print(\"Error en lectura imagen\", image_path)\n",
    "\n",
    "    return np.array(X), np.array(y)\n"
   ]
  },
  {
   "cell_type": "code",
   "execution_count": 61,
   "metadata": {},
   "outputs": [
    {
     "name": "stdout",
     "output_type": "stream",
     "text": [
      "(14034, 32, 32, 3)\n",
      "(3000, 32, 32, 3)\n",
      "(14034,)\n",
      "(3000,)\n"
     ]
    }
   ],
   "source": [
    "X_train, y_train = read_data(TRAIN_PATH, IMAGE_SIZE)\n",
    "X_test, y_test = read_data(TEST_PATH, IMAGE_SIZE)\n",
    "\n",
    "print(X_train.shape)\n",
    "print(X_test.shape)\n",
    "print(y_train.shape)\n",
    "print(y_test.shape)"
   ]
  },
  {
   "cell_type": "code",
   "execution_count": 62,
   "metadata": {},
   "outputs": [
    {
     "data": {
      "text/plain": [
       "3    2512\n",
       "2    2404\n",
       "5    2382\n",
       "4    2274\n",
       "1    2271\n",
       "0    2191\n",
       "Name: count, dtype: int64"
      ]
     },
     "execution_count": 62,
     "metadata": {},
     "output_type": "execute_result"
    }
   ],
   "source": [
    "pd.Series(y_train).value_counts()"
   ]
  },
  {
   "cell_type": "code",
   "execution_count": 63,
   "metadata": {},
   "outputs": [
    {
     "data": {
      "text/plain": [
       "2    553\n",
       "3    525\n",
       "4    510\n",
       "5    501\n",
       "1    474\n",
       "0    437\n",
       "Name: count, dtype: int64"
      ]
     },
     "execution_count": 63,
     "metadata": {},
     "output_type": "execute_result"
    }
   ],
   "source": [
    "pd.Series(y_test).value_counts()"
   ]
  },
  {
   "cell_type": "code",
   "execution_count": 64,
   "metadata": {},
   "outputs": [
    {
     "data": {
      "text/plain": [
       "array([0, 0, 0, 0, 0, 0, 0, 0, 0, 0, 0, 0, 0, 0, 0, 0, 0, 0, 0, 0, 0, 0,\n",
       "       0, 0, 0, 0, 0, 0, 0, 0, 0, 0, 0, 0, 0, 0, 0, 0, 0, 0, 0, 0, 0, 0,\n",
       "       0, 0, 0, 0, 0, 0, 0, 0, 0, 0, 0, 0, 0, 0, 0, 0, 0, 0, 0, 0, 0, 0,\n",
       "       0, 0, 0, 0, 0, 0, 0, 0, 0, 0, 0, 0, 0, 0, 0, 0, 0, 0, 0, 0, 0, 0,\n",
       "       0, 0, 0, 0, 0, 0, 0, 0, 0, 0, 0, 0])"
      ]
     },
     "execution_count": 64,
     "metadata": {},
     "output_type": "execute_result"
    }
   ],
   "source": [
    "y_train[:100]"
   ]
  },
  {
   "cell_type": "code",
   "execution_count": 65,
   "metadata": {},
   "outputs": [],
   "source": [
    "from sklearn.utils import shuffle\n",
    "\n",
    "X_train, y_train = shuffle(X_train, y_train, random_state=42)\n",
    "X_test, y_test = shuffle(X_test, y_test, random_state=42)"
   ]
  },
  {
   "cell_type": "code",
   "execution_count": 66,
   "metadata": {},
   "outputs": [
    {
     "data": {
      "text/plain": [
       "array([0, 5, 5, 4, 3, 2, 3, 3, 0, 5, 0, 3, 5, 4, 2, 4, 4, 5, 1, 3, 2, 0,\n",
       "       2, 2, 5, 1, 3, 5, 0, 3, 5, 5, 5, 2, 1, 2, 5, 4, 0, 1, 5, 1, 0, 4,\n",
       "       0, 5, 1, 2, 3, 5, 4, 0, 2, 3, 5, 4, 0, 4, 1, 3, 3, 2, 4, 4, 2, 3,\n",
       "       2, 1, 5, 3, 4, 1, 5, 1, 2, 1, 2, 1, 5, 3, 4, 5, 3, 1, 2, 3, 1, 4,\n",
       "       4, 0, 3, 3, 4, 1, 5, 1, 5, 4, 1, 2])"
      ]
     },
     "execution_count": 66,
     "metadata": {},
     "output_type": "execute_result"
    }
   ],
   "source": [
    "y_train[:100]"
   ]
  },
  {
   "cell_type": "code",
   "execution_count": 67,
   "metadata": {},
   "outputs": [
    {
     "name": "stdout",
     "output_type": "stream",
     "text": [
      "glacier\n"
     ]
    },
    {
     "data": {
      "image/png": "[encoded data removed]",
      "text/plain": [
       "<Figure size 640x480 with 1 Axes>"
      ]
     },
     "metadata": {},
     "output_type": "display_data"
    }
   ],
   "source": [
    "index = np.random.randint(X_train.shape[0])\n",
    "print(class_names[y_train[index]])\n",
    "plt.imshow(X_train[index]);"
   ]
  },
  {
   "cell_type": "code",
   "execution_count": 68,
   "metadata": {},
   "outputs": [
    {
     "data": {
      "text/plain": [
       "array([[[[225, 225, 225],\n",
       "         [221, 223, 222],\n",
       "         [221, 223, 222],\n",
       "         ...,\n",
       "         [237, 237, 237],\n",
       "         [238, 238, 238],\n",
       "         [240, 240, 240]],\n",
       "\n",
       "        [[230, 230, 230],\n",
       "         [227, 227, 227],\n",
       "         [232, 232, 232],\n",
       "         ...,\n",
       "         [244, 244, 244],\n",
       "         [244, 244, 244],\n",
       "         [246, 246, 246]],\n",
       "\n",
       "        [[ 55,  55,  55],\n",
       "         [223, 223, 223],\n",
       "         [ 88,  87,  88],\n",
       "         ...,\n",
       "         [245, 245, 245],\n",
       "         [246, 246, 246],\n",
       "         [246, 246, 246]],\n",
       "\n",
       "        ...,\n",
       "\n",
       "        [[114, 112, 111],\n",
       "         [ 97,  96,  94],\n",
       "         [125, 123, 124],\n",
       "         ...,\n",
       "         [ 90,  89,  87],\n",
       "         [ 88,  87,  85],\n",
       "         [ 92,  91,  89]],\n",
       "\n",
       "        [[153, 152, 150],\n",
       "         [113, 112, 110],\n",
       "         [123, 121, 122],\n",
       "         ...,\n",
       "         [ 83,  82,  79],\n",
       "         [ 68,  67,  65],\n",
       "         [ 80,  79,  77]],\n",
       "\n",
       "        [[131, 130, 128],\n",
       "         [133, 132, 130],\n",
       "         [128, 126, 125],\n",
       "         ...,\n",
       "         [128, 127, 125],\n",
       "         [138, 138, 136],\n",
       "         [130, 128, 129]]],\n",
       "\n",
       "\n",
       "       [[[ 92, 157, 223],\n",
       "         [ 93, 158, 224],\n",
       "         [ 93, 158, 224],\n",
       "         ...,\n",
       "         [147, 143, 157],\n",
       "         [163,  93,  44],\n",
       "         [201, 162,  82]],\n",
       "\n",
       "        [[ 94, 162, 225],\n",
       "         [ 94, 162, 225],\n",
       "         [ 94, 162, 225],\n",
       "         ...,\n",
       "         [150, 150, 167],\n",
       "         [176, 116,  69],\n",
       "         [198, 149,  58]],\n",
       "\n",
       "        [[ 99, 164, 226],\n",
       "         [100, 166, 226],\n",
       "         [ 97, 165, 226],\n",
       "         ...,\n",
       "         [169, 173, 204],\n",
       "         [137,  60,  35],\n",
       "         [171, 109,  44]],\n",
       "\n",
       "        ...,\n",
       "\n",
       "        [[ 98,  99, 103],\n",
       "         [ 97,  98, 101],\n",
       "         [107, 108, 110],\n",
       "         ...,\n",
       "         [112,  96,  88],\n",
       "         [114,  99,  91],\n",
       "         [111,  97,  84]],\n",
       "\n",
       "        [[ 79,  84,  88],\n",
       "         [102, 106, 109],\n",
       "         [113, 114, 117],\n",
       "         ...,\n",
       "         [111,  96,  86],\n",
       "         [106,  92,  82],\n",
       "         [111,  94,  84]],\n",
       "\n",
       "        [[108, 112, 113],\n",
       "         [109, 113, 114],\n",
       "         [110, 111, 112],\n",
       "         ...,\n",
       "         [111,  95,  87],\n",
       "         [103,  89,  78],\n",
       "         [119, 105,  96]]],\n",
       "\n",
       "\n",
       "       [[[185, 126, 110],\n",
       "         [187, 129, 111],\n",
       "         [221, 202, 196],\n",
       "         ...,\n",
       "         [171, 221, 254],\n",
       "         [172, 221, 254],\n",
       "         [175, 221, 254]],\n",
       "\n",
       "        [[185, 124, 119],\n",
       "         [189, 131, 119],\n",
       "         [203, 159, 147],\n",
       "         ...,\n",
       "         [177, 224, 254],\n",
       "         [178, 225, 254],\n",
       "         [180, 226, 252]],\n",
       "\n",
       "        [[184, 128, 115],\n",
       "         [186, 127, 113],\n",
       "         [175, 133, 126],\n",
       "         ...,\n",
       "         [183, 229, 253],\n",
       "         [185, 231, 255],\n",
       "         [184, 231, 254]],\n",
       "\n",
       "        ...,\n",
       "\n",
       "        [[108,  78,  75],\n",
       "         [103,  73,  71],\n",
       "         [104,  74,  72],\n",
       "         ...,\n",
       "         [151, 121, 122],\n",
       "         [159, 129, 130],\n",
       "         [168, 145, 139]],\n",
       "\n",
       "        [[101,  71,  69],\n",
       "         [105,  75,  73],\n",
       "         [106,  76,  76],\n",
       "         ...,\n",
       "         [137, 113, 112],\n",
       "         [142, 117, 117],\n",
       "         [139, 119, 118]],\n",
       "\n",
       "        [[108,  78,  76],\n",
       "         [113,  81,  80],\n",
       "         [111,  78,  77],\n",
       "         ...,\n",
       "         [140, 115, 111],\n",
       "         [143, 117, 116],\n",
       "         [141, 116, 115]]],\n",
       "\n",
       "\n",
       "       ...,\n",
       "\n",
       "\n",
       "       [[[157, 165, 184],\n",
       "         [152, 163, 181],\n",
       "         [160, 168, 189],\n",
       "         ...,\n",
       "         [179, 191, 207],\n",
       "         [180, 192, 208],\n",
       "         [182, 194, 210]],\n",
       "\n",
       "        [[163, 173, 191],\n",
       "         [159, 170, 188],\n",
       "         [158, 166, 185],\n",
       "         ...,\n",
       "         [186, 198, 214],\n",
       "         [183, 195, 211],\n",
       "         [182, 195, 211]],\n",
       "\n",
       "        [[164, 176, 192],\n",
       "         [164, 176, 192],\n",
       "         [163, 174, 192],\n",
       "         ...,\n",
       "         [189, 201, 217],\n",
       "         [186, 198, 214],\n",
       "         [184, 196, 212]],\n",
       "\n",
       "        ...,\n",
       "\n",
       "        [[ 29,  71,  90],\n",
       "         [ 68, 107, 125],\n",
       "         [ 95, 129, 141],\n",
       "         ...,\n",
       "         [117, 165, 189],\n",
       "         [159, 193, 202],\n",
       "         [ 92, 134, 151]],\n",
       "\n",
       "        [[ 89, 126, 143],\n",
       "         [ 64, 109, 127],\n",
       "         [ 89, 130, 152],\n",
       "         ...,\n",
       "         [108, 155, 177],\n",
       "         [ 94, 148, 173],\n",
       "         [134, 173, 191]],\n",
       "\n",
       "        [[167, 191, 199],\n",
       "         [ 92, 130, 148],\n",
       "         [ 76, 120, 138],\n",
       "         ...,\n",
       "         [ 92, 137, 164],\n",
       "         [102, 149, 173],\n",
       "         [ 93, 139, 162]]],\n",
       "\n",
       "\n",
       "       [[[ 98, 147, 203],\n",
       "         [ 99, 146, 202],\n",
       "         [ 98, 145, 201],\n",
       "         ...,\n",
       "         [ 65, 116, 179],\n",
       "         [ 65, 116, 179],\n",
       "         [ 64, 115, 178]],\n",
       "\n",
       "        [[100, 149, 205],\n",
       "         [100, 147, 203],\n",
       "         [ 99, 146, 202],\n",
       "         ...,\n",
       "         [ 67, 118, 181],\n",
       "         [ 67, 118, 181],\n",
       "         [ 63, 117, 179]],\n",
       "\n",
       "        [[103, 150, 206],\n",
       "         [102, 149, 205],\n",
       "         [100, 147, 205],\n",
       "         ...,\n",
       "         [ 68, 119, 184],\n",
       "         [ 69, 120, 185],\n",
       "         [ 66, 120, 182]],\n",
       "\n",
       "        ...,\n",
       "\n",
       "        [[ 64,  73,  71],\n",
       "         [ 53,  63,  59],\n",
       "         [ 71,  81,  83],\n",
       "         ...,\n",
       "         [ 97, 109, 119],\n",
       "         [ 69,  72,  86],\n",
       "         [144, 141, 148]],\n",
       "\n",
       "        [[ 51,  61,  57],\n",
       "         [ 48,  52,  44],\n",
       "         [ 72,  81,  71],\n",
       "         ...,\n",
       "         [ 46,  50,  61],\n",
       "         [ 53,  54,  69],\n",
       "         [ 56,  58,  64]],\n",
       "\n",
       "        [[ 90, 103,  33],\n",
       "         [ 96, 104,  39],\n",
       "         [ 99, 108,  45],\n",
       "         ...,\n",
       "         [ 44,  53,  62],\n",
       "         [ 18,  17,  19],\n",
       "         [ 27,  26,  18]]],\n",
       "\n",
       "\n",
       "       [[[131, 161, 199],\n",
       "         [133, 161, 200],\n",
       "         [133, 161, 200],\n",
       "         ...,\n",
       "         [157, 177, 204],\n",
       "         [149, 172, 204],\n",
       "         [145, 170, 201]],\n",
       "\n",
       "        [[131, 161, 199],\n",
       "         [133, 161, 200],\n",
       "         [133, 161, 200],\n",
       "         ...,\n",
       "         [157, 176, 204],\n",
       "         [160, 179, 210],\n",
       "         [161, 179, 208]],\n",
       "\n",
       "        [[131, 161, 199],\n",
       "         [133, 161, 200],\n",
       "         [134, 162, 201],\n",
       "         ...,\n",
       "         [168, 184, 207],\n",
       "         [157, 174, 200],\n",
       "         [151, 172, 203]],\n",
       "\n",
       "        ...,\n",
       "\n",
       "        [[104, 122, 157],\n",
       "         [104, 123, 155],\n",
       "         [117, 135, 164],\n",
       "         ...,\n",
       "         [139, 148, 170],\n",
       "         [130, 136, 163],\n",
       "         [109, 120, 151]],\n",
       "\n",
       "        [[103, 119, 162],\n",
       "         [102, 120, 159],\n",
       "         [109, 125, 163],\n",
       "         ...,\n",
       "         [118, 133, 162],\n",
       "         [119, 126, 159],\n",
       "         [113, 121, 157]],\n",
       "\n",
       "        [[ 91, 105, 144],\n",
       "         [ 98, 111, 150],\n",
       "         [ 98, 112, 150],\n",
       "         ...,\n",
       "         [113, 128, 157],\n",
       "         [114, 129, 158],\n",
       "         [113, 127, 157]]]], dtype=uint8)"
      ]
     },
     "execution_count": 68,
     "metadata": {},
     "output_type": "execute_result"
    }
   ],
   "source": [
    "X_train"
   ]
  },
  {
   "cell_type": "code",
   "execution_count": 69,
   "metadata": {},
   "outputs": [
    {
     "data": {
      "text/plain": [
       "np.uint8(225)"
      ]
     },
     "execution_count": 69,
     "metadata": {},
     "output_type": "execute_result"
    }
   ],
   "source": [
    "X_train[0][0][0][0]"
   ]
  },
  {
   "cell_type": "code",
   "execution_count": 70,
   "metadata": {},
   "outputs": [
    {
     "name": "stdout",
     "output_type": "stream",
     "text": [
      "0\n",
      "255\n"
     ]
    }
   ],
   "source": [
    "print(X_train.min())\n",
    "print(X_train.max())"
   ]
  },
  {
   "cell_type": "code",
   "execution_count": 71,
   "metadata": {},
   "outputs": [],
   "source": [
    "X_train = X_train/255\n",
    "X_test = X_test/255"
   ]
  },
  {
   "cell_type": "code",
   "execution_count": 72,
   "metadata": {},
   "outputs": [
    {
     "name": "stdout",
     "output_type": "stream",
     "text": [
      "0.0\n",
      "1.0\n"
     ]
    }
   ],
   "source": [
    "print(X_train.min())\n",
    "print(X_train.max())"
   ]
  },
  {
   "cell_type": "code",
   "execution_count": 73,
   "metadata": {},
   "outputs": [
    {
     "data": {
      "text/plain": [
       "(14034, 32, 32, 3)"
      ]
     },
     "execution_count": 73,
     "metadata": {},
     "output_type": "execute_result"
    }
   ],
   "source": [
    "X_train.shape"
   ]
  },
  {
   "cell_type": "code",
   "execution_count": 74,
   "metadata": {},
   "outputs": [
    {
     "name": "stderr",
     "output_type": "stream",
     "text": [
      "C:\\Users\\hegoi\\AppData\\Roaming\\Python\\Python311\\site-packages\\keras\\src\\layers\\convolutional\\base_conv.py:107: UserWarning: Do not pass an `input_shape`/`input_dim` argument to a layer. When using Sequential models, prefer using an `Input(shape)` object as the first layer in the model instead.\n",
      "  super().__init__(activity_regularizer=activity_regularizer, **kwargs)\n"
     ]
    }
   ],
   "source": [
    "model = keras.Sequential([\n",
    "    keras.layers.Conv2D(64, (3,3), input_shape=(32,32,3)),\n",
    "    keras.layers.MaxPooling2D(2,2),\n",
    "    keras.layers.Conv2D(32, (3,3)),\n",
    "    keras.layers.MaxPooling2D(2,2),\n",
    "    keras.layers.Flatten(),\n",
    "    keras.layers.Dense(64,activation=\"relu\"),\n",
    "    keras.layers.Dense(16,activation=\"relu\"),\n",
    "    keras.layers.Dense(6, activation=\"softmax\")\n",
    "])"
   ]
  },
  {
   "cell_type": "code",
   "execution_count": 75,
   "metadata": {},
   "outputs": [
    {
     "data": {
      "text/html": [
       "<pre style=\"white-space:pre;overflow-x:auto;line-height:normal;font-family:Menlo,'DejaVu Sans Mono',consolas,'Courier New',monospace\"><span style=\"font-weight: bold\">Model: \"sequential_2\"</span>\n",
       "</pre>\n"
      ],
      "text/plain": [
       "\u001b[1mModel: \"sequential_2\"\u001b[0m\n"
      ]
     },
     "metadata": {},
     "output_type": "display_data"
    },
    {
     "data": {
      "text/html": [
       "<pre style=\"white-space:pre;overflow-x:auto;line-height:normal;font-family:Menlo,'DejaVu Sans Mono',consolas,'Courier New',monospace\">┏━━━━━━━━━━━━━━━━━━━━━━━━━━━━━━━━━┳━━━━━━━━━━━━━━━━━━━━━━━━┳━━━━━━━━━━━━━━━┓\n",
       "┃<span style=\"font-weight: bold\"> Layer (type)                    </span>┃<span style=\"font-weight: bold\"> Output Shape           </span>┃<span style=\"font-weight: bold\">       Param # </span>┃\n",
       "┡━━━━━━━━━━━━━━━━━━━━━━━━━━━━━━━━━╇━━━━━━━━━━━━━━━━━━━━━━━━╇━━━━━━━━━━━━━━━┩\n",
       "│ conv2d_4 (<span style=\"color: #0087ff; text-decoration-color: #0087ff\">Conv2D</span>)               │ (<span style=\"color: #00d7ff; text-decoration-color: #00d7ff\">None</span>, <span style=\"color: #00af00; text-decoration-color: #00af00\">30</span>, <span style=\"color: #00af00; text-decoration-color: #00af00\">30</span>, <span style=\"color: #00af00; text-decoration-color: #00af00\">64</span>)     │         <span style=\"color: #00af00; text-decoration-color: #00af00\">1,792</span> │\n",
       "├─────────────────────────────────┼────────────────────────┼───────────────┤\n",
       "│ max_pooling2d_4 (<span style=\"color: #0087ff; text-decoration-color: #0087ff\">MaxPooling2D</span>)  │ (<span style=\"color: #00d7ff; text-decoration-color: #00d7ff\">None</span>, <span style=\"color: #00af00; text-decoration-color: #00af00\">15</span>, <span style=\"color: #00af00; text-decoration-color: #00af00\">15</span>, <span style=\"color: #00af00; text-decoration-color: #00af00\">64</span>)     │             <span style=\"color: #00af00; text-decoration-color: #00af00\">0</span> │\n",
       "├─────────────────────────────────┼────────────────────────┼───────────────┤\n",
       "│ conv2d_5 (<span style=\"color: #0087ff; text-decoration-color: #0087ff\">Conv2D</span>)               │ (<span style=\"color: #00d7ff; text-decoration-color: #00d7ff\">None</span>, <span style=\"color: #00af00; text-decoration-color: #00af00\">13</span>, <span style=\"color: #00af00; text-decoration-color: #00af00\">13</span>, <span style=\"color: #00af00; text-decoration-color: #00af00\">32</span>)     │        <span style=\"color: #00af00; text-decoration-color: #00af00\">18,464</span> │\n",
       "├─────────────────────────────────┼────────────────────────┼───────────────┤\n",
       "│ max_pooling2d_5 (<span style=\"color: #0087ff; text-decoration-color: #0087ff\">MaxPooling2D</span>)  │ (<span style=\"color: #00d7ff; text-decoration-color: #00d7ff\">None</span>, <span style=\"color: #00af00; text-decoration-color: #00af00\">6</span>, <span style=\"color: #00af00; text-decoration-color: #00af00\">6</span>, <span style=\"color: #00af00; text-decoration-color: #00af00\">32</span>)       │             <span style=\"color: #00af00; text-decoration-color: #00af00\">0</span> │\n",
       "├─────────────────────────────────┼────────────────────────┼───────────────┤\n",
       "│ flatten_2 (<span style=\"color: #0087ff; text-decoration-color: #0087ff\">Flatten</span>)             │ (<span style=\"color: #00d7ff; text-decoration-color: #00d7ff\">None</span>, <span style=\"color: #00af00; text-decoration-color: #00af00\">1152</span>)           │             <span style=\"color: #00af00; text-decoration-color: #00af00\">0</span> │\n",
       "├─────────────────────────────────┼────────────────────────┼───────────────┤\n",
       "│ dense_6 (<span style=\"color: #0087ff; text-decoration-color: #0087ff\">Dense</span>)                 │ (<span style=\"color: #00d7ff; text-decoration-color: #00d7ff\">None</span>, <span style=\"color: #00af00; text-decoration-color: #00af00\">64</span>)             │        <span style=\"color: #00af00; text-decoration-color: #00af00\">73,792</span> │\n",
       "├─────────────────────────────────┼────────────────────────┼───────────────┤\n",
       "│ dense_7 (<span style=\"color: #0087ff; text-decoration-color: #0087ff\">Dense</span>)                 │ (<span style=\"color: #00d7ff; text-decoration-color: #00d7ff\">None</span>, <span style=\"color: #00af00; text-decoration-color: #00af00\">16</span>)             │         <span style=\"color: #00af00; text-decoration-color: #00af00\">1,040</span> │\n",
       "├─────────────────────────────────┼────────────────────────┼───────────────┤\n",
       "│ dense_8 (<span style=\"color: #0087ff; text-decoration-color: #0087ff\">Dense</span>)                 │ (<span style=\"color: #00d7ff; text-decoration-color: #00d7ff\">None</span>, <span style=\"color: #00af00; text-decoration-color: #00af00\">6</span>)              │           <span style=\"color: #00af00; text-decoration-color: #00af00\">102</span> │\n",
       "└─────────────────────────────────┴────────────────────────┴───────────────┘\n",
       "</pre>\n"
      ],
      "text/plain": [
       "┏━━━━━━━━━━━━━━━━━━━━━━━━━━━━━━━━━┳━━━━━━━━━━━━━━━━━━━━━━━━┳━━━━━━━━━━━━━━━┓\n",
       "┃\u001b[1m \u001b[0m\u001b[1mLayer (type)                   \u001b[0m\u001b[1m \u001b[0m┃\u001b[1m \u001b[0m\u001b[1mOutput Shape          \u001b[0m\u001b[1m \u001b[0m┃\u001b[1m \u001b[0m\u001b[1m      Param #\u001b[0m\u001b[1m \u001b[0m┃\n",
       "┡━━━━━━━━━━━━━━━━━━━━━━━━━━━━━━━━━╇━━━━━━━━━━━━━━━━━━━━━━━━╇━━━━━━━━━━━━━━━┩\n",
       "│ conv2d_4 (\u001b[38;5;33mConv2D\u001b[0m)               │ (\u001b[38;5;45mNone\u001b[0m, \u001b[38;5;34m30\u001b[0m, \u001b[38;5;34m30\u001b[0m, \u001b[38;5;34m64\u001b[0m)     │         \u001b[38;5;34m1,792\u001b[0m │\n",
       "├─────────────────────────────────┼────────────────────────┼───────────────┤\n",
       "│ max_pooling2d_4 (\u001b[38;5;33mMaxPooling2D\u001b[0m)  │ (\u001b[38;5;45mNone\u001b[0m, \u001b[38;5;34m15\u001b[0m, \u001b[38;5;34m15\u001b[0m, \u001b[38;5;34m64\u001b[0m)     │             \u001b[38;5;34m0\u001b[0m │\n",
       "├─────────────────────────────────┼────────────────────────┼───────────────┤\n",
       "│ conv2d_5 (\u001b[38;5;33mConv2D\u001b[0m)               │ (\u001b[38;5;45mNone\u001b[0m, \u001b[38;5;34m13\u001b[0m, \u001b[38;5;34m13\u001b[0m, \u001b[38;5;34m32\u001b[0m)     │        \u001b[38;5;34m18,464\u001b[0m │\n",
       "├─────────────────────────────────┼────────────────────────┼───────────────┤\n",
       "│ max_pooling2d_5 (\u001b[38;5;33mMaxPooling2D\u001b[0m)  │ (\u001b[38;5;45mNone\u001b[0m, \u001b[38;5;34m6\u001b[0m, \u001b[38;5;34m6\u001b[0m, \u001b[38;5;34m32\u001b[0m)       │             \u001b[38;5;34m0\u001b[0m │\n",
       "├─────────────────────────────────┼────────────────────────┼───────────────┤\n",
       "│ flatten_2 (\u001b[38;5;33mFlatten\u001b[0m)             │ (\u001b[38;5;45mNone\u001b[0m, \u001b[38;5;34m1152\u001b[0m)           │             \u001b[38;5;34m0\u001b[0m │\n",
       "├─────────────────────────────────┼────────────────────────┼───────────────┤\n",
       "│ dense_6 (\u001b[38;5;33mDense\u001b[0m)                 │ (\u001b[38;5;45mNone\u001b[0m, \u001b[38;5;34m64\u001b[0m)             │        \u001b[38;5;34m73,792\u001b[0m │\n",
       "├─────────────────────────────────┼────────────────────────┼───────────────┤\n",
       "│ dense_7 (\u001b[38;5;33mDense\u001b[0m)                 │ (\u001b[38;5;45mNone\u001b[0m, \u001b[38;5;34m16\u001b[0m)             │         \u001b[38;5;34m1,040\u001b[0m │\n",
       "├─────────────────────────────────┼────────────────────────┼───────────────┤\n",
       "│ dense_8 (\u001b[38;5;33mDense\u001b[0m)                 │ (\u001b[38;5;45mNone\u001b[0m, \u001b[38;5;34m6\u001b[0m)              │           \u001b[38;5;34m102\u001b[0m │\n",
       "└─────────────────────────────────┴────────────────────────┴───────────────┘\n"
      ]
     },
     "metadata": {},
     "output_type": "display_data"
    },
    {
     "data": {
      "text/html": [
       "<pre style=\"white-space:pre;overflow-x:auto;line-height:normal;font-family:Menlo,'DejaVu Sans Mono',consolas,'Courier New',monospace\"><span style=\"font-weight: bold\"> Total params: </span><span style=\"color: #00af00; text-decoration-color: #00af00\">95,190</span> (371.84 KB)\n",
       "</pre>\n"
      ],
      "text/plain": [
       "\u001b[1m Total params: \u001b[0m\u001b[38;5;34m95,190\u001b[0m (371.84 KB)\n"
      ]
     },
     "metadata": {},
     "output_type": "display_data"
    },
    {
     "data": {
      "text/html": [
       "<pre style=\"white-space:pre;overflow-x:auto;line-height:normal;font-family:Menlo,'DejaVu Sans Mono',consolas,'Courier New',monospace\"><span style=\"font-weight: bold\"> Trainable params: </span><span style=\"color: #00af00; text-decoration-color: #00af00\">95,190</span> (371.84 KB)\n",
       "</pre>\n"
      ],
      "text/plain": [
       "\u001b[1m Trainable params: \u001b[0m\u001b[38;5;34m95,190\u001b[0m (371.84 KB)\n"
      ]
     },
     "metadata": {},
     "output_type": "display_data"
    },
    {
     "data": {
      "text/html": [
       "<pre style=\"white-space:pre;overflow-x:auto;line-height:normal;font-family:Menlo,'DejaVu Sans Mono',consolas,'Courier New',monospace\"><span style=\"font-weight: bold\"> Non-trainable params: </span><span style=\"color: #00af00; text-decoration-color: #00af00\">0</span> (0.00 B)\n",
       "</pre>\n"
      ],
      "text/plain": [
       "\u001b[1m Non-trainable params: \u001b[0m\u001b[38;5;34m0\u001b[0m (0.00 B)\n"
      ]
     },
     "metadata": {},
     "output_type": "display_data"
    }
   ],
   "source": [
    "model.summary()"
   ]
  },
  {
   "cell_type": "code",
   "execution_count": 76,
   "metadata": {},
   "outputs": [
    {
     "data": {
      "text/plain": [
       "1792"
      ]
     },
     "execution_count": 76,
     "metadata": {},
     "output_type": "execute_result"
    }
   ],
   "source": [
    "64 * (3*3) * 3 + 64"
   ]
  },
  {
   "cell_type": "code",
   "execution_count": 77,
   "metadata": {},
   "outputs": [
    {
     "data": {
      "text/plain": [
       "18464"
      ]
     },
     "execution_count": 77,
     "metadata": {},
     "output_type": "execute_result"
    }
   ],
   "source": [
    "32 * (3*3) * 64 + 32"
   ]
  },
  {
   "cell_type": "code",
   "execution_count": 78,
   "metadata": {},
   "outputs": [
    {
     "data": {
      "text/plain": [
       "1152"
      ]
     },
     "execution_count": 78,
     "metadata": {},
     "output_type": "execute_result"
    }
   ],
   "source": [
    "6*6*32"
   ]
  },
  {
   "cell_type": "code",
   "execution_count": 79,
   "metadata": {},
   "outputs": [],
   "source": [
    "model.compile(optimizer=\"adam\", loss=\"sparse_categorical_crossentropy\", metrics=['accuracy'])"
   ]
  },
  {
   "cell_type": "code",
   "execution_count": 80,
   "metadata": {},
   "outputs": [
    {
     "data": {
      "text/plain": [
       "87.7125"
      ]
     },
     "execution_count": 80,
     "metadata": {},
     "output_type": "execute_result"
    }
   ],
   "source": [
    "14034 * 0.8 /128 "
   ]
  },
  {
   "cell_type": "code",
   "execution_count": 81,
   "metadata": {},
   "outputs": [
    {
     "name": "stdout",
     "output_type": "stream",
     "text": [
      "Epoch 1/20\n",
      "\u001b[1m88/88\u001b[0m \u001b[32m━━━━━━━━━━━━━━━━━━━━\u001b[0m\u001b[37m\u001b[0m \u001b[1m4s\u001b[0m 33ms/step - accuracy: 0.3407 - loss: 1.5462 - val_accuracy: 0.5486 - val_loss: 1.2112\n",
      "Epoch 2/20\n",
      "\u001b[1m88/88\u001b[0m \u001b[32m━━━━━━━━━━━━━━━━━━━━\u001b[0m\u001b[37m\u001b[0m \u001b[1m3s\u001b[0m 31ms/step - accuracy: 0.5675 - loss: 1.1461 - val_accuracy: 0.6021 - val_loss: 1.0505\n",
      "Epoch 3/20\n",
      "\u001b[1m88/88\u001b[0m \u001b[32m━━━━━━━━━━━━━━━━━━━━\u001b[0m\u001b[37m\u001b[0m \u001b[1m3s\u001b[0m 33ms/step - accuracy: 0.6381 - loss: 0.9938 - val_accuracy: 0.6630 - val_loss: 0.9008\n",
      "Epoch 4/20\n",
      "\u001b[1m88/88\u001b[0m \u001b[32m━━━━━━━━━━━━━━━━━━━━\u001b[0m\u001b[37m\u001b[0m \u001b[1m3s\u001b[0m 33ms/step - accuracy: 0.6523 - loss: 0.9346 - val_accuracy: 0.6776 - val_loss: 0.8509\n",
      "Epoch 5/20\n",
      "\u001b[1m88/88\u001b[0m \u001b[32m━━━━━━━━━━━━━━━━━━━━\u001b[0m\u001b[37m\u001b[0m \u001b[1m3s\u001b[0m 32ms/step - accuracy: 0.6950 - loss: 0.8205 - val_accuracy: 0.7047 - val_loss: 0.7908\n",
      "Epoch 6/20\n",
      "\u001b[1m88/88\u001b[0m \u001b[32m━━━━━━━━━━━━━━━━━━━━\u001b[0m\u001b[37m\u001b[0m \u001b[1m3s\u001b[0m 31ms/step - accuracy: 0.7186 - loss: 0.7665 - val_accuracy: 0.7111 - val_loss: 0.7966\n",
      "Epoch 7/20\n",
      "\u001b[1m88/88\u001b[0m \u001b[32m━━━━━━━━━━━━━━━━━━━━\u001b[0m\u001b[37m\u001b[0m \u001b[1m3s\u001b[0m 32ms/step - accuracy: 0.7414 - loss: 0.7077 - val_accuracy: 0.7161 - val_loss: 0.7575\n",
      "Epoch 8/20\n",
      "\u001b[1m88/88\u001b[0m \u001b[32m━━━━━━━━━━━━━━━━━━━━\u001b[0m\u001b[37m\u001b[0m \u001b[1m3s\u001b[0m 31ms/step - accuracy: 0.7640 - loss: 0.6526 - val_accuracy: 0.7018 - val_loss: 0.7988\n",
      "Epoch 9/20\n",
      "\u001b[1m88/88\u001b[0m \u001b[32m━━━━━━━━━━━━━━━━━━━━\u001b[0m\u001b[37m\u001b[0m \u001b[1m3s\u001b[0m 32ms/step - accuracy: 0.7738 - loss: 0.6207 - val_accuracy: 0.7349 - val_loss: 0.7307\n",
      "Epoch 10/20\n",
      "\u001b[1m88/88\u001b[0m \u001b[32m━━━━━━━━━━━━━━━━━━━━\u001b[0m\u001b[37m\u001b[0m \u001b[1m3s\u001b[0m 33ms/step - accuracy: 0.7829 - loss: 0.5944 - val_accuracy: 0.7439 - val_loss: 0.7007\n",
      "Epoch 11/20\n",
      "\u001b[1m88/88\u001b[0m \u001b[32m━━━━━━━━━━━━━━━━━━━━\u001b[0m\u001b[37m\u001b[0m \u001b[1m3s\u001b[0m 31ms/step - accuracy: 0.8102 - loss: 0.5385 - val_accuracy: 0.7353 - val_loss: 0.7141\n",
      "Epoch 12/20\n",
      "\u001b[1m88/88\u001b[0m \u001b[32m━━━━━━━━━━━━━━━━━━━━\u001b[0m\u001b[37m\u001b[0m \u001b[1m3s\u001b[0m 31ms/step - accuracy: 0.8017 - loss: 0.5493 - val_accuracy: 0.7506 - val_loss: 0.7059\n",
      "Epoch 13/20\n",
      "\u001b[1m88/88\u001b[0m \u001b[32m━━━━━━━━━━━━━━━━━━━━\u001b[0m\u001b[37m\u001b[0m \u001b[1m3s\u001b[0m 32ms/step - accuracy: 0.8226 - loss: 0.4970 - val_accuracy: 0.7417 - val_loss: 0.7131\n",
      "Epoch 14/20\n",
      "\u001b[1m88/88\u001b[0m \u001b[32m━━━━━━━━━━━━━━━━━━━━\u001b[0m\u001b[37m\u001b[0m \u001b[1m3s\u001b[0m 32ms/step - accuracy: 0.8360 - loss: 0.4650 - val_accuracy: 0.7335 - val_loss: 0.7465\n",
      "Epoch 15/20\n",
      "\u001b[1m88/88\u001b[0m \u001b[32m━━━━━━━━━━━━━━━━━━━━\u001b[0m\u001b[37m\u001b[0m \u001b[1m3s\u001b[0m 32ms/step - accuracy: 0.8431 - loss: 0.4352 - val_accuracy: 0.7553 - val_loss: 0.7075\n",
      "Epoch 16/20\n",
      "\u001b[1m88/88\u001b[0m \u001b[32m━━━━━━━━━━━━━━━━━━━━\u001b[0m\u001b[37m\u001b[0m \u001b[1m3s\u001b[0m 32ms/step - accuracy: 0.8603 - loss: 0.3982 - val_accuracy: 0.7446 - val_loss: 0.7639\n",
      "Epoch 17/20\n",
      "\u001b[1m88/88\u001b[0m \u001b[32m━━━━━━━━━━━━━━━━━━━━\u001b[0m\u001b[37m\u001b[0m \u001b[1m3s\u001b[0m 32ms/step - accuracy: 0.8766 - loss: 0.3612 - val_accuracy: 0.7478 - val_loss: 0.7508\n",
      "Epoch 18/20\n",
      "\u001b[1m88/88\u001b[0m \u001b[32m━━━━━━━━━━━━━━━━━━━━\u001b[0m\u001b[37m\u001b[0m \u001b[1m3s\u001b[0m 32ms/step - accuracy: 0.8817 - loss: 0.3456 - val_accuracy: 0.7488 - val_loss: 0.7896\n",
      "Epoch 19/20\n",
      "\u001b[1m88/88\u001b[0m \u001b[32m━━━━━━━━━━━━━━━━━━━━\u001b[0m\u001b[37m\u001b[0m \u001b[1m3s\u001b[0m 32ms/step - accuracy: 0.8902 - loss: 0.3143 - val_accuracy: 0.7399 - val_loss: 0.8162\n",
      "Epoch 20/20\n",
      "\u001b[1m88/88\u001b[0m \u001b[32m━━━━━━━━━━━━━━━━━━━━\u001b[0m\u001b[37m\u001b[0m \u001b[1m3s\u001b[0m 32ms/step - accuracy: 0.9007 - loss: 0.2885 - val_accuracy: 0.7364 - val_loss: 0.8083\n"
     ]
    }
   ],
   "source": [
    "history = model.fit(\n",
    "    X_train,\n",
    "    y_train,\n",
    "    batch_size=128,\n",
    "    epochs=20,\n",
    "    validation_split=0.2\n",
    ")"
   ]
  },
  {
   "cell_type": "code",
   "execution_count": 82,
   "metadata": {},
   "outputs": [
    {
     "data": {
      "text/plain": [
       "<matplotlib.legend.Legend at 0x20b900a1c50>"
      ]
     },
     "execution_count": 82,
     "metadata": {},
     "output_type": "execute_result"
    },
    {
     "data": {
      "image/png": "[encoded data removed]",
      "text/plain": [
       "<Figure size 640x480 with 1 Axes>"
      ]
     },
     "metadata": {},
     "output_type": "display_data"
    }
   ],
   "source": [
    "df_hist = pd.DataFrame(history.history, index=np.arange(1,21))\n",
    "plt.plot(df_hist['val_accuracy'], label=\"Val accuracy\")\n",
    "plt.plot(df_hist['accuracy'], label=\"Train accuracy\")\n",
    "plt.title(\"Training CNN\")\n",
    "plt.xlabel(\"Epochs\")\n",
    "plt.ylabel(\"Accuracy\")\n",
    "plt.xticks(range(1,21))\n",
    "plt.legend()"
   ]
  },
  {
   "cell_type": "code",
   "execution_count": 83,
   "metadata": {},
   "outputs": [
    {
     "name": "stdout",
     "output_type": "stream",
     "text": [
      "\u001b[1m94/94\u001b[0m \u001b[32m━━━━━━━━━━━━━━━━━━━━\u001b[0m\u001b[37m\u001b[0m \u001b[1m0s\u001b[0m 4ms/step - accuracy: 0.7283 - loss: 0.8866\n"
     ]
    }
   ],
   "source": [
    "results = model.evaluate(X_test, y_test)"
   ]
  },
  {
   "cell_type": "code",
   "execution_count": 84,
   "metadata": {},
   "outputs": [
    {
     "name": "stdout",
     "output_type": "stream",
     "text": [
      "\u001b[1m94/94\u001b[0m \u001b[32m━━━━━━━━━━━━━━━━━━━━\u001b[0m\u001b[37m\u001b[0m \u001b[1m0s\u001b[0m 3ms/step\n"
     ]
    },
    {
     "data": {
      "text/plain": [
       "array([[0.  , 0.01, 0.04, 0.95, 0.01, 0.  ],\n",
       "       [0.05, 0.02, 0.78, 0.04, 0.06, 0.04],\n",
       "       [0.  , 0.  , 0.04, 0.23, 0.65, 0.07],\n",
       "       ...,\n",
       "       [0.02, 0.  , 0.6 , 0.18, 0.19, 0.  ],\n",
       "       [0.  , 0.  , 0.01, 0.01, 0.98, 0.  ],\n",
       "       [0.03, 0.44, 0.02, 0.  , 0.01, 0.5 ]], dtype=float32)"
      ]
     },
     "execution_count": 84,
     "metadata": {},
     "output_type": "execute_result"
    }
   ],
   "source": [
    "y_pred = model.predict(X_test)\n",
    "y_pred.round(2)"
   ]
  },
  {
   "cell_type": "code",
   "execution_count": 85,
   "metadata": {},
   "outputs": [],
   "source": [
    "IMAGE_SIZE = (64,64)"
   ]
  },
  {
   "cell_type": "code",
   "execution_count": 86,
   "metadata": {},
   "outputs": [
    {
     "name": "stdout",
     "output_type": "stream",
     "text": [
      "(14034, 64, 64, 3)\n",
      "(3000, 64, 64, 3)\n",
      "(14034,)\n",
      "(3000,)\n"
     ]
    }
   ],
   "source": [
    "X_train, y_train = read_data(TRAIN_PATH, IMAGE_SIZE)\n",
    "X_test, y_test = read_data(TEST_PATH, IMAGE_SIZE)\n",
    "\n",
    "print(X_train.shape)\n",
    "print(X_test.shape)\n",
    "print(y_train.shape)\n",
    "print(y_test.shape)"
   ]
  },
  {
   "cell_type": "code",
   "execution_count": 87,
   "metadata": {},
   "outputs": [],
   "source": [
    "X_train, y_train = shuffle(X_train, y_train, random_state=42)\n",
    "X_test, y_test = shuffle(X_test, y_test, random_state=42)\n",
    "X_train = X_train/255\n",
    "X_test = X_test/255"
   ]
  },
  {
   "cell_type": "code",
   "execution_count": 88,
   "metadata": {},
   "outputs": [
    {
     "name": "stdout",
     "output_type": "stream",
     "text": [
      "(14034, 64, 64, 3)\n"
     ]
    }
   ],
   "source": [
    "print(X_train.shape)"
   ]
  },
  {
   "cell_type": "code",
   "execution_count": 89,
   "metadata": {},
   "outputs": [
    {
     "name": "stderr",
     "output_type": "stream",
     "text": [
      "C:\\Users\\hegoi\\AppData\\Roaming\\Python\\Python311\\site-packages\\keras\\src\\layers\\convolutional\\base_conv.py:107: UserWarning: Do not pass an `input_shape`/`input_dim` argument to a layer. When using Sequential models, prefer using an `Input(shape)` object as the first layer in the model instead.\n",
      "  super().__init__(activity_regularizer=activity_regularizer, **kwargs)\n"
     ]
    },
    {
     "name": "stdout",
     "output_type": "stream",
     "text": [
      "Epoch 1/30\n",
      "\u001b[1m176/176\u001b[0m \u001b[32m━━━━━━━━━━━━━━━━━━━━\u001b[0m\u001b[37m\u001b[0m \u001b[1m27s\u001b[0m 144ms/step - accuracy: 0.4530 - loss: 1.3610 - val_accuracy: 0.6281 - val_loss: 0.9584\n",
      "Epoch 2/30\n",
      "\u001b[1m176/176\u001b[0m \u001b[32m━━━━━━━━━━━━━━━━━━━━\u001b[0m\u001b[37m\u001b[0m \u001b[1m25s\u001b[0m 142ms/step - accuracy: 0.6512 - loss: 0.9119 - val_accuracy: 0.6744 - val_loss: 0.8505\n",
      "Epoch 3/30\n",
      "\u001b[1m176/176\u001b[0m \u001b[32m━━━━━━━━━━━━━━━━━━━━\u001b[0m\u001b[37m\u001b[0m \u001b[1m25s\u001b[0m 143ms/step - accuracy: 0.7089 - loss: 0.7719 - val_accuracy: 0.7111 - val_loss: 0.7788\n",
      "Epoch 4/30\n",
      "\u001b[1m176/176\u001b[0m \u001b[32m━━━━━━━━━━━━━━━━━━━━\u001b[0m\u001b[37m\u001b[0m \u001b[1m25s\u001b[0m 140ms/step - accuracy: 0.7469 - loss: 0.6786 - val_accuracy: 0.7282 - val_loss: 0.7539\n",
      "Epoch 5/30\n",
      "\u001b[1m176/176\u001b[0m \u001b[32m━━━━━━━━━━━━━━━━━━━━\u001b[0m\u001b[37m\u001b[0m \u001b[1m25s\u001b[0m 141ms/step - accuracy: 0.7836 - loss: 0.5895 - val_accuracy: 0.7631 - val_loss: 0.6709\n",
      "Epoch 6/30\n",
      "\u001b[1m176/176\u001b[0m \u001b[32m━━━━━━━━━━━━━━━━━━━━\u001b[0m\u001b[37m\u001b[0m \u001b[1m26s\u001b[0m 148ms/step - accuracy: 0.8196 - loss: 0.4924 - val_accuracy: 0.7435 - val_loss: 0.7182\n",
      "Epoch 7/30\n",
      "\u001b[1m176/176\u001b[0m \u001b[32m━━━━━━━━━━━━━━━━━━━━\u001b[0m\u001b[37m\u001b[0m \u001b[1m26s\u001b[0m 149ms/step - accuracy: 0.8372 - loss: 0.4385 - val_accuracy: 0.7706 - val_loss: 0.6774\n",
      "Epoch 8/30\n",
      "\u001b[1m176/176\u001b[0m \u001b[32m━━━━━━━━━━━━━━━━━━━━\u001b[0m\u001b[37m\u001b[0m \u001b[1m25s\u001b[0m 142ms/step - accuracy: 0.8819 - loss: 0.3324 - val_accuracy: 0.7535 - val_loss: 0.7353\n",
      "Epoch 9/30\n",
      "\u001b[1m176/176\u001b[0m \u001b[32m━━━━━━━━━━━━━━━━━━━━\u001b[0m\u001b[37m\u001b[0m \u001b[1m25s\u001b[0m 142ms/step - accuracy: 0.8967 - loss: 0.2937 - val_accuracy: 0.7756 - val_loss: 0.7984\n",
      "Epoch 10/30\n",
      "\u001b[1m176/176\u001b[0m \u001b[32m━━━━━━━━━━━━━━━━━━━━\u001b[0m\u001b[37m\u001b[0m \u001b[1m28s\u001b[0m 158ms/step - accuracy: 0.9089 - loss: 0.2526 - val_accuracy: 0.7642 - val_loss: 0.8392\n"
     ]
    }
   ],
   "source": [
    "model_2 = keras.Sequential([\n",
    "    keras.layers.Conv2D(64, (3,3), input_shape=(64,64,3)),\n",
    "    keras.layers.MaxPooling2D(2,2),\n",
    "    keras.layers.Conv2D(128, (3,3)),\n",
    "    keras.layers.MaxPooling2D(2,2),\n",
    "    keras.layers.Conv2D(64, (3,3)),\n",
    "    keras.layers.MaxPooling2D(2,2),\n",
    "    keras.layers.Flatten(),\n",
    "    keras.layers.Dense(64,activation=\"relu\"),\n",
    "    keras.layers.Dense(32,activation=\"relu\"),\n",
    "    keras.layers.Dense(6, activation=\"softmax\")\n",
    "])\n",
    "model_2.compile(optimizer=\"adam\", loss=\"sparse_categorical_crossentropy\", metrics=['accuracy'])\n",
    "history_2 = model_2.fit(\n",
    "    X_train,\n",
    "    y_train,\n",
    "    batch_size=64,\n",
    "    epochs=30,\n",
    "    validation_split=0.2,\n",
    "    callbacks=[keras.callbacks.EarlyStopping(patience=5)]\n",
    ")"
   ]
  },
  {
   "cell_type": "code",
   "execution_count": 90,
   "metadata": {},
   "outputs": [
    {
     "data": {
      "text/plain": [
       "<matplotlib.legend.Legend at 0x20b924299d0>"
      ]
     },
     "execution_count": 90,
     "metadata": {},
     "output_type": "execute_result"
    },
    {
     "data": {
      "image/png": "[encoded data removed]",
      "text/plain": [
       "<Figure size 640x480 with 1 Axes>"
      ]
     },
     "metadata": {},
     "output_type": "display_data"
    }
   ],
   "source": [
    "df_hist = pd.DataFrame(history_2.history, index=np.arange(1,11))\n",
    "plt.plot(df_hist['val_accuracy'], label=\"Val accuracy\")\n",
    "plt.plot(df_hist['accuracy'], label=\"Train accuracy\")\n",
    "plt.title(\"Training CNN\")\n",
    "plt.xlabel(\"Epochs\")\n",
    "plt.ylabel(\"Accuracy\")\n",
    "plt.xticks(range(1,11))\n",
    "plt.legend()"
   ]
  },
  {
   "cell_type": "code",
   "execution_count": 91,
   "metadata": {},
   "outputs": [
    {
     "name": "stdout",
     "output_type": "stream",
     "text": [
      "\u001b[1m94/94\u001b[0m \u001b[32m━━━━━━━━━━━━━━━━━━━━\u001b[0m\u001b[37m\u001b[0m \u001b[1m3s\u001b[0m 28ms/step - accuracy: 0.7690 - loss: 0.8014\n"
     ]
    }
   ],
   "source": [
    "results = model_2.evaluate(X_test, y_test)"
   ]
  },
  {
   "cell_type": "code",
   "execution_count": 92,
   "metadata": {},
   "outputs": [
    {
     "name": "stdout",
     "output_type": "stream",
     "text": [
      "\u001b[1m94/94\u001b[0m \u001b[32m━━━━━━━━━━━━━━━━━━━━\u001b[0m\u001b[37m\u001b[0m \u001b[1m3s\u001b[0m 30ms/step\n"
     ]
    },
    {
     "data": {
      "text/plain": [
       "array([[0.  , 0.  , 0.07, 0.93, 0.  , 0.  ],\n",
       "       [0.  , 0.  , 0.87, 0.01, 0.01, 0.11],\n",
       "       [0.06, 0.  , 0.01, 0.14, 0.78, 0.02],\n",
       "       ...,\n",
       "       [0.03, 0.  , 0.07, 0.85, 0.05, 0.  ],\n",
       "       [0.  , 0.  , 0.  , 0.  , 1.  , 0.  ],\n",
       "       [0.01, 0.73, 0.  , 0.  , 0.  , 0.25]], dtype=float32)"
      ]
     },
     "execution_count": 92,
     "metadata": {},
     "output_type": "execute_result"
    }
   ],
   "source": [
    "y_pred = model_2.predict(X_test)\n",
    "y_pred.round(2)"
   ]
  },
  {
   "cell_type": "code",
   "execution_count": 93,
   "metadata": {},
   "outputs": [
    {
     "name": "stdout",
     "output_type": "stream",
     "text": [
      "mountain\n"
     ]
    },
    {
     "data": {
      "text/plain": [
       "<matplotlib.image.AxesImage at 0x20ba7fcfe90>"
      ]
     },
     "execution_count": 93,
     "metadata": {},
     "output_type": "execute_result"
    },
    {
     "data": {
      "image/png": "[encoded data removed]",
      "text/plain": [
       "<Figure size 640x480 with 1 Axes>"
      ]
     },
     "metadata": {},
     "output_type": "display_data"
    }
   ],
   "source": [
    "print(class_names[y_test[0]])\n",
    "plt.imshow(X_test[0])"
   ]
  },
  {
   "cell_type": "code",
   "execution_count": 94,
   "metadata": {},
   "outputs": [
    {
     "name": "stdout",
     "output_type": "stream",
     "text": [
      "[3 2 4 ... 3 4 1]\n",
      "['mountain', 'glacier', 'sea', 'buildings', 'street', 'mountain', 'glacier', 'sea', 'buildings', 'street', 'sea', 'buildings', 'forest', 'mountain', 'street', 'forest', 'glacier', 'forest', 'street', 'street', 'buildings', 'buildings', 'glacier', 'buildings', 'glacier', 'sea', 'glacier', 'glacier', 'street', 'glacier', 'glacier', 'mountain', 'forest', 'street', 'buildings', 'buildings', 'glacier', 'mountain', 'buildings', 'street', 'buildings', 'buildings', 'buildings', 'forest', 'glacier', 'mountain', 'sea', 'buildings', 'buildings', 'glacier', 'glacier', 'forest', 'buildings', 'sea', 'buildings', 'street', 'glacier', 'forest', 'buildings', 'mountain', 'forest', 'forest', 'forest', 'buildings', 'street', 'glacier', 'glacier', 'mountain', 'mountain', 'forest', 'mountain', 'buildings', 'buildings', 'mountain', 'forest', 'forest', 'sea', 'street', 'sea', 'mountain', 'mountain', 'mountain', 'forest', 'mountain', 'buildings', 'street', 'street', 'glacier', 'mountain', 'street', 'buildings', 'glacier', 'sea', 'glacier', 'sea', 'buildings', 'street', 'sea', 'buildings', 'mountain', 'buildings', 'buildings', 'forest', 'mountain', 'mountain', 'forest', 'mountain', 'buildings', 'buildings', 'mountain', 'street', 'buildings', 'street', 'buildings', 'forest', 'sea', 'buildings', 'buildings', 'sea', 'mountain', 'street', 'glacier', 'forest', 'mountain', 'glacier', 'sea', 'sea', 'forest', 'forest', 'glacier', 'mountain', 'glacier', 'mountain', 'mountain', 'glacier', 'buildings', 'buildings', 'mountain', 'street', 'sea', 'street', 'mountain', 'glacier', 'street', 'glacier', 'forest', 'glacier', 'mountain', 'sea', 'mountain', 'mountain', 'street', 'street', 'sea', 'buildings', 'mountain', 'street', 'buildings', 'mountain', 'street', 'mountain', 'sea', 'buildings', 'forest', 'mountain', 'street', 'buildings', 'sea', 'sea', 'forest', 'street', 'street', 'mountain', 'forest', 'street', 'mountain', 'sea', 'mountain', 'forest', 'mountain', 'buildings', 'street', 'mountain', 'street', 'buildings', 'buildings', 'buildings', 'sea', 'glacier', 'glacier', 'forest', 'mountain', 'mountain', 'forest', 'glacier', 'buildings', 'buildings', 'street', 'forest', 'buildings', 'glacier', 'mountain', 'buildings', 'street', 'mountain', 'glacier', 'sea', 'sea', 'forest', 'sea', 'sea', 'mountain', 'glacier', 'sea', 'forest', 'buildings', 'buildings', 'buildings', 'mountain', 'forest', 'glacier', 'mountain', 'forest', 'street', 'street', 'forest', 'buildings', 'sea', 'street', 'street', 'glacier', 'mountain', 'street', 'buildings', 'street', 'mountain', 'forest', 'mountain', 'street', 'forest', 'sea', 'forest', 'sea', 'mountain', 'buildings', 'forest', 'glacier', 'forest', 'forest', 'street', 'glacier', 'glacier', 'buildings', 'glacier', 'street', 'street', 'mountain', 'street', 'sea', 'sea', 'mountain', 'mountain', 'buildings', 'mountain', 'forest', 'sea', 'buildings', 'street', 'street', 'forest', 'mountain', 'glacier', 'sea', 'forest', 'glacier', 'sea', 'street', 'mountain', 'glacier', 'buildings', 'mountain', 'street', 'forest', 'forest', 'mountain', 'sea', 'sea', 'street', 'buildings', 'forest', 'buildings', 'street', 'glacier', 'glacier', 'buildings', 'mountain', 'buildings', 'street', 'street', 'glacier', 'buildings', 'glacier', 'buildings', 'glacier', 'street', 'forest', 'glacier', 'mountain', 'mountain', 'buildings', 'buildings', 'forest', 'mountain', 'buildings', 'mountain', 'sea', 'forest', 'street', 'mountain', 'mountain', 'sea', 'forest', 'sea', 'sea', 'glacier', 'mountain', 'forest', 'mountain', 'street', 'sea', 'forest', 'glacier', 'mountain', 'mountain', 'glacier', 'buildings', 'mountain', 'glacier', 'sea', 'glacier', 'street', 'buildings', 'forest', 'street', 'forest', 'mountain', 'buildings', 'street', 'mountain', 'buildings', 'mountain', 'mountain', 'buildings', 'mountain', 'street', 'street', 'street', 'forest', 'street', 'mountain', 'forest', 'sea', 'mountain', 'buildings', 'forest', 'forest', 'mountain', 'sea', 'mountain', 'sea', 'buildings', 'forest', 'mountain', 'buildings', 'buildings', 'mountain', 'glacier', 'mountain', 'buildings', 'sea', 'forest', 'sea', 'buildings', 'forest', 'buildings', 'sea', 'glacier', 'forest', 'street', 'glacier', 'glacier', 'mountain', 'glacier', 'buildings', 'mountain', 'mountain', 'forest', 'forest', 'sea', 'street', 'buildings', 'buildings', 'sea', 'street', 'street', 'mountain', 'buildings', 'street', 'forest', 'sea', 'mountain', 'buildings', 'glacier', 'mountain', 'buildings', 'mountain', 'glacier', 'buildings', 'mountain', 'mountain', 'buildings', 'sea', 'glacier', 'glacier', 'forest', 'glacier', 'forest', 'forest', 'forest', 'forest', 'sea', 'street', 'street', 'glacier', 'mountain', 'glacier', 'mountain', 'mountain', 'buildings', 'glacier', 'buildings', 'mountain', 'sea', 'mountain', 'sea', 'buildings', 'sea', 'forest', 'buildings', 'street', 'street', 'glacier', 'street', 'glacier', 'mountain', 'buildings', 'sea', 'buildings', 'street', 'buildings', 'glacier', 'forest', 'mountain', 'glacier', 'glacier', 'glacier', 'forest', 'forest', 'buildings', 'mountain', 'forest', 'sea', 'sea', 'buildings', 'street', 'street', 'sea', 'street', 'glacier', 'glacier', 'glacier', 'buildings', 'sea', 'sea', 'sea', 'sea', 'buildings', 'sea', 'buildings', 'street', 'forest', 'buildings', 'street', 'buildings', 'mountain', 'forest', 'forest', 'sea', 'buildings', 'street', 'mountain', 'forest', 'glacier', 'street', 'buildings', 'glacier', 'sea', 'glacier', 'street', 'glacier', 'street', 'buildings', 'forest', 'mountain', 'forest', 'glacier', 'sea', 'forest', 'glacier', 'mountain', 'buildings', 'mountain', 'buildings', 'forest', 'glacier', 'mountain', 'street', 'sea', 'mountain', 'forest', 'sea', 'forest', 'glacier', 'buildings', 'buildings', 'sea', 'mountain', 'street', 'glacier', 'glacier', 'glacier', 'mountain', 'buildings', 'mountain', 'forest', 'glacier', 'street', 'sea', 'street', 'glacier', 'sea', 'sea', 'forest', 'mountain', 'buildings', 'sea', 'forest', 'buildings', 'buildings', 'forest', 'street', 'mountain', 'sea', 'forest', 'buildings', 'mountain', 'mountain', 'forest', 'buildings', 'sea', 'forest', 'street', 'street', 'glacier', 'glacier', 'buildings', 'forest', 'forest', 'mountain', 'buildings', 'buildings', 'buildings', 'street', 'street', 'buildings', 'mountain', 'street', 'mountain', 'forest', 'mountain', 'forest', 'buildings', 'street', 'glacier', 'mountain', 'buildings', 'sea', 'forest', 'buildings', 'glacier', 'forest', 'forest', 'buildings', 'glacier', 'sea', 'glacier', 'forest', 'mountain', 'street', 'sea', 'buildings', 'forest', 'street', 'glacier', 'mountain', 'glacier', 'mountain', 'glacier', 'buildings', 'buildings', 'street', 'buildings', 'mountain', 'mountain', 'street', 'buildings', 'forest', 'glacier', 'mountain', 'forest', 'forest', 'street', 'forest', 'sea', 'buildings', 'forest', 'street', 'forest', 'street', 'mountain', 'mountain', 'glacier', 'mountain', 'street', 'glacier', 'glacier', 'street', 'buildings', 'street', 'buildings', 'sea', 'street', 'street', 'buildings', 'buildings', 'sea', 'glacier', 'sea', 'glacier', 'street', 'forest', 'buildings', 'sea', 'forest', 'forest', 'buildings', 'street', 'forest', 'glacier', 'mountain', 'sea', 'mountain', 'forest', 'sea', 'forest', 'street', 'glacier', 'forest', 'forest', 'glacier', 'mountain', 'sea', 'street', 'glacier', 'forest', 'sea', 'glacier', 'mountain', 'mountain', 'glacier', 'sea', 'street', 'glacier', 'mountain', 'street', 'street', 'sea', 'sea', 'mountain', 'glacier', 'buildings', 'mountain', 'buildings', 'sea', 'buildings', 'mountain', 'buildings', 'buildings', 'buildings', 'street', 'mountain', 'glacier', 'forest', 'glacier', 'sea', 'glacier', 'glacier', 'glacier', 'forest', 'glacier', 'mountain', 'mountain', 'sea', 'forest', 'glacier', 'glacier', 'buildings', 'mountain', 'mountain', 'forest', 'street', 'buildings', 'buildings', 'street', 'glacier', 'street', 'buildings', 'street', 'glacier', 'street', 'forest', 'buildings', 'buildings', 'mountain', 'street', 'street', 'mountain', 'street', 'sea', 'buildings', 'street', 'buildings', 'glacier', 'buildings', 'forest', 'street', 'forest', 'forest', 'sea', 'forest', 'glacier', 'buildings', 'forest', 'sea', 'street', 'forest', 'glacier', 'street', 'street', 'sea', 'mountain', 'forest', 'sea', 'glacier', 'buildings', 'forest', 'glacier', 'buildings', 'forest', 'buildings', 'buildings', 'mountain', 'sea', 'forest', 'mountain', 'forest', 'street', 'mountain', 'sea', 'buildings', 'mountain', 'mountain', 'forest', 'forest', 'mountain', 'mountain', 'street', 'glacier', 'street', 'street', 'forest', 'buildings', 'mountain', 'buildings', 'glacier', 'sea', 'mountain', 'buildings', 'glacier', 'buildings', 'forest', 'sea', 'glacier', 'street', 'glacier', 'street', 'sea', 'buildings', 'sea', 'forest', 'sea', 'forest', 'sea', 'buildings', 'street', 'mountain', 'sea', 'sea', 'mountain', 'mountain', 'street', 'glacier', 'forest', 'glacier', 'forest', 'buildings', 'buildings', 'mountain', 'buildings', 'street', 'mountain', 'street', 'forest', 'sea', 'glacier', 'buildings', 'street', 'glacier', 'mountain', 'glacier', 'mountain', 'mountain', 'sea', 'buildings', 'glacier', 'buildings', 'mountain', 'mountain', 'sea', 'sea', 'buildings', 'forest', 'forest', 'glacier', 'forest', 'sea', 'forest', 'sea', 'street', 'street', 'forest', 'forest', 'buildings', 'sea', 'forest', 'forest', 'mountain', 'buildings', 'mountain', 'forest', 'buildings', 'mountain', 'glacier', 'mountain', 'forest', 'street', 'mountain', 'street', 'forest', 'mountain', 'sea', 'buildings', 'buildings', 'forest', 'mountain', 'sea', 'forest', 'glacier', 'buildings', 'buildings', 'forest', 'forest', 'street', 'buildings', 'mountain', 'glacier', 'forest', 'glacier', 'buildings', 'forest', 'sea', 'forest', 'glacier', 'mountain', 'street', 'glacier', 'sea', 'street', 'glacier', 'street', 'street', 'buildings', 'street', 'buildings', 'sea', 'glacier', 'sea', 'mountain', 'glacier', 'sea', 'buildings', 'glacier', 'sea', 'mountain', 'glacier', 'mountain', 'mountain', 'mountain', 'mountain', 'glacier', 'street', 'buildings', 'glacier', 'glacier', 'buildings', 'glacier', 'forest', 'forest', 'mountain', 'sea', 'mountain', 'sea', 'buildings', 'street', 'sea', 'forest', 'buildings', 'buildings', 'forest', 'street', 'mountain', 'mountain', 'forest', 'street', 'street', 'glacier', 'sea', 'forest', 'sea', 'forest', 'street', 'mountain', 'forest', 'sea', 'street', 'sea', 'sea', 'sea', 'sea', 'forest', 'forest', 'street', 'sea', 'mountain', 'sea', 'sea', 'sea', 'forest', 'forest', 'glacier', 'buildings', 'buildings', 'mountain', 'sea', 'mountain', 'forest', 'buildings', 'mountain', 'glacier', 'glacier', 'street', 'forest', 'mountain', 'buildings', 'buildings', 'sea', 'sea', 'forest', 'glacier', 'buildings', 'glacier', 'sea', 'buildings', 'mountain', 'buildings', 'mountain', 'forest', 'glacier', 'mountain', 'mountain', 'glacier', 'glacier', 'forest', 'sea', 'street', 'forest', 'glacier', 'glacier', 'forest', 'glacier', 'forest', 'buildings', 'glacier', 'buildings', 'mountain', 'mountain', 'forest', 'sea', 'glacier', 'street', 'sea', 'sea', 'street', 'forest', 'sea', 'sea', 'mountain', 'buildings', 'mountain', 'glacier', 'street', 'mountain', 'buildings', 'glacier', 'forest', 'sea', 'sea', 'sea', 'buildings', 'sea', 'sea', 'glacier', 'glacier', 'glacier', 'sea', 'mountain', 'mountain', 'street', 'street', 'sea', 'buildings', 'mountain', 'forest', 'sea', 'buildings', 'mountain', 'glacier', 'forest', 'sea', 'buildings', 'buildings', 'mountain', 'street', 'sea', 'forest', 'mountain', 'street', 'street', 'glacier', 'glacier', 'buildings', 'forest', 'mountain', 'forest', 'sea', 'sea', 'glacier', 'buildings', 'buildings', 'glacier', 'buildings', 'sea', 'sea', 'buildings', 'buildings', 'sea', 'street', 'street', 'glacier', 'mountain', 'buildings', 'buildings', 'glacier', 'mountain', 'mountain', 'street', 'glacier', 'street', 'street', 'glacier', 'mountain', 'buildings', 'street', 'buildings', 'forest', 'glacier', 'buildings', 'sea', 'buildings', 'mountain', 'sea', 'buildings', 'sea', 'forest', 'mountain', 'mountain', 'mountain', 'buildings', 'forest', 'sea', 'glacier', 'mountain', 'street', 'glacier', 'forest', 'mountain', 'street', 'mountain', 'mountain', 'mountain', 'mountain', 'sea', 'forest', 'buildings', 'mountain', 'forest', 'forest', 'sea', 'forest', 'buildings', 'buildings', 'mountain', 'buildings', 'glacier', 'glacier', 'sea', 'sea', 'buildings', 'sea', 'forest', 'street', 'buildings', 'glacier', 'sea', 'forest', 'mountain', 'mountain', 'forest', 'buildings', 'street', 'buildings', 'forest', 'forest', 'street', 'street', 'forest', 'mountain', 'forest', 'glacier', 'street', 'mountain', 'buildings', 'forest', 'mountain', 'glacier', 'street', 'street', 'forest', 'buildings', 'buildings', 'forest', 'street', 'buildings', 'forest', 'mountain', 'sea', 'glacier', 'glacier', 'buildings', 'buildings', 'forest', 'forest', 'street', 'forest', 'sea', 'buildings', 'street', 'buildings', 'street', 'glacier', 'mountain', 'mountain', 'buildings', 'sea', 'sea', 'mountain', 'street', 'forest', 'buildings', 'glacier', 'street', 'buildings', 'mountain', 'buildings', 'buildings', 'mountain', 'mountain', 'mountain', 'buildings', 'buildings', 'sea', 'street', 'sea', 'forest', 'street', 'glacier', 'buildings', 'glacier', 'mountain', 'sea', 'street', 'street', 'mountain', 'buildings', 'forest', 'glacier', 'sea', 'forest', 'glacier', 'forest', 'mountain', 'glacier', 'sea', 'buildings', 'sea', 'sea', 'forest', 'sea', 'sea', 'sea', 'street', 'street', 'buildings', 'buildings', 'mountain', 'glacier', 'buildings', 'forest', 'sea', 'mountain', 'forest', 'mountain', 'mountain', 'street', 'street', 'sea', 'glacier', 'glacier', 'street', 'forest', 'street', 'forest', 'glacier', 'forest', 'buildings', 'sea', 'street', 'buildings', 'buildings', 'buildings', 'glacier', 'forest', 'forest', 'street', 'buildings', 'glacier', 'buildings', 'forest', 'glacier', 'street', 'forest', 'sea', 'glacier', 'glacier', 'sea', 'glacier', 'sea', 'mountain', 'buildings', 'mountain', 'buildings', 'glacier', 'mountain', 'buildings', 'street', 'mountain', 'glacier', 'buildings', 'forest', 'glacier', 'buildings', 'sea', 'forest', 'buildings', 'glacier', 'sea', 'street', 'street', 'sea', 'mountain', 'street', 'forest', 'sea', 'buildings', 'buildings', 'mountain', 'forest', 'mountain', 'sea', 'buildings', 'buildings', 'glacier', 'glacier', 'street', 'forest', 'mountain', 'forest', 'forest', 'glacier', 'street', 'buildings', 'sea', 'mountain', 'street', 'mountain', 'forest', 'buildings', 'sea', 'mountain', 'mountain', 'buildings', 'mountain', 'sea', 'glacier', 'forest', 'glacier', 'street', 'street', 'glacier', 'mountain', 'mountain', 'mountain', 'forest', 'glacier', 'buildings', 'street', 'forest', 'sea', 'street', 'mountain', 'street', 'forest', 'street', 'forest', 'forest', 'glacier', 'sea', 'mountain', 'sea', 'street', 'street', 'mountain', 'buildings', 'glacier', 'buildings', 'forest', 'glacier', 'glacier', 'buildings', 'glacier', 'sea', 'buildings', 'forest', 'mountain', 'mountain', 'street', 'glacier', 'street', 'mountain', 'mountain', 'buildings', 'street', 'sea', 'street', 'glacier', 'forest', 'mountain', 'sea', 'street', 'forest', 'buildings', 'buildings', 'street', 'street', 'sea', 'sea', 'glacier', 'mountain', 'glacier', 'mountain', 'mountain', 'forest', 'street', 'buildings', 'mountain', 'sea', 'sea', 'sea', 'glacier', 'mountain', 'mountain', 'street', 'street', 'glacier', 'mountain', 'forest', 'glacier', 'glacier', 'buildings', 'sea', 'buildings', 'glacier', 'buildings', 'glacier', 'glacier', 'mountain', 'glacier', 'mountain', 'buildings', 'street', 'buildings', 'glacier', 'forest', 'mountain', 'street', 'mountain', 'forest', 'street', 'mountain', 'glacier', 'sea', 'forest', 'street', 'glacier', 'forest', 'mountain', 'forest', 'forest', 'mountain', 'mountain', 'street', 'buildings', 'forest', 'sea', 'street', 'mountain', 'buildings', 'sea', 'glacier', 'glacier', 'buildings', 'buildings', 'forest', 'forest', 'mountain', 'street', 'sea', 'mountain', 'mountain', 'sea', 'sea', 'mountain', 'sea', 'mountain', 'buildings', 'street', 'mountain', 'street', 'glacier', 'sea', 'mountain', 'sea', 'sea', 'mountain', 'mountain', 'sea', 'sea', 'sea', 'glacier', 'sea', 'glacier', 'glacier', 'street', 'mountain', 'buildings', 'forest', 'street', 'forest', 'buildings', 'buildings', 'buildings', 'buildings', 'sea', 'glacier', 'glacier', 'street', 'forest', 'street', 'buildings', 'street', 'street', 'glacier', 'buildings', 'glacier', 'sea', 'glacier', 'forest', 'forest', 'street', 'buildings', 'street', 'forest', 'street', 'street', 'sea', 'mountain', 'street', 'street', 'street', 'sea', 'buildings', 'buildings', 'forest', 'glacier', 'forest', 'buildings', 'mountain', 'buildings', 'glacier', 'mountain', 'buildings', 'buildings', 'mountain', 'street', 'glacier', 'street', 'glacier', 'mountain', 'forest', 'street', 'sea', 'sea', 'buildings', 'street', 'buildings', 'glacier', 'street', 'sea', 'glacier', 'mountain', 'glacier', 'buildings', 'forest', 'mountain', 'glacier', 'sea', 'sea', 'street', 'forest', 'mountain', 'mountain', 'buildings', 'glacier', 'sea', 'buildings', 'mountain', 'street', 'forest', 'glacier', 'forest', 'forest', 'mountain', 'forest', 'sea', 'buildings', 'street', 'forest', 'buildings', 'buildings', 'sea', 'glacier', 'mountain', 'street', 'forest', 'glacier', 'forest', 'mountain', 'street', 'sea', 'street', 'mountain', 'street', 'glacier', 'forest', 'sea', 'glacier', 'glacier', 'street', 'sea', 'street', 'glacier', 'mountain', 'buildings', 'buildings', 'mountain', 'mountain', 'street', 'street', 'mountain', 'sea', 'mountain', 'street', 'forest', 'glacier', 'glacier', 'buildings', 'sea', 'forest', 'buildings', 'mountain', 'forest', 'buildings', 'buildings', 'mountain', 'mountain', 'street', 'sea', 'glacier', 'mountain', 'buildings', 'mountain', 'sea', 'sea', 'street', 'mountain', 'buildings', 'forest', 'buildings', 'mountain', 'sea', 'street', 'street', 'forest', 'mountain', 'mountain', 'mountain', 'mountain', 'street', 'sea', 'glacier', 'sea', 'sea', 'sea', 'sea', 'buildings', 'buildings', 'forest', 'mountain', 'sea', 'mountain', 'street', 'glacier', 'sea', 'forest', 'forest', 'buildings', 'mountain', 'street', 'mountain', 'sea', 'sea', 'buildings', 'street', 'sea', 'mountain', 'mountain', 'forest', 'forest', 'mountain', 'mountain', 'sea', 'street', 'mountain', 'street', 'sea', 'forest', 'mountain', 'forest', 'street', 'glacier', 'glacier', 'forest', 'forest', 'sea', 'mountain', 'mountain', 'buildings', 'forest', 'mountain', 'glacier', 'buildings', 'sea', 'glacier', 'mountain', 'forest', 'sea', 'glacier', 'glacier', 'mountain', 'glacier', 'mountain', 'mountain', 'buildings', 'glacier', 'forest', 'mountain', 'sea', 'buildings', 'sea', 'sea', 'mountain', 'forest', 'glacier', 'buildings', 'street', 'sea', 'street', 'forest', 'mountain', 'glacier', 'sea', 'sea', 'mountain', 'buildings', 'forest', 'forest', 'glacier', 'mountain', 'glacier', 'forest', 'forest', 'street', 'buildings', 'sea', 'buildings', 'glacier', 'sea', 'forest', 'glacier', 'glacier', 'street', 'buildings', 'mountain', 'sea', 'street', 'glacier', 'forest', 'buildings', 'sea', 'glacier', 'buildings', 'glacier', 'sea', 'sea', 'sea', 'sea', 'forest', 'forest', 'glacier', 'forest', 'glacier', 'mountain', 'sea', 'forest', 'buildings', 'street', 'mountain', 'sea', 'mountain', 'sea', 'mountain', 'buildings', 'street', 'buildings', 'street', 'forest', 'buildings', 'buildings', 'glacier', 'forest', 'forest', 'forest', 'forest', 'street', 'buildings', 'buildings', 'forest', 'forest', 'mountain', 'glacier', 'glacier', 'sea', 'glacier', 'street', 'mountain', 'mountain', 'mountain', 'glacier', 'mountain', 'mountain', 'mountain', 'forest', 'street', 'sea', 'sea', 'buildings', 'buildings', 'buildings', 'forest', 'mountain', 'sea', 'street', 'forest', 'sea', 'sea', 'glacier', 'glacier', 'sea', 'mountain', 'street', 'street', 'glacier', 'street', 'mountain', 'forest', 'forest', 'mountain', 'buildings', 'sea', 'glacier', 'sea', 'buildings', 'sea', 'mountain', 'mountain', 'buildings', 'buildings', 'glacier', 'forest', 'street', 'glacier', 'glacier', 'glacier', 'forest', 'forest', 'sea', 'glacier', 'glacier', 'mountain', 'buildings', 'street', 'buildings', 'glacier', 'mountain', 'forest', 'buildings', 'glacier', 'forest', 'glacier', 'mountain', 'sea', 'buildings', 'sea', 'glacier', 'street', 'sea', 'buildings', 'forest', 'glacier', 'sea', 'glacier', 'street', 'street', 'mountain', 'buildings', 'sea', 'sea', 'glacier', 'forest', 'glacier', 'sea', 'sea', 'mountain', 'buildings', 'forest', 'forest', 'buildings', 'sea', 'buildings', 'buildings', 'buildings', 'mountain', 'mountain', 'glacier', 'glacier', 'buildings', 'street', 'street', 'sea', 'sea', 'forest', 'street', 'glacier', 'street', 'glacier', 'buildings', 'street', 'street', 'sea', 'mountain', 'street', 'mountain', 'mountain', 'street', 'buildings', 'buildings', 'mountain', 'mountain', 'glacier', 'mountain', 'street', 'glacier', 'glacier', 'street', 'sea', 'glacier', 'mountain', 'buildings', 'forest', 'mountain', 'forest', 'street', 'forest', 'mountain', 'mountain', 'glacier', 'forest', 'glacier', 'street', 'street', 'glacier', 'street', 'sea', 'sea', 'forest', 'mountain', 'glacier', 'forest', 'mountain', 'mountain', 'sea', 'street', 'glacier', 'sea', 'glacier', 'mountain', 'glacier', 'mountain', 'sea', 'sea', 'street', 'buildings', 'sea', 'sea', 'street', 'sea', 'sea', 'sea', 'buildings', 'mountain', 'mountain', 'forest', 'forest', 'buildings', 'glacier', 'street', 'glacier', 'mountain', 'buildings', 'mountain', 'buildings', 'buildings', 'sea', 'buildings', 'street', 'buildings', 'sea', 'buildings', 'forest', 'street', 'street', 'sea', 'glacier', 'forest', 'street', 'buildings', 'buildings', 'mountain', 'sea', 'mountain', 'street', 'mountain', 'mountain', 'forest', 'mountain', 'glacier', 'forest', 'glacier', 'buildings', 'glacier', 'street', 'forest', 'glacier', 'sea', 'mountain', 'sea', 'mountain', 'glacier', 'glacier', 'street', 'sea', 'forest', 'mountain', 'street', 'glacier', 'street', 'street', 'sea', 'mountain', 'forest', 'glacier', 'street', 'sea', 'mountain', 'buildings', 'buildings', 'buildings', 'sea', 'forest', 'glacier', 'mountain', 'sea', 'sea', 'glacier', 'mountain', 'sea', 'street', 'sea', 'buildings', 'mountain', 'forest', 'sea', 'street', 'mountain', 'glacier', 'street', 'mountain', 'street', 'street', 'sea', 'buildings', 'glacier', 'sea', 'glacier', 'mountain', 'glacier', 'buildings', 'sea', 'sea', 'forest', 'forest', 'sea', 'buildings', 'mountain', 'mountain', 'mountain', 'buildings', 'forest', 'buildings', 'sea', 'forest', 'buildings', 'forest', 'buildings', 'forest', 'sea', 'street', 'sea', 'sea', 'mountain', 'buildings', 'forest', 'buildings', 'mountain', 'mountain', 'mountain', 'mountain', 'buildings', 'forest', 'mountain', 'buildings', 'buildings', 'mountain', 'forest', 'mountain', 'glacier', 'glacier', 'buildings', 'mountain', 'buildings', 'sea', 'glacier', 'street', 'mountain', 'mountain', 'street', 'street', 'buildings', 'sea', 'street', 'mountain', 'mountain', 'mountain', 'glacier', 'forest', 'sea', 'mountain', 'buildings', 'sea', 'glacier', 'sea', 'buildings', 'buildings', 'street', 'sea', 'sea', 'forest', 'buildings', 'sea', 'glacier', 'sea', 'glacier', 'sea', 'sea', 'glacier', 'forest', 'mountain', 'street', 'sea', 'sea', 'mountain', 'glacier', 'mountain', 'glacier', 'glacier', 'forest', 'glacier', 'mountain', 'buildings', 'sea', 'buildings', 'forest', 'forest', 'forest', 'buildings', 'forest', 'buildings', 'street', 'glacier', 'street', 'forest', 'mountain', 'glacier', 'sea', 'buildings', 'buildings', 'buildings', 'mountain', 'mountain', 'sea', 'glacier', 'mountain', 'glacier', 'mountain', 'forest', 'buildings', 'street', 'forest', 'mountain', 'sea', 'mountain', 'street', 'forest', 'buildings', 'forest', 'mountain', 'street', 'glacier', 'buildings', 'forest', 'glacier', 'sea', 'glacier', 'forest', 'sea', 'buildings', 'mountain', 'sea', 'glacier', 'mountain', 'glacier', 'buildings', 'mountain', 'sea', 'glacier', 'sea', 'forest', 'sea', 'sea', 'forest', 'buildings', 'mountain', 'sea', 'buildings', 'buildings', 'glacier', 'sea', 'forest', 'mountain', 'sea', 'mountain', 'street', 'sea', 'street', 'sea', 'forest', 'street', 'street', 'mountain', 'forest', 'buildings', 'buildings', 'street', 'glacier', 'buildings', 'forest', 'sea', 'forest', 'forest', 'buildings', 'sea', 'mountain', 'buildings', 'mountain', 'buildings', 'forest', 'street', 'buildings', 'mountain', 'forest', 'sea', 'street', 'sea', 'mountain', 'mountain', 'buildings', 'sea', 'mountain', 'mountain', 'mountain', 'sea', 'mountain', 'forest', 'buildings', 'buildings', 'street', 'sea', 'mountain', 'street', 'forest', 'glacier', 'buildings', 'forest', 'mountain', 'sea', 'glacier', 'buildings', 'sea', 'buildings', 'mountain', 'forest', 'street', 'street', 'street', 'buildings', 'glacier', 'mountain', 'forest', 'buildings', 'glacier', 'buildings', 'mountain', 'glacier', 'sea', 'sea', 'mountain', 'mountain', 'forest', 'buildings', 'forest', 'forest', 'street', 'glacier', 'glacier', 'glacier', 'sea', 'street', 'buildings', 'glacier', 'glacier', 'glacier', 'forest', 'glacier', 'street', 'glacier', 'glacier', 'sea', 'glacier', 'street', 'glacier', 'mountain', 'glacier', 'sea', 'forest', 'glacier', 'forest', 'mountain', 'sea', 'street', 'sea', 'buildings', 'glacier', 'glacier', 'glacier', 'forest', 'glacier', 'glacier', 'forest', 'street', 'sea', 'sea', 'mountain', 'glacier', 'buildings', 'forest', 'street', 'mountain', 'street', 'forest', 'buildings', 'forest', 'buildings', 'buildings', 'street', 'forest', 'street', 'street', 'glacier', 'street', 'mountain', 'glacier', 'buildings', 'buildings', 'forest', 'sea', 'forest', 'street', 'mountain', 'glacier', 'buildings', 'sea', 'street', 'sea', 'mountain', 'sea', 'mountain', 'mountain', 'street', 'mountain', 'mountain', 'mountain', 'mountain', 'forest', 'buildings', 'forest', 'street', 'buildings', 'street', 'glacier', 'glacier', 'buildings', 'sea', 'buildings', 'glacier', 'mountain', 'glacier', 'forest', 'buildings', 'buildings', 'forest', 'buildings', 'street', 'buildings', 'buildings', 'forest', 'street', 'sea', 'buildings', 'buildings', 'glacier', 'street', 'mountain', 'forest', 'street', 'buildings', 'mountain', 'forest', 'street', 'buildings', 'mountain', 'street', 'street', 'sea', 'street', 'glacier', 'glacier', 'mountain', 'glacier', 'mountain', 'forest', 'forest', 'buildings', 'mountain', 'glacier', 'forest', 'forest', 'buildings', 'buildings', 'mountain', 'street', 'buildings', 'buildings', 'forest', 'mountain', 'buildings', 'glacier', 'forest', 'glacier', 'mountain', 'mountain', 'street', 'street', 'forest', 'mountain', 'mountain', 'buildings', 'mountain', 'forest', 'sea', 'forest', 'forest', 'buildings', 'mountain', 'buildings', 'forest', 'glacier', 'glacier', 'buildings', 'street', 'mountain', 'mountain', 'buildings', 'buildings', 'street', 'mountain', 'mountain', 'forest', 'sea', 'glacier', 'street', 'mountain', 'glacier', 'street', 'glacier', 'mountain', 'sea', 'glacier', 'mountain', 'street', 'glacier', 'sea', 'street', 'street', 'forest', 'glacier', 'forest', 'sea', 'forest', 'forest', 'forest', 'glacier', 'sea', 'forest', 'forest', 'street', 'glacier', 'sea', 'mountain', 'glacier', 'forest', 'buildings', 'forest', 'street', 'mountain', 'mountain', 'mountain', 'forest', 'street', 'forest', 'street', 'street', 'street', 'forest', 'buildings', 'street', 'buildings', 'glacier', 'forest', 'forest', 'mountain', 'mountain', 'mountain', 'mountain', 'glacier', 'sea', 'glacier', 'forest', 'forest', 'mountain', 'sea', 'sea', 'sea', 'sea', 'forest', 'buildings', 'forest', 'mountain', 'mountain', 'forest', 'glacier', 'glacier', 'street', 'sea', 'mountain', 'buildings', 'street', 'mountain', 'buildings', 'glacier', 'buildings', 'street', 'forest', 'sea', 'glacier', 'forest', 'mountain', 'forest', 'mountain', 'street', 'buildings', 'forest', 'glacier', 'street', 'mountain', 'buildings', 'forest', 'street', 'mountain', 'forest', 'street', 'mountain', 'mountain', 'buildings', 'buildings', 'sea', 'sea', 'glacier', 'street', 'buildings', 'glacier', 'glacier', 'forest', 'forest', 'sea', 'street', 'street', 'street', 'glacier', 'mountain', 'buildings', 'street', 'glacier', 'street', 'glacier', 'glacier', 'buildings', 'buildings', 'forest', 'forest', 'sea', 'street', 'mountain', 'glacier', 'sea', 'forest', 'buildings', 'glacier', 'mountain', 'sea', 'sea', 'sea', 'sea', 'mountain', 'sea', 'forest', 'glacier', 'street', 'forest', 'street', 'glacier', 'glacier', 'sea', 'street', 'buildings', 'buildings', 'mountain', 'street', 'sea', 'buildings', 'mountain', 'mountain', 'buildings', 'forest', 'mountain', 'sea', 'forest', 'buildings', 'street', 'street', 'buildings', 'buildings', 'glacier', 'forest', 'sea', 'forest', 'forest', 'glacier', 'sea', 'sea', 'sea', 'glacier', 'sea', 'mountain', 'sea', 'street', 'forest', 'sea', 'mountain', 'sea', 'forest', 'street', 'forest', 'sea', 'street', 'mountain', 'street', 'mountain', 'mountain', 'sea', 'mountain', 'street', 'mountain', 'forest', 'sea', 'street', 'street', 'mountain', 'forest', 'mountain', 'sea', 'buildings', 'mountain', 'mountain', 'mountain', 'sea', 'street', 'forest', 'buildings', 'street', 'buildings', 'sea', 'forest', 'sea', 'glacier', 'buildings', 'sea', 'buildings', 'forest', 'buildings', 'buildings', 'buildings', 'forest', 'sea', 'glacier', 'mountain', 'mountain', 'street', 'mountain', 'street', 'sea', 'sea', 'mountain', 'mountain', 'forest', 'mountain', 'sea', 'forest', 'street', 'sea', 'forest', 'mountain', 'glacier', 'mountain', 'glacier', 'mountain', 'mountain', 'sea', 'street', 'mountain', 'sea', 'forest', 'forest', 'glacier', 'buildings', 'forest', 'mountain', 'mountain', 'forest', 'sea', 'mountain', 'glacier', 'street', 'street', 'glacier', 'sea', 'glacier', 'sea', 'glacier', 'mountain', 'mountain', 'mountain', 'glacier', 'street', 'buildings', 'mountain', 'glacier', 'forest', 'buildings', 'mountain', 'street', 'street', 'buildings', 'mountain', 'mountain', 'street', 'street', 'mountain', 'forest', 'mountain', 'mountain', 'street', 'mountain', 'mountain', 'mountain', 'buildings', 'sea', 'forest', 'street', 'forest', 'mountain', 'mountain', 'glacier', 'buildings', 'street', 'buildings', 'forest', 'buildings', 'street', 'buildings', 'glacier', 'street', 'mountain', 'sea', 'glacier', 'mountain', 'mountain', 'glacier', 'street', 'sea', 'forest', 'buildings', 'sea', 'forest', 'forest', 'mountain', 'buildings', 'sea', 'sea', 'sea', 'glacier', 'street', 'sea', 'buildings', 'mountain', 'buildings', 'sea', 'mountain', 'glacier', 'glacier', 'buildings', 'sea', 'glacier', 'glacier', 'street', 'buildings', 'glacier', 'glacier', 'forest', 'street', 'sea', 'forest', 'buildings', 'forest', 'mountain', 'forest', 'buildings', 'street', 'sea', 'glacier', 'glacier', 'forest', 'forest', 'sea', 'glacier', 'mountain', 'buildings', 'buildings', 'mountain', 'street', 'sea', 'sea', 'mountain', 'sea', 'street', 'glacier', 'mountain', 'glacier', 'glacier', 'street', 'forest', 'buildings', 'glacier', 'glacier', 'sea', 'glacier', 'street', 'forest', 'sea', 'buildings', 'glacier', 'sea', 'forest', 'sea', 'mountain', 'mountain', 'forest', 'buildings', 'forest', 'mountain', 'buildings', 'glacier', 'mountain', 'forest', 'street', 'buildings', 'mountain', 'glacier', 'street', 'sea', 'street', 'glacier', 'forest', 'forest', 'forest', 'sea', 'buildings', 'forest', 'glacier', 'mountain', 'glacier', 'glacier', 'sea', 'buildings', 'buildings', 'mountain', 'forest', 'mountain', 'buildings', 'street', 'mountain', 'buildings', 'buildings', 'glacier', 'forest', 'sea', 'mountain', 'glacier', 'mountain', 'sea', 'forest']\n"
     ]
    }
   ],
   "source": [
    "pred_labels = np.argmax(y_pred, axis=1)\n",
    "print(pred_labels)\n",
    "pred_names = [class_names[pred] for pred in pred_labels]\n",
    "print(pred_names)"
   ]
  },
  {
   "cell_type": "code",
   "execution_count": 95,
   "metadata": {},
   "outputs": [
    {
     "data": {
      "text/plain": [
       "<Axes: >"
      ]
     },
     "execution_count": 95,
     "metadata": {},
     "output_type": "execute_result"
    },
    {
     "data": {
      "image/png": "[encoded data removed]",
      "text/plain": [
       "<Figure size 640x480 with 2 Axes>"
      ]
     },
     "metadata": {},
     "output_type": "display_data"
    }
   ],
   "source": [
    "c_mat = confusion_matrix(y_test, pred_labels, normalize='true')\n",
    "sns.heatmap(c_mat, annot=True, xticklabels=class_names, yticklabels=class_names)"
   ]
  },
  {
   "cell_type": "code",
   "execution_count": 96,
   "metadata": {},
   "outputs": [
    {
     "name": "stdout",
     "output_type": "stream",
     "text": [
      "              precision    recall  f1-score   support\n",
      "\n",
      "           0       0.68      0.81      0.74       437\n",
      "           1       0.90      0.93      0.91       474\n",
      "           2       0.76      0.66      0.71       553\n",
      "           3       0.69      0.76      0.73       525\n",
      "           4       0.77      0.72      0.74       510\n",
      "           5       0.84      0.76      0.80       501\n",
      "\n",
      "    accuracy                           0.77      3000\n",
      "   macro avg       0.77      0.77      0.77      3000\n",
      "weighted avg       0.77      0.77      0.77      3000\n",
      "\n"
     ]
    }
   ],
   "source": [
    "from sklearn.metrics import classification_report\n",
    "\n",
    "print(classification_report(y_test, pred_labels))"
   ]
  },
  {
   "cell_type": "code",
   "execution_count": 97,
   "metadata": {},
   "outputs": [
    {
     "name": "stderr",
     "output_type": "stream",
     "text": [
      "C:\\Users\\hegoi\\AppData\\Roaming\\Python\\Python311\\site-packages\\keras\\src\\layers\\convolutional\\base_conv.py:107: UserWarning: Do not pass an `input_shape`/`input_dim` argument to a layer. When using Sequential models, prefer using an `Input(shape)` object as the first layer in the model instead.\n",
      "  super().__init__(activity_regularizer=activity_regularizer, **kwargs)\n"
     ]
    },
    {
     "name": "stdout",
     "output_type": "stream",
     "text": [
      "Epoch 1/30\n",
      "\u001b[1m88/88\u001b[0m \u001b[32m━━━━━━━━━━━━━━━━━━━━\u001b[0m\u001b[37m\u001b[0m \u001b[1m8s\u001b[0m 75ms/step - accuracy: 0.4089 - loss: 1.4603 - val_accuracy: 0.5451 - val_loss: 1.1755\n",
      "Epoch 2/30\n",
      "\u001b[1m88/88\u001b[0m \u001b[32m━━━━━━━━━━━━━━━━━━━━\u001b[0m\u001b[37m\u001b[0m \u001b[1m6s\u001b[0m 72ms/step - accuracy: 0.6079 - loss: 1.0428 - val_accuracy: 0.6106 - val_loss: 1.0389\n",
      "Epoch 3/30\n",
      "\u001b[1m88/88\u001b[0m \u001b[32m━━━━━━━━━━━━━━━━━━━━\u001b[0m\u001b[37m\u001b[0m \u001b[1m6s\u001b[0m 71ms/step - accuracy: 0.6467 - loss: 0.9587 - val_accuracy: 0.6356 - val_loss: 0.9719\n",
      "Epoch 4/30\n",
      "\u001b[1m88/88\u001b[0m \u001b[32m━━━━━━━━━━━━━━━━━━━━\u001b[0m\u001b[37m\u001b[0m \u001b[1m6s\u001b[0m 71ms/step - accuracy: 0.6753 - loss: 0.8762 - val_accuracy: 0.6160 - val_loss: 0.9916\n",
      "Epoch 5/30\n",
      "\u001b[1m88/88\u001b[0m \u001b[32m━━━━━━━━━━━━━━━━━━━━\u001b[0m\u001b[37m\u001b[0m \u001b[1m6s\u001b[0m 72ms/step - accuracy: 0.6939 - loss: 0.8293 - val_accuracy: 0.6869 - val_loss: 0.8306\n",
      "Epoch 6/30\n",
      "\u001b[1m88/88\u001b[0m \u001b[32m━━━━━━━━━━━━━━━━━━━━\u001b[0m\u001b[37m\u001b[0m \u001b[1m6s\u001b[0m 72ms/step - accuracy: 0.7225 - loss: 0.7501 - val_accuracy: 0.7211 - val_loss: 0.7726\n",
      "Epoch 7/30\n",
      "\u001b[1m88/88\u001b[0m \u001b[32m━━━━━━━━━━━━━━━━━━━━\u001b[0m\u001b[37m\u001b[0m \u001b[1m6s\u001b[0m 71ms/step - accuracy: 0.7498 - loss: 0.6905 - val_accuracy: 0.7275 - val_loss: 0.7582\n",
      "Epoch 8/30\n",
      "\u001b[1m88/88\u001b[0m \u001b[32m━━━━━━━━━━━━━━━━━━━━\u001b[0m\u001b[37m\u001b[0m \u001b[1m6s\u001b[0m 70ms/step - accuracy: 0.7666 - loss: 0.6587 - val_accuracy: 0.7257 - val_loss: 0.7559\n",
      "Epoch 9/30\n",
      "\u001b[1m88/88\u001b[0m \u001b[32m━━━━━━━━━━━━━━━━━━━━\u001b[0m\u001b[37m\u001b[0m \u001b[1m6s\u001b[0m 71ms/step - accuracy: 0.7893 - loss: 0.5939 - val_accuracy: 0.7496 - val_loss: 0.6821\n",
      "Epoch 10/30\n",
      "\u001b[1m88/88\u001b[0m \u001b[32m━━━━━━━━━━━━━━━━━━━━\u001b[0m\u001b[37m\u001b[0m \u001b[1m6s\u001b[0m 71ms/step - accuracy: 0.7852 - loss: 0.6025 - val_accuracy: 0.7510 - val_loss: 0.7053\n",
      "Epoch 11/30\n",
      "\u001b[1m88/88\u001b[0m \u001b[32m━━━━━━━━━━━━━━━━━━━━\u001b[0m\u001b[37m\u001b[0m \u001b[1m6s\u001b[0m 72ms/step - accuracy: 0.8085 - loss: 0.5287 - val_accuracy: 0.7239 - val_loss: 0.8146\n",
      "Epoch 12/30\n",
      "\u001b[1m88/88\u001b[0m \u001b[32m━━━━━━━━━━━━━━━━━━━━\u001b[0m\u001b[37m\u001b[0m \u001b[1m6s\u001b[0m 71ms/step - accuracy: 0.8107 - loss: 0.5239 - val_accuracy: 0.7528 - val_loss: 0.7012\n",
      "Epoch 13/30\n",
      "\u001b[1m88/88\u001b[0m \u001b[32m━━━━━━━━━━━━━━━━━━━━\u001b[0m\u001b[37m\u001b[0m \u001b[1m6s\u001b[0m 71ms/step - accuracy: 0.8348 - loss: 0.4769 - val_accuracy: 0.7610 - val_loss: 0.6774\n",
      "Epoch 14/30\n",
      "\u001b[1m88/88\u001b[0m \u001b[32m━━━━━━━━━━━━━━━━━━━━\u001b[0m\u001b[37m\u001b[0m \u001b[1m6s\u001b[0m 71ms/step - accuracy: 0.8380 - loss: 0.4546 - val_accuracy: 0.7617 - val_loss: 0.6849\n",
      "Epoch 15/30\n",
      "\u001b[1m88/88\u001b[0m \u001b[32m━━━━━━━━━━━━━━━━━━━━\u001b[0m\u001b[37m\u001b[0m \u001b[1m6s\u001b[0m 73ms/step - accuracy: 0.8534 - loss: 0.4104 - val_accuracy: 0.7314 - val_loss: 0.7957\n",
      "Epoch 16/30\n",
      "\u001b[1m88/88\u001b[0m \u001b[32m━━━━━━━━━━━━━━━━━━━━\u001b[0m\u001b[37m\u001b[0m \u001b[1m6s\u001b[0m 73ms/step - accuracy: 0.8600 - loss: 0.3937 - val_accuracy: 0.7471 - val_loss: 0.7434\n",
      "Epoch 17/30\n",
      "\u001b[1m88/88\u001b[0m \u001b[32m━━━━━━━━━━━━━━━━━━━━\u001b[0m\u001b[37m\u001b[0m \u001b[1m6s\u001b[0m 72ms/step - accuracy: 0.8536 - loss: 0.4243 - val_accuracy: 0.7289 - val_loss: 0.8076\n",
      "Epoch 18/30\n",
      "\u001b[1m88/88\u001b[0m \u001b[32m━━━━━━━━━━━━━━━━━━━━\u001b[0m\u001b[37m\u001b[0m \u001b[1m6s\u001b[0m 73ms/step - accuracy: 0.8676 - loss: 0.3813 - val_accuracy: 0.7691 - val_loss: 0.7371\n"
     ]
    }
   ],
   "source": [
    "model_3 = keras.Sequential([\n",
    "    keras.layers.Conv2D(32, (3,3), input_shape=(64,64,3)),\n",
    "    keras.layers.MaxPooling2D(2,2),\n",
    "    keras.layers.Dropout(0.25),\n",
    "    keras.layers.Conv2D(16, (3,3)),\n",
    "    keras.layers.MaxPooling2D(2,2),\n",
    "    keras.layers.Dropout(0.25),\n",
    "    keras.layers.Flatten(),\n",
    "    keras.layers.Dense(32,activation=\"relu\"),\n",
    "    keras.layers.Dense(16,activation=\"relu\"),\n",
    "    keras.layers.Dense(6, activation=\"softmax\")\n",
    "])\n",
    "model_3.compile(optimizer=\"adam\", loss=\"sparse_categorical_crossentropy\", metrics=['accuracy'])\n",
    "history_3 = model_3.fit(\n",
    "    X_train,\n",
    "    y_train,\n",
    "    batch_size=128,\n",
    "    epochs=30,\n",
    "    validation_split=0.2,\n",
    "    callbacks=[keras.callbacks.EarlyStopping(patience=5)]\n",
    ")"
   ]
  },
  {
   "cell_type": "code",
   "execution_count": 98,
   "metadata": {},
   "outputs": [
    {
     "name": "stdout",
     "output_type": "stream",
     "text": [
      "\u001b[1m94/94\u001b[0m \u001b[32m━━━━━━━━━━━━━━━━━━━━\u001b[0m\u001b[37m\u001b[0m \u001b[1m1s\u001b[0m 8ms/step - accuracy: 0.7800 - loss: 0.6974\n"
     ]
    }
   ],
   "source": [
    "results = model_3.evaluate(X_test, y_test)"
   ]
  },
  {
   "cell_type": "code",
   "execution_count": null,
   "metadata": {},
   "outputs": [],
   "source": []
  }
 ],
 "metadata": {
  "kernelspec": {
   "display_name": "Python 3",
   "language": "python",
   "name": "python3"
  },
  "language_info": {
   "codemirror_mode": {
    "name": "ipython",
    "version": 3
   },
   "file_extension": ".py",
   "mimetype": "text/x-python",
   "name": "python",
   "nbconvert_exporter": "python",
   "pygments_lexer": "ipython3",
   "version": "3.11.9"
  },
  "orig_nbformat": 4
 },
 "nbformat": 4,
 "nbformat_minor": 2
}
