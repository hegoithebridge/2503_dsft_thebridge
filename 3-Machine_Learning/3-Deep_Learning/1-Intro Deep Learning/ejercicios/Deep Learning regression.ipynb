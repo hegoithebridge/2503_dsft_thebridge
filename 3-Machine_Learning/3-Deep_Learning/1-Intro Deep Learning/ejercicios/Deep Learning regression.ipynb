{
 "cells": [
  {
   "attachments": {},
   "cell_type": "markdown",
   "metadata": {
    "id": "EIdT9iu_Z4Rb"
   },
   "source": [
    "# Regresion Basica: Predecir eficiencia de gasolina"
   ]
  },
  {
   "attachments": {},
   "cell_type": "markdown",
   "metadata": {},
   "source": [
    "Este libro usa el set de datos clasico [Auto MPG](https://archive.ics.uci.edu/ml/datasets/auto+mpg) y construye un modelo para predecir el consumo de vehiculos de 1970 y 1980. Para hacer esto proveeremos el modelo con una descripcion de muchos automoviles de ese periodo. Esta descripcion incluye atributos como: Cilindros, desplazamiento, potencia y peso.\n",
    "\n",
    "El objetivo de este ejercicio es predecir el target miles per galon (MPG), que vendría a representar las millas por galón de combustible.\n",
    "\n",
    "Este ejemplo usa el API `tf.keras` , revise [Esta Guia](https://www.tensorflow.org/guide/keras) para obtener mas detalles."
   ]
  },
  {
   "cell_type": "code",
   "execution_count": 6,
   "metadata": {},
   "outputs": [],
   "source": [
    "import numpy as np\n",
    "import pandas as pd\n",
    "import matplotlib.pyplot as plt\n",
    "import seaborn as sns\n",
    "from tensorflow import keras"
   ]
  },
  {
   "attachments": {},
   "cell_type": "markdown",
   "metadata": {
    "id": "F_72b0LCNbjx"
   },
   "source": [
    "## El set de Datos de MPG\n",
    "\n",
    "El set de datos esta disponible de el siguiente repositorio [UCI Machine Learning Repository](https://archive.ics.uci.edu/ml/)."
   ]
  },
  {
   "attachments": {},
   "cell_type": "markdown",
   "metadata": {
    "id": "gFh9ne3FZ-On"
   },
   "source": [
    "### Obtenga los datos\n",
    "Primero descargue el set de datos.\n",
    "keras.utils.get_file(\"auto-mpg.data\", \"https://archive.ics.uci.edu/ml/machine-learning-databases/auto-mpg/auto-mpg.data\")"
   ]
  },
  {
   "cell_type": "code",
   "execution_count": 7,
   "metadata": {},
   "outputs": [
    {
     "data": {
      "text/plain": [
       "'C:\\\\Users\\\\hegoi\\\\.keras\\\\datasets\\\\auto-mpg.data'"
      ]
     },
     "execution_count": 7,
     "metadata": {},
     "output_type": "execute_result"
    }
   ],
   "source": [
    "dataset = keras.utils.get_file(\"auto-mpg.data\", \"https://archive.ics.uci.edu/ml/machine-learning-databases/auto-mpg/auto-mpg.data\")\n",
    "dataset"
   ]
  },
  {
   "attachments": {},
   "cell_type": "markdown",
   "metadata": {
    "id": "nslsRLh7Zss4"
   },
   "source": [
    "Importelo usando pandas."
   ]
  },
  {
   "cell_type": "code",
   "execution_count": 8,
   "metadata": {},
   "outputs": [],
   "source": [
    "column_names = [\"MPG\", \"Cylinders\", \"Displacement\", \"Horsepower\", \"Weight\", \"Acceleration\", \"Model Year\", \"Origin\", \"Car name\"]"
   ]
  },
  {
   "cell_type": "code",
   "execution_count": 9,
   "metadata": {},
   "outputs": [
    {
     "name": "stderr",
     "output_type": "stream",
     "text": [
      "C:\\Users\\hegoi\\AppData\\Local\\Temp\\ipykernel_8032\\4045023703.py:1: FutureWarning: The 'delim_whitespace' keyword in pd.read_csv is deprecated and will be removed in a future version. Use ``sep='\\s+'`` instead\n",
      "  df = pd.read_csv(dataset, names=column_names, delim_whitespace=True)\n"
     ]
    },
    {
     "data": {
      "application/vnd.microsoft.datawrangler.viewer.v0+json": {
       "columns": [
        {
         "name": "index",
         "rawType": "int64",
         "type": "integer"
        },
        {
         "name": "MPG",
         "rawType": "float64",
         "type": "float"
        },
        {
         "name": "Cylinders",
         "rawType": "int64",
         "type": "integer"
        },
        {
         "name": "Displacement",
         "rawType": "float64",
         "type": "float"
        },
        {
         "name": "Horsepower",
         "rawType": "object",
         "type": "string"
        },
        {
         "name": "Weight",
         "rawType": "float64",
         "type": "float"
        },
        {
         "name": "Acceleration",
         "rawType": "float64",
         "type": "float"
        },
        {
         "name": "Model Year",
         "rawType": "int64",
         "type": "integer"
        },
        {
         "name": "Origin",
         "rawType": "int64",
         "type": "integer"
        },
        {
         "name": "Car name",
         "rawType": "object",
         "type": "string"
        }
       ],
       "conversionMethod": "pd.DataFrame",
       "ref": "7bafeed6-612e-4fd1-8f81-da3e45a0a474",
       "rows": [
        [
         "0",
         "18.0",
         "8",
         "307.0",
         "130.0",
         "3504.0",
         "12.0",
         "70",
         "1",
         "chevrolet chevelle malibu"
        ],
        [
         "1",
         "15.0",
         "8",
         "350.0",
         "165.0",
         "3693.0",
         "11.5",
         "70",
         "1",
         "buick skylark 320"
        ],
        [
         "2",
         "18.0",
         "8",
         "318.0",
         "150.0",
         "3436.0",
         "11.0",
         "70",
         "1",
         "plymouth satellite"
        ],
        [
         "3",
         "16.0",
         "8",
         "304.0",
         "150.0",
         "3433.0",
         "12.0",
         "70",
         "1",
         "amc rebel sst"
        ],
        [
         "4",
         "17.0",
         "8",
         "302.0",
         "140.0",
         "3449.0",
         "10.5",
         "70",
         "1",
         "ford torino"
        ],
        [
         "5",
         "15.0",
         "8",
         "429.0",
         "198.0",
         "4341.0",
         "10.0",
         "70",
         "1",
         "ford galaxie 500"
        ],
        [
         "6",
         "14.0",
         "8",
         "454.0",
         "220.0",
         "4354.0",
         "9.0",
         "70",
         "1",
         "chevrolet impala"
        ],
        [
         "7",
         "14.0",
         "8",
         "440.0",
         "215.0",
         "4312.0",
         "8.5",
         "70",
         "1",
         "plymouth fury iii"
        ],
        [
         "8",
         "14.0",
         "8",
         "455.0",
         "225.0",
         "4425.0",
         "10.0",
         "70",
         "1",
         "pontiac catalina"
        ],
        [
         "9",
         "15.0",
         "8",
         "390.0",
         "190.0",
         "3850.0",
         "8.5",
         "70",
         "1",
         "amc ambassador dpl"
        ],
        [
         "10",
         "15.0",
         "8",
         "383.0",
         "170.0",
         "3563.0",
         "10.0",
         "70",
         "1",
         "dodge challenger se"
        ],
        [
         "11",
         "14.0",
         "8",
         "340.0",
         "160.0",
         "3609.0",
         "8.0",
         "70",
         "1",
         "plymouth 'cuda 340"
        ],
        [
         "12",
         "15.0",
         "8",
         "400.0",
         "150.0",
         "3761.0",
         "9.5",
         "70",
         "1",
         "chevrolet monte carlo"
        ],
        [
         "13",
         "14.0",
         "8",
         "455.0",
         "225.0",
         "3086.0",
         "10.0",
         "70",
         "1",
         "buick estate wagon (sw)"
        ],
        [
         "14",
         "24.0",
         "4",
         "113.0",
         "95.00",
         "2372.0",
         "15.0",
         "70",
         "3",
         "toyota corona mark ii"
        ],
        [
         "15",
         "22.0",
         "6",
         "198.0",
         "95.00",
         "2833.0",
         "15.5",
         "70",
         "1",
         "plymouth duster"
        ],
        [
         "16",
         "18.0",
         "6",
         "199.0",
         "97.00",
         "2774.0",
         "15.5",
         "70",
         "1",
         "amc hornet"
        ],
        [
         "17",
         "21.0",
         "6",
         "200.0",
         "85.00",
         "2587.0",
         "16.0",
         "70",
         "1",
         "ford maverick"
        ],
        [
         "18",
         "27.0",
         "4",
         "97.0",
         "88.00",
         "2130.0",
         "14.5",
         "70",
         "3",
         "datsun pl510"
        ],
        [
         "19",
         "26.0",
         "4",
         "97.0",
         "46.00",
         "1835.0",
         "20.5",
         "70",
         "2",
         "volkswagen 1131 deluxe sedan"
        ],
        [
         "20",
         "25.0",
         "4",
         "110.0",
         "87.00",
         "2672.0",
         "17.5",
         "70",
         "2",
         "peugeot 504"
        ],
        [
         "21",
         "24.0",
         "4",
         "107.0",
         "90.00",
         "2430.0",
         "14.5",
         "70",
         "2",
         "audi 100 ls"
        ],
        [
         "22",
         "25.0",
         "4",
         "104.0",
         "95.00",
         "2375.0",
         "17.5",
         "70",
         "2",
         "saab 99e"
        ],
        [
         "23",
         "26.0",
         "4",
         "121.0",
         "113.0",
         "2234.0",
         "12.5",
         "70",
         "2",
         "bmw 2002"
        ],
        [
         "24",
         "21.0",
         "6",
         "199.0",
         "90.00",
         "2648.0",
         "15.0",
         "70",
         "1",
         "amc gremlin"
        ],
        [
         "25",
         "10.0",
         "8",
         "360.0",
         "215.0",
         "4615.0",
         "14.0",
         "70",
         "1",
         "ford f250"
        ],
        [
         "26",
         "10.0",
         "8",
         "307.0",
         "200.0",
         "4376.0",
         "15.0",
         "70",
         "1",
         "chevy c20"
        ],
        [
         "27",
         "11.0",
         "8",
         "318.0",
         "210.0",
         "4382.0",
         "13.5",
         "70",
         "1",
         "dodge d200"
        ],
        [
         "28",
         "9.0",
         "8",
         "304.0",
         "193.0",
         "4732.0",
         "18.5",
         "70",
         "1",
         "hi 1200d"
        ],
        [
         "29",
         "27.0",
         "4",
         "97.0",
         "88.00",
         "2130.0",
         "14.5",
         "71",
         "3",
         "datsun pl510"
        ],
        [
         "30",
         "28.0",
         "4",
         "140.0",
         "90.00",
         "2264.0",
         "15.5",
         "71",
         "1",
         "chevrolet vega 2300"
        ],
        [
         "31",
         "25.0",
         "4",
         "113.0",
         "95.00",
         "2228.0",
         "14.0",
         "71",
         "3",
         "toyota corona"
        ],
        [
         "32",
         "25.0",
         "4",
         "98.0",
         "?",
         "2046.0",
         "19.0",
         "71",
         "1",
         "ford pinto"
        ],
        [
         "33",
         "19.0",
         "6",
         "232.0",
         "100.0",
         "2634.0",
         "13.0",
         "71",
         "1",
         "amc gremlin"
        ],
        [
         "34",
         "16.0",
         "6",
         "225.0",
         "105.0",
         "3439.0",
         "15.5",
         "71",
         "1",
         "plymouth satellite custom"
        ],
        [
         "35",
         "17.0",
         "6",
         "250.0",
         "100.0",
         "3329.0",
         "15.5",
         "71",
         "1",
         "chevrolet chevelle malibu"
        ],
        [
         "36",
         "19.0",
         "6",
         "250.0",
         "88.00",
         "3302.0",
         "15.5",
         "71",
         "1",
         "ford torino 500"
        ],
        [
         "37",
         "18.0",
         "6",
         "232.0",
         "100.0",
         "3288.0",
         "15.5",
         "71",
         "1",
         "amc matador"
        ],
        [
         "38",
         "14.0",
         "8",
         "350.0",
         "165.0",
         "4209.0",
         "12.0",
         "71",
         "1",
         "chevrolet impala"
        ],
        [
         "39",
         "14.0",
         "8",
         "400.0",
         "175.0",
         "4464.0",
         "11.5",
         "71",
         "1",
         "pontiac catalina brougham"
        ],
        [
         "40",
         "14.0",
         "8",
         "351.0",
         "153.0",
         "4154.0",
         "13.5",
         "71",
         "1",
         "ford galaxie 500"
        ],
        [
         "41",
         "14.0",
         "8",
         "318.0",
         "150.0",
         "4096.0",
         "13.0",
         "71",
         "1",
         "plymouth fury iii"
        ],
        [
         "42",
         "12.0",
         "8",
         "383.0",
         "180.0",
         "4955.0",
         "11.5",
         "71",
         "1",
         "dodge monaco (sw)"
        ],
        [
         "43",
         "13.0",
         "8",
         "400.0",
         "170.0",
         "4746.0",
         "12.0",
         "71",
         "1",
         "ford country squire (sw)"
        ],
        [
         "44",
         "13.0",
         "8",
         "400.0",
         "175.0",
         "5140.0",
         "12.0",
         "71",
         "1",
         "pontiac safari (sw)"
        ],
        [
         "45",
         "18.0",
         "6",
         "258.0",
         "110.0",
         "2962.0",
         "13.5",
         "71",
         "1",
         "amc hornet sportabout (sw)"
        ],
        [
         "46",
         "22.0",
         "4",
         "140.0",
         "72.00",
         "2408.0",
         "19.0",
         "71",
         "1",
         "chevrolet vega (sw)"
        ],
        [
         "47",
         "19.0",
         "6",
         "250.0",
         "100.0",
         "3282.0",
         "15.0",
         "71",
         "1",
         "pontiac firebird"
        ],
        [
         "48",
         "18.0",
         "6",
         "250.0",
         "88.00",
         "3139.0",
         "14.5",
         "71",
         "1",
         "ford mustang"
        ],
        [
         "49",
         "23.0",
         "4",
         "122.0",
         "86.00",
         "2220.0",
         "14.0",
         "71",
         "1",
         "mercury capri 2000"
        ]
       ],
       "shape": {
        "columns": 9,
        "rows": 398
       }
      },
      "text/html": [
       "<div>\n",
       "<style scoped>\n",
       "    .dataframe tbody tr th:only-of-type {\n",
       "        vertical-align: middle;\n",
       "    }\n",
       "\n",
       "    .dataframe tbody tr th {\n",
       "        vertical-align: top;\n",
       "    }\n",
       "\n",
       "    .dataframe thead th {\n",
       "        text-align: right;\n",
       "    }\n",
       "</style>\n",
       "<table border=\"1\" class=\"dataframe\">\n",
       "  <thead>\n",
       "    <tr style=\"text-align: right;\">\n",
       "      <th></th>\n",
       "      <th>MPG</th>\n",
       "      <th>Cylinders</th>\n",
       "      <th>Displacement</th>\n",
       "      <th>Horsepower</th>\n",
       "      <th>Weight</th>\n",
       "      <th>Acceleration</th>\n",
       "      <th>Model Year</th>\n",
       "      <th>Origin</th>\n",
       "      <th>Car name</th>\n",
       "    </tr>\n",
       "  </thead>\n",
       "  <tbody>\n",
       "    <tr>\n",
       "      <th>0</th>\n",
       "      <td>18.0</td>\n",
       "      <td>8</td>\n",
       "      <td>307.0</td>\n",
       "      <td>130.0</td>\n",
       "      <td>3504.0</td>\n",
       "      <td>12.0</td>\n",
       "      <td>70</td>\n",
       "      <td>1</td>\n",
       "      <td>chevrolet chevelle malibu</td>\n",
       "    </tr>\n",
       "    <tr>\n",
       "      <th>1</th>\n",
       "      <td>15.0</td>\n",
       "      <td>8</td>\n",
       "      <td>350.0</td>\n",
       "      <td>165.0</td>\n",
       "      <td>3693.0</td>\n",
       "      <td>11.5</td>\n",
       "      <td>70</td>\n",
       "      <td>1</td>\n",
       "      <td>buick skylark 320</td>\n",
       "    </tr>\n",
       "    <tr>\n",
       "      <th>2</th>\n",
       "      <td>18.0</td>\n",
       "      <td>8</td>\n",
       "      <td>318.0</td>\n",
       "      <td>150.0</td>\n",
       "      <td>3436.0</td>\n",
       "      <td>11.0</td>\n",
       "      <td>70</td>\n",
       "      <td>1</td>\n",
       "      <td>plymouth satellite</td>\n",
       "    </tr>\n",
       "    <tr>\n",
       "      <th>3</th>\n",
       "      <td>16.0</td>\n",
       "      <td>8</td>\n",
       "      <td>304.0</td>\n",
       "      <td>150.0</td>\n",
       "      <td>3433.0</td>\n",
       "      <td>12.0</td>\n",
       "      <td>70</td>\n",
       "      <td>1</td>\n",
       "      <td>amc rebel sst</td>\n",
       "    </tr>\n",
       "    <tr>\n",
       "      <th>4</th>\n",
       "      <td>17.0</td>\n",
       "      <td>8</td>\n",
       "      <td>302.0</td>\n",
       "      <td>140.0</td>\n",
       "      <td>3449.0</td>\n",
       "      <td>10.5</td>\n",
       "      <td>70</td>\n",
       "      <td>1</td>\n",
       "      <td>ford torino</td>\n",
       "    </tr>\n",
       "    <tr>\n",
       "      <th>...</th>\n",
       "      <td>...</td>\n",
       "      <td>...</td>\n",
       "      <td>...</td>\n",
       "      <td>...</td>\n",
       "      <td>...</td>\n",
       "      <td>...</td>\n",
       "      <td>...</td>\n",
       "      <td>...</td>\n",
       "      <td>...</td>\n",
       "    </tr>\n",
       "    <tr>\n",
       "      <th>393</th>\n",
       "      <td>27.0</td>\n",
       "      <td>4</td>\n",
       "      <td>140.0</td>\n",
       "      <td>86.00</td>\n",
       "      <td>2790.0</td>\n",
       "      <td>15.6</td>\n",
       "      <td>82</td>\n",
       "      <td>1</td>\n",
       "      <td>ford mustang gl</td>\n",
       "    </tr>\n",
       "    <tr>\n",
       "      <th>394</th>\n",
       "      <td>44.0</td>\n",
       "      <td>4</td>\n",
       "      <td>97.0</td>\n",
       "      <td>52.00</td>\n",
       "      <td>2130.0</td>\n",
       "      <td>24.6</td>\n",
       "      <td>82</td>\n",
       "      <td>2</td>\n",
       "      <td>vw pickup</td>\n",
       "    </tr>\n",
       "    <tr>\n",
       "      <th>395</th>\n",
       "      <td>32.0</td>\n",
       "      <td>4</td>\n",
       "      <td>135.0</td>\n",
       "      <td>84.00</td>\n",
       "      <td>2295.0</td>\n",
       "      <td>11.6</td>\n",
       "      <td>82</td>\n",
       "      <td>1</td>\n",
       "      <td>dodge rampage</td>\n",
       "    </tr>\n",
       "    <tr>\n",
       "      <th>396</th>\n",
       "      <td>28.0</td>\n",
       "      <td>4</td>\n",
       "      <td>120.0</td>\n",
       "      <td>79.00</td>\n",
       "      <td>2625.0</td>\n",
       "      <td>18.6</td>\n",
       "      <td>82</td>\n",
       "      <td>1</td>\n",
       "      <td>ford ranger</td>\n",
       "    </tr>\n",
       "    <tr>\n",
       "      <th>397</th>\n",
       "      <td>31.0</td>\n",
       "      <td>4</td>\n",
       "      <td>119.0</td>\n",
       "      <td>82.00</td>\n",
       "      <td>2720.0</td>\n",
       "      <td>19.4</td>\n",
       "      <td>82</td>\n",
       "      <td>1</td>\n",
       "      <td>chevy s-10</td>\n",
       "    </tr>\n",
       "  </tbody>\n",
       "</table>\n",
       "<p>398 rows × 9 columns</p>\n",
       "</div>"
      ],
      "text/plain": [
       "      MPG  Cylinders  Displacement Horsepower  Weight  Acceleration  \\\n",
       "0    18.0          8         307.0      130.0  3504.0          12.0   \n",
       "1    15.0          8         350.0      165.0  3693.0          11.5   \n",
       "2    18.0          8         318.0      150.0  3436.0          11.0   \n",
       "3    16.0          8         304.0      150.0  3433.0          12.0   \n",
       "4    17.0          8         302.0      140.0  3449.0          10.5   \n",
       "..    ...        ...           ...        ...     ...           ...   \n",
       "393  27.0          4         140.0      86.00  2790.0          15.6   \n",
       "394  44.0          4          97.0      52.00  2130.0          24.6   \n",
       "395  32.0          4         135.0      84.00  2295.0          11.6   \n",
       "396  28.0          4         120.0      79.00  2625.0          18.6   \n",
       "397  31.0          4         119.0      82.00  2720.0          19.4   \n",
       "\n",
       "     Model Year  Origin                   Car name  \n",
       "0            70       1  chevrolet chevelle malibu  \n",
       "1            70       1          buick skylark 320  \n",
       "2            70       1         plymouth satellite  \n",
       "3            70       1              amc rebel sst  \n",
       "4            70       1                ford torino  \n",
       "..          ...     ...                        ...  \n",
       "393          82       1            ford mustang gl  \n",
       "394          82       2                  vw pickup  \n",
       "395          82       1              dodge rampage  \n",
       "396          82       1                ford ranger  \n",
       "397          82       1                 chevy s-10  \n",
       "\n",
       "[398 rows x 9 columns]"
      ]
     },
     "execution_count": 9,
     "metadata": {},
     "output_type": "execute_result"
    }
   ],
   "source": [
    "df = pd.read_csv(dataset, names=column_names, delim_whitespace=True)\n",
    "df"
   ]
  },
  {
   "attachments": {},
   "cell_type": "markdown",
   "metadata": {
    "id": "3MWuJTKEDM-f"
   },
   "source": [
    "### Limpia los datos\n",
    "\n",
    "Trata los missings y variables categóricas"
   ]
  },
  {
   "attachments": {},
   "cell_type": "markdown",
   "metadata": {
    "id": "Cuym4yvk76vU"
   },
   "source": [
    "### Divide los datos en train y test\n",
    "\n",
    "Ahora divida el set de datos en un set de entrenamiento y otro de pruebas. 80% para entrenamiento\n",
    "\n",
    "Usaremos el set de pruebas en la evaluacion final de nuestro modelo.\n",
    "\n",
    "NOTA: El resultado tienen que ser dos datasets"
   ]
  },
  {
   "cell_type": "code",
   "execution_count": 24,
   "metadata": {},
   "outputs": [
    {
     "data": {
      "application/vnd.microsoft.datawrangler.viewer.v0+json": {
       "columns": [
        {
         "name": "index",
         "rawType": "int64",
         "type": "integer"
        },
        {
         "name": "MPG",
         "rawType": "float64",
         "type": "float"
        },
        {
         "name": "Cylinders",
         "rawType": "int64",
         "type": "integer"
        },
        {
         "name": "Displacement",
         "rawType": "float64",
         "type": "float"
        },
        {
         "name": "Horsepower",
         "rawType": "float64",
         "type": "float"
        },
        {
         "name": "Weight",
         "rawType": "float64",
         "type": "float"
        },
        {
         "name": "Acceleration",
         "rawType": "float64",
         "type": "float"
        },
        {
         "name": "Model Year",
         "rawType": "int64",
         "type": "integer"
        },
        {
         "name": "Origin",
         "rawType": "int64",
         "type": "integer"
        },
        {
         "name": "Car name",
         "rawType": "object",
         "type": "string"
        },
        {
         "name": "USA",
         "rawType": "int64",
         "type": "integer"
        },
        {
         "name": "Europe",
         "rawType": "int64",
         "type": "integer"
        },
        {
         "name": "Japan",
         "rawType": "int64",
         "type": "integer"
        },
        {
         "name": "Marca",
         "rawType": "object",
         "type": "string"
        },
        {
         "name": "le_marca",
         "rawType": "int64",
         "type": "integer"
        }
       ],
       "conversionMethod": "pd.DataFrame",
       "ref": "90141c77-8e32-47b2-a1d2-455380cb5b4e",
       "rows": [
        [
         "0",
         "18.0",
         "8",
         "307.0",
         "130.0",
         "3504.0",
         "12.0",
         "70",
         "1",
         "chevrolet chevelle malibu",
         "1",
         "0",
         "0",
         "chevrolet",
         "11"
        ],
        [
         "1",
         "15.0",
         "8",
         "350.0",
         "165.0",
         "3693.0",
         "11.5",
         "70",
         "1",
         "buick skylark 320",
         "1",
         "0",
         "0",
         "buick",
         "7"
        ],
        [
         "2",
         "18.0",
         "8",
         "318.0",
         "150.0",
         "3436.0",
         "11.0",
         "70",
         "1",
         "plymouth satellite",
         "1",
         "0",
         "0",
         "plymouth",
         "14"
        ],
        [
         "3",
         "16.0",
         "8",
         "304.0",
         "150.0",
         "3433.0",
         "12.0",
         "70",
         "1",
         "amc rebel sst",
         "1",
         "0",
         "0",
         "amc",
         "5"
        ],
        [
         "4",
         "17.0",
         "8",
         "302.0",
         "140.0",
         "3449.0",
         "10.5",
         "70",
         "1",
         "ford torino",
         "1",
         "0",
         "0",
         "ford",
         "8"
        ]
       ],
       "shape": {
        "columns": 14,
        "rows": 5
       }
      },
      "text/html": [
       "<div>\n",
       "<style scoped>\n",
       "    .dataframe tbody tr th:only-of-type {\n",
       "        vertical-align: middle;\n",
       "    }\n",
       "\n",
       "    .dataframe tbody tr th {\n",
       "        vertical-align: top;\n",
       "    }\n",
       "\n",
       "    .dataframe thead th {\n",
       "        text-align: right;\n",
       "    }\n",
       "</style>\n",
       "<table border=\"1\" class=\"dataframe\">\n",
       "  <thead>\n",
       "    <tr style=\"text-align: right;\">\n",
       "      <th></th>\n",
       "      <th>MPG</th>\n",
       "      <th>Cylinders</th>\n",
       "      <th>Displacement</th>\n",
       "      <th>Horsepower</th>\n",
       "      <th>Weight</th>\n",
       "      <th>Acceleration</th>\n",
       "      <th>Model Year</th>\n",
       "      <th>Origin</th>\n",
       "      <th>Car name</th>\n",
       "      <th>USA</th>\n",
       "      <th>Europe</th>\n",
       "      <th>Japan</th>\n",
       "      <th>Marca</th>\n",
       "      <th>le_marca</th>\n",
       "    </tr>\n",
       "  </thead>\n",
       "  <tbody>\n",
       "    <tr>\n",
       "      <th>0</th>\n",
       "      <td>18.0</td>\n",
       "      <td>8</td>\n",
       "      <td>307.0</td>\n",
       "      <td>130.0</td>\n",
       "      <td>3504.0</td>\n",
       "      <td>12.0</td>\n",
       "      <td>70</td>\n",
       "      <td>1</td>\n",
       "      <td>chevrolet chevelle malibu</td>\n",
       "      <td>1</td>\n",
       "      <td>0</td>\n",
       "      <td>0</td>\n",
       "      <td>chevrolet</td>\n",
       "      <td>11</td>\n",
       "    </tr>\n",
       "    <tr>\n",
       "      <th>1</th>\n",
       "      <td>15.0</td>\n",
       "      <td>8</td>\n",
       "      <td>350.0</td>\n",
       "      <td>165.0</td>\n",
       "      <td>3693.0</td>\n",
       "      <td>11.5</td>\n",
       "      <td>70</td>\n",
       "      <td>1</td>\n",
       "      <td>buick skylark 320</td>\n",
       "      <td>1</td>\n",
       "      <td>0</td>\n",
       "      <td>0</td>\n",
       "      <td>buick</td>\n",
       "      <td>7</td>\n",
       "    </tr>\n",
       "    <tr>\n",
       "      <th>2</th>\n",
       "      <td>18.0</td>\n",
       "      <td>8</td>\n",
       "      <td>318.0</td>\n",
       "      <td>150.0</td>\n",
       "      <td>3436.0</td>\n",
       "      <td>11.0</td>\n",
       "      <td>70</td>\n",
       "      <td>1</td>\n",
       "      <td>plymouth satellite</td>\n",
       "      <td>1</td>\n",
       "      <td>0</td>\n",
       "      <td>0</td>\n",
       "      <td>plymouth</td>\n",
       "      <td>14</td>\n",
       "    </tr>\n",
       "    <tr>\n",
       "      <th>3</th>\n",
       "      <td>16.0</td>\n",
       "      <td>8</td>\n",
       "      <td>304.0</td>\n",
       "      <td>150.0</td>\n",
       "      <td>3433.0</td>\n",
       "      <td>12.0</td>\n",
       "      <td>70</td>\n",
       "      <td>1</td>\n",
       "      <td>amc rebel sst</td>\n",
       "      <td>1</td>\n",
       "      <td>0</td>\n",
       "      <td>0</td>\n",
       "      <td>amc</td>\n",
       "      <td>5</td>\n",
       "    </tr>\n",
       "    <tr>\n",
       "      <th>4</th>\n",
       "      <td>17.0</td>\n",
       "      <td>8</td>\n",
       "      <td>302.0</td>\n",
       "      <td>140.0</td>\n",
       "      <td>3449.0</td>\n",
       "      <td>10.5</td>\n",
       "      <td>70</td>\n",
       "      <td>1</td>\n",
       "      <td>ford torino</td>\n",
       "      <td>1</td>\n",
       "      <td>0</td>\n",
       "      <td>0</td>\n",
       "      <td>ford</td>\n",
       "      <td>8</td>\n",
       "    </tr>\n",
       "  </tbody>\n",
       "</table>\n",
       "</div>"
      ],
      "text/plain": [
       "    MPG  Cylinders  Displacement  Horsepower  Weight  Acceleration  \\\n",
       "0  18.0          8         307.0       130.0  3504.0          12.0   \n",
       "1  15.0          8         350.0       165.0  3693.0          11.5   \n",
       "2  18.0          8         318.0       150.0  3436.0          11.0   \n",
       "3  16.0          8         304.0       150.0  3433.0          12.0   \n",
       "4  17.0          8         302.0       140.0  3449.0          10.5   \n",
       "\n",
       "   Model Year  Origin                   Car name  USA  Europe  Japan  \\\n",
       "0          70       1  chevrolet chevelle malibu    1       0      0   \n",
       "1          70       1          buick skylark 320    1       0      0   \n",
       "2          70       1         plymouth satellite    1       0      0   \n",
       "3          70       1              amc rebel sst    1       0      0   \n",
       "4          70       1                ford torino    1       0      0   \n",
       "\n",
       "       Marca  le_marca  \n",
       "0  chevrolet        11  \n",
       "1      buick         7  \n",
       "2   plymouth        14  \n",
       "3        amc         5  \n",
       "4       ford         8  "
      ]
     },
     "execution_count": 24,
     "metadata": {},
     "output_type": "execute_result"
    }
   ],
   "source": [
    "# df.drop(columns=[\"Car name\", \"Origin\", \"Marca\"], inplace=True)\n",
    "df.head()"
   ]
  },
  {
   "attachments": {},
   "cell_type": "markdown",
   "metadata": {
    "id": "J4ubs136WLNp"
   },
   "source": [
    "### Inspecciona los datos\n",
    "\n",
    "Revise rapidamente la distribucion conjunta del dataset de entrenamiento mediante un grid de gráficos"
   ]
  },
  {
   "attachments": {},
   "cell_type": "markdown",
   "metadata": {
    "id": "gavKO_6DWRMP"
   },
   "source": [
    "Tambien revise las estadisticas generales:"
   ]
  },
  {
   "attachments": {},
   "cell_type": "markdown",
   "metadata": {
    "id": "Db7Auq1yXUvh"
   },
   "source": [
    "### Separa las features del target\n",
    "\n",
    "Separe el target de las features."
   ]
  },
  {
   "attachments": {},
   "cell_type": "markdown",
   "metadata": {
    "id": "mRklxK5s388r"
   },
   "source": [
    "### Estandariza los datos"
   ]
  },
  {
   "attachments": {},
   "cell_type": "markdown",
   "metadata": {
    "id": "-ywmerQ6dSox"
   },
   "source": [
    "Es una buena práctica estandarizar funciones que utilizan diferentes escalas y rangos. Aunque el modelo podría converger sin estandarizar, dificulta el entrenamiento y hace que el modelo resultante dependa de la elección de las unidades utilizadas en la entrada."
   ]
  },
  {
   "attachments": {},
   "cell_type": "markdown",
   "metadata": {
    "id": "BuiClDk45eS4"
   },
   "source": [
    "Estos datos estandarizados es lo que usaremos para entrenar el modelo."
   ]
  },
  {
   "attachments": {},
   "cell_type": "markdown",
   "metadata": {
    "id": "SmjdzxKzEu1-"
   },
   "source": [
    "## El modelo"
   ]
  },
  {
   "attachments": {},
   "cell_type": "markdown",
   "metadata": {
    "id": "6SWtkIjhrZwa"
   },
   "source": [
    "### Construye el modelo\n",
    "\n",
    "Construyamos nuestro modelo. Aquí, utilizaremos un modelo `secuencial` con dos capas ocultas densamente conectadas y una capa de salida que devuelve un único valor continuo.\n",
    "\n",
    "Por tanto, tendrá tres capas. Una de entrada con activación relu. Otra hidden layer con activación relu y la de salida de regresión, que se compondrá de una única neurona. Pon las neuronas que consideres para las dos primeras capas.\n",
    "\n",
    "Para el compile utiliza un loss='mse'.\n",
    "\n",
    "optimizer = `tf.keras.optimizers.RMSprop(0.001)`\n",
    "\n",
    "Y en metrics añade en una lista el `mae` y `mse`."
   ]
  },
  {
   "attachments": {},
   "cell_type": "markdown",
   "metadata": {
    "id": "Sj49Og4YGULr"
   },
   "source": [
    "### Inspeccione el modelo\n",
    "\n",
    "Use el método `.summary` para imprimir una descripción simple del modelo"
   ]
  },
  {
   "attachments": {},
   "cell_type": "markdown",
   "metadata": {
    "id": "0-qWCsh6DlyH"
   },
   "source": [
    "### Entrenar el modelo\n",
    "\n",
    "Entrene el modelo para 1000 epochs y guarda los resultados del entrenamiento en una variable llamada `history`.\n",
    "Emplea en el entrenamiento un 20% de los datos para validación, mediante el argumento `validation_split`.\n",
    "\n",
    "NOTA: recuerda usar los datos normalizados."
   ]
  },
  {
   "attachments": {},
   "cell_type": "markdown",
   "metadata": {
    "id": "tQm3pc0FYPQB"
   },
   "source": [
    "Visualice el progreso de entrenamiento del modelo usando las estadísticas almacenadas en el objeto `history`."
   ]
  },
  {
   "attachments": {},
   "cell_type": "markdown",
   "metadata": {},
   "source": [
    "¿Alguna conclusión respecto a este gráfico?"
   ]
  },
  {
   "cell_type": "markdown",
   "metadata": {},
   "source": [
    "Earlystopping me ha ayudado a detener el entrenamiento para no caer en overfitting, también para ahorrar recursos innecesarios."
   ]
  },
  {
   "attachments": {},
   "cell_type": "markdown",
   "metadata": {},
   "source": [
    "Observamos que si le damos muchas epochs al entrenamiento tiende a un overfitting, siendo el error en validación cada vez más alto. Sería interesante utilizar un número aprox de 30 epochs"
   ]
  },
  {
   "attachments": {},
   "cell_type": "markdown",
   "metadata": {},
   "source": [
    "Añade un early stopping al modelo. Pon el argumento `callbacks=[keras.callbacks.EarlyStopping(monitor='val_loss', patience=10)]` dentro del fit().\n",
    "\n",
    "Visualiza el progreso de entrenamiento."
   ]
  },
  {
   "attachments": {},
   "cell_type": "markdown",
   "metadata": {},
   "source": [
    "Interpreta el gráfico"
   ]
  },
  {
   "attachments": {},
   "cell_type": "markdown",
   "metadata": {
    "id": "3St8-DmrX8P4"
   },
   "source": [
    "Veamos qué tan bien generaliza el modelo al usar el conjunto de **test**. Esto nos dice qué tan bien podemos esperar que el modelo prediga cuándo lo usamos en el mundo real. Utiliza el método `evaluate` con los datos de test normalizados y sus labels.\n",
    "\n",
    "Con el método evaluate devolverá tres valores: loss, mae y mse."
   ]
  },
  {
   "attachments": {},
   "cell_type": "markdown",
   "metadata": {
    "id": "Vt6W50qGsJAL"
   },
   "source": [
    "Ahora prueba el modelo. Coge 10 ejemplos de test y llama a` model.predict`."
   ]
  },
  {
   "attachments": {},
   "cell_type": "markdown",
   "metadata": {
    "id": "ft603OzXuEZC"
   },
   "source": [
    "### Haz Predicciones\n",
    "\n",
    "Dibuja en un scatter plot las predicciones de test vs sus true labels."
   ]
  },
  {
   "attachments": {},
   "cell_type": "markdown",
   "metadata": {
    "id": "19wyogbOSU5t"
   },
   "source": [
    "Parece que nuestro modelo predice razonablemente bien. Echemos un vistazo a la distribución de errores.\n",
    "\n",
    "Representa los residuos en un histograma"
   ]
  },
  {
   "attachments": {},
   "cell_type": "markdown",
   "metadata": {
    "id": "m0CB5tBjSU5w"
   },
   "source": [
    "No es del todo gaussiano, pero podríamos esperar eso porque el número de muestras es muy pequeño."
   ]
  },
  {
   "attachments": {},
   "cell_type": "markdown",
   "metadata": {},
   "source": [
    "Guarda tu modelo en un archivo."
   ]
  },
  {
   "attachments": {},
   "cell_type": "markdown",
   "metadata": {
    "id": "vgGQuV-yqYZH"
   },
   "source": [
    "## Conclusion"
   ]
  },
  {
   "cell_type": "markdown",
   "metadata": {},
   "source": []
  }
 ],
 "metadata": {
  "colab": {
   "collapsed_sections": [],
   "name": "regression.ipynb",
   "toc_visible": true
  },
  "kernelspec": {
   "display_name": "Python 3",
   "language": "python",
   "name": "python3"
  },
  "language_info": {
   "codemirror_mode": {
    "name": "ipython",
    "version": 3
   },
   "file_extension": ".py",
   "mimetype": "text/x-python",
   "name": "python",
   "nbconvert_exporter": "python",
   "pygments_lexer": "ipython3",
   "version": "3.11.9"
  }
 },
 "nbformat": 4,
 "nbformat_minor": 4
}
